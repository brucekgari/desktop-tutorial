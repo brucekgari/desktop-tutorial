{
 "cells": [
  {
   "cell_type": "markdown",
   "id": "1bd9346c",
   "metadata": {},
   "source": [
    "# SQL Joins\n",
    "\n",
    "In this webinar we will be reviewing SQL joins - the different type of joins, how they work in theory, and a couple of exercises to get used to using them. The joins we will be looking at are: \n",
    "\n",
    "- INNER JOIN\n",
    "- LEFT JOIN\n",
    "- RIGHT JOIN (brief)\n",
    "- FULL OUTER JOIN\n",
    "- CROSS JOIN"
   ]
  },
  {
   "cell_type": "markdown",
   "id": "0a4d6933",
   "metadata": {},
   "source": [
    "## What are 'joins'?\n",
    "\n",
    "SQL Joins are used to combine data or rows from two or more tables based on a common field between them. Say we need information from two different tables, and we want to return this information in one output from a query. We need to think about how these two tables are linked, so that we can display the information we need. \n",
    "\n",
    "Tables are combined using primary and foreign keys of the tables. Reminder:\n",
    "- A primary key is a column or group of columns in a table that uniquely identifies each row in that table. e.g student number, id number.\n",
    "- A foreign key is a column or group of columns in a relational database table that provides a link between data in two tables. It is a column (or columns) that references a column (most often the primary key) of another table.\n",
    "\n",
    "The general syntax of a JOIN statement is as follows:\n",
    "\n",
    "```sql\n",
    "SELECT column(s)\n",
    "FROM table1\n",
    "<join_type> JOIN table2\n",
    "ON table1.key = table2.key\n",
    "```"
   ]
  },
  {
   "cell_type": "markdown",
   "id": "6a597b91",
   "metadata": {},
   "source": [
    "## Inner Join\n",
    "\n",
    "An inner join is the same as returning the INTERSECT of two tables. We are returning rows that have matching values along a particular column in BOTH tables we are referencing:\n",
    "\n",
    "![](https://i.ibb.co/kJPyJh8/Inner.png)"
   ]
  },
  {
   "cell_type": "markdown",
   "id": "956405cf",
   "metadata": {},
   "source": [
    "```sql\n",
    "SELECT Names.id, Names.name, Streams.stream\n",
    "FROM Names\n",
    "INNER JOIN Streams\n",
    "ON Names.id = Streams.id;\n",
    "```"
   ]
  },
  {
   "cell_type": "markdown",
   "id": "7d54611d",
   "metadata": {},
   "source": [
    "## Left Join\n",
    "\n",
    "When joining two tables, a LEFT JOIN returns all records from the left table and matched records from the right table.\n",
    "\n",
    "If no match is found in the right table, then the result from the right table is NULL on that row.\n",
    "\n",
    "\n",
    "![](https://i.ibb.co/9tK7ZwH/SQL-Joins-Left-Outer-Join.png)"
   ]
  },
  {
   "cell_type": "markdown",
   "id": "a1d7315d",
   "metadata": {},
   "source": [
    "```sql\n",
    "SELECT Names.id, Names.name, Streams.stream\n",
    "FROM Names\n",
    "LEFT JOIN Streams\n",
    "ON Names.id = Streams.id;\n",
    "```"
   ]
  },
  {
   "cell_type": "markdown",
   "id": "59306957",
   "metadata": {},
   "source": [
    "## Right Join\n",
    "\n",
    "`RIGHT JOIN` is not supported in SQLite - however, a right join works in the opposite way to a left join. It will return all records from the right table, and matched records from the left table - if no match is found in the left table, then the result from the left table will be NULL on that row.\n",
    "\n",
    "We can easily rearrange a right join to use a LEFT JOIN statement instead, simply by swapping where we place each of the tables in our query"
   ]
  },
  {
   "cell_type": "markdown",
   "id": "f35313bc",
   "metadata": {},
   "source": [
    "## Full Outer Join (also 'Full Join')\n",
    "\n",
    "A `FULL JOIN` is also not supported in SQLite, however it works the same as getting the UNION of our tables. A full join will return all the rows from both tables, with NULL values for non-matching rows. We can imitate the working of a full join by using `LEFT JOIN`s and the `UNION ALL` operator\n",
    "\n",
    "![](https://i.ibb.co/F89sQpL/SQL-Joins-Full-Outer-Join.png)"
   ]
  },
  {
   "cell_type": "markdown",
   "id": "53ab778e",
   "metadata": {},
   "source": [
    "```sql\n",
    "SELECT Names.id, Names.name, Streams.stream\n",
    "FROM Names\n",
    "FULL OUTER JOIN Streams\n",
    "ON Names.id = Streams.id;\n",
    "```"
   ]
  },
  {
   "cell_type": "markdown",
   "id": "ca1b6260",
   "metadata": {},
   "source": [
    "Using the UNION ALL operator...\n",
    "\n",
    "\n",
    "```sql\n",
    "SELECT Names.id, Names.name, Streams.stream\n",
    "FROM Names\n",
    "LEFT JOIN Streams\n",
    "    ON Names.id = Streams.id\n",
    "\n",
    "UNION ALL\n",
    "\n",
    "SELECT Names.id, Names.name, Streams.stream\n",
    "FROM Streams \n",
    "LEFT JOIN Names\n",
    "    ON Names.id = Streams.id\n",
    "```"
   ]
  },
  {
   "cell_type": "markdown",
   "id": "3bb50934",
   "metadata": {},
   "source": [
    "## Cross Join\n",
    "\n",
    "The `CROSS JOIN` of two or more tables is similar to taking their cartesian product. The result is a set of rows containing all possible ordered combinations of rows from the two tables.\n",
    "\n",
    "![](https://i.ibb.co/BPhDn1H/SQL-Joins-Cross-Join.png)"
   ]
  },
  {
   "cell_type": "markdown",
   "id": "ef2dc2a7",
   "metadata": {},
   "source": [
    "```sql\n",
    "SELECT Names.id, Names.name, Streams.stream\n",
    "FROM Names\n",
    "CROSS JOIN Streams\n",
    "ON Names.id = Streams.id;\n",
    "```"
   ]
  },
  {
   "cell_type": "markdown",
   "id": "7ee37107",
   "metadata": {},
   "source": [
    "---"
   ]
  },
  {
   "cell_type": "markdown",
   "id": "e4774f03",
   "metadata": {},
   "source": [
    "### How to build up a query\n",
    "\n",
    "##### Step 1 \n",
    "- Create a basic query\n",
    "    - SELECT * FROM table_name LIMIT 30\n",
    "\n",
    "##### Step 2\n",
    "- Does the current table have all the info you need to answer our question?\n",
    "    - Yes -> then proceed to Step 4\n",
    "    - No -> then proceed to Step 3\n",
    "    \n",
    "##### Step 3\n",
    "- Let's get the information we need. How do we do this?\n",
    "    - JOIN\n",
    "    - INNER JOIN\n",
    "    - LEFT JOIN\n",
    "    - OUTER JOIN\n",
    "- What table has the information we want? \n",
    "- Go back to step 2\n",
    "    \n",
    "##### Step 4 \n",
    "- Do we need to filter our data in someway to answer our question? Do we need to isolate specific data from the rest of the data?\n",
    "    - WHERE -> Done before data is aggregated or grouped\n",
    "    - HAVING -> Used after a GROUP BY clause\n",
    "\n",
    "##### Step 5 \n",
    "- Do we need to know certain properties of our data? How many data points meet our condition? What is the average value of the data points?\n",
    "    - COUNT -> counts all the rows of a given table or column\n",
    "    - COUNT (DISTINCT) -> counts all the unique entries of a column (No Duplicates)\n",
    "    - MAX -> Returns the largest value in a specified column\n",
    "    - MIN -> Return the lowest value in a specified column\n",
    "    - \"Basic Maths Operations\" -> + ; - ; * ; /\n",
    "    - SUM -> Will add all value in a numeric column excluding nulls\n",
    "    - AVG -> Will take the sum of all value defined by the total number of values excluding nulls\n",
    "    - GROUP BY -> Concatenates results by mergeing them together based on some sort of Aggregation\n",
    "    \n",
    "##### Step 6 \n",
    "- Finally, we may need to organise our results to find the answer we want:\n",
    "    - ORDER BY -> DESC or Ascending order (NOTE this is the Default setting)\n",
    "    \n",
    "    \n",
    "   `"
   ]
  },
  {
   "cell_type": "markdown",
   "id": "c61add97",
   "metadata": {},
   "source": [
    "```sql\n",
    "- Step 1\n",
    "\n",
    "SELECT * \n",
    "FROM table_name_1\n",
    "LIMIT 30; \n",
    "\n",
    "- Step 3\n",
    "\n",
    "SELECT * \n",
    "FROM table_name_1 as t1\n",
    "JOIN table_name_2 as t2\n",
    "ON t1.common_column = t2.common_column\n",
    "\n",
    "--- We can keep joining until we have all our data\n",
    "\n",
    "JOIN table_name_3 as t3\n",
    "ON t3.common_column = t2.common_column\n",
    "\n",
    "- Step 4\n",
    "SELECT (*) \n",
    "FROM table_name_1 as t1\n",
    "JOIN table_name_2 as t2\n",
    "ON t1.common_column = t2.common_column\n",
    "WHERE t1.column_name = 'Something' and t2.column_name = 'Something else'\n",
    "\n",
    "- Step 5\n",
    "SELECT Some_Aggregation (*) \n",
    "FROM table_name_1 as t1\n",
    "JOIN table_name_2 as t2\n",
    "ON t1.common_column = t2.common_column\n",
    "WHERE t1.column_name = 'Something'\n",
    "\n",
    "- Step 6\n",
    "SELECT Some_Aggregation (*) \n",
    "FROM table_name_1 as t1\n",
    "JOIN table_name_2 as t2\n",
    "ON t1.common_column = t2.common_column\n",
    "WHERE t1.column_name = 'Something'\n",
    "ORDER BY t1.column_name \n",
    "```"
   ]
  },
  {
   "cell_type": "markdown",
   "id": "ab941432",
   "metadata": {},
   "source": [
    "---"
   ]
  },
  {
   "cell_type": "markdown",
   "id": "df14060d",
   "metadata": {},
   "source": [
    "## Let's try some exercises\n",
    "\n",
    "Load in our extension first:"
   ]
  },
  {
   "cell_type": "code",
   "execution_count": null,
   "id": "8a8a3067",
   "metadata": {},
   "outputs": [],
   "source": [
    "%load_ext sql"
   ]
  },
  {
   "cell_type": "markdown",
   "id": "bcbb80e2",
   "metadata": {},
   "source": [
    "Load in our data - we'll be using the chinook.db database"
   ]
  },
  {
   "cell_type": "code",
   "execution_count": null,
   "id": "88ee50b3",
   "metadata": {},
   "outputs": [],
   "source": [
    "%%sql\n",
    "sqlite:///chinook.db"
   ]
  },
  {
   "cell_type": "markdown",
   "id": "b533295a",
   "metadata": {},
   "source": [
    "Chinook database ER diagram:\n",
    "\n",
    "<img src=\"https://github.com/Explore-AI/Pictures/blob/master/sqlite-sample-database-color.jpg?raw=true\" width=70%/>\n",
    "\n",
    "_[Image source](https://www.sqlitetutorial.net/sqlite-sample-database/)_"
   ]
  },
  {
   "cell_type": "code",
   "execution_count": null,
   "id": "1e8aef94",
   "metadata": {},
   "outputs": [],
   "source": [
    "%%sql\n",
    "SELECT name FROM sqlite_schema WHERE type='table' ORDER BY name"
   ]
  },
  {
   "cell_type": "markdown",
   "id": "76d1aa1e",
   "metadata": {},
   "source": [
    "---"
   ]
  },
  {
   "cell_type": "markdown",
   "id": "f0bee7f7",
   "metadata": {},
   "source": [
    "1. Display the FirstName, LastName, InvoiceID, Invoice Date and Country columns, for all customers from Brazil"
   ]
  },
  {
   "cell_type": "markdown",
   "id": "3722de2d",
   "metadata": {},
   "source": [
    "**Let's think about the steps from before**\n",
    "\n",
    "- Create a basic query\n",
    "\n",
    "- Does the current table have all the info you need to answer our question?\n",
    "    - Yes -> then proceed to Step 4\n",
    "    - No -> then proceed to Step 3\n",
    "    \n",
    "- How do we get the information we need and from where?\n",
    "    \n",
    "- Do we need to filter our data in someway to answer our question? Do we need to isolate specific data from the rest of the data?\n",
    "\n",
    "- Do we need to know certain properties of our data? How many data points meet our condition? What is the average value of the data points?\n",
    "    \n",
    "- Do we need to organise our results to find the answer we want?"
   ]
  },
  {
   "cell_type": "code",
   "execution_count": null,
   "id": "a456e7e8",
   "metadata": {},
   "outputs": [],
   "source": [
    "%%sql\n",
    "SELECT ...\n",
    "FROM ..."
   ]
  },
  {
   "cell_type": "markdown",
   "id": "59471022",
   "metadata": {},
   "source": [
    "---"
   ]
  },
  {
   "cell_type": "markdown",
   "id": "505b3321",
   "metadata": {},
   "source": [
    "2. Let's suppose that, as part of a new business strategy, Chinook wants to develop new product categories for their media items that are based on genre and media type. To do this, we write a query that will list all possible product categories **(i.e. all possible genre and media type combinations)**."
   ]
  },
  {
   "cell_type": "code",
   "execution_count": null,
   "id": "90ff4521",
   "metadata": {},
   "outputs": [],
   "source": [
    "%%sql\n",
    "SELECT ...\n",
    "FROM ..."
   ]
  },
  {
   "cell_type": "markdown",
   "id": "ed442eb7",
   "metadata": {},
   "source": [
    "---"
   ]
  },
  {
   "cell_type": "markdown",
   "id": "3aeb302a",
   "metadata": {},
   "source": [
    "3. How many customers are assigned to the Sales Agent with the first name 'Jane'?"
   ]
  },
  {
   "cell_type": "code",
   "execution_count": null,
   "id": "aaea5285",
   "metadata": {},
   "outputs": [],
   "source": [
    "%%sql\n",
    "SELECT ...\n",
    "FROM ..."
   ]
  },
  {
   "cell_type": "markdown",
   "id": "3f8f706e",
   "metadata": {},
   "source": [
    "---"
   ]
  },
  {
   "cell_type": "markdown",
   "id": "98007fcb",
   "metadata": {},
   "source": [
    "4. How many employees did not assist customers when they made their purchase?"
   ]
  },
  {
   "cell_type": "code",
   "execution_count": null,
   "id": "91162949",
   "metadata": {},
   "outputs": [],
   "source": [
    "%%sql\n",
    "SELECT *\n",
    "FROM employees\n",
    "LIMIT 3"
   ]
  },
  {
   "cell_type": "code",
   "execution_count": null,
   "id": "f9109061",
   "metadata": {},
   "outputs": [],
   "source": [
    "%%sql\n",
    "SELECT *\n",
    "FROM customers\n",
    "LIMIT 3"
   ]
  },
  {
   "cell_type": "code",
   "execution_count": null,
   "id": "a405c70c",
   "metadata": {},
   "outputs": [],
   "source": [
    "%%sql\n",
    "SELECT ...\n",
    "FROM ..."
   ]
  },
  {
   "cell_type": "markdown",
   "id": "dba3fe5a",
   "metadata": {},
   "source": [
    "---"
   ]
  },
  {
   "cell_type": "markdown",
   "id": "2f1863c2",
   "metadata": {},
   "source": [
    "5. Write a query to display the number of invoices associated with each sales agent. Display each agent's **full name** as \"SalesAgentName\", and the number of associated invoices as \"AssociatedInvoice\""
   ]
  },
  {
   "cell_type": "code",
   "execution_count": null,
   "id": "468227ec",
   "metadata": {},
   "outputs": [],
   "source": [
    "%%sql\n",
    "SELECT ...\n",
    "FROM ..."
   ]
  },
  {
   "cell_type": "markdown",
   "id": "14a2f9a8",
   "metadata": {},
   "source": [
    "---"
   ]
  },
  {
   "cell_type": "markdown",
   "id": "3386c04b",
   "metadata": {},
   "source": [
    "6. Which Sales Agent made the most in sales overall? (use the agent's first name only). Display the total sales column as \"TotalSales\""
   ]
  },
  {
   "cell_type": "code",
   "execution_count": null,
   "id": "6d047f6d",
   "metadata": {},
   "outputs": [],
   "source": [
    "%%sql\n",
    "SELECT ...\n",
    "FROM ..."
   ]
  },
  {
   "cell_type": "code",
   "execution_count": null,
   "id": "a972c122",
   "metadata": {},
   "outputs": [],
   "source": []
  },
  {
   "cell_type": "code",
   "execution_count": null,
   "id": "21f58d4b",
   "metadata": {},
   "outputs": [],
   "source": []
  }
 ],
 "metadata": {
  "kernelspec": {
   "display_name": "Python 3 (ipykernel)",
   "language": "python",
   "name": "python3"
  },
  "language_info": {
   "codemirror_mode": {
    "name": "ipython",
    "version": 3
   },
   "file_extension": ".py",
   "mimetype": "text/x-python",
   "name": "python",
   "nbconvert_exporter": "python",
   "pygments_lexer": "ipython3",
   "version": "3.9.7"
  }
 },
 "nbformat": 4,
 "nbformat_minor": 5
}
