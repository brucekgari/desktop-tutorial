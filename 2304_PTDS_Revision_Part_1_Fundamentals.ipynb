{
  "nbformat": 4,
  "nbformat_minor": 0,
  "metadata": {
    "colab": {
      "provenance": [],
      "collapsed_sections": [
        "es4VKaSGMmUW",
        "yUawhKoXAc3v",
        "BD30U62-Alrt",
        "ZGQ38KEi0kvn",
        "SOC9CO-g8qpA",
        "RFIuysGuC1N-",
        "Cy3SQ3iOTtoz",
        "wbuuzJUqBKWB",
        "w-tQaW5CBRs3",
        "89bv2YIRBVgH",
        "M4H_lgA7REQB",
        "C1jXSjeDVFsE",
        "T6R4xHE0VIHi",
        "NZk0u0aVVOGm"
      ]
    },
    "kernelspec": {
      "name": "python3",
      "display_name": "Python 3"
    },
    "language_info": {
      "name": "python"
    }
  },
  "cells": [
    {
      "cell_type": "markdown",
      "source": [
        "# 2304 PTDS Revision Part 1: Fundamentals.ipynb"
      ],
      "metadata": {
        "id": "m2UeP-ax2mFz"
      }
    },
    {
      "cell_type": "markdown",
      "source": [
        "What to expect:\n",
        "\n",
        "We will be covering your top picks for Revision!\n",
        "1. Python for Data Science\n",
        "  - Statistics\n",
        "  - Python functions\n",
        "  - Lambda functions\n",
        "  - List comprehensions\n",
        "  - Python algorithms\n",
        "2. Structured Query Language (SQL) for Data Science\n",
        "  - String manipulation\n",
        "  - Data transformation\n",
        "  - SQL Joins\n",
        "3. Visualisation"
      ],
      "metadata": {
        "id": "CMq3HicC2xcW"
      }
    },
    {
      "cell_type": "markdown",
      "source": [
        "---"
      ],
      "metadata": {
        "id": "zJ_svrSn6RSV"
      }
    },
    {
      "cell_type": "markdown",
      "source": [
        "# 1. Python for Data Science"
      ],
      "metadata": {
        "id": "D0CwziA_6TBJ"
      }
    },
    {
      "cell_type": "markdown",
      "source": [
        "## A: Python Statistics"
      ],
      "metadata": {
        "id": "5jBETBnp6ahG"
      }
    },
    {
      "cell_type": "markdown",
      "source": [
        "### i) Introduction to Distribution and Inferential Statistics:"
      ],
      "metadata": {
        "id": "es4VKaSGMmUW"
      }
    },
    {
      "cell_type": "markdown",
      "source": [
        "#### A `sample` is a subset of a population used to gather information, while a `population` refers to the entire group of individuals or objects being studied."
      ],
      "metadata": {
        "id": "yCwN8pzh8SY6"
      }
    },
    {
      "cell_type": "markdown",
      "source": [
        "![picture](https://www.scribbr.com/wp-content/uploads/2019/09/population-vs-sample-1.png)"
      ],
      "metadata": {
        "id": "LVhRiDF28oD7"
      }
    },
    {
      "cell_type": "markdown",
      "source": [
        "#### Load Data Data"
      ],
      "metadata": {
        "id": "J9cyiozF6dKW"
      }
    },
    {
      "cell_type": "code",
      "source": [
        "import math\n",
        "import statistics\n",
        "import pandas as pd\n",
        "import numpy as np\n",
        "from numpy import random\n",
        "from scipy.stats import binom\n",
        "import scipy.stats as st\n",
        "import matplotlib.pyplot as plt"
      ],
      "metadata": {
        "id": "micyUJf66dTv"
      },
      "execution_count": null,
      "outputs": []
    },
    {
      "cell_type": "code",
      "source": [
        "wine = pd.read_csv('https://raw.githubusercontent.com/Explore-AI/Public-Data/master/Data/regression_sprint/winequality.csv')"
      ],
      "metadata": {
        "id": "j2_NzkOE6daj"
      },
      "execution_count": null,
      "outputs": []
    },
    {
      "cell_type": "code",
      "source": [
        "wine.head()"
      ],
      "metadata": {
        "id": "a62Go3or6eBo",
        "colab": {
          "base_uri": "https://localhost:8080/",
          "height": 223
        },
        "outputId": "a8a20dfd-4244-4f61-e3bb-42bd062e8d98"
      },
      "execution_count": null,
      "outputs": [
        {
          "output_type": "execute_result",
          "data": {
            "text/plain": [
              "   type  fixed acidity  volatile acidity  citric acid  residual sugar  \\\n",
              "0     0            7.0              0.27         0.36            20.7   \n",
              "1     0            6.3              0.30         0.34             1.6   \n",
              "2     0            8.1              0.28         0.40             6.9   \n",
              "3     0            7.2              0.23         0.32             8.5   \n",
              "4     0            7.2              0.23         0.32             8.5   \n",
              "\n",
              "   chlorides  free sulfur dioxide  total sulfur dioxide  density    pH  \\\n",
              "0      0.045                 45.0                 170.0   1.0010  3.00   \n",
              "1      0.049                 14.0                 132.0   0.9940  3.30   \n",
              "2      0.050                 30.0                  97.0   0.9951  3.26   \n",
              "3      0.058                 47.0                 186.0   0.9956  3.19   \n",
              "4      0.058                 47.0                 186.0   0.9956  3.19   \n",
              "\n",
              "   sulphates  alcohol  quality  \n",
              "0       0.45      8.8        6  \n",
              "1       0.49      9.5        6  \n",
              "2       0.44     10.1        6  \n",
              "3       0.40      9.9        6  \n",
              "4       0.40      9.9        6  "
            ],
            "text/html": [
              "\n",
              "  <div id=\"df-df7f0309-372f-4afa-8775-145b3040ac98\" class=\"colab-df-container\">\n",
              "    <div>\n",
              "<style scoped>\n",
              "    .dataframe tbody tr th:only-of-type {\n",
              "        vertical-align: middle;\n",
              "    }\n",
              "\n",
              "    .dataframe tbody tr th {\n",
              "        vertical-align: top;\n",
              "    }\n",
              "\n",
              "    .dataframe thead th {\n",
              "        text-align: right;\n",
              "    }\n",
              "</style>\n",
              "<table border=\"1\" class=\"dataframe\">\n",
              "  <thead>\n",
              "    <tr style=\"text-align: right;\">\n",
              "      <th></th>\n",
              "      <th>type</th>\n",
              "      <th>fixed acidity</th>\n",
              "      <th>volatile acidity</th>\n",
              "      <th>citric acid</th>\n",
              "      <th>residual sugar</th>\n",
              "      <th>chlorides</th>\n",
              "      <th>free sulfur dioxide</th>\n",
              "      <th>total sulfur dioxide</th>\n",
              "      <th>density</th>\n",
              "      <th>pH</th>\n",
              "      <th>sulphates</th>\n",
              "      <th>alcohol</th>\n",
              "      <th>quality</th>\n",
              "    </tr>\n",
              "  </thead>\n",
              "  <tbody>\n",
              "    <tr>\n",
              "      <th>0</th>\n",
              "      <td>0</td>\n",
              "      <td>7.0</td>\n",
              "      <td>0.27</td>\n",
              "      <td>0.36</td>\n",
              "      <td>20.7</td>\n",
              "      <td>0.045</td>\n",
              "      <td>45.0</td>\n",
              "      <td>170.0</td>\n",
              "      <td>1.0010</td>\n",
              "      <td>3.00</td>\n",
              "      <td>0.45</td>\n",
              "      <td>8.8</td>\n",
              "      <td>6</td>\n",
              "    </tr>\n",
              "    <tr>\n",
              "      <th>1</th>\n",
              "      <td>0</td>\n",
              "      <td>6.3</td>\n",
              "      <td>0.30</td>\n",
              "      <td>0.34</td>\n",
              "      <td>1.6</td>\n",
              "      <td>0.049</td>\n",
              "      <td>14.0</td>\n",
              "      <td>132.0</td>\n",
              "      <td>0.9940</td>\n",
              "      <td>3.30</td>\n",
              "      <td>0.49</td>\n",
              "      <td>9.5</td>\n",
              "      <td>6</td>\n",
              "    </tr>\n",
              "    <tr>\n",
              "      <th>2</th>\n",
              "      <td>0</td>\n",
              "      <td>8.1</td>\n",
              "      <td>0.28</td>\n",
              "      <td>0.40</td>\n",
              "      <td>6.9</td>\n",
              "      <td>0.050</td>\n",
              "      <td>30.0</td>\n",
              "      <td>97.0</td>\n",
              "      <td>0.9951</td>\n",
              "      <td>3.26</td>\n",
              "      <td>0.44</td>\n",
              "      <td>10.1</td>\n",
              "      <td>6</td>\n",
              "    </tr>\n",
              "    <tr>\n",
              "      <th>3</th>\n",
              "      <td>0</td>\n",
              "      <td>7.2</td>\n",
              "      <td>0.23</td>\n",
              "      <td>0.32</td>\n",
              "      <td>8.5</td>\n",
              "      <td>0.058</td>\n",
              "      <td>47.0</td>\n",
              "      <td>186.0</td>\n",
              "      <td>0.9956</td>\n",
              "      <td>3.19</td>\n",
              "      <td>0.40</td>\n",
              "      <td>9.9</td>\n",
              "      <td>6</td>\n",
              "    </tr>\n",
              "    <tr>\n",
              "      <th>4</th>\n",
              "      <td>0</td>\n",
              "      <td>7.2</td>\n",
              "      <td>0.23</td>\n",
              "      <td>0.32</td>\n",
              "      <td>8.5</td>\n",
              "      <td>0.058</td>\n",
              "      <td>47.0</td>\n",
              "      <td>186.0</td>\n",
              "      <td>0.9956</td>\n",
              "      <td>3.19</td>\n",
              "      <td>0.40</td>\n",
              "      <td>9.9</td>\n",
              "      <td>6</td>\n",
              "    </tr>\n",
              "  </tbody>\n",
              "</table>\n",
              "</div>\n",
              "    <div class=\"colab-df-buttons\">\n",
              "\n",
              "  <div class=\"colab-df-container\">\n",
              "    <button class=\"colab-df-convert\" onclick=\"convertToInteractive('df-df7f0309-372f-4afa-8775-145b3040ac98')\"\n",
              "            title=\"Convert this dataframe to an interactive table.\"\n",
              "            style=\"display:none;\">\n",
              "\n",
              "  <svg xmlns=\"http://www.w3.org/2000/svg\" height=\"24px\" viewBox=\"0 -960 960 960\">\n",
              "    <path d=\"M120-120v-720h720v720H120Zm60-500h600v-160H180v160Zm220 220h160v-160H400v160Zm0 220h160v-160H400v160ZM180-400h160v-160H180v160Zm440 0h160v-160H620v160ZM180-180h160v-160H180v160Zm440 0h160v-160H620v160Z\"/>\n",
              "  </svg>\n",
              "    </button>\n",
              "\n",
              "  <style>\n",
              "    .colab-df-container {\n",
              "      display:flex;\n",
              "      gap: 12px;\n",
              "    }\n",
              "\n",
              "    .colab-df-convert {\n",
              "      background-color: #E8F0FE;\n",
              "      border: none;\n",
              "      border-radius: 50%;\n",
              "      cursor: pointer;\n",
              "      display: none;\n",
              "      fill: #1967D2;\n",
              "      height: 32px;\n",
              "      padding: 0 0 0 0;\n",
              "      width: 32px;\n",
              "    }\n",
              "\n",
              "    .colab-df-convert:hover {\n",
              "      background-color: #E2EBFA;\n",
              "      box-shadow: 0px 1px 2px rgba(60, 64, 67, 0.3), 0px 1px 3px 1px rgba(60, 64, 67, 0.15);\n",
              "      fill: #174EA6;\n",
              "    }\n",
              "\n",
              "    .colab-df-buttons div {\n",
              "      margin-bottom: 4px;\n",
              "    }\n",
              "\n",
              "    [theme=dark] .colab-df-convert {\n",
              "      background-color: #3B4455;\n",
              "      fill: #D2E3FC;\n",
              "    }\n",
              "\n",
              "    [theme=dark] .colab-df-convert:hover {\n",
              "      background-color: #434B5C;\n",
              "      box-shadow: 0px 1px 3px 1px rgba(0, 0, 0, 0.15);\n",
              "      filter: drop-shadow(0px 1px 2px rgba(0, 0, 0, 0.3));\n",
              "      fill: #FFFFFF;\n",
              "    }\n",
              "  </style>\n",
              "\n",
              "    <script>\n",
              "      const buttonEl =\n",
              "        document.querySelector('#df-df7f0309-372f-4afa-8775-145b3040ac98 button.colab-df-convert');\n",
              "      buttonEl.style.display =\n",
              "        google.colab.kernel.accessAllowed ? 'block' : 'none';\n",
              "\n",
              "      async function convertToInteractive(key) {\n",
              "        const element = document.querySelector('#df-df7f0309-372f-4afa-8775-145b3040ac98');\n",
              "        const dataTable =\n",
              "          await google.colab.kernel.invokeFunction('convertToInteractive',\n",
              "                                                    [key], {});\n",
              "        if (!dataTable) return;\n",
              "\n",
              "        const docLinkHtml = 'Like what you see? Visit the ' +\n",
              "          '<a target=\"_blank\" href=https://colab.research.google.com/notebooks/data_table.ipynb>data table notebook</a>'\n",
              "          + ' to learn more about interactive tables.';\n",
              "        element.innerHTML = '';\n",
              "        dataTable['output_type'] = 'display_data';\n",
              "        await google.colab.output.renderOutput(dataTable, element);\n",
              "        const docLink = document.createElement('div');\n",
              "        docLink.innerHTML = docLinkHtml;\n",
              "        element.appendChild(docLink);\n",
              "      }\n",
              "    </script>\n",
              "  </div>\n",
              "\n",
              "\n",
              "<div id=\"df-d9b8e742-ff53-4dd7-bd3b-bf6f1ddcbe03\">\n",
              "  <button class=\"colab-df-quickchart\" onclick=\"quickchart('df-d9b8e742-ff53-4dd7-bd3b-bf6f1ddcbe03')\"\n",
              "            title=\"Suggest charts\"\n",
              "            style=\"display:none;\">\n",
              "\n",
              "<svg xmlns=\"http://www.w3.org/2000/svg\" height=\"24px\"viewBox=\"0 0 24 24\"\n",
              "     width=\"24px\">\n",
              "    <g>\n",
              "        <path d=\"M19 3H5c-1.1 0-2 .9-2 2v14c0 1.1.9 2 2 2h14c1.1 0 2-.9 2-2V5c0-1.1-.9-2-2-2zM9 17H7v-7h2v7zm4 0h-2V7h2v10zm4 0h-2v-4h2v4z\"/>\n",
              "    </g>\n",
              "</svg>\n",
              "  </button>\n",
              "\n",
              "<style>\n",
              "  .colab-df-quickchart {\n",
              "      --bg-color: #E8F0FE;\n",
              "      --fill-color: #1967D2;\n",
              "      --hover-bg-color: #E2EBFA;\n",
              "      --hover-fill-color: #174EA6;\n",
              "      --disabled-fill-color: #AAA;\n",
              "      --disabled-bg-color: #DDD;\n",
              "  }\n",
              "\n",
              "  [theme=dark] .colab-df-quickchart {\n",
              "      --bg-color: #3B4455;\n",
              "      --fill-color: #D2E3FC;\n",
              "      --hover-bg-color: #434B5C;\n",
              "      --hover-fill-color: #FFFFFF;\n",
              "      --disabled-bg-color: #3B4455;\n",
              "      --disabled-fill-color: #666;\n",
              "  }\n",
              "\n",
              "  .colab-df-quickchart {\n",
              "    background-color: var(--bg-color);\n",
              "    border: none;\n",
              "    border-radius: 50%;\n",
              "    cursor: pointer;\n",
              "    display: none;\n",
              "    fill: var(--fill-color);\n",
              "    height: 32px;\n",
              "    padding: 0;\n",
              "    width: 32px;\n",
              "  }\n",
              "\n",
              "  .colab-df-quickchart:hover {\n",
              "    background-color: var(--hover-bg-color);\n",
              "    box-shadow: 0 1px 2px rgba(60, 64, 67, 0.3), 0 1px 3px 1px rgba(60, 64, 67, 0.15);\n",
              "    fill: var(--button-hover-fill-color);\n",
              "  }\n",
              "\n",
              "  .colab-df-quickchart-complete:disabled,\n",
              "  .colab-df-quickchart-complete:disabled:hover {\n",
              "    background-color: var(--disabled-bg-color);\n",
              "    fill: var(--disabled-fill-color);\n",
              "    box-shadow: none;\n",
              "  }\n",
              "\n",
              "  .colab-df-spinner {\n",
              "    border: 2px solid var(--fill-color);\n",
              "    border-color: transparent;\n",
              "    border-bottom-color: var(--fill-color);\n",
              "    animation:\n",
              "      spin 1s steps(1) infinite;\n",
              "  }\n",
              "\n",
              "  @keyframes spin {\n",
              "    0% {\n",
              "      border-color: transparent;\n",
              "      border-bottom-color: var(--fill-color);\n",
              "      border-left-color: var(--fill-color);\n",
              "    }\n",
              "    20% {\n",
              "      border-color: transparent;\n",
              "      border-left-color: var(--fill-color);\n",
              "      border-top-color: var(--fill-color);\n",
              "    }\n",
              "    30% {\n",
              "      border-color: transparent;\n",
              "      border-left-color: var(--fill-color);\n",
              "      border-top-color: var(--fill-color);\n",
              "      border-right-color: var(--fill-color);\n",
              "    }\n",
              "    40% {\n",
              "      border-color: transparent;\n",
              "      border-right-color: var(--fill-color);\n",
              "      border-top-color: var(--fill-color);\n",
              "    }\n",
              "    60% {\n",
              "      border-color: transparent;\n",
              "      border-right-color: var(--fill-color);\n",
              "    }\n",
              "    80% {\n",
              "      border-color: transparent;\n",
              "      border-right-color: var(--fill-color);\n",
              "      border-bottom-color: var(--fill-color);\n",
              "    }\n",
              "    90% {\n",
              "      border-color: transparent;\n",
              "      border-bottom-color: var(--fill-color);\n",
              "    }\n",
              "  }\n",
              "</style>\n",
              "\n",
              "  <script>\n",
              "    async function quickchart(key) {\n",
              "      const quickchartButtonEl =\n",
              "        document.querySelector('#' + key + ' button');\n",
              "      quickchartButtonEl.disabled = true;  // To prevent multiple clicks.\n",
              "      quickchartButtonEl.classList.add('colab-df-spinner');\n",
              "      try {\n",
              "        const charts = await google.colab.kernel.invokeFunction(\n",
              "            'suggestCharts', [key], {});\n",
              "      } catch (error) {\n",
              "        console.error('Error during call to suggestCharts:', error);\n",
              "      }\n",
              "      quickchartButtonEl.classList.remove('colab-df-spinner');\n",
              "      quickchartButtonEl.classList.add('colab-df-quickchart-complete');\n",
              "    }\n",
              "    (() => {\n",
              "      let quickchartButtonEl =\n",
              "        document.querySelector('#df-d9b8e742-ff53-4dd7-bd3b-bf6f1ddcbe03 button');\n",
              "      quickchartButtonEl.style.display =\n",
              "        google.colab.kernel.accessAllowed ? 'block' : 'none';\n",
              "    })();\n",
              "  </script>\n",
              "</div>\n",
              "    </div>\n",
              "  </div>\n"
            ],
            "application/vnd.google.colaboratory.intrinsic+json": {
              "type": "dataframe",
              "variable_name": "wine",
              "summary": "{\n  \"name\": \"wine\",\n  \"rows\": 6497,\n  \"fields\": [\n    {\n      \"column\": \"type\",\n      \"properties\": {\n        \"dtype\": \"number\",\n        \"std\": 0,\n        \"min\": 0,\n        \"max\": 1,\n        \"num_unique_values\": 2,\n        \"samples\": [\n          1,\n          0\n        ],\n        \"semantic_type\": \"\",\n        \"description\": \"\"\n      }\n    },\n    {\n      \"column\": \"fixed acidity\",\n      \"properties\": {\n        \"dtype\": \"number\",\n        \"std\": 1.296749856526477,\n        \"min\": 3.8,\n        \"max\": 15.9,\n        \"num_unique_values\": 106,\n        \"samples\": [\n          14.3,\n          6.5\n        ],\n        \"semantic_type\": \"\",\n        \"description\": \"\"\n      }\n    },\n    {\n      \"column\": \"volatile acidity\",\n      \"properties\": {\n        \"dtype\": \"number\",\n        \"std\": 0.16464902864429282,\n        \"min\": 0.08,\n        \"max\": 1.58,\n        \"num_unique_values\": 187,\n        \"samples\": [\n          0.895,\n          0.655\n        ],\n        \"semantic_type\": \"\",\n        \"description\": \"\"\n      }\n    },\n    {\n      \"column\": \"citric acid\",\n      \"properties\": {\n        \"dtype\": \"number\",\n        \"std\": 0.14526480053397792,\n        \"min\": 0.0,\n        \"max\": 1.66,\n        \"num_unique_values\": 89,\n        \"samples\": [\n          0.45,\n          0.51\n        ],\n        \"semantic_type\": \"\",\n        \"description\": \"\"\n      }\n    },\n    {\n      \"column\": \"residual sugar\",\n      \"properties\": {\n        \"dtype\": \"number\",\n        \"std\": 4.7581247426727105,\n        \"min\": 0.6,\n        \"max\": 65.8,\n        \"num_unique_values\": 316,\n        \"samples\": [\n          14.7,\n          4.9\n        ],\n        \"semantic_type\": \"\",\n        \"description\": \"\"\n      }\n    },\n    {\n      \"column\": \"chlorides\",\n      \"properties\": {\n        \"dtype\": \"number\",\n        \"std\": 0.03503602522758981,\n        \"min\": 0.009,\n        \"max\": 0.611,\n        \"num_unique_values\": 214,\n        \"samples\": [\n          0.046,\n          0.387\n        ],\n        \"semantic_type\": \"\",\n        \"description\": \"\"\n      }\n    },\n    {\n      \"column\": \"free sulfur dioxide\",\n      \"properties\": {\n        \"dtype\": \"number\",\n        \"std\": 17.7493997720025,\n        \"min\": 1.0,\n        \"max\": 289.0,\n        \"num_unique_values\": 135,\n        \"samples\": [\n          146.5,\n          64.5\n        ],\n        \"semantic_type\": \"\",\n        \"description\": \"\"\n      }\n    },\n    {\n      \"column\": \"total sulfur dioxide\",\n      \"properties\": {\n        \"dtype\": \"number\",\n        \"std\": 56.52185452263028,\n        \"min\": 6.0,\n        \"max\": 440.0,\n        \"num_unique_values\": 276,\n        \"samples\": [\n          158.0,\n          194.0\n        ],\n        \"semantic_type\": \"\",\n        \"description\": \"\"\n      }\n    },\n    {\n      \"column\": \"density\",\n      \"properties\": {\n        \"dtype\": \"number\",\n        \"std\": 0.002998673003719039,\n        \"min\": 0.98711,\n        \"max\": 1.03898,\n        \"num_unique_values\": 998,\n        \"samples\": [\n          0.99144,\n          0.99734\n        ],\n        \"semantic_type\": \"\",\n        \"description\": \"\"\n      }\n    },\n    {\n      \"column\": \"pH\",\n      \"properties\": {\n        \"dtype\": \"number\",\n        \"std\": 0.1607483065508832,\n        \"min\": 2.72,\n        \"max\": 4.01,\n        \"num_unique_values\": 108,\n        \"samples\": [\n          2.74,\n          3.25\n        ],\n        \"semantic_type\": \"\",\n        \"description\": \"\"\n      }\n    },\n    {\n      \"column\": \"sulphates\",\n      \"properties\": {\n        \"dtype\": \"number\",\n        \"std\": 0.14881412131628377,\n        \"min\": 0.22,\n        \"max\": 2.0,\n        \"num_unique_values\": 111,\n        \"samples\": [\n          1.08,\n          0.55\n        ],\n        \"semantic_type\": \"\",\n        \"description\": \"\"\n      }\n    },\n    {\n      \"column\": \"alcohol\",\n      \"properties\": {\n        \"dtype\": \"number\",\n        \"std\": 1.192711748868981,\n        \"min\": 8.0,\n        \"max\": 14.9,\n        \"num_unique_values\": 111,\n        \"samples\": [\n          12.33333333,\n          11.4\n        ],\n        \"semantic_type\": \"\",\n        \"description\": \"\"\n      }\n    },\n    {\n      \"column\": \"quality\",\n      \"properties\": {\n        \"dtype\": \"number\",\n        \"std\": 0,\n        \"min\": 3,\n        \"max\": 9,\n        \"num_unique_values\": 7,\n        \"samples\": [\n          6,\n          5\n        ],\n        \"semantic_type\": \"\",\n        \"description\": \"\"\n      }\n    }\n  ]\n}"
            }
          },
          "metadata": {},
          "execution_count": 5
        }
      ]
    },
    {
      "cell_type": "markdown",
      "source": [
        "#### Debug the Following"
      ],
      "metadata": {
        "id": "rWTDwkUHslFk"
      }
    },
    {
      "cell_type": "markdown",
      "source": [
        "#### 1. Distributions"
      ],
      "metadata": {
        "id": "yUawhKoXAc3v"
      }
    },
    {
      "cell_type": "code",
      "source": [
        "print(f'The mean is %.2f.' % ())\n",
        "print(f'The median is %.2f.' % ())\n",
        "print(f'The mode is %.2f.' % ())"
      ],
      "metadata": {
        "id": "vKujZXRfsE9T"
      },
      "execution_count": null,
      "outputs": []
    },
    {
      "cell_type": "code",
      "source": [
        "print(f'The max is %.2f.' % (alcohol))\n",
        "print(f'The min is %.2f.' % (alcohol))"
      ],
      "metadata": {
        "id": "LYWqd99JwUyh"
      },
      "execution_count": null,
      "outputs": []
    },
    {
      "cell_type": "code",
      "source": [
        "______.describe()"
      ],
      "metadata": {
        "id": "pr-yO21Zs0x_"
      },
      "execution_count": null,
      "outputs": []
    },
    {
      "cell_type": "markdown",
      "source": [
        "#### 2. Boxplot"
      ],
      "metadata": {
        "id": "BD30U62-Alrt"
      }
    },
    {
      "cell_type": "code",
      "source": [
        "plt.bbxplot()"
      ],
      "metadata": {
        "id": "uL6g_eGSxcbR"
      },
      "execution_count": null,
      "outputs": []
    },
    {
      "cell_type": "markdown",
      "source": [
        "#### 3. Histogram\n",
        "\n",
        "Below try to find the appropriate sample statistic:"
      ],
      "metadata": {
        "id": "ZGQ38KEi0kvn"
      }
    },
    {
      "cell_type": "code",
      "source": [
        "plt.hist(,bins=20, color= \"lavender\")\n",
        "plt.axvline(statistics.mean(), color=\"grey\")\n",
        "plt.show()"
      ],
      "metadata": {
        "id": "O0i3_j-iyQ-7"
      },
      "execution_count": null,
      "outputs": []
    },
    {
      "cell_type": "markdown",
      "source": [
        "### ii) The normal distribution & probability density calculations in python"
      ],
      "metadata": {
        "id": "SOC9CO-g8qpA"
      }
    },
    {
      "cell_type": "markdown",
      "source": [
        "So what is Probability theory:\n",
        "* Probability theory, a branch of mathematics concerned with the analysis of random phenomena"
      ],
      "metadata": {
        "id": "6NvVuvvFOWVa"
      }
    },
    {
      "cell_type": "markdown",
      "source": [
        "Venn Diagram:\n",
        "\n",
        "<img src = 'https://efofexnews.files.wordpress.com/2016/02/gfbdbfba.png' width = 400>"
      ],
      "metadata": {
        "id": "yiZiXnuzOit1"
      }
    },
    {
      "cell_type": "markdown",
      "source": [
        "State whether the following are true or false based on the statement above:\n",
        "\n",
        "* A represents all values that fall in the sample (circle) represented by A.\n",
        "\n",
        "* A U B does not fall in sample A.\n",
        "\n",
        "* B' is verything that falls in the sample (circle) B."
      ],
      "metadata": {
        "id": "HmHeMOsXSgCy"
      }
    },
    {
      "cell_type": "code",
      "source": [
        "Now"
      ],
      "metadata": {
        "id": "ke18ENlpATzz"
      },
      "execution_count": null,
      "outputs": []
    },
    {
      "cell_type": "markdown",
      "source": [
        "* Distributions:\n",
        "\n",
        "  * Discrete Random Variables:\n",
        "    * Discrete random variables can only take on specific values. For example a sock, coin and dice examples:\n",
        "    The possibilities are {white, black,blue}, {heads, tails} and {1, 2, 3, 4, 5, 6} respectively.\n",
        "  *\n"
      ],
      "metadata": {
        "id": "7jivT8h_YeDD"
      }
    },
    {
      "cell_type": "markdown",
      "source": [
        "* Property Mass Function `pmf()`:\n",
        "\n",
        "  * A **probability mass function (PMF)** is like a magical recipe book that tells us the likelihood of each ingredient being used in a recipe. In simpler terms, it's a way to understand the chances of different outcomes happening in a game, experiment, or situation where there are distinct possibilities. Imagine rolling a dice: the PMF would tell us the probability of rolling a [1, 2, 3, 4, 5, or 6]. It assigns a probability to each possible outcome, helping us predict what might happen. Just as a recipe book guides cooks on what ingredients to use, a PMF guides us on what outcomes to expect, making it a valuable tool for decision-making and understanding uncertainty in various real-life scenarios.\n",
        "\n",
        "  * A probability mass function (PMF) must satisfy three key conditions:\n",
        "\n",
        "  1. **Finite Domain**: It assigns probabilities to each possible outcome of a discrete random variable within a finite set of values.\n",
        "  2. **Non-Negative Values**: The probabilities assigned by the PMF must be non-negative for all possible outcomes. This means that the probability of an event occurring cannot be negative.\n",
        "  3. **Summation to One**: The sum of all probabilities in the PMF must equal one. This ensures that the total probability space covers all possible outcomes and accounts for all possible events that could occur."
      ],
      "metadata": {
        "id": "8j_GuN9ha89Q"
      }
    },
    {
      "cell_type": "markdown",
      "source": [
        "* Probability Density Function `pdf()`:\n",
        "  * While a probability mass function (PMF) is suitable for discrete random variables with a finite set of possible outcomes, a probability density function (PDF) is essential for **continuous random variables**, where the set of **possible outcomes is infinite** and continuous. Unlike the PMF, which assigns probabilities to specific outcomes, **the PDF assigns probabilities to ranges or intervals of values along the continuous number line**. This allows us to analyze and make predictions about continuous phenomena such as time, distance, and weight."
      ],
      "metadata": {
        "id": "HCCKObtccd8z"
      }
    },
    {
      "cell_type": "markdown",
      "source": [
        "#### 4. Distribution Graphs"
      ],
      "metadata": {
        "id": "RFIuysGuC1N-"
      }
    },
    {
      "cell_type": "markdown",
      "source": [
        "* Normal Distribution"
      ],
      "metadata": {
        "id": "T4J9lUUgj6He"
      }
    },
    {
      "cell_type": "code",
      "source": [
        "# adjust these paramaters - see what the graph looks like?\n",
        "# Generate random numbers from a normal distribution\n",
        "x_all = np.arange(-5,15,0.05)\n",
        "y_all = st.norm.____(x_all,5,3)\n",
        "\n",
        "x_all[1200:1205]\n",
        "\n",
        "# build the plot - this is the actual distribution ~N(5,3)\n",
        "fig, ax = plt.subplots(figsize=(8,4))\n",
        "plt.style.use('fivethirtyeight')\n",
        "ax.plot(x_all,y_all, color=\"salmon\")\n",
        "ax.set_title('Normal distribution with mean of 5 and s.d. of 3')"
      ],
      "metadata": {
        "colab": {
          "base_uri": "https://localhost:8080/",
          "height": 416
        },
        "id": "elsJLs1gcbue",
        "outputId": "f780528b-f608-4ae9-f7e3-c6e3f7f2d62a"
      },
      "execution_count": null,
      "outputs": [
        {
          "output_type": "execute_result",
          "data": {
            "text/plain": [
              "Text(0.5, 1.0, 'Normal distribution with mean of 5 and s.d. of 3')"
            ]
          },
          "metadata": {},
          "execution_count": 40
        },
        {
          "output_type": "display_data",
          "data": {
            "text/plain": [
              "<Figure size 800x400 with 1 Axes>"
            ],
            "image/png": "[encoded data removed]"
          },
          "metadata": {}
        }
      ]
    },
    {
      "cell_type": "markdown",
      "source": [
        "* Binomial Distribution"
      ],
      "metadata": {
        "id": "eFp6ZiU4ccVB"
      }
    },
    {
      "cell_type": "markdown",
      "source": [
        "A binomial process is a series of independent trials of an experiment with two possible outcomes; a series of coin tosses is a good example. It's easy to figure out the probability of one coin toss landing on heads; it requires a little more insight (but is still easy enough) to figure out the probability of two tails on two consecutive tosses; but it's not nearly so straightforward to figure out the probability of thirty heads and twenty tails when we toss the coin fifty times."
      ],
      "metadata": {
        "id": "sbd_z39oJYbd"
      }
    },
    {
      "cell_type": "markdown",
      "source": [
        "##### Determine whether to use `pmf() or `pdf()` for the following distributions:"
      ],
      "metadata": {
        "id": "sYlgQVfXaoAs"
      }
    },
    {
      "cell_type": "code",
      "source": [
        "n = 10\n",
        "x = np.arange(0,11)\n",
        "p1 = 0.1\n",
        "px1 = st.binom.pmf(x, n, p1)\n",
        "p2 = 0.5\n",
        "px2 = st.binom.pmf(x, n, p2)\n",
        "\n",
        "plt.rcParams[\"figure.figsize\"] = (10,6)\n",
        "plt.plot(x, px1, 'k', label = 'p = 0.1')\n",
        "plt.plot(x, px2, 'r', label = 'p = 0.5')\n",
        "plt.legend()\n",
        "plt.show()"
      ],
      "metadata": {
        "colab": {
          "base_uri": "https://localhost:8080/",
          "height": 522
        },
        "id": "zGrZMfIVccqL",
        "outputId": "3bdfef06-0b5f-4260-d2b0-78b3bb0aacc0"
      },
      "execution_count": null,
      "outputs": [
        {
          "output_type": "display_data",
          "data": {
            "text/plain": [
              "<Figure size 1000x600 with 1 Axes>"
            ],
            "image/png": "[encoded data removed]"
          },
          "metadata": {}
        }
      ]
    },
    {
      "cell_type": "markdown",
      "source": [
        "* Poisson Distribution Formula"
      ],
      "metadata": {
        "id": "CezGtyyDbQUg"
      }
    },
    {
      "cell_type": "markdown",
      "source": [
        "<img src = 'https://www.inchcalculator.com/wp-content/uploads/2022/11/poisson-distribution-formula.png' width = 700 >"
      ],
      "metadata": {
        "id": "DgeXsIDzYlu5"
      }
    },
    {
      "cell_type": "code",
      "source": [
        "poisson_lambda = 2.4\n",
        "x = np.arange(0,11)\n",
        "px = st.poisson.___(x, poisson_lambda)\n",
        "\n",
        "plt.rcParams[\"figure.figsize\"] = (10,6)\n",
        "plt.plot(x, px, 'k', label = 'lambda = 2.4')\n",
        "plt.legend()\n",
        "plt.show()"
      ],
      "metadata": {
        "colab": {
          "base_uri": "https://localhost:8080/",
          "height": 522
        },
        "id": "GAZDt64kVob0",
        "outputId": "a4cc3dae-086a-4452-d009-b415d587fc3b"
      },
      "execution_count": null,
      "outputs": [
        {
          "output_type": "display_data",
          "data": {
            "text/plain": [
              "<Figure size 1000x600 with 1 Axes>"
            ],
            "image/png": "[encoded data removed]"
          },
          "metadata": {}
        }
      ]
    },
    {
      "cell_type": "markdown",
      "source": [
        "* Exponential distribution"
      ],
      "metadata": {
        "id": "8O4CvFcxZuMV"
      }
    },
    {
      "cell_type": "code",
      "source": [
        "poisson_lambda = 0.3\n",
        "x = np.arange(0,5,0.01)\n",
        "dx = st.expon.____(x, scale = 1/poisson_lambda)\n",
        "\n",
        "plt.rcParams[\"figure.figsize\"] = (10,6)\n",
        "plt.plot(x, dx, 'k')\n",
        "plt.show()"
      ],
      "metadata": {
        "colab": {
          "base_uri": "https://localhost:8080/",
          "height": 522
        },
        "id": "lWIuGqOnaTqk",
        "outputId": "eb3b49e7-5924-48a9-b57d-686bceee00b0"
      },
      "execution_count": null,
      "outputs": [
        {
          "output_type": "display_data",
          "data": {
            "text/plain": [
              "<Figure size 1000x600 with 1 Axes>"
            ],
            "image/png": "[encoded data removed]"
          },
          "metadata": {}
        }
      ]
    },
    {
      "cell_type": "markdown",
      "source": [
        "* The Cumulative Distribution Function `cdf()`:\n",
        "  *  Imagine you're climbing a mountain, and you want to know how far you've gone at different points in your journey. The cumulative distribution function (CDF) is like a map that tells you exactly that. It shows the probability that you've traveled less than or equal to a certain distance.\n",
        "  * Picture yourself marking checkpoints along the trail. Each checkpoint represents a distance you've traveled. The CDF tells you the probability of reaching or passing each checkpoint. As you climb higher, the probability increases, showing how far you've progressed.\n",
        "  * For instance, if the CDF says there's a 70% chance you've climbed less than 500 meters, it means most likely you're below that point. It's a handy tool for understanding how likely certain outcomes are and tracking progress in various scenarios, like measuring rainfall, understanding exam scores, or predicting stock market fluctuations."
      ],
      "metadata": {
        "id": "kHAY6WLk5gxZ"
      }
    },
    {
      "cell_type": "code",
      "source": [
        "x = np.arange(1.2,2.2,0.01)    # Range of values for height from 1.2m to 2.2m\n",
        "mu = 1.7                       # mu = distribution mean = 1.7m\n",
        "sigma = 0.1                    # sigma = standard deviation = 0.1m\n",
        "\n",
        "# We now calculate f(x), the probability density function of our normal distribution.\n",
        "\n",
        "\n",
        "f = st.norm.pdf(x, loc = mu, scale = sigma) #This creates the normal graph\n",
        "\n",
        "p = st.norm.cdf(1.5, loc = mu, scale = sigma) #Remember previous notebook?\n",
        "print(f'The probability that a random data scientist has a height below 1.5 m is {np.round(p*100,2)} %') # F(1.5), i.e. probability of observing a height <= 1.5m\n",
        "\n",
        "# Plot the results\n",
        "plt.rcParams[\"figure.figsize\"] = (10,6)\n",
        "plt.plot(x,f,'k', label = 'Height normal distribution')\n",
        "x_fill = x[x <= 1.51]\n",
        "f_fill = f[:len(x_fill)]\n",
        "plt.fill_between(x_fill, f_fill, color='gray', alpha=0.3, label='Area before 1.5m')\n",
        "plt.axvline(x = 1.5, color = 'r', linestyle = '-', label = '1.5m Tall')\n",
        "plt.legend()\n",
        "plt.show()"
      ],
      "metadata": {
        "colab": {
          "base_uri": "https://localhost:8080/",
          "height": 539
        },
        "id": "OcEPWcB1hqrk",
        "outputId": "eb04ebf6-c799-4c8d-f78a-6e66032e8b65"
      },
      "execution_count": null,
      "outputs": [
        {
          "output_type": "stream",
          "name": "stdout",
          "text": [
            "The probability that a random data scientist has a height below 1.5 m is 2.28 %\n"
          ]
        },
        {
          "output_type": "display_data",
          "data": {
            "text/plain": [
              "<Figure size 1000x600 with 1 Axes>"
            ],
            "image/png": "[encoded data removed]"
          },
          "metadata": {}
        }
      ]
    },
    {
      "cell_type": "markdown",
      "source": [
        "* Confidence Interval (CI)\n",
        "  * A confidence interval (CI) is a type of estimate computed from the observation data. CI looks at X values in a plotted graph being within an interval. As a result looks at the confidence that X falls within that interval. Note that it is constructed from sample statistics."
      ],
      "metadata": {
        "id": "i1mu_mzGb2sh"
      }
    },
    {
      "cell_type": "markdown",
      "source": [
        "![picture](https://saylordotorg.github.io/text_introductory-statistics/section_11/e3f246f42e1caa418685cbcb55e93279.jpg)"
      ],
      "metadata": {
        "id": "uNkdMzOwb3sR"
      }
    },
    {
      "cell_type": "code",
      "source": [
        "x = np.arange(1.0,2.4,0.01)    # Range of values for height from 1.2m to 2.2m\n",
        "mu = 1.7                  # mu = distribution mean = 1.7m\n",
        "sigma = 0.1                # sigma = standard deviation = 0.1m\n",
        "\n",
        "# We now calculate f(x), the probability density function of our normal distribution.\n",
        "f = st.norm.pdf(x, loc = mu, scale = sigma)\n",
        "\n",
        "p1 = st.norm.cdf(mu-1.96*sigma, loc = mu, scale = sigma)\n",
        "p2 = st.norm.cdf(mu+1.96*sigma, loc = mu, scale = sigma)\n",
        "print(f'p1 is: {p1}')\n",
        "print(f'p2 as : {p2}')\n",
        "print(f'round(mu-1.96*sigma,4) is: {round(mu-1.96*sigma,4)}')\n",
        "print(f'round(mu+1.96*sigma,4) as : {round(mu+1.96*sigma,4)}')\n",
        "print(f'The probability of a height being between {round(mu-1.96*sigma,4)}m and {round(mu+1.96*sigma,4)}m is {np.round((p2-p1)*100,2)} %') # F(1.5), i.e. probability of observing a height <= 1.5m\n",
        "\n",
        "# Plot the results\n",
        "fig, ax = plt.subplots(figsize=(8,4))\n",
        "#ax.rcParams[\"figure.figsize\"] = (10,6)\n",
        "ax.plot(x,f,'k', label = 'Height normal distribution')\n",
        "ax.fill_between(x[51:90], f[51:90], 0, alpha=0.3, color='b')\n",
        "ax.axvline(x = mu-1.96*sigma, color = 'r', linestyle = '--', label = '1.504m Tall')\n",
        "ax.axvline(x = mu+1.96*sigma, color = 'r', linestyle = '--', label = '1.896m Tall')\n",
        "ax.legend()\n",
        "plt.show()"
      ],
      "metadata": {
        "colab": {
          "base_uri": "https://localhost:8080/",
          "height": 455
        },
        "id": "xG5ftelkb3_P",
        "outputId": "abcfdda0-85b6-4a97-b434-e4493c3889d0"
      },
      "execution_count": null,
      "outputs": [
        {
          "output_type": "stream",
          "name": "stdout",
          "text": [
            "p1 is: 0.024997895148220452\n",
            "p2 as : 0.9750021048517795\n",
            "round(mu-1.96*sigma,4) is: 1.504\n",
            "round(mu+1.96*sigma,4) as : 1.896\n",
            "The probability of a height being between 1.504m and 1.896m is 95.0 %\n"
          ]
        },
        {
          "output_type": "display_data",
          "data": {
            "text/plain": [
              "<Figure size 800x400 with 1 Axes>"
            ],
            "image/png": "[encoded data removed]"
          },
          "metadata": {}
        }
      ]
    },
    {
      "cell_type": "markdown",
      "source": [
        "* Hypothesis Testing\n",
        "\n",
        "  * In hypothesis testing, the **test statistic** is a numerical value calculated from sample data that helps us determine whether to accept or reject a null hypothesis. It measures the difference between the observed sample data and what we would expect to see if the null hypothesis were true.\n",
        "  * In hypothesis testing, the decision to reject the null hypothesis is based on comparing the test statistic calculated from sample data to a critical value or by calculating its probability under the null hypothesis. The conditions for rejecting the null hypothesis typically involve considering the significance level (alpha) and the p-value associated with the test statistic. Here are the common conditions for rejecting the null hypothesis:\n",
        "\n",
        "    Comparing Test Statistic to Critical Value:\n",
        "    If the absolute value of the test statistic is greater than the critical value corresponding to the chosen significance level (alpha), then the null hypothesis is rejected.\n",
        "    \n",
        "    Comparing p-value to Significance Level (alpha):\n",
        "    If the p-value associated with the test statistic is less than the chosen significance level (alpha), then the null hypothesis is rejected.\n",
        "    \n",
        "    Alternatively, if the p-value is greater than or equal to alpha, the null hypothesis is not rejected.\n",
        "    These conditions serve as guidelines for making decisions in hypothesis testing, providing a clear basis for accepting or rejecting the null hypothesis based on the calculated test statistic and its relationship with critical values or p-values."
      ],
      "metadata": {
        "id": "wIT8khFQidk-"
      }
    },
    {
      "cell_type": "markdown",
      "source": [
        "* **Type 1 Error**: Also known as a False Positive, occurs when we reject the null hypothesis even though it is true.\n",
        "\n",
        "* **Type 2 Error**: Also known as a False Negative, happens when we fail to reject the null hypothesis even though it is false."
      ],
      "metadata": {
        "id": "VQpkj5xs1sUm"
      }
    },
    {
      "cell_type": "markdown",
      "source": [
        "<img src = 'https://pbs.twimg.com/media/FGMdY4bWYAcvere.jpg' width = 500>"
      ],
      "metadata": {
        "id": "ABDAGwZ_wvin"
      }
    },
    {
      "cell_type": "markdown",
      "source": [
        "Distirbution: $X \\sim N \\left( \\mu, \\sigma \\right)$. Here $\\mu$ (mean) and $\\sigma$ (standard deviation) are the parameters under the null hypothesis.\n",
        "\n",
        "We know that the variance of X: $\\sigma^2 = 0.1^2$, then we can perform a hypothesis test (i.e. using the z-table) check whether X comes from the distribution having a mean of 1.7.\n",
        "\n",
        "$$H_0: \\mu = 1.7$$\n",
        "\n",
        "$$H_1: \\mu \\neq 1.7$$\n",
        "\n",
        "To test our null hypothesis, we calculate a **test statistic**: the size of which tells us whether we can accept or reject the null hypothesis.\n",
        "\n",
        "Statistical inference involves deciding how unlikely we want our data to be before we can reject the null hypothesis. This level of likelihood is known as the **significance level**: if there is less than a 5% chance of having observed our data by chance if the null hypothesis is true, then we say that our outcome is significant at the 5% level."
      ],
      "metadata": {
        "id": "r8CzsbeLqASa"
      }
    },
    {
      "cell_type": "markdown",
      "source": [
        "<img src = 'https://www.statology.org/wp-content/uploads/2020/09/standardizedTestStatistic1.png' width = 700>"
      ],
      "metadata": {
        "id": "DoNTPzN1jZrl"
      }
    },
    {
      "cell_type": "code",
      "source": [
        "x = np.arange(1,20,1)    # Range of values for height from 1.2m to 2.2m\n",
        "mu =  1.682                     # mu = distribution mean = 1.7m\n",
        "x_bar = 1.7\n",
        "sigma = 0.1                    # sigma = standard deviation = 0.1"
      ],
      "metadata": {
        "id": "hRXZqdSbjH3V"
      },
      "execution_count": null,
      "outputs": []
    },
    {
      "cell_type": "code",
      "source": [
        "def t_test(x_bar,x,mu,sigma):\n",
        "    t = ((_____)/(____/len(x**1/2)))\n",
        "    return t"
      ],
      "metadata": {
        "id": "qeb30kgljLI9"
      },
      "execution_count": null,
      "outputs": []
    },
    {
      "cell_type": "code",
      "source": [
        "t_test_1 = t_test(x_bar,x,mu,sigma)\n",
        "print(round(t_test_1,3))"
      ],
      "metadata": {
        "colab": {
          "base_uri": "https://localhost:8080/"
        },
        "id": "T5A1sFzTjNhA",
        "outputId": "5b049ead-9223-4949-bb05-128085b2e19f"
      },
      "execution_count": null,
      "outputs": [
        {
          "output_type": "stream",
          "name": "stdout",
          "text": [
            "3.42\n"
          ]
        }
      ]
    },
    {
      "cell_type": "markdown",
      "source": [
        "#### Two Tailed, One tailed tests?"
      ],
      "metadata": {
        "id": "zjPq6Gy7pihT"
      }
    },
    {
      "cell_type": "markdown",
      "source": [
        "<img src = \"https://media.geeksforgeeks.org/wp-content/uploads/20230526131458/Degree-of-Freedom.PNG\" >"
      ],
      "metadata": {
        "id": "c3dI8pPGoo63"
      }
    },
    {
      "cell_type": "code",
      "source": [
        "from scipy.stats import t\n",
        "# Define degrees of freedom (df) and confidence levels\n",
        "degrees_of_freedom = [1, 2, 5, 10, 19, 20, 50, 100]\n",
        "confidence_levels = [0.90, 0.95, 0.99]\n",
        "\n",
        "# Create an empty DataFrame to store t-test values\n",
        "t_test_table = pd.DataFrame(columns=confidence_levels)\n",
        "\n",
        "# Calculate t-test values for each combination of df and confidence level\n",
        "for df in degrees_of_freedom:\n",
        "    t_values = [t.ppf(confidence, df) for confidence in confidence_levels]\n",
        "    t_test_table.loc[df] = t_values\n",
        "\n",
        "# Display the t-test table\n",
        "print(\"T-Test Table:\")\n",
        "t_test_table"
      ],
      "metadata": {
        "colab": {
          "base_uri": "https://localhost:8080/",
          "height": 317
        },
        "id": "PaPLbFhUj-Hi",
        "outputId": "37e91ab7-ce2b-4963-a2d5-0a85f3e57bed"
      },
      "execution_count": null,
      "outputs": [
        {
          "output_type": "stream",
          "name": "stdout",
          "text": [
            "T-Test Table:\n"
          ]
        },
        {
          "output_type": "execute_result",
          "data": {
            "text/plain": [
              "         0.90      0.95       0.99\n",
              "1    3.077684  6.313752  31.820516\n",
              "2    1.885618  2.919986   6.964557\n",
              "5    1.475884  2.015048   3.364930\n",
              "10   1.372184  1.812461   2.763769\n",
              "19   1.327728  1.729133   2.539483\n",
              "20   1.325341  1.724718   2.527977\n",
              "50   1.298714  1.675905   2.403272\n",
              "100  1.290075  1.660234   2.364217"
            ],
            "text/html": [
              "\n",
              "  <div id=\"df-0f9d7606-2fe2-45fe-b9fa-4e274cc66b01\" class=\"colab-df-container\">\n",
              "    <div>\n",
              "<style scoped>\n",
              "    .dataframe tbody tr th:only-of-type {\n",
              "        vertical-align: middle;\n",
              "    }\n",
              "\n",
              "    .dataframe tbody tr th {\n",
              "        vertical-align: top;\n",
              "    }\n",
              "\n",
              "    .dataframe thead th {\n",
              "        text-align: right;\n",
              "    }\n",
              "</style>\n",
              "<table border=\"1\" class=\"dataframe\">\n",
              "  <thead>\n",
              "    <tr style=\"text-align: right;\">\n",
              "      <th></th>\n",
              "      <th>0.90</th>\n",
              "      <th>0.95</th>\n",
              "      <th>0.99</th>\n",
              "    </tr>\n",
              "  </thead>\n",
              "  <tbody>\n",
              "    <tr>\n",
              "      <th>1</th>\n",
              "      <td>3.077684</td>\n",
              "      <td>6.313752</td>\n",
              "      <td>31.820516</td>\n",
              "    </tr>\n",
              "    <tr>\n",
              "      <th>2</th>\n",
              "      <td>1.885618</td>\n",
              "      <td>2.919986</td>\n",
              "      <td>6.964557</td>\n",
              "    </tr>\n",
              "    <tr>\n",
              "      <th>5</th>\n",
              "      <td>1.475884</td>\n",
              "      <td>2.015048</td>\n",
              "      <td>3.364930</td>\n",
              "    </tr>\n",
              "    <tr>\n",
              "      <th>10</th>\n",
              "      <td>1.372184</td>\n",
              "      <td>1.812461</td>\n",
              "      <td>2.763769</td>\n",
              "    </tr>\n",
              "    <tr>\n",
              "      <th>19</th>\n",
              "      <td>1.327728</td>\n",
              "      <td>1.729133</td>\n",
              "      <td>2.539483</td>\n",
              "    </tr>\n",
              "    <tr>\n",
              "      <th>20</th>\n",
              "      <td>1.325341</td>\n",
              "      <td>1.724718</td>\n",
              "      <td>2.527977</td>\n",
              "    </tr>\n",
              "    <tr>\n",
              "      <th>50</th>\n",
              "      <td>1.298714</td>\n",
              "      <td>1.675905</td>\n",
              "      <td>2.403272</td>\n",
              "    </tr>\n",
              "    <tr>\n",
              "      <th>100</th>\n",
              "      <td>1.290075</td>\n",
              "      <td>1.660234</td>\n",
              "      <td>2.364217</td>\n",
              "    </tr>\n",
              "  </tbody>\n",
              "</table>\n",
              "</div>\n",
              "    <div class=\"colab-df-buttons\">\n",
              "\n",
              "  <div class=\"colab-df-container\">\n",
              "    <button class=\"colab-df-convert\" onclick=\"convertToInteractive('df-0f9d7606-2fe2-45fe-b9fa-4e274cc66b01')\"\n",
              "            title=\"Convert this dataframe to an interactive table.\"\n",
              "            style=\"display:none;\">\n",
              "\n",
              "  <svg xmlns=\"http://www.w3.org/2000/svg\" height=\"24px\" viewBox=\"0 -960 960 960\">\n",
              "    <path d=\"M120-120v-720h720v720H120Zm60-500h600v-160H180v160Zm220 220h160v-160H400v160Zm0 220h160v-160H400v160ZM180-400h160v-160H180v160Zm440 0h160v-160H620v160ZM180-180h160v-160H180v160Zm440 0h160v-160H620v160Z\"/>\n",
              "  </svg>\n",
              "    </button>\n",
              "\n",
              "  <style>\n",
              "    .colab-df-container {\n",
              "      display:flex;\n",
              "      gap: 12px;\n",
              "    }\n",
              "\n",
              "    .colab-df-convert {\n",
              "      background-color: #E8F0FE;\n",
              "      border: none;\n",
              "      border-radius: 50%;\n",
              "      cursor: pointer;\n",
              "      display: none;\n",
              "      fill: #1967D2;\n",
              "      height: 32px;\n",
              "      padding: 0 0 0 0;\n",
              "      width: 32px;\n",
              "    }\n",
              "\n",
              "    .colab-df-convert:hover {\n",
              "      background-color: #E2EBFA;\n",
              "      box-shadow: 0px 1px 2px rgba(60, 64, 67, 0.3), 0px 1px 3px 1px rgba(60, 64, 67, 0.15);\n",
              "      fill: #174EA6;\n",
              "    }\n",
              "\n",
              "    .colab-df-buttons div {\n",
              "      margin-bottom: 4px;\n",
              "    }\n",
              "\n",
              "    [theme=dark] .colab-df-convert {\n",
              "      background-color: #3B4455;\n",
              "      fill: #D2E3FC;\n",
              "    }\n",
              "\n",
              "    [theme=dark] .colab-df-convert:hover {\n",
              "      background-color: #434B5C;\n",
              "      box-shadow: 0px 1px 3px 1px rgba(0, 0, 0, 0.15);\n",
              "      filter: drop-shadow(0px 1px 2px rgba(0, 0, 0, 0.3));\n",
              "      fill: #FFFFFF;\n",
              "    }\n",
              "  </style>\n",
              "\n",
              "    <script>\n",
              "      const buttonEl =\n",
              "        document.querySelector('#df-0f9d7606-2fe2-45fe-b9fa-4e274cc66b01 button.colab-df-convert');\n",
              "      buttonEl.style.display =\n",
              "        google.colab.kernel.accessAllowed ? 'block' : 'none';\n",
              "\n",
              "      async function convertToInteractive(key) {\n",
              "        const element = document.querySelector('#df-0f9d7606-2fe2-45fe-b9fa-4e274cc66b01');\n",
              "        const dataTable =\n",
              "          await google.colab.kernel.invokeFunction('convertToInteractive',\n",
              "                                                    [key], {});\n",
              "        if (!dataTable) return;\n",
              "\n",
              "        const docLinkHtml = 'Like what you see? Visit the ' +\n",
              "          '<a target=\"_blank\" href=https://colab.research.google.com/notebooks/data_table.ipynb>data table notebook</a>'\n",
              "          + ' to learn more about interactive tables.';\n",
              "        element.innerHTML = '';\n",
              "        dataTable['output_type'] = 'display_data';\n",
              "        await google.colab.output.renderOutput(dataTable, element);\n",
              "        const docLink = document.createElement('div');\n",
              "        docLink.innerHTML = docLinkHtml;\n",
              "        element.appendChild(docLink);\n",
              "      }\n",
              "    </script>\n",
              "  </div>\n",
              "\n",
              "\n",
              "<div id=\"df-7199a4e9-3e10-4e3c-989c-e8165137143a\">\n",
              "  <button class=\"colab-df-quickchart\" onclick=\"quickchart('df-7199a4e9-3e10-4e3c-989c-e8165137143a')\"\n",
              "            title=\"Suggest charts\"\n",
              "            style=\"display:none;\">\n",
              "\n",
              "<svg xmlns=\"http://www.w3.org/2000/svg\" height=\"24px\"viewBox=\"0 0 24 24\"\n",
              "     width=\"24px\">\n",
              "    <g>\n",
              "        <path d=\"M19 3H5c-1.1 0-2 .9-2 2v14c0 1.1.9 2 2 2h14c1.1 0 2-.9 2-2V5c0-1.1-.9-2-2-2zM9 17H7v-7h2v7zm4 0h-2V7h2v10zm4 0h-2v-4h2v4z\"/>\n",
              "    </g>\n",
              "</svg>\n",
              "  </button>\n",
              "\n",
              "<style>\n",
              "  .colab-df-quickchart {\n",
              "      --bg-color: #E8F0FE;\n",
              "      --fill-color: #1967D2;\n",
              "      --hover-bg-color: #E2EBFA;\n",
              "      --hover-fill-color: #174EA6;\n",
              "      --disabled-fill-color: #AAA;\n",
              "      --disabled-bg-color: #DDD;\n",
              "  }\n",
              "\n",
              "  [theme=dark] .colab-df-quickchart {\n",
              "      --bg-color: #3B4455;\n",
              "      --fill-color: #D2E3FC;\n",
              "      --hover-bg-color: #434B5C;\n",
              "      --hover-fill-color: #FFFFFF;\n",
              "      --disabled-bg-color: #3B4455;\n",
              "      --disabled-fill-color: #666;\n",
              "  }\n",
              "\n",
              "  .colab-df-quickchart {\n",
              "    background-color: var(--bg-color);\n",
              "    border: none;\n",
              "    border-radius: 50%;\n",
              "    cursor: pointer;\n",
              "    display: none;\n",
              "    fill: var(--fill-color);\n",
              "    height: 32px;\n",
              "    padding: 0;\n",
              "    width: 32px;\n",
              "  }\n",
              "\n",
              "  .colab-df-quickchart:hover {\n",
              "    background-color: var(--hover-bg-color);\n",
              "    box-shadow: 0 1px 2px rgba(60, 64, 67, 0.3), 0 1px 3px 1px rgba(60, 64, 67, 0.15);\n",
              "    fill: var(--button-hover-fill-color);\n",
              "  }\n",
              "\n",
              "  .colab-df-quickchart-complete:disabled,\n",
              "  .colab-df-quickchart-complete:disabled:hover {\n",
              "    background-color: var(--disabled-bg-color);\n",
              "    fill: var(--disabled-fill-color);\n",
              "    box-shadow: none;\n",
              "  }\n",
              "\n",
              "  .colab-df-spinner {\n",
              "    border: 2px solid var(--fill-color);\n",
              "    border-color: transparent;\n",
              "    border-bottom-color: var(--fill-color);\n",
              "    animation:\n",
              "      spin 1s steps(1) infinite;\n",
              "  }\n",
              "\n",
              "  @keyframes spin {\n",
              "    0% {\n",
              "      border-color: transparent;\n",
              "      border-bottom-color: var(--fill-color);\n",
              "      border-left-color: var(--fill-color);\n",
              "    }\n",
              "    20% {\n",
              "      border-color: transparent;\n",
              "      border-left-color: var(--fill-color);\n",
              "      border-top-color: var(--fill-color);\n",
              "    }\n",
              "    30% {\n",
              "      border-color: transparent;\n",
              "      border-left-color: var(--fill-color);\n",
              "      border-top-color: var(--fill-color);\n",
              "      border-right-color: var(--fill-color);\n",
              "    }\n",
              "    40% {\n",
              "      border-color: transparent;\n",
              "      border-right-color: var(--fill-color);\n",
              "      border-top-color: var(--fill-color);\n",
              "    }\n",
              "    60% {\n",
              "      border-color: transparent;\n",
              "      border-right-color: var(--fill-color);\n",
              "    }\n",
              "    80% {\n",
              "      border-color: transparent;\n",
              "      border-right-color: var(--fill-color);\n",
              "      border-bottom-color: var(--fill-color);\n",
              "    }\n",
              "    90% {\n",
              "      border-color: transparent;\n",
              "      border-bottom-color: var(--fill-color);\n",
              "    }\n",
              "  }\n",
              "</style>\n",
              "\n",
              "  <script>\n",
              "    async function quickchart(key) {\n",
              "      const quickchartButtonEl =\n",
              "        document.querySelector('#' + key + ' button');\n",
              "      quickchartButtonEl.disabled = true;  // To prevent multiple clicks.\n",
              "      quickchartButtonEl.classList.add('colab-df-spinner');\n",
              "      try {\n",
              "        const charts = await google.colab.kernel.invokeFunction(\n",
              "            'suggestCharts', [key], {});\n",
              "      } catch (error) {\n",
              "        console.error('Error during call to suggestCharts:', error);\n",
              "      }\n",
              "      quickchartButtonEl.classList.remove('colab-df-spinner');\n",
              "      quickchartButtonEl.classList.add('colab-df-quickchart-complete');\n",
              "    }\n",
              "    (() => {\n",
              "      let quickchartButtonEl =\n",
              "        document.querySelector('#df-7199a4e9-3e10-4e3c-989c-e8165137143a button');\n",
              "      quickchartButtonEl.style.display =\n",
              "        google.colab.kernel.accessAllowed ? 'block' : 'none';\n",
              "    })();\n",
              "  </script>\n",
              "</div>\n",
              "    </div>\n",
              "  </div>\n"
            ],
            "application/vnd.google.colaboratory.intrinsic+json": {
              "type": "dataframe",
              "variable_name": "t_test_table",
              "summary": "{\n  \"name\": \"t_test_table\",\n  \"rows\": 8,\n  \"fields\": [\n    {\n      \"column\": 0.9,\n      \"properties\": {\n        \"dtype\": \"number\",\n        \"std\": 0.6165355587485045,\n        \"min\": 1.2900747613398769,\n        \"max\": 3.0776835372078066,\n        \"num_unique_values\": 8,\n        \"samples\": [\n          1.8856180831641507,\n          1.3253407069850462,\n          3.0776835372078066\n        ],\n        \"semantic_type\": \"\",\n        \"description\": \"\"\n      }\n    },\n    {\n      \"column\": 0.95,\n      \"properties\": {\n        \"dtype\": \"number\",\n        \"std\": 1.603827873279918,\n        \"min\": 1.66023432606575,\n        \"max\": 6.313751514800932,\n        \"num_unique_values\": 8,\n        \"samples\": [\n          2.919985580355516,\n          1.7247182429207857,\n          6.313751514800932\n        ],\n        \"semantic_type\": \"\",\n        \"description\": \"\"\n      }\n    },\n    {\n      \"column\": 0.99,\n      \"properties\": {\n        \"dtype\": \"number\",\n        \"std\": 10.208809423677794,\n        \"min\": 2.3642173659047376,\n        \"max\": 31.82051595375758,\n        \"num_unique_values\": 8,\n        \"samples\": [\n          6.964556718755855,\n          2.527977002740546,\n          31.82051595375758\n        ],\n        \"semantic_type\": \"\",\n        \"description\": \"\"\n      }\n    }\n  ]\n}"
            }
          },
          "metadata": {},
          "execution_count": 17
        }
      ]
    },
    {
      "cell_type": "markdown",
      "source": [
        "#### The End of our stats run!"
      ],
      "metadata": {
        "id": "4t8J1FQEz6zF"
      }
    },
    {
      "cell_type": "markdown",
      "source": [
        "---"
      ],
      "metadata": {
        "id": "7R-nlIVD6eKi"
      }
    },
    {
      "cell_type": "markdown",
      "source": [
        "## B. Python functions\n"
      ],
      "metadata": {
        "id": "M4H_lgA7REQB"
      }
    },
    {
      "cell_type": "markdown",
      "source": [
        " A function is a block of organised, reusable code that is used to perform an action or process on an input. Why do we use functions? Because they are reusable! If there is a particular action we know we are going to want to apply in our work or to our data multiple times, it's more efficient for us to create a function that carries out this process (if one doesn't already exist) instead of us having to type out the same code again and again.\n",
        "\n",
        "\n",
        " ![](https://github.com/Explore-AI/Public-Data/blob/master/function_components.png?raw=true)\n",
        "\n",
        "\n",
        " Note the important parts of the function:\n",
        " - `def` keyword: How we tell python that we are defining a function. This def keyword is then followed by a name for the function - which is how we call it (use it) later. **It is important to note that everything inside the function must be indented by one tab deeper than def.**\n",
        " - `return` keyword: We  want to return something from our function. Think of return as the function passing something back to the user and giving an output.\n",
        " - function `arguments`: Placeholders of our potential inputs to our function."
      ],
      "metadata": {
        "id": "0HyS1RVRRIGi"
      }
    },
    {
      "cell_type": "markdown",
      "source": [
        "#### Exercises:"
      ],
      "metadata": {
        "id": "ZIFljuNoTeBb"
      }
    },
    {
      "cell_type": "markdown",
      "source": [
        "1. Create a function that can calculate the age a person will turn in 2030 given their birth year as an input, and return a string in the format \"In 2030 this user will turn [`age`] years old\":"
      ],
      "metadata": {
        "id": "3zMQraVuThr8"
      }
    },
    {
      "cell_type": "code",
      "source": [
        "def age_2030(birth_year):\n",
        "\n",
        "  return ..."
      ],
      "metadata": {
        "id": "xSTKop8NT8PK"
      },
      "execution_count": null,
      "outputs": []
    },
    {
      "cell_type": "markdown",
      "source": [
        "2. Create a function that will take in a list of numbers, and will iterate through each element, returning a list of tuples, pairing each element with 'Yes' or 'No' based on whether each number is divisible by a particular number of the user's choosing.\n",
        "\n",
        "Example output:\n",
        "\n",
        "```python\n",
        "nums = [1, 2, 3, 4, 5, 6, 7, 8, 9]\n",
        "\n",
        "divisible_by_n(nums, 3)\n",
        "```\n",
        "\n",
        "```\n",
        "[(1, 'No'),\n",
        " (2, 'No'),\n",
        " (3, 'Yes'),\n",
        " (4, 'No'),\n",
        " (5, 'No'),\n",
        " (6, 'Yes'),\n",
        " (7, 'No'),\n",
        " (8, 'No'),\n",
        " (9, 'Yes')]\n",
        " ```"
      ],
      "metadata": {
        "id": "jlR8cyN6UG0p"
      }
    },
    {
      "cell_type": "code",
      "source": [
        "def divisible_by_n(input, divisor):\n",
        "\n",
        "  return ..."
      ],
      "metadata": {
        "id": "_Un1izvLks5b"
      },
      "execution_count": null,
      "outputs": []
    },
    {
      "cell_type": "markdown",
      "source": [
        "## C: Lambda functions"
      ],
      "metadata": {
        "id": "C1jXSjeDVFsE"
      }
    },
    {
      "cell_type": "markdown",
      "source": [
        "Lambda functions are anonymous functions expressed in a single line. Lambda functions are defined using:\n",
        "\n",
        "- The `lambda` keyword\n",
        "- The function expression\n",
        "- The function arguments\n",
        "\n",
        "\n",
        "Lambda functions make it easier to create quick function to improve code readability. Lambda functions can be useful for creating smaller functions that can be used within another function.\n",
        "\n",
        "**Syntax**\n",
        "\n",
        "```python\n",
        "lambda arguments : expression\n",
        "```\n",
        "\n",
        "**Example**\n",
        "\n",
        "To return the double of each element in a list:\n",
        "\n",
        "```python\n",
        "lambda x: (2 * x)\n",
        "```\n",
        "\n",
        "We can save our lambda function as a variable to call on it:"
      ],
      "metadata": {
        "id": "KUmDTYk6ViGb"
      }
    },
    {
      "cell_type": "code",
      "source": [
        "lam = lambda x: (2 * x)\n",
        "lam(14)"
      ],
      "metadata": {
        "colab": {
          "base_uri": "https://localhost:8080/"
        },
        "id": "wmKmCGMCWg1X",
        "outputId": "cc2c197e-7daf-44e8-e89d-e7ab3b8e45ee"
      },
      "execution_count": null,
      "outputs": [
        {
          "output_type": "execute_result",
          "data": {
            "text/plain": [
              "28"
            ]
          },
          "metadata": {},
          "execution_count": 3
        }
      ]
    },
    {
      "cell_type": "markdown",
      "source": [
        "#### Filtering with a lambda function\n",
        "Python's `filter` function can be used to select elements that meet some condition from a sequence of elements.\n",
        "\n",
        "**Syntax**\n",
        "```python\n",
        "filter (lambda x: expression, iterable_sequence)\n",
        "```\n",
        "\n",
        "**Example**\n"
      ],
      "metadata": {
        "id": "2ItnyMU34b-a"
      }
    },
    {
      "cell_type": "code",
      "source": [
        "nums = [1, 2, 3, 4, 5]\n",
        "\n",
        "list(filter(lambda x: x**2 > 10, nums)) # We iterate through, and filter for only those whose square is greater than 10"
      ],
      "metadata": {
        "colab": {
          "base_uri": "https://localhost:8080/"
        },
        "id": "mzcRxatA5HA6",
        "outputId": "72195828-16cc-49b6-8b0b-28948a3e5797"
      },
      "execution_count": null,
      "outputs": [
        {
          "output_type": "execute_result",
          "data": {
            "text/plain": [
              "[4, 5]"
            ]
          },
          "metadata": {},
          "execution_count": 2
        }
      ]
    },
    {
      "cell_type": "markdown",
      "source": [
        "#### Mapping with a lambda function\n",
        "\n",
        "We can apply our lambda function to every element in an iterable sequence (like a list) using Python's `map` function:\n",
        "\n",
        "**Syntax**\n",
        "```python\n",
        "map (lambda x: expression, iterable_sequence)\n",
        "```\n",
        "\n",
        "**Example**"
      ],
      "metadata": {
        "id": "O_1e2QQL5HqY"
      }
    },
    {
      "cell_type": "code",
      "source": [
        "nums = [1, 2, 3, 4, 5]\n",
        "\n",
        "list(map(lambda x: x + 10, nums)) # We iterate through our list, adding 10 to each element"
      ],
      "metadata": {
        "colab": {
          "base_uri": "https://localhost:8080/"
        },
        "id": "uTrqko4c4lt3",
        "outputId": "7011c7d2-c1f2-4ebb-8a48-fdc23865e64c"
      },
      "execution_count": null,
      "outputs": [
        {
          "output_type": "execute_result",
          "data": {
            "text/plain": [
              "[11, 12, 13, 14, 15]"
            ]
          },
          "metadata": {},
          "execution_count": 1
        }
      ]
    },
    {
      "cell_type": "markdown",
      "source": [
        "#### Exercises:"
      ],
      "metadata": {
        "id": "na34R6dkWmum"
      }
    },
    {
      "cell_type": "markdown",
      "source": [
        "1. Write a lambda function that will return 'True' if a given string begins with the letter 'P', and 'False' if not."
      ],
      "metadata": {
        "id": "T3sY_yMhWouY"
      }
    },
    {
      "cell_type": "code",
      "source": [],
      "metadata": {
        "id": "8qzfe1PrWme6"
      },
      "execution_count": null,
      "outputs": []
    },
    {
      "cell_type": "markdown",
      "source": [
        "2. Write two lambda function to iterate through a list of numbers, producing two separate lists - those that are even, called `even_nums`, and those that are odd, called `odd_nums`"
      ],
      "metadata": {
        "id": "WzZMgZnqWpd3"
      }
    },
    {
      "cell_type": "code",
      "source": [
        "nums = [1, 2, 3, 4, 5, 6, 7, 8, 9, 10]"
      ],
      "metadata": {
        "id": "FafGqOgS4G8V"
      },
      "execution_count": null,
      "outputs": []
    },
    {
      "cell_type": "code",
      "source": [],
      "metadata": {
        "id": "vEgpGZnBWqqE"
      },
      "execution_count": null,
      "outputs": []
    },
    {
      "cell_type": "markdown",
      "source": [
        "3. Write two lambda functions that will iterate through a list of numbers of produce a) a list of each number squared called `square_nums`, and b) a list of each number cubed called `cube_nums`"
      ],
      "metadata": {
        "id": "6A_EPWhdWrA8"
      }
    },
    {
      "cell_type": "code",
      "source": [],
      "metadata": {
        "id": "4jA6j1CIWru6"
      },
      "execution_count": null,
      "outputs": []
    },
    {
      "cell_type": "markdown",
      "source": [
        "## D: List Comprehensions"
      ],
      "metadata": {
        "id": "T6R4xHE0VIHi"
      }
    },
    {
      "cell_type": "markdown",
      "source": [
        "List comprehensions are the equivalent of set builder notation, where a set is constructed using an expression describing what it should contain.\n",
        "\n",
        "**Syntax**\n",
        "\n",
        "[ **return output** for **item** in **list** if **item** satisfies **condition** ]\n",
        "\n",
        "Note the whole list comprehension expression is in **square brackets**, and so always returns a list.\n",
        "\n",
        "**Example**\n"
      ],
      "metadata": {
        "id": "FGYhiZwSWtM2"
      }
    },
    {
      "cell_type": "code",
      "source": [
        "list_1 = [1, 3, 5, 6, 4, 2]\n",
        "comp = [x**2 for x in list_1]\n",
        "comp"
      ],
      "metadata": {
        "colab": {
          "base_uri": "https://localhost:8080/"
        },
        "id": "g8W589nZYuto",
        "outputId": "cb02a366-d1dd-486e-e287-b629c52ac5ad"
      },
      "execution_count": null,
      "outputs": [
        {
          "output_type": "execute_result",
          "data": {
            "text/plain": [
              "[1, 9, 25, 36, 16, 4]"
            ]
          },
          "metadata": {},
          "execution_count": 7
        }
      ]
    },
    {
      "cell_type": "code",
      "source": [
        "comp_2 = [x * 10 for x in list_1 if x > 2]\n",
        "comp_2"
      ],
      "metadata": {
        "colab": {
          "base_uri": "https://localhost:8080/"
        },
        "id": "0gdw-vTFY4XF",
        "outputId": "ec2c60ae-eff8-420e-b27c-85ba323a63f8"
      },
      "execution_count": null,
      "outputs": [
        {
          "output_type": "execute_result",
          "data": {
            "text/plain": [
              "[30, 50, 60, 40]"
            ]
          },
          "metadata": {},
          "execution_count": 8
        }
      ]
    },
    {
      "cell_type": "markdown",
      "source": [
        "#### Exercises:"
      ],
      "metadata": {
        "id": "PdZPsk3NZFh4"
      }
    },
    {
      "cell_type": "markdown",
      "source": [
        "1. Convert the following for loop into a list comprehension:"
      ],
      "metadata": {
        "id": "mc2gVezFZHl_"
      }
    },
    {
      "cell_type": "code",
      "source": [
        "odds_plus_one = []\n",
        "\n",
        "for x in list_1:\n",
        "  if x % 2 != 0:\n",
        "    odd_even = x + 1\n",
        "    odds_plus_one.append(odd_even)\n",
        "\n",
        "\n",
        "odds_plus_one"
      ],
      "metadata": {
        "colab": {
          "base_uri": "https://localhost:8080/"
        },
        "id": "pmDzLEBdZIdT",
        "outputId": "54f67bb9-08fb-4581-c0aa-7ccd54fef749"
      },
      "execution_count": null,
      "outputs": [
        {
          "output_type": "execute_result",
          "data": {
            "text/plain": [
              "[2, 4, 6]"
            ]
          },
          "metadata": {},
          "execution_count": 10
        }
      ]
    },
    {
      "cell_type": "code",
      "source": [],
      "metadata": {
        "colab": {
          "base_uri": "https://localhost:8080/"
        },
        "id": "3E0yBDPC-rZ6",
        "outputId": "22e456e8-ab76-4470-d8d2-f108a49bd4b6"
      },
      "execution_count": null,
      "outputs": [
        {
          "output_type": "execute_result",
          "data": {
            "text/plain": [
              "[2, 4, 6]"
            ]
          },
          "metadata": {},
          "execution_count": 11
        }
      ]
    },
    {
      "cell_type": "markdown",
      "source": [
        "2. Create a list comprehension that returns all the non-vowels in a string. Then, take this result and convert it back into one string."
      ],
      "metadata": {
        "id": "9dtzbXNPZIq2"
      }
    },
    {
      "cell_type": "code",
      "source": [
        "word = \"List comprehensions are really cool\"\n",
        "vowels = ..."
      ],
      "metadata": {
        "colab": {
          "base_uri": "https://localhost:8080/",
          "height": 35
        },
        "id": "CJ9p84KUZKRv",
        "outputId": "2e74086d-9b26-4e0c-faff-47e2054f76d2"
      },
      "execution_count": null,
      "outputs": [
        {
          "output_type": "execute_result",
          "data": {
            "text/plain": [
              "'Lst cmprhnsns r rlly cl'"
            ],
            "application/vnd.google.colaboratory.intrinsic+json": {
              "type": "string"
            }
          },
          "metadata": {},
          "execution_count": 15
        }
      ]
    },
    {
      "cell_type": "markdown",
      "source": [
        "3. Write a list comprehension that can take in a 2D matrix and can output the transposed form of this matrix (think of it as the rows become the columns and vice-versa)"
      ],
      "metadata": {
        "id": "hHJtyo-UZKla"
      }
    },
    {
      "cell_type": "code",
      "source": [],
      "metadata": {
        "colab": {
          "base_uri": "https://localhost:8080/"
        },
        "id": "yESGYx1MZLnp",
        "outputId": "5297a366-ccfc-42eb-e3f9-e159a77ee0b4"
      },
      "execution_count": null,
      "outputs": [
        {
          "output_type": "stream",
          "name": "stdout",
          "text": [
            "[[10, 40, 70], [20, 50, 80], [30, 60, 90]]\n"
          ]
        }
      ]
    },
    {
      "cell_type": "markdown",
      "source": [
        "## E: Python Algorithms"
      ],
      "metadata": {
        "id": "NZk0u0aVVOGm"
      }
    },
    {
      "cell_type": "markdown",
      "source": [
        "#### What are algorithms?\n",
        "\n",
        "- A set of steps or instructions to solve a problem or perform a computation\n",
        "- Useful for when we have a recurring problem that we can implement a particular algorithm to solve!\n",
        "![](https://cdn.ttgtmedia.com/rms/onlineimages/types_of_algorithms-f.png)\n",
        "\n",
        "\n",
        "**In-place** sorting algorithm: sorts the input using no additional data structures, i.e. modifies the input list directly instead of creating a new list for the sorted output.\n",
        "\n",
        "**Stable** sorting algorithm: preserves the original order of the input list. If we had duplicate elements in the list, the output list would contain these duplicate elements with the same relative order"
      ],
      "metadata": {
        "id": "XbPBgEELgzT1"
      }
    },
    {
      "cell_type": "markdown",
      "source": [
        "#### Sorting Algorithms\n",
        "\n",
        "**Bubble sort**\n",
        "\n",
        "For this algorithm, we 'bubble' up the largest (or smallest) element within a list to its beginning, then the 2nd largest element and the 3rd and so on to the end of the list.\n",
        "\n",
        "![](https://miro.medium.com/v2/resize:fit:776/1*7QsZkfrRGhAu5yxxeDdzsA.png)\n",
        "\n",
        "```python\n",
        "# Pseudo Code\n",
        "procedure bubble_sort( input A --> which is a list of sortable items )\n",
        "    n = length(A)\n",
        "    repeat\n",
        "        swapped = false\n",
        "        for i = 1 to n-1 inclusive do\n",
        "            # if this pair is out of order\n",
        "            if A[i-1] > A[i] then\n",
        "                # swap them and remember something changed\n",
        "                swap( A[i-1], A[i] )\n",
        "                swapped = true\n",
        "            end if\n",
        "        end for\n",
        "    until not swapped\n",
        "end procedure\n",
        "```"
      ],
      "metadata": {
        "id": "ry7gpl4LZM7o"
      }
    },
    {
      "cell_type": "markdown",
      "source": [
        "\n",
        "**Insertion Sort**\n",
        "\n",
        "In the insertion sort algorithm, we take elements from an unsorted list and insert them at the right place in a new sorted list. The sorted list is empty in the beginning.\n",
        "\n",
        "![](https://miro.medium.com/v2/resize:fit:1400/1*Tyd9a7fjF-zPUTModbU3VA.png)\n",
        "\n",
        "```python\n",
        "# Pseudo Code\n",
        "i = 1\n",
        "while i < length(A)\n",
        "    j = i\n",
        "    while j > 0 and A[j-1] > A[j]\n",
        "        swap A[j] and A[j-1]\n",
        "        j = j - 1\n",
        "    end while\n",
        "    i = i + 1\n",
        "end while\n",
        "```"
      ],
      "metadata": {
        "id": "ruIr4z73x_-e"
      }
    },
    {
      "cell_type": "markdown",
      "source": [
        "**Merge Sort**\n",
        "\n",
        "Recursively breaks down a sequence into smaller sublists until we reach a point where we are at one element per sublist. Neighbouring elements are then merged in a recursive manner, comparing elements from the lists in order to determine the final order\n",
        "\n",
        "\n",
        "![](https://miro.medium.com/v2/resize:fit:370/1*wj5YiSbqq-KNCBUGJixWoQ.png)\n",
        "\n",
        "NOTE: To write out a merge sort in Python, we normally split this into two functions - one that merges, and one that splits. Let's look at the pseudocode for the one that merges the sorted groups together first:\n",
        "\n",
        "```python\n",
        "# Pseudocode\n",
        "function merge(left, right)\n",
        "    result starts as an empty list\n",
        "\n",
        "    while left is not empty and right is not empty do\n",
        "        if left[0] ≤ right[0] then\n",
        "            result = result + left[0]\n",
        "            left = left[1:]\n",
        "        else\n",
        "            result = result + right[0]\n",
        "            right = right[1:]\n",
        "\n",
        "    # Either left or right may have elements left; consume them.\n",
        "    # (Only one of the following loops will actually be entered.)\n",
        "    while left is not empty do\n",
        "        result = result + left[0]\n",
        "        left = left[1:]\n",
        "\n",
        "    while right is not empty do\n",
        "        result = result + right[0]\n",
        "        right = right[1:]\n",
        "    return result\n",
        "```\n",
        "\n",
        "Now, let's have a look at the pseudocode of the function that would recursively split the groups. This function would use recursion, and would use the previous function within it (hence we need to define the previous function first!):\n",
        "\n",
        "\n",
        "```python\n",
        "# Pseudocode\n",
        "function merge_sort(list m)\n",
        "    # Base case. A list of zero or one element is sorted, by definition.\n",
        "    if length of m ≤ 1 then\n",
        "        return m\n",
        "\n",
        "    # Recursive case. First, divide the list into equal-sized sublists\n",
        "    # consisting of the first half and second half of the list.\n",
        "    # This assumes lists start at index 0.\n",
        "    left starts as an empty list\n",
        "    right starts as an  empty list\n",
        "    for each x with index i in m do\n",
        "        if i < (length of m)/2 then\n",
        "            left = left + x\n",
        "        else\n",
        "            right = right + x\n",
        "\n",
        "    # Recursively sort both sublists.\n",
        "    left = merge_sort(left)\n",
        "    right = merge_sort(right)\n",
        "\n",
        "    # Then merge the sorted sublists.\n",
        "    return merge(left, right)\n",
        "```"
      ],
      "metadata": {
        "id": "xM0eyCfHhD5E"
      }
    },
    {
      "cell_type": "markdown",
      "source": [
        "**Quick Sort**\n",
        "\n",
        "Selects a 'pivot' from the unsorted list, and sorts all other elements into sublists as higher or lower than this pivot. This is done recursively until we reach a point of one element per sublist. Elements can be joined in their sorted order with the pivot in the middle\n",
        "\n",
        "![](https://miro.medium.com/v2/resize:fit:577/1*bIJvejLlEshkf-ehYJJlWQ.png)\n",
        "\n",
        "```python\n",
        "# Pseudocode\n",
        "function quick_sort(arr, high_index)\n",
        "\n",
        "    if the arr has one or fewer elements\n",
        "        return the arr\n",
        "\n",
        "    # The pivot element is to the right of a joined list\n",
        "    pivot_element = arr[high_index]\n",
        "\n",
        "    small is an empty list\n",
        "    large is an empty list\n",
        "    duplicate is an empty list\n",
        "\n",
        "    for each element in the input arr\n",
        "        if the element is smaller than the pivot\n",
        "            append it to the small list\n",
        "        else if the element is bigger than the pivot\n",
        "            append it to the large list\n",
        "        else if the element is equal to the pivot\n",
        "            append it to the duplicate list\n",
        "\n",
        "    small = quick_sort(small)\n",
        "    large = quick_sort(large)\n",
        "```\n",
        "\n"
      ],
      "metadata": {
        "id": "7piZfWIZhF5Q"
      }
    },
    {
      "cell_type": "markdown",
      "source": [
        "#### Search Algorithms\n",
        "\n",
        "**Linear Search**\n",
        "Iterates one by one through all elements in a sequence until it finds the target\n",
        "\n",
        "![](https://media.geeksforgeeks.org/wp-content/cdn-uploads/Linear-Search.png)\n",
        "\n",
        "```python\n",
        "# Pseudocode\n",
        "procedure linear_search( list, target )\n",
        "    for each element in the list\n",
        "        if the element equals the target\n",
        "            return its index\n",
        "\n",
        "    return not found\n",
        "end procedure\n",
        "```"
      ],
      "metadata": {
        "id": "c7yH64xbhIKd"
      }
    },
    {
      "cell_type": "markdown",
      "source": [
        "**Binary Search**\n",
        "\n",
        "Continually splits an ordered sequence into halves, searching for a target by identifying which half of the sequence it will be in\n",
        "\n",
        "![](https://media.geeksforgeeks.org/wp-content/uploads/20220309171621/BinarySearch.png)\n",
        "\n",
        "```python\n",
        "# Pseudocode for iterative approach\n",
        "procedure binary_search_iter( list items, target )\n",
        "\n",
        "    initialise start value as zero\n",
        "    initialise end value as length(items) - 1\n",
        "\n",
        "    while start value <= end value then continue\n",
        "        mid value = (start + end) divided by 2 (floor division)\n",
        "\n",
        "        if target == mid item then\n",
        "            return mid value\n",
        "\n",
        "        if target < mid item then\n",
        "            end = mid - 1\n",
        "        else then\n",
        "            start = mid + 1\n",
        "\n",
        "    return when not found as False\n",
        "end procedure\n",
        "```"
      ],
      "metadata": {
        "id": "Uunm-uakhMHN"
      }
    },
    {
      "cell_type": "markdown",
      "source": [
        "#### Exercises"
      ],
      "metadata": {
        "id": "QC3oMqsJyhLV"
      }
    },
    {
      "cell_type": "markdown",
      "source": [
        "1. TRUE/FALSE: An in-place sorting algorithm makes use of additional data structures"
      ],
      "metadata": {
        "id": "zaryyCUaykCf"
      }
    },
    {
      "cell_type": "code",
      "source": [],
      "metadata": {
        "id": "vks_gyBfZMNY"
      },
      "execution_count": null,
      "outputs": []
    },
    {
      "cell_type": "markdown",
      "source": [
        "2. Based on the logic of the above algorithms, does Bubble sort make multiple passess through a list? Why?"
      ],
      "metadata": {
        "id": "724h-W7U0Z-m"
      }
    },
    {
      "cell_type": "code",
      "source": [],
      "metadata": {
        "id": "vlqyxVA80ba-"
      },
      "execution_count": null,
      "outputs": []
    },
    {
      "cell_type": "markdown",
      "source": [
        "3. Code the iterative implementation of the binary seach algorithm - use the pseudocode above/from the trains to help you"
      ],
      "metadata": {
        "id": "tz5pleBx0auu"
      }
    },
    {
      "cell_type": "code",
      "source": [
        "def binary_search_iter(items, target):\n",
        "\n",
        "  return ..."
      ],
      "metadata": {
        "id": "91QWKGzx0cCU"
      },
      "execution_count": null,
      "outputs": []
    },
    {
      "cell_type": "markdown",
      "source": [
        "# Python for Data Science Answers"
      ],
      "metadata": {
        "id": "fpxTcSSwDSd9"
      }
    },
    {
      "cell_type": "markdown",
      "source": [
        "## A. Python Statistics"
      ],
      "metadata": {
        "id": "Cy3SQ3iOTtoz"
      }
    },
    {
      "cell_type": "markdown",
      "source": [
        "### i) Introduction to Distribution and Inferential Statistics:"
      ],
      "metadata": {
        "id": "wbuuzJUqBKWB"
      }
    },
    {
      "cell_type": "markdown",
      "source": [
        "#### 1. Distributions"
      ],
      "metadata": {
        "id": "w-tQaW5CBRs3"
      }
    },
    {
      "cell_type": "code",
      "source": [
        "print(f'The mean is %.2f.' % np.mean(wine.alcohol))\n",
        "print(f'The median is %.2f.' % np.median(wine.alcohol))\n",
        "print(f'The mode is %.2f.' % statistics.mode(wine.alcohol))"
      ],
      "metadata": {
        "colab": {
          "base_uri": "https://localhost:8080/"
        },
        "id": "ZtnaMS4xUCUD",
        "outputId": "3d31fb98-b177-4d7a-8f6a-7d7ed9d67edc"
      },
      "execution_count": null,
      "outputs": [
        {
          "output_type": "stream",
          "name": "stdout",
          "text": [
            "The mean is 10.49.\n",
            "The median is 10.30.\n",
            "The mode is 9.50.\n"
          ]
        }
      ]
    },
    {
      "cell_type": "code",
      "source": [
        "print(f'The max is %.2f.' % np.max(wine.alcohol))\n",
        "print(f'The min is %.2f.' % np.min(wine.alcohol))"
      ],
      "metadata": {
        "id": "95D-ct07rMAJ"
      },
      "execution_count": null,
      "outputs": []
    },
    {
      "cell_type": "code",
      "source": [
        "wine.alcohol.describe()"
      ],
      "metadata": {
        "colab": {
          "base_uri": "https://localhost:8080/"
        },
        "id": "9cHaVKPrrRLS",
        "outputId": "8d8d8749-eb22-491f-d6f6-026bdd6c707c"
      },
      "execution_count": null,
      "outputs": [
        {
          "output_type": "execute_result",
          "data": {
            "text/plain": [
              "count    6497.000000\n",
              "mean       10.491801\n",
              "std         1.192712\n",
              "min         8.000000\n",
              "25%         9.500000\n",
              "50%        10.300000\n",
              "75%        11.300000\n",
              "max        14.900000\n",
              "Name: alcohol, dtype: float64"
            ]
          },
          "metadata": {},
          "execution_count": 21
        }
      ]
    },
    {
      "cell_type": "markdown",
      "source": [
        "#### 2. Box Plot"
      ],
      "metadata": {
        "id": "89bv2YIRBVgH"
      }
    },
    {
      "cell_type": "code",
      "source": [
        "plt.boxplot(wine.alcohol)"
      ],
      "metadata": {
        "colab": {
          "base_uri": "https://localhost:8080/",
          "height": 661
        },
        "id": "lZBlL40SrUqR",
        "outputId": "9d88004d-d2b3-4fdb-8fe9-e73a3efa1634"
      },
      "execution_count": null,
      "outputs": [
        {
          "output_type": "execute_result",
          "data": {
            "text/plain": [
              "{'whiskers': [<matplotlib.lines.Line2D at 0x7c18b2788f40>,\n",
              "  <matplotlib.lines.Line2D at 0x7c18ae8f8d00>],\n",
              " 'caps': [<matplotlib.lines.Line2D at 0x7c18ae8f8640>,\n",
              "  <matplotlib.lines.Line2D at 0x7c18ae8f82b0>],\n",
              " 'boxes': [<matplotlib.lines.Line2D at 0x7c18ae73d6c0>],\n",
              " 'medians': [<matplotlib.lines.Line2D at 0x7c18ae8fb700>],\n",
              " 'fliers': [<matplotlib.lines.Line2D at 0x7c18ae8fbb80>],\n",
              " 'means': []}"
            ]
          },
          "metadata": {},
          "execution_count": 23
        },
        {
          "output_type": "display_data",
          "data": {
            "text/plain": [
              "<Figure size 1000x600 with 1 Axes>"
            ],
            "image/png": "[encoded data removed]"
          },
          "metadata": {}
        }
      ]
    },
    {
      "cell_type": "markdown",
      "source": [
        "#### 3.Histogram"
      ],
      "metadata": {
        "id": "a8kCVjvzBg0Y"
      }
    },
    {
      "cell_type": "code",
      "source": [
        "plt.hist(wine.alcohol,bins=20, color= \"lavender\")\n",
        "plt.axvline(statistics.mode(wine.alcohol), color=\"grey\")\n",
        "plt.show()"
      ],
      "metadata": {
        "colab": {
          "base_uri": "https://localhost:8080/",
          "height": 522
        },
        "id": "Oi9EUqULrbdn",
        "outputId": "3727d043-f3dd-4c91-bc31-36e0da142cae"
      },
      "execution_count": null,
      "outputs": [
        {
          "output_type": "display_data",
          "data": {
            "text/plain": [
              "<Figure size 1000x600 with 1 Axes>"
            ],
            "image/png": "[encoded data removed]"
          },
          "metadata": {}
        }
      ]
    },
    {
      "cell_type": "markdown",
      "source": [
        "### ii) The normal distribution & probability density calculations in python"
      ],
      "metadata": {
        "id": "Ma5De9i_CMoR"
      }
    },
    {
      "cell_type": "markdown",
      "source": [
        "#### 4. Distribution Graphs"
      ],
      "metadata": {
        "id": "TYSrOOYBBrJV"
      }
    },
    {
      "cell_type": "markdown",
      "source": [
        "* Poisson Distribution"
      ],
      "metadata": {
        "id": "JVZ1JvlLtLES"
      }
    },
    {
      "cell_type": "code",
      "source": [
        "poisson_lambda = 2.4\n",
        "x = np.arange(0,11)\n",
        "px = st.poisson.pmf(x, poisson_lambda)\n",
        "\n",
        "plt.rcParams[\"figure.figsize\"] = (10,6)\n",
        "plt.plot(x, px, 'k', label = 'lambda = 2.4')\n",
        "plt.legend()\n",
        "plt.show()"
      ],
      "metadata": {
        "colab": {
          "base_uri": "https://localhost:8080/",
          "height": 522
        },
        "id": "_f_cYX3grsad",
        "outputId": "8239db46-ce42-432c-db35-221d39d7539f"
      },
      "execution_count": null,
      "outputs": [
        {
          "output_type": "display_data",
          "data": {
            "text/plain": [
              "<Figure size 1000x600 with 1 Axes>"
            ],
            "image/png": "[encoded data removed]"
          },
          "metadata": {}
        }
      ]
    },
    {
      "cell_type": "markdown",
      "source": [
        "* Exponential distribution"
      ],
      "metadata": {
        "id": "4cFGVNu9uIZj"
      }
    },
    {
      "cell_type": "code",
      "source": [
        "poisson_lambda = 0.3\n",
        "x = np.arange(0,5,0.01)\n",
        "dx = st.expon.pdf(x, scale = 1/poisson_lambda)\n",
        "\n",
        "plt.rcParams[\"figure.figsize\"] = (10,6)\n",
        "plt.plot(x, dx, 'k')\n",
        "plt.show()"
      ],
      "metadata": {
        "colab": {
          "base_uri": "https://localhost:8080/",
          "height": 522
        },
        "id": "-sGzl5lUsAsc",
        "outputId": "1c09604b-0d52-48b8-8d4d-1480e9aa4b85"
      },
      "execution_count": null,
      "outputs": [
        {
          "output_type": "display_data",
          "data": {
            "text/plain": [
              "<Figure size 1000x600 with 1 Axes>"
            ],
            "image/png": "[encoded data removed]"
          },
          "metadata": {}
        }
      ]
    },
    {
      "cell_type": "markdown",
      "source": [
        "* T-Test Statistic"
      ],
      "metadata": {
        "id": "Y8ZbJyIL602D"
      }
    },
    {
      "cell_type": "code",
      "source": [
        "def t_test(x_bar,x,mu,sigma):\n",
        "    t = ((x_bar-mu)/(sigma/len(x**1/2)))\n",
        "    return t"
      ],
      "metadata": {
        "id": "6363zFAP4OYQ"
      },
      "execution_count": null,
      "outputs": []
    },
    {
      "cell_type": "code",
      "source": [
        "t_test_2 = t_test(x_bar,x,mu,sigma)\n",
        "print(round(t_test_2,2))"
      ],
      "metadata": {
        "colab": {
          "base_uri": "https://localhost:8080/"
        },
        "id": "g70NSkoY4UW9",
        "outputId": "be8a2d94-1481-47d3-a1fe-dc2ec5bbb864"
      },
      "execution_count": null,
      "outputs": [
        {
          "output_type": "stream",
          "name": "stdout",
          "text": [
            "3.42\n"
          ]
        }
      ]
    },
    {
      "cell_type": "markdown",
      "source": [
        "---"
      ],
      "metadata": {
        "id": "PjiYrAvM4VbJ"
      }
    },
    {
      "cell_type": "markdown",
      "source": [
        "## B. Python Functions"
      ],
      "metadata": {
        "id": "fB_v_jFd7VFt"
      }
    },
    {
      "cell_type": "markdown",
      "source": [
        "1. Create a function that can calculate the age a person will turn in 2030 given their birth year as an input, and return a string in the format \"In 2030 this user will turn [age] years old\":"
      ],
      "metadata": {
        "id": "WanVbWuh7l2c"
      }
    },
    {
      "cell_type": "code",
      "source": [
        "def age_2030(birth_year):\n",
        "  age = 2030 - birth_year\n",
        "  return \"In 2030 this user will turn \" + age + \"years old\""
      ],
      "metadata": {
        "id": "pdFKUxjQ7nGO"
      },
      "execution_count": null,
      "outputs": []
    },
    {
      "cell_type": "markdown",
      "source": [
        "2. Create a function that will take in a list of numbers, and will iterate through each element, returning a list of tuples, pairing each element with 'Yes' or 'No' based on whether each number is divisible by a particular number of the user's choosing."
      ],
      "metadata": {
        "id": "c3_-4UaG7ppv"
      }
    },
    {
      "cell_type": "code",
      "source": [
        "def divisible_by_n(input, divisor):\n",
        "  res = []\n",
        "  for x in input:\n",
        "    if x % int(divisor) == 0:\n",
        "      res.append((x, \"Yes\"))\n",
        "    else:\n",
        "      res.append((x, \"No\"))\n",
        "  return res\n"
      ],
      "metadata": {
        "id": "Ouxrm_HP9dqW"
      },
      "execution_count": null,
      "outputs": []
    },
    {
      "cell_type": "code",
      "source": [
        "nums = [1, 2, 3, 4, 5, 6, 7, 8, 9]\n",
        "\n",
        "divisible_by_n(nums, 3)"
      ],
      "metadata": {
        "colab": {
          "base_uri": "https://localhost:8080/"
        },
        "id": "JwLj97Da92xe",
        "outputId": "46b4eb51-7bbd-4df8-b8bd-e742ad086206"
      },
      "execution_count": null,
      "outputs": [
        {
          "output_type": "execute_result",
          "data": {
            "text/plain": [
              "[(1, 'No'),\n",
              " (2, 'No'),\n",
              " (3, 'Yes'),\n",
              " (4, 'No'),\n",
              " (5, 'No'),\n",
              " (6, 'Yes'),\n",
              " (7, 'No'),\n",
              " (8, 'No'),\n",
              " (9, 'Yes')]"
            ]
          },
          "metadata": {},
          "execution_count": 5
        }
      ]
    },
    {
      "cell_type": "markdown",
      "source": [
        "## C. Lambda Functions"
      ],
      "metadata": {
        "id": "R2rgAcAD7XtX"
      }
    },
    {
      "cell_type": "markdown",
      "source": [
        "1. Write a lambda function that will return 'True' if a given string begins with the letter 'P', and 'False' if not."
      ],
      "metadata": {
        "id": "SodtkP5_7vzH"
      }
    },
    {
      "cell_type": "code",
      "source": [
        "starts_with = lambda x: True if x.startswith('P') else False"
      ],
      "metadata": {
        "id": "gl-RXNB27wxu"
      },
      "execution_count": null,
      "outputs": []
    },
    {
      "cell_type": "markdown",
      "source": [
        "2. Write two lambda function to iterate through a list of numbers, producing two separate lists - those that are even, called even_nums, and those that are odd, called odd_nums"
      ],
      "metadata": {
        "id": "FmVh1sFG7zmo"
      }
    },
    {
      "cell_type": "code",
      "source": [
        "nums = [1, 2, 3, 4, 5, 6, 7, 8, 9, 10]"
      ],
      "metadata": {
        "id": "RYEV6XyW73or"
      },
      "execution_count": null,
      "outputs": []
    },
    {
      "cell_type": "code",
      "source": [
        "even_nums = list(filter(lambda x: x % 2 == 0, nums))\n",
        "\n",
        "odd_nums = list(filter(lambda x: x % 2 != 0, nums))"
      ],
      "metadata": {
        "id": "UfG-HoRX75se"
      },
      "execution_count": null,
      "outputs": []
    },
    {
      "cell_type": "markdown",
      "source": [
        "3. Write two lambda functions that will iterate through a list of numbers of produce a) a list of each number squared called square_nums, and b) a list of each number cubed called cube_nums"
      ],
      "metadata": {
        "id": "1kbjWtna7-KY"
      }
    },
    {
      "cell_type": "code",
      "source": [
        "square_nums = list(map(lambda x: x ** 2, nums))\n",
        "\n",
        "cube_nums = list(map(lambda x: x ** 3, nums))"
      ],
      "metadata": {
        "id": "zSbPsoNa7_17"
      },
      "execution_count": null,
      "outputs": []
    },
    {
      "cell_type": "markdown",
      "source": [
        "## D. List Comprehensions"
      ],
      "metadata": {
        "id": "256wmb9p7b8U"
      }
    },
    {
      "cell_type": "markdown",
      "source": [
        "1. Convert the following for loop into a list comprehension:"
      ],
      "metadata": {
        "id": "KkTjdjAH8KgG"
      }
    },
    {
      "cell_type": "code",
      "source": [
        "odds_plus_one = [(x+1) for x in list_1 if x%2 != 0]\n",
        "odds_plus_one"
      ],
      "metadata": {
        "id": "PKnhJCln8OL4"
      },
      "execution_count": null,
      "outputs": []
    },
    {
      "cell_type": "markdown",
      "source": [
        "2. Create a list comprehension that returns all the non-vowels in a string. Then, take this result and convert it back into one string."
      ],
      "metadata": {
        "id": "_JeXPMDM8R1u"
      }
    },
    {
      "cell_type": "code",
      "source": [
        "word = \"List comprehensions are really cool\"\n",
        "vowels = \"aeiou\"\n",
        "\n",
        "non_vowels = [char for char in word if char not in vowels]\n",
        "\n",
        "fin = ''.join(non_vowels)\n",
        "fin"
      ],
      "metadata": {
        "id": "-qhqJ5YZ8TLo"
      },
      "execution_count": null,
      "outputs": []
    },
    {
      "cell_type": "markdown",
      "source": [
        "3. Write a list comprehension that can take in a 2D matrix and can output the transposed form of this matrix (think of it as the rows become the columns and vice-versa)"
      ],
      "metadata": {
        "id": "zgKZN78J8ecO"
      }
    },
    {
      "cell_type": "code",
      "source": [
        "twoDMatrix = [[10, 20, 30],\n",
        "              [40, 50, 60],\n",
        "              [70, 80, 90]]\n",
        "\n",
        "# Generate transpose\n",
        "trans = [[i[j] for i in twoDMatrix] for j in range(len(twoDMatrix[0]))]\n",
        "\n",
        "print(trans)"
      ],
      "metadata": {
        "id": "OpG8SDnN8hXm"
      },
      "execution_count": null,
      "outputs": []
    },
    {
      "cell_type": "markdown",
      "source": [
        "## E. Python Algorithms"
      ],
      "metadata": {
        "id": "nDjT6An-7e7_"
      }
    },
    {
      "cell_type": "markdown",
      "source": [
        "1. TRUE/FALSE: An in-place sorting algorithm makes use of additional data structures"
      ],
      "metadata": {
        "id": "qdDdtfg-8rmh"
      }
    },
    {
      "cell_type": "markdown",
      "source": [
        "FALSE -  an in-place sorting algortihm modifies the input list directly instead of creating a new list for the sorted output."
      ],
      "metadata": {
        "id": "310e0jSv8tYp"
      }
    },
    {
      "cell_type": "markdown",
      "source": [
        "2. Based on the logic of the above algorithms, does Bubble sort make multiple passess through a list? Why?"
      ],
      "metadata": {
        "id": "2apyZkBp8yiP"
      }
    },
    {
      "cell_type": "markdown",
      "source": [
        "Yes - bubble sort compares only adjacent items and swaps any that are out of order. It has to pass through the list multiple times in order to places the next largest value in its proper place."
      ],
      "metadata": {
        "id": "-vKWNei784D0"
      }
    },
    {
      "cell_type": "markdown",
      "source": [
        "3. Code the iterative implementation of the binary seach algorithm - use the pseudocode above/from the trains to help you"
      ],
      "metadata": {
        "id": "vGXJK0Yn89gD"
      }
    },
    {
      "cell_type": "code",
      "source": [
        "def binary_search_iter(items, target):\n",
        "    start = 0\n",
        "    end = len(items) -1\n",
        "\n",
        "    while start <= end:\n",
        "        mid = (start + end)//2\n",
        "\n",
        "        if target == items[mid]:\n",
        "            return mid\n",
        "        elif target < items[mid]:\n",
        "            end = mid -1\n",
        "        else:\n",
        "            start = mid +1\n",
        "\n",
        "    return None"
      ],
      "metadata": {
        "id": "Ebe7Yvkr8-dz"
      },
      "execution_count": null,
      "outputs": []
    },
    {
      "cell_type": "markdown",
      "source": [
        "# 2. Structured Query Language (SQL) for Data Science"
      ],
      "metadata": {
        "id": "5wnct2gJ6gpD"
      }
    },
    {
      "cell_type": "markdown",
      "source": [
        "## A. String Manipulation"
      ],
      "metadata": {
        "id": "_ZzdyGTvACCN"
      }
    },
    {
      "cell_type": "markdown",
      "source": [
        "- **LENGTH**(string) : Find the Length of a string\n",
        "\n",
        "![](https://raw.githubusercontent.com/Explore-AI/Pictures/master/SQL4DS/String_Manipulation/LENGTH.png)\n",
        "\n",
        "---\n",
        "\n",
        "\n",
        "- **REPLACE**(string, pattern, replacement_string) : Replace a substring with a substring of your choice.\n",
        "\n",
        "![](https://raw.githubusercontent.com/Explore-AI/Pictures/master/SQL4DS/String_Manipulation/REPLACE.png)\n",
        "\n",
        "\n",
        "---\n",
        "\n",
        "\n",
        "- **RTRIM**(string [, pattern]), **LTRIM**(string [, pattern]), **TRIM**(string [, pattern]) : Remove whitespaces or string patterns of your choice.\n",
        "\n",
        "![](https://raw.githubusercontent.com/Explore-AI/Pictures/master/SQL4DS/String_Manipulation/TRIM.png)\n",
        "\n",
        "---\n",
        "\n",
        "\n",
        "- **SUBSTR**(string,starting_index,number_of_characters) : Find specified substrings within your original string.\n",
        "\n",
        "\n",
        "![](https://raw.githubusercontent.com/Explore-AI/Pictures/master/SQL4DS/String_Manipulation/SUBSTR.png)\n",
        "\n",
        "---\n",
        "\n",
        "\n",
        "- **INSTR**(string, substring) : Find the index of a specified substring.\n",
        "\n",
        "![](https://raw.githubusercontent.com/Explore-AI/Pictures/master/SQL4DS/String_Manipulation/INSTR.png)\n",
        "\n",
        "\n",
        "---\n",
        "\n",
        "\n",
        "\n",
        "- **UPPER**(string), **LOWE**R(string) : Convert strings to lowercase or uppercase.\n",
        "\n",
        "![](https://raw.githubusercontent.com/Explore-AI/Pictures/master/SQL4DS/String_Manipulation/UPPER_LOWER.png)\n",
        "\n",
        "\n",
        "---\n",
        "\n",
        "\n",
        "- **Concatenation Operator** - || : join two strings.\n",
        "\n",
        "```sql\n",
        "string_1 || string_2 || string_3 || ... || string_n\n",
        "```\n",
        "\n",
        "\n",
        "\n",
        "\n",
        "\n"
      ],
      "metadata": {
        "id": "O-FKigZqAMm5"
      }
    },
    {
      "cell_type": "markdown",
      "source": [
        "### String Manipulation Exercises:"
      ],
      "metadata": {
        "id": "yOfcJVHyAsXS"
      }
    },
    {
      "cell_type": "code",
      "source": [
        "import sqlite3\n",
        "import csv\n",
        "from sqlalchemy import create_engine\n",
        "%load_ext sql\n",
        "\n",
        "# Create engine instance using sqlalchemy\n",
        "%sql sqlite:///Students.db"
      ],
      "metadata": {
        "id": "lK03Wpr1B3n2"
      },
      "execution_count": null,
      "outputs": []
    },
    {
      "cell_type": "code",
      "source": [
        "%%sql\n",
        "\n",
        "-- start off with a quick look at our data\n",
        "SELECT *\n",
        "FROM Students\n",
        "LIMIT 5"
      ],
      "metadata": {
        "colab": {
          "base_uri": "https://localhost:8080/"
        },
        "id": "J19AIVmyOO3e",
        "outputId": "deb84358-34c8-4e03-c68c-d9a67cbe53b8"
      },
      "execution_count": null,
      "outputs": [
        {
          "output_type": "stream",
          "name": "stdout",
          "text": [
            " * sqlite:///Students.db\n",
            "Done.\n"
          ]
        },
        {
          "output_type": "execute_result",
          "data": {
            "text/plain": [
              "[(1, '  Jan', 'Makhanya', '#820410-5405-084#'),\n",
              " (2, 'Dumisani', 'Morris', '9005272774082'),\n",
              " (3, '     Christopher', 'Bennett', '9011245483180'),\n",
              " (4, 'Marco              ', 'barnes', '9902225381086'),\n",
              " (5, 'marthinus', 'Lourens          ', '8105294344187')]"
            ],
            "text/html": [
              "<table>\n",
              "    <thead>\n",
              "        <tr>\n",
              "            <th>AdmissionNo</th>\n",
              "            <th>Name</th>\n",
              "            <th>Surname</th>\n",
              "            <th>IDNumber</th>\n",
              "        </tr>\n",
              "    </thead>\n",
              "    <tbody>\n",
              "        <tr>\n",
              "            <td>1</td>\n",
              "            <td>&nbsp;&nbsp;Jan</td>\n",
              "            <td>Makhanya</td>\n",
              "            <td>#820410-5405-084#</td>\n",
              "        </tr>\n",
              "        <tr>\n",
              "            <td>2</td>\n",
              "            <td>Dumisani</td>\n",
              "            <td>Morris</td>\n",
              "            <td>9005272774082</td>\n",
              "        </tr>\n",
              "        <tr>\n",
              "            <td>3</td>\n",
              "            <td>&nbsp;&nbsp;&nbsp;&nbsp;&nbsp;Christopher</td>\n",
              "            <td>Bennett</td>\n",
              "            <td>9011245483180</td>\n",
              "        </tr>\n",
              "        <tr>\n",
              "            <td>4</td>\n",
              "            <td>Marco              </td>\n",
              "            <td>barnes</td>\n",
              "            <td>9902225381086</td>\n",
              "        </tr>\n",
              "        <tr>\n",
              "            <td>5</td>\n",
              "            <td>marthinus</td>\n",
              "            <td>Lourens          </td>\n",
              "            <td>8105294344187</td>\n",
              "        </tr>\n",
              "    </tbody>\n",
              "</table>"
            ]
          },
          "metadata": {},
          "execution_count": 2
        }
      ]
    },
    {
      "cell_type": "markdown",
      "source": [
        "1. We can see that there are a lot of IDs entered incorrectly. Find the number of incorrectly entered IDs (hint: the correct length of an ID number is 13)"
      ],
      "metadata": {
        "id": "45e1bpX4OdHg"
      }
    },
    {
      "cell_type": "code",
      "source": [
        "%%sql\n"
      ],
      "metadata": {
        "colab": {
          "base_uri": "https://localhost:8080/"
        },
        "id": "8X7PmZ7kOmpy",
        "outputId": "539f7d50-ae1c-4071-b7da-81d9a8056432"
      },
      "execution_count": null,
      "outputs": [
        {
          "output_type": "stream",
          "name": "stdout",
          "text": [
            " * sqlite:///Students.db\n",
            "Done.\n"
          ]
        },
        {
          "output_type": "execute_result",
          "data": {
            "text/plain": [
              "[(10,)]"
            ],
            "text/html": [
              "<table>\n",
              "    <thead>\n",
              "        <tr>\n",
              "            <th>COUNT(*)</th>\n",
              "        </tr>\n",
              "    </thead>\n",
              "    <tbody>\n",
              "        <tr>\n",
              "            <td>10</td>\n",
              "        </tr>\n",
              "    </tbody>\n",
              "</table>"
            ]
          },
          "metadata": {},
          "execution_count": 6
        }
      ]
    },
    {
      "cell_type": "markdown",
      "source": [
        "2. Which function would we use to remove all whitespaces around the Names? Apply this to the Name column and find the student with the longest name"
      ],
      "metadata": {
        "id": "XSCSeWGFSAuU"
      }
    },
    {
      "cell_type": "code",
      "source": [
        "%%sql\n"
      ],
      "metadata": {
        "colab": {
          "base_uri": "https://localhost:8080/"
        },
        "id": "oa24C0R2SMQr",
        "outputId": "01fffb69-30d1-400d-e120-2393cb1daec6"
      },
      "execution_count": null,
      "outputs": [
        {
          "output_type": "stream",
          "name": "stdout",
          "text": [
            " * sqlite:///Students.db\n",
            "Done.\n"
          ]
        },
        {
          "output_type": "execute_result",
          "data": {
            "text/plain": [
              "[('Christopher',)]"
            ],
            "text/html": [
              "<table>\n",
              "    <thead>\n",
              "        <tr>\n",
              "            <th>TrimmedName</th>\n",
              "        </tr>\n",
              "    </thead>\n",
              "    <tbody>\n",
              "        <tr>\n",
              "            <td>Christopher</td>\n",
              "        </tr>\n",
              "    </tbody>\n",
              "</table>"
            ]
          },
          "metadata": {},
          "execution_count": 8
        }
      ]
    },
    {
      "cell_type": "markdown",
      "source": [
        "3. We're setting up a new platform for our students, and we need to make usernames for them! Return a table with a new column 'Username', where the username is made up of the first letter of their first name, followed by their last name. The username should be in lowercase (e.g. Leham Greeves --> lgreeves)"
      ],
      "metadata": {
        "id": "VWW-MkIaUSxY"
      }
    },
    {
      "cell_type": "code",
      "source": [
        "%%sql\n"
      ],
      "metadata": {
        "colab": {
          "base_uri": "https://localhost:8080/"
        },
        "id": "cUPakrpjUmIL",
        "outputId": "219a1a2e-5797-4f51-cc15-4b1838d11543"
      },
      "execution_count": null,
      "outputs": [
        {
          "output_type": "stream",
          "name": "stdout",
          "text": [
            " * sqlite:///Students.db\n",
            "Done.\n"
          ]
        },
        {
          "output_type": "execute_result",
          "data": {
            "text/plain": [
              "[('  Jan', 'Makhanya', '#820410-5405-084#', 'jmakhanya'),\n",
              " ('Dumisani', 'Morris', '9005272774082', 'dmorris'),\n",
              " ('     Christopher', 'Bennett', '9011245483180', 'cbennett'),\n",
              " ('Marco              ', 'barnes', '9902225381086', 'mbarnes'),\n",
              " ('marthinus', 'Lourens          ', '8105294344187', 'mlourens'),\n",
              " ('Patience', 'Banda', '5911252957188', 'pbanda'),\n",
              " ('Tony', '     Ngwenya', '5006191871185', 'tngwenya'),\n",
              " ('gugulethu             ', '   Horn', '#501004-621-2182#', 'ghorn'),\n",
              " (' Tumelo', 'Ebrahim', '#751010-414-4187#', 'tebrahim'),\n",
              " ('Priscilla', 'Jansen        ', '6812103283181', 'pjansen')]"
            ],
            "text/html": [
              "<table>\n",
              "    <thead>\n",
              "        <tr>\n",
              "            <th>Name</th>\n",
              "            <th>Surname</th>\n",
              "            <th>IDNumber</th>\n",
              "            <th>Username</th>\n",
              "        </tr>\n",
              "    </thead>\n",
              "    <tbody>\n",
              "        <tr>\n",
              "            <td>&nbsp;&nbsp;Jan</td>\n",
              "            <td>Makhanya</td>\n",
              "            <td>#820410-5405-084#</td>\n",
              "            <td>jmakhanya</td>\n",
              "        </tr>\n",
              "        <tr>\n",
              "            <td>Dumisani</td>\n",
              "            <td>Morris</td>\n",
              "            <td>9005272774082</td>\n",
              "            <td>dmorris</td>\n",
              "        </tr>\n",
              "        <tr>\n",
              "            <td>&nbsp;&nbsp;&nbsp;&nbsp;&nbsp;Christopher</td>\n",
              "            <td>Bennett</td>\n",
              "            <td>9011245483180</td>\n",
              "            <td>cbennett</td>\n",
              "        </tr>\n",
              "        <tr>\n",
              "            <td>Marco              </td>\n",
              "            <td>barnes</td>\n",
              "            <td>9902225381086</td>\n",
              "            <td>mbarnes</td>\n",
              "        </tr>\n",
              "        <tr>\n",
              "            <td>marthinus</td>\n",
              "            <td>Lourens          </td>\n",
              "            <td>8105294344187</td>\n",
              "            <td>mlourens</td>\n",
              "        </tr>\n",
              "        <tr>\n",
              "            <td>Patience</td>\n",
              "            <td>Banda</td>\n",
              "            <td>5911252957188</td>\n",
              "            <td>pbanda</td>\n",
              "        </tr>\n",
              "        <tr>\n",
              "            <td>Tony</td>\n",
              "            <td>&nbsp;&nbsp;&nbsp;&nbsp;&nbsp;Ngwenya</td>\n",
              "            <td>5006191871185</td>\n",
              "            <td>tngwenya</td>\n",
              "        </tr>\n",
              "        <tr>\n",
              "            <td>gugulethu             </td>\n",
              "            <td>&nbsp;&nbsp;&nbsp;Horn</td>\n",
              "            <td>#501004-621-2182#</td>\n",
              "            <td>ghorn</td>\n",
              "        </tr>\n",
              "        <tr>\n",
              "            <td> Tumelo</td>\n",
              "            <td>Ebrahim</td>\n",
              "            <td>#751010-414-4187#</td>\n",
              "            <td>tebrahim</td>\n",
              "        </tr>\n",
              "        <tr>\n",
              "            <td>Priscilla</td>\n",
              "            <td>Jansen        </td>\n",
              "            <td>6812103283181</td>\n",
              "            <td>pjansen</td>\n",
              "        </tr>\n",
              "    </tbody>\n",
              "</table>"
            ]
          },
          "metadata": {},
          "execution_count": 10
        }
      ]
    },
    {
      "cell_type": "markdown",
      "source": [
        "BONUS. Investigate the IDNumbers with a length != 13, and what is wrong with these IDs. Use the string manipulation functions to clean up these IDNumbers in a new column called CleanIDNumber"
      ],
      "metadata": {
        "id": "eqzQT-n6TB6T"
      }
    },
    {
      "cell_type": "code",
      "source": [
        "%%sql"
      ],
      "metadata": {
        "id": "9G4gzmJsTNvg"
      },
      "execution_count": null,
      "outputs": []
    },
    {
      "cell_type": "markdown",
      "source": [
        "BONUS. Write a query to obtain all information contained within an ID Number\n",
        "An ID number has various information built into it:\n",
        "\n",
        "- The first 6 characters represent a person's date of birth in the format YYMMDD.\n",
        "- The next 4 characters tell us whether the person is MALE or FEMALE if the number is less than 5000 then the person is female, else if the number is greater than 5000 then the person is Male.\n",
        "- The 11th character tells us whether the person is a South African citizen by birth or a Permanent Resident."
      ],
      "metadata": {
        "id": "KvzuGrfcCADs"
      }
    },
    {
      "cell_type": "markdown",
      "source": [
        "![](https://raw.githubusercontent.com/Explore-AI/Pictures/master/SQL4DS/String_Manipulation/ID_Breakdown.png)"
      ],
      "metadata": {
        "id": "upyWRkZQCHPl"
      }
    },
    {
      "cell_type": "code",
      "source": [
        "# your answer here"
      ],
      "metadata": {
        "id": "CCHq0pbsCJWh"
      },
      "execution_count": null,
      "outputs": []
    },
    {
      "cell_type": "markdown",
      "source": [
        "## B. Data Transformations"
      ],
      "metadata": {
        "id": "YXvRZ2wBAv1_"
      }
    },
    {
      "cell_type": "markdown",
      "source": [
        "- **DISTINCT** : returns unique values\n",
        "\n",
        "```sql\n",
        "SELECT\n",
        "    DISTINCT column_1,\n",
        "    column_2,\n",
        "    column_3,\n",
        "    .\n",
        "    .\n",
        "    .,\n",
        "    column_n\n",
        "FROM TableName\n",
        "```\n",
        "---\n",
        "\n",
        "- **CASE** : used to assign/associate a condition with a particular result\n",
        "\n",
        "\n",
        "```sql\n",
        "CASE\n",
        "    WHEN conditon_1 THEN result_1\n",
        "    WHEN conditon_2 THEN result_2\n",
        "    .\n",
        "    .\n",
        "    .\n",
        "    WHEN conditon_n THEN result_n\n",
        "[ELSE result_n+1]\n",
        "END AS ColumnName\n",
        "```\n",
        "\n",
        "---\n",
        "\n",
        "- **IIF**() : create conditional 'if-else' logic within your SQL quries\n",
        "\n",
        "```sql\n",
        "IIF(condition_x,result_1,result_2)\n",
        "```\n",
        "\n",
        "---\n",
        "\n",
        "\n",
        "- **COALESCE**() : get rid of null values. Works by returning the first non-null argument value\n",
        "\n",
        "\n",
        "```sql\n",
        "COALESCE(value_1,value_2,value_3,...,value_n)\n",
        "```\n",
        "\n",
        "---\n",
        "\n",
        "\n",
        "- **NULLIF**() : used when we want to insert null for particular values that exist in our database\n",
        "\n",
        "```sql\n",
        "NULLIF(value_1, value_2)\n",
        "```\n",
        "\n",
        "---\n",
        "\n",
        "\n",
        "- **CAST**() : Cast variables to suitable data types\n",
        "\n",
        "```sql\n",
        "CAST(value AS datatype)\n",
        "```"
      ],
      "metadata": {
        "id": "gW6TsBO9A0oZ"
      }
    },
    {
      "cell_type": "markdown",
      "source": [
        "### Data Transformation Exercises"
      ],
      "metadata": {
        "id": "sDUgVd_UXE03"
      }
    },
    {
      "cell_type": "code",
      "source": [
        "# Create engine instance using sqlalchemy\n",
        "%sql sqlite:///chinook.db"
      ],
      "metadata": {
        "id": "CbyfGoLuAsJ-"
      },
      "execution_count": null,
      "outputs": []
    },
    {
      "cell_type": "code",
      "source": [
        "%%sql\n",
        "SELECT *\n",
        "FROM Customers\n",
        "LIMIT 5"
      ],
      "metadata": {
        "id": "G9wQg3Ie6m4Z",
        "colab": {
          "base_uri": "https://localhost:8080/",
          "height": 266
        },
        "outputId": "94c6a06b-b79f-496a-dfd2-c9cc5781754c"
      },
      "execution_count": null,
      "outputs": [
        {
          "output_type": "stream",
          "name": "stdout",
          "text": [
            "   sqlite:///Students.db\n",
            " * sqlite:///chinook.db\n",
            "Done.\n"
          ]
        },
        {
          "output_type": "execute_result",
          "data": {
            "text/plain": [
              "[(1, 'Luís', 'Gonçalves', 'Embraer - Empresa Brasileira de Aeronáutica S.A.', 'Av. Brigadeiro Faria Lima, 2170', 'São José dos Campos', 'SP', 'Brazil', '12227-000', '+55 (12) 3923-5555', '+55 (12) 3923-5566', 'luisg@embraer.com.br', 3),\n",
              " (2, 'Leonie', 'Köhler', None, 'Theodor-Heuss-Straße 34', 'Stuttgart', None, 'Germany', '70174', '+49 0711 2842222', None, 'leonekohler@surfeu.de', 5),\n",
              " (3, 'François', 'Tremblay', None, '1498 rue Bélanger', 'Montréal', 'QC', 'Canada', 'H2G 1A7', '+1 (514) 721-4711', None, 'ftremblay@gmail.com', 3),\n",
              " (4, 'Bjørn', 'Hansen', None, 'Ullevålsveien 14', 'Oslo', None, 'Norway', '0171', '+47 22 44 22 22', None, 'bjorn.hansen@yahoo.no', 4),\n",
              " (5, 'František', 'Wichterlová', 'JetBrains s.r.o.', 'Klanova 9/506', 'Prague', None, 'Czech Republic', '14700', '+420 2 4172 5555', '+420 2 4172 5555', 'frantisekw@jetbrains.com', 4)]"
            ],
            "text/html": [
              "<table>\n",
              "    <thead>\n",
              "        <tr>\n",
              "            <th>CustomerId</th>\n",
              "            <th>FirstName</th>\n",
              "            <th>LastName</th>\n",
              "            <th>Company</th>\n",
              "            <th>Address</th>\n",
              "            <th>City</th>\n",
              "            <th>State</th>\n",
              "            <th>Country</th>\n",
              "            <th>PostalCode</th>\n",
              "            <th>Phone</th>\n",
              "            <th>Fax</th>\n",
              "            <th>Email</th>\n",
              "            <th>SupportRepId</th>\n",
              "        </tr>\n",
              "    </thead>\n",
              "    <tbody>\n",
              "        <tr>\n",
              "            <td>1</td>\n",
              "            <td>Luís</td>\n",
              "            <td>Gonçalves</td>\n",
              "            <td>Embraer - Empresa Brasileira de Aeronáutica S.A.</td>\n",
              "            <td>Av. Brigadeiro Faria Lima, 2170</td>\n",
              "            <td>São José dos Campos</td>\n",
              "            <td>SP</td>\n",
              "            <td>Brazil</td>\n",
              "            <td>12227-000</td>\n",
              "            <td>+55 (12) 3923-5555</td>\n",
              "            <td>+55 (12) 3923-5566</td>\n",
              "            <td>luisg@embraer.com.br</td>\n",
              "            <td>3</td>\n",
              "        </tr>\n",
              "        <tr>\n",
              "            <td>2</td>\n",
              "            <td>Leonie</td>\n",
              "            <td>Köhler</td>\n",
              "            <td>None</td>\n",
              "            <td>Theodor-Heuss-Straße 34</td>\n",
              "            <td>Stuttgart</td>\n",
              "            <td>None</td>\n",
              "            <td>Germany</td>\n",
              "            <td>70174</td>\n",
              "            <td>+49 0711 2842222</td>\n",
              "            <td>None</td>\n",
              "            <td>leonekohler@surfeu.de</td>\n",
              "            <td>5</td>\n",
              "        </tr>\n",
              "        <tr>\n",
              "            <td>3</td>\n",
              "            <td>François</td>\n",
              "            <td>Tremblay</td>\n",
              "            <td>None</td>\n",
              "            <td>1498 rue Bélanger</td>\n",
              "            <td>Montréal</td>\n",
              "            <td>QC</td>\n",
              "            <td>Canada</td>\n",
              "            <td>H2G 1A7</td>\n",
              "            <td>+1 (514) 721-4711</td>\n",
              "            <td>None</td>\n",
              "            <td>ftremblay@gmail.com</td>\n",
              "            <td>3</td>\n",
              "        </tr>\n",
              "        <tr>\n",
              "            <td>4</td>\n",
              "            <td>Bjørn</td>\n",
              "            <td>Hansen</td>\n",
              "            <td>None</td>\n",
              "            <td>Ullevålsveien 14</td>\n",
              "            <td>Oslo</td>\n",
              "            <td>None</td>\n",
              "            <td>Norway</td>\n",
              "            <td>0171</td>\n",
              "            <td>+47 22 44 22 22</td>\n",
              "            <td>None</td>\n",
              "            <td>bjorn.hansen@yahoo.no</td>\n",
              "            <td>4</td>\n",
              "        </tr>\n",
              "        <tr>\n",
              "            <td>5</td>\n",
              "            <td>František</td>\n",
              "            <td>Wichterlová</td>\n",
              "            <td>JetBrains s.r.o.</td>\n",
              "            <td>Klanova 9/506</td>\n",
              "            <td>Prague</td>\n",
              "            <td>None</td>\n",
              "            <td>Czech Republic</td>\n",
              "            <td>14700</td>\n",
              "            <td>+420 2 4172 5555</td>\n",
              "            <td>+420 2 4172 5555</td>\n",
              "            <td>frantisekw@jetbrains.com</td>\n",
              "            <td>4</td>\n",
              "        </tr>\n",
              "    </tbody>\n",
              "</table>"
            ]
          },
          "metadata": {},
          "execution_count": 8
        }
      ]
    },
    {
      "cell_type": "markdown",
      "source": [
        "1. Find the number of distinct Companies in the Customers table"
      ],
      "metadata": {
        "id": "k7wnrhVUXtTu"
      }
    },
    {
      "cell_type": "code",
      "source": [
        "%%sql\n"
      ],
      "metadata": {
        "id": "p2CDTVXJ6pAr",
        "colab": {
          "base_uri": "https://localhost:8080/"
        },
        "outputId": "ad667f38-3258-4b01-a5a8-44a587db9e27"
      },
      "execution_count": null,
      "outputs": [
        {
          "output_type": "stream",
          "name": "stdout",
          "text": [
            "   sqlite:///Students.db\n",
            " * sqlite:///chinook.db\n",
            "Done.\n"
          ]
        },
        {
          "output_type": "execute_result",
          "data": {
            "text/plain": [
              "[(10,)]"
            ],
            "text/html": [
              "<table>\n",
              "    <thead>\n",
              "        <tr>\n",
              "            <th>COUNT(DISTINCT(Company))</th>\n",
              "        </tr>\n",
              "    </thead>\n",
              "    <tbody>\n",
              "        <tr>\n",
              "            <td>10</td>\n",
              "        </tr>\n",
              "    </tbody>\n",
              "</table>"
            ]
          },
          "metadata": {},
          "execution_count": 16
        }
      ]
    },
    {
      "cell_type": "markdown",
      "source": [
        "2. Extract the email domain from the Email column. How many distinct email domains are there?"
      ],
      "metadata": {
        "id": "XArq0BLBYB6z"
      }
    },
    {
      "cell_type": "code",
      "source": [
        "%%sql\n"
      ],
      "metadata": {
        "id": "sbx26e1c6pGf",
        "colab": {
          "base_uri": "https://localhost:8080/"
        },
        "outputId": "2192a617-31b2-4237-98ee-294ea32eb85f"
      },
      "execution_count": null,
      "outputs": [
        {
          "output_type": "stream",
          "name": "stdout",
          "text": [
            "   sqlite:///Students.db\n",
            " * sqlite:///chinook.db\n",
            "Done.\n"
          ]
        },
        {
          "output_type": "execute_result",
          "data": {
            "text/plain": [
              "[('luisg@embraer.com.br', 'embraer.com.br'),\n",
              " ('leonekohler@surfeu.de', 'surfeu.de'),\n",
              " ('ftremblay@gmail.com', 'gmail.com'),\n",
              " ('bjorn.hansen@yahoo.no', 'yahoo.no'),\n",
              " ('frantisekw@jetbrains.com', 'jetbrains.com')]"
            ],
            "text/html": [
              "<table>\n",
              "    <thead>\n",
              "        <tr>\n",
              "            <th>Email</th>\n",
              "            <th>EmailDomain</th>\n",
              "        </tr>\n",
              "    </thead>\n",
              "    <tbody>\n",
              "        <tr>\n",
              "            <td>luisg@embraer.com.br</td>\n",
              "            <td>embraer.com.br</td>\n",
              "        </tr>\n",
              "        <tr>\n",
              "            <td>leonekohler@surfeu.de</td>\n",
              "            <td>surfeu.de</td>\n",
              "        </tr>\n",
              "        <tr>\n",
              "            <td>ftremblay@gmail.com</td>\n",
              "            <td>gmail.com</td>\n",
              "        </tr>\n",
              "        <tr>\n",
              "            <td>bjorn.hansen@yahoo.no</td>\n",
              "            <td>yahoo.no</td>\n",
              "        </tr>\n",
              "        <tr>\n",
              "            <td>frantisekw@jetbrains.com</td>\n",
              "            <td>jetbrains.com</td>\n",
              "        </tr>\n",
              "    </tbody>\n",
              "</table>"
            ]
          },
          "metadata": {},
          "execution_count": 22
        }
      ]
    },
    {
      "cell_type": "code",
      "source": [
        "%%sql\n",
        "SELECT *\n",
        "FROM\n",
        "    Invoices\n",
        "LIMIT 5;"
      ],
      "metadata": {
        "id": "ic7KnvjM6pMh",
        "colab": {
          "base_uri": "https://localhost:8080/"
        },
        "outputId": "c82c4be8-cb23-43e5-890f-e4513da9fc58"
      },
      "execution_count": null,
      "outputs": [
        {
          "output_type": "stream",
          "name": "stdout",
          "text": [
            "   sqlite:///Students.db\n",
            " * sqlite:///chinook.db\n",
            "Done.\n"
          ]
        },
        {
          "output_type": "execute_result",
          "data": {
            "text/plain": [
              "[(1, 2, '2009-01-01 00:00:00', 'Theodor-Heuss-Straße 34', 'Stuttgart', None, 'Germany', '70174', 1.98),\n",
              " (2, 4, '2009-01-02 00:00:00', 'Ullevålsveien 14', 'Oslo', None, 'Norway', '0171', 3.96),\n",
              " (3, 8, '2009-01-03 00:00:00', 'Grétrystraat 63', 'Brussels', None, 'Belgium', '1000', 5.94),\n",
              " (4, 14, '2009-01-06 00:00:00', '8210 111 ST NW', 'Edmonton', 'AB', 'Canada', 'T6G 2C7', 8.91),\n",
              " (5, 23, '2009-01-11 00:00:00', '69 Salem Street', 'Boston', 'MA', 'USA', '2113', 13.86)]"
            ],
            "text/html": [
              "<table>\n",
              "    <thead>\n",
              "        <tr>\n",
              "            <th>InvoiceId</th>\n",
              "            <th>CustomerId</th>\n",
              "            <th>InvoiceDate</th>\n",
              "            <th>BillingAddress</th>\n",
              "            <th>BillingCity</th>\n",
              "            <th>BillingState</th>\n",
              "            <th>BillingCountry</th>\n",
              "            <th>BillingPostalCode</th>\n",
              "            <th>Total</th>\n",
              "        </tr>\n",
              "    </thead>\n",
              "    <tbody>\n",
              "        <tr>\n",
              "            <td>1</td>\n",
              "            <td>2</td>\n",
              "            <td>2009-01-01 00:00:00</td>\n",
              "            <td>Theodor-Heuss-Straße 34</td>\n",
              "            <td>Stuttgart</td>\n",
              "            <td>None</td>\n",
              "            <td>Germany</td>\n",
              "            <td>70174</td>\n",
              "            <td>1.98</td>\n",
              "        </tr>\n",
              "        <tr>\n",
              "            <td>2</td>\n",
              "            <td>4</td>\n",
              "            <td>2009-01-02 00:00:00</td>\n",
              "            <td>Ullevålsveien 14</td>\n",
              "            <td>Oslo</td>\n",
              "            <td>None</td>\n",
              "            <td>Norway</td>\n",
              "            <td>0171</td>\n",
              "            <td>3.96</td>\n",
              "        </tr>\n",
              "        <tr>\n",
              "            <td>3</td>\n",
              "            <td>8</td>\n",
              "            <td>2009-01-03 00:00:00</td>\n",
              "            <td>Grétrystraat 63</td>\n",
              "            <td>Brussels</td>\n",
              "            <td>None</td>\n",
              "            <td>Belgium</td>\n",
              "            <td>1000</td>\n",
              "            <td>5.94</td>\n",
              "        </tr>\n",
              "        <tr>\n",
              "            <td>4</td>\n",
              "            <td>14</td>\n",
              "            <td>2009-01-06 00:00:00</td>\n",
              "            <td>8210 111 ST NW</td>\n",
              "            <td>Edmonton</td>\n",
              "            <td>AB</td>\n",
              "            <td>Canada</td>\n",
              "            <td>T6G 2C7</td>\n",
              "            <td>8.91</td>\n",
              "        </tr>\n",
              "        <tr>\n",
              "            <td>5</td>\n",
              "            <td>23</td>\n",
              "            <td>2009-01-11 00:00:00</td>\n",
              "            <td>69 Salem Street</td>\n",
              "            <td>Boston</td>\n",
              "            <td>MA</td>\n",
              "            <td>USA</td>\n",
              "            <td>2113</td>\n",
              "            <td>13.86</td>\n",
              "        </tr>\n",
              "    </tbody>\n",
              "</table>"
            ]
          },
          "metadata": {},
          "execution_count": 23
        }
      ]
    },
    {
      "cell_type": "markdown",
      "source": [
        "3. Using a CASE statement, create a new column called 'Season' in the Invoices table to idenitfy what season each purchase took place in."
      ],
      "metadata": {
        "id": "J5f-iu6aaOcq"
      }
    },
    {
      "cell_type": "code",
      "source": [
        "%%sql\n"
      ],
      "metadata": {
        "id": "Isk4Qp246pSb",
        "colab": {
          "base_uri": "https://localhost:8080/"
        },
        "outputId": "a1b5004c-627c-4e83-cd0f-87b25754e63e"
      },
      "execution_count": null,
      "outputs": [
        {
          "output_type": "stream",
          "name": "stdout",
          "text": [
            "   sqlite:///Students.db\n",
            " * sqlite:///chinook.db\n",
            "Done.\n"
          ]
        },
        {
          "output_type": "execute_result",
          "data": {
            "text/plain": [
              "[('2009-01-01 00:00:00', 1, 'Winter'),\n",
              " ('2009-01-02 00:00:00', 2, 'Winter'),\n",
              " ('2009-01-03 00:00:00', 3, 'Winter'),\n",
              " ('2009-01-06 00:00:00', 4, 'Winter'),\n",
              " ('2009-01-11 00:00:00', 5, 'Winter')]"
            ],
            "text/html": [
              "<table>\n",
              "    <thead>\n",
              "        <tr>\n",
              "            <th>InvoiceDate</th>\n",
              "            <th>InvoiceId</th>\n",
              "            <th>Season</th>\n",
              "        </tr>\n",
              "    </thead>\n",
              "    <tbody>\n",
              "        <tr>\n",
              "            <td>2009-01-01 00:00:00</td>\n",
              "            <td>1</td>\n",
              "            <td>Winter</td>\n",
              "        </tr>\n",
              "        <tr>\n",
              "            <td>2009-01-02 00:00:00</td>\n",
              "            <td>2</td>\n",
              "            <td>Winter</td>\n",
              "        </tr>\n",
              "        <tr>\n",
              "            <td>2009-01-03 00:00:00</td>\n",
              "            <td>3</td>\n",
              "            <td>Winter</td>\n",
              "        </tr>\n",
              "        <tr>\n",
              "            <td>2009-01-06 00:00:00</td>\n",
              "            <td>4</td>\n",
              "            <td>Winter</td>\n",
              "        </tr>\n",
              "        <tr>\n",
              "            <td>2009-01-11 00:00:00</td>\n",
              "            <td>5</td>\n",
              "            <td>Winter</td>\n",
              "        </tr>\n",
              "    </tbody>\n",
              "</table>"
            ]
          },
          "metadata": {},
          "execution_count": 26
        }
      ]
    },
    {
      "cell_type": "markdown",
      "source": [
        "4. Recreate the above with nested IIF() statements instead"
      ],
      "metadata": {
        "id": "sVPh_9I4aZCJ"
      }
    },
    {
      "cell_type": "code",
      "source": [
        "%%sql\n"
      ],
      "metadata": {
        "id": "GjYGZZ7-6pYI",
        "colab": {
          "base_uri": "https://localhost:8080/"
        },
        "outputId": "f97bfc38-cbcb-49b9-f6a7-26ef269d147e"
      },
      "execution_count": null,
      "outputs": [
        {
          "output_type": "stream",
          "name": "stdout",
          "text": [
            "   sqlite:///Students.db\n",
            " * sqlite:///chinook.db\n",
            "Done.\n"
          ]
        },
        {
          "output_type": "execute_result",
          "data": {
            "text/plain": [
              "[('2009-01-01 00:00:00', 1, 'Winter'),\n",
              " ('2009-01-02 00:00:00', 2, 'Winter'),\n",
              " ('2009-01-03 00:00:00', 3, 'Winter'),\n",
              " ('2009-01-06 00:00:00', 4, 'Winter'),\n",
              " ('2009-01-11 00:00:00', 5, 'Winter')]"
            ],
            "text/html": [
              "<table>\n",
              "    <thead>\n",
              "        <tr>\n",
              "            <th>InvoiceDate</th>\n",
              "            <th>InvoiceId</th>\n",
              "            <th>Season</th>\n",
              "        </tr>\n",
              "    </thead>\n",
              "    <tbody>\n",
              "        <tr>\n",
              "            <td>2009-01-01 00:00:00</td>\n",
              "            <td>1</td>\n",
              "            <td>Winter</td>\n",
              "        </tr>\n",
              "        <tr>\n",
              "            <td>2009-01-02 00:00:00</td>\n",
              "            <td>2</td>\n",
              "            <td>Winter</td>\n",
              "        </tr>\n",
              "        <tr>\n",
              "            <td>2009-01-03 00:00:00</td>\n",
              "            <td>3</td>\n",
              "            <td>Winter</td>\n",
              "        </tr>\n",
              "        <tr>\n",
              "            <td>2009-01-06 00:00:00</td>\n",
              "            <td>4</td>\n",
              "            <td>Winter</td>\n",
              "        </tr>\n",
              "        <tr>\n",
              "            <td>2009-01-11 00:00:00</td>\n",
              "            <td>5</td>\n",
              "            <td>Winter</td>\n",
              "        </tr>\n",
              "    </tbody>\n",
              "</table>"
            ]
          },
          "metadata": {},
          "execution_count": 27
        }
      ]
    },
    {
      "cell_type": "markdown",
      "source": [
        "BONUS. Find the average total spent per BillingCountry"
      ],
      "metadata": {
        "id": "KWNgZhcPbLNL"
      }
    },
    {
      "cell_type": "code",
      "source": [
        "%%sql\n"
      ],
      "metadata": {
        "id": "0cM9IV5L6pdc"
      },
      "execution_count": null,
      "outputs": []
    },
    {
      "cell_type": "markdown",
      "metadata": {
        "id": "wt2nqlxDDwjZ"
      },
      "source": [
        "## C. SQL Joins"
      ]
    },
    {
      "cell_type": "markdown",
      "metadata": {
        "id": "M2fOWvelDwjZ"
      },
      "source": [
        "##### What are 'joins'?\n",
        "\n",
        "SQL Joins are used to combine data or rows from two or more tables based on a common field between them. Say we need information from two different tables, and we want to return this information in one output from a query. We need to think about how these two tables are linked, so that we can display the information we need.\n",
        "\n",
        "Tables are combined using primary and foreign keys of the tables. Reminder:\n",
        "- A primary key is a column or group of columns in a table that uniquely identifies each row in that table. e.g student number, id number.\n",
        "- A foreign key is a column or group of columns in a relational database table that provides a link between data in two tables. It is a column (or columns) that references a column (most often the primary key) of another table.\n",
        "\n",
        "The general syntax of a JOIN statement is as follows:\n",
        "\n",
        "```sql\n",
        "SELECT column(s)\n",
        "FROM table1\n",
        "<join_type> JOIN table2\n",
        "ON table1.key = table2.key\n",
        "```"
      ]
    },
    {
      "cell_type": "markdown",
      "metadata": {
        "id": "2Sgz219vDwjZ"
      },
      "source": [
        "#### Inner Join\n",
        "\n",
        "An inner join is the same as returning the INTERSECT of two tables. We are returning rows that have matching values along a particular column in BOTH tables we are referencing:\n",
        "\n",
        "![](https://www.programiz.com/sites/tutorial2program/files/inner-join-in-sql.png)"
      ]
    },
    {
      "cell_type": "markdown",
      "metadata": {
        "id": "8hNHNIsBDwji"
      },
      "source": [
        "#### Left Join\n",
        "\n",
        "When joining two tables, a LEFT JOIN returns all records from the left table and matched records from the right table.\n",
        "\n",
        "If no match is found in the right table, then the result from the right table is NULL on that row.\n",
        "\n",
        "\n",
        "![](https://www.programiz.com/sites/tutorial2program/files/left-join-in-sql.png)"
      ]
    },
    {
      "cell_type": "markdown",
      "metadata": {
        "id": "Rh0nQbv-Dwji"
      },
      "source": [
        "#### Right Join\n",
        "\n",
        "`RIGHT JOIN` is not supported in SQLite - however, a right join works in the opposite way to a left join. It will return all records from the right table, and matched records from the left table - if no match is found in the left table, then the result from the left table will be NULL on that row.\n",
        "\n",
        "We can easily rearrange a right join to use a LEFT JOIN statement instead, simply by swapping where we place each of the tables in our query"
      ]
    },
    {
      "cell_type": "markdown",
      "metadata": {
        "id": "C8aGbitaDwjj"
      },
      "source": [
        "#### Full Outer Join (also 'Full Join')\n",
        "\n",
        "A `FULL JOIN` is also not supported in SQLite, however it works the same as getting the UNION of our tables. A full join will return all the rows from both tables, with NULL values for non-matching rows. We can imitate the working of a full join by using `LEFT JOIN`s and the `UNION ALL` operator\n",
        "\n",
        "![](https://www.programiz.com/sites/tutorial2program/files/full-outer-join-in-sql.png)"
      ]
    },
    {
      "cell_type": "markdown",
      "metadata": {
        "id": "RoCWpi6bDwjj"
      },
      "source": [
        "#### Cross Join\n",
        "\n",
        "The `CROSS JOIN` of two or more tables is similar to taking their cartesian product. The result is a set of rows containing all possible ordered combinations of rows from the two tables.\n",
        "\n",
        "![](https://i.ibb.co/BPhDn1H/SQL-Joins-Cross-Join.png)"
      ]
    },
    {
      "cell_type": "markdown",
      "metadata": {
        "id": "Q1-syyP-Dwjj"
      },
      "source": [
        "### SQL Join Exercises:"
      ]
    },
    {
      "cell_type": "code",
      "execution_count": null,
      "metadata": {
        "id": "icZNp2BfDwjj"
      },
      "outputs": [],
      "source": [
        "%load_ext sql"
      ]
    },
    {
      "cell_type": "code",
      "execution_count": null,
      "metadata": {
        "id": "90GbDg1PDwjj"
      },
      "outputs": [],
      "source": [
        "%%sql\n",
        "sqlite:///chinook.db"
      ]
    },
    {
      "cell_type": "code",
      "execution_count": null,
      "metadata": {
        "id": "ft8Vz7p1Dwjj"
      },
      "outputs": [],
      "source": [
        "%%sql\n",
        "SELECT name FROM sqlite_schema WHERE type='table' ORDER BY name"
      ]
    },
    {
      "cell_type": "markdown",
      "metadata": {
        "id": "6B8Pa6_IDwjj"
      },
      "source": [
        "1. Display the FirstName, LastName, InvoiceID, Invoice Date and Country columns, for all customers from USA"
      ]
    },
    {
      "cell_type": "code",
      "execution_count": null,
      "metadata": {
        "id": "LX4z2kZHDwjj"
      },
      "outputs": [],
      "source": [
        "%%sql\n"
      ]
    },
    {
      "cell_type": "markdown",
      "metadata": {
        "id": "2EePD1WMDwjj"
      },
      "source": [
        "2. How many customers are assigned to the Sales Agent with the first name 'Jane'?"
      ]
    },
    {
      "cell_type": "code",
      "execution_count": null,
      "metadata": {
        "id": "1OO0QWVKDwjj"
      },
      "outputs": [],
      "source": [
        "%%sql\n"
      ]
    },
    {
      "cell_type": "markdown",
      "metadata": {
        "id": "p_5RQVQWDwjk"
      },
      "source": [
        "3. How many employees did not assist customers when they made their purchase?"
      ]
    },
    {
      "cell_type": "code",
      "execution_count": null,
      "metadata": {
        "id": "eUUKlv7FDwjk"
      },
      "outputs": [],
      "source": [
        "%%sql\n"
      ]
    },
    {
      "cell_type": "markdown",
      "metadata": {
        "id": "ZLj-mWnbDwjk"
      },
      "source": [
        "4. Which Sales Agent made the most in sales overall? (use the agent's first name only). Display the total sales column as \"TotalSales\""
      ]
    },
    {
      "cell_type": "code",
      "execution_count": null,
      "metadata": {
        "id": "qF3luzeUDwjk"
      },
      "outputs": [],
      "source": [
        "%%sql\n"
      ]
    },
    {
      "cell_type": "markdown",
      "source": [
        "---"
      ],
      "metadata": {
        "id": "tnWQvl256pjE"
      }
    },
    {
      "cell_type": "markdown",
      "source": [
        "# SQL Answers"
      ],
      "metadata": {
        "id": "d8BhGhH3-4Im"
      }
    },
    {
      "cell_type": "markdown",
      "source": [
        "## A. String Manipulation"
      ],
      "metadata": {
        "id": "gqPE_QBO_Lw1"
      }
    },
    {
      "cell_type": "markdown",
      "source": [
        "1. We can see that there are a lot of IDs entered incorrectly. Find the number of incorrectly entered IDs (hint: the correct length of an ID number is 13)"
      ],
      "metadata": {
        "id": "RMKkbQfL_Wdj"
      }
    },
    {
      "cell_type": "code",
      "source": [
        "%%sql\n",
        "\n",
        "SELECT COUNT(*)\n",
        "FROM Students\n",
        "WHERE LENGTH(IDNumber) <> 13"
      ],
      "metadata": {
        "id": "Y1MaazgX_V2Q"
      },
      "execution_count": null,
      "outputs": []
    },
    {
      "cell_type": "markdown",
      "source": [
        "2. Which function would we use to remove all whitespaces around the Names? Apply this to the Name column and find the student with the longest name"
      ],
      "metadata": {
        "id": "yl4wBAe5_anN"
      }
    },
    {
      "cell_type": "code",
      "source": [
        "%%sql\n",
        "\n",
        "SELECT TRIM(Name) as TrimmedName\n",
        "FROM Students\n",
        "ORDER BY LENGTH(TrimmedName) DESC\n",
        "LIMIT 1"
      ],
      "metadata": {
        "id": "-ZRplU-6_iNx"
      },
      "execution_count": null,
      "outputs": []
    },
    {
      "cell_type": "markdown",
      "source": [
        "3. We're setting up a new platform for our students, and we need to make usernames for them! Return a table with a new column 'Username', where the username is made up of the first letter of their first name, followed by their last name. The username should be in lowercase (e.g. Leham Greeves --> lgreeves)"
      ],
      "metadata": {
        "id": "60YzMMGS_mlE"
      }
    },
    {
      "cell_type": "code",
      "source": [
        "%%sql\n",
        "\n",
        "SELECT\n",
        "    Name,\n",
        "    Surname,\n",
        "    IDNumber,\n",
        "    LOWER(SUBSTR(TRIM(Name),1,1) || TRIM(Surname)) AS Username\n",
        "FROM\n",
        "    Students\n",
        "LIMIT 10;"
      ],
      "metadata": {
        "id": "GM2URt_B_nuO"
      },
      "execution_count": null,
      "outputs": []
    },
    {
      "cell_type": "markdown",
      "source": [
        "## B. Data Transformation"
      ],
      "metadata": {
        "id": "wnoMlDfD_OqI"
      }
    },
    {
      "cell_type": "markdown",
      "source": [
        "1. Find the number of distinct Companies in the Customers table"
      ],
      "metadata": {
        "id": "8dErAJX9_4Va"
      }
    },
    {
      "cell_type": "code",
      "source": [
        "%%sql\n",
        "\n",
        "SELECT COUNT(DISTINCT(Company))\n",
        "FROM Customers"
      ],
      "metadata": {
        "id": "xGWsve7X-6r7"
      },
      "execution_count": null,
      "outputs": []
    },
    {
      "cell_type": "markdown",
      "source": [
        "2. Extract the email domain from the Email column. How many distinct email domains are there?"
      ],
      "metadata": {
        "id": "WcWlw-zU_9LF"
      }
    },
    {
      "cell_type": "code",
      "source": [
        "%%sql\n",
        "\n",
        "SELECT\n",
        "    Email,\n",
        "    SUBSTR(Email,INSTR(Email, '@')+1, length(Email)) AS EmailDomain\n",
        "FROM\n",
        "    Customers"
      ],
      "metadata": {
        "id": "9M3zLsYQAAN1"
      },
      "execution_count": null,
      "outputs": []
    },
    {
      "cell_type": "markdown",
      "source": [
        "3. Using a CASE statement, create a new column called 'Season' in the Invoices table to idenitfy what season each purchase took place in."
      ],
      "metadata": {
        "id": "8_QjwzaWAloK"
      }
    },
    {
      "cell_type": "code",
      "source": [
        "%%sql\n",
        "\n",
        "SELECT\n",
        "    InvoiceDate,\n",
        "    InvoiceId,\n",
        "    CASE\n",
        "        WHEN SUBSTR(InvoiceDate, 6, 2) IN ('12', '01', '02') THEN 'Winter'\n",
        "        WHEN SUBSTR(InvoiceDate, 6, 2) IN ('03', '04', '05') THEN 'Spring'\n",
        "        WHEN SUBSTR(InvoiceDate, 6, 2) IN ('06', '07', '08') THEN 'Summer'\n",
        "        WHEN SUBSTR(InvoiceDate, 6, 2) IN ('09', '10', '11') THEN 'Autumn'\n",
        "    ELSE\n",
        "        'Cannot Determine from Date'\n",
        "    END AS Season\n",
        "FROM\n",
        "    Invoices\n",
        "LIMIT 5;"
      ],
      "metadata": {
        "id": "2tnjga92AU5_"
      },
      "execution_count": null,
      "outputs": []
    },
    {
      "cell_type": "markdown",
      "source": [
        "4. Recreate the above with nested IIF() statements instead"
      ],
      "metadata": {
        "id": "P2paZpzRArSr"
      }
    },
    {
      "cell_type": "code",
      "source": [
        "%%sql\n",
        "\n",
        "SELECT\n",
        "    InvoiceDate,\n",
        "    InvoiceId,\n",
        "    IIF(SUBSTR(InvoiceDate, 6, 2) IN ('12', '01', '02'),'Winter',\n",
        "        IIF(SUBSTR(InvoiceDate, 6, 2) IN ('03', '04', '05'), 'Spring',\n",
        "            IIF(SUBSTR(InvoiceDate, 6, 2) IN ('06', '07', '08'), 'Summer',\n",
        "                IIF(SUBSTR(InvoiceDate, 6, 2) IN ('09', '10', '11'), 'Autumn', 'Cannot Determine from Date')))) AS Season\n",
        "FROM\n",
        "    Invoices\n",
        "\n",
        "LIMIT 5;"
      ],
      "metadata": {
        "id": "3ngQa-cTAuDB"
      },
      "execution_count": null,
      "outputs": []
    },
    {
      "cell_type": "markdown",
      "source": [
        "## C. SQL Joins"
      ],
      "metadata": {
        "id": "_rNSjI81dK5C"
      }
    },
    {
      "cell_type": "markdown",
      "metadata": {
        "id": "UNAMv_l6FOhH"
      },
      "source": [
        "1. Display the FirstName, LastName, InvoiceID, Invoice Date and Country columns, for all customers from USA"
      ]
    },
    {
      "cell_type": "code",
      "execution_count": null,
      "metadata": {
        "id": "dYf0sLXEFOhH"
      },
      "outputs": [],
      "source": [
        "%%sql\n",
        "SELECT\n",
        "    c.FirstName,\n",
        "    c.LastName,\n",
        "    i.InvoiceId,\n",
        "    i.InvoiceDate,\n",
        "    c.Country\n",
        "FROM\n",
        "    Invoices i\n",
        "INNER JOIN Customers c\n",
        "    ON c.CustomerId = i.CustomerId\n",
        "WHERE c.Country = \"USA\""
      ]
    },
    {
      "cell_type": "markdown",
      "metadata": {
        "id": "VDTsTFkrFOhH"
      },
      "source": [
        "2. How many customers are assigned to the Sales Agent with the first name 'Jane'?"
      ]
    },
    {
      "cell_type": "code",
      "execution_count": null,
      "metadata": {
        "id": "fqVOhwD4FOhH"
      },
      "outputs": [],
      "source": [
        "%%sql\n",
        "SELECT\n",
        "    e.FirstName,\n",
        "    COUNT(c.SupportRepId) AS NumberOfCustomers\n",
        "FROM\n",
        "    Employees e\n",
        "INNER JOIN Customers c\n",
        "    ON c.SupportRepId = e.EmployeeId\n",
        "WHERE e.FirstName = 'Jane';"
      ]
    },
    {
      "cell_type": "markdown",
      "metadata": {
        "id": "reDYNdviFOhH"
      },
      "source": [
        "3. How many employees did not assist customers when they made their purchase?"
      ]
    },
    {
      "cell_type": "code",
      "execution_count": null,
      "metadata": {
        "id": "f-_rmKZdFOhH"
      },
      "outputs": [],
      "source": [
        "%%sql\n",
        "SELECT\n",
        "    COUNT(e.FirstName),\n",
        "    c.SupportRepId AS CustomerHelped\n",
        "FROM\n",
        "    employees AS e\n",
        "LEFT JOIN\n",
        "    customers AS c\n",
        "    ON e.EmployeeId = c.SupportRepId\n",
        "WHERE c.SupportRepId IS NULL"
      ]
    },
    {
      "cell_type": "markdown",
      "metadata": {
        "id": "cXk1SRD4FOhH"
      },
      "source": [
        "4. Which Sales Agent made the most in sales overall? (use the agent's first name only). Display the total sales column as \"TotalSales\""
      ]
    },
    {
      "cell_type": "code",
      "execution_count": null,
      "metadata": {
        "id": "Bb2LMa5qFOhH"
      },
      "outputs": [],
      "source": [
        "%%sql\n",
        "SELECT\n",
        "    e.FirstName,\n",
        "    SUM(i.Total) AS TotalSales\n",
        "FROM\n",
        "    Employees e\n",
        "JOIN Customers c\n",
        "    ON e.EmployeeId = c.SupportRepId\n",
        "JOIN Invoices i\n",
        "    ON c.CustomerId = i.CustomerId\n",
        "GROUP BY e.FirstName\n",
        "ORDER BY SUM(i.Total) DESC"
      ]
    }
  ]
}