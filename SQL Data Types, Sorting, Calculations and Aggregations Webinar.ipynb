{
 "cells": [
  {
   "cell_type": "markdown",
   "id": "203261ba",
   "metadata": {
    "slideshow": {
     "slide_type": "slide"
    }
   },
   "source": [
    "# SQL Queries and Calculations\n",
    "### Working with a database in SQL"
   ]
  },
  {
   "cell_type": "markdown",
   "id": "283d8d4e",
   "metadata": {
    "slideshow": {
     "slide_type": "slide"
    }
   },
   "source": [
    "## Database Queries and Calculations\n",
    "\n",
    "### Introduction\n",
    "\n",
    "We want you to use the data in the database provided to determine which client of ours is the most profitable, and we want to make recommendations which can increase our bottom-line to each of our clients. \n",
    "\n",
    "`I.e. we want to identify: client spends, and which times of the day, as well as which advert types are the most profitable. With this, we can make analytical assessments and data-driven recommendations to our client to increase our client's bottom-line`.\n",
    "\n"
   ]
  },
  {
   "cell_type": "markdown",
   "id": "60e20334",
   "metadata": {
    "slideshow": {
     "slide_type": "skip"
    }
   },
   "source": [
    "\n",
    "### Learning Objectives\n",
    "\n",
    "In this section we will introduce you to: \n",
    "- Basic SQL queries\n",
    "- Aggregrations\n",
    "- Sorting and filtering\n",
    "- Analytical thinking  "
   ]
  },
  {
   "cell_type": "markdown",
   "id": "c188baa9",
   "metadata": {
    "slideshow": {
     "slide_type": "slide"
    }
   },
   "source": [
    "### Background\n",
    "\n",
    "TV advertising is a highly effective way to spread branding, and awareness of a product. Even to create direct responses through some kind of CTA (call to action), e.g. _\"SMS your name to 34445 now for a quote.\"_.\n",
    "\n",
    "\n",
    "<div> <img src=\"big_sale.png\" width=\"800\"> </div>\n",
    "\n",
    "Well... that's _advertising_ in general I suppose. TV followed radio, which outpaced print in achieving wide-spread engagement, and even in the face of digital and social advertising, TV advertising is still relevant. So how do companies choose how to advertise on TV? "
   ]
  },
  {
   "cell_type": "markdown",
   "id": "7e203100",
   "metadata": {
    "slideshow": {
     "slide_type": "slide"
    }
   },
   "source": [
    "### Flow of this notebook\n",
    "\n",
    "We are going to import the database we need, discuss the domain knowledge required to tackle the problem, and then introduce SQL datatypes of importance before taking an analytical approach, and diving into our database. \n",
    "\n",
    "#### From importing, to analytics...\n",
    "#### \n",
    "\n",
    "<div> <img src=\"flow.png\" width=\"1000\"> </div>\n"
   ]
  },
  {
   "cell_type": "markdown",
   "id": "3de1c369",
   "metadata": {
    "slideshow": {
     "slide_type": "slide"
    }
   },
   "source": [
    "#### Case study objective\n",
    "\n",
    "We are going to be solving the problem to investigate, and report back on the most profitable clients, and make recommendations to other clients based on what is most profitable. "
   ]
  },
  {
   "cell_type": "markdown",
   "id": "b3ce2f14",
   "metadata": {
    "slideshow": {
     "slide_type": "slide"
    }
   },
   "source": [
    "### Basic Queries\n",
    "\n",
    "SQL Interacts with databases! Can we string together the commands below, when we have a table called students which we want to gather the highest 5 performers from the year 2021, based on their final_marks?"
   ]
  },
  {
   "cell_type": "markdown",
   "id": "eecfbe19",
   "metadata": {
    "slideshow": {
     "slide_type": "-"
    }
   },
   "source": [
    "<div> <img src=\"Basic_queries.jpeg\" width=\"1000\"> </div>"
   ]
  },
  {
   "cell_type": "raw",
   "id": "ea857a95",
   "metadata": {},
   "source": [
    "%%sql\n",
    "SELECT first_name, last_name, final_marks\n",
    "FROM students\n",
    "WHERE year = 2021\n",
    "ORDER BY final_marks desc\n",
    "LIMIT 5;"
   ]
  },
  {
   "cell_type": "markdown",
   "id": "54dab8f1",
   "metadata": {
    "slideshow": {
     "slide_type": "slide"
    }
   },
   "source": [
    "### The Legibility"
   ]
  },
  {
   "cell_type": "markdown",
   "id": "c75e44cf",
   "metadata": {
    "slideshow": {
     "slide_type": "-"
    }
   },
   "source": [
    "<div> <img src=\"Legibility.jpeg\" width=\"1000\"> </div>"
   ]
  },
  {
   "cell_type": "markdown",
   "id": "fd70f792",
   "metadata": {
    "slideshow": {
     "slide_type": "slide"
    }
   },
   "source": [
    "## Section 1: Imports"
   ]
  },
  {
   "cell_type": "markdown",
   "id": "c2904caa",
   "metadata": {
    "slideshow": {
     "slide_type": "slide"
    }
   },
   "source": [
    "#### Imports"
   ]
  },
  {
   "cell_type": "code",
   "execution_count": 4,
   "id": "30b78ff7",
   "metadata": {},
   "outputs": [
    {
     "name": "stdout",
     "output_type": "stream",
     "text": [
      "The sql extension is already loaded. To reload it, use:\n",
      "  %reload_ext sql\n"
     ]
    }
   ],
   "source": [
    "%load_ext sql"
   ]
  },
  {
   "cell_type": "code",
   "execution_count": 5,
   "id": "601d2b85",
   "metadata": {},
   "outputs": [],
   "source": [
    "%%sql\n",
    "sqlite:///magenta_media.db"
   ]
  },
  {
   "cell_type": "markdown",
   "id": "7198785c",
   "metadata": {},
   "source": [
    "Let's have a look at the tables in our database:"
   ]
  },
  {
   "cell_type": "code",
   "execution_count": 6,
   "id": "f6bf136a",
   "metadata": {
    "slideshow": {
     "slide_type": "subslide"
    }
   },
   "outputs": [
    {
     "name": "stdout",
     "output_type": "stream",
     "text": [
      " * sqlite:///magenta_media.db\n",
      "Done.\n"
     ]
    },
    {
     "data": {
      "text/html": [
       "<table>\n",
       "    <tr>\n",
       "        <th>type</th>\n",
       "        <th>name</th>\n",
       "        <th>tbl_name</th>\n",
       "        <th>rootpage</th>\n",
       "        <th>sql</th>\n",
       "    </tr>\n",
       "    <tr>\n",
       "        <td>table</td>\n",
       "        <td>test_table</td>\n",
       "        <td>test_table</td>\n",
       "        <td>5</td>\n",
       "        <td>CREATE TABLE test_table (<br>\t&quot;index&quot; BIGINT, <br>\t&quot;0&quot; TEXT<br>)</td>\n",
       "    </tr>\n",
       "    <tr>\n",
       "        <td>table</td>\n",
       "        <td>ad_details_test</td>\n",
       "        <td>ad_details_test</td>\n",
       "        <td>7</td>\n",
       "        <td>CREATE TABLE ad_details_test (<br>\tad_id TEXT, <br>\tcreative_id TEXT, <br>\tchannel TEXT, <br>\tprogramme TEXT, <br>\tduration BIGINT, <br>\tcost FLOAT, <br>\tdate DATE, <br>\ttime TIME<br>)</td>\n",
       "    </tr>\n",
       "    <tr>\n",
       "        <td>table</td>\n",
       "        <td>ad_details</td>\n",
       "        <td>ad_details</td>\n",
       "        <td>2</td>\n",
       "        <td>CREATE TABLE &quot;ad_details&quot; (<br>    &quot;ad_id&quot;   VARCHAR(100),<br>    &quot;creative_id&quot;  VARCHAR(100),<br>    &quot;date&quot;  DATE,<br>    &quot;programme&quot; VARCHAR(100),<br>    &quot;channel&quot; VARCHAR(100),<br>    &quot;time&quot; TIME, <br>    &quot;duration&quot; INTEGER,<br>    &quot;cost&quot; REAL, <br>    PRIMARY KEY(&quot;ad_id&quot;),<br>    FOREIGN KEY(&quot;creative_id&quot;) REFERENCES &quot;creative&quot; (&quot;creative_id&quot;)<br>)</td>\n",
       "    </tr>\n",
       "    <tr>\n",
       "        <td>table</td>\n",
       "        <td>client</td>\n",
       "        <td>client</td>\n",
       "        <td>3</td>\n",
       "        <td>CREATE TABLE &quot;client&quot; (<br>    &quot;client_id&quot; VARCHAR(100),<br>    &quot;client_name&quot; VARCHAR(100), <br>    &quot;client_start_date&quot; DATETIME,<br>    &quot;client_terms&quot; VARCHAR(100),<br>    PRIMARY KEY(&quot;client_id&quot;)<br>)</td>\n",
       "    </tr>\n",
       "    <tr>\n",
       "        <td>table</td>\n",
       "        <td>creative</td>\n",
       "        <td>creative</td>\n",
       "        <td>9</td>\n",
       "        <td>CREATE TABLE &quot;creative&quot; (<br>    &quot;creative_id&quot; VARCHAR(100),<br>    &quot;creative_name&quot; VARCHAR(100), <br>    &quot;client_id&quot; VARCHAR(100),<br>    &quot;creative_duration&quot; INTEGER,<br>    PRIMARY KEY(&quot;creative_id&quot;),<br>    FOREIGN KEY(&quot;client_id&quot;) REFERENCES &quot;client&quot; (&quot;client_id&quot;)<br>)</td>\n",
       "    </tr>\n",
       "</table>"
      ],
      "text/plain": [
       "[('table', 'test_table', 'test_table', 5, 'CREATE TABLE test_table (\\n\\t\"index\" BIGINT, \\n\\t\"0\" TEXT\\n)'),\n",
       " ('table', 'ad_details_test', 'ad_details_test', 7, 'CREATE TABLE ad_details_test (\\n\\tad_id TEXT, \\n\\tcreative_id TEXT, \\n\\tchannel TEXT, \\n\\tprogramme TEXT, \\n\\tduration BIGINT, \\n\\tcost FLOAT, \\n\\tdate DATE, \\n\\ttime TIME\\n)'),\n",
       " ('table', 'ad_details', 'ad_details', 2, 'CREATE TABLE \"ad_details\" (\\n    \"ad_id\"   VARCHAR(100),\\n    \"creative_id\"  VARCHAR(100),\\n    \"date\"  DATE,\\n    \"programme\" VARCHAR(100),\\n    \"ch ... (34 characters truncated) ... IME, \\n    \"duration\" INTEGER,\\n    \"cost\" REAL, \\n    PRIMARY KEY(\"ad_id\"),\\n    FOREIGN KEY(\"creative_id\") REFERENCES \"creative\" (\"creative_id\")\\n)'),\n",
       " ('table', 'client', 'client', 3, 'CREATE TABLE \"client\" (\\n    \"client_id\" VARCHAR(100),\\n    \"client_name\" VARCHAR(100), \\n    \"client_start_date\" DATETIME,\\n    \"client_terms\" VARCHAR(100),\\n    PRIMARY KEY(\"client_id\")\\n)'),\n",
       " ('table', 'creative', 'creative', 9, 'CREATE TABLE \"creative\" (\\n    \"creative_id\" VARCHAR(100),\\n    \"creative_name\" VARCHAR(100), \\n    \"client_id\" VARCHAR(100),\\n    \"creative_duration\" INTEGER,\\n    PRIMARY KEY(\"creative_id\"),\\n    FOREIGN KEY(\"client_id\") REFERENCES \"client\" (\"client_id\")\\n)')]"
      ]
     },
     "execution_count": 6,
     "metadata": {},
     "output_type": "execute_result"
    }
   ],
   "source": [
    "%%sql\n",
    "\n",
    "SELECT *\n",
    "FROM sqlite_master\n",
    "WHERE type = 'table'"
   ]
  },
  {
   "cell_type": "markdown",
   "id": "c71fd459",
   "metadata": {
    "slideshow": {
     "slide_type": "slide"
    }
   },
   "source": [
    "## Section 2: Domain knowledge"
   ]
  },
  {
   "cell_type": "markdown",
   "id": "e5c7faf0",
   "metadata": {},
   "source": [
    "We need reliable data, and a lot of it, in order to support this process. The database is going to be critical in `booking` to ensure communication is perfect across all parties. In this case - we can imagine being in the _Reporting_ stage of the media booking cycle, and we want to identify relevant findings in our data. "
   ]
  },
  {
   "cell_type": "markdown",
   "id": "892d4015",
   "metadata": {
    "slideshow": {
     "slide_type": "slide"
    }
   },
   "source": [
    "### With that in mind, do we understand each of these tables?\n",
    "#### \n",
    "\n",
    "<div> <img src=\"Magenta_ERD.png\" width=\"500\"> </div>\n",
    "\n"
   ]
  },
  {
   "cell_type": "markdown",
   "id": "898a0a50",
   "metadata": {},
   "source": [
    "Let's look at the `ad_details` table:"
   ]
  },
  {
   "cell_type": "code",
   "execution_count": 35,
   "id": "fb54cc18",
   "metadata": {
    "slideshow": {
     "slide_type": "subslide"
    }
   },
   "outputs": [
    {
     "name": "stdout",
     "output_type": "stream",
     "text": [
      " * sqlite:///magenta_media.db\n",
      "Done.\n"
     ]
    },
    {
     "data": {
      "text/html": [
       "<table>\n",
       "    <tr>\n",
       "        <th>ad_id</th>\n",
       "        <th>creative_id</th>\n",
       "        <th>date</th>\n",
       "        <th>programme</th>\n",
       "        <th>channel</th>\n",
       "        <th>time</th>\n",
       "        <th>duration</th>\n",
       "        <th>cost</th>\n",
       "    </tr>\n",
       "    <tr>\n",
       "        <td>MAG10001</td>\n",
       "        <td>HOM/602/030</td>\n",
       "        <td>2022-05-01</td>\n",
       "        <td>CAPTAIN HOLT</td>\n",
       "        <td>SUPER-E</td>\n",
       "        <td>17:00:00.000000</td>\n",
       "        <td>30</td>\n",
       "        <td>2000.0</td>\n",
       "    </tr>\n",
       "    <tr>\n",
       "        <td>MAG10002</td>\n",
       "        <td>HOM/602/030</td>\n",
       "        <td>2022-05-01</td>\n",
       "        <td>DOUG JUDY </td>\n",
       "        <td>SUPER-E</td>\n",
       "        <td>18:00:00.000000</td>\n",
       "        <td>30</td>\n",
       "        <td>2000.0</td>\n",
       "    </tr>\n",
       "    <tr>\n",
       "        <td>MAG10003</td>\n",
       "        <td>HOM/602/030</td>\n",
       "        <td>2022-05-10</td>\n",
       "        <td>SANTIAGO</td>\n",
       "        <td>SUPER-E</td>\n",
       "        <td>14:00:00.000000</td>\n",
       "        <td>30</td>\n",
       "        <td>2000.0</td>\n",
       "    </tr>\n",
       "    <tr>\n",
       "        <td>MAG10004</td>\n",
       "        <td>HOM/602/030</td>\n",
       "        <td>2022-05-09</td>\n",
       "        <td>SANTIAGO</td>\n",
       "        <td>SUPER-E</td>\n",
       "        <td>14:30:00.000000</td>\n",
       "        <td>30</td>\n",
       "        <td>2000.0</td>\n",
       "    </tr>\n",
       "    <tr>\n",
       "        <td>MAG10005</td>\n",
       "        <td>HOM/602/030</td>\n",
       "        <td>2022-05-11</td>\n",
       "        <td>STORIES OF RACHEL</td>\n",
       "        <td>SUPER-V</td>\n",
       "        <td>14:00:00.000000</td>\n",
       "        <td>30</td>\n",
       "        <td>2000.0</td>\n",
       "    </tr>\n",
       "</table>"
      ],
      "text/plain": [
       "[('MAG10001', 'HOM/602/030', '2022-05-01', 'CAPTAIN HOLT', 'SUPER-E', '17:00:00.000000', 30, 2000.0),\n",
       " ('MAG10002', 'HOM/602/030', '2022-05-01', 'DOUG JUDY ', 'SUPER-E', '18:00:00.000000', 30, 2000.0),\n",
       " ('MAG10003', 'HOM/602/030', '2022-05-10', 'SANTIAGO', 'SUPER-E', '14:00:00.000000', 30, 2000.0),\n",
       " ('MAG10004', 'HOM/602/030', '2022-05-09', 'SANTIAGO', 'SUPER-E', '14:30:00.000000', 30, 2000.0),\n",
       " ('MAG10005', 'HOM/602/030', '2022-05-11', 'STORIES OF RACHEL', 'SUPER-V', '14:00:00.000000', 30, 2000.0)]"
      ]
     },
     "execution_count": 35,
     "metadata": {},
     "output_type": "execute_result"
    }
   ],
   "source": [
    "%%sql\n",
    "\n",
    "SELECT *\n",
    "FROM ad_details\n",
    "LIMIT 5"
   ]
  },
  {
   "cell_type": "markdown",
   "id": "5a4191be",
   "metadata": {},
   "source": [
    "Let's look at the `client` table:"
   ]
  },
  {
   "cell_type": "code",
   "execution_count": 36,
   "id": "84a76b7d",
   "metadata": {
    "slideshow": {
     "slide_type": "subslide"
    }
   },
   "outputs": [
    {
     "name": "stdout",
     "output_type": "stream",
     "text": [
      " * sqlite:///magenta_media.db\n",
      "Done.\n"
     ]
    },
    {
     "data": {
      "text/html": [
       "<table>\n",
       "    <tr>\n",
       "        <th>client_id</th>\n",
       "        <th>client_name</th>\n",
       "        <th>client_start_date</th>\n",
       "        <th>client_terms</th>\n",
       "    </tr>\n",
       "    <tr>\n",
       "        <td>CL_001</td>\n",
       "        <td>Homelander</td>\n",
       "        <td>1994-03-16</td>\n",
       "        <td>Package applicable discount not active.</td>\n",
       "    </tr>\n",
       "    <tr>\n",
       "        <td>CL_002</td>\n",
       "        <td>Queen Maeve</td>\n",
       "        <td>1986-03-26</td>\n",
       "        <td>Package applicable discount not active.</td>\n",
       "    </tr>\n",
       "    <tr>\n",
       "        <td>CL_003</td>\n",
       "        <td>Starlight</td>\n",
       "        <td>1996-05-12</td>\n",
       "        <td>Package applicable discount not active.</td>\n",
       "    </tr>\n",
       "</table>"
      ],
      "text/plain": [
       "[('CL_001', 'Homelander', '1994-03-16', 'Package applicable discount not active.'),\n",
       " ('CL_002', 'Queen Maeve', '1986-03-26', 'Package applicable discount not active.'),\n",
       " ('CL_003', 'Starlight', '1996-05-12', 'Package applicable discount not active.')]"
      ]
     },
     "execution_count": 36,
     "metadata": {},
     "output_type": "execute_result"
    }
   ],
   "source": [
    "%%sql\n",
    "\n",
    "SELECT * \n",
    "FROM client"
   ]
  },
  {
   "cell_type": "markdown",
   "id": "5b5d3cd8",
   "metadata": {},
   "source": [
    "Let's look at the `creative` table:"
   ]
  },
  {
   "cell_type": "code",
   "execution_count": 37,
   "id": "4012a5c6",
   "metadata": {
    "slideshow": {
     "slide_type": "subslide"
    }
   },
   "outputs": [
    {
     "name": "stdout",
     "output_type": "stream",
     "text": [
      " * sqlite:///magenta_media.db\n",
      "Done.\n"
     ]
    },
    {
     "data": {
      "text/html": [
       "<table>\n",
       "    <tr>\n",
       "        <th>creative_id</th>\n",
       "        <th>creative_name</th>\n",
       "        <th>client_id</th>\n",
       "        <th>creative_duration</th>\n",
       "    </tr>\n",
       "    <tr>\n",
       "        <td>HOM/602/030</td>\n",
       "        <td>The Name of the Game</td>\n",
       "        <td>CL_001</td>\n",
       "        <td>30</td>\n",
       "    </tr>\n",
       "    <tr>\n",
       "        <td>MAE/500/020</td>\n",
       "        <td>Cherry</td>\n",
       "        <td>CL_002</td>\n",
       "        <td>30</td>\n",
       "    </tr>\n",
       "    <tr>\n",
       "        <td>STA/101/030</td>\n",
       "        <td>Get Some</td>\n",
       "        <td>CL_003</td>\n",
       "        <td>30</td>\n",
       "    </tr>\n",
       "    <tr>\n",
       "        <td>STA/102/010</td>\n",
       "        <td>The Female of the Species</td>\n",
       "        <td>CL_003</td>\n",
       "        <td>30</td>\n",
       "    </tr>\n",
       "</table>"
      ],
      "text/plain": [
       "[('HOM/602/030', 'The Name of the Game', 'CL_001', 30),\n",
       " ('MAE/500/020', 'Cherry', 'CL_002', 30),\n",
       " ('STA/101/030', 'Get Some', 'CL_003', 30),\n",
       " ('STA/102/010', 'The Female of the Species', 'CL_003', 30)]"
      ]
     },
     "execution_count": 37,
     "metadata": {},
     "output_type": "execute_result"
    }
   ],
   "source": [
    "%%sql\n",
    "\n",
    "SELECT * \n",
    "FROM creative"
   ]
  },
  {
   "cell_type": "markdown",
   "id": "d57e7179",
   "metadata": {
    "slideshow": {
     "slide_type": "slide"
    }
   },
   "source": [
    "## Section 3: SQL Data Types\n",
    "\n",
    "#### SQL has 3 kinds of data that we will be dealing with\n",
    "- Numeric\n",
    " - Integer (`INTEGER`, `BIGINT`)\n",
    " - Decimal (e.g. `NUMERIC(10,2)` / `REAL`)\n",
    "- Text\n",
    " - Variable character (`VARCHAR(100)`)\n",
    " - Char (`CHAR(50)`)\n",
    "- Datetime\n",
    " - `DATETIME`\n",
    " - `DATE`\n",
    " - `TIME`"
   ]
  },
  {
   "cell_type": "markdown",
   "id": "8b9fabd4",
   "metadata": {
    "slideshow": {
     "slide_type": "subslide"
    }
   },
   "source": [
    "#### Operations\n",
    "- Numeric\n",
    " - Mathematical operations (addition, multiplication, etc) \n",
    " - Summary statistics (frequently using `GROUP BY` statements)\n",
    "- Text\n",
    " - Similarity / containing substring (`%LIKE%`)\n",
    " - Concatenation (SQLite uses `||`, otherwise use `concat`)\n",
    " - Case (`lower`/ `upper`)\n",
    " - Substring (`left`, `right`, `substr`)\n",
    "- Datetime\n",
    " - Interval calculations (`BETWEEN`, `<`, `>`, `=`)\n",
    " - Substring (`left`, `right`, `substr`)\n",
    " - Datetime properties (`date`, `time`, `strftime(%Y)`, `strftime(%H:%M)`, etc.)\n",
    " - Manipulations e.g. `SELECT datetime('now','-1 day','localtime');`"
   ]
  },
  {
   "cell_type": "markdown",
   "id": "ba6633b0",
   "metadata": {},
   "source": [
    "---"
   ]
  },
  {
   "cell_type": "markdown",
   "id": "22421865",
   "metadata": {},
   "source": [
    "**EXAMPLES**\n",
    "\n",
    "Let's work through a few example problems.\n",
    "\n",
    "**1A: From the `ad_details` table, can we determine the number of distinct ads on air?**"
   ]
  },
  {
   "cell_type": "code",
   "execution_count": 66,
   "id": "fbd3bd3c",
   "metadata": {
    "slideshow": {
     "slide_type": "slide"
    }
   },
   "outputs": [
    {
     "name": "stdout",
     "output_type": "stream",
     "text": [
      " * sqlite:///magenta_media.db\n",
      "Done.\n"
     ]
    },
    {
     "data": {
      "text/html": [
       "<table>\n",
       "    <tr>\n",
       "        <th>COUNT(DISTINCT creative_id)</th>\n",
       "    </tr>\n",
       "    <tr>\n",
       "        <td>4</td>\n",
       "    </tr>\n",
       "</table>"
      ],
      "text/plain": [
       "[(4,)]"
      ]
     },
     "execution_count": 66,
     "metadata": {},
     "output_type": "execute_result"
    }
   ],
   "source": [
    "%%sql\n",
    "\n",
    "SELECT COUNT(DISTINCT creative_id)\n",
    "FROM ad_details"
   ]
  },
  {
   "cell_type": "markdown",
   "id": "be943e29",
   "metadata": {},
   "source": [
    "The `DISTINCT` keyword find the *unique* entries. If we didn't use the `DISTINCT` keyword, we'd get all instances of `creative_id` in the `ad_details` table (which comes to 23!)"
   ]
  },
  {
   "cell_type": "markdown",
   "id": "18a8caa2",
   "metadata": {},
   "source": [
    "---"
   ]
  },
  {
   "cell_type": "markdown",
   "id": "b1d2ec5d",
   "metadata": {},
   "source": [
    "**1B: From the `ad_details` table, can we determine the number of distinct ads on air, on or after 12th of May?**\n"
   ]
  },
  {
   "cell_type": "code",
   "execution_count": 72,
   "id": "fcdc5fbf",
   "metadata": {
    "slideshow": {
     "slide_type": "slide"
    }
   },
   "outputs": [
    {
     "name": "stdout",
     "output_type": "stream",
     "text": [
      " * sqlite:///magenta_media.db\n",
      "Done.\n"
     ]
    },
    {
     "data": {
      "text/html": [
       "<table>\n",
       "    <tr>\n",
       "        <th>COUNT(DISTINCT creative_id)</th>\n",
       "    </tr>\n",
       "    <tr>\n",
       "        <td>2</td>\n",
       "    </tr>\n",
       "</table>"
      ],
      "text/plain": [
       "[(2,)]"
      ]
     },
     "execution_count": 72,
     "metadata": {},
     "output_type": "execute_result"
    }
   ],
   "source": [
    "%%sql\n",
    "\n",
    "SELECT COUNT(DISTINCT creative_id)\n",
    "FROM ad_details\n",
    "WHERE date >= '2022-05-12'"
   ]
  },
  {
   "cell_type": "markdown",
   "id": "f962762c",
   "metadata": {},
   "source": [
    "Again, note how we make use of the `DISTINCT` keyword to help us here. Now we've introduced a condition, so we include a `WHERE` clause. We use interval calculations (>=) with our date. The date is stored as a DATE datatype, though one might think it looks like a text string. Try taking out the quotation marks and see what happens when you run the query - why do you think this happens?"
   ]
  },
  {
   "cell_type": "markdown",
   "id": "98f51398",
   "metadata": {},
   "source": [
    "---"
   ]
  },
  {
   "cell_type": "markdown",
   "id": "cbfd1294",
   "metadata": {},
   "source": [
    "**2: If we assume the spending for May happens each month (i.e. x 12) what would the total revenue be? Remember, this data we have is all from the month of May**"
   ]
  },
  {
   "cell_type": "code",
   "execution_count": 73,
   "id": "5822a619",
   "metadata": {
    "slideshow": {
     "slide_type": "slide"
    }
   },
   "outputs": [
    {
     "name": "stdout",
     "output_type": "stream",
     "text": [
      " * sqlite:///magenta_media.db\n",
      "Done.\n"
     ]
    },
    {
     "data": {
      "text/html": [
       "<table>\n",
       "    <tr>\n",
       "        <th>May Revenue</th>\n",
       "        <th>Annual Revenue</th>\n",
       "    </tr>\n",
       "    <tr>\n",
       "        <td>34666.0</td>\n",
       "        <td>415992.0</td>\n",
       "    </tr>\n",
       "</table>"
      ],
      "text/plain": [
       "[(34666.0, 415992.0)]"
      ]
     },
     "execution_count": 73,
     "metadata": {},
     "output_type": "execute_result"
    }
   ],
   "source": [
    "%%sql\n",
    "\n",
    "SELECT sum(cost) as 'May Revenue', sum(cost)*12 as 'Annual Revenue'\n",
    "FROM ad_details"
   ]
  },
  {
   "cell_type": "markdown",
   "id": "f6331063",
   "metadata": {},
   "source": [
    "Note how we've used *aliases* here, for the column names. This is to rename the columns in our output to make them more intuitive and understandable. If we didn't have these aliases, we'd simply have column headings corresponding to the calculation we've used in our `SELECT` statement. While these might still make sense to us, to someone else trying to read our query, it might not be so intuitive."
   ]
  },
  {
   "cell_type": "markdown",
   "id": "a0267cc2",
   "metadata": {},
   "source": [
    "---"
   ]
  },
  {
   "cell_type": "markdown",
   "id": "cd0ad9cb",
   "metadata": {},
   "source": [
    "**3: Which clients joined prior to 1994?**"
   ]
  },
  {
   "cell_type": "code",
   "execution_count": 54,
   "id": "96b96d20",
   "metadata": {
    "slideshow": {
     "slide_type": "slide"
    }
   },
   "outputs": [
    {
     "name": "stdout",
     "output_type": "stream",
     "text": [
      " * sqlite:///magenta_media.db\n",
      "Done.\n"
     ]
    },
    {
     "data": {
      "text/html": [
       "<table>\n",
       "    <tr>\n",
       "        <th>client_name</th>\n",
       "        <th>client_start_date</th>\n",
       "        <th>start_year</th>\n",
       "    </tr>\n",
       "    <tr>\n",
       "        <td>Queen Maeve</td>\n",
       "        <td>1986-03-26</td>\n",
       "        <td>1986</td>\n",
       "    </tr>\n",
       "</table>"
      ],
      "text/plain": [
       "[('Queen Maeve', '1986-03-26', '1986')]"
      ]
     },
     "execution_count": 54,
     "metadata": {},
     "output_type": "execute_result"
    }
   ],
   "source": [
    "%%sql \n",
    "\n",
    "SELECT client_name, client_start_date, strftime('%Y', client_start_date) as start_year\n",
    "FROM client\n",
    "WHERE strftime('%Y', client_start_date) < '1994'"
   ]
  },
  {
   "cell_type": "markdown",
   "id": "ce32ac9d",
   "metadata": {},
   "source": [
    "A nice example of using `strftime` (which you may have come across during the Python sprint) to extract certain portions of the date stored in our table. Could we form our `WHERE` clause differently, without having to extract the year from our date?"
   ]
  },
  {
   "cell_type": "markdown",
   "id": "89207d65",
   "metadata": {},
   "source": [
    "---"
   ]
  },
  {
   "cell_type": "markdown",
   "id": "1ccf192d",
   "metadata": {},
   "source": [
    "**4: What is the creative_id of the ad, which mentions 'Species'?**"
   ]
  },
  {
   "cell_type": "code",
   "execution_count": 50,
   "id": "5aab8730",
   "metadata": {
    "slideshow": {
     "slide_type": "slide"
    }
   },
   "outputs": [
    {
     "name": "stdout",
     "output_type": "stream",
     "text": [
      " * sqlite:///magenta_media.db\n",
      "Done.\n"
     ]
    },
    {
     "data": {
      "text/html": [
       "<table>\n",
       "    <tr>\n",
       "        <th>creative_id</th>\n",
       "        <th>creative_name</th>\n",
       "    </tr>\n",
       "    <tr>\n",
       "        <td>STA/102/010</td>\n",
       "        <td>The Female of the Species</td>\n",
       "    </tr>\n",
       "</table>"
      ],
      "text/plain": [
       "[('STA/102/010', 'The Female of the Species')]"
      ]
     },
     "execution_count": 50,
     "metadata": {},
     "output_type": "execute_result"
    }
   ],
   "source": [
    "%%sql \n",
    "\n",
    "SELECT creative_id, creative_name\n",
    "FROM creative\n",
    "WHERE creative_name LIKE '%species%'"
   ]
  },
  {
   "cell_type": "markdown",
   "id": "1ebaaebd",
   "metadata": {},
   "source": [
    "The `LIKE` operator searches text for certain patterns/substrings that we specify. In this case, we've looked for the word 'species', and we've used *wildcards* with it. The two wildcards used with the `LIKE` operator are the percentage sign (%) and the underscore ( _ ). The % wildcard indicates zero, one or multiple characters, while the _ represents one, single character. The way we've used it in the above example tells SQL that we are looking for any occurrence of 'species', surrounded by any number of characters. The table below shows a few examples of how wildcards could be used:\n",
    "\n",
    "[Source](https://www.w3schools.com/sql/sql_like.asp)"
   ]
  },
  {
   "cell_type": "markdown",
   "id": "cb470f52",
   "metadata": {},
   "source": [
    "| LIKE Operator | Description |\n",
    "| :- | :- | \n",
    "| WHERE CustomerName LIKE 'a%' | Finds any values that start with \"a\" | \n",
    "| WHERE CustomerName LIKE '%a' | Finds any values that end with \"a\" |\n",
    "| WHERE CustomerName LIKE '%or%' | Finds any values that have \"or\" in any position |\n",
    "| WHERE CustomerName LIKE '_r%' | Finds any values that have \"r\" in the second position |\n",
    "| WHERE CustomerName LIKE 'a_%' | Finds any values that start with \"a\" and are at least 2 characters in length |\n",
    "| WHERE CustomerName LIKE 'a__%' | Finds any values that start with \"a\" and are at least 3 characters in length |\n",
    "| WHERE CustomerName LIKE 'a%o' | Finds any values that start with \"a\" and ends with \"o\" |"
   ]
  },
  {
   "cell_type": "markdown",
   "id": "6357464c",
   "metadata": {},
   "source": [
    "---"
   ]
  },
  {
   "cell_type": "markdown",
   "id": "4aa01208",
   "metadata": {
    "slideshow": {
     "slide_type": "slide"
    }
   },
   "source": [
    "## Section 4: Aggregations, Filtering, Sorting\n",
    "\n",
    "Objective: We want to determine what ad types are the most profitable, what channels are the most profitable, and who our \"prized\" client is! Why do these things matter... because they are under our control, so we can influence them to make the company more profitable. "
   ]
  },
  {
   "cell_type": "markdown",
   "id": "55b9aee1",
   "metadata": {},
   "source": [
    "The code below gives us details about whichever table we specify (here we're looking at information about the `ad_details` table. We can see the column names, data types, default value, and which is the Primary Key (pk)."
   ]
  },
  {
   "cell_type": "code",
   "execution_count": 7,
   "id": "76b40d7c",
   "metadata": {},
   "outputs": [
    {
     "name": "stdout",
     "output_type": "stream",
     "text": [
      " * sqlite:///magenta_media.db\n",
      "Done.\n"
     ]
    },
    {
     "data": {
      "text/html": [
       "<table>\n",
       "    <tr>\n",
       "        <th>cid</th>\n",
       "        <th>name</th>\n",
       "        <th>type</th>\n",
       "        <th>notnull</th>\n",
       "        <th>dflt_value</th>\n",
       "        <th>pk</th>\n",
       "    </tr>\n",
       "    <tr>\n",
       "        <td>0</td>\n",
       "        <td>ad_id</td>\n",
       "        <td>VARCHAR(100)</td>\n",
       "        <td>0</td>\n",
       "        <td>None</td>\n",
       "        <td>1</td>\n",
       "    </tr>\n",
       "    <tr>\n",
       "        <td>1</td>\n",
       "        <td>creative_id</td>\n",
       "        <td>VARCHAR(100)</td>\n",
       "        <td>0</td>\n",
       "        <td>None</td>\n",
       "        <td>0</td>\n",
       "    </tr>\n",
       "    <tr>\n",
       "        <td>2</td>\n",
       "        <td>date</td>\n",
       "        <td>DATE</td>\n",
       "        <td>0</td>\n",
       "        <td>None</td>\n",
       "        <td>0</td>\n",
       "    </tr>\n",
       "    <tr>\n",
       "        <td>3</td>\n",
       "        <td>programme</td>\n",
       "        <td>VARCHAR(100)</td>\n",
       "        <td>0</td>\n",
       "        <td>None</td>\n",
       "        <td>0</td>\n",
       "    </tr>\n",
       "    <tr>\n",
       "        <td>4</td>\n",
       "        <td>channel</td>\n",
       "        <td>VARCHAR(100)</td>\n",
       "        <td>0</td>\n",
       "        <td>None</td>\n",
       "        <td>0</td>\n",
       "    </tr>\n",
       "    <tr>\n",
       "        <td>5</td>\n",
       "        <td>time</td>\n",
       "        <td>TIME</td>\n",
       "        <td>0</td>\n",
       "        <td>None</td>\n",
       "        <td>0</td>\n",
       "    </tr>\n",
       "    <tr>\n",
       "        <td>6</td>\n",
       "        <td>duration</td>\n",
       "        <td>INTEGER</td>\n",
       "        <td>0</td>\n",
       "        <td>None</td>\n",
       "        <td>0</td>\n",
       "    </tr>\n",
       "    <tr>\n",
       "        <td>7</td>\n",
       "        <td>cost</td>\n",
       "        <td>REAL</td>\n",
       "        <td>0</td>\n",
       "        <td>None</td>\n",
       "        <td>0</td>\n",
       "    </tr>\n",
       "</table>"
      ],
      "text/plain": [
       "[(0, 'ad_id', 'VARCHAR(100)', 0, None, 1),\n",
       " (1, 'creative_id', 'VARCHAR(100)', 0, None, 0),\n",
       " (2, 'date', 'DATE', 0, None, 0),\n",
       " (3, 'programme', 'VARCHAR(100)', 0, None, 0),\n",
       " (4, 'channel', 'VARCHAR(100)', 0, None, 0),\n",
       " (5, 'time', 'TIME', 0, None, 0),\n",
       " (6, 'duration', 'INTEGER', 0, None, 0),\n",
       " (7, 'cost', 'REAL', 0, None, 0)]"
      ]
     },
     "execution_count": 7,
     "metadata": {},
     "output_type": "execute_result"
    }
   ],
   "source": [
    "%%sql\n",
    "\n",
    "pragma table_info(ad_details)"
   ]
  },
  {
   "cell_type": "markdown",
   "id": "eb2384ef",
   "metadata": {
    "slideshow": {
     "slide_type": "slide"
    }
   },
   "source": [
    "#### Now that we have a database, we need to identify business-relevant information\n",
    "\n",
    "- Understand RELATIONSHIPS in the database\n",
    "- Find a specific value / text\n",
    "- GROUP BY clients\n",
    "- ORDER BY highest costs\n",
    "- Make numeric CALCULATIONS \n",
    "- Use ALIASES to create intuitive outputs\n"
   ]
  },
  {
   "cell_type": "markdown",
   "id": "2ae99ba3",
   "metadata": {},
   "source": [
    "Example 1: Find the ads average cost to the clients to air each ad"
   ]
  },
  {
   "cell_type": "code",
   "execution_count": null,
   "id": "f5aa45b9",
   "metadata": {
    "slideshow": {
     "slide_type": "slide"
    }
   },
   "outputs": [],
   "source": [
    "%%sql\n"
   ]
  },
  {
   "cell_type": "markdown",
   "id": "b05402cd",
   "metadata": {},
   "source": [
    "Example 2: Find the ads which bring in the highest revenue (i.e. total cost, per ad, is our revenue)"
   ]
  },
  {
   "cell_type": "code",
   "execution_count": null,
   "id": "c1a02709",
   "metadata": {
    "slideshow": {
     "slide_type": "slide"
    }
   },
   "outputs": [],
   "source": [
    "%%sql\n"
   ]
  },
  {
   "cell_type": "markdown",
   "id": "895b59a5",
   "metadata": {},
   "source": [
    "Example 3: Find the channels which are the most expensive (in ZAR, use $1 = R 18.85 rounded to 'cents' i.e. 2 d.p.)"
   ]
  },
  {
   "cell_type": "code",
   "execution_count": null,
   "id": "9cad77a1",
   "metadata": {
    "slideshow": {
     "slide_type": "slide"
    }
   },
   "outputs": [],
   "source": [
    "%%sql\n"
   ]
  },
  {
   "cell_type": "markdown",
   "id": "a337f630",
   "metadata": {},
   "source": [
    "Example 5: (This one is a little more difficult - you haven't necessarily come across CASE WHEN statements just yet, but you can give it a shot!) Use case-statements to determine which adverts have had a total_operational_cost under $20,000\n",
    "\n",
    "-> total_operational_cost = (airtime cost + production of $10,000)"
   ]
  },
  {
   "cell_type": "code",
   "execution_count": null,
   "id": "29e31f63",
   "metadata": {
    "slideshow": {
     "slide_type": "slide"
    }
   },
   "outputs": [],
   "source": [
    "%%sql\n"
   ]
  },
  {
   "cell_type": "markdown",
   "id": "04163c1f",
   "metadata": {
    "slideshow": {
     "slide_type": "slide"
    }
   },
   "source": [
    "## Section 5: Findings. Conclusions. Recommendations. \n",
    "\n",
    "Take your findings, and translate it into value. \n",
    "\n",
    "- Most profitable ad?\n",
    "- Most profitable channel?\n",
    "- Should clients have more creatives?\n",
    "- ...?\n",
    "\n",
    "...What data would we want, in order to properly advise our clients for their best interests?\n",
    "\n",
    "...How can we incentivise clients? Think about a mock marketing strategy."
   ]
  },
  {
   "cell_type": "code",
   "execution_count": null,
   "id": "b2ab101b",
   "metadata": {},
   "outputs": [],
   "source": []
  }
 ],
 "metadata": {
  "kernelspec": {
   "display_name": "Python 3 (ipykernel)",
   "language": "python",
   "name": "python3"
  },
  "language_info": {
   "codemirror_mode": {
    "name": "ipython",
    "version": 3
   },
   "file_extension": ".py",
   "mimetype": "text/x-python",
   "name": "python",
   "nbconvert_exporter": "python",
   "pygments_lexer": "ipython3",
   "version": "3.9.7"
  }
 },
 "nbformat": 4,
 "nbformat_minor": 5
}
