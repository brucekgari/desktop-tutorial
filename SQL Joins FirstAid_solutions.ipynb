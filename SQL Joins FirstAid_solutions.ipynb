{
 "cells": [
  {
   "cell_type": "markdown",
   "id": "1bd9346c",
   "metadata": {},
   "source": [
    "# SQL Joins\n",
    "\n",
    "In this webinar we will be reviewing SQL joins - the different type of joins, how they work in theory, and a couple of exercises to get used to using them. The joins we will be looking at are: \n",
    "\n",
    "- INNER JOIN\n",
    "- LEFT JOIN\n",
    "- RIGHT JOIN (brief)\n",
    "- FULL OUTER JOIN\n",
    "- CROSS JOIN"
   ]
  },
  {
   "cell_type": "markdown",
   "id": "0a4d6933",
   "metadata": {},
   "source": [
    "## What are 'joins'?\n",
    "\n",
    "SQL Joins are used to combine data or rows from two or more tables based on a common field between them. Say we need information from two different tables, and we want to return this information in one output from a query. We need to think about how these two tables are linked, so that we can display the information we need. \n",
    "\n",
    "Tables are combined using primary and foreign keys of the tables. Reminder:\n",
    "- A primary key is a column or group of columns in a table that uniquely identifies each row in that table. e.g student number, id number.\n",
    "- A foreign key is a column or group of columns in a relational database table that provides a link between data in two tables. It is a column (or columns) that references a column (most often the primary key) of another table.\n",
    "\n",
    "The general syntax of a JOIN statement is as follows:\n",
    "\n",
    "```sql\n",
    "SELECT column(s)\n",
    "FROM table1\n",
    "<join_type> JOIN table2\n",
    "ON table1.key = table2.key\n",
    "```"
   ]
  },
  {
   "cell_type": "markdown",
   "id": "6a597b91",
   "metadata": {},
   "source": [
    "## Inner Join\n",
    "\n",
    "An inner join is the same as returning the INTERSECT of two tables. We are returning rows that have matching values along a particular column in BOTH tables we are referencing:\n",
    "\n",
    "![](https://i.ibb.co/kJPyJh8/Inner.png)"
   ]
  },
  {
   "cell_type": "markdown",
   "id": "956405cf",
   "metadata": {},
   "source": [
    "```sql\n",
    "SELECT Names.id, Names.name, Streams.stream\n",
    "FROM Names\n",
    "INNER JOIN Streams\n",
    "ON Names.id = Streams.id;\n",
    "```"
   ]
  },
  {
   "cell_type": "markdown",
   "id": "7d54611d",
   "metadata": {},
   "source": [
    "## Left Join\n",
    "\n",
    "When joining two tables, a LEFT JOIN returns all records from the left table and matched records from the right table.\n",
    "\n",
    "If no match is found in the right table, then the result from the right table is NULL on that row.\n",
    "\n",
    "\n",
    "![](https://i.ibb.co/9tK7ZwH/SQL-Joins-Left-Outer-Join.png)"
   ]
  },
  {
   "cell_type": "markdown",
   "id": "a1d7315d",
   "metadata": {},
   "source": [
    "```sql\n",
    "SELECT Names.id, Names.name, Streams.stream\n",
    "FROM Names\n",
    "LEFT JOIN Streams\n",
    "ON Names.id = Streams.id;\n",
    "```"
   ]
  },
  {
   "cell_type": "markdown",
   "id": "59306957",
   "metadata": {},
   "source": [
    "## Right Join\n",
    "\n",
    "`RIGHT JOIN` is not supported in SQLite - however, a right join works in the opposite way to a left join. It will return all records from the right table, and matched records from the left table - if no match is found in the left table, then the result from the left table will be NULL on that row.\n",
    "\n",
    "We can easily rearrange a right join to use a LEFT JOIN statement instead, simply by swapping where we place each of the tables in our query"
   ]
  },
  {
   "cell_type": "markdown",
   "id": "f35313bc",
   "metadata": {},
   "source": [
    "## Full Outer Join (also 'Full Join')\n",
    "\n",
    "A `FULL JOIN` is also not supported in SQLite, however it works the same as getting the UNION of our tables. A full join will return all the rows from both tables, with NULL values for non-matching rows. We can imitate the working of a full join by using `LEFT JOIN`s and the `UNION ALL` operator\n",
    "\n",
    "![](https://i.ibb.co/F89sQpL/SQL-Joins-Full-Outer-Join.png)"
   ]
  },
  {
   "cell_type": "markdown",
   "id": "53ab778e",
   "metadata": {},
   "source": [
    "```sql\n",
    "SELECT Names.id, Names.name, Streams.stream\n",
    "FROM Names\n",
    "FULL OUTER JOIN Streams\n",
    "ON Names.id = Streams.id;\n",
    "```"
   ]
  },
  {
   "cell_type": "markdown",
   "id": "ca1b6260",
   "metadata": {},
   "source": [
    "Using the UNION ALL operator...\n",
    "\n",
    "\n",
    "```sql\n",
    "SELECT Names.id, Names.name, Streams.stream\n",
    "FROM Names\n",
    "LEFT JOIN Streams\n",
    "    ON Names.id = Streams.id\n",
    "\n",
    "UNION ALL\n",
    "\n",
    "SELECT Names.id, Names.name, Streams.stream\n",
    "FROM Streams \n",
    "LEFT JOIN Names\n",
    "    ON Names.id = Streams.id\n",
    "```"
   ]
  },
  {
   "cell_type": "markdown",
   "id": "3bb50934",
   "metadata": {},
   "source": [
    "## Cross Join\n",
    "\n",
    "The `CROSS JOIN` of two or more tables is similar to taking their cartesian product. The result is a set of rows containing all possible ordered combinations of rows from the two tables.\n",
    "\n",
    "![](https://i.ibb.co/BPhDn1H/SQL-Joins-Cross-Join.png)"
   ]
  },
  {
   "cell_type": "markdown",
   "id": "ef2dc2a7",
   "metadata": {},
   "source": [
    "```sql\n",
    "SELECT Names.id, Names.name, Streams.stream\n",
    "FROM Names\n",
    "CROSS JOIN Streams\n",
    "ON Names.id = Streams.id;\n",
    "```"
   ]
  },
  {
   "cell_type": "markdown",
   "id": "7ee37107",
   "metadata": {},
   "source": [
    "---"
   ]
  },
  {
   "cell_type": "markdown",
   "id": "e4774f03",
   "metadata": {},
   "source": [
    "### How to build up a query\n",
    "\n",
    "##### Step 1 \n",
    "- Create a basic query\n",
    "    - SELECT * FROM table_name LIMIT 30\n",
    "\n",
    "##### Step 2\n",
    "- Does the current table have all the info you need to answer our question?\n",
    "    - Yes -> then proceed to Step 4\n",
    "    - No -> then proceed to Step 3\n",
    "    \n",
    "##### Step 3\n",
    "- Let's get the information we need. How do we do this?\n",
    "    - JOIN\n",
    "    - INNER JOIN\n",
    "    - LEFT JOIN\n",
    "    - OUTER JOIN\n",
    "- What table has the information we want? \n",
    "- Go back to step 2\n",
    "    \n",
    "##### Step 4 \n",
    "- Do we need to filter our data in someway to answer our question? Do we need to isolate specific data from the rest of the data?\n",
    "    - WHERE -> Done before data is aggregated or grouped\n",
    "    - HAVING -> Used after a GROUP BY clause\n",
    "\n",
    "##### Step 5 \n",
    "- Do we need to know certain properties of our data? How many data points meet our condition? What is the average value of the data points?\n",
    "    - COUNT -> counts all the rows of a given table or column\n",
    "    - COUNT (DISTINCT) -> counts all the unique entries of a column (No Duplicates)\n",
    "    - MAX -> Returns the largest value in a specified column\n",
    "    - MIN -> Return the lowest value in a specified column\n",
    "    - \"Basic Maths Operations\" -> + ; - ; * ; /\n",
    "    - SUM -> Will add all value in a numeric column excluding nulls\n",
    "    - AVG -> Will take the sum of all value defined by the total number of values excluding nulls\n",
    "    - GROUP BY -> Concatenates results by mergeing them together based on some sort of Aggregation\n",
    "    \n",
    "##### Step 6 \n",
    "- Finally, we may need to organise our results to find the answer we want:\n",
    "    - ORDER BY -> DESC or Ascending order (NOTE this is the Default setting)\n",
    "    \n",
    "    \n",
    "   `"
   ]
  },
  {
   "cell_type": "markdown",
   "id": "c61add97",
   "metadata": {},
   "source": [
    "```sql\n",
    "- Step 1\n",
    "\n",
    "SELECT * \n",
    "FROM table_name_1\n",
    "LIMIT 30; \n",
    "\n",
    "- Step 3\n",
    "\n",
    "SELECT * \n",
    "FROM table_name_1 as t1\n",
    "JOIN table_name_2 as t2\n",
    "ON t1.common_column = t2.common_column\n",
    "\n",
    "--- We can keep joining until we have all our data\n",
    "\n",
    "JOIN table_name_3 as t3\n",
    "ON t3.common_column = t2.common_column\n",
    "\n",
    "- Step 4\n",
    "SELECT (*) \n",
    "FROM table_name_1 as t1\n",
    "JOIN table_name_2 as t2\n",
    "ON t1.common_column = t2.common_column\n",
    "WHERE t1.column_name = 'Something' and t2.column_name = 'Something else'\n",
    "\n",
    "- Step 5\n",
    "SELECT Some_Aggregation (*) \n",
    "FROM table_name_1 as t1\n",
    "JOIN table_name_2 as t2\n",
    "ON t1.common_column = t2.common_column\n",
    "WHERE t1.column_name = 'Something'\n",
    "\n",
    "- Step 6\n",
    "SELECT Some_Aggregation (*) \n",
    "FROM table_name_1 as t1\n",
    "JOIN table_name_2 as t2\n",
    "ON t1.common_column = t2.common_column\n",
    "WHERE t1.column_name = 'Something'\n",
    "ORDER BY t1.column_name \n",
    "```"
   ]
  },
  {
   "cell_type": "markdown",
   "id": "ab941432",
   "metadata": {},
   "source": [
    "---"
   ]
  },
  {
   "cell_type": "markdown",
   "id": "df14060d",
   "metadata": {},
   "source": [
    "## Let's try some exercises\n",
    "\n",
    "Load in our extension first:"
   ]
  },
  {
   "cell_type": "code",
   "execution_count": 2,
   "id": "8a8a3067",
   "metadata": {},
   "outputs": [],
   "source": [
    "%load_ext sql"
   ]
  },
  {
   "cell_type": "markdown",
   "id": "bcbb80e2",
   "metadata": {},
   "source": [
    "Load in our data - we'll be using the chinook.db database"
   ]
  },
  {
   "cell_type": "code",
   "execution_count": 3,
   "id": "88ee50b3",
   "metadata": {},
   "outputs": [],
   "source": [
    "%%sql\n",
    "sqlite:///chinook.db"
   ]
  },
  {
   "cell_type": "markdown",
   "id": "b533295a",
   "metadata": {},
   "source": [
    "Chinook database ER diagram:\n",
    "\n",
    "<img src=\"https://github.com/Explore-AI/Pictures/blob/master/sqlite-sample-database-color.jpg?raw=true\" width=70%/>\n",
    "\n",
    "_[Image source](https://www.sqlitetutorial.net/sqlite-sample-database/)_"
   ]
  },
  {
   "cell_type": "code",
   "execution_count": 4,
   "id": "1e8aef94",
   "metadata": {},
   "outputs": [
    {
     "name": "stdout",
     "output_type": "stream",
     "text": [
      " * sqlite:///chinook.db\n",
      "Done.\n"
     ]
    },
    {
     "data": {
      "text/html": [
       "<table>\n",
       "    <tr>\n",
       "        <th>name</th>\n",
       "    </tr>\n",
       "    <tr>\n",
       "        <td>albums</td>\n",
       "    </tr>\n",
       "    <tr>\n",
       "        <td>artists</td>\n",
       "    </tr>\n",
       "    <tr>\n",
       "        <td>customers</td>\n",
       "    </tr>\n",
       "    <tr>\n",
       "        <td>employees</td>\n",
       "    </tr>\n",
       "    <tr>\n",
       "        <td>genres</td>\n",
       "    </tr>\n",
       "    <tr>\n",
       "        <td>invoice_items</td>\n",
       "    </tr>\n",
       "    <tr>\n",
       "        <td>invoices</td>\n",
       "    </tr>\n",
       "    <tr>\n",
       "        <td>media_types</td>\n",
       "    </tr>\n",
       "    <tr>\n",
       "        <td>playlist_track</td>\n",
       "    </tr>\n",
       "    <tr>\n",
       "        <td>playlists</td>\n",
       "    </tr>\n",
       "    <tr>\n",
       "        <td>sqlite_sequence</td>\n",
       "    </tr>\n",
       "    <tr>\n",
       "        <td>sqlite_stat1</td>\n",
       "    </tr>\n",
       "    <tr>\n",
       "        <td>tracks</td>\n",
       "    </tr>\n",
       "</table>"
      ],
      "text/plain": [
       "[('albums',),\n",
       " ('artists',),\n",
       " ('customers',),\n",
       " ('employees',),\n",
       " ('genres',),\n",
       " ('invoice_items',),\n",
       " ('invoices',),\n",
       " ('media_types',),\n",
       " ('playlist_track',),\n",
       " ('playlists',),\n",
       " ('sqlite_sequence',),\n",
       " ('sqlite_stat1',),\n",
       " ('tracks',)]"
      ]
     },
     "execution_count": 4,
     "metadata": {},
     "output_type": "execute_result"
    }
   ],
   "source": [
    "%%sql\n",
    "SELECT name FROM sqlite_schema WHERE type='table' ORDER BY name"
   ]
  },
  {
   "cell_type": "markdown",
   "id": "76d1aa1e",
   "metadata": {},
   "source": [
    "---"
   ]
  },
  {
   "cell_type": "markdown",
   "id": "f0bee7f7",
   "metadata": {},
   "source": [
    "1. Display the FirstName, LastName, InvoiceID, Invoice Date and Country columns, for all customers from Brazil"
   ]
  },
  {
   "cell_type": "markdown",
   "id": "3722de2d",
   "metadata": {},
   "source": [
    "**Let's think about the steps from before**\n",
    "\n",
    "- Create a basic query\n",
    "\n",
    "- Does the current table have all the info you need to answer our question?\n",
    "    - Yes -> then proceed to Step 4\n",
    "    - No -> then proceed to Step 3\n",
    "    \n",
    "- How do we get the information we need and from where?\n",
    "    \n",
    "- Do we need to filter our data in someway to answer our question? Do we need to isolate specific data from the rest of the data?\n",
    "\n",
    "- Do we need to know certain properties of our data? How many data points meet our condition? What is the average value of the data points?\n",
    "    \n",
    "- Do we need to organise our results to find the answer we want?"
   ]
  },
  {
   "cell_type": "code",
   "execution_count": 5,
   "id": "a456e7e8",
   "metadata": {},
   "outputs": [
    {
     "name": "stdout",
     "output_type": "stream",
     "text": [
      " * sqlite:///chinook.db\n",
      "Done.\n"
     ]
    },
    {
     "data": {
      "text/html": [
       "<table>\n",
       "    <tr>\n",
       "        <th>FirstName</th>\n",
       "        <th>LastName</th>\n",
       "        <th>InvoiceId</th>\n",
       "        <th>InvoiceDate</th>\n",
       "        <th>Country</th>\n",
       "    </tr>\n",
       "    <tr>\n",
       "        <td>Luís</td>\n",
       "        <td>Gonçalves</td>\n",
       "        <td>98</td>\n",
       "        <td>2010-03-11 00:00:00</td>\n",
       "        <td>Brazil</td>\n",
       "    </tr>\n",
       "    <tr>\n",
       "        <td>Luís</td>\n",
       "        <td>Gonçalves</td>\n",
       "        <td>121</td>\n",
       "        <td>2010-06-13 00:00:00</td>\n",
       "        <td>Brazil</td>\n",
       "    </tr>\n",
       "    <tr>\n",
       "        <td>Luís</td>\n",
       "        <td>Gonçalves</td>\n",
       "        <td>143</td>\n",
       "        <td>2010-09-15 00:00:00</td>\n",
       "        <td>Brazil</td>\n",
       "    </tr>\n",
       "    <tr>\n",
       "        <td>Luís</td>\n",
       "        <td>Gonçalves</td>\n",
       "        <td>195</td>\n",
       "        <td>2011-05-06 00:00:00</td>\n",
       "        <td>Brazil</td>\n",
       "    </tr>\n",
       "    <tr>\n",
       "        <td>Luís</td>\n",
       "        <td>Gonçalves</td>\n",
       "        <td>316</td>\n",
       "        <td>2012-10-27 00:00:00</td>\n",
       "        <td>Brazil</td>\n",
       "    </tr>\n",
       "    <tr>\n",
       "        <td>Luís</td>\n",
       "        <td>Gonçalves</td>\n",
       "        <td>327</td>\n",
       "        <td>2012-12-07 00:00:00</td>\n",
       "        <td>Brazil</td>\n",
       "    </tr>\n",
       "    <tr>\n",
       "        <td>Luís</td>\n",
       "        <td>Gonçalves</td>\n",
       "        <td>382</td>\n",
       "        <td>2013-08-07 00:00:00</td>\n",
       "        <td>Brazil</td>\n",
       "    </tr>\n",
       "    <tr>\n",
       "        <td>Eduardo</td>\n",
       "        <td>Martins</td>\n",
       "        <td>25</td>\n",
       "        <td>2009-04-09 00:00:00</td>\n",
       "        <td>Brazil</td>\n",
       "    </tr>\n",
       "    <tr>\n",
       "        <td>Eduardo</td>\n",
       "        <td>Martins</td>\n",
       "        <td>154</td>\n",
       "        <td>2010-11-14 00:00:00</td>\n",
       "        <td>Brazil</td>\n",
       "    </tr>\n",
       "    <tr>\n",
       "        <td>Eduardo</td>\n",
       "        <td>Martins</td>\n",
       "        <td>177</td>\n",
       "        <td>2011-02-16 00:00:00</td>\n",
       "        <td>Brazil</td>\n",
       "    </tr>\n",
       "    <tr>\n",
       "        <td>Eduardo</td>\n",
       "        <td>Martins</td>\n",
       "        <td>199</td>\n",
       "        <td>2011-05-21 00:00:00</td>\n",
       "        <td>Brazil</td>\n",
       "    </tr>\n",
       "    <tr>\n",
       "        <td>Eduardo</td>\n",
       "        <td>Martins</td>\n",
       "        <td>251</td>\n",
       "        <td>2012-01-09 00:00:00</td>\n",
       "        <td>Brazil</td>\n",
       "    </tr>\n",
       "    <tr>\n",
       "        <td>Eduardo</td>\n",
       "        <td>Martins</td>\n",
       "        <td>372</td>\n",
       "        <td>2013-07-02 00:00:00</td>\n",
       "        <td>Brazil</td>\n",
       "    </tr>\n",
       "    <tr>\n",
       "        <td>Eduardo</td>\n",
       "        <td>Martins</td>\n",
       "        <td>383</td>\n",
       "        <td>2013-08-12 00:00:00</td>\n",
       "        <td>Brazil</td>\n",
       "    </tr>\n",
       "    <tr>\n",
       "        <td>Alexandre</td>\n",
       "        <td>Rocha</td>\n",
       "        <td>57</td>\n",
       "        <td>2009-09-06 00:00:00</td>\n",
       "        <td>Brazil</td>\n",
       "    </tr>\n",
       "    <tr>\n",
       "        <td>Alexandre</td>\n",
       "        <td>Rocha</td>\n",
       "        <td>68</td>\n",
       "        <td>2009-10-17 00:00:00</td>\n",
       "        <td>Brazil</td>\n",
       "    </tr>\n",
       "    <tr>\n",
       "        <td>Alexandre</td>\n",
       "        <td>Rocha</td>\n",
       "        <td>123</td>\n",
       "        <td>2010-06-17 00:00:00</td>\n",
       "        <td>Brazil</td>\n",
       "    </tr>\n",
       "    <tr>\n",
       "        <td>Alexandre</td>\n",
       "        <td>Rocha</td>\n",
       "        <td>252</td>\n",
       "        <td>2012-01-22 00:00:00</td>\n",
       "        <td>Brazil</td>\n",
       "    </tr>\n",
       "    <tr>\n",
       "        <td>Alexandre</td>\n",
       "        <td>Rocha</td>\n",
       "        <td>275</td>\n",
       "        <td>2012-04-25 00:00:00</td>\n",
       "        <td>Brazil</td>\n",
       "    </tr>\n",
       "    <tr>\n",
       "        <td>Alexandre</td>\n",
       "        <td>Rocha</td>\n",
       "        <td>297</td>\n",
       "        <td>2012-07-28 00:00:00</td>\n",
       "        <td>Brazil</td>\n",
       "    </tr>\n",
       "    <tr>\n",
       "        <td>Alexandre</td>\n",
       "        <td>Rocha</td>\n",
       "        <td>349</td>\n",
       "        <td>2013-03-18 00:00:00</td>\n",
       "        <td>Brazil</td>\n",
       "    </tr>\n",
       "    <tr>\n",
       "        <td>Roberto</td>\n",
       "        <td>Almeida</td>\n",
       "        <td>34</td>\n",
       "        <td>2009-05-23 00:00:00</td>\n",
       "        <td>Brazil</td>\n",
       "    </tr>\n",
       "    <tr>\n",
       "        <td>Roberto</td>\n",
       "        <td>Almeida</td>\n",
       "        <td>155</td>\n",
       "        <td>2010-11-14 00:00:00</td>\n",
       "        <td>Brazil</td>\n",
       "    </tr>\n",
       "    <tr>\n",
       "        <td>Roberto</td>\n",
       "        <td>Almeida</td>\n",
       "        <td>166</td>\n",
       "        <td>2010-12-25 00:00:00</td>\n",
       "        <td>Brazil</td>\n",
       "    </tr>\n",
       "    <tr>\n",
       "        <td>Roberto</td>\n",
       "        <td>Almeida</td>\n",
       "        <td>221</td>\n",
       "        <td>2011-08-25 00:00:00</td>\n",
       "        <td>Brazil</td>\n",
       "    </tr>\n",
       "    <tr>\n",
       "        <td>Roberto</td>\n",
       "        <td>Almeida</td>\n",
       "        <td>350</td>\n",
       "        <td>2013-03-31 00:00:00</td>\n",
       "        <td>Brazil</td>\n",
       "    </tr>\n",
       "    <tr>\n",
       "        <td>Roberto</td>\n",
       "        <td>Almeida</td>\n",
       "        <td>373</td>\n",
       "        <td>2013-07-03 00:00:00</td>\n",
       "        <td>Brazil</td>\n",
       "    </tr>\n",
       "    <tr>\n",
       "        <td>Roberto</td>\n",
       "        <td>Almeida</td>\n",
       "        <td>395</td>\n",
       "        <td>2013-10-05 00:00:00</td>\n",
       "        <td>Brazil</td>\n",
       "    </tr>\n",
       "    <tr>\n",
       "        <td>Fernanda</td>\n",
       "        <td>Ramos</td>\n",
       "        <td>35</td>\n",
       "        <td>2009-06-05 00:00:00</td>\n",
       "        <td>Brazil</td>\n",
       "    </tr>\n",
       "    <tr>\n",
       "        <td>Fernanda</td>\n",
       "        <td>Ramos</td>\n",
       "        <td>58</td>\n",
       "        <td>2009-09-07 00:00:00</td>\n",
       "        <td>Brazil</td>\n",
       "    </tr>\n",
       "    <tr>\n",
       "        <td>Fernanda</td>\n",
       "        <td>Ramos</td>\n",
       "        <td>80</td>\n",
       "        <td>2009-12-10 00:00:00</td>\n",
       "        <td>Brazil</td>\n",
       "    </tr>\n",
       "    <tr>\n",
       "        <td>Fernanda</td>\n",
       "        <td>Ramos</td>\n",
       "        <td>132</td>\n",
       "        <td>2010-07-31 00:00:00</td>\n",
       "        <td>Brazil</td>\n",
       "    </tr>\n",
       "    <tr>\n",
       "        <td>Fernanda</td>\n",
       "        <td>Ramos</td>\n",
       "        <td>253</td>\n",
       "        <td>2012-01-22 00:00:00</td>\n",
       "        <td>Brazil</td>\n",
       "    </tr>\n",
       "    <tr>\n",
       "        <td>Fernanda</td>\n",
       "        <td>Ramos</td>\n",
       "        <td>264</td>\n",
       "        <td>2012-03-03 00:00:00</td>\n",
       "        <td>Brazil</td>\n",
       "    </tr>\n",
       "    <tr>\n",
       "        <td>Fernanda</td>\n",
       "        <td>Ramos</td>\n",
       "        <td>319</td>\n",
       "        <td>2012-11-01 00:00:00</td>\n",
       "        <td>Brazil</td>\n",
       "    </tr>\n",
       "</table>"
      ],
      "text/plain": [
       "[('Luís', 'Gonçalves', 98, '2010-03-11 00:00:00', 'Brazil'),\n",
       " ('Luís', 'Gonçalves', 121, '2010-06-13 00:00:00', 'Brazil'),\n",
       " ('Luís', 'Gonçalves', 143, '2010-09-15 00:00:00', 'Brazil'),\n",
       " ('Luís', 'Gonçalves', 195, '2011-05-06 00:00:00', 'Brazil'),\n",
       " ('Luís', 'Gonçalves', 316, '2012-10-27 00:00:00', 'Brazil'),\n",
       " ('Luís', 'Gonçalves', 327, '2012-12-07 00:00:00', 'Brazil'),\n",
       " ('Luís', 'Gonçalves', 382, '2013-08-07 00:00:00', 'Brazil'),\n",
       " ('Eduardo', 'Martins', 25, '2009-04-09 00:00:00', 'Brazil'),\n",
       " ('Eduardo', 'Martins', 154, '2010-11-14 00:00:00', 'Brazil'),\n",
       " ('Eduardo', 'Martins', 177, '2011-02-16 00:00:00', 'Brazil'),\n",
       " ('Eduardo', 'Martins', 199, '2011-05-21 00:00:00', 'Brazil'),\n",
       " ('Eduardo', 'Martins', 251, '2012-01-09 00:00:00', 'Brazil'),\n",
       " ('Eduardo', 'Martins', 372, '2013-07-02 00:00:00', 'Brazil'),\n",
       " ('Eduardo', 'Martins', 383, '2013-08-12 00:00:00', 'Brazil'),\n",
       " ('Alexandre', 'Rocha', 57, '2009-09-06 00:00:00', 'Brazil'),\n",
       " ('Alexandre', 'Rocha', 68, '2009-10-17 00:00:00', 'Brazil'),\n",
       " ('Alexandre', 'Rocha', 123, '2010-06-17 00:00:00', 'Brazil'),\n",
       " ('Alexandre', 'Rocha', 252, '2012-01-22 00:00:00', 'Brazil'),\n",
       " ('Alexandre', 'Rocha', 275, '2012-04-25 00:00:00', 'Brazil'),\n",
       " ('Alexandre', 'Rocha', 297, '2012-07-28 00:00:00', 'Brazil'),\n",
       " ('Alexandre', 'Rocha', 349, '2013-03-18 00:00:00', 'Brazil'),\n",
       " ('Roberto', 'Almeida', 34, '2009-05-23 00:00:00', 'Brazil'),\n",
       " ('Roberto', 'Almeida', 155, '2010-11-14 00:00:00', 'Brazil'),\n",
       " ('Roberto', 'Almeida', 166, '2010-12-25 00:00:00', 'Brazil'),\n",
       " ('Roberto', 'Almeida', 221, '2011-08-25 00:00:00', 'Brazil'),\n",
       " ('Roberto', 'Almeida', 350, '2013-03-31 00:00:00', 'Brazil'),\n",
       " ('Roberto', 'Almeida', 373, '2013-07-03 00:00:00', 'Brazil'),\n",
       " ('Roberto', 'Almeida', 395, '2013-10-05 00:00:00', 'Brazil'),\n",
       " ('Fernanda', 'Ramos', 35, '2009-06-05 00:00:00', 'Brazil'),\n",
       " ('Fernanda', 'Ramos', 58, '2009-09-07 00:00:00', 'Brazil'),\n",
       " ('Fernanda', 'Ramos', 80, '2009-12-10 00:00:00', 'Brazil'),\n",
       " ('Fernanda', 'Ramos', 132, '2010-07-31 00:00:00', 'Brazil'),\n",
       " ('Fernanda', 'Ramos', 253, '2012-01-22 00:00:00', 'Brazil'),\n",
       " ('Fernanda', 'Ramos', 264, '2012-03-03 00:00:00', 'Brazil'),\n",
       " ('Fernanda', 'Ramos', 319, '2012-11-01 00:00:00', 'Brazil')]"
      ]
     },
     "execution_count": 5,
     "metadata": {},
     "output_type": "execute_result"
    }
   ],
   "source": [
    "%%sql\n",
    "SELECT \n",
    "    c.FirstName, \n",
    "    c.LastName, \n",
    "    i.InvoiceId, \n",
    "    i.InvoiceDate, \n",
    "    c.Country \n",
    "FROM \n",
    "    Invoices i\n",
    "INNER JOIN Customers c \n",
    "    ON c.CustomerId = i.CustomerId \n",
    "WHERE c.Country = \"Brazil\""
   ]
  },
  {
   "cell_type": "markdown",
   "id": "59471022",
   "metadata": {},
   "source": [
    "---"
   ]
  },
  {
   "cell_type": "markdown",
   "id": "505b3321",
   "metadata": {},
   "source": [
    "2. Let's suppose that, as part of a new business strategy, Chinook wants to develop new product categories for their media items that are based on genre and media type. To do this, we write a query that will list all possible product categories **(i.e. all possible genre and media type combinations)**."
   ]
  },
  {
   "cell_type": "code",
   "execution_count": 17,
   "id": "90ff4521",
   "metadata": {},
   "outputs": [
    {
     "name": "stdout",
     "output_type": "stream",
     "text": [
      " * sqlite:///chinook.db\n",
      "Done.\n"
     ]
    },
    {
     "data": {
      "text/html": [
       "<table>\n",
       "    <tr>\n",
       "        <th>Genre</th>\n",
       "        <th>Media Type</th>\n",
       "    </tr>\n",
       "    <tr>\n",
       "        <td>Rock</td>\n",
       "        <td>MPEG audio file</td>\n",
       "    </tr>\n",
       "    <tr>\n",
       "        <td>Rock</td>\n",
       "        <td>Protected AAC audio file</td>\n",
       "    </tr>\n",
       "    <tr>\n",
       "        <td>Rock</td>\n",
       "        <td>Protected MPEG-4 video file</td>\n",
       "    </tr>\n",
       "    <tr>\n",
       "        <td>Rock</td>\n",
       "        <td>Purchased AAC audio file</td>\n",
       "    </tr>\n",
       "    <tr>\n",
       "        <td>Rock</td>\n",
       "        <td>AAC audio file</td>\n",
       "    </tr>\n",
       "    <tr>\n",
       "        <td>Jazz</td>\n",
       "        <td>MPEG audio file</td>\n",
       "    </tr>\n",
       "    <tr>\n",
       "        <td>Jazz</td>\n",
       "        <td>Protected AAC audio file</td>\n",
       "    </tr>\n",
       "    <tr>\n",
       "        <td>Jazz</td>\n",
       "        <td>Protected MPEG-4 video file</td>\n",
       "    </tr>\n",
       "    <tr>\n",
       "        <td>Jazz</td>\n",
       "        <td>Purchased AAC audio file</td>\n",
       "    </tr>\n",
       "    <tr>\n",
       "        <td>Jazz</td>\n",
       "        <td>AAC audio file</td>\n",
       "    </tr>\n",
       "    <tr>\n",
       "        <td>Metal</td>\n",
       "        <td>MPEG audio file</td>\n",
       "    </tr>\n",
       "    <tr>\n",
       "        <td>Metal</td>\n",
       "        <td>Protected AAC audio file</td>\n",
       "    </tr>\n",
       "    <tr>\n",
       "        <td>Metal</td>\n",
       "        <td>Protected MPEG-4 video file</td>\n",
       "    </tr>\n",
       "    <tr>\n",
       "        <td>Metal</td>\n",
       "        <td>Purchased AAC audio file</td>\n",
       "    </tr>\n",
       "    <tr>\n",
       "        <td>Metal</td>\n",
       "        <td>AAC audio file</td>\n",
       "    </tr>\n",
       "    <tr>\n",
       "        <td>Alternative &amp; Punk</td>\n",
       "        <td>MPEG audio file</td>\n",
       "    </tr>\n",
       "    <tr>\n",
       "        <td>Alternative &amp; Punk</td>\n",
       "        <td>Protected AAC audio file</td>\n",
       "    </tr>\n",
       "    <tr>\n",
       "        <td>Alternative &amp; Punk</td>\n",
       "        <td>Protected MPEG-4 video file</td>\n",
       "    </tr>\n",
       "    <tr>\n",
       "        <td>Alternative &amp; Punk</td>\n",
       "        <td>Purchased AAC audio file</td>\n",
       "    </tr>\n",
       "    <tr>\n",
       "        <td>Alternative &amp; Punk</td>\n",
       "        <td>AAC audio file</td>\n",
       "    </tr>\n",
       "    <tr>\n",
       "        <td>Rock And Roll</td>\n",
       "        <td>MPEG audio file</td>\n",
       "    </tr>\n",
       "    <tr>\n",
       "        <td>Rock And Roll</td>\n",
       "        <td>Protected AAC audio file</td>\n",
       "    </tr>\n",
       "    <tr>\n",
       "        <td>Rock And Roll</td>\n",
       "        <td>Protected MPEG-4 video file</td>\n",
       "    </tr>\n",
       "    <tr>\n",
       "        <td>Rock And Roll</td>\n",
       "        <td>Purchased AAC audio file</td>\n",
       "    </tr>\n",
       "    <tr>\n",
       "        <td>Rock And Roll</td>\n",
       "        <td>AAC audio file</td>\n",
       "    </tr>\n",
       "    <tr>\n",
       "        <td>Blues</td>\n",
       "        <td>MPEG audio file</td>\n",
       "    </tr>\n",
       "    <tr>\n",
       "        <td>Blues</td>\n",
       "        <td>Protected AAC audio file</td>\n",
       "    </tr>\n",
       "    <tr>\n",
       "        <td>Blues</td>\n",
       "        <td>Protected MPEG-4 video file</td>\n",
       "    </tr>\n",
       "    <tr>\n",
       "        <td>Blues</td>\n",
       "        <td>Purchased AAC audio file</td>\n",
       "    </tr>\n",
       "    <tr>\n",
       "        <td>Blues</td>\n",
       "        <td>AAC audio file</td>\n",
       "    </tr>\n",
       "</table>"
      ],
      "text/plain": [
       "[('Rock', 'MPEG audio file'),\n",
       " ('Rock', 'Protected AAC audio file'),\n",
       " ('Rock', 'Protected MPEG-4 video file'),\n",
       " ('Rock', 'Purchased AAC audio file'),\n",
       " ('Rock', 'AAC audio file'),\n",
       " ('Jazz', 'MPEG audio file'),\n",
       " ('Jazz', 'Protected AAC audio file'),\n",
       " ('Jazz', 'Protected MPEG-4 video file'),\n",
       " ('Jazz', 'Purchased AAC audio file'),\n",
       " ('Jazz', 'AAC audio file'),\n",
       " ('Metal', 'MPEG audio file'),\n",
       " ('Metal', 'Protected AAC audio file'),\n",
       " ('Metal', 'Protected MPEG-4 video file'),\n",
       " ('Metal', 'Purchased AAC audio file'),\n",
       " ('Metal', 'AAC audio file'),\n",
       " ('Alternative & Punk', 'MPEG audio file'),\n",
       " ('Alternative & Punk', 'Protected AAC audio file'),\n",
       " ('Alternative & Punk', 'Protected MPEG-4 video file'),\n",
       " ('Alternative & Punk', 'Purchased AAC audio file'),\n",
       " ('Alternative & Punk', 'AAC audio file'),\n",
       " ('Rock And Roll', 'MPEG audio file'),\n",
       " ('Rock And Roll', 'Protected AAC audio file'),\n",
       " ('Rock And Roll', 'Protected MPEG-4 video file'),\n",
       " ('Rock And Roll', 'Purchased AAC audio file'),\n",
       " ('Rock And Roll', 'AAC audio file'),\n",
       " ('Blues', 'MPEG audio file'),\n",
       " ('Blues', 'Protected AAC audio file'),\n",
       " ('Blues', 'Protected MPEG-4 video file'),\n",
       " ('Blues', 'Purchased AAC audio file'),\n",
       " ('Blues', 'AAC audio file')]"
      ]
     },
     "execution_count": 17,
     "metadata": {},
     "output_type": "execute_result"
    }
   ],
   "source": [
    "%%sql \n",
    "SELECT \n",
    "    g.Name AS \"Genre\", \n",
    "    m.Name AS \"Media Type\"\n",
    "FROM \n",
    "    Genres AS g\n",
    "CROSS JOIN Media_types AS m\n",
    "LIMIT 30;"
   ]
  },
  {
   "cell_type": "markdown",
   "id": "ed442eb7",
   "metadata": {},
   "source": [
    "---"
   ]
  },
  {
   "cell_type": "markdown",
   "id": "3aeb302a",
   "metadata": {},
   "source": [
    "3. How many customers are assigned to the Sales Agent with the first name 'Jane'?"
   ]
  },
  {
   "cell_type": "code",
   "execution_count": 13,
   "id": "aaea5285",
   "metadata": {},
   "outputs": [
    {
     "name": "stdout",
     "output_type": "stream",
     "text": [
      " * sqlite:///chinook.db\n",
      "Done.\n"
     ]
    },
    {
     "data": {
      "text/html": [
       "<table>\n",
       "    <tr>\n",
       "        <th>FirstName</th>\n",
       "        <th>NumberOfCustomers</th>\n",
       "    </tr>\n",
       "    <tr>\n",
       "        <td>Jane</td>\n",
       "        <td>21</td>\n",
       "    </tr>\n",
       "</table>"
      ],
      "text/plain": [
       "[('Jane', 21)]"
      ]
     },
     "execution_count": 13,
     "metadata": {},
     "output_type": "execute_result"
    }
   ],
   "source": [
    "%%sql\n",
    "SELECT \n",
    "    e.FirstName, \n",
    "    COUNT(c.SupportRepId) AS NumberOfCustomers\n",
    "FROM \n",
    "    Employees e\n",
    "INNER JOIN Customers c\n",
    "    ON c.SupportRepId = e.EmployeeId \n",
    "WHERE e.FirstName = 'Jane';"
   ]
  },
  {
   "cell_type": "markdown",
   "id": "3f8f706e",
   "metadata": {},
   "source": [
    "---"
   ]
  },
  {
   "cell_type": "markdown",
   "id": "98007fcb",
   "metadata": {},
   "source": [
    "4. How many employees did not assist customers when they made their purchase?"
   ]
  },
  {
   "cell_type": "code",
   "execution_count": null,
   "id": "91162949",
   "metadata": {},
   "outputs": [],
   "source": [
    "%%sql\n",
    "SELECT *\n",
    "FROM employees\n",
    "LIMIT 3"
   ]
  },
  {
   "cell_type": "code",
   "execution_count": null,
   "id": "f9109061",
   "metadata": {},
   "outputs": [],
   "source": [
    "%%sql\n",
    "SELECT *\n",
    "FROM customers\n",
    "LIMIT 3"
   ]
  },
  {
   "cell_type": "code",
   "execution_count": 11,
   "id": "a405c70c",
   "metadata": {},
   "outputs": [
    {
     "name": "stdout",
     "output_type": "stream",
     "text": [
      " * sqlite:///chinook.db\n",
      "Done.\n"
     ]
    },
    {
     "data": {
      "text/html": [
       "<table>\n",
       "    <tr>\n",
       "        <th>COUNT(e.FirstName)</th>\n",
       "        <th>CustomerHelped</th>\n",
       "    </tr>\n",
       "    <tr>\n",
       "        <td>5</td>\n",
       "        <td>None</td>\n",
       "    </tr>\n",
       "</table>"
      ],
      "text/plain": [
       "[(5, None)]"
      ]
     },
     "execution_count": 11,
     "metadata": {},
     "output_type": "execute_result"
    }
   ],
   "source": [
    "%%sql\n",
    "SELECT \n",
    "    COUNT(e.FirstName),  \n",
    "    c.SupportRepId AS CustomerHelped\n",
    "FROM \n",
    "    employees AS e\n",
    "LEFT JOIN \n",
    "    customers AS c\n",
    "    ON e.EmployeeId = c.SupportRepId\n",
    "WHERE c.SupportRepId IS NULL"
   ]
  },
  {
   "cell_type": "markdown",
   "id": "dba3fe5a",
   "metadata": {},
   "source": [
    "---"
   ]
  },
  {
   "cell_type": "markdown",
   "id": "2f1863c2",
   "metadata": {},
   "source": [
    "5. Write a query to display the number of invoices associated with each sales agent. Display each agent's **full name** as \"SalesAgentName\", and the number of associated invoices as \"AssociatedInvoice\""
   ]
  },
  {
   "cell_type": "code",
   "execution_count": 8,
   "id": "468227ec",
   "metadata": {},
   "outputs": [
    {
     "name": "stdout",
     "output_type": "stream",
     "text": [
      " * sqlite:///chinook.db\n",
      "Done.\n"
     ]
    },
    {
     "data": {
      "text/html": [
       "<table>\n",
       "    <tr>\n",
       "        <th>SalesAgentName</th>\n",
       "        <th>AssociatedInvoice</th>\n",
       "    </tr>\n",
       "    <tr>\n",
       "        <td>Jane Peacock</td>\n",
       "        <td>146</td>\n",
       "    </tr>\n",
       "    <tr>\n",
       "        <td>Margaret Park</td>\n",
       "        <td>140</td>\n",
       "    </tr>\n",
       "    <tr>\n",
       "        <td>Steve Johnson</td>\n",
       "        <td>126</td>\n",
       "    </tr>\n",
       "</table>"
      ],
      "text/plain": [
       "[('Jane Peacock', 146), ('Margaret Park', 140), ('Steve Johnson', 126)]"
      ]
     },
     "execution_count": 8,
     "metadata": {},
     "output_type": "execute_result"
    }
   ],
   "source": [
    "%%sql\n",
    "SELECT \n",
    "    (e.FirstName || \" \" || e.LastName) AS SalesAgentName, \n",
    "    count(i.InvoiceId) AS AssociatedInvoice\n",
    "FROM \n",
    "    Invoices i \n",
    "JOIN Customers c \n",
    "    ON i.CustomerId = c.CustomerId\n",
    "JOIN Employees e \n",
    "    ON e.EmployeeId = c.SupportRepId\n",
    "GROUP BY e.FirstName || \" \" || e.lastName"
   ]
  },
  {
   "cell_type": "markdown",
   "id": "14a2f9a8",
   "metadata": {},
   "source": [
    "---"
   ]
  },
  {
   "cell_type": "markdown",
   "id": "3386c04b",
   "metadata": {},
   "source": [
    "6. Which Sales Agent made the most in sales overall? (use the agent's first name only). Display the total sales column as \"TotalSales\""
   ]
  },
  {
   "cell_type": "code",
   "execution_count": 9,
   "id": "6d047f6d",
   "metadata": {},
   "outputs": [
    {
     "name": "stdout",
     "output_type": "stream",
     "text": [
      " * sqlite:///chinook.db\n",
      "Done.\n"
     ]
    },
    {
     "data": {
      "text/html": [
       "<table>\n",
       "    <tr>\n",
       "        <th>FirstName</th>\n",
       "        <th>TotalSales</th>\n",
       "    </tr>\n",
       "    <tr>\n",
       "        <td>Jane</td>\n",
       "        <td>833.0400000000013</td>\n",
       "    </tr>\n",
       "    <tr>\n",
       "        <td>Margaret</td>\n",
       "        <td>775.4000000000011</td>\n",
       "    </tr>\n",
       "    <tr>\n",
       "        <td>Steve</td>\n",
       "        <td>720.160000000001</td>\n",
       "    </tr>\n",
       "</table>"
      ],
      "text/plain": [
       "[('Jane', 833.0400000000013),\n",
       " ('Margaret', 775.4000000000011),\n",
       " ('Steve', 720.160000000001)]"
      ]
     },
     "execution_count": 9,
     "metadata": {},
     "output_type": "execute_result"
    }
   ],
   "source": [
    "%%sql\n",
    "SELECT \n",
    "    e.FirstName, \n",
    "    SUM(i.Total) AS TotalSales\n",
    "FROM \n",
    "    Employees e\n",
    "JOIN Customers c \n",
    "    ON e.EmployeeId = c.SupportRepId\n",
    "JOIN Invoices i\n",
    "    ON c.CustomerId = i.CustomerId\n",
    "GROUP BY e.FirstName \n",
    "ORDER BY SUM(i.Total) DESC"
   ]
  },
  {
   "cell_type": "code",
   "execution_count": null,
   "id": "a972c122",
   "metadata": {},
   "outputs": [],
   "source": []
  },
  {
   "cell_type": "code",
   "execution_count": null,
   "id": "21f58d4b",
   "metadata": {},
   "outputs": [],
   "source": []
  }
 ],
 "metadata": {
  "kernelspec": {
   "display_name": "Python 3 (ipykernel)",
   "language": "python",
   "name": "python3"
  },
  "language_info": {
   "codemirror_mode": {
    "name": "ipython",
    "version": 3
   },
   "file_extension": ".py",
   "mimetype": "text/x-python",
   "name": "python",
   "nbconvert_exporter": "python",
   "pygments_lexer": "ipython3",
   "version": "3.9.7"
  }
 },
 "nbformat": 4,
 "nbformat_minor": 5
}
