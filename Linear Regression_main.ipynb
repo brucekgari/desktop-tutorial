{
 "cells": [
  {
   "cell_type": "markdown",
   "id": "a418aa87-db72-4120-87e5-73149030d7a6",
   "metadata": {},
   "source": [
    "# Advanced Regression: Linear Regression"
   ]
  },
  {
   "cell_type": "markdown",
   "id": "da2dfba9-6e0a-4593-9f67-833951e099da",
   "metadata": {},
   "source": [
    "## Objectives:\n",
    "* Explain what Machine Lerning Models (MLM) are used for.\n",
    "* Use the steps you've learnt to train a model.\n",
    "* Compare and Contrast the X and Y properties when training a model.\n",
    "* Differentiate the predicted outputs versus previous/actual outputs."
   ]
  },
  {
   "cell_type": "markdown",
   "id": "b6a7756d-0bb6-48ac-8e56-f7555b18794f",
   "metadata": {},
   "source": [
    "# Table of Contents\n",
    "1. What are Machine Learning Models.\n",
    "2. Introduction to Scikit-Learn\n",
    "3. Dataset: X and Y variables\n",
    "4. Linear Reggression\n",
    "6. Training a Model.\n",
    "7. Line of Best Fit\n",
    "8. Try it Yourself!\n",
    "9. References"
   ]
  },
  {
   "cell_type": "code",
   "execution_count": 1,
   "id": "f1465189-6ba3-4d27-8be8-8780abed4605",
   "metadata": {},
   "outputs": [],
   "source": [
    "import numpy as np\n",
    "import pandas as pd\n",
    "from sklearn.linear_model import LinearRegression"
   ]
  },
  {
   "cell_type": "markdown",
   "id": "4af9219f-d260-448e-b1a9-9123313716bd",
   "metadata": {},
   "source": [
    "## 1. What are Machine Learning Models"
   ]
  },
  {
   "cell_type": "markdown",
   "id": "4ec6f525-0ac9-4d94-90c7-aa7827c5c9f6",
   "metadata": {},
   "source": [
    "A machine learning model is a mathematical representation or algorithm that a machine learning system uses to make predictions, decisions, or classifications based on input data. These models are the core components of machine learning systems and are designed to learn patterns and relationships within data to perform specific tasks. "
   ]
  },
  {
   "cell_type": "markdown",
   "id": "46845055-afbf-4905-a757-d1478b4413d6",
   "metadata": {},
   "source": [
    "![gif](https://i.gifer.com/origin/e7/e76511d36dbdc13fa0e24c39cce97c42_w200.webp)"
   ]
  },
  {
   "cell_type": "markdown",
   "id": "b13e9202-24cf-40d0-a7c1-67e972e22821",
   "metadata": {},
   "source": [
    "---"
   ]
  },
  {
   "cell_type": "markdown",
   "id": "a6c92c2b-a950-4432-be06-087d27e45701",
   "metadata": {},
   "source": [
    "## 2. Introduction to Scikit-Learn "
   ]
  },
  {
   "cell_type": "markdown",
   "id": "813d2e76-2152-4b3d-b6ec-56a62d234e1b",
   "metadata": {},
   "source": [
    "```python\n",
    "pip install -U scikit-learn\n",
    "```"
   ]
  },
  {
   "cell_type": "markdown",
   "id": "fc59f49e-3b31-4a56-abb5-18c5b68009ae",
   "metadata": {},
   "source": [
    "<img src=\"https://upload.wikimedia.org/wikipedia/commons/thumb/0/05/Scikit_learn_logo_small.svg/1200px-Scikit_learn_logo_small.svg.png\" width=\"250\" height=\"600\">"
   ]
  },
  {
   "cell_type": "markdown",
   "id": "1b28b71c-bc25-4b5b-be49-578763efa54f",
   "metadata": {},
   "source": [
    "Scikit-learn is an open source machine learning library that supports supervised and unsupervised learning. It also provides various tools for model fitting, data preprocessing, model selection, model evaluation, and many other utilities.\n",
    "\n"
   ]
  },
  {
   "cell_type": "markdown",
   "id": "8dd5e8cc-0921-4a30-8304-f384beeb1589",
   "metadata": {},
   "source": [
    "* Below is the syntax for the LinearRegression model that will be used later: "
   ]
  },
  {
   "cell_type": "markdown",
   "id": "2676dca6-9b83-493a-8e22-c381a880da7c",
   "metadata": {},
   "source": [
    "```python\n",
    "from sklearn.linear_model import LinearRegression\n",
    "lm = LinearRegression()\n",
    "lm.fit(X, df.Y)\n",
    "```"
   ]
  },
  {
   "cell_type": "code",
   "execution_count": 2,
   "id": "0363e483-e29f-4eaa-82bb-f9840f9c709d",
   "metadata": {},
   "outputs": [
    {
     "data": {
      "text/plain": [
       "\u001b[0;31mInit signature:\u001b[0m\n",
       "\u001b[0mLinearRegression\u001b[0m\u001b[0;34m(\u001b[0m\u001b[0;34m\u001b[0m\n",
       "\u001b[0;34m\u001b[0m    \u001b[0;34m*\u001b[0m\u001b[0;34m,\u001b[0m\u001b[0;34m\u001b[0m\n",
       "\u001b[0;34m\u001b[0m    \u001b[0mfit_intercept\u001b[0m\u001b[0;34m=\u001b[0m\u001b[0;32mTrue\u001b[0m\u001b[0;34m,\u001b[0m\u001b[0;34m\u001b[0m\n",
       "\u001b[0;34m\u001b[0m    \u001b[0mcopy_X\u001b[0m\u001b[0;34m=\u001b[0m\u001b[0;32mTrue\u001b[0m\u001b[0;34m,\u001b[0m\u001b[0;34m\u001b[0m\n",
       "\u001b[0;34m\u001b[0m    \u001b[0mn_jobs\u001b[0m\u001b[0;34m=\u001b[0m\u001b[0;32mNone\u001b[0m\u001b[0;34m,\u001b[0m\u001b[0;34m\u001b[0m\n",
       "\u001b[0;34m\u001b[0m    \u001b[0mpositive\u001b[0m\u001b[0;34m=\u001b[0m\u001b[0;32mFalse\u001b[0m\u001b[0;34m,\u001b[0m\u001b[0;34m\u001b[0m\n",
       "\u001b[0;34m\u001b[0m\u001b[0;34m)\u001b[0m\u001b[0;34m\u001b[0m\u001b[0;34m\u001b[0m\u001b[0m\n",
       "\u001b[0;31mDocstring:\u001b[0m     \n",
       "Ordinary least squares Linear Regression.\n",
       "\n",
       "LinearRegression fits a linear model with coefficients w = (w1, ..., wp)\n",
       "to minimize the residual sum of squares between the observed targets in\n",
       "the dataset, and the targets predicted by the linear approximation.\n",
       "\n",
       "Parameters\n",
       "----------\n",
       "fit_intercept : bool, default=True\n",
       "    Whether to calculate the intercept for this model. If set\n",
       "    to False, no intercept will be used in calculations\n",
       "    (i.e. data is expected to be centered).\n",
       "\n",
       "copy_X : bool, default=True\n",
       "    If True, X will be copied; else, it may be overwritten.\n",
       "\n",
       "n_jobs : int, default=None\n",
       "    The number of jobs to use for the computation. This will only provide\n",
       "    speedup in case of sufficiently large problems, that is if firstly\n",
       "    `n_targets > 1` and secondly `X` is sparse or if `positive` is set\n",
       "    to `True`. ``None`` means 1 unless in a\n",
       "    :obj:`joblib.parallel_backend` context. ``-1`` means using all\n",
       "    processors. See :term:`Glossary <n_jobs>` for more details.\n",
       "\n",
       "positive : bool, default=False\n",
       "    When set to ``True``, forces the coefficients to be positive. This\n",
       "    option is only supported for dense arrays.\n",
       "\n",
       "    .. versionadded:: 0.24\n",
       "\n",
       "Attributes\n",
       "----------\n",
       "coef_ : array of shape (n_features, ) or (n_targets, n_features)\n",
       "    Estimated coefficients for the linear regression problem.\n",
       "    If multiple targets are passed during the fit (y 2D), this\n",
       "    is a 2D array of shape (n_targets, n_features), while if only\n",
       "    one target is passed, this is a 1D array of length n_features.\n",
       "\n",
       "rank_ : int\n",
       "    Rank of matrix `X`. Only available when `X` is dense.\n",
       "\n",
       "singular_ : array of shape (min(X, y),)\n",
       "    Singular values of `X`. Only available when `X` is dense.\n",
       "\n",
       "intercept_ : float or array of shape (n_targets,)\n",
       "    Independent term in the linear model. Set to 0.0 if\n",
       "    `fit_intercept = False`.\n",
       "\n",
       "n_features_in_ : int\n",
       "    Number of features seen during :term:`fit`.\n",
       "\n",
       "    .. versionadded:: 0.24\n",
       "\n",
       "feature_names_in_ : ndarray of shape (`n_features_in_`,)\n",
       "    Names of features seen during :term:`fit`. Defined only when `X`\n",
       "    has feature names that are all strings.\n",
       "\n",
       "    .. versionadded:: 1.0\n",
       "\n",
       "See Also\n",
       "--------\n",
       "Ridge : Ridge regression addresses some of the\n",
       "    problems of Ordinary Least Squares by imposing a penalty on the\n",
       "    size of the coefficients with l2 regularization.\n",
       "Lasso : The Lasso is a linear model that estimates\n",
       "    sparse coefficients with l1 regularization.\n",
       "ElasticNet : Elastic-Net is a linear regression\n",
       "    model trained with both l1 and l2 -norm regularization of the\n",
       "    coefficients.\n",
       "\n",
       "Notes\n",
       "-----\n",
       "From the implementation point of view, this is just plain Ordinary\n",
       "Least Squares (scipy.linalg.lstsq) or Non Negative Least Squares\n",
       "(scipy.optimize.nnls) wrapped as a predictor object.\n",
       "\n",
       "Examples\n",
       "--------\n",
       ">>> import numpy as np\n",
       ">>> from sklearn.linear_model import LinearRegression\n",
       ">>> X = np.array([[1, 1], [1, 2], [2, 2], [2, 3]])\n",
       ">>> # y = 1 * x_0 + 2 * x_1 + 3\n",
       ">>> y = np.dot(X, np.array([1, 2])) + 3\n",
       ">>> reg = LinearRegression().fit(X, y)\n",
       ">>> reg.score(X, y)\n",
       "1.0\n",
       ">>> reg.coef_\n",
       "array([1., 2.])\n",
       ">>> reg.intercept_\n",
       "3.0...\n",
       ">>> reg.predict(np.array([[3, 5]]))\n",
       "array([16.])\n",
       "\u001b[0;31mFile:\u001b[0m           /opt/homebrew/lib/python3.11/site-packages/sklearn/linear_model/_base.py\n",
       "\u001b[0;31mType:\u001b[0m           ABCMeta\n",
       "\u001b[0;31mSubclasses:\u001b[0m     "
      ]
     },
     "metadata": {},
     "output_type": "display_data"
    }
   ],
   "source": [
    "LinearRegression?"
   ]
  },
  {
   "cell_type": "markdown",
   "id": "357263c0-23ae-43c5-98ee-48887377ee15",
   "metadata": {},
   "source": [
    "---"
   ]
  },
  {
   "cell_type": "markdown",
   "id": "46ccc860-393d-4966-a4c8-6a1d193ce39a",
   "metadata": {},
   "source": [
    "## 3.Dataset: X and Y variables"
   ]
  },
  {
   "attachments": {
    "8fdb9f4a-fbde-4fe0-91f2-a0df3562d49f.png": {
     "image/png": "[encoded data removed]"
    }
   },
   "cell_type": "markdown",
   "id": "c2bf324e-fc45-45ad-b1dd-3516c13f4e8c",
   "metadata": {},
   "source": [
    "![Screenshot 2023-10-11 at 16.46.59.png](attachment:8fdb9f4a-fbde-4fe0-91f2-a0df3562d49f.png)"
   ]
  },
  {
   "cell_type": "markdown",
   "id": "bb4e4a02-f522-4ab9-b015-cc14366f11bb",
   "metadata": {},
   "source": [
    "**Univariate Linear Regression**: A statistical analysis method that models the relationship between a single independent variable (predictor) and a continuous dependent variable, aiming to establish a linear equation to predict the dependent variable based on the single predictor.\n",
    "\n",
    "**Multivariate Linear Regression**: Extends linear regression to consider multiple independent variables simultaneously, modeling their collective influence on a continuous dependent variable, making it suitable for scenarios with multiple predictors affecting the outcome."
   ]
  },
  {
   "cell_type": "markdown",
   "id": "91ceb818-71f8-40de-8cfa-669f995801c5",
   "metadata": {},
   "source": [
    "In machine learning, X and Y variables are fundamental components used to represent and solve a wide range of predictive and modeling tasks. They are central to supervised learning, where the goal is to build a model that can make predictions or classifications based on input data."
   ]
  },
  {
   "cell_type": "markdown",
   "id": "eee84ac7-5392-4950-a998-d441acf6d37e",
   "metadata": {},
   "source": [
    "![](https://d20khd7ddkh5ls.cloudfront.net/dependent_independent_variable_function.png)"
   ]
  },
  {
   "cell_type": "markdown",
   "id": "c92a5c7f-6bd4-42ed-932c-b1fdcca21620",
   "metadata": {},
   "source": [
    "* **X (Independent Variable / Features)**: “X” are the variables we will use to predict/classify our “Y” variable.\n",
    "* **Y (Dependent Variable / Target)** : There can be many variables in our “X” set, but there will only be one variable in our “Y” set."
   ]
  },
  {
   "cell_type": "markdown",
   "id": "787cdbee-517f-4286-8c07-e5f93cdcc88c",
   "metadata": {},
   "source": [
    "### In this example we will be using a Multiple Linear Regression!!"
   ]
  },
  {
   "cell_type": "markdown",
   "id": "c5571c12-46ce-49f4-bc0c-b355912f9051",
   "metadata": {},
   "source": [
    "### Iris Dataset"
   ]
  },
  {
   "cell_type": "markdown",
   "id": "7a4d8f15-a94c-4780-8fac-1faa828cbd81",
   "metadata": {},
   "source": [
    "The Iris dataset is a popular dataset in machine learning and is included in the **scikit-learn library**. This dataset consists of 150 samples of iris flowers, each from one of three species: Setosa, Versicolor, and Virginica. Each sample has four features (attributes): sepal length, sepal width, petal length, and petal width, all measured in centimeters. \n",
    "* However for the perpose of this webinar we will be focusing on the four features as our main dataset options."
   ]
  },
  {
   "cell_type": "markdown",
   "id": "af21ce25-f04e-4f3e-b49d-6b0cf816c538",
   "metadata": {},
   "source": [
    "![picture](https://www.embedded-robotics.com/wp-content/uploads/2022/01/Iris-Dataset-Classification.png)"
   ]
  },
  {
   "cell_type": "code",
   "execution_count": 3,
   "id": "a793d5d7-c7b1-4439-a7ef-f31088bf563c",
   "metadata": {},
   "outputs": [],
   "source": [
    "# load the iris dataset\n",
    "from sklearn import datasets\n",
    "iris = datasets.load_iris()"
   ]
  },
  {
   "cell_type": "markdown",
   "id": "e3828d80-2aa9-467f-b789-8b4e2a23210a",
   "metadata": {},
   "source": [
    "### Below, we have a dataset, and our goal is to build a machine-learning model that can produce predictions of the **petal width**."
   ]
  },
  {
   "cell_type": "code",
   "execution_count": 35,
   "id": "6640a77d-a475-46cc-b08d-979299792af3",
   "metadata": {},
   "outputs": [
    {
     "data": {
      "text/html": [
       "<div>\n",
       "<style scoped>\n",
       "    .dataframe tbody tr th:only-of-type {\n",
       "        vertical-align: middle;\n",
       "    }\n",
       "\n",
       "    .dataframe tbody tr th {\n",
       "        vertical-align: top;\n",
       "    }\n",
       "\n",
       "    .dataframe thead th {\n",
       "        text-align: right;\n",
       "    }\n",
       "</style>\n",
       "<table border=\"1\" class=\"dataframe\">\n",
       "  <thead>\n",
       "    <tr style=\"text-align: right;\">\n",
       "      <th></th>\n",
       "      <th>sepal length (cm)</th>\n",
       "      <th>sepal width (cm)</th>\n",
       "      <th>petal length (cm)</th>\n",
       "      <th>petal width (cm)</th>\n",
       "    </tr>\n",
       "  </thead>\n",
       "  <tbody>\n",
       "    <tr>\n",
       "      <th>0</th>\n",
       "      <td>5.1</td>\n",
       "      <td>3.5</td>\n",
       "      <td>1.4</td>\n",
       "      <td>0.2</td>\n",
       "    </tr>\n",
       "    <tr>\n",
       "      <th>1</th>\n",
       "      <td>4.9</td>\n",
       "      <td>3.0</td>\n",
       "      <td>1.4</td>\n",
       "      <td>0.2</td>\n",
       "    </tr>\n",
       "    <tr>\n",
       "      <th>2</th>\n",
       "      <td>4.7</td>\n",
       "      <td>3.2</td>\n",
       "      <td>1.3</td>\n",
       "      <td>0.2</td>\n",
       "    </tr>\n",
       "    <tr>\n",
       "      <th>3</th>\n",
       "      <td>4.6</td>\n",
       "      <td>3.1</td>\n",
       "      <td>1.5</td>\n",
       "      <td>0.2</td>\n",
       "    </tr>\n",
       "    <tr>\n",
       "      <th>4</th>\n",
       "      <td>5.0</td>\n",
       "      <td>3.6</td>\n",
       "      <td>1.4</td>\n",
       "      <td>0.2</td>\n",
       "    </tr>\n",
       "    <tr>\n",
       "      <th>5</th>\n",
       "      <td>5.4</td>\n",
       "      <td>3.9</td>\n",
       "      <td>1.7</td>\n",
       "      <td>0.4</td>\n",
       "    </tr>\n",
       "    <tr>\n",
       "      <th>6</th>\n",
       "      <td>4.6</td>\n",
       "      <td>3.4</td>\n",
       "      <td>1.4</td>\n",
       "      <td>0.3</td>\n",
       "    </tr>\n",
       "    <tr>\n",
       "      <th>7</th>\n",
       "      <td>5.0</td>\n",
       "      <td>3.4</td>\n",
       "      <td>1.5</td>\n",
       "      <td>0.2</td>\n",
       "    </tr>\n",
       "    <tr>\n",
       "      <th>8</th>\n",
       "      <td>4.4</td>\n",
       "      <td>2.9</td>\n",
       "      <td>1.4</td>\n",
       "      <td>0.2</td>\n",
       "    </tr>\n",
       "    <tr>\n",
       "      <th>9</th>\n",
       "      <td>4.9</td>\n",
       "      <td>3.1</td>\n",
       "      <td>1.5</td>\n",
       "      <td>0.1</td>\n",
       "    </tr>\n",
       "  </tbody>\n",
       "</table>\n",
       "</div>"
      ],
      "text/plain": [
       "   sepal length (cm)  sepal width (cm)  petal length (cm)  petal width (cm)\n",
       "0                5.1               3.5                1.4               0.2\n",
       "1                4.9               3.0                1.4               0.2\n",
       "2                4.7               3.2                1.3               0.2\n",
       "3                4.6               3.1                1.5               0.2\n",
       "4                5.0               3.6                1.4               0.2\n",
       "5                5.4               3.9                1.7               0.4\n",
       "6                4.6               3.4                1.4               0.3\n",
       "7                5.0               3.4                1.5               0.2\n",
       "8                4.4               2.9                1.4               0.2\n",
       "9                4.9               3.1                1.5               0.1"
      ]
     },
     "execution_count": 35,
     "metadata": {},
     "output_type": "execute_result"
    }
   ],
   "source": [
    "# Convert the iris dataset into a pandas dataframe\n",
    "iris_df = pd.DataFrame(data = iris.data, columns=iris.feature_names)\n",
    "iris_df.head(10)"
   ]
  },
  {
   "cell_type": "markdown",
   "id": "c0ff1de7-81a5-4e71-b41b-5a30db5d2d17",
   "metadata": {},
   "source": [
    "# For the purpose of this notebook the iris dataset will be split into two seperate datasets."
   ]
  },
  {
   "attachments": {
    "53a10bd4-8d74-42b3-8ae2-d7d9df3ba3f9.png": {
     "image/png": "[encoded data removed]"
    }
   },
   "cell_type": "markdown",
   "id": "6476a5d2-f750-4a45-9fae-873db5c10966",
   "metadata": {},
   "source": [
    "<img src = attachment:53a10bd4-8d74-42b3-8ae2-d7d9df3ba3f9.png width = 650 hight = 650>"
   ]
  },
  {
   "cell_type": "code",
   "execution_count": 5,
   "id": "a30f75fd-fb1c-4455-aa41-c5bb3fef59c0",
   "metadata": {},
   "outputs": [],
   "source": [
    "# Splitting the iris dataset into two tables names 'Training_data' and 'Unseen_data'\n",
    "Training_data = iris_df.iloc[:81:]\n",
    "Unseen_data = iris_df.iloc[81:]"
   ]
  },
  {
   "cell_type": "code",
   "execution_count": 7,
   "id": "299e7490-5391-43e3-9c36-c0413b634ef2",
   "metadata": {
    "scrolled": true
   },
   "outputs": [
    {
     "data": {
      "text/html": [
       "<div>\n",
       "<style scoped>\n",
       "    .dataframe tbody tr th:only-of-type {\n",
       "        vertical-align: middle;\n",
       "    }\n",
       "\n",
       "    .dataframe tbody tr th {\n",
       "        vertical-align: top;\n",
       "    }\n",
       "\n",
       "    .dataframe thead th {\n",
       "        text-align: right;\n",
       "    }\n",
       "</style>\n",
       "<table border=\"1\" class=\"dataframe\">\n",
       "  <thead>\n",
       "    <tr style=\"text-align: right;\">\n",
       "      <th></th>\n",
       "      <th>sepal length (cm)</th>\n",
       "      <th>sepal width (cm)</th>\n",
       "      <th>petal length (cm)</th>\n",
       "      <th>petal width (cm)</th>\n",
       "    </tr>\n",
       "  </thead>\n",
       "  <tbody>\n",
       "    <tr>\n",
       "      <th>0</th>\n",
       "      <td>5.1</td>\n",
       "      <td>3.5</td>\n",
       "      <td>1.4</td>\n",
       "      <td>0.2</td>\n",
       "    </tr>\n",
       "    <tr>\n",
       "      <th>1</th>\n",
       "      <td>4.9</td>\n",
       "      <td>3.0</td>\n",
       "      <td>1.4</td>\n",
       "      <td>0.2</td>\n",
       "    </tr>\n",
       "    <tr>\n",
       "      <th>2</th>\n",
       "      <td>4.7</td>\n",
       "      <td>3.2</td>\n",
       "      <td>1.3</td>\n",
       "      <td>0.2</td>\n",
       "    </tr>\n",
       "    <tr>\n",
       "      <th>3</th>\n",
       "      <td>4.6</td>\n",
       "      <td>3.1</td>\n",
       "      <td>1.5</td>\n",
       "      <td>0.2</td>\n",
       "    </tr>\n",
       "    <tr>\n",
       "      <th>4</th>\n",
       "      <td>5.0</td>\n",
       "      <td>3.6</td>\n",
       "      <td>1.4</td>\n",
       "      <td>0.2</td>\n",
       "    </tr>\n",
       "    <tr>\n",
       "      <th>...</th>\n",
       "      <td>...</td>\n",
       "      <td>...</td>\n",
       "      <td>...</td>\n",
       "      <td>...</td>\n",
       "    </tr>\n",
       "    <tr>\n",
       "      <th>76</th>\n",
       "      <td>6.8</td>\n",
       "      <td>2.8</td>\n",
       "      <td>4.8</td>\n",
       "      <td>1.4</td>\n",
       "    </tr>\n",
       "    <tr>\n",
       "      <th>77</th>\n",
       "      <td>6.7</td>\n",
       "      <td>3.0</td>\n",
       "      <td>5.0</td>\n",
       "      <td>1.7</td>\n",
       "    </tr>\n",
       "    <tr>\n",
       "      <th>78</th>\n",
       "      <td>6.0</td>\n",
       "      <td>2.9</td>\n",
       "      <td>4.5</td>\n",
       "      <td>1.5</td>\n",
       "    </tr>\n",
       "    <tr>\n",
       "      <th>79</th>\n",
       "      <td>5.7</td>\n",
       "      <td>2.6</td>\n",
       "      <td>3.5</td>\n",
       "      <td>1.0</td>\n",
       "    </tr>\n",
       "    <tr>\n",
       "      <th>80</th>\n",
       "      <td>5.5</td>\n",
       "      <td>2.4</td>\n",
       "      <td>3.8</td>\n",
       "      <td>1.1</td>\n",
       "    </tr>\n",
       "  </tbody>\n",
       "</table>\n",
       "<p>81 rows × 4 columns</p>\n",
       "</div>"
      ],
      "text/plain": [
       "    sepal length (cm)  sepal width (cm)  petal length (cm)  petal width (cm)\n",
       "0                 5.1               3.5                1.4               0.2\n",
       "1                 4.9               3.0                1.4               0.2\n",
       "2                 4.7               3.2                1.3               0.2\n",
       "3                 4.6               3.1                1.5               0.2\n",
       "4                 5.0               3.6                1.4               0.2\n",
       "..                ...               ...                ...               ...\n",
       "76                6.8               2.8                4.8               1.4\n",
       "77                6.7               3.0                5.0               1.7\n",
       "78                6.0               2.9                4.5               1.5\n",
       "79                5.7               2.6                3.5               1.0\n",
       "80                5.5               2.4                3.8               1.1\n",
       "\n",
       "[81 rows x 4 columns]"
      ]
     },
     "execution_count": 7,
     "metadata": {},
     "output_type": "execute_result"
    }
   ],
   "source": [
    "# The petal width is avaiable, this is beacuase the first set will be used for training the model.\n",
    "Training_data"
   ]
  },
  {
   "cell_type": "markdown",
   "id": "4d870da5-0ee1-4f06-9e41-34ed87e1c532",
   "metadata": {},
   "source": [
    "### Removing the **\"y\"** variable (petal width) from the second dataset created."
   ]
  },
  {
   "cell_type": "markdown",
   "id": "1ee21621-f4aa-403d-8021-69676c8758c8",
   "metadata": {},
   "source": [
    "Below we now are focusing on the second half or second dataset that was created from the original iris dataset."
   ]
  },
  {
   "cell_type": "code",
   "execution_count": 8,
   "id": "90ebf0e4-8abc-435e-afc2-c97b6e4b85ed",
   "metadata": {},
   "outputs": [
    {
     "data": {
      "text/html": [
       "<div>\n",
       "<style scoped>\n",
       "    .dataframe tbody tr th:only-of-type {\n",
       "        vertical-align: middle;\n",
       "    }\n",
       "\n",
       "    .dataframe tbody tr th {\n",
       "        vertical-align: top;\n",
       "    }\n",
       "\n",
       "    .dataframe thead th {\n",
       "        text-align: right;\n",
       "    }\n",
       "</style>\n",
       "<table border=\"1\" class=\"dataframe\">\n",
       "  <thead>\n",
       "    <tr style=\"text-align: right;\">\n",
       "      <th></th>\n",
       "      <th>sepal length (cm)</th>\n",
       "      <th>sepal width (cm)</th>\n",
       "      <th>petal length (cm)</th>\n",
       "      <th>petal width (cm)</th>\n",
       "    </tr>\n",
       "  </thead>\n",
       "  <tbody>\n",
       "    <tr>\n",
       "      <th>81</th>\n",
       "      <td>5.5</td>\n",
       "      <td>2.4</td>\n",
       "      <td>3.7</td>\n",
       "      <td>1.0</td>\n",
       "    </tr>\n",
       "    <tr>\n",
       "      <th>82</th>\n",
       "      <td>5.8</td>\n",
       "      <td>2.7</td>\n",
       "      <td>3.9</td>\n",
       "      <td>1.2</td>\n",
       "    </tr>\n",
       "    <tr>\n",
       "      <th>83</th>\n",
       "      <td>6.0</td>\n",
       "      <td>2.7</td>\n",
       "      <td>5.1</td>\n",
       "      <td>1.6</td>\n",
       "    </tr>\n",
       "    <tr>\n",
       "      <th>84</th>\n",
       "      <td>5.4</td>\n",
       "      <td>3.0</td>\n",
       "      <td>4.5</td>\n",
       "      <td>1.5</td>\n",
       "    </tr>\n",
       "    <tr>\n",
       "      <th>85</th>\n",
       "      <td>6.0</td>\n",
       "      <td>3.4</td>\n",
       "      <td>4.5</td>\n",
       "      <td>1.6</td>\n",
       "    </tr>\n",
       "    <tr>\n",
       "      <th>...</th>\n",
       "      <td>...</td>\n",
       "      <td>...</td>\n",
       "      <td>...</td>\n",
       "      <td>...</td>\n",
       "    </tr>\n",
       "    <tr>\n",
       "      <th>145</th>\n",
       "      <td>6.7</td>\n",
       "      <td>3.0</td>\n",
       "      <td>5.2</td>\n",
       "      <td>2.3</td>\n",
       "    </tr>\n",
       "    <tr>\n",
       "      <th>146</th>\n",
       "      <td>6.3</td>\n",
       "      <td>2.5</td>\n",
       "      <td>5.0</td>\n",
       "      <td>1.9</td>\n",
       "    </tr>\n",
       "    <tr>\n",
       "      <th>147</th>\n",
       "      <td>6.5</td>\n",
       "      <td>3.0</td>\n",
       "      <td>5.2</td>\n",
       "      <td>2.0</td>\n",
       "    </tr>\n",
       "    <tr>\n",
       "      <th>148</th>\n",
       "      <td>6.2</td>\n",
       "      <td>3.4</td>\n",
       "      <td>5.4</td>\n",
       "      <td>2.3</td>\n",
       "    </tr>\n",
       "    <tr>\n",
       "      <th>149</th>\n",
       "      <td>5.9</td>\n",
       "      <td>3.0</td>\n",
       "      <td>5.1</td>\n",
       "      <td>1.8</td>\n",
       "    </tr>\n",
       "  </tbody>\n",
       "</table>\n",
       "<p>69 rows × 4 columns</p>\n",
       "</div>"
      ],
      "text/plain": [
       "     sepal length (cm)  sepal width (cm)  petal length (cm)  petal width (cm)\n",
       "81                 5.5               2.4                3.7               1.0\n",
       "82                 5.8               2.7                3.9               1.2\n",
       "83                 6.0               2.7                5.1               1.6\n",
       "84                 5.4               3.0                4.5               1.5\n",
       "85                 6.0               3.4                4.5               1.6\n",
       "..                 ...               ...                ...               ...\n",
       "145                6.7               3.0                5.2               2.3\n",
       "146                6.3               2.5                5.0               1.9\n",
       "147                6.5               3.0                5.2               2.0\n",
       "148                6.2               3.4                5.4               2.3\n",
       "149                5.9               3.0                5.1               1.8\n",
       "\n",
       "[69 rows x 4 columns]"
      ]
     },
     "execution_count": 8,
     "metadata": {},
     "output_type": "execute_result"
    }
   ],
   "source": [
    "# Quick look at our second dataset.\n",
    "Unseen_data"
   ]
  },
  {
   "cell_type": "code",
   "execution_count": 9,
   "id": "52749573-7129-4661-81ba-f3b7490bc62c",
   "metadata": {},
   "outputs": [],
   "source": [
    "#Removing the \"petal width (cm)\" column\n",
    "Unseen_data = Unseen_data.drop('petal width (cm)', axis = 1)"
   ]
  },
  {
   "cell_type": "code",
   "execution_count": 10,
   "id": "e5065057-2da8-4614-b5c2-44decbb21be4",
   "metadata": {
    "scrolled": true
   },
   "outputs": [
    {
     "data": {
      "text/html": [
       "<div>\n",
       "<style scoped>\n",
       "    .dataframe tbody tr th:only-of-type {\n",
       "        vertical-align: middle;\n",
       "    }\n",
       "\n",
       "    .dataframe tbody tr th {\n",
       "        vertical-align: top;\n",
       "    }\n",
       "\n",
       "    .dataframe thead th {\n",
       "        text-align: right;\n",
       "    }\n",
       "</style>\n",
       "<table border=\"1\" class=\"dataframe\">\n",
       "  <thead>\n",
       "    <tr style=\"text-align: right;\">\n",
       "      <th></th>\n",
       "      <th>sepal length (cm)</th>\n",
       "      <th>sepal width (cm)</th>\n",
       "      <th>petal length (cm)</th>\n",
       "    </tr>\n",
       "  </thead>\n",
       "  <tbody>\n",
       "    <tr>\n",
       "      <th>81</th>\n",
       "      <td>5.5</td>\n",
       "      <td>2.4</td>\n",
       "      <td>3.7</td>\n",
       "    </tr>\n",
       "    <tr>\n",
       "      <th>82</th>\n",
       "      <td>5.8</td>\n",
       "      <td>2.7</td>\n",
       "      <td>3.9</td>\n",
       "    </tr>\n",
       "    <tr>\n",
       "      <th>83</th>\n",
       "      <td>6.0</td>\n",
       "      <td>2.7</td>\n",
       "      <td>5.1</td>\n",
       "    </tr>\n",
       "    <tr>\n",
       "      <th>84</th>\n",
       "      <td>5.4</td>\n",
       "      <td>3.0</td>\n",
       "      <td>4.5</td>\n",
       "    </tr>\n",
       "    <tr>\n",
       "      <th>85</th>\n",
       "      <td>6.0</td>\n",
       "      <td>3.4</td>\n",
       "      <td>4.5</td>\n",
       "    </tr>\n",
       "    <tr>\n",
       "      <th>...</th>\n",
       "      <td>...</td>\n",
       "      <td>...</td>\n",
       "      <td>...</td>\n",
       "    </tr>\n",
       "    <tr>\n",
       "      <th>145</th>\n",
       "      <td>6.7</td>\n",
       "      <td>3.0</td>\n",
       "      <td>5.2</td>\n",
       "    </tr>\n",
       "    <tr>\n",
       "      <th>146</th>\n",
       "      <td>6.3</td>\n",
       "      <td>2.5</td>\n",
       "      <td>5.0</td>\n",
       "    </tr>\n",
       "    <tr>\n",
       "      <th>147</th>\n",
       "      <td>6.5</td>\n",
       "      <td>3.0</td>\n",
       "      <td>5.2</td>\n",
       "    </tr>\n",
       "    <tr>\n",
       "      <th>148</th>\n",
       "      <td>6.2</td>\n",
       "      <td>3.4</td>\n",
       "      <td>5.4</td>\n",
       "    </tr>\n",
       "    <tr>\n",
       "      <th>149</th>\n",
       "      <td>5.9</td>\n",
       "      <td>3.0</td>\n",
       "      <td>5.1</td>\n",
       "    </tr>\n",
       "  </tbody>\n",
       "</table>\n",
       "<p>69 rows × 3 columns</p>\n",
       "</div>"
      ],
      "text/plain": [
       "     sepal length (cm)  sepal width (cm)  petal length (cm)\n",
       "81                 5.5               2.4                3.7\n",
       "82                 5.8               2.7                3.9\n",
       "83                 6.0               2.7                5.1\n",
       "84                 5.4               3.0                4.5\n",
       "85                 6.0               3.4                4.5\n",
       "..                 ...               ...                ...\n",
       "145                6.7               3.0                5.2\n",
       "146                6.3               2.5                5.0\n",
       "147                6.5               3.0                5.2\n",
       "148                6.2               3.4                5.4\n",
       "149                5.9               3.0                5.1\n",
       "\n",
       "[69 rows x 3 columns]"
      ]
     },
     "execution_count": 10,
     "metadata": {},
     "output_type": "execute_result"
    }
   ],
   "source": [
    "#Lets look at our edited table\n",
    "Unseen_data"
   ]
  },
  {
   "cell_type": "markdown",
   "id": "104b1498-97ed-48cb-8b6e-d325b1dbcf51",
   "metadata": {},
   "source": [
    "---"
   ]
  },
  {
   "cell_type": "markdown",
   "id": "0bbbab65-d2ca-44f1-8dd9-4d7e47aabf98",
   "metadata": {},
   "source": [
    "## Now we will split our Training Data!"
   ]
  },
  {
   "cell_type": "markdown",
   "id": "24b6f152-355e-482d-8c02-6720ee34f713",
   "metadata": {},
   "source": [
    "We will need to split these two up, and we will use the code below to do that."
   ]
  },
  {
   "cell_type": "code",
   "execution_count": 11,
   "id": "deffa147-1d9d-4c69-a795-0480122c87f7",
   "metadata": {},
   "outputs": [],
   "source": [
    "## Spliting into X and y variables for Training_data\n",
    "X1 = Training_data.drop(['petal width (cm)'], axis=1)\n",
    "y1 = Training_data['petal width (cm)']"
   ]
  },
  {
   "cell_type": "markdown",
   "id": "39c8ce4c-6abd-4276-997b-744d5040eb1e",
   "metadata": {},
   "source": [
    "X and y represent the columns from the Training_data dataset\n",
    "\n",
    "\n",
    "```python\n",
    "X1 = sepal length (cm), sepal width (cm), petal length (cm)\n",
    "\n",
    "y1 = petal width (cm)\n",
    "```"
   ]
  },
  {
   "cell_type": "markdown",
   "id": "2ed400d7-eb00-48b0-80a9-a1eb4797ff16",
   "metadata": {},
   "source": [
    "---"
   ]
  },
  {
   "cell_type": "markdown",
   "id": "c6dd518b-abce-4a63-9603-795350320c91",
   "metadata": {},
   "source": [
    "## 4. Linear Regression"
   ]
  },
  {
   "cell_type": "markdown",
   "id": "a68e5f60-6f1a-4918-ab0b-1dc94707012e",
   "metadata": {},
   "source": [
    "Linear regression analysis is used to predict the value of a variable based on the value of another variable. The variable you want to predict is called the dependent variable (y1). The variable you are using to predict the other variable's value is called the independent variable (X1)."
   ]
  },
  {
   "cell_type": "markdown",
   "id": "2bc95633-25ca-43c5-9748-efd87c2fe913",
   "metadata": {},
   "source": [
    "<img src = 'https://substackcdn.com/image/fetch/f_auto,q_auto:good,fl_progressive:steep/https%3A%2F%2Fsubstack-post-media.s3.amazonaws.com%2Fpublic%2Fimages%2F62413fa0-3d80-411c-af93-ebd0f096a26a_1042x644.png' width=500>"
   ]
  },
  {
   "cell_type": "markdown",
   "id": "f1371fab-5347-46a1-9373-6331c27ca0c3",
   "metadata": {},
   "source": [
    "We will now use this data to build our model!"
   ]
  },
  {
   "cell_type": "markdown",
   "id": "c79ed40c-babd-47dd-85fd-ae1f60503d48",
   "metadata": {},
   "source": [
    "---"
   ]
  },
  {
   "cell_type": "markdown",
   "id": "808ba0f1-972b-4651-8ff9-d829a0c76a7e",
   "metadata": {},
   "source": [
    "## 5. Training a Model"
   ]
  },
  {
   "cell_type": "markdown",
   "id": "0679fe84-0a7b-4dce-9ed4-b9d1a125fc2a",
   "metadata": {},
   "source": [
    "In this section we will take a look at the steps needed to train a machine learning model. In this example we have already established that the model in focus is that of a linear Regression model `LinearRegression()`. The idea is for this model to produce estimated y variables trained on previous data that the model has been trained on. "
   ]
  },
  {
   "cell_type": "markdown",
   "id": "b8d75032-8add-4d0a-bdda-210213bbfd9b",
   "metadata": {},
   "source": [
    "Training a machine learning model means **teaching the model to learn patterns, relationships**, or rules from a given dataset. During training, the model adjusts its internal parameters or weights to minimize the difference between its predictions and the actual target values in the training data"
   ]
  },
  {
   "cell_type": "code",
   "execution_count": 36,
   "id": "165bd99b-d899-4a85-ade0-fae6a1ed2357",
   "metadata": {},
   "outputs": [],
   "source": [
    "from sklearn.linear_model import LinearRegression"
   ]
  },
  {
   "cell_type": "code",
   "execution_count": 13,
   "id": "b71a2d39-53f2-41de-83c4-9563ba06247c",
   "metadata": {},
   "outputs": [],
   "source": [
    "#Assign a variable to the model and is needed to instantiate the model!\n",
    "model = LinearRegression()"
   ]
  },
  {
   "cell_type": "code",
   "execution_count": 14,
   "id": "47a5cc12-929f-4b68-8fc3-d5d9609e34d2",
   "metadata": {},
   "outputs": [
    {
     "data": {
      "text/html": [
       "<style>#sk-container-id-1 {color: black;}#sk-container-id-1 pre{padding: 0;}#sk-container-id-1 div.sk-toggleable {background-color: white;}#sk-container-id-1 label.sk-toggleable__label {cursor: pointer;display: block;width: 100%;margin-bottom: 0;padding: 0.3em;box-sizing: border-box;text-align: center;}#sk-container-id-1 label.sk-toggleable__label-arrow:before {content: \"▸\";float: left;margin-right: 0.25em;color: #696969;}#sk-container-id-1 label.sk-toggleable__label-arrow:hover:before {color: black;}#sk-container-id-1 div.sk-estimator:hover label.sk-toggleable__label-arrow:before {color: black;}#sk-container-id-1 div.sk-toggleable__content {max-height: 0;max-width: 0;overflow: hidden;text-align: left;background-color: #f0f8ff;}#sk-container-id-1 div.sk-toggleable__content pre {margin: 0.2em;color: black;border-radius: 0.25em;background-color: #f0f8ff;}#sk-container-id-1 input.sk-toggleable__control:checked~div.sk-toggleable__content {max-height: 200px;max-width: 100%;overflow: auto;}#sk-container-id-1 input.sk-toggleable__control:checked~label.sk-toggleable__label-arrow:before {content: \"▾\";}#sk-container-id-1 div.sk-estimator input.sk-toggleable__control:checked~label.sk-toggleable__label {background-color: #d4ebff;}#sk-container-id-1 div.sk-label input.sk-toggleable__control:checked~label.sk-toggleable__label {background-color: #d4ebff;}#sk-container-id-1 input.sk-hidden--visually {border: 0;clip: rect(1px 1px 1px 1px);clip: rect(1px, 1px, 1px, 1px);height: 1px;margin: -1px;overflow: hidden;padding: 0;position: absolute;width: 1px;}#sk-container-id-1 div.sk-estimator {font-family: monospace;background-color: #f0f8ff;border: 1px dotted black;border-radius: 0.25em;box-sizing: border-box;margin-bottom: 0.5em;}#sk-container-id-1 div.sk-estimator:hover {background-color: #d4ebff;}#sk-container-id-1 div.sk-parallel-item::after {content: \"\";width: 100%;border-bottom: 1px solid gray;flex-grow: 1;}#sk-container-id-1 div.sk-label:hover label.sk-toggleable__label {background-color: #d4ebff;}#sk-container-id-1 div.sk-serial::before {content: \"\";position: absolute;border-left: 1px solid gray;box-sizing: border-box;top: 0;bottom: 0;left: 50%;z-index: 0;}#sk-container-id-1 div.sk-serial {display: flex;flex-direction: column;align-items: center;background-color: white;padding-right: 0.2em;padding-left: 0.2em;position: relative;}#sk-container-id-1 div.sk-item {position: relative;z-index: 1;}#sk-container-id-1 div.sk-parallel {display: flex;align-items: stretch;justify-content: center;background-color: white;position: relative;}#sk-container-id-1 div.sk-item::before, #sk-container-id-1 div.sk-parallel-item::before {content: \"\";position: absolute;border-left: 1px solid gray;box-sizing: border-box;top: 0;bottom: 0;left: 50%;z-index: -1;}#sk-container-id-1 div.sk-parallel-item {display: flex;flex-direction: column;z-index: 1;position: relative;background-color: white;}#sk-container-id-1 div.sk-parallel-item:first-child::after {align-self: flex-end;width: 50%;}#sk-container-id-1 div.sk-parallel-item:last-child::after {align-self: flex-start;width: 50%;}#sk-container-id-1 div.sk-parallel-item:only-child::after {width: 0;}#sk-container-id-1 div.sk-dashed-wrapped {border: 1px dashed gray;margin: 0 0.4em 0.5em 0.4em;box-sizing: border-box;padding-bottom: 0.4em;background-color: white;}#sk-container-id-1 div.sk-label label {font-family: monospace;font-weight: bold;display: inline-block;line-height: 1.2em;}#sk-container-id-1 div.sk-label-container {text-align: center;}#sk-container-id-1 div.sk-container {/* jupyter's `normalize.less` sets `[hidden] { display: none; }` but bootstrap.min.css set `[hidden] { display: none !important; }` so we also need the `!important` here to be able to override the default hidden behavior on the sphinx rendered scikit-learn.org. See: https://github.com/scikit-learn/scikit-learn/issues/21755 */display: inline-block !important;position: relative;}#sk-container-id-1 div.sk-text-repr-fallback {display: none;}</style><div id=\"sk-container-id-1\" class=\"sk-top-container\"><div class=\"sk-text-repr-fallback\"><pre>LinearRegression()</pre><b>In a Jupyter environment, please rerun this cell to show the HTML representation or trust the notebook. <br />On GitHub, the HTML representation is unable to render, please try loading this page with nbviewer.org.</b></div><div class=\"sk-container\" hidden><div class=\"sk-item\"><div class=\"sk-estimator sk-toggleable\"><input class=\"sk-toggleable__control sk-hidden--visually\" id=\"sk-estimator-id-1\" type=\"checkbox\" checked><label for=\"sk-estimator-id-1\" class=\"sk-toggleable__label sk-toggleable__label-arrow\">LinearRegression</label><div class=\"sk-toggleable__content\"><pre>LinearRegression()</pre></div></div></div></div></div>"
      ],
      "text/plain": [
       "LinearRegression()"
      ]
     },
     "execution_count": 14,
     "metadata": {},
     "output_type": "execute_result"
    }
   ],
   "source": [
    "# Now to train/fit with the X and y variables form your first dataset\n",
    "model.fit(X1, y1)"
   ]
  },
  {
   "cell_type": "code",
   "execution_count": 15,
   "id": "2a15eb91-c69e-49bb-b0a0-a21a975cb1b1",
   "metadata": {},
   "outputs": [],
   "source": [
    "# Predict y values on your Training data using .predict()\n",
    "y1_predict = model.predict(X1)"
   ]
  },
  {
   "cell_type": "markdown",
   "id": "1bfcd85b-d0b5-4be2-9c31-7e40f3807b8a",
   "metadata": {},
   "source": [
    "## Before we look at the accuracy for the training data let us predict for the unseen data!"
   ]
  },
  {
   "cell_type": "code",
   "execution_count": 18,
   "id": "2584e54d-4ac0-4e64-9926-5d1c8a5e2ae0",
   "metadata": {},
   "outputs": [],
   "source": [
    "# Predict y values on your unseen data using .predict()\n",
    "y2_predict = model.predict(Unseen_data)"
   ]
  },
  {
   "cell_type": "code",
   "execution_count": 46,
   "id": "1a474886-a9b0-42eb-91c8-5876bde06093",
   "metadata": {},
   "outputs": [],
   "source": [
    "#Add the new predicted target values to the table\n",
    "Unseen_data['predicted petal width (cm)'] = y2_predict.tolist()"
   ]
  },
  {
   "cell_type": "code",
   "execution_count": 47,
   "id": "c5c4fa17-e239-4ef5-9be8-88b64e708797",
   "metadata": {},
   "outputs": [],
   "source": [
    "# rounded the values following original target values whole numbers format\n",
    "Unseen_data = Unseen_data.round(1)"
   ]
  },
  {
   "cell_type": "code",
   "execution_count": 48,
   "id": "fa357e43-c7af-450f-857c-0e40cb611a71",
   "metadata": {},
   "outputs": [
    {
     "data": {
      "text/html": [
       "<div>\n",
       "<style scoped>\n",
       "    .dataframe tbody tr th:only-of-type {\n",
       "        vertical-align: middle;\n",
       "    }\n",
       "\n",
       "    .dataframe tbody tr th {\n",
       "        vertical-align: top;\n",
       "    }\n",
       "\n",
       "    .dataframe thead th {\n",
       "        text-align: right;\n",
       "    }\n",
       "</style>\n",
       "<table border=\"1\" class=\"dataframe\">\n",
       "  <thead>\n",
       "    <tr style=\"text-align: right;\">\n",
       "      <th></th>\n",
       "      <th>sepal length (cm)</th>\n",
       "      <th>sepal width (cm)</th>\n",
       "      <th>petal length (cm)</th>\n",
       "      <th>predicted petal length</th>\n",
       "      <th>predicted petal width (cm)</th>\n",
       "    </tr>\n",
       "  </thead>\n",
       "  <tbody>\n",
       "    <tr>\n",
       "      <th>81</th>\n",
       "      <td>5.5</td>\n",
       "      <td>2.4</td>\n",
       "      <td>3.7</td>\n",
       "      <td>1.1</td>\n",
       "      <td>1.1</td>\n",
       "    </tr>\n",
       "    <tr>\n",
       "      <th>82</th>\n",
       "      <td>5.8</td>\n",
       "      <td>2.7</td>\n",
       "      <td>3.9</td>\n",
       "      <td>1.2</td>\n",
       "      <td>1.2</td>\n",
       "    </tr>\n",
       "    <tr>\n",
       "      <th>83</th>\n",
       "      <td>6.0</td>\n",
       "      <td>2.7</td>\n",
       "      <td>5.1</td>\n",
       "      <td>1.7</td>\n",
       "      <td>1.7</td>\n",
       "    </tr>\n",
       "    <tr>\n",
       "      <th>84</th>\n",
       "      <td>5.4</td>\n",
       "      <td>3.0</td>\n",
       "      <td>4.5</td>\n",
       "      <td>1.5</td>\n",
       "      <td>1.5</td>\n",
       "    </tr>\n",
       "    <tr>\n",
       "      <th>85</th>\n",
       "      <td>6.0</td>\n",
       "      <td>3.4</td>\n",
       "      <td>4.5</td>\n",
       "      <td>1.5</td>\n",
       "      <td>1.5</td>\n",
       "    </tr>\n",
       "    <tr>\n",
       "      <th>...</th>\n",
       "      <td>...</td>\n",
       "      <td>...</td>\n",
       "      <td>...</td>\n",
       "      <td>...</td>\n",
       "      <td>...</td>\n",
       "    </tr>\n",
       "    <tr>\n",
       "      <th>145</th>\n",
       "      <td>6.7</td>\n",
       "      <td>3.0</td>\n",
       "      <td>5.2</td>\n",
       "      <td>1.7</td>\n",
       "      <td>1.7</td>\n",
       "    </tr>\n",
       "    <tr>\n",
       "      <th>146</th>\n",
       "      <td>6.3</td>\n",
       "      <td>2.5</td>\n",
       "      <td>5.0</td>\n",
       "      <td>1.6</td>\n",
       "      <td>1.6</td>\n",
       "    </tr>\n",
       "    <tr>\n",
       "      <th>147</th>\n",
       "      <td>6.5</td>\n",
       "      <td>3.0</td>\n",
       "      <td>5.2</td>\n",
       "      <td>1.7</td>\n",
       "      <td>1.7</td>\n",
       "    </tr>\n",
       "    <tr>\n",
       "      <th>148</th>\n",
       "      <td>6.2</td>\n",
       "      <td>3.4</td>\n",
       "      <td>5.4</td>\n",
       "      <td>1.8</td>\n",
       "      <td>1.8</td>\n",
       "    </tr>\n",
       "    <tr>\n",
       "      <th>149</th>\n",
       "      <td>5.9</td>\n",
       "      <td>3.0</td>\n",
       "      <td>5.1</td>\n",
       "      <td>1.7</td>\n",
       "      <td>1.7</td>\n",
       "    </tr>\n",
       "  </tbody>\n",
       "</table>\n",
       "<p>69 rows × 5 columns</p>\n",
       "</div>"
      ],
      "text/plain": [
       "     sepal length (cm)  sepal width (cm)  petal length (cm)  \\\n",
       "81                 5.5               2.4                3.7   \n",
       "82                 5.8               2.7                3.9   \n",
       "83                 6.0               2.7                5.1   \n",
       "84                 5.4               3.0                4.5   \n",
       "85                 6.0               3.4                4.5   \n",
       "..                 ...               ...                ...   \n",
       "145                6.7               3.0                5.2   \n",
       "146                6.3               2.5                5.0   \n",
       "147                6.5               3.0                5.2   \n",
       "148                6.2               3.4                5.4   \n",
       "149                5.9               3.0                5.1   \n",
       "\n",
       "     predicted petal length  predicted petal width (cm)  \n",
       "81                      1.1                         1.1  \n",
       "82                      1.2                         1.2  \n",
       "83                      1.7                         1.7  \n",
       "84                      1.5                         1.5  \n",
       "85                      1.5                         1.5  \n",
       "..                      ...                         ...  \n",
       "145                     1.7                         1.7  \n",
       "146                     1.6                         1.6  \n",
       "147                     1.7                         1.7  \n",
       "148                     1.8                         1.8  \n",
       "149                     1.7                         1.7  \n",
       "\n",
       "[69 rows x 5 columns]"
      ]
     },
     "execution_count": 48,
     "metadata": {},
     "output_type": "execute_result"
    }
   ],
   "source": [
    "#Lets take a look at what the dataset looks like\n",
    "Unseen_data"
   ]
  },
  {
   "cell_type": "markdown",
   "id": "7830fbbf-30c4-4164-804a-ca20054c17d8",
   "metadata": {},
   "source": [
    "## However, how do you know how well your model is performing? ..."
   ]
  },
  {
   "cell_type": "markdown",
   "id": "0f59c5e7-15e7-4717-8dda-a113d61e73ec",
   "metadata": {},
   "source": [
    "![gif](https://media3.giphy.com/media/lKXEBR8m1jWso/giphy.gif?cid=ecf05e47fdu0e1lg0siwiujwbyzf8yo2fa0jcj4eur2v2yfl&ep=v1_gifs_search&rid=giphy.gif&ct=g)"
   ]
  },
  {
   "cell_type": "markdown",
   "id": "d21cfb74-202e-466b-a0bb-65227aa89f56",
   "metadata": {},
   "source": [
    "---"
   ]
  },
  {
   "cell_type": "markdown",
   "id": "16dac260-8eaf-4bcc-908b-c92cc96ffd9f",
   "metadata": {},
   "source": [
    "## 6.Line of Best Fit: RSS and MSE"
   ]
  },
  {
   "cell_type": "markdown",
   "id": "3d040b5e-2ad2-4981-a336-026c34fd199b",
   "metadata": {},
   "source": [
    "### Understanding the Line of Best Fit\n",
    "The line of best fit estimates a straight line that minimizes the distance between itself and where observations fall in some data set. The line of best fit is used to show a trend or correlation between the dependent variable and independent variable(s). It can be depicted visually, or as a mathematical expression."
   ]
  },
  {
   "attachments": {},
   "cell_type": "markdown",
   "id": "27369232-a187-4668-8599-175c9695554b",
   "metadata": {},
   "source": [
    "### The Residual Sum of Squares (RSS)\n",
    "The residual sum of squares (RSS) measures the level of variance in the error term, or residuals, of a regression model. \n",
    "The smaller the residual sum of squares, the better your model fits your data; the greater the residual sum of squares, the poorer your model fits your data.\n",
    "\n",
    "We can measure the overall error of the fit by calculating the Residual Sum of Squares:"
   ]
  },
  {
   "cell_type": "markdown",
   "id": "b8baec1f-96f8-4d87-9df1-36e58ef8104d",
   "metadata": {},
   "source": [
    "$$RSS = \\sum_{i=1}^n(y_i-\\hat{y}_i)^2$$ "
   ]
  },
  {
   "cell_type": "markdown",
   "id": "a07fa441-1779-4158-b3d9-e2f88050fefc",
   "metadata": {},
   "source": [
    "![picture](https://www.wallstreetmojo.com/wp-content/uploads/2022/05/Residual-sum-of-squares.jpg)"
   ]
  },
  {
   "cell_type": "code",
   "execution_count": 37,
   "id": "13766b43-193a-4088-b831-71687481e7f2",
   "metadata": {},
   "outputs": [
    {
     "name": "stdout",
     "output_type": "stream",
     "text": [
      "Residual sum of squares on training data: 1.0635248409048648\n"
     ]
    }
   ],
   "source": [
    "print(\"Residual sum of squares on training data:\", ((y1_predict - y1) ** 2).sum())"
   ]
  },
  {
   "cell_type": "code",
   "execution_count": 38,
   "id": "7ea727c5-c9f8-495a-83d5-e32eb9ff5822",
   "metadata": {},
   "outputs": [
    {
     "name": "stdout",
     "output_type": "stream",
     "text": [
      "Residual sum of squares on unseen data: 5.6517998477192855\n"
     ]
    }
   ],
   "source": [
    "print(\"Residual sum of squares on unseen data:\", ((y2_predict - iris_df['petal width (cm)'].iloc[81:]) ** 2).sum())"
   ]
  },
  {
   "cell_type": "markdown",
   "id": "737579f3-d138-466d-bb44-9bfb7975afc7",
   "metadata": {},
   "source": [
    "### Mean Squared Error"
   ]
  },
  {
   "cell_type": "markdown",
   "id": "c06d6395-8510-4e3f-aa11-b57abd9cc51c",
   "metadata": {},
   "source": [
    "What Is Mean Squared Error?\n",
    "\n",
    "The Mean Squared Error measures how close a regression line is to a set of data points. It is a risk function corresponding to the expected value of the squared error loss. Mean square error is calculated by taking the average, specifically the mean, of errors squared from data as it relates to a function. "
   ]
  },
  {
   "cell_type": "markdown",
   "id": "8bd23ff6-95a8-40e2-90ca-ccea356e850a",
   "metadata": {},
   "source": [
    "**Mean Squared Error:**\n",
    "$$MSE = \\frac{RSS}{n}$$   \n",
    "$$MSE = \\frac{1}{n}\\sum_{i=1}^n(y_i-\\hat{y}_i)^2$$"
   ]
  },
  {
   "cell_type": "code",
   "execution_count": 39,
   "id": "6ef876c2-271b-4fad-8eb0-4f4b231a9e23",
   "metadata": {},
   "outputs": [
    {
     "name": "stdout",
     "output_type": "stream",
     "text": [
      "Mean Squared Error on training data: 0.013129936307467466\n"
     ]
    }
   ],
   "source": [
    "print(\"Mean Squared Error on training data:\", (((y1_predict - y1) ** 2).sum())/len(X1))"
   ]
  },
  {
   "cell_type": "code",
   "execution_count": 40,
   "id": "9a8e3eb6-0b83-4619-9878-4297f9af7b9e",
   "metadata": {},
   "outputs": [
    {
     "name": "stdout",
     "output_type": "stream",
     "text": [
      "Mean Squared Error on Unseen_data: 0.08191014272056936\n"
     ]
    }
   ],
   "source": [
    "print(\"Mean Squared Error on Unseen_data:\", (((y2_predict - iris_df['petal width (cm)'].iloc[81:]) ** 2).sum())/len(iris_df['petal width (cm)'].iloc[81:]))"
   ]
  },
  {
   "cell_type": "markdown",
   "id": "7b4ac5ce-fd54-4bd7-afbb-32d172a8b3de",
   "metadata": {},
   "source": [
    "### However you can simply use Scikit-Learn for MSE"
   ]
  },
  {
   "cell_type": "code",
   "execution_count": 41,
   "id": "798d673b-1077-4a85-9e66-6fb928181c2a",
   "metadata": {},
   "outputs": [],
   "source": [
    "from sklearn import metrics"
   ]
  },
  {
   "cell_type": "code",
   "execution_count": 42,
   "id": "04657ded-c243-42e9-816d-5dc2fab0e3fb",
   "metadata": {},
   "outputs": [
    {
     "name": "stdout",
     "output_type": "stream",
     "text": [
      "MSE on training data: 0.013129936307467466\n"
     ]
    }
   ],
   "source": [
    "print('MSE on training data:', metrics.mean_squared_error(y1_predict, y1))"
   ]
  },
  {
   "cell_type": "code",
   "execution_count": 43,
   "id": "1adb7e74-ce7c-4071-afad-b4800ff31e5e",
   "metadata": {},
   "outputs": [
    {
     "name": "stdout",
     "output_type": "stream",
     "text": [
      "MSE on unseen data: 0.08191014272056936\n"
     ]
    }
   ],
   "source": [
    "print('MSE on unseen data:', metrics.mean_squared_error(y2_predict, iris_df['petal width (cm)'].iloc[81:]))"
   ]
  },
  {
   "cell_type": "markdown",
   "id": "15c87229-8913-415e-b05f-cef7867e98f5",
   "metadata": {},
   "source": [
    "---"
   ]
  },
  {
   "cell_type": "markdown",
   "id": "1ed8332c-122e-4e10-a4b5-a0f6920e67d2",
   "metadata": {},
   "source": [
    "## 7. Try it Yourself!"
   ]
  },
  {
   "cell_type": "markdown",
   "id": "7fd78fcf-a9c7-4a74-a14c-e820174982e0",
   "metadata": {},
   "source": [
    "### Diabetes Dataset from Scikit-learn"
   ]
  },
  {
   "cell_type": "markdown",
   "id": "40d8cbf2-64cc-4058-b1ca-87289600aec3",
   "metadata": {},
   "source": [
    "<img src = https://res.cloudinary.com/practicaldev/image/fetch/s--V9CxdVAm--/c_imagga_scale,f_auto,fl_progressive,h_900,q_auto,w_1600/https://dev-to-uploads.s3.amazonaws.com/uploads/articles/w8y1pf9mdhafhmimlk6s.jpeg width = 650 height = 650>"
   ]
  },
  {
   "cell_type": "markdown",
   "id": "53dcc0e6-7009-45a5-9801-d13ab7b9794e",
   "metadata": {},
   "source": [
    "The diabetes dataset from scikit-learn is a widely used dataset for regression tasks. It contains ten baseline variables, including **age**, **sex**, **BMI**, **average blood pressure**, and **six blood serum measurements** for **442 diabetes patients**. "
   ]
  },
  {
   "cell_type": "markdown",
   "id": "a3a7405e-4d8c-4b2d-a06d-4b9f20eac6ab",
   "metadata": {},
   "source": [
    "### 1. Load in dataset"
   ]
  },
  {
   "cell_type": "code",
   "execution_count": 33,
   "id": "46dcd59d-2497-44be-9cae-12642d890e76",
   "metadata": {},
   "outputs": [],
   "source": [
    "# load the diabetes dataset\n",
    "from sklearn import datasets\n",
    "diabetes = datasets.load_diabetes()"
   ]
  },
  {
   "cell_type": "code",
   "execution_count": 34,
   "id": "2afb169c-98ea-445a-aaf7-819586365215",
   "metadata": {},
   "outputs": [
    {
     "data": {
      "text/html": [
       "<div>\n",
       "<style scoped>\n",
       "    .dataframe tbody tr th:only-of-type {\n",
       "        vertical-align: middle;\n",
       "    }\n",
       "\n",
       "    .dataframe tbody tr th {\n",
       "        vertical-align: top;\n",
       "    }\n",
       "\n",
       "    .dataframe thead th {\n",
       "        text-align: right;\n",
       "    }\n",
       "</style>\n",
       "<table border=\"1\" class=\"dataframe\">\n",
       "  <thead>\n",
       "    <tr style=\"text-align: right;\">\n",
       "      <th></th>\n",
       "      <th>age</th>\n",
       "      <th>sex</th>\n",
       "      <th>bmi</th>\n",
       "      <th>bp</th>\n",
       "      <th>s1</th>\n",
       "      <th>s2</th>\n",
       "      <th>s3</th>\n",
       "      <th>s4</th>\n",
       "      <th>s5</th>\n",
       "      <th>s6</th>\n",
       "    </tr>\n",
       "  </thead>\n",
       "  <tbody>\n",
       "    <tr>\n",
       "      <th>0</th>\n",
       "      <td>0.038076</td>\n",
       "      <td>0.050680</td>\n",
       "      <td>0.061696</td>\n",
       "      <td>0.021872</td>\n",
       "      <td>-0.044223</td>\n",
       "      <td>-0.034821</td>\n",
       "      <td>-0.043401</td>\n",
       "      <td>-0.002592</td>\n",
       "      <td>0.019907</td>\n",
       "      <td>-0.017646</td>\n",
       "    </tr>\n",
       "    <tr>\n",
       "      <th>1</th>\n",
       "      <td>-0.001882</td>\n",
       "      <td>-0.044642</td>\n",
       "      <td>-0.051474</td>\n",
       "      <td>-0.026328</td>\n",
       "      <td>-0.008449</td>\n",
       "      <td>-0.019163</td>\n",
       "      <td>0.074412</td>\n",
       "      <td>-0.039493</td>\n",
       "      <td>-0.068332</td>\n",
       "      <td>-0.092204</td>\n",
       "    </tr>\n",
       "    <tr>\n",
       "      <th>2</th>\n",
       "      <td>0.085299</td>\n",
       "      <td>0.050680</td>\n",
       "      <td>0.044451</td>\n",
       "      <td>-0.005670</td>\n",
       "      <td>-0.045599</td>\n",
       "      <td>-0.034194</td>\n",
       "      <td>-0.032356</td>\n",
       "      <td>-0.002592</td>\n",
       "      <td>0.002861</td>\n",
       "      <td>-0.025930</td>\n",
       "    </tr>\n",
       "    <tr>\n",
       "      <th>3</th>\n",
       "      <td>-0.089063</td>\n",
       "      <td>-0.044642</td>\n",
       "      <td>-0.011595</td>\n",
       "      <td>-0.036656</td>\n",
       "      <td>0.012191</td>\n",
       "      <td>0.024991</td>\n",
       "      <td>-0.036038</td>\n",
       "      <td>0.034309</td>\n",
       "      <td>0.022688</td>\n",
       "      <td>-0.009362</td>\n",
       "    </tr>\n",
       "    <tr>\n",
       "      <th>4</th>\n",
       "      <td>0.005383</td>\n",
       "      <td>-0.044642</td>\n",
       "      <td>-0.036385</td>\n",
       "      <td>0.021872</td>\n",
       "      <td>0.003935</td>\n",
       "      <td>0.015596</td>\n",
       "      <td>0.008142</td>\n",
       "      <td>-0.002592</td>\n",
       "      <td>-0.031988</td>\n",
       "      <td>-0.046641</td>\n",
       "    </tr>\n",
       "    <tr>\n",
       "      <th>5</th>\n",
       "      <td>-0.092695</td>\n",
       "      <td>-0.044642</td>\n",
       "      <td>-0.040696</td>\n",
       "      <td>-0.019442</td>\n",
       "      <td>-0.068991</td>\n",
       "      <td>-0.079288</td>\n",
       "      <td>0.041277</td>\n",
       "      <td>-0.076395</td>\n",
       "      <td>-0.041176</td>\n",
       "      <td>-0.096346</td>\n",
       "    </tr>\n",
       "    <tr>\n",
       "      <th>6</th>\n",
       "      <td>-0.045472</td>\n",
       "      <td>0.050680</td>\n",
       "      <td>-0.047163</td>\n",
       "      <td>-0.015999</td>\n",
       "      <td>-0.040096</td>\n",
       "      <td>-0.024800</td>\n",
       "      <td>0.000779</td>\n",
       "      <td>-0.039493</td>\n",
       "      <td>-0.062917</td>\n",
       "      <td>-0.038357</td>\n",
       "    </tr>\n",
       "    <tr>\n",
       "      <th>7</th>\n",
       "      <td>0.063504</td>\n",
       "      <td>0.050680</td>\n",
       "      <td>-0.001895</td>\n",
       "      <td>0.066629</td>\n",
       "      <td>0.090620</td>\n",
       "      <td>0.108914</td>\n",
       "      <td>0.022869</td>\n",
       "      <td>0.017703</td>\n",
       "      <td>-0.035816</td>\n",
       "      <td>0.003064</td>\n",
       "    </tr>\n",
       "    <tr>\n",
       "      <th>8</th>\n",
       "      <td>0.041708</td>\n",
       "      <td>0.050680</td>\n",
       "      <td>0.061696</td>\n",
       "      <td>-0.040099</td>\n",
       "      <td>-0.013953</td>\n",
       "      <td>0.006202</td>\n",
       "      <td>-0.028674</td>\n",
       "      <td>-0.002592</td>\n",
       "      <td>-0.014960</td>\n",
       "      <td>0.011349</td>\n",
       "    </tr>\n",
       "    <tr>\n",
       "      <th>9</th>\n",
       "      <td>-0.070900</td>\n",
       "      <td>-0.044642</td>\n",
       "      <td>0.039062</td>\n",
       "      <td>-0.033213</td>\n",
       "      <td>-0.012577</td>\n",
       "      <td>-0.034508</td>\n",
       "      <td>-0.024993</td>\n",
       "      <td>-0.002592</td>\n",
       "      <td>0.067737</td>\n",
       "      <td>-0.013504</td>\n",
       "    </tr>\n",
       "  </tbody>\n",
       "</table>\n",
       "</div>"
      ],
      "text/plain": [
       "        age       sex       bmi        bp        s1        s2        s3  \\\n",
       "0  0.038076  0.050680  0.061696  0.021872 -0.044223 -0.034821 -0.043401   \n",
       "1 -0.001882 -0.044642 -0.051474 -0.026328 -0.008449 -0.019163  0.074412   \n",
       "2  0.085299  0.050680  0.044451 -0.005670 -0.045599 -0.034194 -0.032356   \n",
       "3 -0.089063 -0.044642 -0.011595 -0.036656  0.012191  0.024991 -0.036038   \n",
       "4  0.005383 -0.044642 -0.036385  0.021872  0.003935  0.015596  0.008142   \n",
       "5 -0.092695 -0.044642 -0.040696 -0.019442 -0.068991 -0.079288  0.041277   \n",
       "6 -0.045472  0.050680 -0.047163 -0.015999 -0.040096 -0.024800  0.000779   \n",
       "7  0.063504  0.050680 -0.001895  0.066629  0.090620  0.108914  0.022869   \n",
       "8  0.041708  0.050680  0.061696 -0.040099 -0.013953  0.006202 -0.028674   \n",
       "9 -0.070900 -0.044642  0.039062 -0.033213 -0.012577 -0.034508 -0.024993   \n",
       "\n",
       "         s4        s5        s6  \n",
       "0 -0.002592  0.019907 -0.017646  \n",
       "1 -0.039493 -0.068332 -0.092204  \n",
       "2 -0.002592  0.002861 -0.025930  \n",
       "3  0.034309  0.022688 -0.009362  \n",
       "4 -0.002592 -0.031988 -0.046641  \n",
       "5 -0.076395 -0.041176 -0.096346  \n",
       "6 -0.039493 -0.062917 -0.038357  \n",
       "7  0.017703 -0.035816  0.003064  \n",
       "8 -0.002592 -0.014960  0.011349  \n",
       "9 -0.002592  0.067737 -0.013504  "
      ]
     },
     "execution_count": 34,
     "metadata": {},
     "output_type": "execute_result"
    }
   ],
   "source": [
    "# Convert the iris dataset into a pandas dataframe\n",
    "import pandas as pd\n",
    "diabetes_df = pd.DataFrame(diabetes.data, columns= diabetes.feature_names)\n",
    "diabetes_df.head(10)"
   ]
  },
  {
   "cell_type": "markdown",
   "id": "3524253d-be4c-4711-ae24-083653960c88",
   "metadata": {},
   "source": [
    "### 2. Split into training and unseen data"
   ]
  },
  {
   "cell_type": "code",
   "execution_count": null,
   "id": "f704bdfe-97c3-4e8f-bb98-c95c2797fd7c",
   "metadata": {},
   "outputs": [],
   "source": [
    "# Splitting the diabetes dataset into two tables names 'Training_data' and 'Unseen_data'"
   ]
  },
  {
   "cell_type": "markdown",
   "id": "de9271cf-65a9-4b3f-b32c-a19864a8af15",
   "metadata": {},
   "source": [
    "### 3. Remove y variable from unseen data"
   ]
  },
  {
   "cell_type": "code",
   "execution_count": null,
   "id": "1f21f003-c507-4c3e-a110-a4d24f264613",
   "metadata": {},
   "outputs": [],
   "source": [
    "#Removing the \"bp\" from Unseen_data column (Make as target)"
   ]
  },
  {
   "cell_type": "markdown",
   "id": "b47f06ab-bbd3-4248-bd4d-30b9197ec201",
   "metadata": {},
   "source": [
    "### 4. Split training data into X and y variables"
   ]
  },
  {
   "cell_type": "code",
   "execution_count": null,
   "id": "0b6eea13-7c3e-4742-af5b-afa95485b9ee",
   "metadata": {},
   "outputs": [],
   "source": [
    "# Spliting into X and y variables for Training_data"
   ]
  },
  {
   "cell_type": "markdown",
   "id": "a5f1ad3d-d7d1-40eb-8432-9df71f9a5820",
   "metadata": {},
   "source": [
    "### 5. Instantiate model"
   ]
  },
  {
   "cell_type": "code",
   "execution_count": null,
   "id": "cb39ebd7-f213-4342-a6de-854e8402ddec",
   "metadata": {},
   "outputs": [],
   "source": [
    "#Training a Model\n",
    "from sklearn.linear_model import LinearRegression"
   ]
  },
  {
   "cell_type": "markdown",
   "id": "c50848d6-f2a4-48f4-864b-941c304d2ece",
   "metadata": {},
   "source": [
    "### 6. Train model using the .fit() method using your X and y variables from training data."
   ]
  },
  {
   "cell_type": "code",
   "execution_count": null,
   "id": "f3fb7b3e-807a-46e7-802f-b72c3e09339e",
   "metadata": {},
   "outputs": [],
   "source": [
    "#model.fit()"
   ]
  },
  {
   "cell_type": "markdown",
   "id": "0fc05ba8-1064-4949-811b-0e04942c3371",
   "metadata": {},
   "source": [
    "### 7. Predict y values on your training data using .predict()"
   ]
  },
  {
   "cell_type": "code",
   "execution_count": null,
   "id": "d3c51450-48b5-401b-884f-78288c20a527",
   "metadata": {},
   "outputs": [],
   "source": [
    "# Create predictions for the first dataset with a y value/target value\n",
    "y1_predict = model.predict(...)"
   ]
  },
  {
   "cell_type": "markdown",
   "id": "d868a066-3cf2-4976-83af-b528f86ba894",
   "metadata": {},
   "source": [
    "### 8. Predict y values on your unseen data using .predict()"
   ]
  },
  {
   "cell_type": "code",
   "execution_count": null,
   "id": "b397d7d9-d16c-45f3-b234-388b8680d273",
   "metadata": {},
   "outputs": [],
   "source": [
    "# Create predictions for the second dataset without a y value/target value\n",
    "y2_predict = model.predict(...)"
   ]
  },
  {
   "cell_type": "markdown",
   "id": "cdf93292-67c6-45f6-906f-c665dca9fe75",
   "metadata": {},
   "source": [
    "### 9. Assess your predictions with metrics (e.g. RSS and MSE)"
   ]
  },
  {
   "cell_type": "code",
   "execution_count": null,
   "id": "586d1fd5-744d-444d-b638-5d2a24673578",
   "metadata": {},
   "outputs": [],
   "source": [
    "#print('MSE on training data:', metrics.mean_squared_error(...))"
   ]
  },
  {
   "cell_type": "code",
   "execution_count": null,
   "id": "76b0306e-381b-42fe-91ae-f33ab31b2b4f",
   "metadata": {},
   "outputs": [],
   "source": [
    "#print('MSE on unseen data:', metrics.mean_squared_error(...))"
   ]
  },
  {
   "cell_type": "code",
   "execution_count": null,
   "id": "7f519bef-f3b3-4862-9af4-e898c17860d9",
   "metadata": {},
   "outputs": [],
   "source": [
    "# from sklearn import metrics"
   ]
  },
  {
   "cell_type": "markdown",
   "id": "b5d1aaa8-1334-4718-80b0-ecd942e43572",
   "metadata": {},
   "source": [
    "---"
   ]
  },
  {
   "cell_type": "markdown",
   "id": "55b5e970-3401-4e81-ba36-2800f713ad98",
   "metadata": {},
   "source": [
    "## 8. References"
   ]
  },
  {
   "cell_type": "markdown",
   "id": "a4e148cc-ec90-438b-b540-24e517d9fd04",
   "metadata": {},
   "source": [
    "**Machine Learning**: https://www.ibm.com/topics/machine-learning"
   ]
  },
  {
   "cell_type": "markdown",
   "id": "ab41c83c-10cc-495a-ab8f-928ee3341d34",
   "metadata": {},
   "source": [
    "**Scikit-Learn**: https://scikit-learn.org/stable/install.html"
   ]
  },
  {
   "cell_type": "markdown",
   "id": "72801f86-1370-41b7-bb09-f0bbbeb5c3ea",
   "metadata": {},
   "source": [
    "**Training a Model**: https://domino.ai/blog/what-is-machine-learning-model-training"
   ]
  },
  {
   "cell_type": "markdown",
   "id": "ebcf5b3d-6425-4b55-b323-a89e1fa55554",
   "metadata": {},
   "source": [
    "**Linear Regression model from the  scikit-learn Library**: https://scikit-learn.org/stable/modules/generated/sklearn.linear_model.LinearRegression.html"
   ]
  },
  {
   "cell_type": "markdown",
   "id": "4d6cdfb5-1ee1-4f13-afac-2fee02b1a847",
   "metadata": {},
   "source": [
    "## Objectives:\n",
    "* Explain what Machine Lerning Models (MLM) are used for.\n",
    "* Use the steps you've learnt to train a model.\n",
    "* Compare and Contrast the X and Y properties when training a model.\n",
    "* Differentiate the predicted outputs versus previous/actual outputs."
   ]
  }
 ],
 "metadata": {
  "kernelspec": {
   "display_name": "Python 3 (ipykernel)",
   "language": "python",
   "name": "python3"
  },
  "language_info": {
   "codemirror_mode": {
    "name": "ipython",
    "version": 3
   },
   "file_extension": ".py",
   "mimetype": "text/x-python",
   "name": "python",
   "nbconvert_exporter": "python",
   "pygments_lexer": "ipython3",
   "version": "3.11.5"
  }
 },
 "nbformat": 4,
 "nbformat_minor": 5
}
