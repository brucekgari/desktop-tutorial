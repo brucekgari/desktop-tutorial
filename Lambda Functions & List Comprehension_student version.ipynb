{
 "cells": [
  {
   "cell_type": "markdown",
   "id": "0227f348",
   "metadata": {},
   "source": [
    "# Lambda functions and List comprehension"
   ]
  },
  {
   "cell_type": "markdown",
   "id": "c1c5bc21",
   "metadata": {},
   "source": [
    "In this webinar, we'll be looking at lambda functions and list comprehensions. We'll take a quick look into\n",
    "\n",
    "- What are they?\n",
    "- How do they compare to other methods?\n",
    "- Examples of use\n",
    "- Pros + cons of use"
   ]
  },
  {
   "cell_type": "markdown",
   "id": "a07b578b",
   "metadata": {},
   "source": [
    "## What are Lambda Functions?\n",
    "\n",
    "Lambda functions, sometimes called `Lambda expressions`, are small, `anonymous functions` that can be expressed in a single line.\n",
    "\n",
    "Lambda functions are defined using:\n",
    "\n",
    "* The `lambda` keyword\n",
    "* The function expression\n",
    "* The function arguments\n",
    "\n",
    "![](https://miro.medium.com/v2/resize:fit:1400/format:webp/1*QXqq-wElxkqjBZ_e-HI2kw.png)"
   ]
  },
  {
   "cell_type": "code",
   "execution_count": null,
   "id": "7c342d74",
   "metadata": {},
   "outputs": [],
   "source": [
    "# Let's have a look at defining a very simple function computing 2x^2 + 8\n",
    "# Let's use the regular function defintion method, and then create the same with a lambda"
   ]
  },
  {
   "cell_type": "code",
   "execution_count": null,
   "id": "1ab82957",
   "metadata": {},
   "outputs": [],
   "source": [
    "# Using the def keyword\n",
    "\n",
    "def f(x):\n"
   ]
  },
  {
   "cell_type": "code",
   "execution_count": null,
   "id": "d5744ae7",
   "metadata": {},
   "outputs": [],
   "source": [
    "f(1)"
   ]
  },
  {
   "cell_type": "code",
   "execution_count": null,
   "id": "eaa7133a",
   "metadata": {},
   "outputs": [],
   "source": [
    "# Now let's try it using a lambda function\n"
   ]
  },
  {
   "cell_type": "code",
   "execution_count": null,
   "id": "4aa628cd",
   "metadata": {},
   "outputs": [],
   "source": [
    "g(1)"
   ]
  },
  {
   "cell_type": "markdown",
   "id": "b3dda59c",
   "metadata": {},
   "source": [
    "#### Using multiple arguments in a lambda function\n",
    "\n",
    "Much like traditional functions, we can include multiple arguments in our lambda functions"
   ]
  },
  {
   "cell_type": "code",
   "execution_count": null,
   "id": "a4dd4e50",
   "metadata": {},
   "outputs": [],
   "source": [
    "# Let's use x and y as our arguments to start\n",
    "\n"
   ]
  },
  {
   "cell_type": "code",
   "execution_count": null,
   "id": "26f9b364",
   "metadata": {},
   "outputs": [],
   "source": [
    "# It doesn't always have to be numbers\n",
    "# Let's put together some names, in upper case:\n",
    "\n"
   ]
  },
  {
   "cell_type": "markdown",
   "id": "06f01828",
   "metadata": {},
   "source": [
    "#### Using lambda functions within other functions\n",
    "\n",
    "We can also use lambda functions within our traditionally defined functions to carry out some of the steps within the function"
   ]
  },
  {
   "cell_type": "code",
   "execution_count": null,
   "id": "4a6b6772",
   "metadata": {},
   "outputs": [],
   "source": [
    "# Let's include it in a traditional function\n",
    "\n",
    "def "
   ]
  },
  {
   "cell_type": "code",
   "execution_count": null,
   "id": "51896101",
   "metadata": {},
   "outputs": [],
   "source": [
    "# They can even be used within built-in functions\n",
    "\n",
    "my_dict = {'apple': 5, 'banana': 2, 'orange': 9, 'grape': 1}\n",
    "sorted_dict = dict(sorted(my_dict.items(), key=lambda x: x[0]))\n",
    "\n",
    "print(sorted_dict)"
   ]
  },
  {
   "cell_type": "markdown",
   "id": "1ee14b67",
   "metadata": {},
   "source": [
    "#### Mapping\n",
    "We can apply our lambda function to every element in an iterable sequence by using the in-built map function provided by Python."
   ]
  },
  {
   "cell_type": "code",
   "execution_count": null,
   "id": "944dc460",
   "metadata": {},
   "outputs": [],
   "source": [
    "nums = [1, 2, 3, 4, 5]\n"
   ]
  },
  {
   "cell_type": "markdown",
   "id": "6d626a21",
   "metadata": {},
   "source": [
    "#### Filtering\n",
    "\n",
    "The filter function is used to select particular elements (i.e. meeting some condition) from a sequence of elements."
   ]
  },
  {
   "cell_type": "code",
   "execution_count": null,
   "id": "3ec98099",
   "metadata": {},
   "outputs": [],
   "source": [
    "nums = [10,2,8,7,5,4,3,11,0,1]\n",
    "\n",
    "# Filter takes an argument/function and an iteratable/sequence\n",
    "# in this case, the lambda acts as the filtering argument \n",
    "filtered_result = filter(...)"
   ]
  },
  {
   "cell_type": "markdown",
   "id": "de8e6650",
   "metadata": {},
   "source": [
    "### So why use Lambda functions?\n",
    "\n",
    "#### Pros\n",
    "* Simple and quick one-line functions\n",
    "* Can help improve readability of code at times\n",
    "* Can be used within function definitions\n",
    "\n",
    "\n",
    "#### Cons\n",
    "* We can't include docstrings with our lambda functions\n",
    "* Can only evaluate one short expression\n",
    "* Not useful when we need to construct more complicated functions"
   ]
  },
  {
   "cell_type": "markdown",
   "id": "b24c9b5c",
   "metadata": {},
   "source": [
    "## What are List Comprehensions?\n",
    "\n",
    "### A quick reminder of Python Lists\n",
    "\n",
    "![](https://pynative.com/wp-content/uploads/2021/03/python-list.jpg)\n",
    "\n",
    "\n",
    "### Back to List Comprehensions...\n",
    "\n",
    "Python's list comprehensions are the equivalent of set builder notation, where a set is constructed using an expression describing what it should contain. For example, the expression:\n",
    "\n",
    "## $$\\{x^{2} \\mid x \\in  \\mathbb{Z} , 0\\leq x< 5 \\},$$\n",
    " \n",
    "refers to \"the squares of the set of all integers  𝑥\n",
    "  , such that  𝑥\n",
    "  is greater than or equal to 0 and less then 5\""
   ]
  },
  {
   "cell_type": "markdown",
   "id": "341053e2",
   "metadata": {},
   "source": [
    "List comprehensions are always returned as a list. The general syntax is as follows:\n",
    "\n",
    "[ **return computation on this item** for **item** in **list** if item satisfies **condition** ]"
   ]
  },
  {
   "cell_type": "markdown",
   "id": "30ab0e36",
   "metadata": {},
   "source": [
    "![](https://www.freecodecamp.org/news/content/images/size/w2000/2021/07/list-comprehension-1.png)"
   ]
  },
  {
   "cell_type": "code",
   "execution_count": null,
   "id": "2d44603c",
   "metadata": {},
   "outputs": [],
   "source": [
    "# Let's look at an example using a for loop\n",
    "\n",
    "squares = []\n",
    "for ..."
   ]
  },
  {
   "cell_type": "code",
   "execution_count": null,
   "id": "57869b09",
   "metadata": {},
   "outputs": [],
   "source": [
    "# Let's try the same with a list comprehesion\n",
    "\n",
    "squares2 = [...]"
   ]
  },
  {
   "cell_type": "markdown",
   "id": "67d09d83",
   "metadata": {},
   "source": [
    "#### Using conditions in a list comprehension\n",
    "\n",
    "Let's say we have a list of items stocked in an (admittedly small) store. It stocks: \n",
    "* Apples\n",
    "* Avocadoes\n",
    "* Coffee\n",
    "* Bananas\n",
    "* Salt\n",
    "* Pepper\n",
    "* Sugar\n",
    "* Candles\n",
    "* Chocolate"
   ]
  },
  {
   "cell_type": "code",
   "execution_count": null,
   "id": "c049e4b4",
   "metadata": {},
   "outputs": [],
   "source": [
    "# Let's make a list of our stock\n",
    "\n",
    "stock = ['apple', 'avocado', 'coffee', 'banana', 'salt', 'pepper', 'sugar', \n",
    "         'candle', 'chocolate']\n",
    "\n",
    "stock"
   ]
  },
  {
   "cell_type": "code",
   "execution_count": null,
   "id": "5a72c41a",
   "metadata": {},
   "outputs": [],
   "source": [
    "# Now, let's use a condition to find all the items we stock that begin with the letter 'c'\n",
    "# Using a for loop:\n",
    "\n",
    "stock_c = []\n",
    "for ..."
   ]
  },
  {
   "cell_type": "code",
   "execution_count": null,
   "id": "b307a926",
   "metadata": {},
   "outputs": [],
   "source": [
    "# Now let's try the same, using a list comprehension\n",
    "\n",
    "stock_c = [...]"
   ]
  },
  {
   "cell_type": "code",
   "execution_count": null,
   "id": "a879fdfa",
   "metadata": {},
   "outputs": [],
   "source": [
    "# Let's make it a little more complex\n",
    "# Each element in our list is now a tuple, of the item name and the number of that item in stock\n",
    "\n",
    "stock = [('apple', 34), ('avocado', 12), ('coffee', 42), ('banana', 23), ('salt', 8),\n",
    "         ('pepper', 14), ('sugar', 23), ('candle', 5), ('chocolate', 73)]\n",
    "\n",
    "stock"
   ]
  },
  {
   "cell_type": "code",
   "execution_count": null,
   "id": "37e55974",
   "metadata": {},
   "outputs": [],
   "source": [
    "# Let's find out which of our items we have more of 25 of in stock\n",
    "\n",
    "stock_25 = "
   ]
  },
  {
   "cell_type": "markdown",
   "id": "8e576ffa",
   "metadata": {},
   "source": [
    "#### If-else statements in list comprehensions\n",
    "\n",
    "We can make use of if-else statements within our condition section of the list comprehension. Note that the if-else statement in the example below comes before the 'for' statement!"
   ]
  },
  {
   "cell_type": "code",
   "execution_count": null,
   "id": "ce910020",
   "metadata": {},
   "outputs": [],
   "source": [
    "my_string = ...\n",
    "vowels = ...\n",
    "labels = [...]\n",
    "print(labels)"
   ]
  },
  {
   "cell_type": "markdown",
   "id": "2ff7f8c5",
   "metadata": {},
   "source": [
    "### So why use list comprehensions?\n",
    "\n",
    "#### Pros\n",
    "* List comprehensions are short - they can be written in one line of code, whereas for-loops require more\n",
    "* List comprehensions are computationally faster. Using the `append( )` or `remove( )` methods multiple times can slow your code down. \n",
    "\n",
    "#### Cons\n",
    "* They can be hard to implement in more complicated situations\n",
    "* This can also make them harder to read and understand than for-loops when it comes to more complex functionality"
   ]
  },
  {
   "cell_type": "code",
   "execution_count": null,
   "id": "d31f112e",
   "metadata": {},
   "outputs": [],
   "source": []
  }
 ],
 "metadata": {
  "kernelspec": {
   "display_name": "Python 3 (ipykernel)",
   "language": "python",
   "name": "python3"
  },
  "language_info": {
   "codemirror_mode": {
    "name": "ipython",
    "version": 3
   },
   "file_extension": ".py",
   "mimetype": "text/x-python",
   "name": "python",
   "nbconvert_exporter": "python",
   "pygments_lexer": "ipython3",
   "version": "3.9.7"
  }
 },
 "nbformat": 4,
 "nbformat_minor": 5
}
