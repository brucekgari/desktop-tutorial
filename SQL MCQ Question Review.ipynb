{
 "cells": [
  {
   "cell_type": "markdown",
   "id": "f04275ff",
   "metadata": {},
   "source": [
    "# Review: Most challenging MCQ questions!\n",
    "\n",
    "\n",
    "Approaching SQL questions:\n",
    "\n",
    "**Start with the holistic picture**\n",
    "- Understand the database set up\n",
    "- Understand relationships between tables and look for links\n",
    "- Brief view of the tables (`SELECT * FROM table LIMIT 5;`)\n",
    "\n",
    "**Then answer the questions**\n",
    "- Read the question\n",
    "- Break the question down into the tables and columns needed\n",
    "- Attack it bit-by-bit"
   ]
  },
  {
   "cell_type": "code",
   "execution_count": 1,
   "id": "a6c21931",
   "metadata": {},
   "outputs": [],
   "source": [
    "%load_ext sql"
   ]
  },
  {
   "cell_type": "markdown",
   "id": "74bc29bd",
   "metadata": {},
   "source": [
    "## Set Theory MCQ"
   ]
  },
  {
   "cell_type": "code",
   "execution_count": 2,
   "id": "15f29cc7",
   "metadata": {},
   "outputs": [],
   "source": [
    "%%sql\n",
    "\n",
    "sqlite:///classlist.db"
   ]
  },
  {
   "cell_type": "code",
   "execution_count": 3,
   "id": "f9f690bf",
   "metadata": {},
   "outputs": [
    {
     "name": "stdout",
     "output_type": "stream",
     "text": [
      " * sqlite:///classlist.db\n",
      "Done.\n"
     ]
    },
    {
     "data": {
      "text/html": [
       "<table>\n",
       "    <tr>\n",
       "        <th>StudentNo</th>\n",
       "        <th>Surname</th>\n",
       "        <th>Name</th>\n",
       "        <th>Gender</th>\n",
       "        <th>DateOfBirth</th>\n",
       "        <th>Maths</th>\n",
       "        <th>Science</th>\n",
       "        <th>Biology</th>\n",
       "        <th>Accounting</th>\n",
       "        <th>CompSci</th>\n",
       "    </tr>\n",
       "    <tr>\n",
       "        <td>ANDHAR002</td>\n",
       "        <td>ANDERSEN</td>\n",
       "        <td>HAROLD</td>\n",
       "        <td>MALE</td>\n",
       "        <td>26011998.0</td>\n",
       "        <td>48</td>\n",
       "        <td>94</td>\n",
       "        <td>79</td>\n",
       "        <td>100</td>\n",
       "        <td>92</td>\n",
       "    </tr>\n",
       "    <tr>\n",
       "        <td>BARSUZ008</td>\n",
       "        <td>BARGER</td>\n",
       "        <td>SUZANNE</td>\n",
       "        <td>FEMALE</td>\n",
       "        <td>14081998.0</td>\n",
       "        <td>79</td>\n",
       "        <td>36</td>\n",
       "        <td>40</td>\n",
       "        <td>40</td>\n",
       "        <td>83</td>\n",
       "    </tr>\n",
       "    <tr>\n",
       "        <td>BECNAT003</td>\n",
       "        <td>BECKER</td>\n",
       "        <td>NATHANIEL</td>\n",
       "        <td>MALE</td>\n",
       "        <td>7021998.0</td>\n",
       "        <td>45</td>\n",
       "        <td>95</td>\n",
       "        <td>41</td>\n",
       "        <td>99</td>\n",
       "        <td>86</td>\n",
       "    </tr>\n",
       "    <tr>\n",
       "        <td>BLABRU006</td>\n",
       "        <td>BLAKE</td>\n",
       "        <td>BRUCE</td>\n",
       "        <td>MALE</td>\n",
       "        <td>14021998.0</td>\n",
       "        <td>44</td>\n",
       "        <td>90</td>\n",
       "        <td>61</td>\n",
       "        <td>58</td>\n",
       "        <td>41</td>\n",
       "    </tr>\n",
       "    <tr>\n",
       "        <td>BLADEL005</td>\n",
       "        <td>BLAND</td>\n",
       "        <td>DELORES</td>\n",
       "        <td>FEMALE</td>\n",
       "        <td>15121998.0</td>\n",
       "        <td>83</td>\n",
       "        <td>90</td>\n",
       "        <td>46</td>\n",
       "        <td>58</td>\n",
       "        <td>76</td>\n",
       "    </tr>\n",
       "</table>"
      ],
      "text/plain": [
       "[('ANDHAR002', 'ANDERSEN', 'HAROLD', 'MALE', 26011998.0, 48, 94, 79, 100, 92),\n",
       " ('BARSUZ008', 'BARGER', 'SUZANNE', 'FEMALE', 14081998.0, 79, 36, 40, 40, 83),\n",
       " ('BECNAT003', 'BECKER', 'NATHANIEL', 'MALE', 7021998.0, 45, 95, 41, 99, 86),\n",
       " ('BLABRU006', 'BLAKE', 'BRUCE', 'MALE', 14021998.0, 44, 90, 61, 58, 41),\n",
       " ('BLADEL005', 'BLAND', 'DELORES', 'FEMALE', 15121998.0, 83, 90, 46, 58, 76)]"
      ]
     },
     "execution_count": 3,
     "metadata": {},
     "output_type": "execute_result"
    }
   ],
   "source": [
    "%%sql\n",
    "SELECT * \n",
    "FROM exammarks\n",
    "ORDER BY Surname\n",
    "LIMIT 5\n"
   ]
  },
  {
   "cell_type": "code",
   "execution_count": 4,
   "id": "3baf5ea5",
   "metadata": {},
   "outputs": [
    {
     "name": "stdout",
     "output_type": "stream",
     "text": [
      " * sqlite:///classlist.db\n",
      "Done.\n"
     ]
    },
    {
     "data": {
      "text/html": [
       "<table>\n",
       "    <tr>\n",
       "        <th>StudentNo</th>\n",
       "        <th>Surname</th>\n",
       "        <th>Name</th>\n",
       "        <th>Gender</th>\n",
       "        <th>DateOfBirth</th>\n",
       "        <th>Maths</th>\n",
       "        <th>Science</th>\n",
       "        <th>Biology</th>\n",
       "        <th>Accounting</th>\n",
       "        <th>CompSci</th>\n",
       "    </tr>\n",
       "    <tr>\n",
       "        <td>ABRKEN007</td>\n",
       "        <td>ABRAMS</td>\n",
       "        <td>KENT</td>\n",
       "        <td>MALE</td>\n",
       "        <td>28021998.0</td>\n",
       "        <td>81</td>\n",
       "        <td>94</td>\n",
       "        <td>75</td>\n",
       "        <td>70</td>\n",
       "        <td>81</td>\n",
       "    </tr>\n",
       "    <tr>\n",
       "        <td>ANDHAR002</td>\n",
       "        <td>ANDERSEN</td>\n",
       "        <td>HAROLD</td>\n",
       "        <td>MALE</td>\n",
       "        <td>26011998.0</td>\n",
       "        <td>100</td>\n",
       "        <td>None</td>\n",
       "        <td>None</td>\n",
       "        <td>None</td>\n",
       "        <td>None</td>\n",
       "    </tr>\n",
       "    <tr>\n",
       "        <td>BARSUZ008</td>\n",
       "        <td>BARGER</td>\n",
       "        <td>SUZANNE</td>\n",
       "        <td>FEMALE</td>\n",
       "        <td>14081998.0</td>\n",
       "        <td>None</td>\n",
       "        <td>79</td>\n",
       "        <td>89</td>\n",
       "        <td>89</td>\n",
       "        <td>None</td>\n",
       "    </tr>\n",
       "    <tr>\n",
       "        <td>BECNAT003</td>\n",
       "        <td>BECKER</td>\n",
       "        <td>NATHANIEL</td>\n",
       "        <td>MALE</td>\n",
       "        <td>7021998.0</td>\n",
       "        <td>80</td>\n",
       "        <td>None</td>\n",
       "        <td>75</td>\n",
       "        <td>None</td>\n",
       "        <td>None</td>\n",
       "    </tr>\n",
       "    <tr>\n",
       "        <td>BLABRU006</td>\n",
       "        <td>BLAKE</td>\n",
       "        <td>BRUCE</td>\n",
       "        <td>MALE</td>\n",
       "        <td>14021998.0</td>\n",
       "        <td>90</td>\n",
       "        <td>None</td>\n",
       "        <td>None</td>\n",
       "        <td>None</td>\n",
       "        <td>72</td>\n",
       "    </tr>\n",
       "</table>"
      ],
      "text/plain": [
       "[('ABRKEN007', 'ABRAMS', 'KENT', 'MALE', 28021998.0, 81, 94, 75, 70, 81),\n",
       " ('ANDHAR002', 'ANDERSEN', 'HAROLD', 'MALE', 26011998.0, 100, None, None, None, None),\n",
       " ('BARSUZ008', 'BARGER', 'SUZANNE', 'FEMALE', 14081998.0, None, 79, 89, 89, None),\n",
       " ('BECNAT003', 'BECKER', 'NATHANIEL', 'MALE', 7021998.0, 80, None, 75, None, None),\n",
       " ('BLABRU006', 'BLAKE', 'BRUCE', 'MALE', 14021998.0, 90, None, None, None, 72)]"
      ]
     },
     "execution_count": 4,
     "metadata": {},
     "output_type": "execute_result"
    }
   ],
   "source": [
    "%%sql\n",
    "SELECT * \n",
    "FROM supplementarymarks\n",
    "ORDER BY Surname\n",
    "LIMIT 5"
   ]
  },
  {
   "cell_type": "markdown",
   "id": "2afc859e",
   "metadata": {},
   "source": [
    "### **Question 2**\n",
    "\n",
    "How many students did not write any of their final exams?\n",
    "\n",
    "**Options:** \n",
    " - **5**\n",
    " - 95\n",
    " - 70\n",
    " - 25"
   ]
  },
  {
   "cell_type": "markdown",
   "id": "11038cde",
   "metadata": {},
   "source": [
    "![](data:image/png;base64,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)"
   ]
  },
  {
   "cell_type": "markdown",
   "id": "1fb97c8c",
   "metadata": {},
   "source": [
    "**Solution**"
   ]
  },
  {
   "cell_type": "code",
   "execution_count": 5,
   "id": "3727ff26",
   "metadata": {},
   "outputs": [
    {
     "name": "stdout",
     "output_type": "stream",
     "text": [
      " * sqlite:///classlist.db\n",
      "Done.\n"
     ]
    },
    {
     "data": {
      "text/html": [
       "<table>\n",
       "    <tr>\n",
       "        <th>COUNT(*)</th>\n",
       "    </tr>\n",
       "    <tr>\n",
       "        <td>5</td>\n",
       "    </tr>\n",
       "</table>"
      ],
      "text/plain": [
       "[(5,)]"
      ]
     },
     "execution_count": 5,
     "metadata": {},
     "output_type": "execute_result"
    }
   ],
   "source": [
    "%%sql\n",
    "\n",
    "SELECT COUNT(*)\n",
    "FROM (\n",
    "    SELECT s.StudentNo\n",
    "    FROM Supplementarymarks s\n",
    "    EXCEPT\n",
    "    SELECT e.StudentNo \n",
    "    FROM Exammarks e)"
   ]
  },
  {
   "cell_type": "code",
   "execution_count": 6,
   "id": "95dcc80e",
   "metadata": {},
   "outputs": [
    {
     "name": "stdout",
     "output_type": "stream",
     "text": [
      " * sqlite:///classlist.db\n",
      "Done.\n"
     ]
    },
    {
     "data": {
      "text/html": [
       "<table>\n",
       "    <tr>\n",
       "        <th>COUNT(sm.StudentNo) - COUNT(em.StudentNo)</th>\n",
       "    </tr>\n",
       "    <tr>\n",
       "        <td>5</td>\n",
       "    </tr>\n",
       "</table>"
      ],
      "text/plain": [
       "[(5,)]"
      ]
     },
     "execution_count": 6,
     "metadata": {},
     "output_type": "execute_result"
    }
   ],
   "source": [
    "%%sql \n",
    "\n",
    "SELECT COUNT(sm.StudentNo) - COUNT(em.StudentNo)\n",
    "FROM Supplementarymarks sm \n",
    "LEFT JOIN exammarks em\n",
    "    ON sm.StudentNo = em.StudentNo"
   ]
  },
  {
   "cell_type": "code",
   "execution_count": 7,
   "id": "792333ce",
   "metadata": {},
   "outputs": [
    {
     "name": "stdout",
     "output_type": "stream",
     "text": [
      " * sqlite:///classlist.db\n",
      "Done.\n"
     ]
    },
    {
     "data": {
      "text/html": [
       "<table>\n",
       "    <tr>\n",
       "        <th>COUNT(s.StudentNo)</th>\n",
       "    </tr>\n",
       "    <tr>\n",
       "        <td>5</td>\n",
       "    </tr>\n",
       "</table>"
      ],
      "text/plain": [
       "[(5,)]"
      ]
     },
     "execution_count": 7,
     "metadata": {},
     "output_type": "execute_result"
    }
   ],
   "source": [
    "%%sql\n",
    "\n",
    "SELECT COUNT(s.StudentNo)\n",
    "FROM Supplementarymarks s\n",
    "WHERE s.StudentNo NOT IN (SELECT e.StudentNo FROM Exammarks e)"
   ]
  },
  {
   "cell_type": "markdown",
   "id": "f3dbe57d",
   "metadata": {},
   "source": [
    "### **Question 5**\n",
    "\n",
    "How many students had to re-write their Maths and science exam? (hint: a passing mark is considered to be 50 or greater.)\n",
    "\n",
    "**Options:**\n",
    " - 12\n",
    " - **4**\n",
    " - 20\n",
    " - 9"
   ]
  },
  {
   "cell_type": "markdown",
   "id": "6044aac6",
   "metadata": {},
   "source": [
    "**Solution**"
   ]
  },
  {
   "cell_type": "code",
   "execution_count": 8,
   "id": "5bf2a982",
   "metadata": {},
   "outputs": [
    {
     "name": "stdout",
     "output_type": "stream",
     "text": [
      " * sqlite:///classlist.db\n",
      "Done.\n"
     ]
    },
    {
     "data": {
      "text/html": [
       "<table>\n",
       "    <tr>\n",
       "        <th>COUNT(StudentNo)</th>\n",
       "    </tr>\n",
       "    <tr>\n",
       "        <td>4</td>\n",
       "    </tr>\n",
       "</table>"
      ],
      "text/plain": [
       "[(4,)]"
      ]
     },
     "execution_count": 8,
     "metadata": {},
     "output_type": "execute_result"
    }
   ],
   "source": [
    "%%sql \n",
    "\n",
    "SELECT COUNT(StudentNo) FROM ExamMarks\n",
    "WHERE Maths < 50 AND Science < 50"
   ]
  },
  {
   "cell_type": "markdown",
   "id": "fd1ce5a3",
   "metadata": {},
   "source": [
    "### **Question 6**\n",
    "\n",
    "What was the average mark, rounded down, for students who wrote the supplementary accounting exam after missing the first?\n",
    "\n",
    "**Options:**\n",
    " - 73\n",
    " - 79\n",
    " - **76**\n",
    " - 82\n",
    " \n",
    "Important things to note here:\n",
    "- wrote the supp = they will be in the supplementaryexams table\n",
    "- after **missing** the first = they will either have NULL in the Accounting column in Exammarks, or won't be in the Exammarks table at all (missed all final exams)\n",
    "- Let's see how many actually missed the first:"
   ]
  },
  {
   "cell_type": "markdown",
   "id": "a306e5f2",
   "metadata": {},
   "source": [
    "**Solution**"
   ]
  },
  {
   "cell_type": "code",
   "execution_count": 9,
   "id": "c8f00260",
   "metadata": {},
   "outputs": [
    {
     "name": "stdout",
     "output_type": "stream",
     "text": [
      " * sqlite:///classlist.db\n",
      "Done.\n"
     ]
    },
    {
     "data": {
      "text/html": [
       "<table>\n",
       "    <tr>\n",
       "        <th>StudentNo</th>\n",
       "        <th>Surname</th>\n",
       "        <th>Name</th>\n",
       "        <th>Gender</th>\n",
       "        <th>DateOfBirth</th>\n",
       "        <th>Maths</th>\n",
       "        <th>Science</th>\n",
       "        <th>Biology</th>\n",
       "        <th>Accounting</th>\n",
       "        <th>CompSci</th>\n",
       "    </tr>\n",
       "</table>"
      ],
      "text/plain": [
       "[]"
      ]
     },
     "execution_count": 9,
     "metadata": {},
     "output_type": "execute_result"
    }
   ],
   "source": [
    "%%sql\n",
    "--How many actually missed the first accounting exam?\n",
    "SELECT * \n",
    "FROM exammarks em\n",
    "WHERE em.accounting IS NULL"
   ]
  },
  {
   "cell_type": "code",
   "execution_count": 10,
   "id": "4966ff90",
   "metadata": {},
   "outputs": [
    {
     "name": "stdout",
     "output_type": "stream",
     "text": [
      " * sqlite:///classlist.db\n",
      "Done.\n"
     ]
    },
    {
     "data": {
      "text/html": [
       "<table>\n",
       "    <tr>\n",
       "        <th>round(avg(sm.accounting))</th>\n",
       "    </tr>\n",
       "    <tr>\n",
       "        <td>76.0</td>\n",
       "    </tr>\n",
       "</table>"
      ],
      "text/plain": [
       "[(76.0,)]"
      ]
     },
     "execution_count": 10,
     "metadata": {},
     "output_type": "execute_result"
    }
   ],
   "source": [
    "%%sql\n",
    "SELECT round(avg(sm.accounting)) from supplementarymarks sm\n",
    "left outer join exammarks em on sm.studentno = em.studentno\n",
    "where em.accounting is null\n",
    "limit 5"
   ]
  },
  {
   "cell_type": "code",
   "execution_count": 11,
   "id": "c4169231",
   "metadata": {},
   "outputs": [
    {
     "name": "stdout",
     "output_type": "stream",
     "text": [
      " * sqlite:///classlist.db\n",
      "Done.\n"
     ]
    },
    {
     "data": {
      "text/html": [
       "<table>\n",
       "    <tr>\n",
       "        <th>Average Accounting Mark</th>\n",
       "    </tr>\n",
       "    <tr>\n",
       "        <td>76.0</td>\n",
       "    </tr>\n",
       "</table>"
      ],
      "text/plain": [
       "[(76.0,)]"
      ]
     },
     "execution_count": 11,
     "metadata": {},
     "output_type": "execute_result"
    }
   ],
   "source": [
    "%%sql\n",
    "\n",
    "SELECT ROUND(AVG(s.Accounting)) AS \"Average Accounting Mark\"\n",
    "FROM Supplementarymarks s\n",
    "WHERE s.StudentNo NOT IN (SELECT e.StudentNo FROM Exammarks e)"
   ]
  },
  {
   "cell_type": "code",
   "execution_count": 12,
   "id": "f8e5b4cf",
   "metadata": {},
   "outputs": [
    {
     "name": "stdout",
     "output_type": "stream",
     "text": [
      " * sqlite:///classlist.db\n",
      "Done.\n"
     ]
    },
    {
     "data": {
      "text/html": [
       "<table>\n",
       "    <tr>\n",
       "        <th>ROUND(AVG(s.Accounting))</th>\n",
       "    </tr>\n",
       "    <tr>\n",
       "        <td>76.0</td>\n",
       "    </tr>\n",
       "</table>"
      ],
      "text/plain": [
       "[(76.0,)]"
      ]
     },
     "execution_count": 12,
     "metadata": {},
     "output_type": "execute_result"
    }
   ],
   "source": [
    "%%sql\n",
    "\n",
    "SELECT ROUND(AVG(s.Accounting))\n",
    "FROM Supplementarymarks s\n",
    "WHERE s.StudentNo IN (\n",
    "    SELECT s.StudentNo\n",
    "    FROM Supplementarymarks s\n",
    "    EXCEPT\n",
    "    SELECT e.StudentNo \n",
    "    FROM Exammarks e)"
   ]
  },
  {
   "cell_type": "markdown",
   "id": "e10315de",
   "metadata": {},
   "source": [
    "### **Question 10**\n",
    "\n",
    "Assuming all subjects are weighted equally, what was the average total mark, rounded down, for students who didn’t write any supplementary exams?\n",
    " \n",
    "**Options:**\n",
    " - **74**\n",
    " - 66\n",
    " - 73\n",
    " - 76\n",
    " \n",
    "Important to note:\n",
    "- Average total mark - total average across all 5 subjects per student, then average across all students\n",
    "- students who did NOT write any supps - meaning they will not appear in the supplementarymarks table. Exclude any students who wrote some final exams, some supps"
   ]
  },
  {
   "cell_type": "markdown",
   "id": "a645d2fa",
   "metadata": {},
   "source": [
    "**Solution**"
   ]
  },
  {
   "cell_type": "code",
   "execution_count": 13,
   "id": "394517cc",
   "metadata": {},
   "outputs": [
    {
     "name": "stdout",
     "output_type": "stream",
     "text": [
      " * sqlite:///classlist.db\n",
      "Done.\n"
     ]
    },
    {
     "data": {
      "text/html": [
       "<table>\n",
       "    <tr>\n",
       "        <th>AVG((e.Maths+e.Accounting+e.CompSci+e.Science+e.Biology)/5)</th>\n",
       "    </tr>\n",
       "    <tr>\n",
       "        <td>74.6</td>\n",
       "    </tr>\n",
       "</table>"
      ],
      "text/plain": [
       "[(74.6,)]"
      ]
     },
     "execution_count": 13,
     "metadata": {},
     "output_type": "execute_result"
    }
   ],
   "source": [
    "%%sql\n",
    "\n",
    "SELECT AVG((e.Maths+e.Accounting+e.CompSci+e.Science+e.Biology)/5) \n",
    "FROM ExamMarks e\n",
    "WHERE e.StudentNo IN (\n",
    "    SELECT e.StudentNo FROM Exammarks e\n",
    "    EXCEPT\n",
    "    SELECT s.StudentNo FROM Supplementarymarks s)"
   ]
  },
  {
   "cell_type": "markdown",
   "id": "3a645a6f",
   "metadata": {},
   "source": [
    "## Joins MCQ"
   ]
  },
  {
   "cell_type": "code",
   "execution_count": 14,
   "id": "9e4835a2",
   "metadata": {},
   "outputs": [],
   "source": [
    "%%sql\n",
    "\n",
    "sqlite:///TMDB.db"
   ]
  },
  {
   "cell_type": "markdown",
   "id": "e3dfe413",
   "metadata": {},
   "source": [
    "<img src=\"https://github.com/Explore-AI/Pictures/blob/master/TMDB_ER_diagram.png?raw=true\" width=70%/>"
   ]
  },
  {
   "cell_type": "markdown",
   "id": "d0e71f09",
   "metadata": {},
   "source": [
    "### **Question 10**\n",
    "\n",
    "How many movies are in the database that are both a Romance and a Comedy?\n",
    "\n",
    "**Options:**\n",
    "\n",
    " - 373\n",
    " - **484**\n",
    " - 262\n",
    " - 595\n",
    " \n",
    "Important to note:\n",
    "- **both** Romance and Comedy\n",
    "- Mapping means each record of a movie can only have one genre associated with it at a time. Multiple records for multiple genres for one movie.\n",
    "- If we find all occurences of movies with either Romance or Comedy genres, the ones with more than one appearance are the ones with BOTH genres. We want to find the number of only the duplicate records."
   ]
  },
  {
   "cell_type": "markdown",
   "id": "cb019fbe",
   "metadata": {},
   "source": [
    "**Solution**"
   ]
  },
  {
   "cell_type": "code",
   "execution_count": 15,
   "id": "0362428e",
   "metadata": {},
   "outputs": [
    {
     "name": "stdout",
     "output_type": "stream",
     "text": [
      " * sqlite:///TMDB.db\n",
      "   sqlite:///classlist.db\n",
      "Done.\n"
     ]
    },
    {
     "data": {
      "text/html": [
       "<table>\n",
       "    <tr>\n",
       "        <th>(Count(gm.movie_id) - Count(DISTINCT(gm.movie_id)))</th>\n",
       "    </tr>\n",
       "    <tr>\n",
       "        <td>484</td>\n",
       "    </tr>\n",
       "</table>"
      ],
      "text/plain": [
       "[(484,)]"
      ]
     },
     "execution_count": 15,
     "metadata": {},
     "output_type": "execute_result"
    }
   ],
   "source": [
    "%%sql \n",
    "\n",
    "SELECT (Count(gm.movie_id) - Count(DISTINCT(gm.movie_id)))\n",
    "FROM genres g\n",
    "LEFT JOIN genremap gm\n",
    "    ON g.genre_id = gm.genre_id\n",
    "LEFT JOIN movies m\n",
    "    ON gm.movie_id = m.movie_id\n",
    "WHERE (genre_name = 'Comedy' OR genre_name = 'Romance')"
   ]
  },
  {
   "cell_type": "code",
   "execution_count": 16,
   "id": "5f14bbe4",
   "metadata": {},
   "outputs": [
    {
     "name": "stdout",
     "output_type": "stream",
     "text": [
      " * sqlite:///TMDB.db\n",
      "   sqlite:///classlist.db\n",
      "Done.\n"
     ]
    },
    {
     "data": {
      "text/html": [
       "<table>\n",
       "    <tr>\n",
       "        <th>COUNT(*)</th>\n",
       "    </tr>\n",
       "    <tr>\n",
       "        <td>484</td>\n",
       "    </tr>\n",
       "</table>"
      ],
      "text/plain": [
       "[(484,)]"
      ]
     },
     "execution_count": 16,
     "metadata": {},
     "output_type": "execute_result"
    }
   ],
   "source": [
    "%%sql\n",
    "SELECT COUNT(*)\n",
    "FROM(\n",
    "SELECT gm.movie_id\n",
    "FROM genres g\n",
    "JOIN genremap gm\n",
    "    ON g.genre_id = gm.genre_id\n",
    "JOIN movies m\n",
    "    ON gm.movie_id = m.movie_id\n",
    "WHERE genre_name = 'Comedy' \n",
    "    \n",
    "    INTERSECT\n",
    "\n",
    "SELECT gm.movie_id\n",
    "FROM genres g\n",
    "JOIN genremap gm\n",
    "    ON g.genre_id = gm.genre_id\n",
    "JOIN movies m\n",
    "    ON gm.movie_id = m.movie_id\n",
    "WHERE genre_name = 'Romance')"
   ]
  },
  {
   "cell_type": "markdown",
   "id": "3be88abb",
   "metadata": {},
   "source": [
    "## Optimising SQL Queries MCQ"
   ]
  },
  {
   "cell_type": "code",
   "execution_count": 17,
   "id": "5d95a8e4",
   "metadata": {},
   "outputs": [],
   "source": [
    "%%sql\n",
    "\n",
    "sqlite:///flights.db"
   ]
  },
  {
   "cell_type": "markdown",
   "id": "1a1d769c",
   "metadata": {},
   "source": [
    "<img src=\"https://github.com/Explore-AI/Pictures/blob/master/flights_ER_diagram.png?raw=true\" width=40%/>"
   ]
  },
  {
   "cell_type": "markdown",
   "id": "0534b6a8",
   "metadata": {},
   "source": [
    "### **Question 3** \n",
    "\n",
    "How many flights departed on the 28th of January 2008?\n",
    "\n",
    "**Options:**\n",
    "- 540 908\n",
    "- 20 149\n",
    "- **19 495**\n",
    "- 18 056\n",
    "\n",
    "Important to note:\n",
    "- Date - how is it written in the database?\n",
    "- **departed**"
   ]
  },
  {
   "cell_type": "markdown",
   "id": "0a4ccef5",
   "metadata": {},
   "source": [
    "**Solution**"
   ]
  },
  {
   "cell_type": "code",
   "execution_count": 18,
   "id": "ddb8714e",
   "metadata": {},
   "outputs": [
    {
     "name": "stdout",
     "output_type": "stream",
     "text": [
      "   sqlite:///TMDB.db\n",
      "   sqlite:///classlist.db\n",
      " * sqlite:///flights.db\n",
      "Done.\n"
     ]
    },
    {
     "data": {
      "text/html": [
       "<table>\n",
       "    <tr>\n",
       "        <th>count(*)</th>\n",
       "    </tr>\n",
       "    <tr>\n",
       "        <td>19495</td>\n",
       "    </tr>\n",
       "</table>"
      ],
      "text/plain": [
       "[(19495,)]"
      ]
     },
     "execution_count": 18,
     "metadata": {},
     "output_type": "execute_result"
    }
   ],
   "source": [
    "%%sql\n",
    "\n",
    "SELECT count(*) FROM flights\n",
    "WHERE Date = '2008/1/28' AND Cancelled=0 "
   ]
  },
  {
   "cell_type": "code",
   "execution_count": 19,
   "id": "a480227e",
   "metadata": {},
   "outputs": [
    {
     "name": "stdout",
     "output_type": "stream",
     "text": [
      "CPU times: user 7 µs, sys: 1e+03 ns, total: 8 µs\n",
      "Wall time: 20 µs\n",
      "   sqlite:///TMDB.db\n",
      "   sqlite:///classlist.db\n",
      " * sqlite:///flights.db\n",
      "Done.\n"
     ]
    },
    {
     "data": {
      "text/html": [
       "<table>\n",
       "    <tr>\n",
       "        <th>count(*)</th>\n",
       "    </tr>\n",
       "    <tr>\n",
       "        <td>19495</td>\n",
       "    </tr>\n",
       "</table>"
      ],
      "text/plain": [
       "[(19495,)]"
      ]
     },
     "execution_count": 19,
     "metadata": {},
     "output_type": "execute_result"
    }
   ],
   "source": [
    "%time\n",
    "\n",
    "%sql select count(*) from flights where date = '2008/1/28' and cancelled = 0"
   ]
  },
  {
   "cell_type": "code",
   "execution_count": 20,
   "id": "3da332c0",
   "metadata": {},
   "outputs": [
    {
     "name": "stdout",
     "output_type": "stream",
     "text": [
      "CPU times: user 3 µs, sys: 1 µs, total: 4 µs\n",
      "Wall time: 7.87 µs\n",
      "   sqlite:///TMDB.db\n",
      "   sqlite:///classlist.db\n",
      " * sqlite:///flights.db\n",
      "Done.\n"
     ]
    },
    {
     "data": {
      "text/html": [
       "<table>\n",
       "    <tr>\n",
       "        <th>count(*)</th>\n",
       "    </tr>\n",
       "    <tr>\n",
       "        <td>19495</td>\n",
       "    </tr>\n",
       "</table>"
      ],
      "text/plain": [
       "[(19495,)]"
      ]
     },
     "execution_count": 20,
     "metadata": {},
     "output_type": "execute_result"
    }
   ],
   "source": [
    "%time \n",
    "\n",
    "%sql WITH CTE AS (SELECT flightnum, Date FROM flights WHERE Cancelled = '0' and date = '2008/1/28' ) SELECT count(*)FROM CTE;"
   ]
  },
  {
   "cell_type": "markdown",
   "id": "abf1f2ec",
   "metadata": {},
   "source": [
    "### **Question 10**\n",
    "\n",
    "Which domestic carrier had the best on-time performance (OTP), where OTP is defined as the rate of on time flights with a 15min buffer on departure and arrival?\n",
    "\n",
    "**Options:**\n",
    "-  American Airlines Inc\n",
    "- **Hawaiian Airlines Inc**\n",
    "- Comair Inc\n",
    "- Aloha Airlines Inc\n",
    "\n",
    "\n",
    "Important to note: \n",
    "- **RATE** of on-time flights\n",
    "    - This should indicate some sort of proportion, percentage, etc..\n",
    "    - We are essentially looking for number of on-time flights / number of total flights per each airline, to see which has the best rate of OTP"
   ]
  },
  {
   "cell_type": "markdown",
   "id": "76dcb39c",
   "metadata": {},
   "source": [
    "**Solution**"
   ]
  },
  {
   "cell_type": "code",
   "execution_count": 21,
   "id": "21b4b397",
   "metadata": {},
   "outputs": [
    {
     "name": "stdout",
     "output_type": "stream",
     "text": [
      "   sqlite:///TMDB.db\n",
      "   sqlite:///classlist.db\n",
      " * sqlite:///flights.db\n",
      "Done.\n",
      "CPU times: user 492 ms, sys: 36.1 ms, total: 528 ms\n",
      "Wall time: 542 ms\n"
     ]
    },
    {
     "data": {
      "text/html": [
       "<table>\n",
       "    <tr>\n",
       "        <th>Description</th>\n",
       "        <th>total</th>\n",
       "        <th>on_time</th>\n",
       "        <th>OTP</th>\n",
       "    </tr>\n",
       "    <tr>\n",
       "        <td>Hawaiian Airlines Inc.\r",
       "</td>\n",
       "        <td>4679</td>\n",
       "        <td>4409</td>\n",
       "        <td>0.9422953622568925</td>\n",
       "    </tr>\n",
       "    <tr>\n",
       "        <td>Aloha Airlines Inc.\r",
       "</td>\n",
       "        <td>4028</td>\n",
       "        <td>3727</td>\n",
       "        <td>0.9252730883813307</td>\n",
       "    </tr>\n",
       "    <tr>\n",
       "        <td>AirTran Airways Corporation\r",
       "</td>\n",
       "        <td>20519</td>\n",
       "        <td>15807</td>\n",
       "        <td>0.7703591792972367</td>\n",
       "    </tr>\n",
       "    <tr>\n",
       "        <td>US Airways Inc. (Merged with America West 9/05. Reporting for both starting 10/07.)\r",
       "</td>\n",
       "        <td>39226</td>\n",
       "        <td>30145</td>\n",
       "        <td>0.7684953857135574</td>\n",
       "    </tr>\n",
       "    <tr>\n",
       "        <td>Delta Air Lines Inc.\r",
       "</td>\n",
       "        <td>38256</td>\n",
       "        <td>29366</td>\n",
       "        <td>0.7676181514010874</td>\n",
       "    </tr>\n",
       "</table>"
      ],
      "text/plain": [
       "[('Hawaiian Airlines Inc.\\r', 4679, 4409, 0.9422953622568925),\n",
       " ('Aloha Airlines Inc.\\r', 4028, 3727, 0.9252730883813307),\n",
       " ('AirTran Airways Corporation\\r', 20519, 15807, 0.7703591792972367),\n",
       " ('US Airways Inc. (Merged with America West 9/05. Reporting for both starting 10/07.)\\r', 39226, 30145, 0.7684953857135574),\n",
       " ('Delta Air Lines Inc.\\r', 38256, 29366, 0.7676181514010874)]"
      ]
     },
     "execution_count": 21,
     "metadata": {},
     "output_type": "execute_result"
    }
   ],
   "source": [
    "%%time\n",
    "%%sql \n",
    "\n",
    "SELECT Description, total, on_time, (CAST(on_time as float) / CAST(total as float)) OTP \n",
    "FROM carriers\n",
    "INNER JOIN (\n",
    "    SELECT UniqueCarrier, count(*) AS total \n",
    "    FROM flights \n",
    "    GROUP BY UniqueCarrier ) as A\n",
    "    ON carriers.code = A.UniqueCarrier\n",
    "INNER JOIN (\n",
    "    SELECT UniqueCarrier, count(*) on_time \n",
    "    FROM flights \n",
    "    WHERE DepDelay <=15 AND ArrDelay <=15 \n",
    "    GROUP BY UniqueCarrier) as B\n",
    "    ON carriers.code = B.UniqueCarrier\n",
    "ORDER by OTP desc\n",
    "LIMIT 5"
   ]
  },
  {
   "cell_type": "code",
   "execution_count": 22,
   "id": "180906ea",
   "metadata": {},
   "outputs": [
    {
     "name": "stdout",
     "output_type": "stream",
     "text": [
      "   sqlite:///TMDB.db\n",
      "   sqlite:///classlist.db\n",
      " * sqlite:///flights.db\n",
      "Done.\n",
      "CPU times: user 685 ms, sys: 79.9 ms, total: 765 ms\n",
      "Wall time: 774 ms\n"
     ]
    },
    {
     "data": {
      "text/html": [
       "<table>\n",
       "    <tr>\n",
       "        <th>Description</th>\n",
       "        <th>TotalFlights</th>\n",
       "        <th>OnTimeFlights</th>\n",
       "        <th>OTP</th>\n",
       "    </tr>\n",
       "    <tr>\n",
       "        <td>Hawaiian Airlines Inc.\r",
       "</td>\n",
       "        <td>4679</td>\n",
       "        <td>4409</td>\n",
       "        <td>0.9422953622568925</td>\n",
       "    </tr>\n",
       "    <tr>\n",
       "        <td>Aloha Airlines Inc.\r",
       "</td>\n",
       "        <td>4028</td>\n",
       "        <td>3727</td>\n",
       "        <td>0.9252730883813307</td>\n",
       "    </tr>\n",
       "    <tr>\n",
       "        <td>AirTran Airways Corporation\r",
       "</td>\n",
       "        <td>20519</td>\n",
       "        <td>15807</td>\n",
       "        <td>0.7703591792972367</td>\n",
       "    </tr>\n",
       "    <tr>\n",
       "        <td>US Airways Inc. (Merged with America West 9/05. Reporting for both starting 10/07.)\r",
       "</td>\n",
       "        <td>39226</td>\n",
       "        <td>30145</td>\n",
       "        <td>0.7684953857135574</td>\n",
       "    </tr>\n",
       "    <tr>\n",
       "        <td>Delta Air Lines Inc.\r",
       "</td>\n",
       "        <td>38256</td>\n",
       "        <td>29366</td>\n",
       "        <td>0.7676181514010874</td>\n",
       "    </tr>\n",
       "</table>"
      ],
      "text/plain": [
       "[('Hawaiian Airlines Inc.\\r', 4679, 4409, 0.9422953622568925),\n",
       " ('Aloha Airlines Inc.\\r', 4028, 3727, 0.9252730883813307),\n",
       " ('AirTran Airways Corporation\\r', 20519, 15807, 0.7703591792972367),\n",
       " ('US Airways Inc. (Merged with America West 9/05. Reporting for both starting 10/07.)\\r', 39226, 30145, 0.7684953857135574),\n",
       " ('Delta Air Lines Inc.\\r', 38256, 29366, 0.7676181514010874)]"
      ]
     },
     "execution_count": 22,
     "metadata": {},
     "output_type": "execute_result"
    }
   ],
   "source": [
    "%%time\n",
    "\n",
    "%%sql \n",
    "SELECT\n",
    "    c.Description, COUNT(*) AS TotalFlights, \n",
    "    SUM(CASE WHEN (f.DepDelay <= 15 AND f.ArrDelay <= 15 AND f.Cancelled = '0') THEN 1 ELSE 0 END) AS OnTimeFlights, \n",
    "    CAST(SUM(CASE WHEN (f.DepDelay <= 15 AND f.ArrDelay <= 15 AND f.Cancelled = '0') THEN 1 ELSE 0 END) AS float) / COUNT(*) AS OTP\n",
    "FROM\n",
    "    Flights f\n",
    "INNER JOIN carriers c\n",
    "ON f.UniqueCarrier = c.code\n",
    "GROUP BY UniqueCarrier\n",
    "HAVING TotalFlights > 0\n",
    "ORDER BY OTP desc\n",
    "LIMIT 5"
   ]
  },
  {
   "cell_type": "code",
   "execution_count": null,
   "id": "9843c3bd",
   "metadata": {},
   "outputs": [],
   "source": []
  }
 ],
 "metadata": {
  "kernelspec": {
   "display_name": "Python 3 (ipykernel)",
   "language": "python",
   "name": "python3"
  },
  "language_info": {
   "codemirror_mode": {
    "name": "ipython",
    "version": 3
   },
   "file_extension": ".py",
   "mimetype": "text/x-python",
   "name": "python",
   "nbconvert_exporter": "python",
   "pygments_lexer": "ipython3",
   "version": "3.9.7"
  }
 },
 "nbformat": 4,
 "nbformat_minor": 5
}
