{
 "cells": [
  {
   "cell_type": "markdown",
   "id": "724a18f1",
   "metadata": {},
   "source": [
    "# Code Challenges, Error Checking & Debugging\n",
    "\n",
    "In this webinar, we will be looking at examples of solving problems similar to what you might face in coding challenges, advice on how to approach coding challenges, as well as looking at some common errors Python may throw and how to deal with these."
   ]
  },
  {
   "cell_type": "markdown",
   "id": "22f456d6",
   "metadata": {},
   "source": [
    "## 1. Firstly - what is hardcoding? \n",
    "\n",
    "Before we get into actually coding some functions, it's important to understand the concept of 'hardcoding'. This is a issue that many who are just starting out with coding face - don't worry, it's normal. As you get more experience with creating functions and writing code, you will learn to avoid hardcoding naturally. \n",
    "\n",
    "Hardcoding, in the context of the functions you’re writing in coding challenges, is essentially a way of forcing your function to work, but only for one particular example. This means that the function you write will only work for that one, unique input – but you want your function to work for ANY input. To do this, we need to avoid hardcoding.\n",
    "\n",
    "Let’s look at an example of hardcoding a function, where we are trying to sort a list so that the output list has all the integers first, in order, followed by all the letters, in order:\n"
   ]
  },
  {
   "cell_type": "code",
   "execution_count": 1,
   "id": "4a8eebbc",
   "metadata": {},
   "outputs": [],
   "source": [
    "my_list1 = ['z', 'a', 'w', 1, 6, 'q', 'k', 'l'] #The list we want to sort"
   ]
  },
  {
   "cell_type": "markdown",
   "id": "291c538b",
   "metadata": {},
   "source": [
    "Let’s now define a function, but using hardcoding:"
   ]
  },
  {
   "cell_type": "code",
   "execution_count": 2,
   "id": "1e36da11",
   "metadata": {},
   "outputs": [],
   "source": [
    "def sort_list_hardcoded(input_list):\n",
    "    list1 = [1, 6]\n",
    "    list2 = ['z', 'a', 'w', 'q', 'k', 'l']\n",
    "    list1.sort()\n",
    "    list2.sort()\n",
    "    list3 = list1 + list2\n",
    "    return list3 "
   ]
  },
  {
   "cell_type": "markdown",
   "id": "d990e48b",
   "metadata": {},
   "source": [
    "In this function, we’ve hard-coded by including parts of our actual list in our definitions of list1 and list2 – we’ve manually separated the integers and strings. If we try to run this function on our list, ‘my_list1’:"
   ]
  },
  {
   "cell_type": "code",
   "execution_count": 3,
   "id": "07f2bd58",
   "metadata": {},
   "outputs": [
    {
     "data": {
      "text/plain": [
       "[1, 6, 'a', 'k', 'l', 'q', 'w', 'z']"
      ]
     },
     "execution_count": 3,
     "metadata": {},
     "output_type": "execute_result"
    }
   ],
   "source": [
    "sort_list_hardcoded(my_list1)"
   ]
  },
  {
   "cell_type": "markdown",
   "id": "1abb8803",
   "metadata": {},
   "source": [
    "It gives us the correct output! However, if we create a new list:"
   ]
  },
  {
   "cell_type": "code",
   "execution_count": 4,
   "id": "a555dc19",
   "metadata": {},
   "outputs": [],
   "source": [
    "my_list2 = ['w', 'f', 5, 2, 7, 'r', 'e']"
   ]
  },
  {
   "cell_type": "markdown",
   "id": "487a0ede",
   "metadata": {},
   "source": [
    "And try to pass it through our function:"
   ]
  },
  {
   "cell_type": "code",
   "execution_count": 5,
   "id": "7705f2e6",
   "metadata": {},
   "outputs": [
    {
     "data": {
      "text/plain": [
       "[1, 6, 'a', 'k', 'l', 'q', 'w', 'z']"
      ]
     },
     "execution_count": 5,
     "metadata": {},
     "output_type": "execute_result"
    }
   ],
   "source": [
    "sort_list_hardcoded(my_list2)"
   ]
  },
  {
   "cell_type": "markdown",
   "id": "31c57e07",
   "metadata": {},
   "source": [
    "This isn’t the correct output. It gives us the output from our previous list, and that is because we have hardcoded. What we actually want to do is, instead of hardcoding, create a function that is general enough to take in and work on any input. How would we do this…?\n",
    "\n",
    "Let’s redefine our function, without hardcoding:"
   ]
  },
  {
   "cell_type": "code",
   "execution_count": 6,
   "id": "7cd9c7c7",
   "metadata": {},
   "outputs": [],
   "source": [
    "def sort_list(input_list):\n",
    "    #check to see if each element of the input list is an int, if so we add it to list1\n",
    "    list1 = [x for x in input_list if type(x)==int] \n",
    "    \n",
    "    #check to see if each element of the input list is a str, if so we add it to list2\n",
    "    list2 = [x for x in input_list if type(x)==str]\n",
    "    \n",
    "    #sort each of the lists\n",
    "    list1.sort()\n",
    "    list2.sort()\n",
    "    \n",
    "    #now put the two sorted lists together\n",
    "    list3 = list1+list2\n",
    "    \n",
    "    return list3"
   ]
  },
  {
   "cell_type": "markdown",
   "id": "e8d049db",
   "metadata": {},
   "source": [
    "We can see here, that instead of including parts of the list we want to sort (i.e. my_list2) in our definitions of list1 and list2, we have rather made **generic** statements so that our function can identify any integers in any input list and add them to list1, as well as identify any strings in the input list and add them to list2. Now, we can pass any list containing a mixture of strings and numbers through the function.\n",
    "\n",
    "Let's pass my_list2 to our newly defined function:\n"
   ]
  },
  {
   "cell_type": "code",
   "execution_count": 7,
   "id": "7c17816f",
   "metadata": {},
   "outputs": [
    {
     "data": {
      "text/plain": [
       "[2, 5, 7, 'e', 'f', 'r', 'w']"
      ]
     },
     "execution_count": 7,
     "metadata": {},
     "output_type": "execute_result"
    }
   ],
   "source": [
    "sort_list(my_list2)"
   ]
  },
  {
   "cell_type": "markdown",
   "id": "c6790acd",
   "metadata": {},
   "source": [
    "Now, the function gives us the correct answer. We can even use our original list (or, any list with a mixture of integers and strings!) with this function and get the correct output:"
   ]
  },
  {
   "cell_type": "code",
   "execution_count": 8,
   "id": "28c153c5",
   "metadata": {},
   "outputs": [
    {
     "data": {
      "text/plain": [
       "[1, 6, 'a', 'k', 'l', 'q', 'w', 'z']"
      ]
     },
     "execution_count": 8,
     "metadata": {},
     "output_type": "execute_result"
    }
   ],
   "source": [
    "sort_list(my_list1)"
   ]
  },
  {
   "cell_type": "markdown",
   "id": "89924c19",
   "metadata": {},
   "source": [
    "## 2. Let's try to build some functions..."
   ]
  },
  {
   "cell_type": "markdown",
   "id": "c6dc5363",
   "metadata": {},
   "source": [
    "### Challenge 1: Vowel Count\n",
    "\n",
    "Create a function that returns the number (count) of vowels in the given string\n",
    "\n",
    "- a, e, i, o and u are considered vowels for this function\n",
    "- the input string will only consist of lower case letters and/or spaces\n",
    "\n",
    "\n",
    "Input: 'abracadabra'\n",
    "\n",
    "Output: 5\n",
    "\n",
    "*source: https://www.codewars.com/kata/54ff3102c1bad923760001f3*"
   ]
  },
  {
   "cell_type": "code",
   "execution_count": null,
   "id": "e7d3ed82",
   "metadata": {},
   "outputs": [],
   "source": [
    "def get_count(sentence):\n",
    "    \n",
    "    #let's define what we're considering vowels\n",
    "    \n",
    "    #now let's go through each letter in our sentence and determine whether they're vowels\n",
    "    \n",
    "    #finally, return the number of vowels we have\n",
    "    \n",
    "    return "
   ]
  },
  {
   "cell_type": "code",
   "execution_count": null,
   "id": "b30f818f",
   "metadata": {},
   "outputs": [],
   "source": [
    "get_count('abracadabra')"
   ]
  },
  {
   "cell_type": "markdown",
   "id": "5d6df974",
   "metadata": {},
   "source": [
    "### Challenge 2: Categorise a new member\n",
    "\n",
    "The Western Suburbs Croquet Club has two categories of membership, Senior and Open. Create a function that will tell prospective members which category they will be placed in.\n",
    "\n",
    "- To be a senior, a member must be at least 55 years old and have a handicap greater than 7. In this croquet club, handicaps range from -2 to +26; the better the player, the lower the handicap\n",
    "- The input will consist of pairs - each pair contains information for a single potential member. Information consists of an integer for the person's age, and an integer for their handicap.\n",
    "\n",
    "Input: [[18, 20], [45, 2], [61, 12], [37, 6], [21, 21], [78, 9]]\n",
    "\n",
    "Output: [\"Open\", \"Open\", \"Senior\", \"Open\", \"Open\", \"Senior\"]]\n",
    "\n",
    "\n",
    "*source: https://www.codewars.com/kata/5502c9e7b3216ec63c0001aa*"
   ]
  },
  {
   "cell_type": "code",
   "execution_count": null,
   "id": "10882858",
   "metadata": {},
   "outputs": [],
   "source": [
    "def open_or_senior(data):\n",
    "    \n",
    "    #let's try going through each sub-list and compare the values for each feature\n",
    "    \n",
    "    return "
   ]
  },
  {
   "cell_type": "code",
   "execution_count": null,
   "id": "52c49d78",
   "metadata": {},
   "outputs": [],
   "source": [
    "open_or_senior([[18, 20], [45, 2], [61, 12], [37, 6], [21, 21], [78, 9]])"
   ]
  },
  {
   "cell_type": "markdown",
   "id": "5ce4add5",
   "metadata": {},
   "source": [
    "### Challenge 3: Summing elements\n",
    "\n",
    "Create a function that will take in a list of numbers, and will return the sum of the first three elements and last three elements in the list.\n",
    "\n",
    "Input: [1, 2, 3, 4, 5, 6, 7, 8]\n",
    "\n",
    "\n",
    "Output: 27"
   ]
  },
  {
   "cell_type": "code",
   "execution_count": null,
   "id": "02f24b23",
   "metadata": {},
   "outputs": [],
   "source": [
    "def list_totals(data):\n",
    "    \n",
    "    #how do we select particular elements from a list? Indexing!\n",
    "    #remember when slicing using indices - the last index in your range is excluded\n",
    "    \n",
    "    #how do we add everything together?\n",
    "    \n",
    "    return "
   ]
  },
  {
   "cell_type": "markdown",
   "id": "a62a208a",
   "metadata": {},
   "source": [
    "![](https://www.codingem.com/wp-content/uploads/2021/11/python-list-indexing.png)"
   ]
  },
  {
   "cell_type": "code",
   "execution_count": null,
   "id": "2dd135cd",
   "metadata": {},
   "outputs": [],
   "source": [
    "list_totals([1, 2, 3, 4, 5, 6, 7, 8])"
   ]
  },
  {
   "cell_type": "markdown",
   "id": "4dceeb0a",
   "metadata": {},
   "source": [
    "### Challenge 4: Return middle number of list\n",
    "\n",
    "Create a function that takes in a list, and returns a tuple containing the number in the middle position of that list, as well as its index. If there are an even amount of numbers in the list, return the string \"No middle number\"\n",
    "\n",
    "\n",
    "Input: [1, 2, 3, 4, 5, 6, 7, 8, 9]\n",
    "\n",
    "Output: (5, 4)"
   ]
  },
  {
   "cell_type": "code",
   "execution_count": null,
   "id": "4d960d72",
   "metadata": {},
   "outputs": [],
   "source": [
    "def middle_number(mylist):\n",
    "    \n",
    "    #first, let's determine whether we have an odd number of elements\n",
    "    if len(mylist)...:\n",
    "        #then, how do we determine the middle position?\n",
    "        ...\n",
    "        return ...\n",
    "    \n",
    "    #now make a case for the even numbered lists\n",
    "    elif len(mylist)...:\n",
    "        return ..."
   ]
  },
  {
   "cell_type": "code",
   "execution_count": null,
   "id": "808de808",
   "metadata": {},
   "outputs": [],
   "source": [
    "middle_number([1, 2, 3, 4, 5, 6, 7, 8, 9])"
   ]
  },
  {
   "cell_type": "markdown",
   "id": "64cc0f93",
   "metadata": {},
   "source": [
    "## 3. Common errors in Python & how to resolve them\n",
    "\n",
    "It is common to come across errors in your code - even the most experienced coders run in to errors very often. Sometimes it's something as simple as a typo or a missing bracket, but getting familiar with and understanding some of the common errors and error messages you will run into will help you to resolve them in the future. \n",
    "\n",
    "Error messages are incredibly valuable - they might seem long and scary with a lot of information that doesn't make sense at first glance, but let's have a look at what elements of an error message you'll want to pick up on:"
   ]
  },
  {
   "cell_type": "markdown",
   "id": "30b71ed1",
   "metadata": {},
   "source": [
    "![](https://i.imgur.com/jMB77HU.jpeg)"
   ]
  },
  {
   "cell_type": "markdown",
   "id": "15a8014a",
   "metadata": {},
   "source": [
    "### 3.1. Syntax error\n",
    "\n",
    "These usually occur when you have a typo or some other mistake that affects the syntax of your code, leading it to not make sense when it is interpreted."
   ]
  },
  {
   "cell_type": "code",
   "execution_count": 9,
   "id": "ca161adc",
   "metadata": {},
   "outputs": [
    {
     "ename": "SyntaxError",
     "evalue": "invalid syntax (2580703758.py, line 1)",
     "output_type": "error",
     "traceback": [
      "\u001b[0;36m  File \u001b[0;32m\"/var/folders/kd/y6587_tj027169vmxzn900sc0000gn/T/ipykernel_71865/2580703758.py\"\u001b[0;36m, line \u001b[0;32m1\u001b[0m\n\u001b[0;31m    if x = 10:\u001b[0m\n\u001b[0m         ^\u001b[0m\n\u001b[0;31mSyntaxError\u001b[0m\u001b[0;31m:\u001b[0m invalid syntax\n"
     ]
    }
   ],
   "source": [
    "if x = 10:\n",
    "    print('x is 10'))"
   ]
  },
  {
   "cell_type": "code",
   "execution_count": 10,
   "id": "af4a179a",
   "metadata": {},
   "outputs": [
    {
     "ename": "SyntaxError",
     "evalue": "invalid syntax (1623684885.py, line 1)",
     "output_type": "error",
     "traceback": [
      "\u001b[0;36m  File \u001b[0;32m\"/var/folders/kd/y6587_tj027169vmxzn900sc0000gn/T/ipykernel_71865/1623684885.py\"\u001b[0;36m, line \u001b[0;32m1\u001b[0m\n\u001b[0;31m    if y == 7\u001b[0m\n\u001b[0m             ^\u001b[0m\n\u001b[0;31mSyntaxError\u001b[0m\u001b[0;31m:\u001b[0m invalid syntax\n"
     ]
    }
   ],
   "source": [
    "if y == 7\n",
    "    print()'y is 7'"
   ]
  },
  {
   "cell_type": "markdown",
   "id": "cd5e47df",
   "metadata": {},
   "source": [
    "### 3.2. Indentation error\n",
    "These occur when there is an issue with your indentation. Indentation in Python is usually one 'tab', or four spaces, per indentation level. Python uses whitespace to indicate blocks of code, so ensuring your indentation is correct and consistent is very important!"
   ]
  },
  {
   "cell_type": "code",
   "execution_count": 11,
   "id": "7b47a543",
   "metadata": {},
   "outputs": [
    {
     "ename": "IndentationError",
     "evalue": "expected an indented block (3385780077.py, line 2)",
     "output_type": "error",
     "traceback": [
      "\u001b[0;36m  File \u001b[0;32m\"/var/folders/kd/y6587_tj027169vmxzn900sc0000gn/T/ipykernel_71865/3385780077.py\"\u001b[0;36m, line \u001b[0;32m2\u001b[0m\n\u001b[0;31m    return 'Did this work?'\u001b[0m\n\u001b[0m    ^\u001b[0m\n\u001b[0;31mIndentationError\u001b[0m\u001b[0;31m:\u001b[0m expected an indented block\n"
     ]
    }
   ],
   "source": [
    "def my_func(x):\n",
    "return 'Did this work?'"
   ]
  },
  {
   "cell_type": "code",
   "execution_count": 12,
   "id": "5ec9f99c",
   "metadata": {},
   "outputs": [
    {
     "ename": "IndentationError",
     "evalue": "expected an indented block (2191721467.py, line 3)",
     "output_type": "error",
     "traceback": [
      "\u001b[0;36m  File \u001b[0;32m\"/var/folders/kd/y6587_tj027169vmxzn900sc0000gn/T/ipykernel_71865/2191721467.py\"\u001b[0;36m, line \u001b[0;32m3\u001b[0m\n\u001b[0;31m    print(i, 'Even!')\u001b[0m\n\u001b[0m    ^\u001b[0m\n\u001b[0;31mIndentationError\u001b[0m\u001b[0;31m:\u001b[0m expected an indented block\n"
     ]
    }
   ],
   "source": [
    "for i in range(10):\n",
    "    if i % 2 == 0:\n",
    "    print(i, 'Even!')"
   ]
  },
  {
   "cell_type": "code",
   "execution_count": 14,
   "id": "4b2bed80",
   "metadata": {},
   "outputs": [
    {
     "ename": "IndentationError",
     "evalue": "unindent does not match any outer indentation level (<tokenize>, line 3)",
     "output_type": "error",
     "traceback": [
      "\u001b[0;36m  File \u001b[0;32m\"<tokenize>\"\u001b[0;36m, line \u001b[0;32m3\u001b[0m\n\u001b[0;31m    return result\u001b[0m\n\u001b[0m    ^\u001b[0m\n\u001b[0;31mIndentationError\u001b[0m\u001b[0;31m:\u001b[0m unindent does not match any outer indentation level\n"
     ]
    }
   ],
   "source": [
    "def function_2(x, y):\n",
    "    result = x*y\n",
    "   return result"
   ]
  },
  {
   "cell_type": "markdown",
   "id": "3344699f",
   "metadata": {},
   "source": [
    "### 3.3. Name error\n",
    "Name errors occur when you try to use a variable that hasn't been defined. Most often, this occurs due to typos, but can also occur if you have forgotten to run a cell where the variable gets defined. Variables are case sensitive, so always make sure you're writing your variable names correctly - this is also why it is a good idea to keep your variable names relevant and not too complicated!"
   ]
  },
  {
   "cell_type": "code",
   "execution_count": 15,
   "id": "6bc3fc74",
   "metadata": {},
   "outputs": [
    {
     "ename": "NameError",
     "evalue": "name 'Sentence' is not defined",
     "output_type": "error",
     "traceback": [
      "\u001b[0;31m---------------------------------------------------------------------------\u001b[0m",
      "\u001b[0;31mNameError\u001b[0m                                 Traceback (most recent call last)",
      "\u001b[0;32m/var/folders/kd/y6587_tj027169vmxzn900sc0000gn/T/ipykernel_71865/491196945.py\u001b[0m in \u001b[0;36m<module>\u001b[0;34m\u001b[0m\n\u001b[1;32m      1\u001b[0m \u001b[0msentence\u001b[0m \u001b[0;34m=\u001b[0m \u001b[0;34m'I love Python'\u001b[0m\u001b[0;34m\u001b[0m\u001b[0;34m\u001b[0m\u001b[0m\n\u001b[0;32m----> 2\u001b[0;31m \u001b[0mprint\u001b[0m\u001b[0;34m(\u001b[0m\u001b[0mSentence\u001b[0m\u001b[0;34m)\u001b[0m\u001b[0;34m\u001b[0m\u001b[0;34m\u001b[0m\u001b[0m\n\u001b[0m",
      "\u001b[0;31mNameError\u001b[0m: name 'Sentence' is not defined"
     ]
    }
   ],
   "source": [
    "sentence = 'I love Python'\n",
    "print(Sentence)"
   ]
  },
  {
   "cell_type": "code",
   "execution_count": 16,
   "id": "ca2127bd",
   "metadata": {},
   "outputs": [
    {
     "ename": "NameError",
     "evalue": "name 'bananana' is not defined",
     "output_type": "error",
     "traceback": [
      "\u001b[0;31m---------------------------------------------------------------------------\u001b[0m",
      "\u001b[0;31mNameError\u001b[0m                                 Traceback (most recent call last)",
      "\u001b[0;32m/var/folders/kd/y6587_tj027169vmxzn900sc0000gn/T/ipykernel_71865/2258887173.py\u001b[0m in \u001b[0;36m<module>\u001b[0;34m\u001b[0m\n\u001b[1;32m      1\u001b[0m \u001b[0;32mfor\u001b[0m \u001b[0mbanana\u001b[0m \u001b[0;32min\u001b[0m \u001b[0mrange\u001b[0m\u001b[0;34m(\u001b[0m\u001b[0;36m10\u001b[0m\u001b[0;34m)\u001b[0m\u001b[0;34m:\u001b[0m\u001b[0;34m\u001b[0m\u001b[0;34m\u001b[0m\u001b[0m\n\u001b[0;32m----> 2\u001b[0;31m     \u001b[0mprint\u001b[0m\u001b[0;34m(\u001b[0m\u001b[0mbananana\u001b[0m\u001b[0;34m)\u001b[0m\u001b[0;34m\u001b[0m\u001b[0;34m\u001b[0m\u001b[0m\n\u001b[0m",
      "\u001b[0;31mNameError\u001b[0m: name 'bananana' is not defined"
     ]
    }
   ],
   "source": [
    "for banana in range(10):\n",
    "    print(bananana)"
   ]
  },
  {
   "cell_type": "markdown",
   "id": "3b8f51c7",
   "metadata": {},
   "source": [
    "### 3.4. Type error\n",
    "\n",
    "Type errors occur when you try to perform actions on data types that do not support that particular operation."
   ]
  },
  {
   "cell_type": "code",
   "execution_count": 17,
   "id": "8c4cf312",
   "metadata": {},
   "outputs": [
    {
     "ename": "TypeError",
     "evalue": "can only concatenate str (not \"int\") to str",
     "output_type": "error",
     "traceback": [
      "\u001b[0;31m---------------------------------------------------------------------------\u001b[0m",
      "\u001b[0;31mTypeError\u001b[0m                                 Traceback (most recent call last)",
      "\u001b[0;32m/var/folders/kd/y6587_tj027169vmxzn900sc0000gn/T/ipykernel_71865/3884725008.py\u001b[0m in \u001b[0;36m<module>\u001b[0;34m\u001b[0m\n\u001b[1;32m      2\u001b[0m \u001b[0my\u001b[0m \u001b[0;34m=\u001b[0m \u001b[0;36m10\u001b[0m\u001b[0;34m\u001b[0m\u001b[0;34m\u001b[0m\u001b[0m\n\u001b[1;32m      3\u001b[0m \u001b[0;34m\u001b[0m\u001b[0m\n\u001b[0;32m----> 4\u001b[0;31m \u001b[0mprint\u001b[0m\u001b[0;34m(\u001b[0m\u001b[0mx\u001b[0m \u001b[0;34m+\u001b[0m \u001b[0my\u001b[0m\u001b[0;34m)\u001b[0m\u001b[0;34m\u001b[0m\u001b[0;34m\u001b[0m\u001b[0m\n\u001b[0m",
      "\u001b[0;31mTypeError\u001b[0m: can only concatenate str (not \"int\") to str"
     ]
    }
   ],
   "source": [
    "x = \"five\"\n",
    "y = 10\n",
    "\n",
    "print(x + y)"
   ]
  },
  {
   "cell_type": "code",
   "execution_count": 18,
   "id": "ef97002b",
   "metadata": {},
   "outputs": [
    {
     "ename": "TypeError",
     "evalue": "can only concatenate str (not \"int\") to str",
     "output_type": "error",
     "traceback": [
      "\u001b[0;31m---------------------------------------------------------------------------\u001b[0m",
      "\u001b[0;31mTypeError\u001b[0m                                 Traceback (most recent call last)",
      "\u001b[0;32m/var/folders/kd/y6587_tj027169vmxzn900sc0000gn/T/ipykernel_71865/3243641135.py\u001b[0m in \u001b[0;36m<module>\u001b[0;34m\u001b[0m\n\u001b[1;32m      2\u001b[0m \u001b[0my\u001b[0m \u001b[0;34m=\u001b[0m \u001b[0;36m10\u001b[0m\u001b[0;34m\u001b[0m\u001b[0;34m\u001b[0m\u001b[0m\n\u001b[1;32m      3\u001b[0m \u001b[0;34m\u001b[0m\u001b[0m\n\u001b[0;32m----> 4\u001b[0;31m \u001b[0mprint\u001b[0m\u001b[0;34m(\u001b[0m\u001b[0mx\u001b[0m \u001b[0;34m+\u001b[0m \u001b[0my\u001b[0m\u001b[0;34m)\u001b[0m\u001b[0;34m\u001b[0m\u001b[0;34m\u001b[0m\u001b[0m\n\u001b[0m",
      "\u001b[0;31mTypeError\u001b[0m: can only concatenate str (not \"int\") to str"
     ]
    }
   ],
   "source": [
    "x = '5'\n",
    "y = 10\n",
    "\n",
    "print(x + y)"
   ]
  },
  {
   "cell_type": "markdown",
   "id": "fee9efd7",
   "metadata": {},
   "source": [
    "### 3.5. Index error\n",
    "\n",
    "Index errors occur when you are trying to access an elemnt from a list or sequence at a particular index, but that index does not exist in the list/sequence. For example, if you were trying to access the fifth element in a list that only contains four elements. It is important to remember that indexing starts from 0. You can also use the len() function to help you determine how long your list/sequence is."
   ]
  },
  {
   "cell_type": "code",
   "execution_count": 19,
   "id": "982ea973",
   "metadata": {},
   "outputs": [
    {
     "ename": "IndexError",
     "evalue": "list index out of range",
     "output_type": "error",
     "traceback": [
      "\u001b[0;31m---------------------------------------------------------------------------\u001b[0m",
      "\u001b[0;31mIndexError\u001b[0m                                Traceback (most recent call last)",
      "\u001b[0;32m/var/folders/kd/y6587_tj027169vmxzn900sc0000gn/T/ipykernel_71865/3794056838.py\u001b[0m in \u001b[0;36m<module>\u001b[0;34m\u001b[0m\n\u001b[1;32m      1\u001b[0m \u001b[0mmy_list\u001b[0m \u001b[0;34m=\u001b[0m \u001b[0;34m[\u001b[0m\u001b[0;36m1\u001b[0m\u001b[0;34m,\u001b[0m \u001b[0;36m2\u001b[0m\u001b[0;34m,\u001b[0m \u001b[0;36m3\u001b[0m\u001b[0;34m,\u001b[0m \u001b[0;36m4\u001b[0m\u001b[0;34m,\u001b[0m \u001b[0;36m5\u001b[0m\u001b[0;34m,\u001b[0m \u001b[0;36m6\u001b[0m\u001b[0;34m]\u001b[0m\u001b[0;34m\u001b[0m\u001b[0;34m\u001b[0m\u001b[0m\n\u001b[1;32m      2\u001b[0m \u001b[0;34m\u001b[0m\u001b[0m\n\u001b[0;32m----> 3\u001b[0;31m \u001b[0mmy_list\u001b[0m\u001b[0;34m[\u001b[0m\u001b[0;36m7\u001b[0m\u001b[0;34m]\u001b[0m\u001b[0;34m\u001b[0m\u001b[0;34m\u001b[0m\u001b[0m\n\u001b[0m",
      "\u001b[0;31mIndexError\u001b[0m: list index out of range"
     ]
    }
   ],
   "source": [
    "my_list = [1, 2, 3, 4, 5, 6]\n",
    "\n",
    "my_list[7]"
   ]
  },
  {
   "cell_type": "markdown",
   "id": "2e2dc600",
   "metadata": {},
   "source": [
    "### 3.6. Attribute error\n",
    "\n",
    "Attribute errors occur when you try to access an attribute or a function of an object that doesn't exist for that particular data type. The occurrence of attribute errors will become more familiar as you get used to what attributes and functions work for which data types. If you are ever unsure, Google is your friend! A simple Google of the method/function you're trying to use (e.g. `.append()`, `.upper()`), or a Google of what you're trying to do will help (*\\\"how to add new key-value pair to dictionary python\"*)."
   ]
  },
  {
   "cell_type": "code",
   "execution_count": 20,
   "id": "4b11ec91",
   "metadata": {},
   "outputs": [
    {
     "ename": "AttributeError",
     "evalue": "'list' object has no attribute 'add'",
     "output_type": "error",
     "traceback": [
      "\u001b[0;31m---------------------------------------------------------------------------\u001b[0m",
      "\u001b[0;31mAttributeError\u001b[0m                            Traceback (most recent call last)",
      "\u001b[0;32m/var/folders/kd/y6587_tj027169vmxzn900sc0000gn/T/ipykernel_71865/3687503350.py\u001b[0m in \u001b[0;36m<module>\u001b[0;34m\u001b[0m\n\u001b[1;32m      1\u001b[0m \u001b[0mmy_list\u001b[0m \u001b[0;34m=\u001b[0m \u001b[0;34m[\u001b[0m\u001b[0;36m1\u001b[0m\u001b[0;34m,\u001b[0m \u001b[0;36m2\u001b[0m\u001b[0;34m,\u001b[0m \u001b[0;36m3\u001b[0m\u001b[0;34m,\u001b[0m \u001b[0;36m4\u001b[0m\u001b[0;34m,\u001b[0m \u001b[0;36m5\u001b[0m\u001b[0;34m,\u001b[0m \u001b[0;36m6\u001b[0m\u001b[0;34m]\u001b[0m\u001b[0;34m\u001b[0m\u001b[0;34m\u001b[0m\u001b[0m\n\u001b[1;32m      2\u001b[0m \u001b[0;34m\u001b[0m\u001b[0m\n\u001b[0;32m----> 3\u001b[0;31m \u001b[0mmy_list\u001b[0m\u001b[0;34m.\u001b[0m\u001b[0madd\u001b[0m\u001b[0;34m(\u001b[0m\u001b[0;36m7\u001b[0m\u001b[0;34m)\u001b[0m\u001b[0;34m\u001b[0m\u001b[0;34m\u001b[0m\u001b[0m\n\u001b[0m",
      "\u001b[0;31mAttributeError\u001b[0m: 'list' object has no attribute 'add'"
     ]
    }
   ],
   "source": [
    "my_list = [1, 2, 3, 4, 5, 6]\n",
    "\n",
    "my_list.add(7)"
   ]
  },
  {
   "cell_type": "code",
   "execution_count": 21,
   "id": "717eb13c",
   "metadata": {},
   "outputs": [
    {
     "ename": "AttributeError",
     "evalue": "'dict' object has no attribute 'append'",
     "output_type": "error",
     "traceback": [
      "\u001b[0;31m---------------------------------------------------------------------------\u001b[0m",
      "\u001b[0;31mAttributeError\u001b[0m                            Traceback (most recent call last)",
      "\u001b[0;32m/var/folders/kd/y6587_tj027169vmxzn900sc0000gn/T/ipykernel_71865/2598946795.py\u001b[0m in \u001b[0;36m<module>\u001b[0;34m\u001b[0m\n\u001b[1;32m      1\u001b[0m \u001b[0mmy_dict\u001b[0m \u001b[0;34m=\u001b[0m \u001b[0;34m{\u001b[0m\u001b[0;34m'a'\u001b[0m\u001b[0;34m:\u001b[0m \u001b[0;36m1\u001b[0m\u001b[0;34m,\u001b[0m \u001b[0;34m'b'\u001b[0m\u001b[0;34m:\u001b[0m \u001b[0;36m2\u001b[0m\u001b[0;34m,\u001b[0m \u001b[0;34m'c'\u001b[0m\u001b[0;34m:\u001b[0m \u001b[0;36m3\u001b[0m\u001b[0;34m}\u001b[0m\u001b[0;34m\u001b[0m\u001b[0;34m\u001b[0m\u001b[0m\n\u001b[1;32m      2\u001b[0m \u001b[0;34m\u001b[0m\u001b[0m\n\u001b[0;32m----> 3\u001b[0;31m \u001b[0mmy_dict\u001b[0m\u001b[0;34m.\u001b[0m\u001b[0mappend\u001b[0m\u001b[0;34m(\u001b[0m\u001b[0;34m'd'\u001b[0m\u001b[0;34m)\u001b[0m\u001b[0;34m\u001b[0m\u001b[0;34m\u001b[0m\u001b[0m\n\u001b[0m",
      "\u001b[0;31mAttributeError\u001b[0m: 'dict' object has no attribute 'append'"
     ]
    }
   ],
   "source": [
    "my_dict = {'a': 1, 'b': 2, 'c': 3}\n",
    "\n",
    "my_dict.append('d')"
   ]
  },
  {
   "cell_type": "code",
   "execution_count": 22,
   "id": "7cdaa88a",
   "metadata": {},
   "outputs": [
    {
     "ename": "AttributeError",
     "evalue": "'list' object has no attribute 'upper'",
     "output_type": "error",
     "traceback": [
      "\u001b[0;31m---------------------------------------------------------------------------\u001b[0m",
      "\u001b[0;31mAttributeError\u001b[0m                            Traceback (most recent call last)",
      "\u001b[0;32m/var/folders/kd/y6587_tj027169vmxzn900sc0000gn/T/ipykernel_71865/327852034.py\u001b[0m in \u001b[0;36m<module>\u001b[0;34m\u001b[0m\n\u001b[1;32m      1\u001b[0m \u001b[0mmy_list_2\u001b[0m \u001b[0;34m=\u001b[0m \u001b[0;34m[\u001b[0m\u001b[0;36m2\u001b[0m\u001b[0;34m,\u001b[0m \u001b[0;36m4\u001b[0m\u001b[0;34m,\u001b[0m \u001b[0;34m'6'\u001b[0m\u001b[0;34m,\u001b[0m \u001b[0;34m'Explorer'\u001b[0m\u001b[0;34m,\u001b[0m \u001b[0;36m5.0\u001b[0m\u001b[0;34m]\u001b[0m\u001b[0;34m\u001b[0m\u001b[0;34m\u001b[0m\u001b[0m\n\u001b[1;32m      2\u001b[0m \u001b[0;34m\u001b[0m\u001b[0m\n\u001b[0;32m----> 3\u001b[0;31m \u001b[0mmy_list_2\u001b[0m\u001b[0;34m.\u001b[0m\u001b[0mupper\u001b[0m\u001b[0;34m(\u001b[0m\u001b[0;34m)\u001b[0m\u001b[0;34m\u001b[0m\u001b[0;34m\u001b[0m\u001b[0m\n\u001b[0m",
      "\u001b[0;31mAttributeError\u001b[0m: 'list' object has no attribute 'upper'"
     ]
    }
   ],
   "source": [
    "my_list_2 = [2, 4, '6', 'Explorer', 5.0]\n",
    "\n",
    "my_list_2.upper()"
   ]
  },
  {
   "cell_type": "markdown",
   "id": "afe15a8a",
   "metadata": {},
   "source": [
    "### Some you might see a little later...\n",
    "\n",
    "- **ModuleNotFound Error** - when you start working with packages, it is important to ensure that you have installed and imported a particular package before trying to use functions from that package. A ModuleNotFound error indicates that you have not done this\n",
    "\n",
    "- **FileNotFound Error** - when we start working with datasets that we import into our Jupyter notebooks, it is important to ensure that you have loaded your data into your notebook. A FileNotFound error indicates that your data has not been loaded in - this may be due to you forgetting to write in the code to do so, or maybe your data file is not in the correct locatio."
   ]
  },
  {
   "cell_type": "code",
   "execution_count": null,
   "id": "57dd49d5",
   "metadata": {},
   "outputs": [],
   "source": []
  }
 ],
 "metadata": {
  "kernelspec": {
   "display_name": "Python 3 (ipykernel)",
   "language": "python",
   "name": "python3"
  },
  "language_info": {
   "codemirror_mode": {
    "name": "ipython",
    "version": 3
   },
   "file_extension": ".py",
   "mimetype": "text/x-python",
   "name": "python",
   "nbconvert_exporter": "python",
   "pygments_lexer": "ipython3",
   "version": "3.9.7"
  }
 },
 "nbformat": 4,
 "nbformat_minor": 5
}
