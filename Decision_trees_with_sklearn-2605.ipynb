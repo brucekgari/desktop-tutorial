{
 "cells": [
  {
   "cell_type": "markdown",
   "metadata": {},
   "source": [
    "# Decision Trees with Sklearn\n",
    "\n",
    "© Explore Data Science Academy"
   ]
  },
  {
   "cell_type": "markdown",
   "metadata": {},
   "source": [
    "## Learning Objectives\n",
    "In this train you will learn how to:\n",
    "\n",
    "- Understand Decision Tree Models for Regression; and\n",
    "- Build a Decision Tree using Sklearn.\n",
    "\n",
    "## Outline\n",
    "This train is structured as follows:\n",
    "\n",
    "- How Decision Trees Work;\n",
    "- Training a Decision Tree; and\n",
    "- Implementing Decision Trees using scikit-learn.\n"
   ]
  },
  {
   "cell_type": "markdown",
   "metadata": {},
   "source": [
    "## Introduction: How Decision Trees Work\n",
    "\n",
    "Before we build our first tree, it is worth learning a bit about _what_ they are and _how_ they work. Below is a diagram showing the conceptual structure of a decision tree.\n",
    "\n",
    "<img src=\"https://github.com/Explore-AI/Pictures/blob/master/decision_tree_diag.png?raw=true\" alt=\"Decision Tree Diagram\" align=\"left\" width=50%/>"
   ]
  },
  {
   "cell_type": "markdown",
   "metadata": {},
   "source": [
    "\n",
    "In simple terms, Decision Trees are tree-like (upside down) machine learning models which represent data by partitioning it into different sections based on questions asked of predictive variables in the data. \n",
    "\n",
    "To make a decision on a new input:\n",
    "\n",
    "1. We start at the **root node**, which is at the top of the tree;\n",
    "2. Ask questions at each **decision node** about the attributes of the input;\n",
    "3. Repeat 2. until we reach a **terminal node** (also known as a leaf node) at the bottom of the upside-down tree.\n",
    "\n",
    "\n",
    "Each terminal node in the tree contains a potential output (i.e. $Y$ value) for a given input $X$. The $Y$ value at a terminal node only becomes the output of our decision tree if the path of decisions on an input $X$ from the root node lead to that particular terminal node."
   ]
  },
  {
   "cell_type": "markdown",
   "metadata": {},
   "source": [
    "### Example\n",
    "\n",
    "Consider the following example of a new datapoint $X$ with a value of 4.5. If we wanted to predict the $Y$ value for this new datapoint, the path that the input would follow along the decision tree is shown in green below:\n",
    "\n",
    "<img src=\"https://github.com/Explore-AI/Pictures/blob/master/decision_tree_path.png?raw=true\" alt=\"Decision Tree Diagram\" align=\"left\" width=50%/> "
   ]
  },
  {
   "cell_type": "markdown",
   "metadata": {},
   "source": [
    "The new datapoint would follow the path highlighted in green shown above and would eventually be assigned a value of $Y = 2$.   \n",
    "\n",
    "Okay great, so we now know how to _use_ a decision tree. But where did the values of the split points come from, and how do we know how many 'branches' the tree should have?"
   ]
  },
  {
   "cell_type": "markdown",
   "metadata": {},
   "source": [
    "## Training a Decision Tree\n",
    "In the decision process, datapoints start at the root node and end at a terminal node. The training process follows the same pattern.   \n",
    "\n",
    "In training a decision tree, we begin with all of our training data at the root node and then partition the data into smaller subsets which form the 'branches' of the tree.   \n",
    "\n",
    "When partitioning the data, two questions need to be answered:\n",
    "\n",
    "1. Which predictor variable should be used as the split criterion?\n",
    "\n",
    "2. What value of the predictor variable should be used as the splitting point?"
   ]
  },
  {
   "cell_type": "markdown",
   "metadata": {},
   "source": [
    "### Partitioning\n",
    "\n",
    "Partitioning happens at each node in a regression tree using an algorithm known as **recursive binary splitting** which uses the following logic:\n",
    "\n",
    "1. **For** each predictor variable **do**: \n",
    "\n",
    "    1.1. Consider all possible binary data splits, i.e.: \n",
    "    \n",
    "    (the following table is written in Python slicing syntax. For example, x[:1], x[2:] implies splitting the variable x between the first and second positions).\n",
    "    \n",
    "| Left split             | Right split            |\n",
    "|------------------------|------------------------|\n",
    "| x[0]                   | x[1:]                  |\n",
    "| x[:1]                  | x[2:]                  |\n",
    "| x[:2]                  | x[3:]                  |\n",
    "| $  \\qquad \\huge \\dots$ | $  \\qquad \\huge \\dots$ |\n",
    "| x[:-2]                 | x[-1]                  |\n",
    "    \n",
    "   2.1. Select data split with **best** separation of data, as shown in the figure below.\n",
    "  "
   ]
  },
  {
   "cell_type": "markdown",
   "metadata": {},
   "source": [
    "<img src=\"https://github.com/Explore-AI/Pictures/blob/master/splitting_1.png?raw=true\" align=\"left\" alt=\"Decision Tree Diagram\" width=50% />"
   ]
  },
  {
   "cell_type": "markdown",
   "metadata": {},
   "source": [
    "_The best split point is chosen on its ability to separate the data. On either side of the split point (i.e. at a particular value of that predictor variable), all datapoints' $y$ values are compared to the mean $y$ value of that subset and this is used to calculate the **mean squared error** (MSE). The best split point is the one which minimises the MSE on both sides._   "
   ]
  },
  {
   "cell_type": "markdown",
   "metadata": {},
   "source": [
    "2. Compare the best splits across all predictive variables and pick the **best**;\n",
    "\n",
    "3. Divide data into 2 subsets based on the selected split;\n",
    "\n",
    "4. Repeat steps 1-3 for all subsets until some desired ending criteria has been reached."
   ]
  },
  {
   "cell_type": "markdown",
   "metadata": {},
   "source": [
    "After a number of splits, the final partitions might look something like the diagram below:"
   ]
  },
  {
   "cell_type": "markdown",
   "metadata": {},
   "source": [
    "<img src=\"https://github.com/Explore-AI/Pictures/blob/master/splitting_2.png?raw=true\" align=\"left\" alt=\"Decision Tree Diagram\" width=50% />"
   ]
  },
  {
   "cell_type": "markdown",
   "metadata": {},
   "source": [
    "## Build a Decision Tree using scikit-learn\n",
    "---\n",
    "So now that we have an understanding of how decision trees work, let's implement one using scikit-learn.   "
   ]
  },
  {
   "cell_type": "markdown",
   "metadata": {},
   "source": [
    "Suppose we are tasked with the problem of predicting the price of a house given its area. "
   ]
  },
  {
   "cell_type": "markdown",
   "metadata": {},
   "source": [
    "<img src=\"https://github.com/Explore-AI/Public-Data/blob/master/house_price.png?raw=true\" width=40% align=\"left\"/>"
   ]
  },
  {
   "cell_type": "markdown",
   "metadata": {},
   "source": [
    "We'll start by importing some commonly used Python libraries and loading our data:"
   ]
  },
  {
   "cell_type": "code",
   "execution_count": 1,
   "metadata": {},
   "outputs": [],
   "source": [
    "import numpy as np  # used for mathematical operations\n",
    "import pandas as pd  # for loading CSV data\n",
    "import matplotlib.pyplot as plt  # for plotting data"
   ]
  },
  {
   "cell_type": "code",
   "execution_count": 2,
   "metadata": {},
   "outputs": [
    {
     "data": {
      "text/html": [
       "<div>\n",
       "<style scoped>\n",
       "    .dataframe tbody tr th:only-of-type {\n",
       "        vertical-align: middle;\n",
       "    }\n",
       "\n",
       "    .dataframe tbody tr th {\n",
       "        vertical-align: top;\n",
       "    }\n",
       "\n",
       "    .dataframe thead th {\n",
       "        text-align: right;\n",
       "    }\n",
       "</style>\n",
       "<table border=\"1\" class=\"dataframe\">\n",
       "  <thead>\n",
       "    <tr style=\"text-align: right;\">\n",
       "      <th></th>\n",
       "      <th>LotArea</th>\n",
       "      <th>SalePrice</th>\n",
       "    </tr>\n",
       "  </thead>\n",
       "  <tbody>\n",
       "    <tr>\n",
       "      <td>0</td>\n",
       "      <td>138</td>\n",
       "      <td>1204000</td>\n",
       "    </tr>\n",
       "    <tr>\n",
       "      <td>1</td>\n",
       "      <td>145</td>\n",
       "      <td>1274000</td>\n",
       "    </tr>\n",
       "    <tr>\n",
       "      <td>2</td>\n",
       "      <td>152</td>\n",
       "      <td>1673000</td>\n",
       "    </tr>\n",
       "    <tr>\n",
       "      <td>3</td>\n",
       "      <td>152</td>\n",
       "      <td>1232000</td>\n",
       "    </tr>\n",
       "    <tr>\n",
       "      <td>4</td>\n",
       "      <td>152</td>\n",
       "      <td>1195600</td>\n",
       "    </tr>\n",
       "  </tbody>\n",
       "</table>\n",
       "</div>"
      ],
      "text/plain": [
       "   LotArea  SalePrice\n",
       "0      138    1204000\n",
       "1      145    1274000\n",
       "2      152    1673000\n",
       "3      152    1232000\n",
       "4      152    1195600"
      ]
     },
     "execution_count": 2,
     "metadata": {},
     "output_type": "execute_result"
    }
   ],
   "source": [
    "df = pd.read_csv(\"https://github.com/Explore-AI/Public-Data/blob/master/house_price_by_area.csv?raw=true\")\n",
    "df.head()"
   ]
  },
  {
   "cell_type": "markdown",
   "metadata": {},
   "source": [
    "The data we will be working with here consists of two variables:\n",
    " * `LotArea` in m$^{2}$\n",
    " * `SalePrice` in Rands\n",
    " \n",
    "We will be using the value of `LotArea` (independent variable) to try and predict the `SalePrice` (dependent variable).   \n",
    "\n",
    "Let's take a look at the data using `matplotlib`:"
   ]
  },
  {
   "cell_type": "code",
   "execution_count": 3,
   "metadata": {},
   "outputs": [
    {
     "data": {
      "image/png": "[encoded data removed]",
      "text/plain": [
       "<Figure size 432x288 with 1 Axes>"
      ]
     },
     "metadata": {
      "needs_background": "light"
     },
     "output_type": "display_data"
    }
   ],
   "source": [
    "X = df[\"LotArea\"] # independent variable\n",
    "y = df[\"SalePrice\"] # dependent variable\n",
    "\n",
    "plt.scatter(X,y) # create scatter plot\n",
    "plt.title(\"House Price vs Area\")\n",
    "plt.xlabel(\"Lot Area in m$^2$\")\n",
    "plt.ylabel(\"Sale Price in Rands\")\n",
    "plt.show()"
   ]
  },
  {
   "cell_type": "markdown",
   "metadata": {},
   "source": [
    "### Train-test split\n",
    "Next we split out dataset into training and testing sets so that we can later evaluate the performance of model."
   ]
  },
  {
   "cell_type": "code",
   "execution_count": 4,
   "metadata": {},
   "outputs": [],
   "source": [
    "from sklearn.model_selection import train_test_split"
   ]
  },
  {
   "cell_type": "code",
   "execution_count": 5,
   "metadata": {},
   "outputs": [],
   "source": [
    "# set test size to 20 % of training data\n",
    "x_train, x_test, y_train, y_test = train_test_split(X[:,np.newaxis],y,test_size=0.2,random_state=42)"
   ]
  },
  {
   "cell_type": "markdown",
   "metadata": {},
   "source": [
    "### Building the Decision Tree"
   ]
  },
  {
   "cell_type": "code",
   "execution_count": 6,
   "metadata": {},
   "outputs": [],
   "source": [
    "from sklearn.tree import DecisionTreeRegressor"
   ]
  },
  {
   "cell_type": "markdown",
   "metadata": {},
   "source": [
    "After importing our Decision Tree Regressor model, we have to instantiate the model. This step also allows us to set model hyperparameters such as:\n",
    "\n",
    "- **max_depth**: The maximum depth of the tree (i.e. the number of nodes between root and leaf node);\n",
    "- **criterion**: The function to measure the quality of a split. The model uses the Mean Square Error (mse) by default;\n",
    "- **random_state**: A number used to seed the random number generator. Ensures that we get the same tree each time we call model.fit(); among other hyperparameters.\n",
    "\n",
    "To learn more about other DecisionTreeRegressor hyperparameters, run `help(DecisionTreeRegressor)` in a new cell."
   ]
  },
  {
   "cell_type": "code",
   "execution_count": 7,
   "metadata": {},
   "outputs": [],
   "source": [
    "# Instantiate regression tree model\n",
    "regr_tree = DecisionTreeRegressor(max_depth=2,random_state=42)"
   ]
  },
  {
   "cell_type": "markdown",
   "metadata": {},
   "source": [
    "As with most Sklearn models, we call the `.fit()` to train our model."
   ]
  },
  {
   "cell_type": "code",
   "execution_count": 8,
   "metadata": {},
   "outputs": [
    {
     "data": {
      "text/plain": [
       "DecisionTreeRegressor(ccp_alpha=0.0, criterion='mse', max_depth=2,\n",
       "                      max_features=None, max_leaf_nodes=None,\n",
       "                      min_impurity_decrease=0.0, min_impurity_split=None,\n",
       "                      min_samples_leaf=1, min_samples_split=2,\n",
       "                      min_weight_fraction_leaf=0.0, presort='deprecated',\n",
       "                      random_state=42, splitter='best')"
      ]
     },
     "execution_count": 8,
     "metadata": {},
     "output_type": "execute_result"
    }
   ],
   "source": [
    "regr_tree.fit(x_train,y_train)"
   ]
  },
  {
   "cell_type": "markdown",
   "metadata": {},
   "source": [
    "`sklearn` recently implemented a neat feature for the visualisaton of a fitted tree. We can access it by importing the `plot_tree` method from the the `sklearn.tree` submodule. Take note of the split points for the `LotArea` variable, as well as the MSE values and the number of samples in each subset."
   ]
  },
  {
   "cell_type": "code",
   "execution_count": 9,
   "metadata": {},
   "outputs": [],
   "source": [
    "from sklearn.tree import plot_tree"
   ]
  },
  {
   "cell_type": "code",
   "execution_count": 10,
   "metadata": {},
   "outputs": [
    {
     "data": {
      "image/png": "[encoded data removed]",
      "text/plain": [
       "<Figure size 648x648 with 1 Axes>"
      ]
     },
     "metadata": {
      "needs_background": "light"
     },
     "output_type": "display_data"
    }
   ],
   "source": [
    "plt.figure(figsize=(9,9))\n",
    "# assigned a random variable name to the plot to suppress text output\n",
    "_ = plot_tree(regr_tree, feature_names=['LotArea'],  filled=True)"
   ]
  },
  {
   "cell_type": "markdown",
   "metadata": {},
   "source": [
    "At this point, we have a fully-trained decision tree model and can easily make predictions by calling the `.predict` method."
   ]
  },
  {
   "cell_type": "markdown",
   "metadata": {},
   "source": [
    "### Evaluating Model Performance"
   ]
  },
  {
   "cell_type": "code",
   "execution_count": 11,
   "metadata": {},
   "outputs": [],
   "source": [
    "from sklearn.metrics import mean_squared_error"
   ]
  },
  {
   "cell_type": "markdown",
   "metadata": {},
   "source": [
    "We evaluate model performance by calculating how close its predictions on the unseen `x_test` observations are to the actual output `y_test`."
   ]
  },
  {
   "cell_type": "code",
   "execution_count": 12,
   "metadata": {},
   "outputs": [
    {
     "name": "stdout",
     "output_type": "stream",
     "text": [
      "Regression Decision Tree model RMSE is: 625573.2843752672\n"
     ]
    }
   ],
   "source": [
    "# get predictions for test data\n",
    "y_pred = regr_tree.predict(x_test)\n",
    "\n",
    "# calculate MSE\n",
    "MSE = mean_squared_error(y_pred,y_test)\n",
    "\n",
    "# Report RMSE\n",
    "print(\"Regression Decision Tree model RMSE is:\",np.sqrt(MSE))"
   ]
  },
  {
   "cell_type": "markdown",
   "metadata": {},
   "source": [
    "### Visualising Model Output\n",
    "\n",
    "One way to visualise a regression decision tree model is to ask it for predictions $\\hat{y}$ on a given domain $x$ and then plot the resulting line.\n",
    "In this case, we let our domain be a set of equidistant points on the $x$-axis starting from the minimum $x$-value in the data to the maximum $x$-value in the data."
   ]
  },
  {
   "cell_type": "code",
   "execution_count": 13,
   "metadata": {},
   "outputs": [],
   "source": [
    "x_domain = np.linspace(min(X), max(X), 100)[:, np.newaxis] "
   ]
  },
  {
   "cell_type": "code",
   "execution_count": 14,
   "metadata": {},
   "outputs": [],
   "source": [
    "# predict y for every point in x-domain\n",
    "y_predictions = regr_tree.predict(x_domain)"
   ]
  },
  {
   "cell_type": "code",
   "execution_count": 15,
   "metadata": {},
   "outputs": [
    {
     "data": {
      "image/png": "[encoded data removed]",
      "text/plain": [
       "<Figure size 432x288 with 1 Axes>"
      ]
     },
     "metadata": {
      "needs_background": "light"
     },
     "output_type": "display_data"
    }
   ],
   "source": [
    "# plot the regression tree line over data\n",
    "plt.figure()\n",
    "plt.scatter(X, y)\n",
    "plt.plot(x_domain, y_predictions, color=\"red\", label='predictions')\n",
    "plt.xlabel(\"LotArea in m$^2$\")\n",
    "plt.ylabel(\"SalePrice in Rands\")\n",
    "plt.title(\"Decision Tree Regression\")\n",
    "plt.legend()\n",
    "plt.show()"
   ]
  },
  {
   "cell_type": "markdown",
   "metadata": {},
   "source": [
    "### Exercise\n",
    "\n",
    "In your own time, and consulting the trains we have already covered, we encourage you to attempt the following:\n",
    "\n",
    "1. Fit a Linear regression model using the given data i.e. (x_train, y_train);\n",
    "2. Calculate the RMSE performance metric for your linear regression model and compare with the RMSE for the decision tree obtained above;\n",
    "3. Plot the linear regression model, decision tree, and data in the same matplotlib figure."
   ]
  },
  {
   "cell_type": "markdown",
   "metadata": {},
   "source": [
    "### Advantages and Disadvantages of Decision trees\n",
    "\n",
    "Advantages:\n",
    "\n",
    "- Easy to use and understand\n",
    "- Can handle both categorical and numerical data\n",
    "- Resistant to outliers, requires little data preprocessing\n",
    "- New features can be easily added - Can be used to build larger classifiers by using ensemble methods\n",
    "\n",
    "Disadvantages:\n",
    "\n",
    "- Prone to overfitting\n",
    "- Need to be careful with parameter tuning - Can create biased learned trees if some classes dominate."
   ]
  },
  {
   "cell_type": "markdown",
   "metadata": {},
   "source": [
    "## Conclusion\n",
    "In this train we learned the fundamentals of decision trees. How to build a decision tree using Sklearn. We also learned how to use decision trees for regression.\n"
   ]
  },
  {
   "cell_type": "markdown",
   "metadata": {},
   "source": [
    "## Additional links\n",
    "Links to additional resources to help with the understanding of concepts presented in the train: \n",
    "\n",
    "- [Regression Trees StatQuest](https://youtu.be/g9c66TUylZ4)"
   ]
  }
 ],
 "metadata": {
  "kernelspec": {
   "display_name": "Python 3",
   "language": "python",
   "name": "python3"
  },
  "language_info": {
   "codemirror_mode": {
    "name": "ipython",
    "version": 3
   },
   "file_extension": ".py",
   "mimetype": "text/x-python",
   "name": "python",
   "nbconvert_exporter": "python",
   "pygments_lexer": "ipython3",
   "version": "3.7.4"
  }
 },
 "nbformat": 4,
 "nbformat_minor": 4
}
