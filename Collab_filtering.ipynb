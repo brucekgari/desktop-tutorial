{
 "cells": [
  {
   "cell_type": "markdown",
   "metadata": {
    "id": "lF6lA--aLmH9"
   },
   "source": [
    "# Collaborative filtering\n",
    "\n",
    "In this notebook, we look through the code detailed in your trains around creating collaborative recommender functions.\n",
    "\n",
    "**NOTE**: the functions and most code in this notebook are exactly the same as what appears in the trains. All we have done here is broken down the functions into pieces like in the webinars to demonstrate how each piece fits together."
   ]
  },
  {
   "cell_type": "code",
   "execution_count": 16,
   "metadata": {
    "id": "jpzvC_rcok7e"
   },
   "outputs": [],
   "source": [
    "# Import our regular old heroes\n",
    "import numpy as np\n",
    "import pandas as pd\n",
    "import scipy as sp # <-- The sister of Numpy, used in our code for numerical efficientcy.\n",
    "import matplotlib.pyplot as plt\n",
    "import seaborn as sns\n",
    "\n",
    "# Entity featurization and similarity computation\n",
    "from sklearn.metrics.pairwise import cosine_similarity\n",
    "from sklearn.feature_extraction.text import TfidfVectorizer\n",
    "\n",
    "# Libraries used during sorting procedures.\n",
    "import operator # <-- Convienient item retrieval during iteration\n",
    "import heapq # <-- Efficient sorting of large lists\n",
    "\n",
    "# Imported for our sanity\n",
    "import warnings\n",
    "warnings.filterwarnings('ignore')"
   ]
  },
  {
   "cell_type": "markdown",
   "metadata": {},
   "source": [
    "---"
   ]
  },
  {
   "cell_type": "markdown",
   "metadata": {
    "id": "EgVbDSBmLsS3"
   },
   "source": [
    "## Read in our data\n",
    "\n",
    "Note here how we're only loading in one dataframe - in contrast to content-based filtering, we don't need all the information about the different books. We only need information about the user IDs, item IDs (and titles in this case, for ease of identification), and the user's ratings:"
   ]
  },
  {
   "cell_type": "code",
   "execution_count": 17,
   "metadata": {
    "colab": {
     "base_uri": "https://localhost:8080/",
     "height": 206
    },
    "id": "aV1GMPYbop2U",
    "outputId": "a24869a4-201c-4c3a-d95f-5043aff46e6b"
   },
   "outputs": [
    {
     "data": {
      "application/vnd.google.colaboratory.intrinsic+json": {
       "summary": "{\n  \"name\": \"book_ratings\",\n  \"rows\": 79701,\n  \"fields\": [\n    {\n      \"column\": \"user_id\",\n      \"properties\": {\n        \"dtype\": \"number\",\n        \"std\": 15160,\n        \"min\": 2,\n        \"max\": 53424,\n        \"num_unique_values\": 28906,\n        \"samples\": [\n          20354,\n          23323,\n          3439\n        ],\n        \"semantic_type\": \"\",\n        \"description\": \"\"\n      }\n    },\n    {\n      \"column\": \"book_id\",\n      \"properties\": {\n        \"dtype\": \"number\",\n        \"std\": 2814,\n        \"min\": 1,\n        \"max\": 9998,\n        \"num_unique_values\": 812,\n        \"samples\": [\n          3466,\n          6750,\n          3109\n        ],\n        \"semantic_type\": \"\",\n        \"description\": \"\"\n      }\n    },\n    {\n      \"column\": \"title\",\n      \"properties\": {\n        \"dtype\": \"category\",\n        \"num_unique_values\": 812,\n        \"samples\": [\n          \"The Wedding (The Notebook, #2)\",\n          \"The Broom of the System\",\n          \"The Omnivore's Dilemma: A Natural History of Four Meals\"\n        ],\n        \"semantic_type\": \"\",\n        \"description\": \"\"\n      }\n    },\n    {\n      \"column\": \"rating\",\n      \"properties\": {\n        \"dtype\": \"number\",\n        \"std\": 0,\n        \"min\": 1,\n        \"max\": 5,\n        \"num_unique_values\": 5,\n        \"samples\": [\n          3,\n          2,\n          4\n        ],\n        \"semantic_type\": \"\",\n        \"description\": \"\"\n      }\n    }\n  ]\n}",
       "type": "dataframe",
       "variable_name": "book_ratings"
      },
      "text/html": [
       "\n",
       "  <div id=\"df-0f0cfa33-d010-42f8-9664-64a82978e246\" class=\"colab-df-container\">\n",
       "    <div>\n",
       "<style scoped>\n",
       "    .dataframe tbody tr th:only-of-type {\n",
       "        vertical-align: middle;\n",
       "    }\n",
       "\n",
       "    .dataframe tbody tr th {\n",
       "        vertical-align: top;\n",
       "    }\n",
       "\n",
       "    .dataframe thead th {\n",
       "        text-align: right;\n",
       "    }\n",
       "</style>\n",
       "<table border=\"1\" class=\"dataframe\">\n",
       "  <thead>\n",
       "    <tr style=\"text-align: right;\">\n",
       "      <th></th>\n",
       "      <th>user_id</th>\n",
       "      <th>book_id</th>\n",
       "      <th>title</th>\n",
       "      <th>rating</th>\n",
       "    </tr>\n",
       "  </thead>\n",
       "  <tbody>\n",
       "    <tr>\n",
       "      <th>0</th>\n",
       "      <td>314</td>\n",
       "      <td>1</td>\n",
       "      <td>Harry Potter and the Half-Blood Prince (Harry ...</td>\n",
       "      <td>5</td>\n",
       "    </tr>\n",
       "    <tr>\n",
       "      <th>1</th>\n",
       "      <td>439</td>\n",
       "      <td>1</td>\n",
       "      <td>Harry Potter and the Half-Blood Prince (Harry ...</td>\n",
       "      <td>3</td>\n",
       "    </tr>\n",
       "    <tr>\n",
       "      <th>2</th>\n",
       "      <td>588</td>\n",
       "      <td>1</td>\n",
       "      <td>Harry Potter and the Half-Blood Prince (Harry ...</td>\n",
       "      <td>5</td>\n",
       "    </tr>\n",
       "    <tr>\n",
       "      <th>3</th>\n",
       "      <td>1169</td>\n",
       "      <td>1</td>\n",
       "      <td>Harry Potter and the Half-Blood Prince (Harry ...</td>\n",
       "      <td>4</td>\n",
       "    </tr>\n",
       "    <tr>\n",
       "      <th>4</th>\n",
       "      <td>1185</td>\n",
       "      <td>1</td>\n",
       "      <td>Harry Potter and the Half-Blood Prince (Harry ...</td>\n",
       "      <td>4</td>\n",
       "    </tr>\n",
       "  </tbody>\n",
       "</table>\n",
       "</div>\n",
       "    <div class=\"colab-df-buttons\">\n",
       "\n",
       "  <div class=\"colab-df-container\">\n",
       "    <button class=\"colab-df-convert\" onclick=\"convertToInteractive('df-0f0cfa33-d010-42f8-9664-64a82978e246')\"\n",
       "            title=\"Convert this dataframe to an interactive table.\"\n",
       "            style=\"display:none;\">\n",
       "\n",
       "  <svg xmlns=\"http://www.w3.org/2000/svg\" height=\"24px\" viewBox=\"0 -960 960 960\">\n",
       "    <path d=\"M120-120v-720h720v720H120Zm60-500h600v-160H180v160Zm220 220h160v-160H400v160Zm0 220h160v-160H400v160ZM180-400h160v-160H180v160Zm440 0h160v-160H620v160ZM180-180h160v-160H180v160Zm440 0h160v-160H620v160Z\"/>\n",
       "  </svg>\n",
       "    </button>\n",
       "\n",
       "  <style>\n",
       "    .colab-df-container {\n",
       "      display:flex;\n",
       "      gap: 12px;\n",
       "    }\n",
       "\n",
       "    .colab-df-convert {\n",
       "      background-color: #E8F0FE;\n",
       "      border: none;\n",
       "      border-radius: 50%;\n",
       "      cursor: pointer;\n",
       "      display: none;\n",
       "      fill: #1967D2;\n",
       "      height: 32px;\n",
       "      padding: 0 0 0 0;\n",
       "      width: 32px;\n",
       "    }\n",
       "\n",
       "    .colab-df-convert:hover {\n",
       "      background-color: #E2EBFA;\n",
       "      box-shadow: 0px 1px 2px rgba(60, 64, 67, 0.3), 0px 1px 3px 1px rgba(60, 64, 67, 0.15);\n",
       "      fill: #174EA6;\n",
       "    }\n",
       "\n",
       "    .colab-df-buttons div {\n",
       "      margin-bottom: 4px;\n",
       "    }\n",
       "\n",
       "    [theme=dark] .colab-df-convert {\n",
       "      background-color: #3B4455;\n",
       "      fill: #D2E3FC;\n",
       "    }\n",
       "\n",
       "    [theme=dark] .colab-df-convert:hover {\n",
       "      background-color: #434B5C;\n",
       "      box-shadow: 0px 1px 3px 1px rgba(0, 0, 0, 0.15);\n",
       "      filter: drop-shadow(0px 1px 2px rgba(0, 0, 0, 0.3));\n",
       "      fill: #FFFFFF;\n",
       "    }\n",
       "  </style>\n",
       "\n",
       "    <script>\n",
       "      const buttonEl =\n",
       "        document.querySelector('#df-0f0cfa33-d010-42f8-9664-64a82978e246 button.colab-df-convert');\n",
       "      buttonEl.style.display =\n",
       "        google.colab.kernel.accessAllowed ? 'block' : 'none';\n",
       "\n",
       "      async function convertToInteractive(key) {\n",
       "        const element = document.querySelector('#df-0f0cfa33-d010-42f8-9664-64a82978e246');\n",
       "        const dataTable =\n",
       "          await google.colab.kernel.invokeFunction('convertToInteractive',\n",
       "                                                    [key], {});\n",
       "        if (!dataTable) return;\n",
       "\n",
       "        const docLinkHtml = 'Like what you see? Visit the ' +\n",
       "          '<a target=\"_blank\" href=https://colab.research.google.com/notebooks/data_table.ipynb>data table notebook</a>'\n",
       "          + ' to learn more about interactive tables.';\n",
       "        element.innerHTML = '';\n",
       "        dataTable['output_type'] = 'display_data';\n",
       "        await google.colab.output.renderOutput(dataTable, element);\n",
       "        const docLink = document.createElement('div');\n",
       "        docLink.innerHTML = docLinkHtml;\n",
       "        element.appendChild(docLink);\n",
       "      }\n",
       "    </script>\n",
       "  </div>\n",
       "\n",
       "\n",
       "<div id=\"df-b033d18b-02e2-4ae3-a2c9-56b469b8030b\">\n",
       "  <button class=\"colab-df-quickchart\" onclick=\"quickchart('df-b033d18b-02e2-4ae3-a2c9-56b469b8030b')\"\n",
       "            title=\"Suggest charts\"\n",
       "            style=\"display:none;\">\n",
       "\n",
       "<svg xmlns=\"http://www.w3.org/2000/svg\" height=\"24px\"viewBox=\"0 0 24 24\"\n",
       "     width=\"24px\">\n",
       "    <g>\n",
       "        <path d=\"M19 3H5c-1.1 0-2 .9-2 2v14c0 1.1.9 2 2 2h14c1.1 0 2-.9 2-2V5c0-1.1-.9-2-2-2zM9 17H7v-7h2v7zm4 0h-2V7h2v10zm4 0h-2v-4h2v4z\"/>\n",
       "    </g>\n",
       "</svg>\n",
       "  </button>\n",
       "\n",
       "<style>\n",
       "  .colab-df-quickchart {\n",
       "      --bg-color: #E8F0FE;\n",
       "      --fill-color: #1967D2;\n",
       "      --hover-bg-color: #E2EBFA;\n",
       "      --hover-fill-color: #174EA6;\n",
       "      --disabled-fill-color: #AAA;\n",
       "      --disabled-bg-color: #DDD;\n",
       "  }\n",
       "\n",
       "  [theme=dark] .colab-df-quickchart {\n",
       "      --bg-color: #3B4455;\n",
       "      --fill-color: #D2E3FC;\n",
       "      --hover-bg-color: #434B5C;\n",
       "      --hover-fill-color: #FFFFFF;\n",
       "      --disabled-bg-color: #3B4455;\n",
       "      --disabled-fill-color: #666;\n",
       "  }\n",
       "\n",
       "  .colab-df-quickchart {\n",
       "    background-color: var(--bg-color);\n",
       "    border: none;\n",
       "    border-radius: 50%;\n",
       "    cursor: pointer;\n",
       "    display: none;\n",
       "    fill: var(--fill-color);\n",
       "    height: 32px;\n",
       "    padding: 0;\n",
       "    width: 32px;\n",
       "  }\n",
       "\n",
       "  .colab-df-quickchart:hover {\n",
       "    background-color: var(--hover-bg-color);\n",
       "    box-shadow: 0 1px 2px rgba(60, 64, 67, 0.3), 0 1px 3px 1px rgba(60, 64, 67, 0.15);\n",
       "    fill: var(--button-hover-fill-color);\n",
       "  }\n",
       "\n",
       "  .colab-df-quickchart-complete:disabled,\n",
       "  .colab-df-quickchart-complete:disabled:hover {\n",
       "    background-color: var(--disabled-bg-color);\n",
       "    fill: var(--disabled-fill-color);\n",
       "    box-shadow: none;\n",
       "  }\n",
       "\n",
       "  .colab-df-spinner {\n",
       "    border: 2px solid var(--fill-color);\n",
       "    border-color: transparent;\n",
       "    border-bottom-color: var(--fill-color);\n",
       "    animation:\n",
       "      spin 1s steps(1) infinite;\n",
       "  }\n",
       "\n",
       "  @keyframes spin {\n",
       "    0% {\n",
       "      border-color: transparent;\n",
       "      border-bottom-color: var(--fill-color);\n",
       "      border-left-color: var(--fill-color);\n",
       "    }\n",
       "    20% {\n",
       "      border-color: transparent;\n",
       "      border-left-color: var(--fill-color);\n",
       "      border-top-color: var(--fill-color);\n",
       "    }\n",
       "    30% {\n",
       "      border-color: transparent;\n",
       "      border-left-color: var(--fill-color);\n",
       "      border-top-color: var(--fill-color);\n",
       "      border-right-color: var(--fill-color);\n",
       "    }\n",
       "    40% {\n",
       "      border-color: transparent;\n",
       "      border-right-color: var(--fill-color);\n",
       "      border-top-color: var(--fill-color);\n",
       "    }\n",
       "    60% {\n",
       "      border-color: transparent;\n",
       "      border-right-color: var(--fill-color);\n",
       "    }\n",
       "    80% {\n",
       "      border-color: transparent;\n",
       "      border-right-color: var(--fill-color);\n",
       "      border-bottom-color: var(--fill-color);\n",
       "    }\n",
       "    90% {\n",
       "      border-color: transparent;\n",
       "      border-bottom-color: var(--fill-color);\n",
       "    }\n",
       "  }\n",
       "</style>\n",
       "\n",
       "  <script>\n",
       "    async function quickchart(key) {\n",
       "      const quickchartButtonEl =\n",
       "        document.querySelector('#' + key + ' button');\n",
       "      quickchartButtonEl.disabled = true;  // To prevent multiple clicks.\n",
       "      quickchartButtonEl.classList.add('colab-df-spinner');\n",
       "      try {\n",
       "        const charts = await google.colab.kernel.invokeFunction(\n",
       "            'suggestCharts', [key], {});\n",
       "      } catch (error) {\n",
       "        console.error('Error during call to suggestCharts:', error);\n",
       "      }\n",
       "      quickchartButtonEl.classList.remove('colab-df-spinner');\n",
       "      quickchartButtonEl.classList.add('colab-df-quickchart-complete');\n",
       "    }\n",
       "    (() => {\n",
       "      let quickchartButtonEl =\n",
       "        document.querySelector('#df-b033d18b-02e2-4ae3-a2c9-56b469b8030b button');\n",
       "      quickchartButtonEl.style.display =\n",
       "        google.colab.kernel.accessAllowed ? 'block' : 'none';\n",
       "    })();\n",
       "  </script>\n",
       "</div>\n",
       "    </div>\n",
       "  </div>\n"
      ],
      "text/plain": [
       "   user_id  book_id                                              title  rating\n",
       "0      314        1  Harry Potter and the Half-Blood Prince (Harry ...       5\n",
       "1      439        1  Harry Potter and the Half-Blood Prince (Harry ...       3\n",
       "2      588        1  Harry Potter and the Half-Blood Prince (Harry ...       5\n",
       "3     1169        1  Harry Potter and the Half-Blood Prince (Harry ...       4\n",
       "4     1185        1  Harry Potter and the Half-Blood Prince (Harry ...       4"
      ]
     },
     "execution_count": 17,
     "metadata": {},
     "output_type": "execute_result"
    }
   ],
   "source": [
    "book_ratings = pd.read_csv('https://raw.githubusercontent.com/Explore-AI/Public-Data/master/Data/unsupervised_sprint/book_ratings.csv')\n",
    "book_ratings.head()"
   ]
  },
  {
   "cell_type": "markdown",
   "metadata": {
    "id": "Hwv-PiwTMyk2"
   },
   "source": [
    "We create a utility matrix, by applying the `.pivot_table` method to our dataframe. We use our `user_id` on the index, `title` on the columns and `ratings` as the values in the cells. This utility matrix is what we will create our simialrity matrix from.\n",
    "\n",
    "*Note that we used `title` instead of `book_id` as our columns - this is for easier identification of the books.*"
   ]
  },
  {
   "cell_type": "code",
   "execution_count": 18,
   "metadata": {
    "colab": {
     "base_uri": "https://localhost:8080/"
    },
    "id": "ymkiup0uorSi",
    "outputId": "c4393199-045b-4897-a99c-f4c2e0d54633"
   },
   "outputs": [
    {
     "data": {
      "text/plain": [
       "(28906, 812)"
      ]
     },
     "execution_count": 18,
     "metadata": {},
     "output_type": "execute_result"
    }
   ],
   "source": [
    "util_matrix = book_ratings.pivot_table(index=['user_id'],\n",
    "                                       columns=['title'],\n",
    "                                       values='rating')\n",
    "util_matrix.shape"
   ]
  },
  {
   "cell_type": "markdown",
   "metadata": {
    "id": "AP7NDQpPSuzU"
   },
   "source": [
    "Our utility matrix will inherently be sparse - not every user will have rated every single item in our system, and not every item will have been rated. Hence, you will see a lot of NaNs in the utility matrix:"
   ]
  },
  {
   "cell_type": "code",
   "execution_count": 19,
   "metadata": {
    "colab": {
     "base_uri": "https://localhost:8080/",
     "height": 391
    },
    "id": "9cCY4ocNQwHl",
    "outputId": "ca305352-4f39-46de-cfdc-6381efb72638"
   },
   "outputs": [
    {
     "data": {
      "application/vnd.google.colaboratory.intrinsic+json": {
       "type": "dataframe",
       "variable_name": "util_matrix"
      },
      "text/html": [
       "\n",
       "  <div id=\"df-52367ebb-4540-4695-88b8-227876070464\" class=\"colab-df-container\">\n",
       "    <div>\n",
       "<style scoped>\n",
       "    .dataframe tbody tr th:only-of-type {\n",
       "        vertical-align: middle;\n",
       "    }\n",
       "\n",
       "    .dataframe tbody tr th {\n",
       "        vertical-align: top;\n",
       "    }\n",
       "\n",
       "    .dataframe thead th {\n",
       "        text-align: right;\n",
       "    }\n",
       "</style>\n",
       "<table border=\"1\" class=\"dataframe\">\n",
       "  <thead>\n",
       "    <tr style=\"text-align: right;\">\n",
       "      <th>title</th>\n",
       "      <th>'Salem's Lot</th>\n",
       "      <th>'Tis (Frank McCourt, #2)</th>\n",
       "      <th>1421: The Year China Discovered America</th>\n",
       "      <th>1776</th>\n",
       "      <th>1984</th>\n",
       "      <th>A Bend in the River</th>\n",
       "      <th>A Bend in the Road</th>\n",
       "      <th>A Brief History of Time</th>\n",
       "      <th>A Briefer History of Time</th>\n",
       "      <th>A Case of Need</th>\n",
       "      <th>...</th>\n",
       "      <th>Women in Love (Brangwen Family, #2)</th>\n",
       "      <th>World War Z: An Oral History of the Zombie War</th>\n",
       "      <th>World Without End (The Kingsbridge Series, #2)</th>\n",
       "      <th>Wuthering Heights</th>\n",
       "      <th>Xenocide (Ender's Saga, #3)</th>\n",
       "      <th>Year of Wonders</th>\n",
       "      <th>You Shall Know Our Velocity!</th>\n",
       "      <th>Zen and the Art of Motorcycle Maintenance: An Inquiry Into Values</th>\n",
       "      <th>Zodiac</th>\n",
       "      <th>number9dream</th>\n",
       "    </tr>\n",
       "    <tr>\n",
       "      <th>user_id</th>\n",
       "      <th></th>\n",
       "      <th></th>\n",
       "      <th></th>\n",
       "      <th></th>\n",
       "      <th></th>\n",
       "      <th></th>\n",
       "      <th></th>\n",
       "      <th></th>\n",
       "      <th></th>\n",
       "      <th></th>\n",
       "      <th></th>\n",
       "      <th></th>\n",
       "      <th></th>\n",
       "      <th></th>\n",
       "      <th></th>\n",
       "      <th></th>\n",
       "      <th></th>\n",
       "      <th></th>\n",
       "      <th></th>\n",
       "      <th></th>\n",
       "      <th></th>\n",
       "    </tr>\n",
       "  </thead>\n",
       "  <tbody>\n",
       "    <tr>\n",
       "      <th>2</th>\n",
       "      <td>NaN</td>\n",
       "      <td>NaN</td>\n",
       "      <td>NaN</td>\n",
       "      <td>NaN</td>\n",
       "      <td>NaN</td>\n",
       "      <td>NaN</td>\n",
       "      <td>NaN</td>\n",
       "      <td>NaN</td>\n",
       "      <td>NaN</td>\n",
       "      <td>NaN</td>\n",
       "      <td>...</td>\n",
       "      <td>NaN</td>\n",
       "      <td>NaN</td>\n",
       "      <td>NaN</td>\n",
       "      <td>NaN</td>\n",
       "      <td>NaN</td>\n",
       "      <td>NaN</td>\n",
       "      <td>NaN</td>\n",
       "      <td>NaN</td>\n",
       "      <td>NaN</td>\n",
       "      <td>NaN</td>\n",
       "    </tr>\n",
       "    <tr>\n",
       "      <th>3</th>\n",
       "      <td>NaN</td>\n",
       "      <td>NaN</td>\n",
       "      <td>NaN</td>\n",
       "      <td>NaN</td>\n",
       "      <td>NaN</td>\n",
       "      <td>NaN</td>\n",
       "      <td>NaN</td>\n",
       "      <td>NaN</td>\n",
       "      <td>NaN</td>\n",
       "      <td>NaN</td>\n",
       "      <td>...</td>\n",
       "      <td>NaN</td>\n",
       "      <td>NaN</td>\n",
       "      <td>NaN</td>\n",
       "      <td>NaN</td>\n",
       "      <td>NaN</td>\n",
       "      <td>NaN</td>\n",
       "      <td>NaN</td>\n",
       "      <td>NaN</td>\n",
       "      <td>NaN</td>\n",
       "      <td>NaN</td>\n",
       "    </tr>\n",
       "    <tr>\n",
       "      <th>4</th>\n",
       "      <td>NaN</td>\n",
       "      <td>NaN</td>\n",
       "      <td>NaN</td>\n",
       "      <td>NaN</td>\n",
       "      <td>NaN</td>\n",
       "      <td>NaN</td>\n",
       "      <td>NaN</td>\n",
       "      <td>NaN</td>\n",
       "      <td>NaN</td>\n",
       "      <td>NaN</td>\n",
       "      <td>...</td>\n",
       "      <td>NaN</td>\n",
       "      <td>NaN</td>\n",
       "      <td>NaN</td>\n",
       "      <td>NaN</td>\n",
       "      <td>NaN</td>\n",
       "      <td>NaN</td>\n",
       "      <td>NaN</td>\n",
       "      <td>NaN</td>\n",
       "      <td>NaN</td>\n",
       "      <td>NaN</td>\n",
       "    </tr>\n",
       "    <tr>\n",
       "      <th>7</th>\n",
       "      <td>NaN</td>\n",
       "      <td>NaN</td>\n",
       "      <td>NaN</td>\n",
       "      <td>NaN</td>\n",
       "      <td>NaN</td>\n",
       "      <td>NaN</td>\n",
       "      <td>NaN</td>\n",
       "      <td>NaN</td>\n",
       "      <td>NaN</td>\n",
       "      <td>NaN</td>\n",
       "      <td>...</td>\n",
       "      <td>NaN</td>\n",
       "      <td>NaN</td>\n",
       "      <td>NaN</td>\n",
       "      <td>NaN</td>\n",
       "      <td>NaN</td>\n",
       "      <td>NaN</td>\n",
       "      <td>NaN</td>\n",
       "      <td>NaN</td>\n",
       "      <td>NaN</td>\n",
       "      <td>NaN</td>\n",
       "    </tr>\n",
       "    <tr>\n",
       "      <th>9</th>\n",
       "      <td>NaN</td>\n",
       "      <td>NaN</td>\n",
       "      <td>NaN</td>\n",
       "      <td>NaN</td>\n",
       "      <td>NaN</td>\n",
       "      <td>NaN</td>\n",
       "      <td>NaN</td>\n",
       "      <td>NaN</td>\n",
       "      <td>NaN</td>\n",
       "      <td>NaN</td>\n",
       "      <td>...</td>\n",
       "      <td>NaN</td>\n",
       "      <td>NaN</td>\n",
       "      <td>NaN</td>\n",
       "      <td>NaN</td>\n",
       "      <td>NaN</td>\n",
       "      <td>NaN</td>\n",
       "      <td>NaN</td>\n",
       "      <td>NaN</td>\n",
       "      <td>NaN</td>\n",
       "      <td>NaN</td>\n",
       "    </tr>\n",
       "  </tbody>\n",
       "</table>\n",
       "<p>5 rows × 812 columns</p>\n",
       "</div>\n",
       "    <div class=\"colab-df-buttons\">\n",
       "\n",
       "  <div class=\"colab-df-container\">\n",
       "    <button class=\"colab-df-convert\" onclick=\"convertToInteractive('df-52367ebb-4540-4695-88b8-227876070464')\"\n",
       "            title=\"Convert this dataframe to an interactive table.\"\n",
       "            style=\"display:none;\">\n",
       "\n",
       "  <svg xmlns=\"http://www.w3.org/2000/svg\" height=\"24px\" viewBox=\"0 -960 960 960\">\n",
       "    <path d=\"M120-120v-720h720v720H120Zm60-500h600v-160H180v160Zm220 220h160v-160H400v160Zm0 220h160v-160H400v160ZM180-400h160v-160H180v160Zm440 0h160v-160H620v160ZM180-180h160v-160H180v160Zm440 0h160v-160H620v160Z\"/>\n",
       "  </svg>\n",
       "    </button>\n",
       "\n",
       "  <style>\n",
       "    .colab-df-container {\n",
       "      display:flex;\n",
       "      gap: 12px;\n",
       "    }\n",
       "\n",
       "    .colab-df-convert {\n",
       "      background-color: #E8F0FE;\n",
       "      border: none;\n",
       "      border-radius: 50%;\n",
       "      cursor: pointer;\n",
       "      display: none;\n",
       "      fill: #1967D2;\n",
       "      height: 32px;\n",
       "      padding: 0 0 0 0;\n",
       "      width: 32px;\n",
       "    }\n",
       "\n",
       "    .colab-df-convert:hover {\n",
       "      background-color: #E2EBFA;\n",
       "      box-shadow: 0px 1px 2px rgba(60, 64, 67, 0.3), 0px 1px 3px 1px rgba(60, 64, 67, 0.15);\n",
       "      fill: #174EA6;\n",
       "    }\n",
       "\n",
       "    .colab-df-buttons div {\n",
       "      margin-bottom: 4px;\n",
       "    }\n",
       "\n",
       "    [theme=dark] .colab-df-convert {\n",
       "      background-color: #3B4455;\n",
       "      fill: #D2E3FC;\n",
       "    }\n",
       "\n",
       "    [theme=dark] .colab-df-convert:hover {\n",
       "      background-color: #434B5C;\n",
       "      box-shadow: 0px 1px 3px 1px rgba(0, 0, 0, 0.15);\n",
       "      filter: drop-shadow(0px 1px 2px rgba(0, 0, 0, 0.3));\n",
       "      fill: #FFFFFF;\n",
       "    }\n",
       "  </style>\n",
       "\n",
       "    <script>\n",
       "      const buttonEl =\n",
       "        document.querySelector('#df-52367ebb-4540-4695-88b8-227876070464 button.colab-df-convert');\n",
       "      buttonEl.style.display =\n",
       "        google.colab.kernel.accessAllowed ? 'block' : 'none';\n",
       "\n",
       "      async function convertToInteractive(key) {\n",
       "        const element = document.querySelector('#df-52367ebb-4540-4695-88b8-227876070464');\n",
       "        const dataTable =\n",
       "          await google.colab.kernel.invokeFunction('convertToInteractive',\n",
       "                                                    [key], {});\n",
       "        if (!dataTable) return;\n",
       "\n",
       "        const docLinkHtml = 'Like what you see? Visit the ' +\n",
       "          '<a target=\"_blank\" href=https://colab.research.google.com/notebooks/data_table.ipynb>data table notebook</a>'\n",
       "          + ' to learn more about interactive tables.';\n",
       "        element.innerHTML = '';\n",
       "        dataTable['output_type'] = 'display_data';\n",
       "        await google.colab.output.renderOutput(dataTable, element);\n",
       "        const docLink = document.createElement('div');\n",
       "        docLink.innerHTML = docLinkHtml;\n",
       "        element.appendChild(docLink);\n",
       "      }\n",
       "    </script>\n",
       "  </div>\n",
       "\n",
       "\n",
       "<div id=\"df-78521757-03cf-42d5-8ce3-0eada2ac0c88\">\n",
       "  <button class=\"colab-df-quickchart\" onclick=\"quickchart('df-78521757-03cf-42d5-8ce3-0eada2ac0c88')\"\n",
       "            title=\"Suggest charts\"\n",
       "            style=\"display:none;\">\n",
       "\n",
       "<svg xmlns=\"http://www.w3.org/2000/svg\" height=\"24px\"viewBox=\"0 0 24 24\"\n",
       "     width=\"24px\">\n",
       "    <g>\n",
       "        <path d=\"M19 3H5c-1.1 0-2 .9-2 2v14c0 1.1.9 2 2 2h14c1.1 0 2-.9 2-2V5c0-1.1-.9-2-2-2zM9 17H7v-7h2v7zm4 0h-2V7h2v10zm4 0h-2v-4h2v4z\"/>\n",
       "    </g>\n",
       "</svg>\n",
       "  </button>\n",
       "\n",
       "<style>\n",
       "  .colab-df-quickchart {\n",
       "      --bg-color: #E8F0FE;\n",
       "      --fill-color: #1967D2;\n",
       "      --hover-bg-color: #E2EBFA;\n",
       "      --hover-fill-color: #174EA6;\n",
       "      --disabled-fill-color: #AAA;\n",
       "      --disabled-bg-color: #DDD;\n",
       "  }\n",
       "\n",
       "  [theme=dark] .colab-df-quickchart {\n",
       "      --bg-color: #3B4455;\n",
       "      --fill-color: #D2E3FC;\n",
       "      --hover-bg-color: #434B5C;\n",
       "      --hover-fill-color: #FFFFFF;\n",
       "      --disabled-bg-color: #3B4455;\n",
       "      --disabled-fill-color: #666;\n",
       "  }\n",
       "\n",
       "  .colab-df-quickchart {\n",
       "    background-color: var(--bg-color);\n",
       "    border: none;\n",
       "    border-radius: 50%;\n",
       "    cursor: pointer;\n",
       "    display: none;\n",
       "    fill: var(--fill-color);\n",
       "    height: 32px;\n",
       "    padding: 0;\n",
       "    width: 32px;\n",
       "  }\n",
       "\n",
       "  .colab-df-quickchart:hover {\n",
       "    background-color: var(--hover-bg-color);\n",
       "    box-shadow: 0 1px 2px rgba(60, 64, 67, 0.3), 0 1px 3px 1px rgba(60, 64, 67, 0.15);\n",
       "    fill: var(--button-hover-fill-color);\n",
       "  }\n",
       "\n",
       "  .colab-df-quickchart-complete:disabled,\n",
       "  .colab-df-quickchart-complete:disabled:hover {\n",
       "    background-color: var(--disabled-bg-color);\n",
       "    fill: var(--disabled-fill-color);\n",
       "    box-shadow: none;\n",
       "  }\n",
       "\n",
       "  .colab-df-spinner {\n",
       "    border: 2px solid var(--fill-color);\n",
       "    border-color: transparent;\n",
       "    border-bottom-color: var(--fill-color);\n",
       "    animation:\n",
       "      spin 1s steps(1) infinite;\n",
       "  }\n",
       "\n",
       "  @keyframes spin {\n",
       "    0% {\n",
       "      border-color: transparent;\n",
       "      border-bottom-color: var(--fill-color);\n",
       "      border-left-color: var(--fill-color);\n",
       "    }\n",
       "    20% {\n",
       "      border-color: transparent;\n",
       "      border-left-color: var(--fill-color);\n",
       "      border-top-color: var(--fill-color);\n",
       "    }\n",
       "    30% {\n",
       "      border-color: transparent;\n",
       "      border-left-color: var(--fill-color);\n",
       "      border-top-color: var(--fill-color);\n",
       "      border-right-color: var(--fill-color);\n",
       "    }\n",
       "    40% {\n",
       "      border-color: transparent;\n",
       "      border-right-color: var(--fill-color);\n",
       "      border-top-color: var(--fill-color);\n",
       "    }\n",
       "    60% {\n",
       "      border-color: transparent;\n",
       "      border-right-color: var(--fill-color);\n",
       "    }\n",
       "    80% {\n",
       "      border-color: transparent;\n",
       "      border-right-color: var(--fill-color);\n",
       "      border-bottom-color: var(--fill-color);\n",
       "    }\n",
       "    90% {\n",
       "      border-color: transparent;\n",
       "      border-bottom-color: var(--fill-color);\n",
       "    }\n",
       "  }\n",
       "</style>\n",
       "\n",
       "  <script>\n",
       "    async function quickchart(key) {\n",
       "      const quickchartButtonEl =\n",
       "        document.querySelector('#' + key + ' button');\n",
       "      quickchartButtonEl.disabled = true;  // To prevent multiple clicks.\n",
       "      quickchartButtonEl.classList.add('colab-df-spinner');\n",
       "      try {\n",
       "        const charts = await google.colab.kernel.invokeFunction(\n",
       "            'suggestCharts', [key], {});\n",
       "      } catch (error) {\n",
       "        console.error('Error during call to suggestCharts:', error);\n",
       "      }\n",
       "      quickchartButtonEl.classList.remove('colab-df-spinner');\n",
       "      quickchartButtonEl.classList.add('colab-df-quickchart-complete');\n",
       "    }\n",
       "    (() => {\n",
       "      let quickchartButtonEl =\n",
       "        document.querySelector('#df-78521757-03cf-42d5-8ce3-0eada2ac0c88 button');\n",
       "      quickchartButtonEl.style.display =\n",
       "        google.colab.kernel.accessAllowed ? 'block' : 'none';\n",
       "    })();\n",
       "  </script>\n",
       "</div>\n",
       "    </div>\n",
       "  </div>\n"
      ],
      "text/plain": [
       "title    'Salem's Lot  'Tis (Frank McCourt, #2)  \\\n",
       "user_id                                           \n",
       "2                 NaN                       NaN   \n",
       "3                 NaN                       NaN   \n",
       "4                 NaN                       NaN   \n",
       "7                 NaN                       NaN   \n",
       "9                 NaN                       NaN   \n",
       "\n",
       "title    1421: The Year China Discovered America  1776  1984  \\\n",
       "user_id                                                        \n",
       "2                                            NaN   NaN   NaN   \n",
       "3                                            NaN   NaN   NaN   \n",
       "4                                            NaN   NaN   NaN   \n",
       "7                                            NaN   NaN   NaN   \n",
       "9                                            NaN   NaN   NaN   \n",
       "\n",
       "title    A Bend in the River  A Bend in the Road  A Brief History of Time  \\\n",
       "user_id                                                                     \n",
       "2                        NaN                 NaN                      NaN   \n",
       "3                        NaN                 NaN                      NaN   \n",
       "4                        NaN                 NaN                      NaN   \n",
       "7                        NaN                 NaN                      NaN   \n",
       "9                        NaN                 NaN                      NaN   \n",
       "\n",
       "title    A Briefer History of Time  A Case of Need  ...  \\\n",
       "user_id                                             ...   \n",
       "2                              NaN             NaN  ...   \n",
       "3                              NaN             NaN  ...   \n",
       "4                              NaN             NaN  ...   \n",
       "7                              NaN             NaN  ...   \n",
       "9                              NaN             NaN  ...   \n",
       "\n",
       "title    Women in Love (Brangwen Family, #2)  \\\n",
       "user_id                                        \n",
       "2                                        NaN   \n",
       "3                                        NaN   \n",
       "4                                        NaN   \n",
       "7                                        NaN   \n",
       "9                                        NaN   \n",
       "\n",
       "title    World War Z: An Oral History of the Zombie War  \\\n",
       "user_id                                                   \n",
       "2                                                   NaN   \n",
       "3                                                   NaN   \n",
       "4                                                   NaN   \n",
       "7                                                   NaN   \n",
       "9                                                   NaN   \n",
       "\n",
       "title    World Without End (The Kingsbridge Series, #2)  Wuthering Heights  \\\n",
       "user_id                                                                      \n",
       "2                                                   NaN                NaN   \n",
       "3                                                   NaN                NaN   \n",
       "4                                                   NaN                NaN   \n",
       "7                                                   NaN                NaN   \n",
       "9                                                   NaN                NaN   \n",
       "\n",
       "title    Xenocide (Ender's Saga, #3)  Year of Wonders  \\\n",
       "user_id                                                 \n",
       "2                                NaN              NaN   \n",
       "3                                NaN              NaN   \n",
       "4                                NaN              NaN   \n",
       "7                                NaN              NaN   \n",
       "9                                NaN              NaN   \n",
       "\n",
       "title    You Shall Know Our Velocity!  \\\n",
       "user_id                                 \n",
       "2                                 NaN   \n",
       "3                                 NaN   \n",
       "4                                 NaN   \n",
       "7                                 NaN   \n",
       "9                                 NaN   \n",
       "\n",
       "title    Zen and the Art of Motorcycle Maintenance: An Inquiry Into Values  \\\n",
       "user_id                                                                      \n",
       "2                                                      NaN                   \n",
       "3                                                      NaN                   \n",
       "4                                                      NaN                   \n",
       "7                                                      NaN                   \n",
       "9                                                      NaN                   \n",
       "\n",
       "title    Zodiac  number9dream  \n",
       "user_id                        \n",
       "2           NaN           NaN  \n",
       "3           NaN           NaN  \n",
       "4           NaN           NaN  \n",
       "7           NaN           NaN  \n",
       "9           NaN           NaN  \n",
       "\n",
       "[5 rows x 812 columns]"
      ]
     },
     "execution_count": 19,
     "metadata": {},
     "output_type": "execute_result"
    }
   ],
   "source": [
    "util_matrix.head()"
   ]
  },
  {
   "cell_type": "markdown",
   "metadata": {
    "id": "EwdereFeNXBH"
   },
   "source": [
    "Next up, we normalise our utility matrix. This is to get our ratings on an even playing field based on individual's rating habits, and to help us construct our cosine similarity matrix.\n",
    "\n",
    "We then fill all NaNs with 0s to assist in the cosine similarity calculation, transpose our matrix using the `.T` method and then drop any users who have not rated anything - transposing our matrix makes this easier to do, and we drop these users because if they have not rated anything, they will not help our process of finding similar users to our reference user! This helps us to save time and space with our cosine similarity calculations.\n",
    "\n",
    "We then save our utility matrix as a sparse matrix, using `scipy's` sparse matrix format - this is to help us save space."
   ]
  },
  {
   "cell_type": "code",
   "execution_count": null,
   "metadata": {
    "id": "r-fBxptjot2e"
   },
   "outputs": [],
   "source": [
    "# Normalize each row (a given user's ratings) of the utility matrix\n",
    "util_matrix_norm = util_matrix.apply(lambda x: (x-np.mean(x))/(np.max(x)-np.min(x)), axis=1)\n",
    "\n",
    "# Fill Nan values with 0's, transpose matrix, and drop users with no ratings\n",
    "util_matrix_norm.fillna(0, inplace=True)\n",
    "util_matrix_norm = util_matrix_norm.T\n",
    "util_matrix_norm = util_matrix_norm.loc[:, (util_matrix_norm != 0).any(axis=0)]\n",
    "\n",
    "# Save the utility matrix in scipy's sparse matrix format\n",
    "util_matrix_sparse = sp.sparse.csr_matrix(util_matrix_norm.values)"
   ]
  },
  {
   "cell_type": "markdown",
   "metadata": {
    "id": "Dw7RHvEvTYE6"
   },
   "source": [
    "Next up, we create our cosine similarity matrix using the `cosine_similarity` function. We use a transposed (`.T`) version of our utility matrix as we want a user-user cosine similarity matrix.\n",
    "\n",
    "We convert this to a DataFrame so we can see that our cosine similarity matrix has been properly created!\n",
    "\n",
    "Remember, along the diagonal of our cosine similarity matrix, we should be seeing 1's, as the diagonals are where each user meets themselves (1 indicates they are exactly the same, which should be the case for the same user! User 7 should have a similarity of 1 with themselves!)"
   ]
  },
  {
   "cell_type": "code",
   "execution_count": 20,
   "metadata": {
    "colab": {
     "base_uri": "https://localhost:8080/",
     "height": 267
    },
    "id": "04icgL4PowCM",
    "outputId": "7bed80be-09f4-4d81-81b2-aed5f951c2b0"
   },
   "outputs": [
    {
     "data": {
      "application/vnd.google.colaboratory.intrinsic+json": {
       "type": "dataframe"
      },
      "text/html": [
       "\n",
       "  <div id=\"df-1c6b3b10-7331-4aa8-9d53-b6dc98a01345\" class=\"colab-df-container\">\n",
       "    <div>\n",
       "<style scoped>\n",
       "    .dataframe tbody tr th:only-of-type {\n",
       "        vertical-align: middle;\n",
       "    }\n",
       "\n",
       "    .dataframe tbody tr th {\n",
       "        vertical-align: top;\n",
       "    }\n",
       "\n",
       "    .dataframe thead th {\n",
       "        text-align: right;\n",
       "    }\n",
       "</style>\n",
       "<table border=\"1\" class=\"dataframe\">\n",
       "  <thead>\n",
       "    <tr style=\"text-align: right;\">\n",
       "      <th>user_id</th>\n",
       "      <th>7</th>\n",
       "      <th>10</th>\n",
       "      <th>23</th>\n",
       "      <th>27</th>\n",
       "      <th>35</th>\n",
       "      <th>41</th>\n",
       "      <th>46</th>\n",
       "      <th>47</th>\n",
       "      <th>49</th>\n",
       "      <th>51</th>\n",
       "      <th>...</th>\n",
       "      <th>53364</th>\n",
       "      <th>53366</th>\n",
       "      <th>53372</th>\n",
       "      <th>53373</th>\n",
       "      <th>53378</th>\n",
       "      <th>53381</th>\n",
       "      <th>53393</th>\n",
       "      <th>53403</th>\n",
       "      <th>53406</th>\n",
       "      <th>53420</th>\n",
       "    </tr>\n",
       "    <tr>\n",
       "      <th>user_id</th>\n",
       "      <th></th>\n",
       "      <th></th>\n",
       "      <th></th>\n",
       "      <th></th>\n",
       "      <th></th>\n",
       "      <th></th>\n",
       "      <th></th>\n",
       "      <th></th>\n",
       "      <th></th>\n",
       "      <th></th>\n",
       "      <th></th>\n",
       "      <th></th>\n",
       "      <th></th>\n",
       "      <th></th>\n",
       "      <th></th>\n",
       "      <th></th>\n",
       "      <th></th>\n",
       "      <th></th>\n",
       "      <th></th>\n",
       "      <th></th>\n",
       "      <th></th>\n",
       "    </tr>\n",
       "  </thead>\n",
       "  <tbody>\n",
       "    <tr>\n",
       "      <th>7</th>\n",
       "      <td>1.0</td>\n",
       "      <td>0.0</td>\n",
       "      <td>0.0</td>\n",
       "      <td>0.0</td>\n",
       "      <td>0.0</td>\n",
       "      <td>0.0</td>\n",
       "      <td>0.0</td>\n",
       "      <td>0.0</td>\n",
       "      <td>0.0</td>\n",
       "      <td>0.0</td>\n",
       "      <td>...</td>\n",
       "      <td>0.0</td>\n",
       "      <td>0.000000</td>\n",
       "      <td>0.0</td>\n",
       "      <td>0.0</td>\n",
       "      <td>0.0</td>\n",
       "      <td>0.0</td>\n",
       "      <td>0.0</td>\n",
       "      <td>0.0</td>\n",
       "      <td>0.0</td>\n",
       "      <td>0.0</td>\n",
       "    </tr>\n",
       "    <tr>\n",
       "      <th>10</th>\n",
       "      <td>0.0</td>\n",
       "      <td>1.0</td>\n",
       "      <td>0.0</td>\n",
       "      <td>0.0</td>\n",
       "      <td>0.0</td>\n",
       "      <td>0.0</td>\n",
       "      <td>0.0</td>\n",
       "      <td>0.0</td>\n",
       "      <td>0.0</td>\n",
       "      <td>0.0</td>\n",
       "      <td>...</td>\n",
       "      <td>0.0</td>\n",
       "      <td>0.000000</td>\n",
       "      <td>0.0</td>\n",
       "      <td>0.0</td>\n",
       "      <td>0.0</td>\n",
       "      <td>0.0</td>\n",
       "      <td>0.0</td>\n",
       "      <td>0.0</td>\n",
       "      <td>0.0</td>\n",
       "      <td>0.0</td>\n",
       "    </tr>\n",
       "    <tr>\n",
       "      <th>23</th>\n",
       "      <td>0.0</td>\n",
       "      <td>0.0</td>\n",
       "      <td>1.0</td>\n",
       "      <td>0.0</td>\n",
       "      <td>0.0</td>\n",
       "      <td>0.0</td>\n",
       "      <td>0.0</td>\n",
       "      <td>0.0</td>\n",
       "      <td>0.0</td>\n",
       "      <td>0.0</td>\n",
       "      <td>...</td>\n",
       "      <td>0.0</td>\n",
       "      <td>-0.177657</td>\n",
       "      <td>0.0</td>\n",
       "      <td>0.0</td>\n",
       "      <td>0.0</td>\n",
       "      <td>0.0</td>\n",
       "      <td>0.0</td>\n",
       "      <td>0.0</td>\n",
       "      <td>0.0</td>\n",
       "      <td>0.0</td>\n",
       "    </tr>\n",
       "    <tr>\n",
       "      <th>27</th>\n",
       "      <td>0.0</td>\n",
       "      <td>0.0</td>\n",
       "      <td>0.0</td>\n",
       "      <td>1.0</td>\n",
       "      <td>0.0</td>\n",
       "      <td>0.0</td>\n",
       "      <td>0.0</td>\n",
       "      <td>0.0</td>\n",
       "      <td>0.0</td>\n",
       "      <td>0.0</td>\n",
       "      <td>...</td>\n",
       "      <td>0.0</td>\n",
       "      <td>0.000000</td>\n",
       "      <td>0.0</td>\n",
       "      <td>0.0</td>\n",
       "      <td>0.0</td>\n",
       "      <td>0.0</td>\n",
       "      <td>0.0</td>\n",
       "      <td>0.0</td>\n",
       "      <td>0.0</td>\n",
       "      <td>0.0</td>\n",
       "    </tr>\n",
       "    <tr>\n",
       "      <th>35</th>\n",
       "      <td>0.0</td>\n",
       "      <td>0.0</td>\n",
       "      <td>0.0</td>\n",
       "      <td>0.0</td>\n",
       "      <td>1.0</td>\n",
       "      <td>0.0</td>\n",
       "      <td>0.0</td>\n",
       "      <td>0.0</td>\n",
       "      <td>0.0</td>\n",
       "      <td>0.0</td>\n",
       "      <td>...</td>\n",
       "      <td>0.0</td>\n",
       "      <td>0.000000</td>\n",
       "      <td>0.0</td>\n",
       "      <td>0.0</td>\n",
       "      <td>0.0</td>\n",
       "      <td>0.0</td>\n",
       "      <td>0.0</td>\n",
       "      <td>0.0</td>\n",
       "      <td>0.0</td>\n",
       "      <td>0.0</td>\n",
       "    </tr>\n",
       "  </tbody>\n",
       "</table>\n",
       "<p>5 rows × 12409 columns</p>\n",
       "</div>\n",
       "    <div class=\"colab-df-buttons\">\n",
       "\n",
       "  <div class=\"colab-df-container\">\n",
       "    <button class=\"colab-df-convert\" onclick=\"convertToInteractive('df-1c6b3b10-7331-4aa8-9d53-b6dc98a01345')\"\n",
       "            title=\"Convert this dataframe to an interactive table.\"\n",
       "            style=\"display:none;\">\n",
       "\n",
       "  <svg xmlns=\"http://www.w3.org/2000/svg\" height=\"24px\" viewBox=\"0 -960 960 960\">\n",
       "    <path d=\"M120-120v-720h720v720H120Zm60-500h600v-160H180v160Zm220 220h160v-160H400v160Zm0 220h160v-160H400v160ZM180-400h160v-160H180v160Zm440 0h160v-160H620v160ZM180-180h160v-160H180v160Zm440 0h160v-160H620v160Z\"/>\n",
       "  </svg>\n",
       "    </button>\n",
       "\n",
       "  <style>\n",
       "    .colab-df-container {\n",
       "      display:flex;\n",
       "      gap: 12px;\n",
       "    }\n",
       "\n",
       "    .colab-df-convert {\n",
       "      background-color: #E8F0FE;\n",
       "      border: none;\n",
       "      border-radius: 50%;\n",
       "      cursor: pointer;\n",
       "      display: none;\n",
       "      fill: #1967D2;\n",
       "      height: 32px;\n",
       "      padding: 0 0 0 0;\n",
       "      width: 32px;\n",
       "    }\n",
       "\n",
       "    .colab-df-convert:hover {\n",
       "      background-color: #E2EBFA;\n",
       "      box-shadow: 0px 1px 2px rgba(60, 64, 67, 0.3), 0px 1px 3px 1px rgba(60, 64, 67, 0.15);\n",
       "      fill: #174EA6;\n",
       "    }\n",
       "\n",
       "    .colab-df-buttons div {\n",
       "      margin-bottom: 4px;\n",
       "    }\n",
       "\n",
       "    [theme=dark] .colab-df-convert {\n",
       "      background-color: #3B4455;\n",
       "      fill: #D2E3FC;\n",
       "    }\n",
       "\n",
       "    [theme=dark] .colab-df-convert:hover {\n",
       "      background-color: #434B5C;\n",
       "      box-shadow: 0px 1px 3px 1px rgba(0, 0, 0, 0.15);\n",
       "      filter: drop-shadow(0px 1px 2px rgba(0, 0, 0, 0.3));\n",
       "      fill: #FFFFFF;\n",
       "    }\n",
       "  </style>\n",
       "\n",
       "    <script>\n",
       "      const buttonEl =\n",
       "        document.querySelector('#df-1c6b3b10-7331-4aa8-9d53-b6dc98a01345 button.colab-df-convert');\n",
       "      buttonEl.style.display =\n",
       "        google.colab.kernel.accessAllowed ? 'block' : 'none';\n",
       "\n",
       "      async function convertToInteractive(key) {\n",
       "        const element = document.querySelector('#df-1c6b3b10-7331-4aa8-9d53-b6dc98a01345');\n",
       "        const dataTable =\n",
       "          await google.colab.kernel.invokeFunction('convertToInteractive',\n",
       "                                                    [key], {});\n",
       "        if (!dataTable) return;\n",
       "\n",
       "        const docLinkHtml = 'Like what you see? Visit the ' +\n",
       "          '<a target=\"_blank\" href=https://colab.research.google.com/notebooks/data_table.ipynb>data table notebook</a>'\n",
       "          + ' to learn more about interactive tables.';\n",
       "        element.innerHTML = '';\n",
       "        dataTable['output_type'] = 'display_data';\n",
       "        await google.colab.output.renderOutput(dataTable, element);\n",
       "        const docLink = document.createElement('div');\n",
       "        docLink.innerHTML = docLinkHtml;\n",
       "        element.appendChild(docLink);\n",
       "      }\n",
       "    </script>\n",
       "  </div>\n",
       "\n",
       "\n",
       "<div id=\"df-5600f4dc-eb25-42dc-b991-e6c606dd0c3d\">\n",
       "  <button class=\"colab-df-quickchart\" onclick=\"quickchart('df-5600f4dc-eb25-42dc-b991-e6c606dd0c3d')\"\n",
       "            title=\"Suggest charts\"\n",
       "            style=\"display:none;\">\n",
       "\n",
       "<svg xmlns=\"http://www.w3.org/2000/svg\" height=\"24px\"viewBox=\"0 0 24 24\"\n",
       "     width=\"24px\">\n",
       "    <g>\n",
       "        <path d=\"M19 3H5c-1.1 0-2 .9-2 2v14c0 1.1.9 2 2 2h14c1.1 0 2-.9 2-2V5c0-1.1-.9-2-2-2zM9 17H7v-7h2v7zm4 0h-2V7h2v10zm4 0h-2v-4h2v4z\"/>\n",
       "    </g>\n",
       "</svg>\n",
       "  </button>\n",
       "\n",
       "<style>\n",
       "  .colab-df-quickchart {\n",
       "      --bg-color: #E8F0FE;\n",
       "      --fill-color: #1967D2;\n",
       "      --hover-bg-color: #E2EBFA;\n",
       "      --hover-fill-color: #174EA6;\n",
       "      --disabled-fill-color: #AAA;\n",
       "      --disabled-bg-color: #DDD;\n",
       "  }\n",
       "\n",
       "  [theme=dark] .colab-df-quickchart {\n",
       "      --bg-color: #3B4455;\n",
       "      --fill-color: #D2E3FC;\n",
       "      --hover-bg-color: #434B5C;\n",
       "      --hover-fill-color: #FFFFFF;\n",
       "      --disabled-bg-color: #3B4455;\n",
       "      --disabled-fill-color: #666;\n",
       "  }\n",
       "\n",
       "  .colab-df-quickchart {\n",
       "    background-color: var(--bg-color);\n",
       "    border: none;\n",
       "    border-radius: 50%;\n",
       "    cursor: pointer;\n",
       "    display: none;\n",
       "    fill: var(--fill-color);\n",
       "    height: 32px;\n",
       "    padding: 0;\n",
       "    width: 32px;\n",
       "  }\n",
       "\n",
       "  .colab-df-quickchart:hover {\n",
       "    background-color: var(--hover-bg-color);\n",
       "    box-shadow: 0 1px 2px rgba(60, 64, 67, 0.3), 0 1px 3px 1px rgba(60, 64, 67, 0.15);\n",
       "    fill: var(--button-hover-fill-color);\n",
       "  }\n",
       "\n",
       "  .colab-df-quickchart-complete:disabled,\n",
       "  .colab-df-quickchart-complete:disabled:hover {\n",
       "    background-color: var(--disabled-bg-color);\n",
       "    fill: var(--disabled-fill-color);\n",
       "    box-shadow: none;\n",
       "  }\n",
       "\n",
       "  .colab-df-spinner {\n",
       "    border: 2px solid var(--fill-color);\n",
       "    border-color: transparent;\n",
       "    border-bottom-color: var(--fill-color);\n",
       "    animation:\n",
       "      spin 1s steps(1) infinite;\n",
       "  }\n",
       "\n",
       "  @keyframes spin {\n",
       "    0% {\n",
       "      border-color: transparent;\n",
       "      border-bottom-color: var(--fill-color);\n",
       "      border-left-color: var(--fill-color);\n",
       "    }\n",
       "    20% {\n",
       "      border-color: transparent;\n",
       "      border-left-color: var(--fill-color);\n",
       "      border-top-color: var(--fill-color);\n",
       "    }\n",
       "    30% {\n",
       "      border-color: transparent;\n",
       "      border-left-color: var(--fill-color);\n",
       "      border-top-color: var(--fill-color);\n",
       "      border-right-color: var(--fill-color);\n",
       "    }\n",
       "    40% {\n",
       "      border-color: transparent;\n",
       "      border-right-color: var(--fill-color);\n",
       "      border-top-color: var(--fill-color);\n",
       "    }\n",
       "    60% {\n",
       "      border-color: transparent;\n",
       "      border-right-color: var(--fill-color);\n",
       "    }\n",
       "    80% {\n",
       "      border-color: transparent;\n",
       "      border-right-color: var(--fill-color);\n",
       "      border-bottom-color: var(--fill-color);\n",
       "    }\n",
       "    90% {\n",
       "      border-color: transparent;\n",
       "      border-bottom-color: var(--fill-color);\n",
       "    }\n",
       "  }\n",
       "</style>\n",
       "\n",
       "  <script>\n",
       "    async function quickchart(key) {\n",
       "      const quickchartButtonEl =\n",
       "        document.querySelector('#' + key + ' button');\n",
       "      quickchartButtonEl.disabled = true;  // To prevent multiple clicks.\n",
       "      quickchartButtonEl.classList.add('colab-df-spinner');\n",
       "      try {\n",
       "        const charts = await google.colab.kernel.invokeFunction(\n",
       "            'suggestCharts', [key], {});\n",
       "      } catch (error) {\n",
       "        console.error('Error during call to suggestCharts:', error);\n",
       "      }\n",
       "      quickchartButtonEl.classList.remove('colab-df-spinner');\n",
       "      quickchartButtonEl.classList.add('colab-df-quickchart-complete');\n",
       "    }\n",
       "    (() => {\n",
       "      let quickchartButtonEl =\n",
       "        document.querySelector('#df-5600f4dc-eb25-42dc-b991-e6c606dd0c3d button');\n",
       "      quickchartButtonEl.style.display =\n",
       "        google.colab.kernel.accessAllowed ? 'block' : 'none';\n",
       "    })();\n",
       "  </script>\n",
       "</div>\n",
       "    </div>\n",
       "  </div>\n"
      ],
      "text/plain": [
       "user_id  7      10     23     27     35     41     46     47     49     51     \\\n",
       "user_id                                                                         \n",
       "7          1.0    0.0    0.0    0.0    0.0    0.0    0.0    0.0    0.0    0.0   \n",
       "10         0.0    1.0    0.0    0.0    0.0    0.0    0.0    0.0    0.0    0.0   \n",
       "23         0.0    0.0    1.0    0.0    0.0    0.0    0.0    0.0    0.0    0.0   \n",
       "27         0.0    0.0    0.0    1.0    0.0    0.0    0.0    0.0    0.0    0.0   \n",
       "35         0.0    0.0    0.0    0.0    1.0    0.0    0.0    0.0    0.0    0.0   \n",
       "\n",
       "user_id  ...  53364     53366  53372  53373  53378  53381  53393  53403  \\\n",
       "user_id  ...                                                              \n",
       "7        ...    0.0  0.000000    0.0    0.0    0.0    0.0    0.0    0.0   \n",
       "10       ...    0.0  0.000000    0.0    0.0    0.0    0.0    0.0    0.0   \n",
       "23       ...    0.0 -0.177657    0.0    0.0    0.0    0.0    0.0    0.0   \n",
       "27       ...    0.0  0.000000    0.0    0.0    0.0    0.0    0.0    0.0   \n",
       "35       ...    0.0  0.000000    0.0    0.0    0.0    0.0    0.0    0.0   \n",
       "\n",
       "user_id  53406  53420  \n",
       "user_id                \n",
       "7          0.0    0.0  \n",
       "10         0.0    0.0  \n",
       "23         0.0    0.0  \n",
       "27         0.0    0.0  \n",
       "35         0.0    0.0  \n",
       "\n",
       "[5 rows x 12409 columns]"
      ]
     },
     "execution_count": 20,
     "metadata": {},
     "output_type": "execute_result"
    }
   ],
   "source": [
    "# Compute the similarity matrix using the cosine similarity metric\n",
    "user_similarity = cosine_similarity(util_matrix_sparse.T)\n",
    "\n",
    "# Save the matrix as a dataframe to allow for easier indexing\n",
    "user_sim_df = pd.DataFrame(user_similarity,\n",
    "                           index = util_matrix_norm.columns,\n",
    "                           columns = util_matrix_norm.columns)\n",
    "\n",
    "# Review a small portion of the constructed similartiy matrix\n",
    "user_sim_df[:5]"
   ]
  },
  {
   "cell_type": "markdown",
   "metadata": {},
   "source": [
    "---"
   ]
  },
  {
   "cell_type": "markdown",
   "metadata": {
    "id": "sx0aQoFko7j8"
   },
   "source": [
    "## Top-N Recommendations"
   ]
  },
  {
   "cell_type": "markdown",
   "metadata": {
    "id": "DFSacDEfpBLh"
   },
   "source": [
    "\n",
    "In order to produce a list of top-N recommendations for collaborative filtering, the following simple algorithm can be followed:\n",
    "\n",
    "1. Select an initial reference user to generate recommendations for.\n",
    "2. Extract all the similarity values between the reference user and each other user in the similarity matrix.\n",
    "3. Sort the resulting similarity values in descending order, and select the  𝑘\n",
    "  most similar users based on these values.\n",
    "4. For each selected user, collect their top-rated items.\n",
    "5. Form a tally of which items are most popular across the  𝑘\n",
    "  similar users. Do this by counting how many times a top-rated item is common amongst the other users.\n",
    "6. Sort the top-rated items according the the popularity tally. Return the top-N values as the result.\n"
   ]
  },
  {
   "cell_type": "markdown",
   "metadata": {
    "id": "a_AAHnxnT9Qy"
   },
   "source": [
    "Here is the full function as detailed in the trains - but we will break it down into steps afterwards:"
   ]
  },
  {
   "cell_type": "code",
   "execution_count": 28,
   "metadata": {
    "id": "sYn_KsHloyBG"
   },
   "outputs": [],
   "source": [
    "def collab_generate_top_N_recommendations(user, N=10, k=20):\n",
    "\n",
    "    # Cold-start problem - no ratings given by the reference user.\n",
    "    # With no further user data, we solve this by simply recommending\n",
    "    # the top-N most popular books in the item catalog.\n",
    "    if user not in user_sim_df.columns:\n",
    "        return book_ratings.groupby('title').mean().sort_values(by='rating',\n",
    "                                        ascending=False).index[:N].to_list()\n",
    "\n",
    "    # Gather the k users which are most similar to the reference user\n",
    "    sim_users = user_sim_df.sort_values(by=user, ascending=False).index[1:k+1]\n",
    "    favorite_user_items = [] # <-- List of highest rated items gathered from the k users\n",
    "    most_common_favorites = {} # <-- Dictionary of highest rated items in common for the k users\n",
    "\n",
    "    for i in sim_users:\n",
    "        # Maximum rating given by the current user to an item\n",
    "        max_score = util_matrix_norm.loc[:, i].max()\n",
    "        # Save the names of items maximally rated by the current user\n",
    "        favorite_user_items.append(util_matrix_norm[util_matrix_norm.loc[:, i]==max_score].index.tolist())\n",
    "\n",
    "    # Loop over each user's favorite items and tally which ones are\n",
    "    # most popular overall.\n",
    "    for item_collection in range(len(favorite_user_items)):\n",
    "        for item in favorite_user_items[item_collection]:\n",
    "            if item in most_common_favorites:\n",
    "                most_common_favorites[item] += 1\n",
    "            else:\n",
    "                most_common_favorites[item] = 1\n",
    "    # Sort the overall most popular items and return the top-N instances\n",
    "    sorted_list = sorted(most_common_favorites.items(), key=operator.itemgetter(1), reverse=True)[:N+1]\n",
    "    top_N = [x[0] for x in sorted_list]\n",
    "    return top_N"
   ]
  },
  {
   "cell_type": "markdown",
   "metadata": {
    "id": "_4yhmMd6kZF2"
   },
   "source": [
    "The first part of the code accounts for the possibility of the cold-start problem. If our specified user is not in the columns of our similarity matrix, it means that we can't calculate their similarity to any other user.\n",
    "\n",
    "The solution here is to simply find the top N (in this case, 10) books in our system based on each book's average rating:"
   ]
  },
  {
   "cell_type": "code",
   "execution_count": null,
   "metadata": {
    "id": "ZSGq2B5wkQTX"
   },
   "outputs": [],
   "source": [
    "    # Cold-start problem - no ratings given by the reference user.\n",
    "    # With no further user data, we solve this by simply recommending\n",
    "    # the top-N most popular books in the item catalog.\n",
    "    if user not in user_sim_df.columns:\n",
    "        return book_ratings.groupby('title').mean().sort_values(by='rating',\n",
    "                                        ascending=False).index[:11].to_list()"
   ]
  },
  {
   "cell_type": "markdown",
   "metadata": {
    "id": "mkdAbOi1k5K4"
   },
   "source": [
    "If, however, we do not face the above problem, we then take the step of finding a list of N similar users to our specified user. Here, we're using the top 20 users - we sort our similarity matrix by our specified user in descending order. We take from index 1, because at index 0 would be the ID of our specified user with a similarity value of 1:"
   ]
  },
  {
   "cell_type": "code",
   "execution_count": 21,
   "metadata": {
    "colab": {
     "base_uri": "https://localhost:8080/"
    },
    "id": "QgvjYCmZpibn",
    "outputId": "5a19c271-3050-43a4-d4c6-ab62157308f7"
   },
   "outputs": [
    {
     "data": {
      "text/plain": [
       "Int64Index([ 1964, 18957, 33119, 18361, 51838, 17663,   588, 10140, 32635,\n",
       "            43985, 11854, 28509,  9722, 17189, 30879,   725,  6016, 40251,\n",
       "            12024, 24326],\n",
       "           dtype='int64', name='user_id')"
      ]
     },
     "execution_count": 21,
     "metadata": {},
     "output_type": "execute_result"
    }
   ],
   "source": [
    "sim_users = user_sim_df.sort_values(by=314, ascending=False).index[1:21]\n",
    "sim_users"
   ]
  },
  {
   "cell_type": "markdown",
   "metadata": {
    "id": "B75lBZiUlOtM"
   },
   "source": [
    "Now that we have a list of the top 20 most similar users to our user, we can start collating their favourite items.\n",
    "\n",
    "We create an empty list `favorite_user_items` where we're going to be collecting each of our 20 users' 'favourite' books based on their ratings. We also create an empty dictionary `most_common_favorites` that will come into use later.\n",
    "\n",
    "We use a `for-loop` to go through each of our 20 similar users. For each user, we find their `max_score` - this is the maximum rating they have given any book in our system. Some may have given a highest rating of 5; some may be a bit more harsh and may have only ever given a highest rating of 2!\n",
    "\n",
    "For each user, we then collect each book they have given their highest rating to, and append this to the `favorite_user_items` list."
   ]
  },
  {
   "cell_type": "code",
   "execution_count": 22,
   "metadata": {
    "id": "Hsi6CxbEp95L"
   },
   "outputs": [],
   "source": [
    "favorite_user_items = [] # <-- List of highest rated items gathered from the k users\n",
    "most_common_favorites = {} # <-- Dictionary of highest rated items in common for the k users\n",
    "\n",
    "for i in sim_users:\n",
    "        # Maximum rating given by the current user to an item\n",
    "        max_score = util_matrix_norm.loc[:, i].max()\n",
    "        # Save the names of items maximally rated by the current user\n",
    "        favorite_user_items.append(util_matrix_norm[util_matrix_norm.loc[:, i]==max_score].index.tolist())"
   ]
  },
  {
   "cell_type": "markdown",
   "metadata": {
    "id": "YTohDWbGliGl"
   },
   "source": [
    "If we have a look at `favourite_user_items`, we can see that for each of our 20 similar users, there is a sublist that contains their highest-rated books:"
   ]
  },
  {
   "cell_type": "code",
   "execution_count": 23,
   "metadata": {
    "colab": {
     "base_uri": "https://localhost:8080/"
    },
    "id": "zcFHiN32qYUo",
    "outputId": "ff79a2ff-5ce8-4b96-d9be-755fcefcf74b"
   },
   "outputs": [
    {
     "data": {
      "text/plain": [
       "[['Four to Score (Stephanie Plum, #4)',\n",
       "  \"Life, the Universe and Everything (Hitchhiker's Guide, #3)\"],\n",
       " ['Harry Potter and the Goblet of Fire (Harry Potter, #4)'],\n",
       " ['Children of Dune (Dune Chronicles #3)',\n",
       "  'Harry Potter and the Goblet of Fire (Harry Potter, #4)'],\n",
       " ['Harry Potter and the Goblet of Fire (Harry Potter, #4)',\n",
       "  'The Broken Wings'],\n",
       " ['Harry Potter and the Half-Blood Prince (Harry Potter, #6)',\n",
       "  \"I'm a Stranger Here Myself: Notes on Returning to America after Twenty Years Away\",\n",
       "  'Neither Here nor There: Travels in Europe',\n",
       "  'Slouching Towards Bethlehem',\n",
       "  'The Lord of the Rings: Weapons and Warfare',\n",
       "  'The Power of One (The Power of One, #1)',\n",
       "  'Treasure Island'],\n",
       " ['Another Bullshit Night in Suck City',\n",
       "  'Dune Messiah (Dune Chronicles #2)',\n",
       "  'Gates of Fire: An Epic Novel of the Battle of Thermopylae',\n",
       "  'Harry Potter and the Half-Blood Prince (Harry Potter, #6)',\n",
       "  'Harry Potter and the Order of the Phoenix (Harry Potter, #5)',\n",
       "  'Harry Potter and the Prisoner of Azkaban (Harry Potter, #3)',\n",
       "  'The High Window (Philip Marlowe, #3)',\n",
       "  'The History of Sexuality, Volume 1: An Introduction',\n",
       "  \"The Hitchhiker's Guide to the Galaxy (Hitchhiker's Guide to the Galaxy, #1)\",\n",
       "  'The Lord of the Rings: Weapons and Warfare'],\n",
       " ['Harry Potter and the Half-Blood Prince (Harry Potter, #6)',\n",
       "  \"I'm a Stranger Here Myself: Notes on Returning to America after Twenty Years Away\",\n",
       "  'The Power of One (The Power of One, #1)'],\n",
       " ['Harry Potter and the Half-Blood Prince (Harry Potter, #6)',\n",
       "  \"The Hitchhiker's Guide to the Galaxy (Hitchhiker's Guide to the Galaxy, #1)\",\n",
       "  'The Lord of the Rings: Weapons and Warfare'],\n",
       " ['A Short History of Nearly Everything',\n",
       "  'Angels & Demons  (Robert Langdon, #1)',\n",
       "  'Harry Potter and the Goblet of Fire (Harry Potter, #4)',\n",
       "  'Harry Potter and the Half-Blood Prince (Harry Potter, #6)',\n",
       "  \"I'm a Stranger Here Myself: Notes on Returning to America after Twenty Years Away\",\n",
       "  'In a Sunburned Country',\n",
       "  'Notes from a Small Island',\n",
       "  'The Lord of the Rings: Weapons and Warfare'],\n",
       " ['Harry Potter and the Goblet of Fire (Harry Potter, #4)',\n",
       "  'Harry Potter and the Half-Blood Prince (Harry Potter, #6)',\n",
       "  \"I'm a Stranger Here Myself: Notes on Returning to America after Twenty Years Away\",\n",
       "  'J.R.R. Tolkien 4-Book Boxed Set: The Hobbit and The Lord of the Rings',\n",
       "  'Motor Mouth (Alex Barnaby #2)',\n",
       "  'The Alchemist',\n",
       "  'The Automatic Millionaire: A Powerful One-Step Plan to Live and Finish Rich',\n",
       "  'The Brothers Karamazov',\n",
       "  \"The Hitchhiker's Guide to the Galaxy (Hitchhiker's Guide to the Galaxy, #1)\",\n",
       "  'The Lord of the Rings: Weapons and Warfare',\n",
       "  \"The Ultimate Hitchhiker's Guide to the Galaxy\",\n",
       "  'Treasure Island'],\n",
       " ['A Short History of Nearly Everything',\n",
       "  'Harry Potter Collection (Harry Potter, #1-6)',\n",
       "  'Harry Potter and the Half-Blood Prince (Harry Potter, #6)',\n",
       "  \"I'm a Stranger Here Myself: Notes on Returning to America after Twenty Years Away\",\n",
       "  'In a Sunburned Country',\n",
       "  'Neither Here nor There: Travels in Europe',\n",
       "  'The Lord of the Rings: Weapons and Warfare'],\n",
       " ['Brave New World Revisited ', \"Gulliver's Travels\"],\n",
       " ['Harry Potter and the Goblet of Fire (Harry Potter, #4)'],\n",
       " [\"In the Company of Cheerful Ladies (No. 1 Ladies' Detective Agency, #6)\"],\n",
       " ['Harry Potter and the Goblet of Fire (Harry Potter, #4)'],\n",
       " ['Harry Potter and the Goblet of Fire (Harry Potter, #4)',\n",
       "  'Into the Wild',\n",
       "  'The Broken Wings',\n",
       "  'Treasure Island'],\n",
       " ['Harry Potter and the Goblet of Fire (Harry Potter, #4)',\n",
       "  'The Long Dark Tea-Time of the Soul (Dirk Gently, #2)'],\n",
       " ['Harry Potter and the Goblet of Fire (Harry Potter, #4)',\n",
       "  'Veronika Decides to Die'],\n",
       " ['Falling Angels'],\n",
       " ['Children of Dune (Dune Chronicles #3)',\n",
       "  'Harry Potter Boxed Set, Books 1-5 (Harry Potter, #1-5)',\n",
       "  'Harry Potter Collection (Harry Potter, #1-6)',\n",
       "  'Harry Potter and the Goblet of Fire (Harry Potter, #4)',\n",
       "  'Harry Potter and the Half-Blood Prince (Harry Potter, #6)',\n",
       "  'The Canterbury Tales',\n",
       "  'The Millionaire Next Door: The Surprising Secrets of Americas Wealthy',\n",
       "  'Treasure Island']]"
      ]
     },
     "execution_count": 23,
     "metadata": {},
     "output_type": "execute_result"
    }
   ],
   "source": [
    "favorite_user_items"
   ]
  },
  {
   "cell_type": "markdown",
   "metadata": {
    "id": "7gr2l6rbmJ07"
   },
   "source": [
    "Next up, we need to count how often each of the above books appears in the `favorite_user_items` list. We're essentially going through each book in each sublist, and for each book we are tallying how many times it appears and making record of this in our dictionary `most_common_favorites`:"
   ]
  },
  {
   "cell_type": "code",
   "execution_count": 24,
   "metadata": {
    "id": "2v0Ebq3xq8Rm"
   },
   "outputs": [],
   "source": [
    "for item_collection in range(len(favorite_user_items)):\n",
    "        for item in favorite_user_items[item_collection]:\n",
    "            if item in most_common_favorites:\n",
    "                most_common_favorites[item] += 1\n",
    "            else:\n",
    "                most_common_favorites[item] = 1"
   ]
  },
  {
   "cell_type": "markdown",
   "metadata": {
    "id": "xKpQt3nome1T"
   },
   "source": [
    "Now if we check out `most_common_favorites`, we can see how each book now has a count of how many times it appears in `favorite_user_items` associated with it. We can see some popular ones already - 'Harry Potter and the Goblet of Fire (Harry Potter, #4)' appeared 11 times!"
   ]
  },
  {
   "cell_type": "code",
   "execution_count": 25,
   "metadata": {
    "colab": {
     "base_uri": "https://localhost:8080/"
    },
    "id": "rXlfE_5Gq9hH",
    "outputId": "5e1bff63-853b-47f1-f9c2-e1ace1f0eab8"
   },
   "outputs": [
    {
     "data": {
      "text/plain": [
       "{'Four to Score (Stephanie Plum, #4)': 1,\n",
       " \"Life, the Universe and Everything (Hitchhiker's Guide, #3)\": 1,\n",
       " 'Harry Potter and the Goblet of Fire (Harry Potter, #4)': 11,\n",
       " 'Children of Dune (Dune Chronicles #3)': 2,\n",
       " 'The Broken Wings': 2,\n",
       " 'Harry Potter and the Half-Blood Prince (Harry Potter, #6)': 8,\n",
       " \"I'm a Stranger Here Myself: Notes on Returning to America after Twenty Years Away\": 5,\n",
       " 'Neither Here nor There: Travels in Europe': 2,\n",
       " 'Slouching Towards Bethlehem': 1,\n",
       " 'The Lord of the Rings: Weapons and Warfare': 6,\n",
       " 'The Power of One (The Power of One, #1)': 2,\n",
       " 'Treasure Island': 4,\n",
       " 'Another Bullshit Night in Suck City': 1,\n",
       " 'Dune Messiah (Dune Chronicles #2)': 1,\n",
       " 'Gates of Fire: An Epic Novel of the Battle of Thermopylae': 1,\n",
       " 'Harry Potter and the Order of the Phoenix (Harry Potter, #5)': 1,\n",
       " 'Harry Potter and the Prisoner of Azkaban (Harry Potter, #3)': 1,\n",
       " 'The High Window (Philip Marlowe, #3)': 1,\n",
       " 'The History of Sexuality, Volume 1: An Introduction': 1,\n",
       " \"The Hitchhiker's Guide to the Galaxy (Hitchhiker's Guide to the Galaxy, #1)\": 3,\n",
       " 'A Short History of Nearly Everything': 2,\n",
       " 'Angels & Demons  (Robert Langdon, #1)': 1,\n",
       " 'In a Sunburned Country': 2,\n",
       " 'Notes from a Small Island': 1,\n",
       " 'J.R.R. Tolkien 4-Book Boxed Set: The Hobbit and The Lord of the Rings': 1,\n",
       " 'Motor Mouth (Alex Barnaby #2)': 1,\n",
       " 'The Alchemist': 1,\n",
       " 'The Automatic Millionaire: A Powerful One-Step Plan to Live and Finish Rich': 1,\n",
       " 'The Brothers Karamazov': 1,\n",
       " \"The Ultimate Hitchhiker's Guide to the Galaxy\": 1,\n",
       " 'Harry Potter Collection (Harry Potter, #1-6)': 2,\n",
       " 'Brave New World Revisited ': 1,\n",
       " \"Gulliver's Travels\": 1,\n",
       " \"In the Company of Cheerful Ladies (No. 1 Ladies' Detective Agency, #6)\": 1,\n",
       " 'Into the Wild': 1,\n",
       " 'The Long Dark Tea-Time of the Soul (Dirk Gently, #2)': 1,\n",
       " 'Veronika Decides to Die': 1,\n",
       " 'Falling Angels': 1,\n",
       " 'Harry Potter Boxed Set, Books 1-5 (Harry Potter, #1-5)': 1,\n",
       " 'The Canterbury Tales': 1,\n",
       " 'The Millionaire Next Door: The Surprising Secrets of Americas Wealthy': 1}"
      ]
     },
     "execution_count": 25,
     "metadata": {},
     "output_type": "execute_result"
    }
   ],
   "source": [
    "most_common_favorites"
   ]
  },
  {
   "cell_type": "markdown",
   "metadata": {
    "id": "zVyqhbwImslH"
   },
   "source": [
    "We then sort the above dictionary by the count of each item. We use the `key` argument in the `sorted` function to tell python to use the count of the books to sort the dictionary, rather than the book title.\n",
    "\n",
    "In this same step, we can limit our resulting list to only the top 10 in our dictionary using slicing:"
   ]
  },
  {
   "cell_type": "code",
   "execution_count": 26,
   "metadata": {
    "colab": {
     "base_uri": "https://localhost:8080/"
    },
    "id": "9cn9ZMqMrMp3",
    "outputId": "0da424a4-8bcd-4b58-f1bf-e1aa5d752724"
   },
   "outputs": [
    {
     "data": {
      "text/plain": [
       "[('Harry Potter and the Goblet of Fire (Harry Potter, #4)', 11),\n",
       " ('Harry Potter and the Half-Blood Prince (Harry Potter, #6)', 8),\n",
       " ('The Lord of the Rings: Weapons and Warfare', 6),\n",
       " (\"I'm a Stranger Here Myself: Notes on Returning to America after Twenty Years Away\",\n",
       "  5),\n",
       " ('Treasure Island', 4),\n",
       " (\"The Hitchhiker's Guide to the Galaxy (Hitchhiker's Guide to the Galaxy, #1)\",\n",
       "  3),\n",
       " ('Children of Dune (Dune Chronicles #3)', 2),\n",
       " ('The Broken Wings', 2),\n",
       " ('Neither Here nor There: Travels in Europe', 2),\n",
       " ('The Power of One (The Power of One, #1)', 2),\n",
       " ('A Short History of Nearly Everything', 2)]"
      ]
     },
     "execution_count": 26,
     "metadata": {},
     "output_type": "execute_result"
    }
   ],
   "source": [
    "sorted_list = sorted(most_common_favorites.items(), key=operator.itemgetter(1), reverse=True)[:11]\n",
    "sorted_list"
   ]
  },
  {
   "cell_type": "markdown",
   "metadata": {
    "id": "1kns0S03nE8u"
   },
   "source": [
    "Finally, all that is left to do is return only the name of the books, not their count, to our user. We do this by using indexing: `x[0] for x in sorted_list]` ensures we are only returning the first element of each tuple (i.e., the book title):"
   ]
  },
  {
   "cell_type": "code",
   "execution_count": 27,
   "metadata": {
    "colab": {
     "base_uri": "https://localhost:8080/"
    },
    "id": "bzjLE0CBrTfg",
    "outputId": "47b1dcf1-7966-464f-aa89-76b50b3bee82"
   },
   "outputs": [
    {
     "data": {
      "text/plain": [
       "['Harry Potter and the Goblet of Fire (Harry Potter, #4)',\n",
       " 'Harry Potter and the Half-Blood Prince (Harry Potter, #6)',\n",
       " 'The Lord of the Rings: Weapons and Warfare',\n",
       " \"I'm a Stranger Here Myself: Notes on Returning to America after Twenty Years Away\",\n",
       " 'Treasure Island',\n",
       " \"The Hitchhiker's Guide to the Galaxy (Hitchhiker's Guide to the Galaxy, #1)\",\n",
       " 'Children of Dune (Dune Chronicles #3)',\n",
       " 'The Broken Wings',\n",
       " 'Neither Here nor There: Travels in Europe',\n",
       " 'The Power of One (The Power of One, #1)',\n",
       " 'A Short History of Nearly Everything']"
      ]
     },
     "execution_count": 27,
     "metadata": {},
     "output_type": "execute_result"
    }
   ],
   "source": [
    "top_N = [x[0] for x in sorted_list]\n",
    "top_N"
   ]
  },
  {
   "cell_type": "markdown",
   "metadata": {
    "id": "d4NCjpgwnY6e"
   },
   "source": [
    "Now let's compare that output to what we actually get from the function:"
   ]
  },
  {
   "cell_type": "code",
   "execution_count": 29,
   "metadata": {
    "colab": {
     "base_uri": "https://localhost:8080/"
    },
    "id": "IdZ4CFrDpLDD",
    "outputId": "8e315356-3d89-4e42-de2e-ea505863c4d2"
   },
   "outputs": [
    {
     "data": {
      "text/plain": [
       "['Harry Potter and the Goblet of Fire (Harry Potter, #4)',\n",
       " 'Harry Potter and the Half-Blood Prince (Harry Potter, #6)',\n",
       " 'The Lord of the Rings: Weapons and Warfare',\n",
       " \"I'm a Stranger Here Myself: Notes on Returning to America after Twenty Years Away\",\n",
       " 'Treasure Island',\n",
       " \"The Hitchhiker's Guide to the Galaxy (Hitchhiker's Guide to the Galaxy, #1)\",\n",
       " 'Children of Dune (Dune Chronicles #3)',\n",
       " 'The Broken Wings',\n",
       " 'Neither Here nor There: Travels in Europe',\n",
       " 'The Power of One (The Power of One, #1)',\n",
       " 'A Short History of Nearly Everything']"
      ]
     },
     "execution_count": 29,
     "metadata": {},
     "output_type": "execute_result"
    }
   ],
   "source": [
    "# Our recommended list for user 314\n",
    "collab_generate_top_N_recommendations(314)"
   ]
  },
  {
   "cell_type": "markdown",
   "metadata": {},
   "source": [
    "---"
   ]
  },
  {
   "cell_type": "markdown",
   "metadata": {
    "id": "nYcBldRJo697"
   },
   "source": [
    "## Rating Predictions"
   ]
  },
  {
   "cell_type": "markdown",
   "metadata": {
    "id": "584VHHsipULz"
   },
   "source": [
    "We can generate user-item ratings for collaborative filtering using the following algorithmic steps:\n",
    "\n",
    "1. Select a reference user from the database and a reference item (book) they have not rated.\n",
    "2. For the reference user, gather the similarity values between them and each other user.\n",
    "3. Sort the gathered similarity values in descending order.\n",
    "4. Select the  𝑘\n",
    "  highest similarity values which are above a given threshold value, creating a collection  𝐾\n",
    "  similar users.\n",
    "5. For each user in collection  𝐾\n",
    " , get their rating of the reference item if it exists (other users may not have rated this item as well)\n",
    "6. Compute a weighted average rating from both the gathered rating values and user similarity values."
   ]
  },
  {
   "cell_type": "markdown",
   "metadata": {
    "id": "b2bCXT2bnd6w"
   },
   "source": [
    "Here is the full function as detailed in the trains - but we will break it down into steps afterwards:"
   ]
  },
  {
   "cell_type": "code",
   "execution_count": 36,
   "metadata": {
    "id": "ni7WVSQIpT70"
   },
   "outputs": [],
   "source": [
    "def collab_generate_rating_estimate(book_title, user, k=20, threshold=0.0):\n",
    "\n",
    "    # Gather the k users which are most similar to the reference user\n",
    "    sim_users = user_sim_df.sort_values(by=user, ascending=False).index[1:k+1]\n",
    "\n",
    "    # Store the corresponding user's similarity values\n",
    "    user_values = user_sim_df.sort_values(by=user, ascending=False).loc[:,user].tolist()[1:k+1]\n",
    "\n",
    "    rating_list = [] # <-- List of k user's ratings for the reference item\n",
    "    weight_list = [] # <-- List of k user's similarities to the reference user\n",
    "\n",
    "    # Create a weighted sum for each of the k users who have rated the\n",
    "    # reference item (book).\n",
    "    for sim_idx, user_id in enumerate(sim_users):\n",
    "        # User's rating of the item\n",
    "        rating = util_matrix.loc[user_id, book_title]\n",
    "        # User's similarity to the reference user\n",
    "        similarity = user_values[sim_idx]\n",
    "        # Skip the user if they have not rated the item, or are too dissimilar to\n",
    "        # the reference user\n",
    "        if (np.isnan(rating)) or (similarity < threshold):\n",
    "            continue\n",
    "        elif not np.isnan(rating):\n",
    "            rating_list.append(rating*similarity)\n",
    "            weight_list.append(similarity)\n",
    "    try:\n",
    "        # Return the weighted sum as the predicted rating for the reference item\n",
    "        predicted_rating = sum(rating_list)/sum(weight_list)\n",
    "    except ZeroDivisionError:\n",
    "        # If no ratings for the reference item can be collected, return the average\n",
    "        # rating given by all users for the item.\n",
    "        predicted_rating = np.mean(util_matrix[book_title])\n",
    "    return predicted_rating"
   ]
  },
  {
   "cell_type": "markdown",
   "metadata": {
    "id": "fsj6Jz0lpQHF"
   },
   "source": [
    "We start off by collecting the k-most similar users to our reference user, as with the previous function (in this case, 20 users):"
   ]
  },
  {
   "cell_type": "code",
   "execution_count": 30,
   "metadata": {
    "colab": {
     "base_uri": "https://localhost:8080/"
    },
    "id": "4RbLrzMiucZs",
    "outputId": "c180b751-6520-4980-dc62-002ec3de508e"
   },
   "outputs": [
    {
     "data": {
      "text/plain": [
       "Int64Index([ 1964, 18957, 33119, 18361, 51838, 17663,   588, 10140, 32635,\n",
       "            43985, 11854, 28509,  9722, 17189, 30879,   725,  6016, 40251,\n",
       "            12024, 24326],\n",
       "           dtype='int64', name='user_id')"
      ]
     },
     "execution_count": 30,
     "metadata": {},
     "output_type": "execute_result"
    }
   ],
   "source": [
    "# Gather the k users which are most similar to the reference user\n",
    "sim_users = user_sim_df.sort_values(by=314, ascending=False).index[1:21]\n",
    "sim_users"
   ]
  },
  {
   "cell_type": "markdown",
   "metadata": {
    "id": "TVjPCFocpafu"
   },
   "source": [
    "Next, since we want to be calculating a weighted average at the end of this, we also need to store the similarity values for each of these 20 users, and store them in a list in descending order:"
   ]
  },
  {
   "cell_type": "code",
   "execution_count": 31,
   "metadata": {
    "colab": {
     "base_uri": "https://localhost:8080/"
    },
    "id": "NlXX3UTEu-NB",
    "outputId": "5e6525ce-2d1e-4613-b14e-b23a7a407c90"
   },
   "outputs": [
    {
     "data": {
      "text/plain": [
       "[0.3903270358962388,\n",
       " 0.38752188227650997,\n",
       " 0.31257183082499185,\n",
       " 0.3004831696289196,\n",
       " 0.27714723480365766,\n",
       " 0.2693671928551703,\n",
       " 0.265541228697193,\n",
       " 0.26147815138290853,\n",
       " 0.25519784132951534,\n",
       " 0.24972641435540344,\n",
       " 0.23941870357811101,\n",
       " 0.23902551768969965,\n",
       " 0.23688317740355277,\n",
       " 0.23667052904918376,\n",
       " 0.23524078567485052,\n",
       " 0.23475160221647717,\n",
       " 0.23280735794485072,\n",
       " 0.22983222854778815,\n",
       " 0.22855210968295453,\n",
       " 0.22236412140540754]"
      ]
     },
     "execution_count": 31,
     "metadata": {},
     "output_type": "execute_result"
    }
   ],
   "source": [
    "# Store the corresponding user's similarity values\n",
    "user_values = user_sim_df.sort_values(by=314, ascending=False).loc[:,314].tolist()[1:21]\n",
    "user_values"
   ]
  },
  {
   "cell_type": "markdown",
   "metadata": {
    "id": "CsX3bUPmpvNC"
   },
   "source": [
    "Next up, we want to go through our list of most similar users, and get their ratings for our chosen book (if they have rated it).\n",
    "\n",
    "We do this using a `for-loop` to `enumerate` through our `sim_users` variable created earlier on. We use the utiliy matrix to collect the user's rating of our reference book (saved as `rating`), and also the similarity value for this user from our `user_values` list we created before (`similarity`).\n",
    "\n",
    "Then we check for each of our similar users if either:\n",
    "- they have not rated the book (`if (np.isnan(rating))`) or\n",
    "- their similarity value is below our threshold (`similarity < threshold`)\n",
    "\n",
    "If either of these is the case for a particular similar user, we will simply skip them (`if [conditions]:`\n",
    "\n",
    "`continue`).\n",
    "\n",
    "If not, we go on to calculating our numerators (`rating*similarity`) and denominators (`similarity`) for our weighted average equation. We add these to our `rating_list` and `weight_list` lists to be summed later:"
   ]
  },
  {
   "cell_type": "code",
   "execution_count": 32,
   "metadata": {
    "id": "-IiXl6-tunih"
   },
   "outputs": [],
   "source": [
    "rating_list = [] # <-- List of k user's ratings for the reference item\n",
    "weight_list = [] # <-- List of k user's similarities to the reference user\n",
    "\n",
    "# Create a weighted sum for each of the k users who have rated the\n",
    "# reference item (book).\n",
    "for sim_idx, user_id in enumerate(sim_users):\n",
    "\n",
    "  # User's rating of the item\n",
    "  rating = util_matrix.loc[user_id, \"The Lord of the Rings: Weapons and Warfare\"]\n",
    "\n",
    "  # User's similarity to the reference user\n",
    "  similarity = user_values[sim_idx]\n",
    "\n",
    "  # Skip the user if they have not rated the item, or are too dissimilar to\n",
    "  # the reference user\n",
    "  if (np.isnan(rating)) or (similarity < 0.0):\n",
    "    continue\n",
    "  elif not np.isnan(rating):\n",
    "    rating_list.append(rating*similarity)\n",
    "    weight_list.append(similarity)"
   ]
  },
  {
   "cell_type": "code",
   "execution_count": 33,
   "metadata": {
    "colab": {
     "base_uri": "https://localhost:8080/"
    },
    "id": "D44dzGYWvT0_",
    "outputId": "5d554dd8-fab2-456a-dc12-af3fc429a61d"
   },
   "outputs": [
    {
     "data": {
      "text/plain": [
       "[1.2019326785156783,\n",
       " 1.3857361740182883,\n",
       " 1.3468359642758516,\n",
       " 1.0459126055316341,\n",
       " 1.2759892066475766,\n",
       " 0.9989056574216137,\n",
       " 0.9576748143124441]"
      ]
     },
     "execution_count": 33,
     "metadata": {},
     "output_type": "execute_result"
    }
   ],
   "source": [
    "rating_list"
   ]
  },
  {
   "cell_type": "code",
   "execution_count": 34,
   "metadata": {
    "colab": {
     "base_uri": "https://localhost:8080/"
    },
    "id": "5QgvamccvVgE",
    "outputId": "e4c4f95d-c80d-436e-b5d5-24400c31ed92"
   },
   "outputs": [
    {
     "data": {
      "text/plain": [
       "[0.3004831696289196,\n",
       " 0.27714723480365766,\n",
       " 0.2693671928551703,\n",
       " 0.26147815138290853,\n",
       " 0.25519784132951534,\n",
       " 0.24972641435540344,\n",
       " 0.23941870357811101]"
      ]
     },
     "execution_count": 34,
     "metadata": {},
     "output_type": "execute_result"
    }
   ],
   "source": [
    "weight_list"
   ]
  },
  {
   "cell_type": "markdown",
   "metadata": {
    "id": "WG9KXAFCsFG6"
   },
   "source": [
    "Once done, we can go ahead to calculate the predicted rating, to be returned:"
   ]
  },
  {
   "cell_type": "code",
   "execution_count": 35,
   "metadata": {
    "colab": {
     "base_uri": "https://localhost:8080/"
    },
    "id": "AcrzLScEvauR",
    "outputId": "718abafd-0e99-4d84-9a97-1abb3e2767e2"
   },
   "outputs": [
    {
     "data": {
      "text/plain": [
       "4.432698712267665"
      ]
     },
     "execution_count": 35,
     "metadata": {},
     "output_type": "execute_result"
    }
   ],
   "source": [
    "predicted_rating = sum(rating_list)/sum(weight_list)\n",
    "predicted_rating"
   ]
  },
  {
   "cell_type": "markdown",
   "metadata": {
    "id": "YYtdm3S3sNA6"
   },
   "source": [
    "Now let's compare that output to what we actually get from the function:"
   ]
  },
  {
   "cell_type": "code",
   "execution_count": 37,
   "metadata": {
    "colab": {
     "base_uri": "https://localhost:8080/"
    },
    "id": "dKfgPb7YpRo7",
    "outputId": "0438bb1c-f578-4d1b-85a8-4f814b5b6f50"
   },
   "outputs": [
    {
     "name": "stdout",
     "output_type": "stream",
     "text": [
      "Title - The Lord of the Rings: Weapons and Warfare\n",
      "---\n",
      "Actual rating: \t\t 4\n",
      "Predicted rating: \t 4.432698712267665\n"
     ]
    }
   ],
   "source": [
    "title = \"The Lord of the Rings: Weapons and Warfare\"\n",
    "actual_rating = book_ratings[(book_ratings['user_id'] == 314) & (book_ratings['title'] == title)]['rating'].values[0]\n",
    "pred_rating = collab_generate_rating_estimate(book_title = title, user = 314)\n",
    "print (f\"Title - {title}\")\n",
    "print (\"---\")\n",
    "print (f\"Actual rating: \\t\\t {actual_rating}\")\n",
    "print (f\"Predicted rating: \\t {pred_rating}\")"
   ]
  },
  {
   "cell_type": "markdown",
   "metadata": {},
   "source": [
    "---"
   ]
  },
  {
   "cell_type": "markdown",
   "metadata": {
    "id": "t6T390lDv-7T"
   },
   "source": [
    "## Scikit-surprise package"
   ]
  },
  {
   "cell_type": "markdown",
   "metadata": {
    "id": "ZDm-jUL7sR5q"
   },
   "source": [
    "In this section, we introduce you to the scikit-surprise package - this is a really useful package that is specialised for recommender system problems, and contains **models** that you can use in a very similar way to how you have used sklearn models in previous sprints!\n",
    "\n",
    "Make sure to read through the [surprise documentation](https://surprise.readthedocs.io/en/stable/) to discover more about how this package works."
   ]
  },
  {
   "cell_type": "markdown",
   "metadata": {
    "id": "UNCs2HwfsoxR"
   },
   "source": [
    "First we install the surprise package if we have not already. (If this does not work, try running `!pip install surprise` instead)"
   ]
  },
  {
   "cell_type": "code",
   "execution_count": 38,
   "metadata": {
    "colab": {
     "base_uri": "https://localhost:8080/"
    },
    "id": "9w8QkFh-wI0N",
    "outputId": "24cde9c7-b0b8-4a25-b463-39bc4c210f3a"
   },
   "outputs": [
    {
     "name": "stdout",
     "output_type": "stream",
     "text": [
      "Requirement already satisfied: surprise in /usr/local/lib/python3.10/dist-packages (0.1)\n",
      "Requirement already satisfied: scikit-surprise in /usr/local/lib/python3.10/dist-packages (from surprise) (1.1.3)\n",
      "Requirement already satisfied: joblib>=1.0.0 in /usr/local/lib/python3.10/dist-packages (from scikit-surprise->surprise) (1.3.2)\n",
      "Requirement already satisfied: numpy>=1.17.3 in /usr/local/lib/python3.10/dist-packages (from scikit-surprise->surprise) (1.25.2)\n",
      "Requirement already satisfied: scipy>=1.3.2 in /usr/local/lib/python3.10/dist-packages (from scikit-surprise->surprise) (1.11.4)\n"
     ]
    }
   ],
   "source": [
    "pip install surprise"
   ]
  },
  {
   "cell_type": "markdown",
   "metadata": {
    "id": "v8dMj-xisy16"
   },
   "source": [
    "Next, we import some packages. We recommend reading up on the surprise package to fully understand what all of these are used for. There is a mix of model functions and data importing functions here."
   ]
  },
  {
   "cell_type": "code",
   "execution_count": 39,
   "metadata": {
    "id": "KLD8UpJDwGe4"
   },
   "outputs": [],
   "source": [
    "# Packages for modeling\n",
    "from surprise import Reader\n",
    "from surprise import Dataset\n",
    "from surprise import KNNWithMeans\n",
    "from surprise import KNNBasic\n",
    "from surprise.model_selection import cross_validate\n",
    "from surprise.model_selection import GridSearchCV\n",
    "from surprise import SVD\n",
    "from surprise import SVDpp\n",
    "from surprise import NMF\n",
    "from surprise import SlopeOne\n",
    "from surprise import CoClustering\n",
    "from surprise.model_selection import train_test_split\n",
    "from surprise import accuracy\n",
    "import heapq\n",
    "import operator\n",
    "\n",
    "# Packages for model evaluation\n",
    "from sklearn.metrics import mean_squared_error\n",
    "from sklearn.metrics import mean_absolute_error\n",
    "from time import time"
   ]
  },
  {
   "cell_type": "markdown",
   "metadata": {
    "id": "ZRD1NN74s9RZ"
   },
   "source": [
    "To start off, we need to instantiate a [Reader](https://surprise.readthedocs.io/en/stable/reader.html) - this essentially tells surprise how our ratings are laid out. Because this package is specialised for use with recommender systems, it is already expecting to deal with ratings. With a Reader, we specify the scale we are working with for our ratings (going from 0.5 to a max of 5.0)\n",
    "\n",
    "`reader = Reader(rating_scale = (0.5, 5.0))`\n",
    "\n",
    "Next up, we load in our data. We use the `.load_from_df` function to do just that - load our data from a pandas dataframe we already have! In this we specify our dataframe name (`book_ratings`), the column names (`[['user_id', 'book_id', 'rating']]`), and the `reader` we just created.\n",
    "\n",
    "`data = Dataset.load_from_df(book_ratings[['user_id', 'book_id', 'rating']], reader)`\n",
    "\n",
    "Check out some of the other ways to read in data [here](https://surprise.readthedocs.io/en/stable/dataset.html)\n",
    "\n"
   ]
  },
  {
   "cell_type": "code",
   "execution_count": 40,
   "metadata": {
    "id": "D_8Tc7lZwA1Q"
   },
   "outputs": [],
   "source": [
    "# instantiate our reader and load our data\n",
    "reader = Reader(rating_scale = (0.5, 5.0))\n",
    "data = Dataset.load_from_df(book_ratings[['user_id', 'book_id', 'rating']], reader)"
   ]
  },
  {
   "cell_type": "markdown",
   "metadata": {
    "id": "ON39wlX1t1NH"
   },
   "source": [
    "Now that our data is ready to go, we can start thinking in a similar fashion to how we did with previous ML sprints. First things first, let's create train and test sets to use with our models.\n",
    "\n",
    "Notice how we don't create `X_train`, `y_train`, `X_test` and `y_test` however! Because the surprise package knows we are using ratings data, it already knows we're trying to predict ratings - all we need to do is split into a `trainset` and `testset`.\n",
    "\n",
    "We still use the `train_test_split` function to do this (note: in the imports section, we imported this function from surprise, not from sklearn!). Here we can also specify a `test_size`, much like with sklearn's version:"
   ]
  },
  {
   "cell_type": "code",
   "execution_count": null,
   "metadata": {
    "id": "CAgV9sPltzzb"
   },
   "outputs": [],
   "source": [
    "trainset, testset = train_test_split(data, test_size = 0.1)"
   ]
  },
  {
   "cell_type": "markdown",
   "metadata": {
    "id": "Yd3Y7fRPuwOU"
   },
   "source": [
    "Now we're getting to the good part - modelling! The modelling process is quite straightforward. We instantiate our model, fit it to our training data using the `.fit` method, and then make predictions. The difference here is that surprise models **don't** use `.predict`, they use `.test` to make predictions:"
   ]
  },
  {
   "cell_type": "code",
   "execution_count": 41,
   "metadata": {
    "id": "ofUyOhBCwlYK"
   },
   "outputs": [],
   "source": [
    "# instantiate model\n",
    "svd = SVD()\n",
    "\n",
    "#fit it to our training data\n",
    "svd.fit(trainset)\n",
    "\n",
    "# create our predictions\n",
    "preds = svd.test(testset)"
   ]
  },
  {
   "cell_type": "code",
   "execution_count": 42,
   "metadata": {
    "id": "8FZhxj9FwpQ2"
   },
   "outputs": [],
   "source": [
    "# instantiate our model\n",
    "nmf = NMF()\n",
    "\n",
    "# fit it to our training data\n",
    "nmf.fit(trainset)\n",
    "\n",
    "# create our predictions\n",
    "preds_nmf = nmf.test(testset)"
   ]
  },
  {
   "cell_type": "markdown",
   "metadata": {
    "id": "SRNdz_7UvFLD"
   },
   "source": [
    "Lastly, we can use surprise's metrics to calculate RMSE in a pretty straightforward way, using `accuracy.rmse()` to give us an idea of how well the model performs. Remember with RMSE, it's an error metric, so the lower it is, the better!"
   ]
  },
  {
   "cell_type": "code",
   "execution_count": 43,
   "metadata": {
    "colab": {
     "base_uri": "https://localhost:8080/"
    },
    "id": "XfmaQyYEwq2r",
    "outputId": "d98e5304-86c0-430b-feec-ec5c021b29bc"
   },
   "outputs": [
    {
     "name": "stdout",
     "output_type": "stream",
     "text": [
      "RMSE: 0.9116\n",
      "RMSE: 1.0428\n"
     ]
    }
   ],
   "source": [
    "#evaluate using the RMSE\n",
    "svd_rmse = accuracy.rmse(preds)\n",
    "nmf_rmse = accuracy.rmse(preds_nmf)"
   ]
  },
  {
   "cell_type": "code",
   "execution_count": null,
   "metadata": {
    "id": "uhaRz5MIwsuH"
   },
   "outputs": [],
   "source": []
  }
 ],
 "metadata": {
  "colab": {
   "collapsed_sections": [
    "sx0aQoFko7j8",
    "nYcBldRJo697"
   ],
   "provenance": []
  },
  "kernelspec": {
   "display_name": "Python 3 (ipykernel)",
   "language": "python",
   "name": "python3"
  },
  "language_info": {
   "codemirror_mode": {
    "name": "ipython",
    "version": 3
   },
   "file_extension": ".py",
   "mimetype": "text/x-python",
   "name": "python",
   "nbconvert_exporter": "python",
   "pygments_lexer": "ipython3",
   "version": "3.9.18"
  }
 },
 "nbformat": 4,
 "nbformat_minor": 4
}
