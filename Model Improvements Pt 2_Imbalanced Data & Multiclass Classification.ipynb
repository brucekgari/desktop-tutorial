{
 "cells": [
  {
   "cell_type": "markdown",
   "id": "857727f7",
   "metadata": {
    "rise": {
     "scroll": true
    },
    "slideshow": {
     "slide_type": "slide"
    }
   },
   "source": [
    "# Imbalanced Data + Multiclass Classification\n",
    "\n",
    "\n",
    "**In this webinar:**\n",
    "\n",
    "1. Imbalanced Data\n",
    "    - Why is it a problem?\n",
    "    - How do we deal with it?\n",
    "        - Upsampling\n",
    "        - Downsampling\n",
    "        - Something in between...? (+ SMOTE)\n",
    "2. Multiclass Classification\n",
    "    - What is it?\n",
    "    - Implementation\n",
    "    - Evaluating models with multiclass classification"
   ]
  },
  {
   "cell_type": "markdown",
   "id": "080aaeef",
   "metadata": {
    "slideshow": {
     "slide_type": "subslide"
    }
   },
   "source": [
    "**Objectives**:\n",
    "\n",
    "- Explain the implications of using imbalanced data\n",
    "- Distinguish between upsampling and downsampling\n",
    "- Apply ML models to a multiclass classification problem"
   ]
  },
  {
   "cell_type": "code",
   "execution_count": 1,
   "id": "27561853",
   "metadata": {
    "slideshow": {
     "slide_type": "slide"
    }
   },
   "outputs": [],
   "source": [
    "# Imports\n",
    "import numpy as np\n",
    "import pandas as pd\n",
    "\n",
    "from matplotlib import pyplot as plt\n",
    "from sklearn.utils import resample\n",
    "from sklearn.feature_extraction.text import CountVectorizer\n",
    "\n",
    "import sklearn\n",
    "from sklearn import preprocessing\n",
    "from sklearn.linear_model import LogisticRegression\n",
    "from sklearn.ensemble import RandomForestClassifier\n",
    "from sklearn.model_selection import train_test_split\n",
    "from sklearn import metrics\n",
    "from sklearn.metrics import classification_report\n",
    "\n",
    "import warnings\n",
    "warnings.filterwarnings('ignore')"
   ]
  },
  {
   "cell_type": "code",
   "execution_count": 2,
   "id": "d9934980",
   "metadata": {
    "slideshow": {
     "slide_type": "slide"
    }
   },
   "outputs": [
    {
     "data": {
      "text/html": [
       "<div>\n",
       "<style scoped>\n",
       "    .dataframe tbody tr th:only-of-type {\n",
       "        vertical-align: middle;\n",
       "    }\n",
       "\n",
       "    .dataframe tbody tr th {\n",
       "        vertical-align: top;\n",
       "    }\n",
       "\n",
       "    .dataframe thead th {\n",
       "        text-align: right;\n",
       "    }\n",
       "</style>\n",
       "<table border=\"1\" class=\"dataframe\">\n",
       "  <thead>\n",
       "    <tr style=\"text-align: right;\">\n",
       "      <th></th>\n",
       "      <th>spam</th>\n",
       "      <th>email</th>\n",
       "    </tr>\n",
       "  </thead>\n",
       "  <tbody>\n",
       "    <tr>\n",
       "      <th>0</th>\n",
       "      <td>ham</td>\n",
       "      <td>Go until jurong point, crazy.. Available only ...</td>\n",
       "    </tr>\n",
       "    <tr>\n",
       "      <th>1</th>\n",
       "      <td>ham</td>\n",
       "      <td>Ok lar... Joking wif u oni...</td>\n",
       "    </tr>\n",
       "    <tr>\n",
       "      <th>2</th>\n",
       "      <td>spam</td>\n",
       "      <td>Free entry in 2 a wkly comp to win FA Cup fina...</td>\n",
       "    </tr>\n",
       "    <tr>\n",
       "      <th>3</th>\n",
       "      <td>ham</td>\n",
       "      <td>U dun say so early hor... U c already then say...</td>\n",
       "    </tr>\n",
       "    <tr>\n",
       "      <th>4</th>\n",
       "      <td>ham</td>\n",
       "      <td>Nah I don't think he goes to usf, he lives aro...</td>\n",
       "    </tr>\n",
       "  </tbody>\n",
       "</table>\n",
       "</div>"
      ],
      "text/plain": [
       "   spam                                              email\n",
       "0   ham  Go until jurong point, crazy.. Available only ...\n",
       "1   ham                      Ok lar... Joking wif u oni...\n",
       "2  spam  Free entry in 2 a wkly comp to win FA Cup fina...\n",
       "3   ham  U dun say so early hor... U c already then say...\n",
       "4   ham  Nah I don't think he goes to usf, he lives aro..."
      ]
     },
     "execution_count": 2,
     "metadata": {},
     "output_type": "execute_result"
    }
   ],
   "source": [
    "# Let's import our spam data!\n",
    "emails = pd.read_csv('spam.csv', encoding = \"ISO-8859-1\")\n",
    "\n",
    "# Clean up the data a little\n",
    "emails = emails[['v1', 'v2']]\n",
    "emails = emails.rename(columns={\"v1\": \"spam\", \"v2\": \"email\"})\n",
    "\n",
    "emails.head()"
   ]
  },
  {
   "cell_type": "markdown",
   "id": "70316505",
   "metadata": {
    "slideshow": {
     "slide_type": "slide"
    }
   },
   "source": [
    "## 1. Imbalanced Data\n",
    "\n",
    "### 1.1 Why is this an issue in machine learning?\n",
    "Imabalanced data occurs when we have a dataset that has an uneven representation of our classes in our dataset. Let's have a look at the occurrences of ham/spam in our dataset:"
   ]
  },
  {
   "cell_type": "code",
   "execution_count": 3,
   "id": "cfee6510",
   "metadata": {
    "slideshow": {
     "slide_type": "subslide"
    }
   },
   "outputs": [
    {
     "data": {
      "text/plain": [
       "ham     4825\n",
       "spam     747\n",
       "Name: spam, dtype: int64"
      ]
     },
     "execution_count": 3,
     "metadata": {},
     "output_type": "execute_result"
    }
   ],
   "source": [
    "emails['spam'].value_counts()"
   ]
  },
  {
   "cell_type": "code",
   "execution_count": 4,
   "id": "577da51b",
   "metadata": {
    "slideshow": {
     "slide_type": "subslide"
    }
   },
   "outputs": [
    {
     "data": {
      "image/png": "[encoded data removed]",
      "text/plain": [
       "<Figure size 432x288 with 1 Axes>"
      ]
     },
     "metadata": {
      "needs_background": "light"
     },
     "output_type": "display_data"
    }
   ],
   "source": [
    "# Let's visualise this:\n",
    "\n",
    "ham_or_spam = emails[['spam', 'email']].groupby('spam').count()\n",
    "\n",
    "ham_or_spam.sort_values('spam', ascending=False).plot(kind='bar')\n",
    "plt.show()"
   ]
  },
  {
   "cell_type": "markdown",
   "id": "0f263535",
   "metadata": {
    "slideshow": {
     "slide_type": "subslide"
    }
   },
   "source": [
    "We can clearly see that we have many more occurrences of 'ham' (real emails) than spam. While this might be a good representation of the frequency of occurrence of these in real life, it poses an issue to models trying to make predictions:\n",
    "\n",
    "- Bias in model prediction\n",
    "- Misleading evaluation metrics"
   ]
  },
  {
   "cell_type": "markdown",
   "id": "dc4ee347",
   "metadata": {
    "slideshow": {
     "slide_type": "subslide"
    }
   },
   "source": [
    "### 1.2 How do we deal with imbalanced data?\n",
    "\n",
    "\n",
    "#### 1.2.1 Upsampling\n",
    "\n",
    "One method of balancing data is upsampling. Upsampling takes our minority class and 'creates' new records by resampling randomly from the data we have existing in that class, until we reach an equal number of records as the majority class. \n",
    "\n",
    "![](https://miro.medium.com/v2/resize:fit:670/1*Nvqtr27enOmIFktPYnq_Yg.png)\n"
   ]
  },
  {
   "cell_type": "markdown",
   "id": "baf4a808",
   "metadata": {
    "slideshow": {
     "slide_type": "subslide"
    }
   },
   "source": [
    "This process essentially duplicates existing records from the minority class in order to upsample. This in itself can pose some issues:\n",
    "\n",
    "- Overfitting\n",
    "- Redundant information\n",
    "- Amplifying noise\n",
    "- Computational costs...?"
   ]
  },
  {
   "cell_type": "code",
   "execution_count": 5,
   "id": "90ad100d",
   "metadata": {
    "slideshow": {
     "slide_type": "subslide"
    }
   },
   "outputs": [
    {
     "data": {
      "text/plain": [
       "spam    4825\n",
       "ham     4825\n",
       "Name: spam, dtype: int64"
      ]
     },
     "execution_count": 5,
     "metadata": {},
     "output_type": "execute_result"
    }
   ],
   "source": [
    "# Upsampling\n",
    "spam = emails[emails['spam']=='spam']\n",
    "not_spam = emails[emails['spam']=='ham']\n",
    "\n",
    "spam_upsampled = resample(spam,\n",
    "                          replace=True, # sample with replacement (we need to duplicate observations)\n",
    "                          n_samples=len(not_spam), # match number in majority class\n",
    "                          random_state=27) # reproducible results\n",
    "\n",
    "# Combine upsampled minority class with majority class\n",
    "upsampled = pd.concat([spam_upsampled, not_spam])\n",
    "\n",
    "# Check new class counts\n",
    "upsampled['spam'].value_counts()"
   ]
  },
  {
   "cell_type": "code",
   "execution_count": 30,
   "id": "81420b3c",
   "metadata": {
    "slideshow": {
     "slide_type": "subslide"
    }
   },
   "outputs": [
    {
     "data": {
      "image/png": "[encoded data removed]",
      "text/plain": [
       "<Figure size 432x288 with 1 Axes>"
      ]
     },
     "metadata": {
      "needs_background": "light"
     },
     "output_type": "display_data"
    }
   ],
   "source": [
    "orig_heights = [len(emails[emails['spam']=='ham']),len(emails[emails['spam']=='spam'])]\n",
    "upsampled_heights = [len(upsampled[upsampled['spam']=='ham']),len(upsampled[upsampled['spam']=='spam'])]\n",
    "\n",
    "# Get all possible labels\n",
    "labels = upsampled['spam'].unique()\n",
    "plt.bar(labels,upsampled_heights,color='orange')\n",
    "plt.bar(labels,orig_heights,color='dodgerblue')\n",
    "plt.xticks(labels,['not spam','spam'])\n",
    "plt.ylabel(\"# of observations\")\n",
    "plt.legend(['resampled','original'])\n",
    "plt.show()"
   ]
  },
  {
   "cell_type": "markdown",
   "id": "1759e888",
   "metadata": {
    "slideshow": {
     "slide_type": "subslide"
    }
   },
   "source": [
    "*(**Note**: we are not doing proper NLP on this text data for the sake of time. Make sure to use data cleaning and feature engineering with your own data!)*"
   ]
  },
  {
   "cell_type": "code",
   "execution_count": 7,
   "id": "41c6ef3d",
   "metadata": {
    "slideshow": {
     "slide_type": "subslide"
    }
   },
   "outputs": [
    {
     "name": "stdout",
     "output_type": "stream",
     "text": [
      "              precision    recall  f1-score   support\n",
      "\n",
      "         ham       1.00      0.99      1.00       963\n",
      "        spam       0.99      1.00      1.00       967\n",
      "\n",
      "    accuracy                           1.00      1930\n",
      "   macro avg       1.00      1.00      1.00      1930\n",
      "weighted avg       1.00      1.00      1.00      1930\n",
      "\n"
     ]
    }
   ],
   "source": [
    "# Let's see how our model performs with upsampled data...\n",
    "# Create a CountVectorizer instance\n",
    "vectorizer = CountVectorizer()\n",
    "\n",
    "\n",
    "# Fit and transform the documents, set up X and y\n",
    "X = vectorizer.fit_transform(upsampled['email'])\n",
    "y = np.array(upsampled['spam'])\n",
    "\n",
    "\n",
    "# Train/test split\n",
    "X_train, X_test, y_train, y_test = train_test_split(X, y, test_size=0.2, random_state=27)\n",
    "\n",
    "\n",
    "# Train our model, make predictions\n",
    "lr = LogisticRegression()\n",
    "lr.fit(X_train, y_train)\n",
    "\n",
    "y_pred_upsamp = lr.predict(X_test)\n",
    "\n",
    "\n",
    "# Classification report\n",
    "print(classification_report(y_test, y_pred_upsamp))"
   ]
  },
  {
   "cell_type": "markdown",
   "id": "dd4aa07a",
   "metadata": {
    "slideshow": {
     "slide_type": "subslide"
    }
   },
   "source": [
    "#### 1.2.2 Downsampling\n",
    "\n",
    "Downsampling is essentially the opposite of upsampling. Instead of increasing the number of records in the minority class, we simply **reduce** the number of records in the **majority** class until we have an equal amount of records as in the minority class. \n",
    "\n",
    "![](https://miro.medium.com/v2/resize:fit:872/1*-xq4D-UI6ksqFkSBiaZjdA.png)"
   ]
  },
  {
   "cell_type": "markdown",
   "id": "9baa865f",
   "metadata": {
    "slideshow": {
     "slide_type": "subslide"
    }
   },
   "source": [
    "This process takes a random sample from our majority class, the size of the minority class. Some potential issues of downsampling are:\n",
    "\n",
    "- Information loss\n",
    "- Potential biased sampling\n",
    "- Increased variability\n",
    "- Generalisation issues"
   ]
  },
  {
   "cell_type": "code",
   "execution_count": 8,
   "id": "ccd01bee",
   "metadata": {
    "slideshow": {
     "slide_type": "subslide"
    }
   },
   "outputs": [
    {
     "data": {
      "text/plain": [
       "ham     747\n",
       "spam    747\n",
       "Name: spam, dtype: int64"
      ]
     },
     "execution_count": 8,
     "metadata": {},
     "output_type": "execute_result"
    }
   ],
   "source": [
    "# Downsampling\n",
    "not_spam_downsampled = resample(not_spam,\n",
    "                          replace=False, # sample without replacement (no need to duplicate observations)\n",
    "                          n_samples=len(spam), # match number in minority class\n",
    "                          random_state=27) # reproducible results\n",
    "\n",
    "# Combine downsampled majority class with minority class\n",
    "downsampled = pd.concat([not_spam_downsampled, spam])\n",
    "\n",
    "# Check new class counts\n",
    "downsampled['spam'].value_counts()"
   ]
  },
  {
   "cell_type": "code",
   "execution_count": 31,
   "id": "f9d451cf",
   "metadata": {
    "scrolled": true,
    "slideshow": {
     "slide_type": "subslide"
    }
   },
   "outputs": [
    {
     "data": {
      "image/png": "[encoded data removed]",
      "text/plain": [
       "<Figure size 432x288 with 1 Axes>"
      ]
     },
     "metadata": {
      "needs_background": "light"
     },
     "output_type": "display_data"
    }
   ],
   "source": [
    "downsampled_heights = [len(downsampled[downsampled['spam']=='ham']),len(downsampled[downsampled['spam']=='spam'])]\n",
    "\n",
    "# Get all possible labels\n",
    "labels = downsampled['spam'].unique()\n",
    "plt.bar(labels,orig_heights,color='dodgerblue')\n",
    "plt.bar(labels,downsampled_heights,color='orange')\n",
    "plt.xticks(labels,['not spam','spam'])\n",
    "plt.ylabel(\"# of observations\")\n",
    "plt.legend(['original','resampled'])\n",
    "plt.show()"
   ]
  },
  {
   "cell_type": "markdown",
   "id": "5ac5b498",
   "metadata": {
    "slideshow": {
     "slide_type": "subslide"
    }
   },
   "source": [
    "*(**Note**: we are not doing proper NLP on this text data for the sake of time. Make sure to use data cleaning and feature engineering with your own data!)*"
   ]
  },
  {
   "cell_type": "code",
   "execution_count": 32,
   "id": "ce0408d8",
   "metadata": {
    "slideshow": {
     "slide_type": "subslide"
    }
   },
   "outputs": [
    {
     "name": "stdout",
     "output_type": "stream",
     "text": [
      "              precision    recall  f1-score   support\n",
      "\n",
      "         ham       0.93      0.98      0.95       152\n",
      "        spam       0.98      0.92      0.95       147\n",
      "\n",
      "    accuracy                           0.95       299\n",
      "   macro avg       0.95      0.95      0.95       299\n",
      "weighted avg       0.95      0.95      0.95       299\n",
      "\n"
     ]
    }
   ],
   "source": [
    "# Let's see how our model performs with downsampled data...\n",
    "# Create a CountVectorizer instance\n",
    "vectorizer = CountVectorizer()\n",
    "\n",
    "\n",
    "# Fit and transform the documents, set up X and y\n",
    "X = vectorizer.fit_transform(downsampled['email'])\n",
    "y = np.array(downsampled['spam'])\n",
    "\n",
    "\n",
    "# Train/test split\n",
    "X_train, X_test, y_train, y_test = train_test_split(X, y, test_size=0.2, random_state=27)\n",
    "\n",
    "\n",
    "# Train our model, make predictions\n",
    "lr = LogisticRegression()\n",
    "lr.fit(X_train, y_train)\n",
    "\n",
    "y_pred_downsamp = lr.predict(X_test)\n",
    "\n",
    "\n",
    "# Classification report\n",
    "print(classification_report(y_test, y_pred_downsamp))"
   ]
  },
  {
   "cell_type": "code",
   "execution_count": 11,
   "id": "38500fc4",
   "metadata": {
    "slideshow": {
     "slide_type": "subslide"
    }
   },
   "outputs": [
    {
     "name": "stdout",
     "output_type": "stream",
     "text": [
      "              precision    recall  f1-score   support\n",
      "\n",
      "         ham       0.98      1.00      0.99       957\n",
      "        spam       1.00      0.89      0.94       158\n",
      "\n",
      "    accuracy                           0.98      1115\n",
      "   macro avg       0.99      0.94      0.97      1115\n",
      "weighted avg       0.98      0.98      0.98      1115\n",
      "\n"
     ]
    }
   ],
   "source": [
    "# Let's now compare with the original data...\n",
    "# Create a CountVectorizer instance\n",
    "vectorizer = CountVectorizer() \n",
    "\n",
    "\n",
    "# Fit and transform the documents, set up X and y\n",
    "X = vectorizer.fit_transform(emails['email'])\n",
    "y = np.array(emails['spam'])\n",
    "\n",
    "\n",
    "# Train/test split\n",
    "X_train, X_test, y_train, y_test = train_test_split(X, y, test_size=0.2, random_state=27)\n",
    "\n",
    "\n",
    "# Train our model, make predictions\n",
    "lr = LogisticRegression()\n",
    "lr.fit(X_train, y_train)\n",
    "\n",
    "y_pred_orig = lr.predict(X_test)\n",
    "\n",
    "\n",
    "# Classification report\n",
    "print(classification_report(y_test, y_pred_orig))"
   ]
  },
  {
   "cell_type": "markdown",
   "id": "dea4fe61",
   "metadata": {
    "slideshow": {
     "slide_type": "subslide"
    }
   },
   "source": [
    "#### 1.2.3 Something inbetween...?\n",
    "\n",
    "We can see that there are potential issues for both upsampling and downsampling. What can we do to try and avoid these issues?\n",
    "\n",
    "One possible way is to get our classes to some sort of middle-point. Upsampling the smaller classes to this midpoint, and downsampling the larger classes to this midpoint. This midpoint could be taken as half the size of the largest class, or maybe a midpoint between the size of your smallest class and the size of your biggest class. There is no one correct answer - it is up to your discretion based on your data.\n",
    "\n",
    "\n",
    "#### SMOTE\n",
    "\n",
    "Another method that is used in an attempt to alleviate the issues of plain upsampling/downsampling is SMOTE: Synthetic Minority Over-sampling Technique.\n",
    "\n",
    "SMOTE is a method that upsamples the minority class, but instead of simply duplicating records from this class, it generates new (synthetic!) examples. It does this by interpolating between a particular data point and its k-nearest neighbours. It uses and combines information from these datapoints to create a new datapoint for our minority class. This is repeated until we reach our desired number of records in the minority class."
   ]
  },
  {
   "cell_type": "markdown",
   "id": "40a63341",
   "metadata": {
    "slideshow": {
     "slide_type": "subslide"
    }
   },
   "source": [
    "![](https://miro.medium.com/v2/resize:fit:850/1*x9KrrnZFwj9Wcw1OnozRLQ.png)"
   ]
  },
  {
   "cell_type": "code",
   "execution_count": 29,
   "id": "29180484",
   "metadata": {
    "slideshow": {
     "slide_type": "subslide"
    }
   },
   "outputs": [
    {
     "name": "stdout",
     "output_type": "stream",
     "text": [
      "Number of 'ham' emails:  4825\n",
      "Number of 'spam' emails:  4825\n"
     ]
    }
   ],
   "source": [
    "# SMOTE Implementation\n",
    "from imblearn.over_sampling import SMOTE\n",
    "\n",
    "X = vectorizer.fit_transform(emails['email'])\n",
    "y = np.array(emails['spam'])\n",
    "\n",
    "sm = SMOTE(random_state=27)\n",
    "X_res, y_res = sm.fit_resample(X, y)\n",
    "\n",
    "print(\"Number of 'ham' emails: \", (y_res=='ham').sum())\n",
    "print(\"Number of 'spam' emails: \", (y_res=='spam').sum())"
   ]
  },
  {
   "cell_type": "markdown",
   "id": "f45a7cc6",
   "metadata": {
    "slideshow": {
     "slide_type": "subslide"
    }
   },
   "source": [
    "Now that we've got our X and y sorted we can try using these with classfication models - we will leave this to you to play around with!\n",
    "\n",
    "While plain SMOTE upsamples our minority class, there are other variations that can do a combination of upsampling and downsampling (such as SMOTETomek). You can read about some of these here: [link](https://www.analyticsvidhya.com/blog/2020/10/overcoming-class-imbalance-using-smote-techniques/). Feel free to try any of these out on your own data!"
   ]
  },
  {
   "cell_type": "markdown",
   "id": "e6574f0f",
   "metadata": {
    "slideshow": {
     "slide_type": "slide"
    }
   },
   "source": [
    "## 2. Multiclass Classification\n",
    "\n",
    "### 2.1 What is it?\n",
    "\n",
    "Multiclass classification is as the name suggests - classification when we have multiple classes. We've seen with our spam/not spam dataset instances of classification with just two classes (**binary** classification), but most of the time with real-world data we're trying to make classifications with more than two classes! This is referred to as multiclass classification.\n",
    "\n",
    "\n",
    "### 2.2 Implementation\n",
    "\n",
    "Let's see how we can use data with multiple classes with firstly a Logistic Regression model, then a Random Forest classifier. \n",
    "\n",
    "*(**Note**: we are not doing proper NLP on this text data for the sake of time. Make sure to use data cleaning and feature engineering with your own data!)*"
   ]
  },
  {
   "cell_type": "code",
   "execution_count": 103,
   "id": "c1c9d841",
   "metadata": {
    "slideshow": {
     "slide_type": "subslide"
    }
   },
   "outputs": [
    {
     "data": {
      "text/html": [
       "<div>\n",
       "<style scoped>\n",
       "    .dataframe tbody tr th:only-of-type {\n",
       "        vertical-align: middle;\n",
       "    }\n",
       "\n",
       "    .dataframe tbody tr th {\n",
       "        vertical-align: top;\n",
       "    }\n",
       "\n",
       "    .dataframe thead th {\n",
       "        text-align: right;\n",
       "    }\n",
       "</style>\n",
       "<table border=\"1\" class=\"dataframe\">\n",
       "  <thead>\n",
       "    <tr style=\"text-align: right;\">\n",
       "      <th></th>\n",
       "      <th>overall</th>\n",
       "      <th>reviewText</th>\n",
       "    </tr>\n",
       "  </thead>\n",
       "  <tbody>\n",
       "    <tr>\n",
       "      <th>0</th>\n",
       "      <td>4</td>\n",
       "      <td>kids like story BUT while i really wanted a bo...</td>\n",
       "    </tr>\n",
       "    <tr>\n",
       "      <th>1</th>\n",
       "      <td>4</td>\n",
       "      <td>Bought this used and it came in great conditio...</td>\n",
       "    </tr>\n",
       "    <tr>\n",
       "      <th>2</th>\n",
       "      <td>5</td>\n",
       "      <td>Every story and book about Corduroy is Fantast...</td>\n",
       "    </tr>\n",
       "    <tr>\n",
       "      <th>3</th>\n",
       "      <td>5</td>\n",
       "      <td>I purchased this book for my first grade class...</td>\n",
       "    </tr>\n",
       "    <tr>\n",
       "      <th>4</th>\n",
       "      <td>5</td>\n",
       "      <td>Having spent numerous years in an elementary s...</td>\n",
       "    </tr>\n",
       "  </tbody>\n",
       "</table>\n",
       "</div>"
      ],
      "text/plain": [
       "   overall                                         reviewText\n",
       "0        4  kids like story BUT while i really wanted a bo...\n",
       "1        4  Bought this used and it came in great conditio...\n",
       "2        5  Every story and book about Corduroy is Fantast...\n",
       "3        5  I purchased this book for my first grade class...\n",
       "4        5  Having spent numerous years in an elementary s..."
      ]
     },
     "execution_count": 103,
     "metadata": {},
     "output_type": "execute_result"
    }
   ],
   "source": [
    "df_reviews = pd.read_csv('amazon_reviews.csv')\n",
    "df_reviews = df_reviews.drop(columns = 'Unnamed: 0').dropna()\n",
    "\n",
    "df_reviews.head()"
   ]
  },
  {
   "cell_type": "code",
   "execution_count": 104,
   "id": "139a2833",
   "metadata": {
    "scrolled": true,
    "slideshow": {
     "slide_type": "subslide"
    }
   },
   "outputs": [
    {
     "data": {
      "image/png": "[encoded data removed]",
      "text/plain": [
       "<Figure size 720x360 with 1 Axes>"
      ]
     },
     "metadata": {},
     "output_type": "display_data"
    }
   ],
   "source": [
    "# Let's look at the distribution of ratings in our data\n",
    "\n",
    "ratings = df_reviews[['overall', 'reviewText']].groupby('overall').count()\n",
    "\n",
    "sum_rating.sort_values('overall', ascending = False).plot(kind = 'bar')\n",
    "plt.show()"
   ]
  },
  {
   "cell_type": "code",
   "execution_count": 105,
   "id": "6e7df9dd",
   "metadata": {
    "slideshow": {
     "slide_type": "subslide"
    }
   },
   "outputs": [],
   "source": [
    "# Create a CountVectorizer instance\n",
    "vectorizer = CountVectorizer()\n",
    "\n",
    "\n",
    "# Fit and transform the documents, set up X and y\n",
    "X = vectorizer.fit_transform(df_reviews['reviewText'])\n",
    "y = np.array(df_reviews['overall'])\n",
    "\n",
    "\n",
    "# Train/test split\n",
    "X_train, X_test, y_train, y_test = train_test_split(X, y, test_size=0.2, random_state=27)\n",
    "\n",
    "\n",
    "# Train our Logistic Regression model, make predictions\n",
    "lr = LogisticRegression(multi_class='ovr')\n",
    "lr.fit(X_train, y_train)\n",
    "\n",
    "y_pred_lr = lr.predict(X_test)\n",
    "\n",
    "\n",
    "# Train our Random Forest model, make predictions\n",
    "rf = RandomForestClassifier()\n",
    "rf.fit(X_train, y_train)\n",
    "\n",
    "y_pred_rf = rf.predict(X_test)"
   ]
  },
  {
   "cell_type": "markdown",
   "id": "8d9a9554",
   "metadata": {
    "slideshow": {
     "slide_type": "subslide"
    }
   },
   "source": [
    "Notice how for the Random Forest classifier, we didn't specify that we were using a dataset with multiple classes. **Scikit-learn's classifiers are actually all equipped to automatically detect and handle multiclass situations**, without you having to do anything extra in your code! If you're curious to read more about multiclass classfications strategies, check out [this page](https://scikit-learn.org/stable/modules/multiclass.html) on the Scikit-learn site about this."
   ]
  },
  {
   "cell_type": "markdown",
   "id": "bcc195b4",
   "metadata": {
    "slideshow": {
     "slide_type": "subslide"
    }
   },
   "source": [
    "### 2.3 Evaluating models using multiclass classification"
   ]
  },
  {
   "cell_type": "code",
   "execution_count": 106,
   "id": "bb3411b4",
   "metadata": {
    "slideshow": {
     "slide_type": "subslide"
    }
   },
   "outputs": [
    {
     "name": "stdout",
     "output_type": "stream",
     "text": [
      "              precision    recall  f1-score   support\n",
      "\n",
      "           1       0.54      0.16      0.24        45\n",
      "           2       0.62      0.09      0.16        55\n",
      "           3       0.32      0.26      0.29       109\n",
      "           4       0.39      0.25      0.31       299\n",
      "           5       0.82      0.93      0.87      1492\n",
      "\n",
      "    accuracy                           0.75      2000\n",
      "   macro avg       0.54      0.34      0.37      2000\n",
      "weighted avg       0.72      0.75      0.72      2000\n",
      "\n"
     ]
    }
   ],
   "source": [
    "#logreg\n",
    "\n",
    "print(classification_report(y_test, y_pred_lr))"
   ]
  },
  {
   "cell_type": "code",
   "execution_count": 107,
   "id": "31a9aeab",
   "metadata": {
    "slideshow": {
     "slide_type": "subslide"
    }
   },
   "outputs": [
    {
     "name": "stdout",
     "output_type": "stream",
     "text": [
      "              precision    recall  f1-score   support\n",
      "\n",
      "           1       1.00      0.04      0.09        45\n",
      "           2       0.75      0.05      0.10        55\n",
      "           3       0.56      0.08      0.14       109\n",
      "           4       0.53      0.06      0.10       299\n",
      "           5       0.76      0.99      0.86      1492\n",
      "\n",
      "    accuracy                           0.76      2000\n",
      "   macro avg       0.72      0.25      0.26      2000\n",
      "weighted avg       0.72      0.76      0.67      2000\n",
      "\n"
     ]
    }
   ],
   "source": [
    "#randfor\n",
    "\n",
    "print(classification_report(y_test, y_pred_rf))"
   ]
  },
  {
   "cell_type": "markdown",
   "id": "e264bc41",
   "metadata": {
    "slideshow": {
     "slide_type": "subslide"
    }
   },
   "source": [
    "We can compare the results from our two classification reports - we see some similar results across the prediction of the class '5'. Both models seem to predict these pretty well, which makes sense given the distributions. Looking at the F1 score, the Logistic Regression model actually does a bit better than the Random Forest model! But, this does not mean that either model cannot be improved - there are so many things we can look into to improve their performance - balancing the data, cleaning/engineering our data (NLP), feature selection methods, tuning some hyperparameters, etc..."
   ]
  },
  {
   "cell_type": "code",
   "execution_count": null,
   "id": "b4190ea5",
   "metadata": {},
   "outputs": [],
   "source": []
  }
 ],
 "metadata": {
  "kernelspec": {
   "display_name": "Python 3 (ipykernel)",
   "language": "python",
   "name": "python3"
  },
  "language_info": {
   "codemirror_mode": {
    "name": "ipython",
    "version": 3
   },
   "file_extension": ".py",
   "mimetype": "text/x-python",
   "name": "python",
   "nbconvert_exporter": "python",
   "pygments_lexer": "ipython3",
   "version": "3.9.7"
  },
  "rise": {
   "scroll": true
  }
 },
 "nbformat": 4,
 "nbformat_minor": 5
}
