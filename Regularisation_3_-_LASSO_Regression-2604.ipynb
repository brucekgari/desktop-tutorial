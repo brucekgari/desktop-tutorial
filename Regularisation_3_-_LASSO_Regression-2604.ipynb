{
 "cells": [
  {
   "cell_type": "markdown",
   "metadata": {},
   "source": [
    "# Regularisation Methods: LASSO Regression\n",
    "\n",
    "© Explore Data Science Academy"
   ]
  },
  {
   "cell_type": "markdown",
   "metadata": {},
   "source": [
    "## Learning Objectives\n",
    "In this train you will learn how to:\n",
    "\n",
    "- Understand the difference between L1 and L2 regularisation;\n",
    "- Walk through the code required to implement a LASSO regression model, and\n",
    "- Understand the concept of sparsity."
   ]
  },
  {
   "cell_type": "markdown",
   "metadata": {},
   "source": [
    "## Outline\n",
    "Within the various sections of this Train we will:\n",
    "\n",
    "- Introduce shrinkage methods;\n",
    "- L1 vs. L2 regularisation (LASSO vs. ridge);\n",
    "- Implement a LASSO regression model, and\n",
    "- Compare performance of non-regularised linear model with regularised one."
   ]
  },
  {
   "cell_type": "markdown",
   "metadata": {},
   "source": [
    "## Shrinkage Methods\n",
    "\n",
    "In the train on ridge regression we learned that it is possible to modify and potentially improve the test-set performance of a least squares regression model by reducing the magnitude of some subset of the coefficients $\\hat{\\beta}$.\n",
    "\n",
    "The ridge regression process of reducing the magnitude of those coefficients is a type of _shrinkage_ method - we are attempting to shrink the values of those less important coefficients.\n",
    "\n",
    "In ridge regression, it is possible to shrink a coefficient's value towards zero, but never reaching exactly zero."
   ]
  },
  {
   "cell_type": "markdown",
   "metadata": {},
   "source": [
    "## L1 vs. L2 Regularisation\n",
    "\n",
    "Recall the optimisation expression for ridge regression:\n",
    "\n",
    "$$\\min_{\\beta} (RSS + \\alpha\\sum_{j=1}^pb_j^2)$$\n",
    "\n",
    "where we attempt to minimise the RSS and some penalty term. This can be rewritten:\n",
    "\n",
    "$$\\min_{\\beta} (RSS + \\alpha(L2\\_norm))$$\n",
    "\n",
    "where $L2\\_norm$ is the sum of the squares of the coefficients.\n",
    "\n",
    "In LASSO regularisation, we replace the $L2\\_norm$ with what is known as the $L1\\_norm$: the sum of the _absolute_ values of the coefficients.\n",
    "\n",
    "This is a relatively recent adaptation of ridge regression which is capable of shrinking predictors to exactly zero - effectively removing them from the model entirely and creating what we call a sparse model (one which uses some subset of all of the available predictors). In this way, LASSO achieves both shrinkage and subset selection.\n",
    "\n",
    "A LASSO model is fit under the constraint of minimizing the following equation:\n",
    "\n",
    "$$\\sum_{i=1}^n(y_i-(a+\\sum_{j=1}^pb_jx_{ij}))^2 + \\alpha\\sum_{j=1}^p|b_j|$$\n",
    "\n",
    "which can be rewritten as follows:\n",
    "\n",
    "$$\\min_{\\beta} (RSS + \\alpha\\sum_{j=1}^p|b_j|)$$\n",
    "\n",
    "or,\n",
    "\n",
    "$$\\min_{\\beta} (RSS + \\alpha(L1\\_norm))$$"
   ]
  },
  {
   "cell_type": "markdown",
   "metadata": {},
   "source": [
    "## LASSO Regression in `sklearn`\n",
    "\n",
    "We'll make use of the same dataset that we did in the least squares and ridge regression trains, such that we can effectively compare the results of each method."
   ]
  },
  {
   "cell_type": "code",
   "execution_count": 1,
   "metadata": {},
   "outputs": [],
   "source": [
    "import numpy as np\n",
    "import pandas as pd\n",
    "import matplotlib.pyplot as plt\n",
    "import seaborn as sns"
   ]
  },
  {
   "cell_type": "markdown",
   "metadata": {},
   "source": [
    "**Next** we will load our data as a Pandas DataFrame."
   ]
  },
  {
   "cell_type": "code",
   "execution_count": 2,
   "metadata": {},
   "outputs": [
    {
     "data": {
      "text/html": [
       "<div>\n",
       "<style scoped>\n",
       "    .dataframe tbody tr th:only-of-type {\n",
       "        vertical-align: middle;\n",
       "    }\n",
       "\n",
       "    .dataframe tbody tr th {\n",
       "        vertical-align: top;\n",
       "    }\n",
       "\n",
       "    .dataframe thead th {\n",
       "        text-align: right;\n",
       "    }\n",
       "</style>\n",
       "<table border=\"1\" class=\"dataframe\">\n",
       "  <thead>\n",
       "    <tr style=\"text-align: right;\">\n",
       "      <th></th>\n",
       "      <th>ZAR/USD</th>\n",
       "      <th>Value of Exports (USD)</th>\n",
       "      <th>Value of Exports (ZAR)</th>\n",
       "      <th>Value of Imports (USD)</th>\n",
       "      <th>Value of Imports (ZAR)</th>\n",
       "      <th>Total Reserves excl Gold (USD)</th>\n",
       "      <th>IMF Reserve Position (USD)</th>\n",
       "      <th>Foreign Exchange (USD)</th>\n",
       "      <th>Claims on Non-residents (USD)</th>\n",
       "      <th>Liabilities to Non-residents (USD)</th>\n",
       "      <th>Central Bank Policy Rate</th>\n",
       "      <th>Money Market Rate</th>\n",
       "      <th>Treasury Bill Rate</th>\n",
       "      <th>Savings Rate</th>\n",
       "      <th>Deposit Rate</th>\n",
       "      <th>Lending Rate</th>\n",
       "      <th>Government Bonds</th>\n",
       "      <th>Financial Market Prices, Equities Index</th>\n",
       "      <th>Producer Price Index</th>\n",
       "      <th>Consumer Price Index</th>\n",
       "    </tr>\n",
       "  </thead>\n",
       "  <tbody>\n",
       "    <tr>\n",
       "      <th>2008M01</th>\n",
       "      <td>7.01</td>\n",
       "      <td>5611.90</td>\n",
       "      <td>39356.82</td>\n",
       "      <td>8105.11</td>\n",
       "      <td>56841.94</td>\n",
       "      <td>29884.51</td>\n",
       "      <td>1.92</td>\n",
       "      <td>29526.78</td>\n",
       "      <td>51547.61</td>\n",
       "      <td>37752.29</td>\n",
       "      <td>11.0</td>\n",
       "      <td>10.64</td>\n",
       "      <td>10.47</td>\n",
       "      <td>4.53</td>\n",
       "      <td>10.83</td>\n",
       "      <td>14.5</td>\n",
       "      <td>8.36</td>\n",
       "      <td>312.97</td>\n",
       "      <td>86.03</td>\n",
       "      <td>85.48</td>\n",
       "    </tr>\n",
       "    <tr>\n",
       "      <th>2008M02</th>\n",
       "      <td>7.66</td>\n",
       "      <td>6126.16</td>\n",
       "      <td>46946.33</td>\n",
       "      <td>8159.43</td>\n",
       "      <td>62527.78</td>\n",
       "      <td>30304.31</td>\n",
       "      <td>2.01</td>\n",
       "      <td>29943.04</td>\n",
       "      <td>59702.31</td>\n",
       "      <td>45927.67</td>\n",
       "      <td>11.0</td>\n",
       "      <td>10.66</td>\n",
       "      <td>10.32</td>\n",
       "      <td>5.61</td>\n",
       "      <td>11.00</td>\n",
       "      <td>14.5</td>\n",
       "      <td>8.69</td>\n",
       "      <td>335.09</td>\n",
       "      <td>87.23</td>\n",
       "      <td>85.91</td>\n",
       "    </tr>\n",
       "    <tr>\n",
       "      <th>2008M03</th>\n",
       "      <td>7.97</td>\n",
       "      <td>6417.48</td>\n",
       "      <td>51150.89</td>\n",
       "      <td>8010.87</td>\n",
       "      <td>63851.12</td>\n",
       "      <td>30615.42</td>\n",
       "      <td>2.05</td>\n",
       "      <td>30246.54</td>\n",
       "      <td>56448.18</td>\n",
       "      <td>42565.17</td>\n",
       "      <td>11.0</td>\n",
       "      <td>10.69</td>\n",
       "      <td>10.18</td>\n",
       "      <td>5.62</td>\n",
       "      <td>11.04</td>\n",
       "      <td>14.5</td>\n",
       "      <td>9.16</td>\n",
       "      <td>348.84</td>\n",
       "      <td>89.00</td>\n",
       "      <td>87.04</td>\n",
       "    </tr>\n",
       "    <tr>\n",
       "      <th>2008M04</th>\n",
       "      <td>7.79</td>\n",
       "      <td>7215.71</td>\n",
       "      <td>56174.34</td>\n",
       "      <td>9112.97</td>\n",
       "      <td>70944.49</td>\n",
       "      <td>30763.42</td>\n",
       "      <td>2.03</td>\n",
       "      <td>30399.21</td>\n",
       "      <td>55534.75</td>\n",
       "      <td>43342.70</td>\n",
       "      <td>11.5</td>\n",
       "      <td>11.00</td>\n",
       "      <td>10.27</td>\n",
       "      <td>5.80</td>\n",
       "      <td>11.28</td>\n",
       "      <td>15.0</td>\n",
       "      <td>9.15</td>\n",
       "      <td>358.47</td>\n",
       "      <td>90.83</td>\n",
       "      <td>87.61</td>\n",
       "    </tr>\n",
       "    <tr>\n",
       "      <th>2008M05</th>\n",
       "      <td>7.62</td>\n",
       "      <td>7379.67</td>\n",
       "      <td>56240.45</td>\n",
       "      <td>9090.14</td>\n",
       "      <td>69275.97</td>\n",
       "      <td>30831.43</td>\n",
       "      <td>2.10</td>\n",
       "      <td>30467.81</td>\n",
       "      <td>57682.89</td>\n",
       "      <td>46533.13</td>\n",
       "      <td>11.5</td>\n",
       "      <td>11.20</td>\n",
       "      <td>10.60</td>\n",
       "      <td>6.50</td>\n",
       "      <td>11.39</td>\n",
       "      <td>15.0</td>\n",
       "      <td>9.51</td>\n",
       "      <td>371.98</td>\n",
       "      <td>95.32</td>\n",
       "      <td>88.32</td>\n",
       "    </tr>\n",
       "  </tbody>\n",
       "</table>\n",
       "</div>"
      ],
      "text/plain": [
       "         ZAR/USD  Value of Exports (USD)  Value of Exports (ZAR)  \\\n",
       "2008M01     7.01                 5611.90                39356.82   \n",
       "2008M02     7.66                 6126.16                46946.33   \n",
       "2008M03     7.97                 6417.48                51150.89   \n",
       "2008M04     7.79                 7215.71                56174.34   \n",
       "2008M05     7.62                 7379.67                56240.45   \n",
       "\n",
       "         Value of Imports (USD)  Value of Imports (ZAR)  \\\n",
       "2008M01                 8105.11                56841.94   \n",
       "2008M02                 8159.43                62527.78   \n",
       "2008M03                 8010.87                63851.12   \n",
       "2008M04                 9112.97                70944.49   \n",
       "2008M05                 9090.14                69275.97   \n",
       "\n",
       "         Total Reserves excl Gold (USD)  IMF Reserve Position (USD)  \\\n",
       "2008M01                        29884.51                        1.92   \n",
       "2008M02                        30304.31                        2.01   \n",
       "2008M03                        30615.42                        2.05   \n",
       "2008M04                        30763.42                        2.03   \n",
       "2008M05                        30831.43                        2.10   \n",
       "\n",
       "         Foreign Exchange (USD)  Claims on Non-residents (USD)  \\\n",
       "2008M01                29526.78                       51547.61   \n",
       "2008M02                29943.04                       59702.31   \n",
       "2008M03                30246.54                       56448.18   \n",
       "2008M04                30399.21                       55534.75   \n",
       "2008M05                30467.81                       57682.89   \n",
       "\n",
       "         Liabilities to Non-residents (USD)  Central Bank Policy Rate  \\\n",
       "2008M01                            37752.29                      11.0   \n",
       "2008M02                            45927.67                      11.0   \n",
       "2008M03                            42565.17                      11.0   \n",
       "2008M04                            43342.70                      11.5   \n",
       "2008M05                            46533.13                      11.5   \n",
       "\n",
       "         Money Market Rate  Treasury Bill Rate  Savings Rate  Deposit Rate  \\\n",
       "2008M01              10.64               10.47          4.53         10.83   \n",
       "2008M02              10.66               10.32          5.61         11.00   \n",
       "2008M03              10.69               10.18          5.62         11.04   \n",
       "2008M04              11.00               10.27          5.80         11.28   \n",
       "2008M05              11.20               10.60          6.50         11.39   \n",
       "\n",
       "         Lending Rate  Government Bonds  \\\n",
       "2008M01          14.5              8.36   \n",
       "2008M02          14.5              8.69   \n",
       "2008M03          14.5              9.16   \n",
       "2008M04          15.0              9.15   \n",
       "2008M05          15.0              9.51   \n",
       "\n",
       "         Financial Market Prices, Equities Index  Producer Price Index  \\\n",
       "2008M01                                   312.97                 86.03   \n",
       "2008M02                                   335.09                 87.23   \n",
       "2008M03                                   348.84                 89.00   \n",
       "2008M04                                   358.47                 90.83   \n",
       "2008M05                                   371.98                 95.32   \n",
       "\n",
       "         Consumer Price Index  \n",
       "2008M01                 85.48  \n",
       "2008M02                 85.91  \n",
       "2008M03                 87.04  \n",
       "2008M04                 87.61  \n",
       "2008M05                 88.32  "
      ]
     },
     "execution_count": 2,
     "metadata": {},
     "output_type": "execute_result"
    }
   ],
   "source": [
    "df = pd.read_csv('https://raw.githubusercontent.com/Explore-AI/Public-Data/master/Data/regression_sprint/regression_sprint_data_2.csv', index_col=0)\n",
    "df.head()"
   ]
  },
  {
   "cell_type": "code",
   "execution_count": 3,
   "metadata": {},
   "outputs": [
    {
     "data": {
      "text/plain": [
       "(120, 20)"
      ]
     },
     "execution_count": 3,
     "metadata": {},
     "output_type": "execute_result"
    }
   ],
   "source": [
    "df.shape"
   ]
  },
  {
   "cell_type": "markdown",
   "metadata": {},
   "source": [
    "## Preprocessing\n",
    "We'll be using the same dataset and train/test split as in previous regression trains, and again we will need to standardize the data before it can be used in our LASSO model."
   ]
  },
  {
   "cell_type": "code",
   "execution_count": 4,
   "metadata": {},
   "outputs": [],
   "source": [
    "# Separate the features from the response\n",
    "X = df.drop('ZAR/USD', axis=1)\n",
    "y = df['ZAR/USD']"
   ]
  },
  {
   "cell_type": "code",
   "execution_count": 5,
   "metadata": {},
   "outputs": [],
   "source": [
    "# Import the scaling module\n",
    "from sklearn.preprocessing import StandardScaler"
   ]
  },
  {
   "cell_type": "code",
   "execution_count": 6,
   "metadata": {},
   "outputs": [],
   "source": [
    "# Create standardization object\n",
    "scaler = StandardScaler()"
   ]
  },
  {
   "cell_type": "code",
   "execution_count": 7,
   "metadata": {},
   "outputs": [],
   "source": [
    "# Save standardized features into new variable\n",
    "X_scaled = scaler.fit_transform(X)"
   ]
  },
  {
   "cell_type": "code",
   "execution_count": 8,
   "metadata": {},
   "outputs": [],
   "source": [
    "# Import train/test split module\n",
    "from sklearn.model_selection import train_test_split"
   ]
  },
  {
   "cell_type": "code",
   "execution_count": 9,
   "metadata": {},
   "outputs": [],
   "source": [
    "# Split dataset into train and test sets\n",
    "X_train, X_test, y_train, y_test = train_test_split(X_scaled, \n",
    "                                                    y, \n",
    "                                                    test_size=0.20,\n",
    "                                                    random_state=1,\n",
    "                                                    shuffle=False)"
   ]
  },
  {
   "cell_type": "code",
   "execution_count": 10,
   "metadata": {},
   "outputs": [],
   "source": [
    "# Import LASSO module\n",
    "from sklearn.linear_model import Lasso"
   ]
  },
  {
   "cell_type": "code",
   "execution_count": 11,
   "metadata": {},
   "outputs": [],
   "source": [
    "# Create LASSO model object, setting alpha to 0.01\n",
    "lasso = Lasso(alpha=0.01)"
   ]
  },
  {
   "cell_type": "code",
   "execution_count": 12,
   "metadata": {},
   "outputs": [
    {
     "data": {
      "text/plain": [
       "Lasso(alpha=0.01, copy_X=True, fit_intercept=True, max_iter=1000,\n",
       "      normalize=False, positive=False, precompute=False, random_state=None,\n",
       "      selection='cyclic', tol=0.0001, warm_start=False)"
      ]
     },
     "execution_count": 12,
     "metadata": {},
     "output_type": "execute_result"
    }
   ],
   "source": [
    "# Train the LASSO model\n",
    "lasso.fit(X_train, y_train)"
   ]
  },
  {
   "cell_type": "code",
   "execution_count": 13,
   "metadata": {},
   "outputs": [],
   "source": [
    "# Extract intercept from model\n",
    "intercept = float(lasso.intercept_)"
   ]
  },
  {
   "cell_type": "code",
   "execution_count": 14,
   "metadata": {},
   "outputs": [],
   "source": [
    "# Extract coefficient from model\n",
    "coeff = pd.DataFrame(lasso.coef_, X.columns, columns=['Coefficient'])"
   ]
  },
  {
   "cell_type": "code",
   "execution_count": 15,
   "metadata": {},
   "outputs": [
    {
     "name": "stdout",
     "output_type": "stream",
     "text": [
      "Intercept: 10.043117246931184\n"
     ]
    }
   ],
   "source": [
    "# Extract intercept\n",
    "print(\"Intercept:\", float(intercept))"
   ]
  },
  {
   "cell_type": "markdown",
   "metadata": {},
   "source": [
    "Let's take a look at the actual coefficient values:"
   ]
  },
  {
   "cell_type": "code",
   "execution_count": 16,
   "metadata": {},
   "outputs": [
    {
     "data": {
      "text/html": [
       "<div>\n",
       "<style scoped>\n",
       "    .dataframe tbody tr th:only-of-type {\n",
       "        vertical-align: middle;\n",
       "    }\n",
       "\n",
       "    .dataframe tbody tr th {\n",
       "        vertical-align: top;\n",
       "    }\n",
       "\n",
       "    .dataframe thead th {\n",
       "        text-align: right;\n",
       "    }\n",
       "</style>\n",
       "<table border=\"1\" class=\"dataframe\">\n",
       "  <thead>\n",
       "    <tr style=\"text-align: right;\">\n",
       "      <th></th>\n",
       "      <th>Coefficient</th>\n",
       "    </tr>\n",
       "  </thead>\n",
       "  <tbody>\n",
       "    <tr>\n",
       "      <th>Value of Exports (USD)</th>\n",
       "      <td>-0.542056</td>\n",
       "    </tr>\n",
       "    <tr>\n",
       "      <th>Value of Exports (ZAR)</th>\n",
       "      <td>1.070156</td>\n",
       "    </tr>\n",
       "    <tr>\n",
       "      <th>Value of Imports (USD)</th>\n",
       "      <td>-0.830049</td>\n",
       "    </tr>\n",
       "    <tr>\n",
       "      <th>Value of Imports (ZAR)</th>\n",
       "      <td>1.188285</td>\n",
       "    </tr>\n",
       "    <tr>\n",
       "      <th>Total Reserves excl Gold (USD)</th>\n",
       "      <td>0.000000</td>\n",
       "    </tr>\n",
       "    <tr>\n",
       "      <th>IMF Reserve Position (USD)</th>\n",
       "      <td>0.000000</td>\n",
       "    </tr>\n",
       "    <tr>\n",
       "      <th>Foreign Exchange (USD)</th>\n",
       "      <td>0.065942</td>\n",
       "    </tr>\n",
       "    <tr>\n",
       "      <th>Claims on Non-residents (USD)</th>\n",
       "      <td>0.000000</td>\n",
       "    </tr>\n",
       "    <tr>\n",
       "      <th>Liabilities to Non-residents (USD)</th>\n",
       "      <td>0.024812</td>\n",
       "    </tr>\n",
       "    <tr>\n",
       "      <th>Central Bank Policy Rate</th>\n",
       "      <td>0.000000</td>\n",
       "    </tr>\n",
       "    <tr>\n",
       "      <th>Money Market Rate</th>\n",
       "      <td>0.219689</td>\n",
       "    </tr>\n",
       "    <tr>\n",
       "      <th>Treasury Bill Rate</th>\n",
       "      <td>0.000000</td>\n",
       "    </tr>\n",
       "    <tr>\n",
       "      <th>Savings Rate</th>\n",
       "      <td>0.000000</td>\n",
       "    </tr>\n",
       "    <tr>\n",
       "      <th>Deposit Rate</th>\n",
       "      <td>0.000000</td>\n",
       "    </tr>\n",
       "    <tr>\n",
       "      <th>Lending Rate</th>\n",
       "      <td>0.000000</td>\n",
       "    </tr>\n",
       "    <tr>\n",
       "      <th>Government Bonds</th>\n",
       "      <td>-0.000000</td>\n",
       "    </tr>\n",
       "    <tr>\n",
       "      <th>Financial Market Prices, Equities Index</th>\n",
       "      <td>-0.032233</td>\n",
       "    </tr>\n",
       "    <tr>\n",
       "      <th>Producer Price Index</th>\n",
       "      <td>0.103102</td>\n",
       "    </tr>\n",
       "    <tr>\n",
       "      <th>Consumer Price Index</th>\n",
       "      <td>0.189529</td>\n",
       "    </tr>\n",
       "  </tbody>\n",
       "</table>\n",
       "</div>"
      ],
      "text/plain": [
       "                                         Coefficient\n",
       "Value of Exports (USD)                     -0.542056\n",
       "Value of Exports (ZAR)                      1.070156\n",
       "Value of Imports (USD)                     -0.830049\n",
       "Value of Imports (ZAR)                      1.188285\n",
       "Total Reserves excl Gold (USD)              0.000000\n",
       "IMF Reserve Position (USD)                  0.000000\n",
       "Foreign Exchange (USD)                      0.065942\n",
       "Claims on Non-residents (USD)               0.000000\n",
       "Liabilities to Non-residents (USD)          0.024812\n",
       "Central Bank Policy Rate                    0.000000\n",
       "Money Market Rate                           0.219689\n",
       "Treasury Bill Rate                          0.000000\n",
       "Savings Rate                                0.000000\n",
       "Deposit Rate                                0.000000\n",
       "Lending Rate                                0.000000\n",
       "Government Bonds                           -0.000000\n",
       "Financial Market Prices, Equities Index    -0.032233\n",
       "Producer Price Index                        0.103102\n",
       "Consumer Price Index                        0.189529"
      ]
     },
     "execution_count": 16,
     "metadata": {},
     "output_type": "execute_result"
    }
   ],
   "source": [
    "coeff"
   ]
  },
  {
   "cell_type": "markdown",
   "metadata": {},
   "source": [
    "### Interpretation of the intercept and coefficients\n",
    "\n",
    "We interpret the values of the intercept and coefficients the same way as before:\n",
    "\n",
    " - The intercept can be interpreted as the **expected exchange rate when all the features are equal to their means**.\n",
    " - Each coefficient is interpreted as the expected change in the response variable given an increase of 1 in the **scaled feature value**.\n",
    " \n",
    "We can see from the list of coefficients above that some of the coefficients have indeed been shrunk to exactly zero."
   ]
  },
  {
   "cell_type": "markdown",
   "metadata": {},
   "source": [
    "## Assessment of predictive accuracy\n",
    "Again, we'll make use of the `sklearn.metrics` library to assess the accuracy of our model. We'll fit the following models as well, in order to compare the LASSO results thoroughly:\n",
    "\n",
    "- A least squares model using all available predictors;\n",
    "- A least squares model using the predictors with non-zero coefficients from LASSO;\n",
    "- A ridge regression model using all available predictors."
   ]
  },
  {
   "cell_type": "code",
   "execution_count": 17,
   "metadata": {},
   "outputs": [
    {
     "data": {
      "text/plain": [
       "Ridge(alpha=1.0, copy_X=True, fit_intercept=True, max_iter=None,\n",
       "      normalize=False, random_state=None, solver='auto', tol=0.001)"
      ]
     },
     "execution_count": 17,
     "metadata": {},
     "output_type": "execute_result"
    }
   ],
   "source": [
    "# Fit a basic linear model\n",
    "from sklearn.linear_model import LinearRegression, Ridge\n",
    "\n",
    "X_subset = df.drop(['ZAR/USD',\n",
    "                   'Total Reserves excl Gold (USD)',\n",
    "                   'IMF Reserve Position (USD)',\n",
    "                   'Claims on Non-residents (USD)',\n",
    "                   'Central Bank Policy Rate',\n",
    "                   'Treasury Bill Rate',\n",
    "                   'Savings Rate',\n",
    "                   'Deposit Rate',\n",
    "                   'Lending Rate',\n",
    "                   'Government Bonds'], axis=1)\n",
    "\n",
    "X_subset_scaled = scaler.fit_transform(X_subset)\n",
    "\n",
    "X_train2, X_test2, y_train2, y_test2 = train_test_split(X_subset, \n",
    "                                                        y, \n",
    "                                                        test_size=0.20, \n",
    "                                                        random_state=1,\n",
    "                                                        shuffle=False)\n",
    "\n",
    "# Least squares using non-zero variables from LASSO\n",
    "lm_subset = LinearRegression()\n",
    "\n",
    "# Least squares using all predictors\n",
    "lm_all = LinearRegression()\n",
    "\n",
    "# Ridge using all predictors\n",
    "ridge = Ridge()\n",
    "\n",
    "lm_subset.fit(X_train2, y_train2)\n",
    "lm_all.fit(X_train, y_train)\n",
    "ridge.fit(X_train, y_train)"
   ]
  },
  {
   "cell_type": "code",
   "execution_count": 18,
   "metadata": {},
   "outputs": [],
   "source": [
    "from sklearn import metrics"
   ]
  },
  {
   "cell_type": "code",
   "execution_count": 19,
   "metadata": {},
   "outputs": [],
   "source": [
    "# Make training set predictions for each model\n",
    "train_lm_subset = lm_subset.predict(X_train2)\n",
    "train_lm_all = lm_all.predict(X_train)\n",
    "train_ridge = ridge.predict(X_train)\n",
    "train_lasso = lasso.predict(X_train)"
   ]
  },
  {
   "cell_type": "code",
   "execution_count": 20,
   "metadata": {},
   "outputs": [],
   "source": [
    "# Make test set predictions for each model\n",
    "test_lm_subset = lm_subset.predict(X_test2)\n",
    "test_lm_all = lm_all.predict(X_test)\n",
    "test_ridge = ridge.predict(X_test)\n",
    "test_lasso = lasso.predict(X_test)"
   ]
  },
  {
   "cell_type": "code",
   "execution_count": 21,
   "metadata": {},
   "outputs": [],
   "source": [
    "# Dictionary of results\n",
    "results_dict = {'Training MSE':\n",
    "                    {\n",
    "                        \"Least Squares, Subset\": metrics.mean_squared_error(y_train2, train_lm_subset),\n",
    "                        \"Least Squares, All\": metrics.mean_squared_error(y_train, train_lm_all),\n",
    "                        \"Ridge\": metrics.mean_squared_error(y_train, train_ridge),\n",
    "                        \"LASSO\": metrics.mean_squared_error(y_train, train_lasso)\n",
    "                    },\n",
    "                    'Test MSE':\n",
    "                    {\n",
    "                        \"Least Squares, Subset\": metrics.mean_squared_error(y_test2, test_lm_subset),\n",
    "                        \"Least Squares, All\": metrics.mean_squared_error(y_test, test_lm_all),\n",
    "                        \"Ridge\": metrics.mean_squared_error(y_test, test_ridge),\n",
    "                        \"LASSO\": metrics.mean_squared_error(y_test, test_lasso)\n",
    "                    }\n",
    "                }"
   ]
  },
  {
   "cell_type": "code",
   "execution_count": 22,
   "metadata": {},
   "outputs": [],
   "source": [
    "# Create dataframe from dictionary\n",
    "results_df = pd.DataFrame(data=results_dict)"
   ]
  },
  {
   "cell_type": "code",
   "execution_count": 23,
   "metadata": {},
   "outputs": [
    {
     "data": {
      "text/html": [
       "<div>\n",
       "<style scoped>\n",
       "    .dataframe tbody tr th:only-of-type {\n",
       "        vertical-align: middle;\n",
       "    }\n",
       "\n",
       "    .dataframe tbody tr th {\n",
       "        vertical-align: top;\n",
       "    }\n",
       "\n",
       "    .dataframe thead th {\n",
       "        text-align: right;\n",
       "    }\n",
       "</style>\n",
       "<table border=\"1\" class=\"dataframe\">\n",
       "  <thead>\n",
       "    <tr style=\"text-align: right;\">\n",
       "      <th></th>\n",
       "      <th>Test MSE</th>\n",
       "      <th>Training MSE</th>\n",
       "    </tr>\n",
       "  </thead>\n",
       "  <tbody>\n",
       "    <tr>\n",
       "      <th>LASSO</th>\n",
       "      <td>0.586468</td>\n",
       "      <td>0.046672</td>\n",
       "    </tr>\n",
       "    <tr>\n",
       "      <th>Least Squares, All</th>\n",
       "      <td>1.683601</td>\n",
       "      <td>0.032654</td>\n",
       "    </tr>\n",
       "    <tr>\n",
       "      <th>Least Squares, Subset</th>\n",
       "      <td>0.700711</td>\n",
       "      <td>0.041667</td>\n",
       "    </tr>\n",
       "    <tr>\n",
       "      <th>Ridge</th>\n",
       "      <td>0.669186</td>\n",
       "      <td>0.039696</td>\n",
       "    </tr>\n",
       "  </tbody>\n",
       "</table>\n",
       "</div>"
      ],
      "text/plain": [
       "                       Test MSE  Training MSE\n",
       "LASSO                  0.586468      0.046672\n",
       "Least Squares, All     1.683601      0.032654\n",
       "Least Squares, Subset  0.700711      0.041667\n",
       "Ridge                  0.669186      0.039696"
      ]
     },
     "execution_count": 23,
     "metadata": {},
     "output_type": "execute_result"
    }
   ],
   "source": [
    "# View the results\n",
    "results_df"
   ]
  },
  {
   "cell_type": "markdown",
   "metadata": {},
   "source": [
    "### Comment\n",
    "From the results above, we can see that LASSO was able to perform subset selection, while also performing shrinkage. The result is a more generalised model with greater predictive capacity. The least squares model which we trained on the same subset of variables that LASSO retained as non-zero scored a higher MSE on the test set, indicating that the shrinkage that LASSO applied to those remaining variables was effective.\n",
    "\n",
    "LASSO achieved the best MSE on the test set, followed by ridge regression.\n",
    "\n",
    "Let's plot our results to end off."
   ]
  },
  {
   "cell_type": "code",
   "execution_count": 24,
   "metadata": {},
   "outputs": [],
   "source": [
    "# we want to plot the train and test response variables as a continuous line\n",
    "train_plot = y_train.append(pd.Series(y_test[0], index=['2016M01']))"
   ]
  },
  {
   "cell_type": "markdown",
   "metadata": {},
   "source": [
    "We'll plot the the test set versus the three primary methods explored here:\n",
    "\n",
    "- Least squares using all predictors;\n",
    "- Ridge using all predictors;\n",
    "- LASSO using all predictors."
   ]
  },
  {
   "cell_type": "code",
   "execution_count": 25,
   "metadata": {},
   "outputs": [
    {
     "data": {
      "image/png": "[encoded data removed]",
      "text/plain": [
       "<Figure size 432x288 with 1 Axes>"
      ]
     },
     "metadata": {
      "needs_background": "light"
     },
     "output_type": "display_data"
    }
   ],
   "source": [
    "plt.plot(np.arange(96,120), lasso.predict(X_test), label='LASSO')\n",
    "plt.plot(np.arange(96,120), ridge.predict(X_test), label='Ridge')\n",
    "plt.plot(np.arange(96,120), lm_all.predict(X_test), label='Least Squares')\n",
    "plt.plot(np.arange(96,120), y_test, label='Testing')\n",
    "plt.legend()\n",
    "\n",
    "plt.show()"
   ]
  },
  {
   "cell_type": "markdown",
   "metadata": {},
   "source": [
    "## Conclusion\n",
    "\n",
    "In this train we have seen or been introduced to:\n",
    "\n",
    "- The purpose of shrinkage methods;\n",
    "- L1 and L2 regularisation;\n",
    "- The LASSO regularisation method;\n",
    "- Comparing LASSO to least squares and ridge regression models."
   ]
  },
  {
   "cell_type": "markdown",
   "metadata": {},
   "source": [
    "## Appendix \n",
    "Links to additional resources to help with the understanding of concepts presented in the train:\n",
    "\n",
    "- [Explanation of how LASSO performs variable selection by authors of ISLR](https://youtu.be/A5I1G1MfUmA?t=363)"
   ]
  }
 ],
 "metadata": {
  "kernelspec": {
   "display_name": "Python 3",
   "language": "python",
   "name": "python3"
  },
  "language_info": {
   "codemirror_mode": {
    "name": "ipython",
    "version": 3
   },
   "file_extension": ".py",
   "mimetype": "text/x-python",
   "name": "python",
   "nbconvert_exporter": "python",
   "pygments_lexer": "ipython3",
   "version": "3.7.4"
  }
 },
 "nbformat": 4,
 "nbformat_minor": 4
}