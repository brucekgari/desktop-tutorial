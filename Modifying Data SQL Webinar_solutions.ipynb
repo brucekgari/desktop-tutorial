{
 "cells": [
  {
   "cell_type": "markdown",
   "id": "89757f09",
   "metadata": {},
   "source": [
    "# Modifying Data in SQL\n",
    "\n",
    "In today's webinar:\n",
    "\n",
    "\n",
    "### 1. Function review\n",
    "\n",
    "**String manipulation**\n",
    "- `LENGTH()` function\n",
    "- `REPLACE()` function\n",
    "- `CONCATENATION ||` \n",
    "- `TRIM()` functions\n",
    "- `SUBSTR()` & `INSTR()` functions\n",
    "- `UPPER()` & `LOWER()` function\n",
    "\n",
    "**Data Transformation**\n",
    "- `DISTINCT` function\n",
    "- `CASE WHEN` function\n",
    "- `IIF()` function\n",
    "- `COALESCE()` function\n",
    "- `NULLIF()` function\n",
    "- `CAST AS` function\n",
    "\n",
    "### 2. Exercises\n",
    "\n",
    "- Creating queries\n",
    "- Slido polls"
   ]
  },
  {
   "cell_type": "markdown",
   "id": "4e34e395",
   "metadata": {},
   "source": [
    "## Data modification - what's the point?\n",
    "\n",
    "In the real world, data is not always clean and ready for use. Data preparation and transformation is extremely important in ensuring your data is in a state that is usable and appropriate for your next steps, like data analysis and deriving insights, visualising your data, or machine learning. Sometimes it may be the case that while your data is clean and in a usable format, it may not be the format you need for your specific task. Let's review some of the most important and often-used SQL functions in data modification!"
   ]
  },
  {
   "cell_type": "markdown",
   "id": "a4cc0897",
   "metadata": {},
   "source": [
    "## Function Runthrough"
   ]
  },
  {
   "cell_type": "markdown",
   "id": "69f51f1e",
   "metadata": {},
   "source": [
    "First, we ensure we load our SQL extension, so that our notebook knows we are going to be running some SQL code. Next, ensure to load in your database. Make sure you have the correct path to your database, or that the database is in the same folder as your notebook. Today we'll be using the Chinook database."
   ]
  },
  {
   "cell_type": "code",
   "execution_count": 1,
   "id": "b85e6047",
   "metadata": {},
   "outputs": [],
   "source": [
    "%load_ext sql"
   ]
  },
  {
   "cell_type": "code",
   "execution_count": 2,
   "id": "d539a206",
   "metadata": {},
   "outputs": [],
   "source": [
    "%%sql\n",
    "\n",
    "sqlite:///chinook.db"
   ]
  },
  {
   "cell_type": "markdown",
   "id": "d2a0191e",
   "metadata": {},
   "source": [
    "## String manipulation"
   ]
  },
  {
   "cell_type": "markdown",
   "id": "f7d0c500",
   "metadata": {},
   "source": [
    "### LENGTH() \n",
    "\n",
    "The Length() function, much like the name suggests, returns an integer of the number of characters (including whitespaces) of values in a column."
   ]
  },
  {
   "cell_type": "code",
   "execution_count": 169,
   "id": "1d600ca1",
   "metadata": {},
   "outputs": [
    {
     "name": "stdout",
     "output_type": "stream",
     "text": [
      " * sqlite:///chinook.db\n",
      "Done.\n"
     ]
    },
    {
     "data": {
      "text/html": [
       "<table>\n",
       "    <tr>\n",
       "        <th>FirstName</th>\n",
       "        <th>LastName</th>\n",
       "        <th>LengthOfFirstName</th>\n",
       "    </tr>\n",
       "    <tr>\n",
       "        <td>Luís</td>\n",
       "        <td>Gonçalves</td>\n",
       "        <td>4</td>\n",
       "    </tr>\n",
       "    <tr>\n",
       "        <td>Leonie</td>\n",
       "        <td>Köhler</td>\n",
       "        <td>6</td>\n",
       "    </tr>\n",
       "    <tr>\n",
       "        <td>François</td>\n",
       "        <td>Tremblay</td>\n",
       "        <td>8</td>\n",
       "    </tr>\n",
       "    <tr>\n",
       "        <td>Bjørn</td>\n",
       "        <td>Hansen</td>\n",
       "        <td>5</td>\n",
       "    </tr>\n",
       "    <tr>\n",
       "        <td>František</td>\n",
       "        <td>Wichterlová</td>\n",
       "        <td>9</td>\n",
       "    </tr>\n",
       "</table>"
      ],
      "text/plain": [
       "[('Luís', 'Gonçalves', 4),\n",
       " ('Leonie', 'Köhler', 6),\n",
       " ('François', 'Tremblay', 8),\n",
       " ('Bjørn', 'Hansen', 5),\n",
       " ('František', 'Wichterlová', 9)]"
      ]
     },
     "execution_count": 169,
     "metadata": {},
     "output_type": "execute_result"
    }
   ],
   "source": [
    "%%sql\n",
    "SELECT\n",
    "    FirstName,\n",
    "    LastName,\n",
    "    LENGTH(FirstName) AS LengthOfFirstName\n",
    "FROM\n",
    "    customers\n",
    "LIMIT 5;"
   ]
  },
  {
   "cell_type": "markdown",
   "id": "47429777",
   "metadata": {},
   "source": [
    "---"
   ]
  },
  {
   "cell_type": "markdown",
   "id": "10400816",
   "metadata": {},
   "source": [
    "### REPLACE()\n",
    "\n",
    "The Replace() function can replace occurences of a substring within a string, with a new substring that you specify. the general syntax is:\n",
    "\n",
    "`REPLACE(string/column, old_string, new_string)`"
   ]
  },
  {
   "cell_type": "code",
   "execution_count": 25,
   "id": "336ba852",
   "metadata": {},
   "outputs": [
    {
     "name": "stdout",
     "output_type": "stream",
     "text": [
      " * sqlite:///chinook.db\n",
      "Done.\n"
     ]
    },
    {
     "data": {
      "text/html": [
       "<table>\n",
       "    <tr>\n",
       "        <th>Address</th>\n",
       "        <th>ShortenedStreet</th>\n",
       "        <th>NormalStreet</th>\n",
       "    </tr>\n",
       "    <tr>\n",
       "        <td>700 W Pender Street</td>\n",
       "        <td>700 W Pender Str.</td>\n",
       "        <td>700 W Pender Street</td>\n",
       "    </tr>\n",
       "    <tr>\n",
       "        <td>801 W 4th Street</td>\n",
       "        <td>801 W 4th Str.</td>\n",
       "        <td>801 W 4th Street</td>\n",
       "    </tr>\n",
       "    <tr>\n",
       "        <td>69 Salem Street</td>\n",
       "        <td>69 Salem Str.</td>\n",
       "        <td>69 Salem Street</td>\n",
       "    </tr>\n",
       "    <tr>\n",
       "        <td>162 E Superior Street</td>\n",
       "        <td>162 E Superior Str.</td>\n",
       "        <td>162 E Superior Street</td>\n",
       "    </tr>\n",
       "    <tr>\n",
       "        <td>319 N. Frances Street</td>\n",
       "        <td>319 N. Frances Str.</td>\n",
       "        <td>319 N. Frances Street</td>\n",
       "    </tr>\n",
       "    <tr>\n",
       "        <td>2211 W Berry Street</td>\n",
       "        <td>2211 W Berry Str.</td>\n",
       "        <td>2211 W Berry Street</td>\n",
       "    </tr>\n",
       "    <tr>\n",
       "        <td>796 Dundas Street West</td>\n",
       "        <td>796 Dundas Str. West</td>\n",
       "        <td>796 Dundas Street West</td>\n",
       "    </tr>\n",
       "    <tr>\n",
       "        <td>230 Elgin Street</td>\n",
       "        <td>230 Elgin Str.</td>\n",
       "        <td>230 Elgin Street</td>\n",
       "    </tr>\n",
       "    <tr>\n",
       "        <td>696 Osborne Street</td>\n",
       "        <td>696 Osborne Str.</td>\n",
       "        <td>696 Osborne Street</td>\n",
       "    </tr>\n",
       "    <tr>\n",
       "        <td>5112 48 Street</td>\n",
       "        <td>5112 48 Str.</td>\n",
       "        <td>5112 48 Street</td>\n",
       "    </tr>\n",
       "    <tr>\n",
       "        <td>3 Chatham Street</td>\n",
       "        <td>3 Chatham Str.</td>\n",
       "        <td>3 Chatham Street</td>\n",
       "    </tr>\n",
       "    <tr>\n",
       "        <td>202 Hoxton Street</td>\n",
       "        <td>202 Hoxton Str.</td>\n",
       "        <td>202 Hoxton Street</td>\n",
       "    </tr>\n",
       "    <tr>\n",
       "        <td>421 Bourke Street</td>\n",
       "        <td>421 Bourke Str.</td>\n",
       "        <td>421 Bourke Street</td>\n",
       "    </tr>\n",
       "</table>"
      ],
      "text/plain": [
       "[('700 W Pender Street', '700 W Pender Str.', '700 W Pender Street'),\n",
       " ('801 W 4th Street', '801 W 4th Str.', '801 W 4th Street'),\n",
       " ('69 Salem Street', '69 Salem Str.', '69 Salem Street'),\n",
       " ('162 E Superior Street', '162 E Superior Str.', '162 E Superior Street'),\n",
       " ('319 N. Frances Street', '319 N. Frances Str.', '319 N. Frances Street'),\n",
       " ('2211 W Berry Street', '2211 W Berry Str.', '2211 W Berry Street'),\n",
       " ('796 Dundas Street West', '796 Dundas Str. West', '796 Dundas Street West'),\n",
       " ('230 Elgin Street', '230 Elgin Str.', '230 Elgin Street'),\n",
       " ('696 Osborne Street', '696 Osborne Str.', '696 Osborne Street'),\n",
       " ('5112 48 Street', '5112 48 Str.', '5112 48 Street'),\n",
       " ('3 Chatham Street', '3 Chatham Str.', '3 Chatham Street'),\n",
       " ('202 Hoxton Street', '202 Hoxton Str.', '202 Hoxton Street'),\n",
       " ('421 Bourke Street', '421 Bourke Str.', '421 Bourke Street')]"
      ]
     },
     "execution_count": 25,
     "metadata": {},
     "output_type": "execute_result"
    }
   ],
   "source": [
    "%%sql\n",
    "SELECT \n",
    "    ADDRESS,\n",
    "    REPLACE(ADDRESS,'Street', 'Str.') AS ShortenedStreet,\n",
    "FROM CUSTOMERS\n",
    "WHERE ADDRESS like '%Street%'"
   ]
  },
  {
   "cell_type": "markdown",
   "id": "6c8df67d",
   "metadata": {},
   "source": [
    "---"
   ]
  },
  {
   "cell_type": "markdown",
   "id": "9248d148",
   "metadata": {},
   "source": [
    "### CONCATENATION ||\n",
    "\n",
    "In SQLite, we use the || as an indication of concatentation. Other flavours of SQL may use the CONCAT() function. The concatenation operator allows us to put strings of characters or numbers together. It can also be used to put entire columns together!"
   ]
  },
  {
   "cell_type": "code",
   "execution_count": 170,
   "id": "cd8d1bcb",
   "metadata": {},
   "outputs": [
    {
     "name": "stdout",
     "output_type": "stream",
     "text": [
      " * sqlite:///chinook.db\n",
      "Done.\n"
     ]
    },
    {
     "data": {
      "text/html": [
       "<table>\n",
       "    <tr>\n",
       "        <th>City</th>\n",
       "        <th>Country</th>\n",
       "        <th>FullAddress</th>\n",
       "    </tr>\n",
       "    <tr>\n",
       "        <td>São José dos Campos</td>\n",
       "        <td>Brazil</td>\n",
       "        <td>São José dos Campos, Brazil</td>\n",
       "    </tr>\n",
       "    <tr>\n",
       "        <td>Stuttgart</td>\n",
       "        <td>Germany</td>\n",
       "        <td>Stuttgart, Germany</td>\n",
       "    </tr>\n",
       "    <tr>\n",
       "        <td>Montréal</td>\n",
       "        <td>Canada</td>\n",
       "        <td>Montréal, Canada</td>\n",
       "    </tr>\n",
       "    <tr>\n",
       "        <td>Oslo</td>\n",
       "        <td>Norway</td>\n",
       "        <td>Oslo, Norway</td>\n",
       "    </tr>\n",
       "    <tr>\n",
       "        <td>Prague</td>\n",
       "        <td>Czech Republic</td>\n",
       "        <td>Prague, Czech Republic</td>\n",
       "    </tr>\n",
       "</table>"
      ],
      "text/plain": [
       "[('São José dos Campos', 'Brazil', 'São José dos Campos, Brazil'),\n",
       " ('Stuttgart', 'Germany', 'Stuttgart, Germany'),\n",
       " ('Montréal', 'Canada', 'Montréal, Canada'),\n",
       " ('Oslo', 'Norway', 'Oslo, Norway'),\n",
       " ('Prague', 'Czech Republic', 'Prague, Czech Republic')]"
      ]
     },
     "execution_count": 170,
     "metadata": {},
     "output_type": "execute_result"
    }
   ],
   "source": [
    "%%sql\n",
    "SELECT \n",
    "    CITY,\n",
    "    COUNTRY,\n",
    "    CITY || ', ' || COUNTRY AS FullAddress\n",
    "FROM \n",
    "    CUSTOMERS\n",
    "LIMIT 5"
   ]
  },
  {
   "cell_type": "markdown",
   "id": "80c28f43",
   "metadata": {},
   "source": [
    "---"
   ]
  },
  {
   "cell_type": "markdown",
   "id": "81bcd508",
   "metadata": {},
   "source": [
    "### TRIMMING - RTRIM(), LTRIM, TRIM()\n",
    "\n",
    "Trimming functions get rid of any trailing whitespace in our strings. RTRIM() removes any whitespace to the right of the string, LTRIM() removes any whitespace to the left of the string, and TRIM() removes from both the left and right of the string. Note that it does not remove spaces within the string, as this is not 'trailing' whitespace."
   ]
  },
  {
   "cell_type": "code",
   "execution_count": 207,
   "id": "4f096633",
   "metadata": {},
   "outputs": [
    {
     "name": "stdout",
     "output_type": "stream",
     "text": [
      " * sqlite:///chinook.db\n",
      "Done.\n"
     ]
    },
    {
     "data": {
      "text/html": [
       "<table>\n",
       "    <tr>\n",
       "        <th>BNAME</th>\n",
       "        <th>LengthOfFirstName</th>\n",
       "        <th>TRIM_Length</th>\n",
       "        <th>LTRIM_Length</th>\n",
       "        <th>RTRIM_Length</th>\n",
       "    </tr>\n",
       "    <tr>\n",
       "        <td> Luís  </td>\n",
       "        <td>7</td>\n",
       "        <td>4</td>\n",
       "        <td>6</td>\n",
       "        <td>5</td>\n",
       "    </tr>\n",
       "    <tr>\n",
       "        <td> Leonie  </td>\n",
       "        <td>9</td>\n",
       "        <td>6</td>\n",
       "        <td>8</td>\n",
       "        <td>7</td>\n",
       "    </tr>\n",
       "    <tr>\n",
       "        <td> François  </td>\n",
       "        <td>11</td>\n",
       "        <td>8</td>\n",
       "        <td>10</td>\n",
       "        <td>9</td>\n",
       "    </tr>\n",
       "    <tr>\n",
       "        <td> Bjørn  </td>\n",
       "        <td>8</td>\n",
       "        <td>5</td>\n",
       "        <td>7</td>\n",
       "        <td>6</td>\n",
       "    </tr>\n",
       "    <tr>\n",
       "        <td> František  </td>\n",
       "        <td>12</td>\n",
       "        <td>9</td>\n",
       "        <td>11</td>\n",
       "        <td>10</td>\n",
       "    </tr>\n",
       "</table>"
      ],
      "text/plain": [
       "[(' Luís  ', 7, 4, 6, 5),\n",
       " (' Leonie  ', 9, 6, 8, 7),\n",
       " (' François  ', 11, 8, 10, 9),\n",
       " (' Bjørn  ', 8, 5, 7, 6),\n",
       " (' František  ', 12, 9, 11, 10)]"
      ]
     },
     "execution_count": 207,
     "metadata": {},
     "output_type": "execute_result"
    }
   ],
   "source": [
    "%%sql\n",
    "SELECT\n",
    "    BNAME,\n",
    "    LENGTH(BNAME)AS LengthOfFirstName,\n",
    "    LENGTH(TRIM(BNAME)) AS TRIM_Length,\n",
    "    LENGTH(LTRIM(BNAME)) AS LTRIM_Length,\n",
    "    LENGTH(RTRIM(BNAME)) AS RTRIM_Length\n",
    "FROM\n",
    "    (SELECT ' ' || FirstName || '  ' AS BNAME FROM CUSTOMERS)  AS BNAME -- one trailing space on the left, two on the right\n",
    "LIMIT 5;"
   ]
  },
  {
   "cell_type": "markdown",
   "id": "1e3b28aa",
   "metadata": {},
   "source": [
    "---"
   ]
  },
  {
   "cell_type": "markdown",
   "id": "2b620a6e",
   "metadata": {},
   "source": [
    "### SUBSTR()\n",
    "\n",
    "The substring function returns a column with a particular substring from your original string. With the substring function, you define the starting index, and how many characters from the starting index you want to return. NB: In SQL, indexing starts at 1, unlike Python where indexing starts at 0.\n",
    "\n",
    "The general syntax is:\n",
    "\n",
    "`SUBSTR(string/column, start_index, length)`\n",
    "\n",
    "\n",
    "![](https://www.sqlitetutorial.net/wp-content/uploads/2016/05/sqlite-substr.png)"
   ]
  },
  {
   "cell_type": "code",
   "execution_count": 199,
   "id": "04ad37c1",
   "metadata": {},
   "outputs": [
    {
     "name": "stdout",
     "output_type": "stream",
     "text": [
      " * sqlite:///chinook.db\n",
      "Done.\n"
     ]
    },
    {
     "data": {
      "text/html": [
       "<table>\n",
       "    <tr>\n",
       "        <th>Phone</th>\n",
       "        <th>PhoneCode</th>\n",
       "        <th>SubstrLength</th>\n",
       "    </tr>\n",
       "    <tr>\n",
       "        <td>+55 (12) 3923-5555</td>\n",
       "        <td>+55</td>\n",
       "        <td>3</td>\n",
       "    </tr>\n",
       "    <tr>\n",
       "        <td>+49 0711 2842222</td>\n",
       "        <td>+49</td>\n",
       "        <td>3</td>\n",
       "    </tr>\n",
       "    <tr>\n",
       "        <td>+1 (514) 721-4711</td>\n",
       "        <td>+1 </td>\n",
       "        <td>3</td>\n",
       "    </tr>\n",
       "    <tr>\n",
       "        <td>+47 22 44 22 22</td>\n",
       "        <td>+47</td>\n",
       "        <td>3</td>\n",
       "    </tr>\n",
       "    <tr>\n",
       "        <td>+420 2 4172 5555</td>\n",
       "        <td>+42</td>\n",
       "        <td>3</td>\n",
       "    </tr>\n",
       "</table>"
      ],
      "text/plain": [
       "[('+55 (12) 3923-5555', '+55', 3),\n",
       " ('+49 0711 2842222', '+49', 3),\n",
       " ('+1 (514) 721-4711', '+1 ', 3),\n",
       " ('+47 22 44 22 22', '+47', 3),\n",
       " ('+420 2 4172 5555', '+42', 3)]"
      ]
     },
     "execution_count": 199,
     "metadata": {},
     "output_type": "execute_result"
    }
   ],
   "source": [
    "%%sql\n",
    "SELECT \n",
    "    Phone,\n",
    "    SUBSTR(Phone, 1, 3) AS PhoneCode,\n",
    "    LENGTH(SUBSTR(Phone, 1, 3)) as SubstrLength\n",
    "FROM \n",
    "    Customers\n",
    "LIMIT 5;"
   ]
  },
  {
   "cell_type": "markdown",
   "id": "92fd7311",
   "metadata": {},
   "source": [
    "---"
   ]
  },
  {
   "cell_type": "markdown",
   "id": "45df24ba",
   "metadata": {},
   "source": [
    "### INSTR()\n",
    "\n",
    "The INSTR() function returns the first index at which a specified character appears in a string. If the character does not appear in the string, it will return 0.\n",
    "\n",
    "General syntax:\n",
    "\n",
    "`INSTR(string/column, character)`"
   ]
  },
  {
   "cell_type": "code",
   "execution_count": 201,
   "id": "33cabbb0",
   "metadata": {},
   "outputs": [
    {
     "name": "stdout",
     "output_type": "stream",
     "text": [
      " * sqlite:///chinook.db\n",
      "Done.\n"
     ]
    },
    {
     "data": {
      "text/html": [
       "<table>\n",
       "    <tr>\n",
       "        <th>Email</th>\n",
       "        <th>IndexAt</th>\n",
       "    </tr>\n",
       "    <tr>\n",
       "        <td>luisg@embraer.com.br</td>\n",
       "        <td>6</td>\n",
       "    </tr>\n",
       "    <tr>\n",
       "        <td>leonekohler@surfeu.de</td>\n",
       "        <td>12</td>\n",
       "    </tr>\n",
       "    <tr>\n",
       "        <td>ftremblay@gmail.com</td>\n",
       "        <td>10</td>\n",
       "    </tr>\n",
       "    <tr>\n",
       "        <td>bjorn.hansen@yahoo.no</td>\n",
       "        <td>13</td>\n",
       "    </tr>\n",
       "    <tr>\n",
       "        <td>frantisekw@jetbrains.com</td>\n",
       "        <td>11</td>\n",
       "    </tr>\n",
       "</table>"
      ],
      "text/plain": [
       "[('luisg@embraer.com.br', 6),\n",
       " ('leonekohler@surfeu.de', 12),\n",
       " ('ftremblay@gmail.com', 10),\n",
       " ('bjorn.hansen@yahoo.no', 13),\n",
       " ('frantisekw@jetbrains.com', 11)]"
      ]
     },
     "execution_count": 201,
     "metadata": {},
     "output_type": "execute_result"
    }
   ],
   "source": [
    "%%sql\n",
    "SELECT\n",
    "    Email,\n",
    "    INSTR(Email, '@') AS IndexAt\n",
    "FROM \n",
    "    Customers\n",
    "LIMIT 5;"
   ]
  },
  {
   "cell_type": "markdown",
   "id": "2bd4cd70",
   "metadata": {},
   "source": [
    "---"
   ]
  },
  {
   "cell_type": "markdown",
   "id": "5ed9843a",
   "metadata": {},
   "source": [
    "### UPPER() AND LOWER()\n",
    "\n",
    "Much like the names suggest, the UPPER() and LOWER() functions can convert strings to upper or lower case. Note in the example below, special characters are not converted to uppercase!"
   ]
  },
  {
   "cell_type": "code",
   "execution_count": 66,
   "id": "8e0bb337",
   "metadata": {},
   "outputs": [
    {
     "name": "stdout",
     "output_type": "stream",
     "text": [
      " * sqlite:///chinook.db\n",
      "Done.\n"
     ]
    },
    {
     "data": {
      "text/html": [
       "<table>\n",
       "    <tr>\n",
       "        <th>FirstName</th>\n",
       "        <th>UpperCaseFirstName</th>\n",
       "        <th>LowerCaseFirstName</th>\n",
       "    </tr>\n",
       "    <tr>\n",
       "        <td>Luís</td>\n",
       "        <td>LUíS</td>\n",
       "        <td>luís</td>\n",
       "    </tr>\n",
       "    <tr>\n",
       "        <td>Leonie</td>\n",
       "        <td>LEONIE</td>\n",
       "        <td>leonie</td>\n",
       "    </tr>\n",
       "    <tr>\n",
       "        <td>François</td>\n",
       "        <td>FRANçOIS</td>\n",
       "        <td>françois</td>\n",
       "    </tr>\n",
       "    <tr>\n",
       "        <td>Bjørn</td>\n",
       "        <td>BJøRN</td>\n",
       "        <td>bjørn</td>\n",
       "    </tr>\n",
       "    <tr>\n",
       "        <td>František</td>\n",
       "        <td>FRANTIšEK</td>\n",
       "        <td>františek</td>\n",
       "    </tr>\n",
       "</table>"
      ],
      "text/plain": [
       "[('Luís', 'LUíS', 'luís'),\n",
       " ('Leonie', 'LEONIE', 'leonie'),\n",
       " ('François', 'FRANçOIS', 'françois'),\n",
       " ('Bjørn', 'BJøRN', 'bjørn'),\n",
       " ('František', 'FRANTIšEK', 'františek')]"
      ]
     },
     "execution_count": 66,
     "metadata": {},
     "output_type": "execute_result"
    }
   ],
   "source": [
    "%%sql\n",
    "SELECT\n",
    "    FirstName,\n",
    "    UPPER(FirstName) AS UpperCaseFirstName,\n",
    "    LOWER(FirstName) AS LowerCaseFirstName\n",
    "FROM\n",
    "    Customers\n",
    "LIMIT 5;"
   ]
  },
  {
   "cell_type": "markdown",
   "id": "647d1311",
   "metadata": {},
   "source": [
    "---"
   ]
  },
  {
   "cell_type": "markdown",
   "id": "29567cae",
   "metadata": {},
   "source": [
    "## Data Manipulations & Transformation"
   ]
  },
  {
   "cell_type": "markdown",
   "id": "041300d9",
   "metadata": {},
   "source": [
    "### DISTINCT\n",
    "\n",
    "The DISTINCT function allows us to return **unique** values in a column. Imagine we wanted to know from our dataset exactly which countries our customers are from. Of course we likely have multiple customers from the same country, but we don't want to see all these duplications. We can use the DISTINCT function to return only one occurence of each. \n",
    "\n",
    "\n",
    "NB: DISTINCT is case-sensitive. If the we had an entry of 'Brazil' and another of 'brazil', these would be counted as separate countries - how could we get around this?\n",
    "\n",
    "\n",
    "The DISTINCT function can be used in conjunction with thr COUNT() function for further insight - how many countries are we selling to?"
   ]
  },
  {
   "cell_type": "code",
   "execution_count": 204,
   "id": "f950fed6",
   "metadata": {},
   "outputs": [
    {
     "name": "stdout",
     "output_type": "stream",
     "text": [
      " * sqlite:///chinook.db\n",
      "Done.\n"
     ]
    },
    {
     "data": {
      "text/html": [
       "<table>\n",
       "    <tr>\n",
       "        <th>Country</th>\n",
       "    </tr>\n",
       "    <tr>\n",
       "        <td>Brazil</td>\n",
       "    </tr>\n",
       "    <tr>\n",
       "        <td>Germany</td>\n",
       "    </tr>\n",
       "    <tr>\n",
       "        <td>Canada</td>\n",
       "    </tr>\n",
       "    <tr>\n",
       "        <td>Norway</td>\n",
       "    </tr>\n",
       "    <tr>\n",
       "        <td>Czech Republic</td>\n",
       "    </tr>\n",
       "    <tr>\n",
       "        <td>Austria</td>\n",
       "    </tr>\n",
       "    <tr>\n",
       "        <td>Belgium</td>\n",
       "    </tr>\n",
       "    <tr>\n",
       "        <td>Denmark</td>\n",
       "    </tr>\n",
       "    <tr>\n",
       "        <td>USA</td>\n",
       "    </tr>\n",
       "    <tr>\n",
       "        <td>Portugal</td>\n",
       "    </tr>\n",
       "    <tr>\n",
       "        <td>France</td>\n",
       "    </tr>\n",
       "    <tr>\n",
       "        <td>Finland</td>\n",
       "    </tr>\n",
       "    <tr>\n",
       "        <td>Hungary</td>\n",
       "    </tr>\n",
       "    <tr>\n",
       "        <td>Ireland</td>\n",
       "    </tr>\n",
       "    <tr>\n",
       "        <td>Italy</td>\n",
       "    </tr>\n",
       "    <tr>\n",
       "        <td>Netherlands</td>\n",
       "    </tr>\n",
       "    <tr>\n",
       "        <td>Poland</td>\n",
       "    </tr>\n",
       "    <tr>\n",
       "        <td>Spain</td>\n",
       "    </tr>\n",
       "    <tr>\n",
       "        <td>Sweden</td>\n",
       "    </tr>\n",
       "    <tr>\n",
       "        <td>United Kingdom</td>\n",
       "    </tr>\n",
       "    <tr>\n",
       "        <td>Australia</td>\n",
       "    </tr>\n",
       "    <tr>\n",
       "        <td>Argentina</td>\n",
       "    </tr>\n",
       "    <tr>\n",
       "        <td>Chile</td>\n",
       "    </tr>\n",
       "    <tr>\n",
       "        <td>India</td>\n",
       "    </tr>\n",
       "</table>"
      ],
      "text/plain": [
       "[('Brazil',),\n",
       " ('Germany',),\n",
       " ('Canada',),\n",
       " ('Norway',),\n",
       " ('Czech Republic',),\n",
       " ('Austria',),\n",
       " ('Belgium',),\n",
       " ('Denmark',),\n",
       " ('USA',),\n",
       " ('Portugal',),\n",
       " ('France',),\n",
       " ('Finland',),\n",
       " ('Hungary',),\n",
       " ('Ireland',),\n",
       " ('Italy',),\n",
       " ('Netherlands',),\n",
       " ('Poland',),\n",
       " ('Spain',),\n",
       " ('Sweden',),\n",
       " ('United Kingdom',),\n",
       " ('Australia',),\n",
       " ('Argentina',),\n",
       " ('Chile',),\n",
       " ('India',)]"
      ]
     },
     "execution_count": 204,
     "metadata": {},
     "output_type": "execute_result"
    }
   ],
   "source": [
    "%%sql\n",
    "SELECT DISTINCT Country\n",
    "FROM Customers"
   ]
  },
  {
   "cell_type": "markdown",
   "id": "fdc8e7db",
   "metadata": {},
   "source": [
    "---"
   ]
  },
  {
   "cell_type": "markdown",
   "id": "d93ea7ef",
   "metadata": {},
   "source": [
    "### CASE\n",
    "\n",
    "The CASE function is a form of using an IF-THEN-ELSE statement that is used often in programming. It is used in conjuction with the WHEN statement in order to create the conditions. The 'ELSE' clause is not always needed, the expression can be complete with just WHEN statements.\n",
    "\n",
    "\n",
    "General syntax:\n",
    "\n",
    "`CASE\n",
    "    WHEN conditon_1 THEN result_1\n",
    "    WHEN conditon_2 THEN result_2\n",
    "    .\n",
    "    .\n",
    "    .\n",
    "    WHEN conditon_n THEN result_n\n",
    "[ELSE result_n+1]\n",
    "END AS ColumnName`"
   ]
  },
  {
   "cell_type": "code",
   "execution_count": 112,
   "id": "e2bbb335",
   "metadata": {},
   "outputs": [
    {
     "name": "stdout",
     "output_type": "stream",
     "text": [
      " * sqlite:///chinook.db\n",
      "Done.\n"
     ]
    },
    {
     "data": {
      "text/html": [
       "<table>\n",
       "    <tr>\n",
       "        <th>FirstName</th>\n",
       "        <th>LastName</th>\n",
       "        <th>Company</th>\n",
       "        <th>EmploymentStatus</th>\n",
       "    </tr>\n",
       "    <tr>\n",
       "        <td>Luís</td>\n",
       "        <td>Gonçalves</td>\n",
       "        <td>Embraer - Empresa Brasileira de Aeronáutica S.A.</td>\n",
       "        <td>Employed</td>\n",
       "    </tr>\n",
       "    <tr>\n",
       "        <td>Leonie</td>\n",
       "        <td>Köhler</td>\n",
       "        <td>None</td>\n",
       "        <td>Unemployed</td>\n",
       "    </tr>\n",
       "    <tr>\n",
       "        <td>François</td>\n",
       "        <td>Tremblay</td>\n",
       "        <td>None</td>\n",
       "        <td>Unemployed</td>\n",
       "    </tr>\n",
       "    <tr>\n",
       "        <td>Bjørn</td>\n",
       "        <td>Hansen</td>\n",
       "        <td>None</td>\n",
       "        <td>Unemployed</td>\n",
       "    </tr>\n",
       "    <tr>\n",
       "        <td>František</td>\n",
       "        <td>Wichterlová</td>\n",
       "        <td>JetBrains s.r.o.</td>\n",
       "        <td>Employed</td>\n",
       "    </tr>\n",
       "</table>"
      ],
      "text/plain": [
       "[('Luís', 'Gonçalves', 'Embraer - Empresa Brasileira de Aeronáutica S.A.', 'Employed'),\n",
       " ('Leonie', 'Köhler', None, 'Unemployed'),\n",
       " ('François', 'Tremblay', None, 'Unemployed'),\n",
       " ('Bjørn', 'Hansen', None, 'Unemployed'),\n",
       " ('František', 'Wichterlová', 'JetBrains s.r.o.', 'Employed')]"
      ]
     },
     "execution_count": 112,
     "metadata": {},
     "output_type": "execute_result"
    }
   ],
   "source": [
    "%%sql\n",
    "SELECT \n",
    "    FirstName,\n",
    "    LastName,\n",
    "    Company,\n",
    "    CASE\n",
    "        WHEN Company is null then 'Unemployed'\n",
    "        WHEN Company is not null then 'Employed'\n",
    "    END AS EmploymentStatus\n",
    "FROM \n",
    "    Customers\n",
    "LIMIT 5;"
   ]
  },
  {
   "cell_type": "code",
   "execution_count": 110,
   "id": "d2b80103",
   "metadata": {},
   "outputs": [
    {
     "name": "stdout",
     "output_type": "stream",
     "text": [
      " * sqlite:///chinook.db\n",
      "Done.\n"
     ]
    },
    {
     "data": {
      "text/html": [
       "<table>\n",
       "    <tr>\n",
       "        <th>FirstName</th>\n",
       "        <th>LastName</th>\n",
       "        <th>Company</th>\n",
       "        <th>EmploymentStatus</th>\n",
       "    </tr>\n",
       "    <tr>\n",
       "        <td>Luís</td>\n",
       "        <td>Gonçalves</td>\n",
       "        <td>Embraer - Empresa Brasileira de Aeronáutica S.A.</td>\n",
       "        <td>Employed</td>\n",
       "    </tr>\n",
       "    <tr>\n",
       "        <td>Leonie</td>\n",
       "        <td>Köhler</td>\n",
       "        <td>None</td>\n",
       "        <td>Unemployed</td>\n",
       "    </tr>\n",
       "    <tr>\n",
       "        <td>François</td>\n",
       "        <td>Tremblay</td>\n",
       "        <td>None</td>\n",
       "        <td>Unemployed</td>\n",
       "    </tr>\n",
       "    <tr>\n",
       "        <td>Bjørn</td>\n",
       "        <td>Hansen</td>\n",
       "        <td>None</td>\n",
       "        <td>Unemployed</td>\n",
       "    </tr>\n",
       "    <tr>\n",
       "        <td>František</td>\n",
       "        <td>Wichterlová</td>\n",
       "        <td>JetBrains s.r.o.</td>\n",
       "        <td>Employed</td>\n",
       "    </tr>\n",
       "</table>"
      ],
      "text/plain": [
       "[('Luís', 'Gonçalves', 'Embraer - Empresa Brasileira de Aeronáutica S.A.', 'Employed'),\n",
       " ('Leonie', 'Köhler', None, 'Unemployed'),\n",
       " ('François', 'Tremblay', None, 'Unemployed'),\n",
       " ('Bjørn', 'Hansen', None, 'Unemployed'),\n",
       " ('František', 'Wichterlová', 'JetBrains s.r.o.', 'Employed')]"
      ]
     },
     "execution_count": 110,
     "metadata": {},
     "output_type": "execute_result"
    }
   ],
   "source": [
    "%%sql\n",
    "SELECT \n",
    "    FirstName,\n",
    "    LastName,\n",
    "    Company,\n",
    "    CASE\n",
    "        WHEN Company is null then 'Unemployed'\n",
    "    ELSE 'Employed'\n",
    "    END AS EmploymentStatus\n",
    "FROM \n",
    "    Customers\n",
    "LIMIT 5;"
   ]
  },
  {
   "cell_type": "markdown",
   "id": "934a1e5e",
   "metadata": {},
   "source": [
    "---"
   ]
  },
  {
   "cell_type": "markdown",
   "id": "7acc17dc",
   "metadata": {},
   "source": [
    "### IIF()\n",
    "\n",
    "The IIF() function is similar to CASE in that it is a version of using an IF-ELSE statement. The syntax of the IIF() function is very similar to what you may see in something like Excel or in DAX formulas:\n",
    "\n",
    "`IIF(condition, result_if_true, result_if_false)`\n",
    "\n",
    "IIF() statements can also be nested, if you have multiple conditions. Think about how you created the Season column back in the Visualisation sprint!\n",
    "\n",
    "NB: The IIF() function is available from version 3.32.0 of SQLite onwards. If the below cell returns an error, you may need to update your SQLite installation. Also note that this cell will not run in Colab, as it uses a deprecated version of sqlite3."
   ]
  },
  {
   "cell_type": "code",
   "execution_count": 123,
   "id": "3b081ab3",
   "metadata": {},
   "outputs": [
    {
     "name": "stdout",
     "output_type": "stream",
     "text": [
      " * sqlite:///chinook.db\n",
      "Done.\n"
     ]
    },
    {
     "data": {
      "text/html": [
       "<table>\n",
       "    <tr>\n",
       "        <th>FirstName</th>\n",
       "        <th>LastName</th>\n",
       "        <th>Company</th>\n",
       "        <th>EmploymentStatus</th>\n",
       "    </tr>\n",
       "    <tr>\n",
       "        <td>Luís</td>\n",
       "        <td>Gonçalves</td>\n",
       "        <td>Embraer - Empresa Brasileira de Aeronáutica S.A.</td>\n",
       "        <td>Employed</td>\n",
       "    </tr>\n",
       "    <tr>\n",
       "        <td>Leonie</td>\n",
       "        <td>Köhler</td>\n",
       "        <td>None</td>\n",
       "        <td>Unemployed</td>\n",
       "    </tr>\n",
       "    <tr>\n",
       "        <td>François</td>\n",
       "        <td>Tremblay</td>\n",
       "        <td>None</td>\n",
       "        <td>Unemployed</td>\n",
       "    </tr>\n",
       "    <tr>\n",
       "        <td>Bjørn</td>\n",
       "        <td>Hansen</td>\n",
       "        <td>None</td>\n",
       "        <td>Unemployed</td>\n",
       "    </tr>\n",
       "    <tr>\n",
       "        <td>František</td>\n",
       "        <td>Wichterlová</td>\n",
       "        <td>JetBrains s.r.o.</td>\n",
       "        <td>Employed</td>\n",
       "    </tr>\n",
       "</table>"
      ],
      "text/plain": [
       "[('Luís', 'Gonçalves', 'Embraer - Empresa Brasileira de Aeronáutica S.A.', 'Employed'),\n",
       " ('Leonie', 'Köhler', None, 'Unemployed'),\n",
       " ('François', 'Tremblay', None, 'Unemployed'),\n",
       " ('Bjørn', 'Hansen', None, 'Unemployed'),\n",
       " ('František', 'Wichterlová', 'JetBrains s.r.o.', 'Employed')]"
      ]
     },
     "execution_count": 123,
     "metadata": {},
     "output_type": "execute_result"
    }
   ],
   "source": [
    "%%sql\n",
    "SELECT\n",
    "    FirstName,\n",
    "    LastName,\n",
    "    Company,\n",
    "    IIF(Company is null,'Unemployed','Employed') AS EmploymentStatus\n",
    "FROM\n",
    "    Customers\n",
    "LIMIT 5;"
   ]
  },
  {
   "cell_type": "markdown",
   "id": "bc7c3517",
   "metadata": {},
   "source": [
    "---"
   ]
  },
  {
   "cell_type": "markdown",
   "id": "7087e736",
   "metadata": {},
   "source": [
    "### COALESCE()\n",
    "\n",
    "The COALESCE() function will return the first non-null value if given a list of values, or has the power to replace null values in a column with a specified value, as a new column. This is particularly useful if we have nulls in a dataset that we want to replace with a default value!"
   ]
  },
  {
   "cell_type": "code",
   "execution_count": 178,
   "id": "90e06692",
   "metadata": {},
   "outputs": [
    {
     "name": "stdout",
     "output_type": "stream",
     "text": [
      " * sqlite:///chinook.db\n",
      "Done.\n"
     ]
    },
    {
     "data": {
      "text/html": [
       "<table>\n",
       "    <tr>\n",
       "        <th>COALESCE(null, 10, 30)</th>\n",
       "    </tr>\n",
       "    <tr>\n",
       "        <td>10</td>\n",
       "    </tr>\n",
       "</table>"
      ],
      "text/plain": [
       "[(10,)]"
      ]
     },
     "execution_count": 178,
     "metadata": {},
     "output_type": "execute_result"
    }
   ],
   "source": [
    "%%sql\n",
    "\n",
    "SELECT COALESCE(null, 10, 30);"
   ]
  },
  {
   "cell_type": "code",
   "execution_count": 126,
   "id": "1d00d69e",
   "metadata": {},
   "outputs": [
    {
     "name": "stdout",
     "output_type": "stream",
     "text": [
      " * sqlite:///chinook.db\n",
      "Done.\n"
     ]
    },
    {
     "data": {
      "text/html": [
       "<table>\n",
       "    <tr>\n",
       "        <th>FirstName</th>\n",
       "        <th>LastName</th>\n",
       "        <th>Company</th>\n",
       "        <th>EmploymentStatus</th>\n",
       "    </tr>\n",
       "    <tr>\n",
       "        <td>Luís</td>\n",
       "        <td>Gonçalves</td>\n",
       "        <td>Embraer - Empresa Brasileira de Aeronáutica S.A.</td>\n",
       "        <td>Embraer - Empresa Brasileira de Aeronáutica S.A.</td>\n",
       "    </tr>\n",
       "    <tr>\n",
       "        <td>Leonie</td>\n",
       "        <td>Köhler</td>\n",
       "        <td>None</td>\n",
       "        <td>Unemployed</td>\n",
       "    </tr>\n",
       "    <tr>\n",
       "        <td>François</td>\n",
       "        <td>Tremblay</td>\n",
       "        <td>None</td>\n",
       "        <td>Unemployed</td>\n",
       "    </tr>\n",
       "    <tr>\n",
       "        <td>Bjørn</td>\n",
       "        <td>Hansen</td>\n",
       "        <td>None</td>\n",
       "        <td>Unemployed</td>\n",
       "    </tr>\n",
       "    <tr>\n",
       "        <td>František</td>\n",
       "        <td>Wichterlová</td>\n",
       "        <td>JetBrains s.r.o.</td>\n",
       "        <td>JetBrains s.r.o.</td>\n",
       "    </tr>\n",
       "</table>"
      ],
      "text/plain": [
       "[('Luís', 'Gonçalves', 'Embraer - Empresa Brasileira de Aeronáutica S.A.', 'Embraer - Empresa Brasileira de Aeronáutica S.A.'),\n",
       " ('Leonie', 'Köhler', None, 'Unemployed'),\n",
       " ('François', 'Tremblay', None, 'Unemployed'),\n",
       " ('Bjørn', 'Hansen', None, 'Unemployed'),\n",
       " ('František', 'Wichterlová', 'JetBrains s.r.o.', 'JetBrains s.r.o.')]"
      ]
     },
     "execution_count": 126,
     "metadata": {},
     "output_type": "execute_result"
    }
   ],
   "source": [
    "%%sql\n",
    "\n",
    "SELECT\n",
    "    FirstName,\n",
    "    LastName,\n",
    "    Company,\n",
    "    COALESCE(Company, 'Unemployed') AS EmploymentStatus\n",
    "FROM\n",
    "    Customers\n",
    "LIMIT 5;"
   ]
  },
  {
   "cell_type": "markdown",
   "id": "f80b037a",
   "metadata": {},
   "source": [
    "---"
   ]
  },
  {
   "cell_type": "markdown",
   "id": "23152f94",
   "metadata": {},
   "source": [
    "### NULLIF()\n",
    "\n",
    "The NULLIF() function compares two arguments passed into it, and evaluates whether the two values are equal or not. If they are equal, the function will return null or None. If not, it will return the first value passed to it.\n",
    "\n",
    "This function is particularly useful in datasets where we may want to replace empty strings or zeroes with a null to help with other aggregation functions and calculations. In this way it can act as a sort of opposite function to the COALESCE() function described above."
   ]
  },
  {
   "cell_type": "code",
   "execution_count": 181,
   "id": "2209d1ea",
   "metadata": {},
   "outputs": [
    {
     "name": "stdout",
     "output_type": "stream",
     "text": [
      " * sqlite:///chinook.db\n",
      "Done.\n"
     ]
    },
    {
     "data": {
      "text/html": [
       "<table>\n",
       "    <tr>\n",
       "        <th>NULLIF(11, 11)</th>\n",
       "    </tr>\n",
       "    <tr>\n",
       "        <td>None</td>\n",
       "    </tr>\n",
       "</table>"
      ],
      "text/plain": [
       "[(None,)]"
      ]
     },
     "execution_count": 181,
     "metadata": {},
     "output_type": "execute_result"
    }
   ],
   "source": [
    "%%sql\n",
    "SELECT NULLIF(11, 11)"
   ]
  },
  {
   "cell_type": "code",
   "execution_count": 129,
   "id": "8110ec0c",
   "metadata": {},
   "outputs": [
    {
     "name": "stdout",
     "output_type": "stream",
     "text": [
      " * sqlite:///chinook.db\n",
      "Done.\n"
     ]
    },
    {
     "data": {
      "text/html": [
       "<table>\n",
       "    <tr>\n",
       "        <th>NULLIF(&#x27;abc&#x27;, &#x27;ab&#x27;)</th>\n",
       "    </tr>\n",
       "    <tr>\n",
       "        <td>abc</td>\n",
       "    </tr>\n",
       "</table>"
      ],
      "text/plain": [
       "[('abc',)]"
      ]
     },
     "execution_count": 129,
     "metadata": {},
     "output_type": "execute_result"
    }
   ],
   "source": [
    "%%sql\n",
    "SELECT NULLIF('abc', 'ab')"
   ]
  },
  {
   "cell_type": "code",
   "execution_count": 183,
   "id": "662d64b9",
   "metadata": {},
   "outputs": [
    {
     "name": "stdout",
     "output_type": "stream",
     "text": [
      " * sqlite:///chinook.db\n",
      "Done.\n"
     ]
    },
    {
     "data": {
      "text/html": [
       "<table>\n",
       "    <tr>\n",
       "        <th>BillingAddress</th>\n",
       "        <th>BillingCity</th>\n",
       "        <th>BillingState</th>\n",
       "        <th>BillingCountry</th>\n",
       "        <th>Total</th>\n",
       "        <th>ShippingFee</th>\n",
       "    </tr>\n",
       "    <tr>\n",
       "        <td>Theodor-Heuss-Straße 34</td>\n",
       "        <td>Stuttgart</td>\n",
       "        <td>None</td>\n",
       "        <td>Germany</td>\n",
       "        <td>1.98</td>\n",
       "        <td>None</td>\n",
       "    </tr>\n",
       "    <tr>\n",
       "        <td>Ullevålsveien 14</td>\n",
       "        <td>Oslo</td>\n",
       "        <td>None</td>\n",
       "        <td>Norway</td>\n",
       "        <td>3.96</td>\n",
       "        <td>Norway</td>\n",
       "    </tr>\n",
       "    <tr>\n",
       "        <td>Grétrystraat 63</td>\n",
       "        <td>Brussels</td>\n",
       "        <td>None</td>\n",
       "        <td>Belgium</td>\n",
       "        <td>5.94</td>\n",
       "        <td>Belgium</td>\n",
       "    </tr>\n",
       "    <tr>\n",
       "        <td>8210 111 ST NW</td>\n",
       "        <td>Edmonton</td>\n",
       "        <td>AB</td>\n",
       "        <td>Canada</td>\n",
       "        <td>8.91</td>\n",
       "        <td>Canada</td>\n",
       "    </tr>\n",
       "    <tr>\n",
       "        <td>69 Salem Street</td>\n",
       "        <td>Boston</td>\n",
       "        <td>MA</td>\n",
       "        <td>USA</td>\n",
       "        <td>13.86</td>\n",
       "        <td>USA</td>\n",
       "    </tr>\n",
       "</table>"
      ],
      "text/plain": [
       "[('Theodor-Heuss-Straße 34', 'Stuttgart', None, 'Germany', 1.98, None),\n",
       " ('Ullevålsveien 14', 'Oslo', None, 'Norway', 3.96, 'Norway'),\n",
       " ('Grétrystraat 63', 'Brussels', None, 'Belgium', 5.94, 'Belgium'),\n",
       " ('8210 111 ST NW', 'Edmonton', 'AB', 'Canada', 8.91, 'Canada'),\n",
       " ('69 Salem Street', 'Boston', 'MA', 'USA', 13.86, 'USA')]"
      ]
     },
     "execution_count": 183,
     "metadata": {},
     "output_type": "execute_result"
    }
   ],
   "source": [
    "%%sql\n",
    "SELECT\n",
    "    BillingAddress, \n",
    "    BillingCity, \n",
    "    BillingState, \n",
    "    BillingCountry, \n",
    "    Total, \n",
    "    NULLIF(BillingCountry, 'Germany') AS ShippingFee\n",
    "FROM invoices\n",
    "--WHERE BillingCountry = 'Germany'\n",
    "LIMIT 5;"
   ]
  },
  {
   "cell_type": "markdown",
   "id": "ba52c774",
   "metadata": {},
   "source": [
    "---"
   ]
  },
  {
   "cell_type": "markdown",
   "id": "e08a3665",
   "metadata": {},
   "source": [
    "### CAST\n",
    "\n",
    "The CAST function allows us to alter datatypes. This is very useful in cleaning our data, as we may not always get data in the format or datatype that we want to use it in. In the below example, division of the milliseconds produces and integer output, but perhaps we want our output to be a bit more precise. We can CAST our milliseconds as the datatype REAL to do so. "
   ]
  },
  {
   "cell_type": "code",
   "execution_count": 215,
   "id": "29302290",
   "metadata": {},
   "outputs": [
    {
     "name": "stdout",
     "output_type": "stream",
     "text": [
      " * sqlite:///chinook.db\n",
      "Done.\n"
     ]
    },
    {
     "data": {
      "text/html": [
       "<table>\n",
       "    <tr>\n",
       "        <th>Name</th>\n",
       "        <th>Milliseconds</th>\n",
       "        <th>Seconds</th>\n",
       "        <th>SecondsReal</th>\n",
       "        <th>Minutes</th>\n",
       "        <th>MinutesReal</th>\n",
       "        <th>TimeFormat</th>\n",
       "    </tr>\n",
       "    <tr>\n",
       "        <td>For Those About To Rock (We Salute You)</td>\n",
       "        <td>343719</td>\n",
       "        <td>343</td>\n",
       "        <td>343.719</td>\n",
       "        <td>5</td>\n",
       "        <td>5.72865</td>\n",
       "        <td>00:05:43</td>\n",
       "    </tr>\n",
       "    <tr>\n",
       "        <td>Balls to the Wall</td>\n",
       "        <td>342562</td>\n",
       "        <td>342</td>\n",
       "        <td>342.562</td>\n",
       "        <td>5</td>\n",
       "        <td>5.709366666666667</td>\n",
       "        <td>00:05:42</td>\n",
       "    </tr>\n",
       "    <tr>\n",
       "        <td>Fast As a Shark</td>\n",
       "        <td>230619</td>\n",
       "        <td>230</td>\n",
       "        <td>230.619</td>\n",
       "        <td>3</td>\n",
       "        <td>3.84365</td>\n",
       "        <td>00:03:50</td>\n",
       "    </tr>\n",
       "    <tr>\n",
       "        <td>Restless and Wild</td>\n",
       "        <td>252051</td>\n",
       "        <td>252</td>\n",
       "        <td>252.051</td>\n",
       "        <td>4</td>\n",
       "        <td>4.20085</td>\n",
       "        <td>00:04:12</td>\n",
       "    </tr>\n",
       "    <tr>\n",
       "        <td>Princess of the Dawn</td>\n",
       "        <td>375418</td>\n",
       "        <td>375</td>\n",
       "        <td>375.418</td>\n",
       "        <td>6</td>\n",
       "        <td>6.256966666666667</td>\n",
       "        <td>00:06:15</td>\n",
       "    </tr>\n",
       "</table>"
      ],
      "text/plain": [
       "[('For Those About To Rock (We Salute You)', 343719, 343, 343.719, 5, 5.72865, '00:05:43'),\n",
       " ('Balls to the Wall', 342562, 342, 342.562, 5, 5.709366666666667, '00:05:42'),\n",
       " ('Fast As a Shark', 230619, 230, 230.619, 3, 3.84365, '00:03:50'),\n",
       " ('Restless and Wild', 252051, 252, 252.051, 4, 4.20085, '00:04:12'),\n",
       " ('Princess of the Dawn', 375418, 375, 375.418, 6, 6.256966666666667, '00:06:15')]"
      ]
     },
     "execution_count": 215,
     "metadata": {},
     "output_type": "execute_result"
    }
   ],
   "source": [
    "%%sql\n",
    "\n",
    "SELECT \n",
    "    Name, \n",
    "    Milliseconds, \n",
    "    Milliseconds/1000 as Seconds, \n",
    "    CAST(Milliseconds as REAL)/1000 as SecondsReal,\n",
    "    Milliseconds/60000 as Minutes,\n",
    "    CAST(Milliseconds as REAL)/60000 as MinutesReal,\n",
    "    TIME(Milliseconds/1000, 'unixepoch') as TimeFormat\n",
    "FROM \n",
    "    Tracks\n",
    "LIMIT 5;"
   ]
  },
  {
   "cell_type": "markdown",
   "id": "9e63b13b",
   "metadata": {},
   "source": [
    "---"
   ]
  },
  {
   "cell_type": "markdown",
   "id": "731b92ac",
   "metadata": {},
   "source": [
    "## Exercises"
   ]
  },
  {
   "cell_type": "markdown",
   "id": "9df43fda",
   "metadata": {},
   "source": [
    "1. Return a table with the customers FirstName, LastName, Length of first name, and Length of full name (first and last name)."
   ]
  },
  {
   "cell_type": "code",
   "execution_count": 217,
   "id": "69d9b91b",
   "metadata": {},
   "outputs": [
    {
     "name": "stdout",
     "output_type": "stream",
     "text": [
      " * sqlite:///chinook.db\n",
      "Done.\n"
     ]
    },
    {
     "data": {
      "text/html": [
       "<table>\n",
       "    <tr>\n",
       "        <th>FirstName</th>\n",
       "        <th>LastName</th>\n",
       "        <th>LengthOfFirstName</th>\n",
       "        <th>LengthOfFullName</th>\n",
       "    </tr>\n",
       "    <tr>\n",
       "        <td>Luís</td>\n",
       "        <td>Gonçalves</td>\n",
       "        <td>4</td>\n",
       "        <td>13</td>\n",
       "    </tr>\n",
       "    <tr>\n",
       "        <td>Leonie</td>\n",
       "        <td>Köhler</td>\n",
       "        <td>6</td>\n",
       "        <td>12</td>\n",
       "    </tr>\n",
       "    <tr>\n",
       "        <td>François</td>\n",
       "        <td>Tremblay</td>\n",
       "        <td>8</td>\n",
       "        <td>16</td>\n",
       "    </tr>\n",
       "    <tr>\n",
       "        <td>Bjørn</td>\n",
       "        <td>Hansen</td>\n",
       "        <td>5</td>\n",
       "        <td>11</td>\n",
       "    </tr>\n",
       "    <tr>\n",
       "        <td>František</td>\n",
       "        <td>Wichterlová</td>\n",
       "        <td>9</td>\n",
       "        <td>20</td>\n",
       "    </tr>\n",
       "</table>"
      ],
      "text/plain": [
       "[('Luís', 'Gonçalves', 4, 13),\n",
       " ('Leonie', 'Köhler', 6, 12),\n",
       " ('François', 'Tremblay', 8, 16),\n",
       " ('Bjørn', 'Hansen', 5, 11),\n",
       " ('František', 'Wichterlová', 9, 20)]"
      ]
     },
     "execution_count": 217,
     "metadata": {},
     "output_type": "execute_result"
    }
   ],
   "source": [
    "%%sql\n",
    "SELECT\n",
    "    FirstName,\n",
    "    LastName,\n",
    "    LENGTH(FirstName) AS LengthOfFirstName,\n",
    "    LENGTH(FirstName) + LENGTH(LastName) AS LengthOfFullName \n",
    "    --You could also use concatentation ||\n",
    "FROM\n",
    "    Customers\n",
    "LIMIT 5;"
   ]
  },
  {
   "cell_type": "markdown",
   "id": "fee67e06",
   "metadata": {},
   "source": [
    "2. Suppose we have a weird problem with our system, where we cannot use the '@' symbol. Return a table with Email, and a column called NoSpecialCharacters where we replace @ with [at]"
   ]
  },
  {
   "cell_type": "code",
   "execution_count": 218,
   "id": "93c512d8",
   "metadata": {},
   "outputs": [
    {
     "name": "stdout",
     "output_type": "stream",
     "text": [
      " * sqlite:///chinook.db\n",
      "Done.\n"
     ]
    },
    {
     "data": {
      "text/html": [
       "<table>\n",
       "    <tr>\n",
       "        <th>Email</th>\n",
       "        <th>NoSpecialCharacters</th>\n",
       "    </tr>\n",
       "    <tr>\n",
       "        <td>luisg@embraer.com.br</td>\n",
       "        <td>luisg[at]embraer.com.br</td>\n",
       "    </tr>\n",
       "    <tr>\n",
       "        <td>leonekohler@surfeu.de</td>\n",
       "        <td>leonekohler[at]surfeu.de</td>\n",
       "    </tr>\n",
       "    <tr>\n",
       "        <td>ftremblay@gmail.com</td>\n",
       "        <td>ftremblay[at]gmail.com</td>\n",
       "    </tr>\n",
       "    <tr>\n",
       "        <td>bjorn.hansen@yahoo.no</td>\n",
       "        <td>bjorn.hansen[at]yahoo.no</td>\n",
       "    </tr>\n",
       "    <tr>\n",
       "        <td>frantisekw@jetbrains.com</td>\n",
       "        <td>frantisekw[at]jetbrains.com</td>\n",
       "    </tr>\n",
       "</table>"
      ],
      "text/plain": [
       "[('luisg@embraer.com.br', 'luisg[at]embraer.com.br'),\n",
       " ('leonekohler@surfeu.de', 'leonekohler[at]surfeu.de'),\n",
       " ('ftremblay@gmail.com', 'ftremblay[at]gmail.com'),\n",
       " ('bjorn.hansen@yahoo.no', 'bjorn.hansen[at]yahoo.no'),\n",
       " ('frantisekw@jetbrains.com', 'frantisekw[at]jetbrains.com')]"
      ]
     },
     "execution_count": 218,
     "metadata": {},
     "output_type": "execute_result"
    }
   ],
   "source": [
    "%%sql\n",
    "SELECT \n",
    "    Email,\n",
    "    REPLACE(Email,'@', '[at]') AS NoSpecialCharacters\n",
    "FROM \n",
    "    Customers\n",
    "LIMIT 5;"
   ]
  },
  {
   "cell_type": "markdown",
   "id": "b5fdb8cf",
   "metadata": {},
   "source": [
    "3. Let's say we're shipping from the USA. We want to list in our table whether our customers are local/national, or international in order to help our data analysis and get insights into how much we're shipping overseas versus nationally. Return a table with CustomerId, BillingCountry and a column indicating whether the customer's billing country is 'National' (in the USA) or 'International'."
   ]
  },
  {
   "cell_type": "code",
   "execution_count": 219,
   "id": "28cc55f4",
   "metadata": {},
   "outputs": [
    {
     "name": "stdout",
     "output_type": "stream",
     "text": [
      " * sqlite:///chinook.db\n",
      "Done.\n"
     ]
    },
    {
     "data": {
      "text/html": [
       "<table>\n",
       "    <tr>\n",
       "        <th>CustomerId</th>\n",
       "        <th>BillingCountry</th>\n",
       "        <th>NationalOrInternational</th>\n",
       "    </tr>\n",
       "    <tr>\n",
       "        <td>2</td>\n",
       "        <td>Germany</td>\n",
       "        <td>International</td>\n",
       "    </tr>\n",
       "    <tr>\n",
       "        <td>4</td>\n",
       "        <td>Norway</td>\n",
       "        <td>International</td>\n",
       "    </tr>\n",
       "    <tr>\n",
       "        <td>8</td>\n",
       "        <td>Belgium</td>\n",
       "        <td>International</td>\n",
       "    </tr>\n",
       "    <tr>\n",
       "        <td>14</td>\n",
       "        <td>Canada</td>\n",
       "        <td>International</td>\n",
       "    </tr>\n",
       "    <tr>\n",
       "        <td>23</td>\n",
       "        <td>USA</td>\n",
       "        <td>National</td>\n",
       "    </tr>\n",
       "</table>"
      ],
      "text/plain": [
       "[(2, 'Germany', 'International'),\n",
       " (4, 'Norway', 'International'),\n",
       " (8, 'Belgium', 'International'),\n",
       " (14, 'Canada', 'International'),\n",
       " (23, 'USA', 'National')]"
      ]
     },
     "execution_count": 219,
     "metadata": {},
     "output_type": "execute_result"
    }
   ],
   "source": [
    "%%sql\n",
    "SELECT \n",
    "    CustomerId,\n",
    "    BillingCountry,\n",
    "    CASE\n",
    "        WHEN BillingCountry = 'USA' then 'National'\n",
    "    ELSE 'International'\n",
    "    END AS NationalOrInternational\n",
    "FROM \n",
    "    Invoices\n",
    "LIMIT 5;"
   ]
  },
  {
   "cell_type": "code",
   "execution_count": 220,
   "id": "00a577a6",
   "metadata": {},
   "outputs": [
    {
     "name": "stdout",
     "output_type": "stream",
     "text": [
      " * sqlite:///chinook.db\n",
      "Done.\n"
     ]
    },
    {
     "data": {
      "text/html": [
       "<table>\n",
       "    <tr>\n",
       "        <th>CustomerId</th>\n",
       "        <th>BillingCountry</th>\n",
       "        <th>NationalOrInternational</th>\n",
       "    </tr>\n",
       "    <tr>\n",
       "        <td>2</td>\n",
       "        <td>Germany</td>\n",
       "        <td>International</td>\n",
       "    </tr>\n",
       "    <tr>\n",
       "        <td>4</td>\n",
       "        <td>Norway</td>\n",
       "        <td>International</td>\n",
       "    </tr>\n",
       "    <tr>\n",
       "        <td>8</td>\n",
       "        <td>Belgium</td>\n",
       "        <td>International</td>\n",
       "    </tr>\n",
       "    <tr>\n",
       "        <td>14</td>\n",
       "        <td>Canada</td>\n",
       "        <td>International</td>\n",
       "    </tr>\n",
       "    <tr>\n",
       "        <td>23</td>\n",
       "        <td>USA</td>\n",
       "        <td>National</td>\n",
       "    </tr>\n",
       "</table>"
      ],
      "text/plain": [
       "[(2, 'Germany', 'International'),\n",
       " (4, 'Norway', 'International'),\n",
       " (8, 'Belgium', 'International'),\n",
       " (14, 'Canada', 'International'),\n",
       " (23, 'USA', 'National')]"
      ]
     },
     "execution_count": 220,
     "metadata": {},
     "output_type": "execute_result"
    }
   ],
   "source": [
    "%%sql\n",
    "SELECT \n",
    "    CustomerId,\n",
    "    BillingCountry,\n",
    "    IIF(BillingCountry = 'USA', 'National', 'International') AS NationalOrInternational\n",
    "FROM \n",
    "    Invoices\n",
    "LIMIT 5;"
   ]
  },
  {
   "cell_type": "markdown",
   "id": "c7a328f8",
   "metadata": {},
   "source": [
    "4. We want to make default usernames for our customers to log in to a new website we've created. These usernames will be the first part of their email address. Return a table with customers Email, and the first part of their email address before the @ symbol (e.g. claudia@explore.ai --> claudia)"
   ]
  },
  {
   "cell_type": "code",
   "execution_count": 221,
   "id": "a2d57a4e",
   "metadata": {},
   "outputs": [
    {
     "name": "stdout",
     "output_type": "stream",
     "text": [
      " * sqlite:///chinook.db\n",
      "Done.\n"
     ]
    },
    {
     "data": {
      "text/html": [
       "<table>\n",
       "    <tr>\n",
       "        <th>Email</th>\n",
       "        <th>UserName</th>\n",
       "    </tr>\n",
       "    <tr>\n",
       "        <td>luisg@embraer.com.br</td>\n",
       "        <td>luisg</td>\n",
       "    </tr>\n",
       "    <tr>\n",
       "        <td>leonekohler@surfeu.de</td>\n",
       "        <td>leonekohler</td>\n",
       "    </tr>\n",
       "    <tr>\n",
       "        <td>ftremblay@gmail.com</td>\n",
       "        <td>ftremblay</td>\n",
       "    </tr>\n",
       "    <tr>\n",
       "        <td>bjorn.hansen@yahoo.no</td>\n",
       "        <td>bjorn.hansen</td>\n",
       "    </tr>\n",
       "    <tr>\n",
       "        <td>frantisekw@jetbrains.com</td>\n",
       "        <td>frantisekw</td>\n",
       "    </tr>\n",
       "</table>"
      ],
      "text/plain": [
       "[('luisg@embraer.com.br', 'luisg'),\n",
       " ('leonekohler@surfeu.de', 'leonekohler'),\n",
       " ('ftremblay@gmail.com', 'ftremblay'),\n",
       " ('bjorn.hansen@yahoo.no', 'bjorn.hansen'),\n",
       " ('frantisekw@jetbrains.com', 'frantisekw')]"
      ]
     },
     "execution_count": 221,
     "metadata": {},
     "output_type": "execute_result"
    }
   ],
   "source": [
    "%%sql\n",
    "SELECT\n",
    "    Email,\n",
    "    SUBSTR(Email,1,INSTR(Email, '@')-1) AS UserName\n",
    "FROM \n",
    "    Customers\n",
    "LIMIT 5"
   ]
  },
  {
   "cell_type": "markdown",
   "id": "51e15b27",
   "metadata": {},
   "source": [
    "BONUS: Can you extract just the email domain from the email addresses as a new column? (e.g. claudia@explore.ai --> explore.ai)"
   ]
  },
  {
   "cell_type": "code",
   "execution_count": 224,
   "id": "a2095773",
   "metadata": {},
   "outputs": [
    {
     "name": "stdout",
     "output_type": "stream",
     "text": [
      " * sqlite:///chinook.db\n",
      "Done.\n"
     ]
    },
    {
     "data": {
      "text/html": [
       "<table>\n",
       "    <tr>\n",
       "        <th>Email</th>\n",
       "        <th>EmailDomain</th>\n",
       "    </tr>\n",
       "    <tr>\n",
       "        <td>luisg@embraer.com.br</td>\n",
       "        <td>embraer.com.br</td>\n",
       "    </tr>\n",
       "    <tr>\n",
       "        <td>leonekohler@surfeu.de</td>\n",
       "        <td>surfeu.de</td>\n",
       "    </tr>\n",
       "    <tr>\n",
       "        <td>ftremblay@gmail.com</td>\n",
       "        <td>gmail.com</td>\n",
       "    </tr>\n",
       "    <tr>\n",
       "        <td>bjorn.hansen@yahoo.no</td>\n",
       "        <td>yahoo.no</td>\n",
       "    </tr>\n",
       "    <tr>\n",
       "        <td>frantisekw@jetbrains.com</td>\n",
       "        <td>jetbrains.com</td>\n",
       "    </tr>\n",
       "</table>"
      ],
      "text/plain": [
       "[('luisg@embraer.com.br', 'embraer.com.br'),\n",
       " ('leonekohler@surfeu.de', 'surfeu.de'),\n",
       " ('ftremblay@gmail.com', 'gmail.com'),\n",
       " ('bjorn.hansen@yahoo.no', 'yahoo.no'),\n",
       " ('frantisekw@jetbrains.com', 'jetbrains.com')]"
      ]
     },
     "execution_count": 224,
     "metadata": {},
     "output_type": "execute_result"
    }
   ],
   "source": [
    "%%sql\n",
    "SELECT\n",
    "    Email,\n",
    "    SUBSTR(Email,INSTR(Email, '@')+1, length(Email)) AS EmailDomain\n",
    "FROM \n",
    "    Customers\n",
    "LIMIT 5;"
   ]
  },
  {
   "cell_type": "code",
   "execution_count": null,
   "id": "8c6f36f4",
   "metadata": {},
   "outputs": [],
   "source": []
  }
 ],
 "metadata": {
  "kernelspec": {
   "display_name": "Python 3 (ipykernel)",
   "language": "python",
   "name": "python3"
  },
  "language_info": {
   "codemirror_mode": {
    "name": "ipython",
    "version": 3
   },
   "file_extension": ".py",
   "mimetype": "text/x-python",
   "name": "python",
   "nbconvert_exporter": "python",
   "pygments_lexer": "ipython3",
   "version": "3.9.7"
  }
 },
 "nbformat": 4,
 "nbformat_minor": 5
}
