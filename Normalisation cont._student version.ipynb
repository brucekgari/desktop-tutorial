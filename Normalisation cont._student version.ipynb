{
 "cells": [
  {
   "cell_type": "markdown",
   "id": "05fb4250",
   "metadata": {},
   "source": [
    "# Normalisation continued & Predict overview\n",
    "\n",
    "In this webinar:\n",
    "- Database table creation\n",
    "    - Creating, dropping, and populating tables\n",
    "- Modifying and updating tables\n",
    "    - Deleting, updating and altering tables\n",
    "- Practical normalisation (a simple example!)\n",
    "- Predict overview + Q&A"
   ]
  },
  {
   "cell_type": "markdown",
   "id": "d4ef4e4e",
   "metadata": {},
   "source": [
    "## Database table creation\n",
    "\n",
    "We may start with a completely unnormalised table, but we need to create new tables to place all our data into. The way we work through normalisation, is by **creating** each of our tables (essentially setting up the structure), followed by **inserting** the relevant data into it.\n",
    "\n",
    "\n",
    "### CREATE TABLE\n",
    "\n",
    "We start of with the \"CREATE TABLE\" phrase. With this, we are able to set up our table's structure and data types that SQLite should expect. We can also tell SQLite which columns are to be considered our primary or foreign keys!\n",
    "\n",
    "```sql\n",
    "\n",
    "CREATE TABLE \"table_name\" (\n",
    "    \"column_1\" column_datatype,\n",
    "    \"column_2\" column_datatype,\n",
    "    \"column_3\" column_datatype,\n",
    "    PRIMARY KEY (\"column_1\")\n",
    "    FOREIGN KEY(\"column_3\") REFERENCES \"other_table\" (\"foreign_column_name\")\n",
    ");\n",
    "```\n",
    "\n",
    "*NB: some other flavours of SQL define primary and foreign keys in a slightly different way, so be aware of this if you're ever looking up anything about setting PK/FKs.*\n",
    "\n",
    "### DROP TABLE\n",
    "\n",
    "Maybe we made a mistake in our table, and we need to get rid of it so we can recreate it again. This is done with a simple DROP TABLE statement:\n",
    "\n",
    "```sql\n",
    "DROP TABLE table_name\n",
    "```\n",
    "\n",
    "Be careful with this, if you accidentally drop a table you don't have the code to recreate, it will affect your .db file and you may need to re-download your data.\n",
    "\n",
    "The DROP TABLE statement is very useful when creating tables. If you make a mistake when creating a table, you need to drop the table before recreating it, so having this statement written above your CREATE TABLE query can make creating a table a bit easier (we'll see this in a bit). You'll sometimes see this phrase written as DROP TABLE IF EXISTS - this avoids SQL throwing an error if the table happens to not exist yet.\n",
    "\n",
    "\n",
    "### INSERT INTO\n",
    "\n",
    "Once we finally have our table created and the structure set up ready to be populated, we need to get to putting the data into our tables. We do that using the INSERT INTO phrase:\n",
    "\n",
    "```sql\n",
    "INSERT INTO table_name (column_1, column_2, column_3)\n",
    "SELECT DISTINCT \n",
    "    old_column_1, \n",
    "    old_column_2, \n",
    "    old_column_3\n",
    "FROM previous_table\n",
    "```\n",
    "\n",
    "It's important to note that when you're populating tables, have the columns in the correct order - the columns that follow the INSERT INTO statement should be in the same order as those in the SELECT statement. Even if the column names are different, SQL is pairing the first column with the first column, second with the second, etc.\n",
    "    "
   ]
  },
  {
   "cell_type": "markdown",
   "id": "80f2c7d0",
   "metadata": {},
   "source": [
    "---"
   ]
  },
  {
   "cell_type": "markdown",
   "id": "bce9171b",
   "metadata": {},
   "source": [
    "## Modifying and updating tables\n",
    "\n",
    "### DELETE FROM\n",
    "\n",
    "If we need to delete records from our table, we can use the DELETE FROM statement. We can either delete everything, or we can delete records based on a condition. This will work on entire records (rows) rather than individual cell values.\n",
    "\n",
    "```sql\n",
    "DELETE FROM table_name;\n",
    "\n",
    "DELETE FROM table_name\n",
    "WHERE condition;\n",
    "```\n",
    "\n",
    "### UPDATE \n",
    "\n",
    "The UPDATE statement can be used to edit values in particular columns where needed. This can either be done to an entire column, or based on a condition can be applied to particular values.\n",
    "\n",
    "```sql\n",
    "UPDATE table_name\n",
    "    SET column_1 = value_1,\n",
    "        column_2 = value 2, ...\n",
    ";\n",
    "\n",
    "UPDATE table_name\n",
    "    SET column_1 = value_1\n",
    "    WHERE condition;\n",
    "```\n",
    "\n",
    "\n",
    "### ALTER \n",
    "\n",
    "The ALTER statement can be used to make a few different changes to a table or columns.\n",
    "\n",
    "```sql\n",
    "ALTER table_name\n",
    "RENAME TO new_name;\n",
    "\n",
    "ALTER table_name\n",
    "ADD new_column column_definition;\n",
    "\n",
    "ALTER table_name\n",
    "DROP column_name;\n",
    "```\n",
    "\n",
    "\n",
    "### Other data modifications\n",
    "\n",
    "Think back to some of the methods we've learnt previously that we can apply to tables! (Think back to the String Manipulation and Data Transformations trains...)\n",
    "- CASE IF\n",
    "- IFF\n",
    "- COALESCE\n",
    "- CAST\n",
    "- etc..."
   ]
  },
  {
   "cell_type": "markdown",
   "id": "93f1472d",
   "metadata": {},
   "source": [
    "---"
   ]
  },
  {
   "cell_type": "markdown",
   "id": "495530ad",
   "metadata": {},
   "source": [
    "## Practical Normalisation"
   ]
  },
  {
   "cell_type": "markdown",
   "id": "8e2e4e39",
   "metadata": {},
   "source": [
    "Let's try working through a smaller, simpler table taking it from unnormalised through to 3NF. Let's first load the sql extension and our database:"
   ]
  },
  {
   "cell_type": "code",
   "execution_count": 1,
   "id": "4bf2be5a",
   "metadata": {},
   "outputs": [],
   "source": [
    "# Load extension and database\n",
    "%load_ext sql"
   ]
  },
  {
   "cell_type": "code",
   "execution_count": 2,
   "id": "c149e66a",
   "metadata": {},
   "outputs": [],
   "source": [
    "%%sql\n",
    "\n",
    "sqlite:///employees_db.db"
   ]
  },
  {
   "cell_type": "markdown",
   "id": "06a5f35b",
   "metadata": {},
   "source": [
    "Run the code below to see what tables we have in our database so far:"
   ]
  },
  {
   "cell_type": "code",
   "execution_count": 3,
   "id": "9e028ad6",
   "metadata": {},
   "outputs": [
    {
     "name": "stdout",
     "output_type": "stream",
     "text": [
      " * sqlite:///employees_db.db\n",
      "Done.\n"
     ]
    },
    {
     "data": {
      "text/html": [
       "<table>\n",
       "    <tr>\n",
       "        <th>name</th>\n",
       "        <th>type</th>\n",
       "    </tr>\n",
       "    <tr>\n",
       "        <td>employees</td>\n",
       "        <td>table</td>\n",
       "    </tr>\n",
       "</table>"
      ],
      "text/plain": [
       "[('employees', 'table')]"
      ]
     },
     "execution_count": 3,
     "metadata": {},
     "output_type": "execute_result"
    }
   ],
   "source": [
    "%%sql\n",
    "\n",
    "SELECT name, type FROM sqlite_master WHERE type IN ('table') AND name NOT LIKE 'sqlite_%' ORDER BY 1"
   ]
  },
  {
   "cell_type": "code",
   "execution_count": 4,
   "id": "4e1bcacc",
   "metadata": {},
   "outputs": [
    {
     "name": "stdout",
     "output_type": "stream",
     "text": [
      " * sqlite:///employees_db.db\n",
      "Done.\n"
     ]
    },
    {
     "data": {
      "text/html": [
       "<table>\n",
       "    <tr>\n",
       "        <th>Employee_ID</th>\n",
       "        <th>Name</th>\n",
       "        <th>Job_Code</th>\n",
       "        <th>Job</th>\n",
       "        <th>Province_Code</th>\n",
       "        <th>Home_Province</th>\n",
       "    </tr>\n",
       "    <tr>\n",
       "        <td>E001</td>\n",
       "        <td>Alice</td>\n",
       "        <td>J01, J02</td>\n",
       "        <td>Chef, Waiter</td>\n",
       "        <td>1</td>\n",
       "        <td>Gauteng</td>\n",
       "    </tr>\n",
       "    <tr>\n",
       "        <td>E002</td>\n",
       "        <td>Bob</td>\n",
       "        <td>J02, J03</td>\n",
       "        <td>Waiter, Bartender</td>\n",
       "        <td>2</td>\n",
       "        <td>Western Cape</td>\n",
       "    </tr>\n",
       "    <tr>\n",
       "        <td>E003</td>\n",
       "        <td>Leona</td>\n",
       "        <td>J01</td>\n",
       "        <td>Chef</td>\n",
       "        <td>2</td>\n",
       "        <td>Western Cape</td>\n",
       "    </tr>\n",
       "    <tr>\n",
       "        <td>E004</td>\n",
       "        <td>John</td>\n",
       "        <td>J04, J03</td>\n",
       "        <td>Manager, Bartender</td>\n",
       "        <td>1</td>\n",
       "        <td>Gauteng</td>\n",
       "    </tr>\n",
       "    <tr>\n",
       "        <td>E005</td>\n",
       "        <td>Siyanda</td>\n",
       "        <td>J05</td>\n",
       "        <td>CEO</td>\n",
       "        <td>4</td>\n",
       "        <td>Limpopo</td>\n",
       "    </tr>\n",
       "    <tr>\n",
       "        <td>E006</td>\n",
       "        <td>Sipho</td>\n",
       "        <td>J02</td>\n",
       "        <td>Waiter</td>\n",
       "        <td>5</td>\n",
       "        <td>Northern Cape</td>\n",
       "    </tr>\n",
       "    <tr>\n",
       "        <td>E007</td>\n",
       "        <td>Alex</td>\n",
       "        <td>J06</td>\n",
       "        <td>Head Chef</td>\n",
       "        <td>5</td>\n",
       "        <td>Northern Cape</td>\n",
       "    </tr>\n",
       "    <tr>\n",
       "        <td>E008</td>\n",
       "        <td>Brad</td>\n",
       "        <td>J04</td>\n",
       "        <td>Manager</td>\n",
       "        <td>3</td>\n",
       "        <td>Eastern Cape</td>\n",
       "    </tr>\n",
       "    <tr>\n",
       "        <td>E009</td>\n",
       "        <td>Saveshnee</td>\n",
       "        <td>J01</td>\n",
       "        <td>Chef</td>\n",
       "        <td>6</td>\n",
       "        <td>KwaZulu Natal</td>\n",
       "    </tr>\n",
       "    <tr>\n",
       "        <td>E010</td>\n",
       "        <td>Adrian</td>\n",
       "        <td>J03</td>\n",
       "        <td>Bartender</td>\n",
       "        <td>7</td>\n",
       "        <td>Mpumalange</td>\n",
       "    </tr>\n",
       "</table>"
      ],
      "text/plain": [
       "[('E001', 'Alice', 'J01, J02', 'Chef, Waiter', 1, 'Gauteng'),\n",
       " ('E002', 'Bob', 'J02, J03', 'Waiter, Bartender', 2, 'Western Cape'),\n",
       " ('E003', 'Leona', 'J01', 'Chef', 2, 'Western Cape'),\n",
       " ('E004', 'John', 'J04, J03', 'Manager, Bartender', 1, 'Gauteng'),\n",
       " ('E005', 'Siyanda', 'J05', 'CEO', 4, 'Limpopo'),\n",
       " ('E006', 'Sipho', 'J02', 'Waiter', 5, 'Northern Cape'),\n",
       " ('E007', 'Alex', 'J06', 'Head Chef', 5, 'Northern Cape'),\n",
       " ('E008', 'Brad', 'J04', 'Manager', 3, 'Eastern Cape'),\n",
       " ('E009', 'Saveshnee', 'J01', 'Chef', 6, 'KwaZulu Natal'),\n",
       " ('E010', 'Adrian', 'J03', 'Bartender', 7, 'Mpumalange')]"
      ]
     },
     "execution_count": 4,
     "metadata": {},
     "output_type": "execute_result"
    }
   ],
   "source": [
    "%%sql\n",
    "\n",
    "SELECT *\n",
    "FROM employees"
   ]
  },
  {
   "cell_type": "markdown",
   "id": "dc283a5f",
   "metadata": {},
   "source": [
    "# 1NF\n",
    "\n",
    "For a table to be in 1NF, it should have no repeating groups"
   ]
  },
  {
   "cell_type": "markdown",
   "id": "76a1551b",
   "metadata": {},
   "source": [
    "![](1NF.png)"
   ]
  },
  {
   "cell_type": "markdown",
   "id": "9394e44a",
   "metadata": {},
   "source": [
    "### Create and populate our table in 1NF\n",
    "We need to modify our data where we have more than one value in a cell. First, we'll create our 1NF table structure and call it employees_1NF:"
   ]
  },
  {
   "cell_type": "code",
   "execution_count": 5,
   "id": "1b33e45e",
   "metadata": {
    "scrolled": true
   },
   "outputs": [
    {
     "name": "stdout",
     "output_type": "stream",
     "text": [
      " * sqlite:///employees_db.db\n",
      "Done.\n"
     ]
    },
    {
     "data": {
      "text/plain": [
       "[]"
      ]
     },
     "execution_count": 5,
     "metadata": {},
     "output_type": "execute_result"
    }
   ],
   "source": [
    "%%sql\n",
    "--Creating our table\n",
    "\n",
    "DROP TABLE IF EXISTS \"employees_1NF\";\n",
    "\n",
    "CREATE TABLE \"employees_1NF\" (\n",
    "    \"Employee_ID\"   VARCHAR(100)  NOT NULL,\n",
    "    \"Name\"  VARCHAR(100)  NOT NULL,\n",
    "    \"Job_Code\"  VARCHAR(100) NOT NULL,\n",
    "    \"Job\" VARCHAR(100) NOT NULL,\n",
    "    \"Province_Code\" NUMERIC(10) NOT NULL,\n",
    "    \"Home_Province\" VARCHAR(100) NOT NULL,\n",
    "    PRIMARY KEY (\"Employee_ID\", \"Job_Code\")\n",
    ");"
   ]
  },
  {
   "cell_type": "code",
   "execution_count": 6,
   "id": "a3e62750",
   "metadata": {},
   "outputs": [
    {
     "name": "stdout",
     "output_type": "stream",
     "text": [
      " * sqlite:///employees_db.db\n",
      "Done.\n",
      "10 rows affected.\n"
     ]
    },
    {
     "data": {
      "text/plain": [
       "[]"
      ]
     },
     "execution_count": 6,
     "metadata": {},
     "output_type": "execute_result"
    }
   ],
   "source": [
    "%%sql\n",
    "--Inserting data from the employees table into our newly created employees_1NF table\n",
    "\n",
    "DELETE FROM employees_1NF; \n",
    "\n",
    "INSERT INTO employees_1NF (Employee_ID, Name, Job_Code, Job, Province_Code, Home_Province)\n",
    "SELECT DISTINCT \n",
    "    Employee_ID,\n",
    "    Name, \n",
    "    Job_Code, \n",
    "    Job, \n",
    "    Province_Code,\n",
    "    Home_Province\n",
    "FROM employees"
   ]
  },
  {
   "cell_type": "markdown",
   "id": "4cfbd9ea",
   "metadata": {},
   "source": [
    "Check that we've successfully inserted our data:"
   ]
  },
  {
   "cell_type": "code",
   "execution_count": 7,
   "id": "9c05d13b",
   "metadata": {},
   "outputs": [
    {
     "name": "stdout",
     "output_type": "stream",
     "text": [
      " * sqlite:///employees_db.db\n",
      "Done.\n"
     ]
    },
    {
     "data": {
      "text/html": [
       "<table>\n",
       "    <tr>\n",
       "        <th>Employee_ID</th>\n",
       "        <th>Name</th>\n",
       "        <th>Job_Code</th>\n",
       "        <th>Job</th>\n",
       "        <th>Province_Code</th>\n",
       "        <th>Home_Province</th>\n",
       "    </tr>\n",
       "    <tr>\n",
       "        <td>E001</td>\n",
       "        <td>Alice</td>\n",
       "        <td>J01, J02</td>\n",
       "        <td>Chef, Waiter</td>\n",
       "        <td>1</td>\n",
       "        <td>Gauteng</td>\n",
       "    </tr>\n",
       "    <tr>\n",
       "        <td>E002</td>\n",
       "        <td>Bob</td>\n",
       "        <td>J02, J03</td>\n",
       "        <td>Waiter, Bartender</td>\n",
       "        <td>2</td>\n",
       "        <td>Western Cape</td>\n",
       "    </tr>\n",
       "    <tr>\n",
       "        <td>E003</td>\n",
       "        <td>Leona</td>\n",
       "        <td>J01</td>\n",
       "        <td>Chef</td>\n",
       "        <td>2</td>\n",
       "        <td>Western Cape</td>\n",
       "    </tr>\n",
       "    <tr>\n",
       "        <td>E004</td>\n",
       "        <td>John</td>\n",
       "        <td>J04, J03</td>\n",
       "        <td>Manager, Bartender</td>\n",
       "        <td>1</td>\n",
       "        <td>Gauteng</td>\n",
       "    </tr>\n",
       "    <tr>\n",
       "        <td>E005</td>\n",
       "        <td>Siyanda</td>\n",
       "        <td>J05</td>\n",
       "        <td>CEO</td>\n",
       "        <td>4</td>\n",
       "        <td>Limpopo</td>\n",
       "    </tr>\n",
       "    <tr>\n",
       "        <td>E006</td>\n",
       "        <td>Sipho</td>\n",
       "        <td>J02</td>\n",
       "        <td>Waiter</td>\n",
       "        <td>5</td>\n",
       "        <td>Northern Cape</td>\n",
       "    </tr>\n",
       "    <tr>\n",
       "        <td>E007</td>\n",
       "        <td>Alex</td>\n",
       "        <td>J06</td>\n",
       "        <td>Head Chef</td>\n",
       "        <td>5</td>\n",
       "        <td>Northern Cape</td>\n",
       "    </tr>\n",
       "    <tr>\n",
       "        <td>E008</td>\n",
       "        <td>Brad</td>\n",
       "        <td>J04</td>\n",
       "        <td>Manager</td>\n",
       "        <td>3</td>\n",
       "        <td>Eastern Cape</td>\n",
       "    </tr>\n",
       "    <tr>\n",
       "        <td>E009</td>\n",
       "        <td>Saveshnee</td>\n",
       "        <td>J01</td>\n",
       "        <td>Chef</td>\n",
       "        <td>6</td>\n",
       "        <td>KwaZulu Natal</td>\n",
       "    </tr>\n",
       "    <tr>\n",
       "        <td>E010</td>\n",
       "        <td>Adrian</td>\n",
       "        <td>J03</td>\n",
       "        <td>Bartender</td>\n",
       "        <td>7</td>\n",
       "        <td>Mpumalange</td>\n",
       "    </tr>\n",
       "</table>"
      ],
      "text/plain": [
       "[('E001', 'Alice', 'J01, J02', 'Chef, Waiter', 1, 'Gauteng'),\n",
       " ('E002', 'Bob', 'J02, J03', 'Waiter, Bartender', 2, 'Western Cape'),\n",
       " ('E003', 'Leona', 'J01', 'Chef', 2, 'Western Cape'),\n",
       " ('E004', 'John', 'J04, J03', 'Manager, Bartender', 1, 'Gauteng'),\n",
       " ('E005', 'Siyanda', 'J05', 'CEO', 4, 'Limpopo'),\n",
       " ('E006', 'Sipho', 'J02', 'Waiter', 5, 'Northern Cape'),\n",
       " ('E007', 'Alex', 'J06', 'Head Chef', 5, 'Northern Cape'),\n",
       " ('E008', 'Brad', 'J04', 'Manager', 3, 'Eastern Cape'),\n",
       " ('E009', 'Saveshnee', 'J01', 'Chef', 6, 'KwaZulu Natal'),\n",
       " ('E010', 'Adrian', 'J03', 'Bartender', 7, 'Mpumalange')]"
      ]
     },
     "execution_count": 7,
     "metadata": {},
     "output_type": "execute_result"
    }
   ],
   "source": [
    "%%sql\n",
    "SELECT *\n",
    "FROM employees_1NF"
   ]
  },
  {
   "cell_type": "markdown",
   "id": "4b94bc3f",
   "metadata": {},
   "source": [
    "We still need to deal with the rows where there are multiple values. Since there aren't too many, we can do this manually:\n",
    "\n",
    "- delete the rows (ensure we have the data recorded somewhere so we know what we want to put back in)\n",
    "- manually imput the rows into our table"
   ]
  },
  {
   "cell_type": "code",
   "execution_count": 8,
   "id": "fd1c8cd5",
   "metadata": {},
   "outputs": [
    {
     "name": "stdout",
     "output_type": "stream",
     "text": [
      " * sqlite:///employees_db.db\n",
      "3 rows affected.\n"
     ]
    },
    {
     "data": {
      "text/plain": [
       "[]"
      ]
     },
     "execution_count": 8,
     "metadata": {},
     "output_type": "execute_result"
    }
   ],
   "source": [
    "%%sql\n",
    "DELETE FROM employees_1NF\n",
    "WHERE Employee_ID = \"E001\" \n",
    "    OR Employee_ID = \"E002\"\n",
    "    OR Employee_ID = \"E004\""
   ]
  },
  {
   "cell_type": "code",
   "execution_count": 9,
   "id": "8557a4bd",
   "metadata": {},
   "outputs": [
    {
     "name": "stdout",
     "output_type": "stream",
     "text": [
      " * sqlite:///employees_db.db\n",
      "Done.\n"
     ]
    },
    {
     "data": {
      "text/html": [
       "<table>\n",
       "    <tr>\n",
       "        <th>Employee_ID</th>\n",
       "        <th>Name</th>\n",
       "        <th>Job_Code</th>\n",
       "        <th>Job</th>\n",
       "        <th>Province_Code</th>\n",
       "        <th>Home_Province</th>\n",
       "    </tr>\n",
       "    <tr>\n",
       "        <td>E003</td>\n",
       "        <td>Leona</td>\n",
       "        <td>J01</td>\n",
       "        <td>Chef</td>\n",
       "        <td>2</td>\n",
       "        <td>Western Cape</td>\n",
       "    </tr>\n",
       "    <tr>\n",
       "        <td>E005</td>\n",
       "        <td>Siyanda</td>\n",
       "        <td>J05</td>\n",
       "        <td>CEO</td>\n",
       "        <td>4</td>\n",
       "        <td>Limpopo</td>\n",
       "    </tr>\n",
       "    <tr>\n",
       "        <td>E006</td>\n",
       "        <td>Sipho</td>\n",
       "        <td>J02</td>\n",
       "        <td>Waiter</td>\n",
       "        <td>5</td>\n",
       "        <td>Northern Cape</td>\n",
       "    </tr>\n",
       "    <tr>\n",
       "        <td>E007</td>\n",
       "        <td>Alex</td>\n",
       "        <td>J06</td>\n",
       "        <td>Head Chef</td>\n",
       "        <td>5</td>\n",
       "        <td>Northern Cape</td>\n",
       "    </tr>\n",
       "    <tr>\n",
       "        <td>E008</td>\n",
       "        <td>Brad</td>\n",
       "        <td>J04</td>\n",
       "        <td>Manager</td>\n",
       "        <td>3</td>\n",
       "        <td>Eastern Cape</td>\n",
       "    </tr>\n",
       "    <tr>\n",
       "        <td>E009</td>\n",
       "        <td>Saveshnee</td>\n",
       "        <td>J01</td>\n",
       "        <td>Chef</td>\n",
       "        <td>6</td>\n",
       "        <td>KwaZulu Natal</td>\n",
       "    </tr>\n",
       "    <tr>\n",
       "        <td>E010</td>\n",
       "        <td>Adrian</td>\n",
       "        <td>J03</td>\n",
       "        <td>Bartender</td>\n",
       "        <td>7</td>\n",
       "        <td>Mpumalange</td>\n",
       "    </tr>\n",
       "</table>"
      ],
      "text/plain": [
       "[('E003', 'Leona', 'J01', 'Chef', 2, 'Western Cape'),\n",
       " ('E005', 'Siyanda', 'J05', 'CEO', 4, 'Limpopo'),\n",
       " ('E006', 'Sipho', 'J02', 'Waiter', 5, 'Northern Cape'),\n",
       " ('E007', 'Alex', 'J06', 'Head Chef', 5, 'Northern Cape'),\n",
       " ('E008', 'Brad', 'J04', 'Manager', 3, 'Eastern Cape'),\n",
       " ('E009', 'Saveshnee', 'J01', 'Chef', 6, 'KwaZulu Natal'),\n",
       " ('E010', 'Adrian', 'J03', 'Bartender', 7, 'Mpumalange')]"
      ]
     },
     "execution_count": 9,
     "metadata": {},
     "output_type": "execute_result"
    }
   ],
   "source": [
    "%%sql\n",
    "SELECT * \n",
    "FROM employees_1NF"
   ]
  },
  {
   "cell_type": "code",
   "execution_count": 10,
   "id": "21e66b40",
   "metadata": {},
   "outputs": [
    {
     "name": "stdout",
     "output_type": "stream",
     "text": [
      " * sqlite:///employees_db.db\n",
      "6 rows affected.\n"
     ]
    },
    {
     "data": {
      "text/plain": [
       "[]"
      ]
     },
     "execution_count": 10,
     "metadata": {},
     "output_type": "execute_result"
    }
   ],
   "source": [
    "%%sql\n",
    "INSERT INTO employees_1NF (Employee_ID,Name,Job_Code,Job,Province_Code,Home_Province)\n",
    "VALUES\n",
    "    (\"E001\",\"Alice\", \"J01\", \"Chef\", 1, \"Gauteng\"),\n",
    "    (\"E001\",\"Alice\", \"J02\", \"Waiter\", 1, \"Gauteng\"),\n",
    "    (\"E002\",\"Bob\", \"J02\", \"Waiter\", 2, \"Western Cape\"),\n",
    "    (\"E002\",\"Bob\", \"J03\", \"Bartender\", 2, \"Western Cape\"),\n",
    "    (\"E004\", \"John\", \"J03\", \"Bartender\", 1,\"Gauteng\"),\n",
    "    (\"E004\", \"John\", \"J04\", \"Manager\", 1,\"Gauteng\")"
   ]
  },
  {
   "cell_type": "code",
   "execution_count": 11,
   "id": "2a11fb79",
   "metadata": {},
   "outputs": [
    {
     "name": "stdout",
     "output_type": "stream",
     "text": [
      " * sqlite:///employees_db.db\n",
      "Done.\n"
     ]
    },
    {
     "data": {
      "text/html": [
       "<table>\n",
       "    <tr>\n",
       "        <th>Employee_ID</th>\n",
       "        <th>Name</th>\n",
       "        <th>Job_Code</th>\n",
       "        <th>Job</th>\n",
       "        <th>Province_Code</th>\n",
       "        <th>Home_Province</th>\n",
       "    </tr>\n",
       "    <tr>\n",
       "        <td>E003</td>\n",
       "        <td>Leona</td>\n",
       "        <td>J01</td>\n",
       "        <td>Chef</td>\n",
       "        <td>2</td>\n",
       "        <td>Western Cape</td>\n",
       "    </tr>\n",
       "    <tr>\n",
       "        <td>E005</td>\n",
       "        <td>Siyanda</td>\n",
       "        <td>J05</td>\n",
       "        <td>CEO</td>\n",
       "        <td>4</td>\n",
       "        <td>Limpopo</td>\n",
       "    </tr>\n",
       "    <tr>\n",
       "        <td>E006</td>\n",
       "        <td>Sipho</td>\n",
       "        <td>J02</td>\n",
       "        <td>Waiter</td>\n",
       "        <td>5</td>\n",
       "        <td>Northern Cape</td>\n",
       "    </tr>\n",
       "    <tr>\n",
       "        <td>E007</td>\n",
       "        <td>Alex</td>\n",
       "        <td>J06</td>\n",
       "        <td>Head Chef</td>\n",
       "        <td>5</td>\n",
       "        <td>Northern Cape</td>\n",
       "    </tr>\n",
       "    <tr>\n",
       "        <td>E008</td>\n",
       "        <td>Brad</td>\n",
       "        <td>J04</td>\n",
       "        <td>Manager</td>\n",
       "        <td>3</td>\n",
       "        <td>Eastern Cape</td>\n",
       "    </tr>\n",
       "    <tr>\n",
       "        <td>E009</td>\n",
       "        <td>Saveshnee</td>\n",
       "        <td>J01</td>\n",
       "        <td>Chef</td>\n",
       "        <td>6</td>\n",
       "        <td>KwaZulu Natal</td>\n",
       "    </tr>\n",
       "    <tr>\n",
       "        <td>E010</td>\n",
       "        <td>Adrian</td>\n",
       "        <td>J03</td>\n",
       "        <td>Bartender</td>\n",
       "        <td>7</td>\n",
       "        <td>Mpumalange</td>\n",
       "    </tr>\n",
       "    <tr>\n",
       "        <td>E001</td>\n",
       "        <td>Alice</td>\n",
       "        <td>J01</td>\n",
       "        <td>Chef</td>\n",
       "        <td>1</td>\n",
       "        <td>Gauteng</td>\n",
       "    </tr>\n",
       "    <tr>\n",
       "        <td>E001</td>\n",
       "        <td>Alice</td>\n",
       "        <td>J02</td>\n",
       "        <td>Waiter</td>\n",
       "        <td>1</td>\n",
       "        <td>Gauteng</td>\n",
       "    </tr>\n",
       "    <tr>\n",
       "        <td>E002</td>\n",
       "        <td>Bob</td>\n",
       "        <td>J02</td>\n",
       "        <td>Waiter</td>\n",
       "        <td>2</td>\n",
       "        <td>Western Cape</td>\n",
       "    </tr>\n",
       "    <tr>\n",
       "        <td>E002</td>\n",
       "        <td>Bob</td>\n",
       "        <td>J03</td>\n",
       "        <td>Bartender</td>\n",
       "        <td>2</td>\n",
       "        <td>Western Cape</td>\n",
       "    </tr>\n",
       "    <tr>\n",
       "        <td>E004</td>\n",
       "        <td>John</td>\n",
       "        <td>J03</td>\n",
       "        <td>Bartender</td>\n",
       "        <td>1</td>\n",
       "        <td>Gauteng</td>\n",
       "    </tr>\n",
       "    <tr>\n",
       "        <td>E004</td>\n",
       "        <td>John</td>\n",
       "        <td>J04</td>\n",
       "        <td>Manager</td>\n",
       "        <td>1</td>\n",
       "        <td>Gauteng</td>\n",
       "    </tr>\n",
       "</table>"
      ],
      "text/plain": [
       "[('E003', 'Leona', 'J01', 'Chef', 2, 'Western Cape'),\n",
       " ('E005', 'Siyanda', 'J05', 'CEO', 4, 'Limpopo'),\n",
       " ('E006', 'Sipho', 'J02', 'Waiter', 5, 'Northern Cape'),\n",
       " ('E007', 'Alex', 'J06', 'Head Chef', 5, 'Northern Cape'),\n",
       " ('E008', 'Brad', 'J04', 'Manager', 3, 'Eastern Cape'),\n",
       " ('E009', 'Saveshnee', 'J01', 'Chef', 6, 'KwaZulu Natal'),\n",
       " ('E010', 'Adrian', 'J03', 'Bartender', 7, 'Mpumalange'),\n",
       " ('E001', 'Alice', 'J01', 'Chef', 1, 'Gauteng'),\n",
       " ('E001', 'Alice', 'J02', 'Waiter', 1, 'Gauteng'),\n",
       " ('E002', 'Bob', 'J02', 'Waiter', 2, 'Western Cape'),\n",
       " ('E002', 'Bob', 'J03', 'Bartender', 2, 'Western Cape'),\n",
       " ('E004', 'John', 'J03', 'Bartender', 1, 'Gauteng'),\n",
       " ('E004', 'John', 'J04', 'Manager', 1, 'Gauteng')]"
      ]
     },
     "execution_count": 11,
     "metadata": {},
     "output_type": "execute_result"
    }
   ],
   "source": [
    "%%sql\n",
    "SELECT *\n",
    "FROM employees_1NF"
   ]
  },
  {
   "cell_type": "code",
   "execution_count": 12,
   "id": "12485504",
   "metadata": {},
   "outputs": [
    {
     "name": "stdout",
     "output_type": "stream",
     "text": [
      " * sqlite:///employees_db.db\n",
      "Done.\n"
     ]
    },
    {
     "data": {
      "text/html": [
       "<table>\n",
       "    <tr>\n",
       "        <th>name</th>\n",
       "        <th>type</th>\n",
       "    </tr>\n",
       "    <tr>\n",
       "        <td>employees</td>\n",
       "        <td>table</td>\n",
       "    </tr>\n",
       "    <tr>\n",
       "        <td>employees_1NF</td>\n",
       "        <td>table</td>\n",
       "    </tr>\n",
       "</table>"
      ],
      "text/plain": [
       "[('employees', 'table'), ('employees_1NF', 'table')]"
      ]
     },
     "execution_count": 12,
     "metadata": {},
     "output_type": "execute_result"
    }
   ],
   "source": [
    "%%sql\n",
    "\n",
    "SELECT name, type FROM sqlite_master WHERE type IN ('table') AND name NOT LIKE 'sqlite_%' ORDER BY 1"
   ]
  },
  {
   "cell_type": "markdown",
   "id": "af7c7ad4",
   "metadata": {},
   "source": [
    "# 2NF\n",
    "\n",
    "- For a table to be in 2NF, it should have no repeating groups, and no partial dependencies"
   ]
  },
  {
   "cell_type": "markdown",
   "id": "96157a8d",
   "metadata": {},
   "source": [
    "![](2NF.png)"
   ]
  },
  {
   "cell_type": "markdown",
   "id": "ea875c99",
   "metadata": {},
   "source": [
    "### Create and populate the employees_2NF table"
   ]
  },
  {
   "cell_type": "code",
   "execution_count": 13,
   "id": "41c6489e",
   "metadata": {},
   "outputs": [
    {
     "name": "stdout",
     "output_type": "stream",
     "text": [
      " * sqlite:///employees_db.db\n",
      "Done.\n",
      "Done.\n"
     ]
    },
    {
     "data": {
      "text/plain": [
       "[]"
      ]
     },
     "execution_count": 13,
     "metadata": {},
     "output_type": "execute_result"
    }
   ],
   "source": [
    "%%sql\n",
    "\n",
    "DROP TABLE IF EXISTS \"employees_2NF\";\n",
    "\n",
    "CREATE TABLE \"employees_2NF\" (\n",
    "    \"Employee_ID\"   VARCHAR(100)  NOT NULL,\n",
    "    \"Name\"  VARCHAR(100)  NOT NULL,\n",
    "    \"Province_Code\" NUMERIC(10) NOT NULL,\n",
    "    \"Home_Province\" VARCHAR(100) NOT NULL,\n",
    "    PRIMARY KEY (\"Employee_ID\")\n",
    ");"
   ]
  },
  {
   "cell_type": "code",
   "execution_count": 14,
   "id": "2f8c5a96",
   "metadata": {},
   "outputs": [
    {
     "name": "stdout",
     "output_type": "stream",
     "text": [
      " * sqlite:///employees_db.db\n",
      "10 rows affected.\n"
     ]
    },
    {
     "data": {
      "text/plain": [
       "[]"
      ]
     },
     "execution_count": 14,
     "metadata": {},
     "output_type": "execute_result"
    }
   ],
   "source": [
    "%%sql\n",
    "INSERT INTO employees_2NF (Employee_ID,Name,Province_Code,Home_Province)\n",
    "SELECT DISTINCT \n",
    "    Employee_ID,\n",
    "    Name,\n",
    "    Province_Code,\n",
    "    Home_Province\n",
    "FROM employees_1NF"
   ]
  },
  {
   "cell_type": "code",
   "execution_count": 15,
   "id": "185066b3",
   "metadata": {},
   "outputs": [
    {
     "name": "stdout",
     "output_type": "stream",
     "text": [
      " * sqlite:///employees_db.db\n",
      "Done.\n"
     ]
    },
    {
     "data": {
      "text/html": [
       "<table>\n",
       "    <tr>\n",
       "        <th>Employee_ID</th>\n",
       "        <th>Name</th>\n",
       "        <th>Province_Code</th>\n",
       "        <th>Home_Province</th>\n",
       "    </tr>\n",
       "    <tr>\n",
       "        <td>E001</td>\n",
       "        <td>Alice</td>\n",
       "        <td>1</td>\n",
       "        <td>Gauteng</td>\n",
       "    </tr>\n",
       "    <tr>\n",
       "        <td>E002</td>\n",
       "        <td>Bob</td>\n",
       "        <td>2</td>\n",
       "        <td>Western Cape</td>\n",
       "    </tr>\n",
       "    <tr>\n",
       "        <td>E003</td>\n",
       "        <td>Leona</td>\n",
       "        <td>2</td>\n",
       "        <td>Western Cape</td>\n",
       "    </tr>\n",
       "    <tr>\n",
       "        <td>E004</td>\n",
       "        <td>John</td>\n",
       "        <td>1</td>\n",
       "        <td>Gauteng</td>\n",
       "    </tr>\n",
       "    <tr>\n",
       "        <td>E005</td>\n",
       "        <td>Siyanda</td>\n",
       "        <td>4</td>\n",
       "        <td>Limpopo</td>\n",
       "    </tr>\n",
       "    <tr>\n",
       "        <td>E006</td>\n",
       "        <td>Sipho</td>\n",
       "        <td>5</td>\n",
       "        <td>Northern Cape</td>\n",
       "    </tr>\n",
       "    <tr>\n",
       "        <td>E007</td>\n",
       "        <td>Alex</td>\n",
       "        <td>5</td>\n",
       "        <td>Northern Cape</td>\n",
       "    </tr>\n",
       "    <tr>\n",
       "        <td>E008</td>\n",
       "        <td>Brad</td>\n",
       "        <td>3</td>\n",
       "        <td>Eastern Cape</td>\n",
       "    </tr>\n",
       "    <tr>\n",
       "        <td>E009</td>\n",
       "        <td>Saveshnee</td>\n",
       "        <td>6</td>\n",
       "        <td>KwaZulu Natal</td>\n",
       "    </tr>\n",
       "    <tr>\n",
       "        <td>E010</td>\n",
       "        <td>Adrian</td>\n",
       "        <td>7</td>\n",
       "        <td>Mpumalange</td>\n",
       "    </tr>\n",
       "</table>"
      ],
      "text/plain": [
       "[('E001', 'Alice', 1, 'Gauteng'),\n",
       " ('E002', 'Bob', 2, 'Western Cape'),\n",
       " ('E003', 'Leona', 2, 'Western Cape'),\n",
       " ('E004', 'John', 1, 'Gauteng'),\n",
       " ('E005', 'Siyanda', 4, 'Limpopo'),\n",
       " ('E006', 'Sipho', 5, 'Northern Cape'),\n",
       " ('E007', 'Alex', 5, 'Northern Cape'),\n",
       " ('E008', 'Brad', 3, 'Eastern Cape'),\n",
       " ('E009', 'Saveshnee', 6, 'KwaZulu Natal'),\n",
       " ('E010', 'Adrian', 7, 'Mpumalange')]"
      ]
     },
     "execution_count": 15,
     "metadata": {},
     "output_type": "execute_result"
    }
   ],
   "source": [
    "%%sql\n",
    "SELECT *\n",
    "FROM employees_2NF"
   ]
  },
  {
   "cell_type": "markdown",
   "id": "d253aa3e",
   "metadata": {},
   "source": [
    "### Create and populate the jobs_2NF table"
   ]
  },
  {
   "cell_type": "code",
   "execution_count": 16,
   "id": "9008f354",
   "metadata": {},
   "outputs": [
    {
     "name": "stdout",
     "output_type": "stream",
     "text": [
      " * sqlite:///employees_db.db\n",
      "Done.\n",
      "Done.\n"
     ]
    },
    {
     "data": {
      "text/plain": [
       "[]"
      ]
     },
     "execution_count": 16,
     "metadata": {},
     "output_type": "execute_result"
    }
   ],
   "source": [
    "%%sql\n",
    "\n",
    "DROP TABLE IF EXISTS \"jobs_2NF\";\n",
    "\n",
    "CREATE TABLE \"jobs_2NF\" (\n",
    "    \"Job_Code\"  VARCHAR(100),\n",
    "    \"Job\" VARCHAR(100),\n",
    "    PRIMARY KEY (\"Job_Code\")\n",
    ");"
   ]
  },
  {
   "cell_type": "code",
   "execution_count": 17,
   "id": "0e4ca132",
   "metadata": {},
   "outputs": [
    {
     "name": "stdout",
     "output_type": "stream",
     "text": [
      " * sqlite:///employees_db.db\n",
      "6 rows affected.\n"
     ]
    },
    {
     "data": {
      "text/plain": [
       "[]"
      ]
     },
     "execution_count": 17,
     "metadata": {},
     "output_type": "execute_result"
    }
   ],
   "source": [
    "%%sql\n",
    "INSERT INTO jobs_2NF (Job_Code,Job)\n",
    "SELECT DISTINCT \n",
    "    Job_Code,\n",
    "    Job\n",
    "FROM employees_1NF"
   ]
  },
  {
   "cell_type": "code",
   "execution_count": 18,
   "id": "ba044493",
   "metadata": {},
   "outputs": [
    {
     "name": "stdout",
     "output_type": "stream",
     "text": [
      " * sqlite:///employees_db.db\n",
      "Done.\n"
     ]
    },
    {
     "data": {
      "text/html": [
       "<table>\n",
       "    <tr>\n",
       "        <th>Job_Code</th>\n",
       "        <th>Job</th>\n",
       "    </tr>\n",
       "    <tr>\n",
       "        <td>J01</td>\n",
       "        <td>Chef</td>\n",
       "    </tr>\n",
       "    <tr>\n",
       "        <td>J05</td>\n",
       "        <td>CEO</td>\n",
       "    </tr>\n",
       "    <tr>\n",
       "        <td>J02</td>\n",
       "        <td>Waiter</td>\n",
       "    </tr>\n",
       "    <tr>\n",
       "        <td>J06</td>\n",
       "        <td>Head Chef</td>\n",
       "    </tr>\n",
       "    <tr>\n",
       "        <td>J04</td>\n",
       "        <td>Manager</td>\n",
       "    </tr>\n",
       "    <tr>\n",
       "        <td>J03</td>\n",
       "        <td>Bartender</td>\n",
       "    </tr>\n",
       "</table>"
      ],
      "text/plain": [
       "[('J01', 'Chef'),\n",
       " ('J05', 'CEO'),\n",
       " ('J02', 'Waiter'),\n",
       " ('J06', 'Head Chef'),\n",
       " ('J04', 'Manager'),\n",
       " ('J03', 'Bartender')]"
      ]
     },
     "execution_count": 18,
     "metadata": {},
     "output_type": "execute_result"
    }
   ],
   "source": [
    "%%sql\n",
    "SELECT *\n",
    "FROM jobs_2NF"
   ]
  },
  {
   "cell_type": "markdown",
   "id": "fa440c56",
   "metadata": {},
   "source": [
    "### Create and populate the employee_roles_2NF table"
   ]
  },
  {
   "cell_type": "code",
   "execution_count": 19,
   "id": "3043af21",
   "metadata": {},
   "outputs": [
    {
     "name": "stdout",
     "output_type": "stream",
     "text": [
      " * sqlite:///employees_db.db\n",
      "Done.\n",
      "Done.\n"
     ]
    },
    {
     "data": {
      "text/plain": [
       "[]"
      ]
     },
     "execution_count": 19,
     "metadata": {},
     "output_type": "execute_result"
    }
   ],
   "source": [
    "%%sql\n",
    "\n",
    "DROP TABLE IF EXISTS \"employee_roles_2NF\";\n",
    "\n",
    "CREATE TABLE \"employee_roles_2NF\" (\n",
    "    \"Employee_ID\"  VARCHAR(100),\n",
    "    \"Job_Code\" VARCHAR(100),\n",
    "    FOREIGN KEY(\"Employee_ID\") REFERENCES \"employees_2NF\" (\"Employee_ID\")\n",
    "    FOREIGN KEY(\"Job_Code\") REFERENCES \"jobs_2NF\" (\"Job_Code\")\n",
    ");"
   ]
  },
  {
   "cell_type": "code",
   "execution_count": 20,
   "id": "3ad91345",
   "metadata": {},
   "outputs": [
    {
     "name": "stdout",
     "output_type": "stream",
     "text": [
      " * sqlite:///employees_db.db\n",
      "13 rows affected.\n"
     ]
    },
    {
     "data": {
      "text/plain": [
       "[]"
      ]
     },
     "execution_count": 20,
     "metadata": {},
     "output_type": "execute_result"
    }
   ],
   "source": [
    "%%sql\n",
    "INSERT INTO employee_roles_2NF (Employee_ID,Job_Code)\n",
    "SELECT DISTINCT \n",
    "    Employee_ID,\n",
    "    Job_Code\n",
    "FROM employees_1NF"
   ]
  },
  {
   "cell_type": "code",
   "execution_count": 21,
   "id": "b96f6d95",
   "metadata": {},
   "outputs": [
    {
     "name": "stdout",
     "output_type": "stream",
     "text": [
      " * sqlite:///employees_db.db\n",
      "Done.\n"
     ]
    },
    {
     "data": {
      "text/html": [
       "<table>\n",
       "    <tr>\n",
       "        <th>Employee_ID</th>\n",
       "        <th>Job_Code</th>\n",
       "    </tr>\n",
       "    <tr>\n",
       "        <td>E001</td>\n",
       "        <td>J01</td>\n",
       "    </tr>\n",
       "    <tr>\n",
       "        <td>E001</td>\n",
       "        <td>J02</td>\n",
       "    </tr>\n",
       "    <tr>\n",
       "        <td>E002</td>\n",
       "        <td>J02</td>\n",
       "    </tr>\n",
       "    <tr>\n",
       "        <td>E002</td>\n",
       "        <td>J03</td>\n",
       "    </tr>\n",
       "    <tr>\n",
       "        <td>E003</td>\n",
       "        <td>J01</td>\n",
       "    </tr>\n",
       "    <tr>\n",
       "        <td>E004</td>\n",
       "        <td>J03</td>\n",
       "    </tr>\n",
       "    <tr>\n",
       "        <td>E004</td>\n",
       "        <td>J04</td>\n",
       "    </tr>\n",
       "    <tr>\n",
       "        <td>E005</td>\n",
       "        <td>J05</td>\n",
       "    </tr>\n",
       "    <tr>\n",
       "        <td>E006</td>\n",
       "        <td>J02</td>\n",
       "    </tr>\n",
       "    <tr>\n",
       "        <td>E007</td>\n",
       "        <td>J06</td>\n",
       "    </tr>\n",
       "    <tr>\n",
       "        <td>E008</td>\n",
       "        <td>J04</td>\n",
       "    </tr>\n",
       "    <tr>\n",
       "        <td>E009</td>\n",
       "        <td>J01</td>\n",
       "    </tr>\n",
       "    <tr>\n",
       "        <td>E010</td>\n",
       "        <td>J03</td>\n",
       "    </tr>\n",
       "</table>"
      ],
      "text/plain": [
       "[('E001', 'J01'),\n",
       " ('E001', 'J02'),\n",
       " ('E002', 'J02'),\n",
       " ('E002', 'J03'),\n",
       " ('E003', 'J01'),\n",
       " ('E004', 'J03'),\n",
       " ('E004', 'J04'),\n",
       " ('E005', 'J05'),\n",
       " ('E006', 'J02'),\n",
       " ('E007', 'J06'),\n",
       " ('E008', 'J04'),\n",
       " ('E009', 'J01'),\n",
       " ('E010', 'J03')]"
      ]
     },
     "execution_count": 21,
     "metadata": {},
     "output_type": "execute_result"
    }
   ],
   "source": [
    "%%sql\n",
    "SELECT *\n",
    "FROM employee_roles_2NF"
   ]
  },
  {
   "cell_type": "code",
   "execution_count": 22,
   "id": "26ed8126",
   "metadata": {},
   "outputs": [
    {
     "name": "stdout",
     "output_type": "stream",
     "text": [
      " * sqlite:///employees_db.db\n",
      "Done.\n"
     ]
    },
    {
     "data": {
      "text/html": [
       "<table>\n",
       "    <tr>\n",
       "        <th>name</th>\n",
       "        <th>type</th>\n",
       "    </tr>\n",
       "    <tr>\n",
       "        <td>employees</td>\n",
       "        <td>table</td>\n",
       "    </tr>\n",
       "    <tr>\n",
       "        <td>employees_1NF</td>\n",
       "        <td>table</td>\n",
       "    </tr>\n",
       "    <tr>\n",
       "        <td>employees_2NF</td>\n",
       "        <td>table</td>\n",
       "    </tr>\n",
       "    <tr>\n",
       "        <td>jobs_2NF</td>\n",
       "        <td>table</td>\n",
       "    </tr>\n",
       "    <tr>\n",
       "        <td>employee_roles_2NF</td>\n",
       "        <td>table</td>\n",
       "    </tr>\n",
       "</table>"
      ],
      "text/plain": [
       "[('employees', 'table'),\n",
       " ('employees_1NF', 'table'),\n",
       " ('employees_2NF', 'table'),\n",
       " ('jobs_2NF', 'table'),\n",
       " ('employee_roles_2NF', 'table')]"
      ]
     },
     "execution_count": 22,
     "metadata": {},
     "output_type": "execute_result"
    }
   ],
   "source": [
    "%%sql\n",
    "\n",
    "SELECT name, type FROM sqlite_master WHERE type IN ('table','view') AND name NOT LIKE 'sqlite_%' ORDER BY 2"
   ]
  },
  {
   "cell_type": "markdown",
   "id": "087367a0",
   "metadata": {},
   "source": [
    "# 3NF\n",
    "\n",
    "For a table to be in 3NF, it needs to already be in 2NF, and should have no transitive dependencies.\n",
    "\n",
    "Try the following yourself! Have a look at the steps taken getting into the previous NFs and follow the process of creating the table, then populating."
   ]
  },
  {
   "cell_type": "markdown",
   "id": "68e768a2",
   "metadata": {},
   "source": [
    "![](3NF.png)"
   ]
  },
  {
   "cell_type": "markdown",
   "id": "f66c09e6",
   "metadata": {},
   "source": [
    "### Create and populate the province_info_3NF table"
   ]
  },
  {
   "cell_type": "code",
   "execution_count": null,
   "id": "e91fb080",
   "metadata": {},
   "outputs": [],
   "source": [
    "%%sql\n",
    "\n",
    "DROP TABLE IF EXISTS \"province_info_3NF\";\n",
    "\n",
    "CREATE TABLE \"province_info_3NF\" (\n",
    "    ...,\n",
    "    ..., \n",
    "    PRIMARY KEY (...)\n",
    ");"
   ]
  },
  {
   "cell_type": "code",
   "execution_count": null,
   "id": "0f086b1b",
   "metadata": {},
   "outputs": [],
   "source": [
    "%%sql\n",
    "INSERT INTO ... (...)\n",
    "SELECT DISTINCT \n",
    "    ...,\n",
    "    ...\n",
    "FROM ..."
   ]
  },
  {
   "cell_type": "code",
   "execution_count": null,
   "id": "60d7ccf5",
   "metadata": {},
   "outputs": [],
   "source": [
    "%%sql\n",
    "SELECT *\n",
    "FROM province_info_3NF"
   ]
  },
  {
   "cell_type": "markdown",
   "id": "507cc6d4",
   "metadata": {},
   "source": [
    "### Create and populate the employees_3NF table"
   ]
  },
  {
   "cell_type": "code",
   "execution_count": null,
   "id": "fd3558de",
   "metadata": {},
   "outputs": [],
   "source": [
    "%%sql\n",
    "\n",
    "DROP ...;\n",
    "\n",
    "CREATE TABLE \"employees_3NF\" (\n",
    "    ...,\n",
    "    ...,\n",
    "    ....\n",
    "    PRIMARY KEY ...\n",
    "    FOREIGN KEY ...\n",
    ");"
   ]
  },
  {
   "cell_type": "code",
   "execution_count": null,
   "id": "3e123e39",
   "metadata": {},
   "outputs": [],
   "source": [
    "%%sql\n",
    "INSERT INTO ...\n",
    "SELECT DISTINCT \n",
    "    ...\n",
    "FROM ..."
   ]
  },
  {
   "cell_type": "code",
   "execution_count": null,
   "id": "66767fd1",
   "metadata": {},
   "outputs": [],
   "source": [
    "%%sql\n",
    "SELECT *\n",
    "FROM employees_3NF"
   ]
  },
  {
   "cell_type": "markdown",
   "id": "556343d0",
   "metadata": {},
   "source": [
    "### What about the jobs and employee_roles tables?\n",
    "\n",
    "These two tables we created in 2NF are already in 3NF. However, we can create new tables so that they align with our 3NF naming. *Alternatively, we could also just rename those two tables to align with the naming!*"
   ]
  },
  {
   "cell_type": "markdown",
   "id": "2613f2ae",
   "metadata": {},
   "source": [
    "### Create and populate the jobs_3NF and employee_roles_3NF tables"
   ]
  },
  {
   "cell_type": "code",
   "execution_count": null,
   "id": "2491ca66",
   "metadata": {},
   "outputs": [],
   "source": [
    "%%sql\n",
    "DROP ...;\n",
    "DROP ...;\n",
    "\n",
    "CREATE TABLE ...;\n",
    "\n",
    "CREATE TABLE ...;"
   ]
  },
  {
   "cell_type": "code",
   "execution_count": null,
   "id": "b98747b4",
   "metadata": {},
   "outputs": [],
   "source": [
    "%%sql\n",
    "\n",
    "DELETE FROM ...;\n",
    "DELETE FROM ...;\n",
    "\n",
    "INSERT INTO ...\n",
    "SELECT DISTINCT \n",
    "    ...\n",
    "FROM ...;\n",
    "\n",
    "INSERT INTO ...\n",
    "SELECT DISTINCT \n",
    "    ...\n",
    "FROM ...;"
   ]
  },
  {
   "cell_type": "code",
   "execution_count": null,
   "id": "c861977a",
   "metadata": {},
   "outputs": [],
   "source": [
    "%%sql\n",
    "\n",
    "SELECT * \n",
    "FROM jobs_3NF"
   ]
  },
  {
   "cell_type": "code",
   "execution_count": null,
   "id": "be03f11f",
   "metadata": {},
   "outputs": [],
   "source": [
    "%%sql\n",
    "\n",
    "SELECT * \n",
    "FROM employee_roles_3NF"
   ]
  },
  {
   "cell_type": "markdown",
   "id": "630bcec0",
   "metadata": {},
   "source": [
    "## Now that everything is in 3NF..."
   ]
  },
  {
   "cell_type": "markdown",
   "id": "47d8420b",
   "metadata": {},
   "source": [
    "Now let's finally view all of the tables we have. We should have all the necessary tables we need, and we could even go ahead to drop those we no longer need, to ensure all the data we have is in 3NF."
   ]
  },
  {
   "cell_type": "code",
   "execution_count": null,
   "id": "c80f9514",
   "metadata": {},
   "outputs": [],
   "source": [
    "%%sql\n",
    "\n",
    "SELECT name, type FROM sqlite_master WHERE type IN ('table','view') AND name NOT LIKE 'sqlite_%' ORDER BY 1"
   ]
  },
  {
   "cell_type": "markdown",
   "id": "f911ac29",
   "metadata": {},
   "source": [
    "## Exercises\n",
    "\n",
    "1. Our one intern Alex has completed their internship with us, and has moved onto new adventures. How would we drop their record from the table?\n",
    "\n",
    "2. Our restaurant/bar/cafe has had a sudden influx of coffee-lovers over the past few months! The CEO has decided that Bartenders are to train as Baristas as well, and wants to update their title to 'Bartender/Barista' (don't worry, their salary is being updated too...) How would we update this to reflect in our database?\n",
    "\n",
    "3. The CEO has also decided that we should start storing employee's phone numbers and emails in our database as well. Where would you store this, and how would you add it to the database?\n",
    "\n",
    "4. The restaurant is planning to start keeping record of all sales within this database from now on. Create a new 'Sales' table, that has the columns Employee_ID, Date, Time, Item_Count, and Total_Price. We only need to create the structure for now in preparation for the incoming data.\n",
    "\n",
    "5. We belatedly realise that *Mpumalanga* is misspelt in our database! How would you change this to the correct spelling?"
   ]
  },
  {
   "cell_type": "markdown",
   "id": "afcdc618",
   "metadata": {},
   "source": [
    "# Onto the Predict..."
   ]
  },
  {
   "cell_type": "code",
   "execution_count": null,
   "id": "0c41ab76",
   "metadata": {},
   "outputs": [],
   "source": []
  }
 ],
 "metadata": {
  "kernelspec": {
   "display_name": "Python 3 (ipykernel)",
   "language": "python",
   "name": "python3"
  },
  "language_info": {
   "codemirror_mode": {
    "name": "ipython",
    "version": 3
   },
   "file_extension": ".py",
   "mimetype": "text/x-python",
   "name": "python",
   "nbconvert_exporter": "python",
   "pygments_lexer": "ipython3",
   "version": "3.9.7"
  }
 },
 "nbformat": 4,
 "nbformat_minor": 5
}
