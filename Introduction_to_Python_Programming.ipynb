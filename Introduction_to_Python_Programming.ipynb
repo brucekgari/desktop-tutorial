{
 "cells": [
  {
   "cell_type": "markdown",
   "metadata": {
    "id": "qEpYkOFyMK0a"
   },
   "source": [
    "#___Introduction to Python Programming___\n",
    "\n",
    "### The focus of this Notebook will look at the buiiding blocks of Python code. We will also focus on some of the rules and logical structures that one needs in order to become a *Legendary Coding Warrior*"
   ]
  },
  {
   "cell_type": "markdown",
   "metadata": {
    "id": "Ox4QgeUdNjKH"
   },
   "source": [
    "## What to expect in the following discussion:\n",
    "1. ### _Primitive Data Structures_\n",
    "  * **Strings**\n",
    "  * **Integers vs Floats**\n",
    "  * **Booleans**\n",
    "  * **Variables**\n",
    "  * **Arithmetic Operators**\n",
    "\n",
    "2. ### _NonPrimitive/Collections - Data Structures_\n",
    "  * __Lists__\n",
    "  * __Tuples__\n",
    "  * __Dictionaries__\n",
    "  * __Sets__\n",
    "\n",
    "3. ### References"
   ]
  },
  {
   "cell_type": "markdown",
   "metadata": {
    "id": "lsUvj6wCb9QE"
   },
   "source": [
    "## 1. Primitive Data Structures"
   ]
  },
  {
   "cell_type": "markdown",
   "metadata": {
    "id": "SDsYpBhXd8U6"
   },
   "source": [
    "## Strings"
   ]
  },
  {
   "cell_type": "code",
   "execution_count": null,
   "metadata": {
    "cellView": "form",
    "collapsed": true,
    "id": "j4KiMGGMifG5"
   },
   "outputs": [],
   "source": [
    "#@title\n",
    "![gif](https://media.giphy.com/media/3oD3YveOJWdwIAfZ5e/giphy.gif)"
   ]
  },
  {
   "cell_type": "markdown",
   "metadata": {
    "id": "evgzb-ZUoN4a"
   },
   "source": [
    "![gif](https://media1.giphy.com/media/l0ExwzsCSv0apIjlK/giphy.gif?cid=ecf05e47lfnxrl998kontx7swgdwjlg1ka502jzniucrfl4w&ep=v1_gifs_search&rid=giphy.gif&ct=g)"
   ]
  },
  {
   "cell_type": "markdown",
   "metadata": {
    "id": "32AkNHjreVJO"
   },
   "source": [
    "### Strings are immutable characters that are represented in \"*quotation marks*\""
   ]
  },
  {
   "cell_type": "code",
   "execution_count": null,
   "metadata": {
    "colab": {
     "base_uri": "https://localhost:8080/"
    },
    "id": "zMiHFbrDABsC",
    "outputId": "d3eae68f-ee70-47c6-8e50-91630d1ffe4d"
   },
   "outputs": [
    {
     "name": "stdout",
     "output_type": "stream",
     "text": [
      "Hello Explorers!\n"
     ]
    }
   ],
   "source": [
    "# A print statement\n",
    "print(\"Hello Explorers!\")"
   ]
  },
  {
   "cell_type": "markdown",
   "metadata": {
    "id": "sfXpT5p3CDgz"
   },
   "source": [
    "## Veriables\n",
    "\n",
    "Assigning meaning to a statement/word/set of symbols"
   ]
  },
  {
   "cell_type": "code",
   "execution_count": null,
   "metadata": {
    "colab": {
     "base_uri": "https://localhost:8080/"
    },
    "id": "WWd82UGkqabV",
    "outputId": "ac9118d3-6a3d-4062-f326-6d7ee212bb8c"
   },
   "outputs": [
    {
     "name": "stdout",
     "output_type": "stream",
     "text": [
      "Hi! I am a string\n"
     ]
    },
    {
     "data": {
      "text/plain": [
       "str"
      ]
     },
     "execution_count": 3,
     "metadata": {},
     "output_type": "execute_result"
    }
   ],
   "source": [
    "# How to Identify a string\n",
    "This_is_a_string = 'Hi! I am a string'\n",
    "\n",
    "\n",
    "# Lets first print the string!\n",
    "print(This_is_a_string)\n",
    "\n",
    "# I need proof this is a string!\n",
    "type(This_is_a_string)"
   ]
  },
  {
   "cell_type": "code",
   "execution_count": null,
   "metadata": {
    "colab": {
     "base_uri": "https://localhost:8080/"
    },
    "id": "B-63Cx1HsJyJ",
    "outputId": "81c5403b-be80-4af8-d9c1-ab0bb5cff751"
   },
   "outputs": [
    {
     "name": "stdout",
     "output_type": "stream",
     "text": [
      "<class 'str'>\n",
      "\n",
      "            Roses are red\n",
      "            Violets are blue \n",
      "            It is always great to learn something new!\n",
      "        \n"
     ]
    }
   ],
   "source": [
    "bad_poem = \"\"\"\n",
    "            Roses are red\n",
    "            Violets are blue\n",
    "            It is always great to learn something new!\n",
    "        \"\"\"\n",
    "print(type(bad_poem))\n",
    "print(bad_poem)"
   ]
  },
  {
   "cell_type": "code",
   "execution_count": null,
   "metadata": {
    "colab": {
     "base_uri": "https://localhost:8080/"
    },
    "id": "5byrWEI9XDW8",
    "outputId": "2a3f82bd-a779-4178-e468-99b6488eb765"
   },
   "outputs": [
    {
     "name": "stdout",
     "output_type": "stream",
     "text": [
      "This is a string \n",
      " that takes two lines\n"
     ]
    }
   ],
   "source": [
    "double_line_string = \"This is a string \\n that takes two lines\" # we will talk about variables later\n",
    "print(double_line_string)"
   ]
  },
  {
   "cell_type": "code",
   "execution_count": null,
   "metadata": {
    "colab": {
     "base_uri": "https://localhost:8080/",
     "height": 35
    },
    "id": "woSekasSXjLr",
    "outputId": "6cde4814-584a-4328-c0bc-ab1a3cea26a6"
   },
   "outputs": [
    {
     "data": {
      "application/vnd.google.colaboratory.intrinsic+json": {
       "type": "string"
      },
      "text/plain": [
       "\"It's quite interesting\""
      ]
     },
     "execution_count": 6,
     "metadata": {},
     "output_type": "execute_result"
    }
   ],
   "source": [
    "# Backslash also used for escaping characters\n",
    "str_2 = 'It\\'s quite interesting'\n",
    "str_2"
   ]
  },
  {
   "cell_type": "markdown",
   "metadata": {
    "id": "2wfMFJMlubhd"
   },
   "source": [
    "## _Common mistakes made with_ **strings**."
   ]
  },
  {
   "cell_type": "markdown",
   "metadata": {
    "id": "vtNMi6VztR_L"
   },
   "source": [
    "![gif](https://64.media.tumblr.com/tumblr_lt6urxnE8s1r4ghkoo1_250.gifv)"
   ]
  },
  {
   "cell_type": "code",
   "execution_count": null,
   "metadata": {
    "colab": {
     "base_uri": "https://localhost:8080/",
     "height": 133
    },
    "id": "ckf1_tKouYyU",
    "outputId": "2271ea29-8740-40ad-9ec2-8fa72b256fff"
   },
   "outputs": [
    {
     "ename": "SyntaxError",
     "evalue": "ignored",
     "output_type": "error",
     "traceback": [
      "\u001b[0;36m  File \u001b[0;32m\"<ipython-input-7-a5fff1180d1e>\"\u001b[0;36m, line \u001b[0;32m2\u001b[0m\n\u001b[0;31m    four_qm = \"\"\"\"Four quotation marks are a NO NO\"\"\"\"\u001b[0m\n\u001b[0m                                                     ^\u001b[0m\n\u001b[0;31mSyntaxError\u001b[0m\u001b[0;31m:\u001b[0m unterminated string literal (detected at line 2)\n"
     ]
    }
   ],
   "source": [
    "# Four quotation marks\n",
    "four_qm = \"\"\"\"Four quotation marks are a NO NO\"\"\"\""
   ]
  },
  {
   "cell_type": "code",
   "execution_count": null,
   "metadata": {
    "colab": {
     "base_uri": "https://localhost:8080/",
     "height": 133
    },
    "id": "86ucxZmVuu4h",
    "outputId": "9c0aa545-b4f3-4852-f6f6-d0fb3b2e0402"
   },
   "outputs": [
    {
     "ename": "SyntaxError",
     "evalue": "ignored",
     "output_type": "error",
     "traceback": [
      "\u001b[0;36m  File \u001b[0;32m\"<ipython-input-8-3c68b385f45f>\"\u001b[0;36m, line \u001b[0;32m2\u001b[0m\n\u001b[0;31m    Weird_quotation_style = \"please check your qoutation marks'\u001b[0m\n\u001b[0m                            ^\u001b[0m\n\u001b[0;31mSyntaxError\u001b[0m\u001b[0;31m:\u001b[0m unterminated string literal (detected at line 2)\n"
     ]
    }
   ],
   "source": [
    "# Closing your quotation marks with a different version to the first\n",
    "Weird_quotation_style = \"please check your qoutation marks'"
   ]
  },
  {
   "cell_type": "markdown",
   "metadata": {
    "id": "Vyg3CdoJHLEI"
   },
   "source": [
    "### Index selection of strings"
   ]
  },
  {
   "cell_type": "markdown",
   "metadata": {
    "id": "2FC4l2pjCYMA"
   },
   "source": [
    "![picture](https://i.ytimg.com/vi/KAXvMbD1Zac/maxresdefault.jpg)"
   ]
  },
  {
   "cell_type": "code",
   "execution_count": null,
   "metadata": {
    "id": "pSV9P4_lvMID"
   },
   "outputs": [],
   "source": [
    "s = \"All this talk about slicing is making me hungry\""
   ]
  },
  {
   "cell_type": "code",
   "execution_count": null,
   "metadata": {
    "colab": {
     "base_uri": "https://localhost:8080/",
     "height": 35
    },
    "id": "OtfXNBiTHlGZ",
    "outputId": "5d1538b4-2208-4101-8f53-a6cc598d3d8f"
   },
   "outputs": [
    {
     "data": {
      "application/vnd.google.colaboratory.intrinsic+json": {
       "type": "string"
      },
      "text/plain": [
       "'A'"
      ]
     },
     "execution_count": 10,
     "metadata": {},
     "output_type": "execute_result"
    }
   ],
   "source": [
    "# Indexing starts at 0 and ends at the 'nth' index and -1 , yes...no I am serious...you'll see\n",
    "s[0]"
   ]
  },
  {
   "cell_type": "code",
   "execution_count": null,
   "metadata": {
    "colab": {
     "base_uri": "https://localhost:8080/",
     "height": 35
    },
    "id": "tvIQ29mbH7wN",
    "outputId": "1d34f90b-40a4-4097-8498-280d7c7c9daf"
   },
   "outputs": [
    {
     "data": {
      "application/vnd.google.colaboratory.intrinsic+json": {
       "type": "string"
      },
      "text/plain": [
       "'y'"
      ]
     },
     "execution_count": 11,
     "metadata": {},
     "output_type": "execute_result"
    }
   ],
   "source": [
    "s[-1]"
   ]
  },
  {
   "cell_type": "code",
   "execution_count": null,
   "metadata": {
    "colab": {
     "base_uri": "https://localhost:8080/",
     "height": 35
    },
    "id": "nSncL-vHIDQE",
    "outputId": "a5782e9e-4483-4bd1-adab-cc9f2c722c76"
   },
   "outputs": [
    {
     "data": {
      "application/vnd.google.colaboratory.intrinsic+json": {
       "type": "string"
      },
      "text/plain": [
       "'All'"
      ]
     },
     "execution_count": 12,
     "metadata": {},
     "output_type": "execute_result"
    }
   ],
   "source": [
    "s[0:3]"
   ]
  },
  {
   "cell_type": "code",
   "execution_count": null,
   "metadata": {
    "colab": {
     "base_uri": "https://localhost:8080/",
     "height": 35
    },
    "id": "vUUm60igII8k",
    "outputId": "2750926e-aa57-46a7-8280-39fae76610c6"
   },
   "outputs": [
    {
     "data": {
      "application/vnd.google.colaboratory.intrinsic+json": {
       "type": "string"
      },
      "text/plain": [
       "'Alti akaotsiigi aigm ug'"
      ]
     },
     "execution_count": 13,
     "metadata": {},
     "output_type": "execute_result"
    }
   ],
   "source": [
    "s[0:-1:2]"
   ]
  },
  {
   "cell_type": "code",
   "execution_count": null,
   "metadata": {
    "colab": {
     "base_uri": "https://localhost:8080/"
    },
    "id": "j3OCpKmPI8wt",
    "outputId": "3645769c-f80e-45fd-a1b8-b9faafd54dd9"
   },
   "outputs": [
    {
     "name": "stdout",
     "output_type": "stream",
     "text": [
      "['__add__', '__class__', '__contains__', '__delattr__', '__dir__', '__doc__', '__eq__', '__format__', '__ge__', '__getattribute__', '__getitem__', '__getnewargs__', '__gt__', '__hash__', '__init__', '__init_subclass__', '__iter__', '__le__', '__len__', '__lt__', '__mod__', '__mul__', '__ne__', '__new__', '__reduce__', '__reduce_ex__', '__repr__', '__rmod__', '__rmul__', '__setattr__', '__sizeof__', '__str__', '__subclasshook__', 'capitalize', 'casefold', 'center', 'count', 'encode', 'endswith', 'expandtabs', 'find', 'format', 'format_map', 'index', 'isalnum', 'isalpha', 'isascii', 'isdecimal', 'isdigit', 'isidentifier', 'islower', 'isnumeric', 'isprintable', 'isspace', 'istitle', 'isupper', 'join', 'ljust', 'lower', 'lstrip', 'maketrans', 'partition', 'removeprefix', 'removesuffix', 'replace', 'rfind', 'rindex', 'rjust', 'rpartition', 'rsplit', 'rstrip', 'split', 'splitlines', 'startswith', 'strip', 'swapcase', 'title', 'translate', 'upper', 'zfill']\n"
     ]
    }
   ],
   "source": [
    "print(dir(s))"
   ]
  },
  {
   "cell_type": "markdown",
   "metadata": {
    "id": "5n54fmtJIwJG"
   },
   "source": [
    "## Methods\n",
    "\n",
    "\n",
    "### __Split vs Join__"
   ]
  },
  {
   "cell_type": "markdown",
   "metadata": {
    "id": "IMqv0xAiKnH0"
   },
   "source": [
    "![gif](https://media4.giphy.com/media/xUGWFP50IQ2xq/giphy.gif?cid=ecf05e4791ak0xjov1v13z22u4657q7ry0ebboh69g561r7m&ep=v1_gifs_search&rid=giphy.gif&ct=g)"
   ]
  },
  {
   "cell_type": "code",
   "execution_count": null,
   "metadata": {
    "colab": {
     "base_uri": "https://localhost:8080/"
    },
    "id": "lZH5OE0sIf3Z",
    "outputId": "53c29a72-6cc6-4470-e64c-efe3a9387652"
   },
   "outputs": [
    {
     "data": {
      "text/plain": [
       "['python', 'is', 'very', 'cool,', 'I', 'swear']"
      ]
     },
     "execution_count": 15,
     "metadata": {},
     "output_type": "execute_result"
    }
   ],
   "source": [
    "string_splt = \"python is very cool, I swear\"\n",
    "string_splt.split(\" \")"
   ]
  },
  {
   "cell_type": "code",
   "execution_count": null,
   "metadata": {
    "colab": {
     "base_uri": "https://localhost:8080/",
     "height": 35
    },
    "id": "y1klX3whK4Zu",
    "outputId": "eb7630c6-bf33-449f-f405-b213d169ac58"
   },
   "outputs": [
    {
     "data": {
      "application/vnd.google.colaboratory.intrinsic+json": {
       "type": "string"
      },
      "text/plain": [
       "'Join '"
      ]
     },
     "execution_count": 16,
     "metadata": {},
     "output_type": "execute_result"
    }
   ],
   "source": [
    "join_1 = \"J \"\n",
    "\n",
    "\"oin\".join(join_1)"
   ]
  },
  {
   "cell_type": "code",
   "execution_count": null,
   "metadata": {
    "colab": {
     "base_uri": "https://localhost:8080/",
     "height": 35
    },
    "id": "AhO0l6kvLuMp",
    "outputId": "05bfd58b-dc90-45a2-b012-6ad80f45c30e"
   },
   "outputs": [
    {
     "data": {
      "application/vnd.google.colaboratory.intrinsic+json": {
       "type": "string"
      },
      "text/plain": [
       "'lowercase'"
      ]
     },
     "execution_count": 17,
     "metadata": {},
     "output_type": "execute_result"
    }
   ],
   "source": [
    "case_1 = \"LOWERCASE\"\n",
    "\n",
    "case_1.lower()\n"
   ]
  },
  {
   "cell_type": "code",
   "execution_count": null,
   "metadata": {
    "colab": {
     "base_uri": "https://localhost:8080/",
     "height": 35
    },
    "id": "pi9PMWt3Mu1z",
    "outputId": "70a2a9b7-6948-4955-a365-65ba8faafec3"
   },
   "outputs": [
    {
     "data": {
      "application/vnd.google.colaboratory.intrinsic+json": {
       "type": "string"
      },
      "text/plain": [
       "'UPPERCASE'"
      ]
     },
     "execution_count": 18,
     "metadata": {},
     "output_type": "execute_result"
    }
   ],
   "source": [
    "case_2 = \"uppercase\"\n",
    "\n",
    "case_2.upper()"
   ]
  },
  {
   "cell_type": "code",
   "execution_count": null,
   "metadata": {
    "colab": {
     "base_uri": "https://localhost:8080/"
    },
    "id": "rZjDMst0NEIV",
    "outputId": "30e94807-ee10-4ace-d254-1113cdfc77bd"
   },
   "outputs": [
    {
     "name": "stdout",
     "output_type": "stream",
     "text": [
      "LOWERCASE\n",
      "uppercase\n"
     ]
    }
   ],
   "source": [
    "# Remember strings are immutable (unchanging)\n",
    "print(case_1)\n",
    "print(case_2)"
   ]
  },
  {
   "cell_type": "markdown",
   "metadata": {
    "id": "avSzMmTmNX2U"
   },
   "source": [
    "## Integers\n",
    "\n",
    "Fancy word for *whole numbers*"
   ]
  },
  {
   "cell_type": "code",
   "execution_count": null,
   "metadata": {
    "id": "zEHUfaSLNVOP"
   },
   "outputs": [],
   "source": [
    "#Difference between a string and integer\n",
    "n = 1\n",
    "n2 = 10000000000\n",
    "n3 = \"2\""
   ]
  },
  {
   "cell_type": "code",
   "execution_count": null,
   "metadata": {
    "colab": {
     "base_uri": "https://localhost:8080/"
    },
    "id": "ZxiaE2fBNwlc",
    "outputId": "07ca6f6c-0f70-4c3f-ae11-68cafde5d465"
   },
   "outputs": [
    {
     "data": {
      "text/plain": [
       "int"
      ]
     },
     "execution_count": 21,
     "metadata": {},
     "output_type": "execute_result"
    }
   ],
   "source": [
    "type(n)"
   ]
  },
  {
   "cell_type": "code",
   "execution_count": null,
   "metadata": {
    "colab": {
     "base_uri": "https://localhost:8080/"
    },
    "id": "tbd4gjtLNymE",
    "outputId": "42d95a33-a1e6-4918-a51f-2d616ef75f28"
   },
   "outputs": [
    {
     "data": {
      "text/plain": [
       "int"
      ]
     },
     "execution_count": 22,
     "metadata": {},
     "output_type": "execute_result"
    }
   ],
   "source": [
    "type(n2)"
   ]
  },
  {
   "cell_type": "code",
   "execution_count": null,
   "metadata": {
    "colab": {
     "base_uri": "https://localhost:8080/"
    },
    "id": "VqyhR2-gN0PA",
    "outputId": "d7903e09-d4f2-4ed7-b651-e95048af5133"
   },
   "outputs": [
    {
     "data": {
      "text/plain": [
       "str"
      ]
     },
     "execution_count": 23,
     "metadata": {},
     "output_type": "execute_result"
    }
   ],
   "source": [
    "type(n3)"
   ]
  },
  {
   "cell_type": "markdown",
   "metadata": {
    "id": "8emqHeKzOOQW"
   },
   "source": [
    "## Floats\n",
    "\n",
    "numbers with *decimal points*!"
   ]
  },
  {
   "cell_type": "markdown",
   "metadata": {
    "id": "7_SEAqBNOQoc"
   },
   "source": [
    "![gif](https://media3.giphy.com/media/MtyEGzYJ2BZxS/giphy.gif?cid=ecf05e47qpgpu1qi2x4umcdesnw9si1ut2lksnrye9tg01nh&ep=v1_gifs_search&rid=giphy.gif&ct=g)"
   ]
  },
  {
   "cell_type": "code",
   "execution_count": null,
   "metadata": {
    "id": "1he19iSYN1aZ"
   },
   "outputs": [],
   "source": [
    "f = 5.0"
   ]
  },
  {
   "cell_type": "code",
   "execution_count": null,
   "metadata": {
    "colab": {
     "base_uri": "https://localhost:8080/"
    },
    "id": "71SAmKSCQHQP",
    "outputId": "b0a158e9-4086-4d10-bd7f-987d4fb18717"
   },
   "outputs": [
    {
     "data": {
      "text/plain": [
       "float"
      ]
     },
     "execution_count": 25,
     "metadata": {},
     "output_type": "execute_result"
    }
   ],
   "source": [
    "type(f)"
   ]
  },
  {
   "cell_type": "code",
   "execution_count": null,
   "metadata": {
    "id": "Jd_hg7_5QK2v"
   },
   "outputs": [],
   "source": [
    "g = 1"
   ]
  },
  {
   "cell_type": "code",
   "execution_count": null,
   "metadata": {
    "colab": {
     "base_uri": "https://localhost:8080/"
    },
    "id": "BtYx6Il-QLbw",
    "outputId": "8f02af5e-3ca1-4a39-fec4-7430d0f28a3a"
   },
   "outputs": [
    {
     "data": {
      "text/plain": [
       "int"
      ]
     },
     "execution_count": 27,
     "metadata": {},
     "output_type": "execute_result"
    }
   ],
   "source": [
    "type(g)"
   ]
  },
  {
   "cell_type": "code",
   "execution_count": null,
   "metadata": {
    "colab": {
     "base_uri": "https://localhost:8080/"
    },
    "id": "TaNw4BevQM_R",
    "outputId": "cf1089ba-1a51-4e5e-968e-55cef5b678b8"
   },
   "outputs": [
    {
     "data": {
      "text/plain": [
       "6.0"
      ]
     },
     "execution_count": 28,
     "metadata": {},
     "output_type": "execute_result"
    }
   ],
   "source": [
    "f + g #type escalation"
   ]
  },
  {
   "cell_type": "markdown",
   "metadata": {
    "id": "1JstOIyEQVvN"
   },
   "source": [
    "## Booleans"
   ]
  },
  {
   "cell_type": "markdown",
   "metadata": {
    "id": "UHQnx6UoQaRU"
   },
   "source": [
    "![gif](https://media2.giphy.com/media/98maV70oAqIZtEYqB4/giphy.gif?cid=ecf05e47lm7u62h52nx7nhuxmvcnqg515pr5fw3oe3gvevn0&ep=v1_gifs_search&rid=giphy.gif&ct=g)\n"
   ]
  },
  {
   "cell_type": "code",
   "execution_count": null,
   "metadata": {
    "colab": {
     "base_uri": "https://localhost:8080/"
    },
    "id": "REX58jI-QVcO",
    "outputId": "c0c3b68e-19a5-4628-a120-21ee52ea3b2d"
   },
   "outputs": [
    {
     "data": {
      "text/plain": [
       "True"
      ]
     },
     "execution_count": 29,
     "metadata": {},
     "output_type": "execute_result"
    }
   ],
   "source": [
    "True"
   ]
  },
  {
   "cell_type": "code",
   "execution_count": null,
   "metadata": {
    "colab": {
     "base_uri": "https://localhost:8080/"
    },
    "id": "85uRWKpHQPxn",
    "outputId": "6216b154-55c0-47e8-d817-42efdfea7776"
   },
   "outputs": [
    {
     "data": {
      "text/plain": [
       "False"
      ]
     },
     "execution_count": 30,
     "metadata": {},
     "output_type": "execute_result"
    }
   ],
   "source": [
    "False"
   ]
  },
  {
   "cell_type": "code",
   "execution_count": null,
   "metadata": {
    "colab": {
     "base_uri": "https://localhost:8080/"
    },
    "id": "xyS5a6JORZOd",
    "outputId": "06c3f7cf-cbb8-4253-cfc9-8e9010dd2fa7"
   },
   "outputs": [
    {
     "data": {
      "text/plain": [
       "bool"
      ]
     },
     "execution_count": 31,
     "metadata": {},
     "output_type": "execute_result"
    }
   ],
   "source": [
    "type(False)"
   ]
  },
  {
   "cell_type": "code",
   "execution_count": null,
   "metadata": {
    "colab": {
     "base_uri": "https://localhost:8080/"
    },
    "id": "TlFkehGNRbkw",
    "outputId": "7b7097d9-cac3-44f4-c097-1f2699842d60"
   },
   "outputs": [
    {
     "data": {
      "text/plain": [
       "str"
      ]
     },
     "execution_count": 32,
     "metadata": {},
     "output_type": "execute_result"
    }
   ],
   "source": [
    "type(\"False\")"
   ]
  },
  {
   "cell_type": "code",
   "execution_count": null,
   "metadata": {
    "colab": {
     "base_uri": "https://localhost:8080/",
     "height": 169
    },
    "id": "M1YDvicRRdZq",
    "outputId": "e7898b17-fb5a-43d0-9926-64791361ff47"
   },
   "outputs": [
    {
     "ename": "NameError",
     "evalue": "ignored",
     "output_type": "error",
     "traceback": [
      "\u001b[0;31m---------------------------------------------------------------------------\u001b[0m",
      "\u001b[0;31mNameError\u001b[0m                                 Traceback (most recent call last)",
      "\u001b[0;32m<ipython-input-33-1f9fe172acff>\u001b[0m in \u001b[0;36m<cell line: 1>\u001b[0;34m()\u001b[0m\n\u001b[0;32m----> 1\u001b[0;31m \u001b[0mtrue\u001b[0m \u001b[0;31m#True of False\u001b[0m\u001b[0;34m\u001b[0m\u001b[0;34m\u001b[0m\u001b[0m\n\u001b[0m",
      "\u001b[0;31mNameError\u001b[0m: name 'true' is not defined"
     ]
    }
   ],
   "source": [
    "true #True of False"
   ]
  },
  {
   "cell_type": "markdown",
   "metadata": {
    "id": "F393ZFESRpji"
   },
   "source": [
    "## Veriables\n",
    "\n",
    "Assigning meaning to a statement/word/set of symbols"
   ]
  },
  {
   "cell_type": "markdown",
   "metadata": {
    "id": "_AhGRsH7SWps"
   },
   "source": [
    "![gif](https://media4.giphy.com/media/kndwhWyNM1efYl6VZ1/giphy.gif?cid=ecf05e47z6vdt4unm0oaav4u5axb245pbw3d5s5bpr3d92n4&ep=v1_gifs_search&rid=giphy.gif&ct=g)\n",
    "\n",
    "\n"
   ]
  },
  {
   "cell_type": "code",
   "execution_count": null,
   "metadata": {
    "id": "18nTqDT9RjT6"
   },
   "outputs": [],
   "source": [
    "# Snakes and Camels\n",
    "snake_variable = \"small_letter_snake_case\"\n",
    "CamelVariable = \"CamelWithACapital\""
   ]
  },
  {
   "cell_type": "code",
   "execution_count": null,
   "metadata": {
    "colab": {
     "base_uri": "https://localhost:8080/",
     "height": 133
    },
    "id": "gQNefXCVWAA_",
    "outputId": "19bcfbc2-4a17-4da6-cada-8961b97bc4d5"
   },
   "outputs": [
    {
     "ename": "SyntaxError",
     "evalue": "ignored",
     "output_type": "error",
     "traceback": [
      "\u001b[0;36m  File \u001b[0;32m\"<ipython-input-35-a457ced747be>\"\u001b[0;36m, line \u001b[0;32m1\u001b[0m\n\u001b[0;31m    43_var = \"Hi there!\" # not allowed. start name with alphabet\u001b[0m\n\u001b[0m      ^\u001b[0m\n\u001b[0;31mSyntaxError\u001b[0m\u001b[0;31m:\u001b[0m invalid decimal literal\n"
     ]
    }
   ],
   "source": [
    "43_var = \"Hi there!\" # not allowed. start name with alphabet"
   ]
  },
  {
   "cell_type": "code",
   "execution_count": null,
   "metadata": {
    "id": "UCTQu92SWMMQ"
   },
   "outputs": [],
   "source": [
    "var_43 = \"Hi again ;)\""
   ]
  },
  {
   "cell_type": "markdown",
   "metadata": {
    "id": "d4qlOYHPWaZi"
   },
   "source": [
    "## List of Reserved Keywords (try not to name your variables these)\n",
    "\n",
    "![reserved_keywords.jpg](https://pythonclass.in/images/python-reserved-words-list.jpg)"
   ]
  },
  {
   "cell_type": "markdown",
   "metadata": {
    "id": "peqblvo0Wrv7"
   },
   "source": [
    "## Comments in Code"
   ]
  },
  {
   "cell_type": "code",
   "execution_count": null,
   "metadata": {
    "colab": {
     "base_uri": "https://localhost:8080/",
     "height": 133
    },
    "id": "AX1uQ6dMWzqX",
    "outputId": "a47245a4-a6bc-4f1a-ba6a-4f00cac04627"
   },
   "outputs": [
    {
     "ename": "SyntaxError",
     "evalue": "ignored",
     "output_type": "error",
     "traceback": [
      "\u001b[0;36m  File \u001b[0;32m\"<ipython-input-37-6b41584686bc>\"\u001b[0;36m, line \u001b[0;32m1\u001b[0m\n\u001b[0;31m    a = #2 this is a mistake\u001b[0m\n\u001b[0m        ^\u001b[0m\n\u001b[0;31mSyntaxError\u001b[0m\u001b[0;31m:\u001b[0m invalid syntax\n"
     ]
    }
   ],
   "source": [
    "a = #2 this is a mistake"
   ]
  },
  {
   "cell_type": "code",
   "execution_count": null,
   "metadata": {
    "id": "gsYH9wZkWWnQ"
   },
   "outputs": [],
   "source": [
    "a = 2 # this is a comment\n"
   ]
  },
  {
   "cell_type": "markdown",
   "metadata": {
    "id": "fVbr-WneXsvW"
   },
   "source": [
    "## Operators\n",
    "Used to execute some operation between two or three things"
   ]
  },
  {
   "cell_type": "markdown",
   "metadata": {
    "id": "VDygEJn_XuO7"
   },
   "source": [
    "1. **C**omparison\n",
    "1. **A**rithmetic\n",
    "1. **L**ogical\n",
    "1. **A**ssignment\n",
    "1. **B**itwise*\n",
    "1. **I**dentity\n",
    "1. **M**embership\n",
    "\n",
    "### __CALABIM__"
   ]
  },
  {
   "cell_type": "markdown",
   "metadata": {
    "id": "W6qeTa5YX2tJ"
   },
   "source": [
    "### Comparison Operators\n",
    "\n",
    "1. == checks equality\n",
    "1. != not equal to\n",
    "1. <> not equal to\n",
    "1. '>' greater than\n",
    "1. '<' less than\n",
    "1. '>=' greater or equal to\n",
    "1. '<=' less or equal to\n"
   ]
  },
  {
   "cell_type": "code",
   "execution_count": null,
   "metadata": {
    "colab": {
     "base_uri": "https://localhost:8080/"
    },
    "id": "zPZPS45jW0S-",
    "outputId": "60d7b3eb-7679-4f92-cd38-cb24a7164c53"
   },
   "outputs": [
    {
     "data": {
      "text/plain": [
       "(True, False, False, False, True, True, True)"
      ]
     },
     "execution_count": 39,
     "metadata": {},
     "output_type": "execute_result"
    }
   ],
   "source": [
    "2 > 1, 2 < 1, 2 > 2, 2 < 2, 2 >= 2, 2 <= 2, [1,2] == [1,2]"
   ]
  },
  {
   "cell_type": "markdown",
   "metadata": {
    "id": "NWnirYyrYNgv"
   },
   "source": [
    "## Arithmetic"
   ]
  },
  {
   "cell_type": "markdown",
   "metadata": {
    "id": "BSipMAZaYRCT"
   },
   "source": [
    "![gif](https://media3.giphy.com/media/APqEbxBsVlkWSuFpth/giphy.webp?cid=ecf05e47xckbf2hi6gzizrj5f1tq3o51k1dljk363ogtvcnv&ep=v1_gifs_search&rid=giphy.webp&ct=g)"
   ]
  },
  {
   "cell_type": "code",
   "execution_count": null,
   "metadata": {
    "colab": {
     "base_uri": "https://localhost:8080/"
    },
    "id": "9K5hjGlTbdaA",
    "outputId": "c426f16a-70ad-481b-d3c3-394008615e94"
   },
   "outputs": [
    {
     "data": {
      "text/plain": [
       "1.5"
      ]
     },
     "execution_count": 40,
     "metadata": {},
     "output_type": "execute_result"
    }
   ],
   "source": [
    "# Division\n",
    "3 / 2"
   ]
  },
  {
   "cell_type": "code",
   "execution_count": null,
   "metadata": {
    "colab": {
     "base_uri": "https://localhost:8080/"
    },
    "id": "RC5v4vaPW-sW",
    "outputId": "2205c042-48c4-4f7e-ac07-b4a1343a62b0"
   },
   "outputs": [
    {
     "data": {
      "text/plain": [
       "1"
      ]
     },
     "execution_count": 41,
     "metadata": {},
     "output_type": "execute_result"
    }
   ],
   "source": [
    "# floor division. Returns whole number\n",
    "3 // 2"
   ]
  },
  {
   "cell_type": "code",
   "execution_count": null,
   "metadata": {
    "colab": {
     "base_uri": "https://localhost:8080/"
    },
    "id": "HzZJr4scYuLN",
    "outputId": "f5c82a89-db3a-4e7e-9a69-345326be3835"
   },
   "outputs": [
    {
     "data": {
      "text/plain": [
       "1"
      ]
     },
     "execution_count": 42,
     "metadata": {},
     "output_type": "execute_result"
    }
   ],
   "source": [
    "# modulus. Returns the remainder. Helpful when looking for odd or even numbers\n",
    "5 % 2"
   ]
  },
  {
   "cell_type": "code",
   "execution_count": null,
   "metadata": {
    "colab": {
     "base_uri": "https://localhost:8080/"
    },
    "id": "zb0iL70vY1Io",
    "outputId": "4c3488fc-1a87-4666-ccbd-0a4a75b9d170"
   },
   "outputs": [
    {
     "data": {
      "text/plain": [
       "0"
      ]
     },
     "execution_count": 43,
     "metadata": {},
     "output_type": "execute_result"
    }
   ],
   "source": [
    "# modulus. Returns the remainder. Helpful when looking for odd or even numbers\n",
    "4 % 2"
   ]
  },
  {
   "cell_type": "code",
   "execution_count": null,
   "metadata": {
    "colab": {
     "base_uri": "https://localhost:8080/"
    },
    "id": "F-PVHvU6Y3dx",
    "outputId": "15e28a4c-41e3-4762-e04a-33e1ef84e06a"
   },
   "outputs": [
    {
     "data": {
      "text/plain": [
       "8"
      ]
     },
     "execution_count": 44,
     "metadata": {},
     "output_type": "execute_result"
    }
   ],
   "source": [
    "# power operator\n",
    "2 ** 3"
   ]
  },
  {
   "cell_type": "code",
   "execution_count": null,
   "metadata": {
    "colab": {
     "base_uri": "https://localhost:8080/"
    },
    "id": "4f0KA_aGW5hI",
    "outputId": "96a6a410-e984-43d7-ac8c-5419acf4babb"
   },
   "outputs": [
    {
     "data": {
      "text/plain": [
       "6"
      ]
     },
     "execution_count": 45,
     "metadata": {},
     "output_type": "execute_result"
    }
   ],
   "source": [
    "2*3"
   ]
  },
  {
   "cell_type": "code",
   "execution_count": null,
   "metadata": {
    "colab": {
     "base_uri": "https://localhost:8080/"
    },
    "id": "Rpa9fWeGY6fN",
    "outputId": "486c023e-d24d-418e-a579-2ef216710808"
   },
   "outputs": [
    {
     "data": {
      "text/plain": [
       "4.0"
      ]
     },
     "execution_count": 46,
     "metadata": {},
     "output_type": "execute_result"
    }
   ],
   "source": [
    "# Order of operations - PEDMAS\n",
    "2 + 4 / 2 # output?"
   ]
  },
  {
   "cell_type": "code",
   "execution_count": null,
   "metadata": {
    "colab": {
     "base_uri": "https://localhost:8080/"
    },
    "id": "xkAhT4UZY-vR",
    "outputId": "67996d82-dfad-4b5d-b021-5749c061672e"
   },
   "outputs": [
    {
     "data": {
      "text/plain": [
       "3.0"
      ]
     },
     "execution_count": 47,
     "metadata": {},
     "output_type": "execute_result"
    }
   ],
   "source": [
    "(2 + 4) / 2 # output"
   ]
  },
  {
   "cell_type": "markdown",
   "metadata": {
    "id": "2UnQBBl0ZOxF"
   },
   "source": [
    "### Logical Operators - Booleans functions Continued\n",
    "Combines two statements and returns a boolean\n",
    "\n",
    "1. and\n",
    "1. or\n",
    "1. not"
   ]
  },
  {
   "cell_type": "code",
   "execution_count": null,
   "metadata": {
    "colab": {
     "base_uri": "https://localhost:8080/"
    },
    "id": "qyhkyTXIZBY3",
    "outputId": "8121a098-bd11-4826-d226-bef564e101f5"
   },
   "outputs": [
    {
     "data": {
      "text/plain": [
       "True"
      ]
     },
     "execution_count": 48,
     "metadata": {},
     "output_type": "execute_result"
    }
   ],
   "source": [
    "True and True"
   ]
  },
  {
   "cell_type": "code",
   "execution_count": null,
   "metadata": {
    "colab": {
     "base_uri": "https://localhost:8080/"
    },
    "id": "zJ6rsbA9ZEvN",
    "outputId": "d44bd39f-3cc4-4ac6-a8b2-f73acc848abf"
   },
   "outputs": [
    {
     "data": {
      "text/plain": [
       "True"
      ]
     },
     "execution_count": 49,
     "metadata": {},
     "output_type": "execute_result"
    }
   ],
   "source": [
    "True or False"
   ]
  },
  {
   "cell_type": "code",
   "execution_count": null,
   "metadata": {
    "colab": {
     "base_uri": "https://localhost:8080/"
    },
    "id": "UMDjrCkcZcMm",
    "outputId": "841ca2da-ad87-40ed-cace-32d68e8b82cd"
   },
   "outputs": [
    {
     "data": {
      "text/plain": [
       "(True, False)"
      ]
     },
     "execution_count": 50,
     "metadata": {},
     "output_type": "execute_result"
    }
   ],
   "source": [
    "not False, not True"
   ]
  },
  {
   "cell_type": "code",
   "execution_count": null,
   "metadata": {
    "colab": {
     "base_uri": "https://localhost:8080/"
    },
    "id": "mmK6cg_IZeih",
    "outputId": "31fbf69c-ab22-4d25-a081-f70a879a89c1"
   },
   "outputs": [
    {
     "data": {
      "text/plain": [
       "False"
      ]
     },
     "execution_count": 51,
     "metadata": {},
     "output_type": "execute_result"
    }
   ],
   "source": [
    "False or False"
   ]
  },
  {
   "cell_type": "code",
   "execution_count": null,
   "metadata": {
    "colab": {
     "base_uri": "https://localhost:8080/"
    },
    "id": "YbbzWc7zZg_h",
    "outputId": "a66b5133-f992-421e-b845-75bffe74795d"
   },
   "outputs": [
    {
     "data": {
      "text/plain": [
       "True"
      ]
     },
     "execution_count": 52,
     "metadata": {},
     "output_type": "execute_result"
    }
   ],
   "source": [
    "2 == 2 and \"2\" == \"2\""
   ]
  },
  {
   "cell_type": "markdown",
   "metadata": {
    "id": "WJwbrycBZpnz"
   },
   "source": [
    "### Assignment Operator(s) Variables Continued\n",
    "Used for assigning variable names"
   ]
  },
  {
   "cell_type": "code",
   "execution_count": null,
   "metadata": {
    "id": "PdwD18fHZjzN"
   },
   "outputs": [],
   "source": [
    "a = 3"
   ]
  },
  {
   "cell_type": "code",
   "execution_count": null,
   "metadata": {
    "colab": {
     "base_uri": "https://localhost:8080/"
    },
    "id": "vAGU-GrxZxKa",
    "outputId": "053c5cb8-b73a-4898-9a49-5f6e5dae261c"
   },
   "outputs": [
    {
     "data": {
      "text/plain": [
       "5"
      ]
     },
     "execution_count": 54,
     "metadata": {},
     "output_type": "execute_result"
    }
   ],
   "source": [
    "a += 2 # similar to a = a + 2\n",
    "a"
   ]
  },
  {
   "cell_type": "code",
   "execution_count": null,
   "metadata": {
    "colab": {
     "base_uri": "https://localhost:8080/",
     "height": 35
    },
    "id": "HG7yXisnZzhT",
    "outputId": "babccde8-5d88-4ff6-ff6c-57717bf63f7f"
   },
   "outputs": [
    {
     "data": {
      "application/vnd.google.colaboratory.intrinsic+json": {
       "type": "string"
      },
      "text/plain": [
       "'dog'"
      ]
     },
     "execution_count": 55,
     "metadata": {},
     "output_type": "execute_result"
    }
   ],
   "source": [
    "b = \"dog\"\n",
    "c = b\n",
    "b = \"cat\"\n",
    "c #???"
   ]
  },
  {
   "cell_type": "code",
   "execution_count": null,
   "metadata": {
    "colab": {
     "base_uri": "https://localhost:8080/"
    },
    "id": "T9V-P8siZ3fk",
    "outputId": "5b3bae66-11cd-456a-9396-6ebc7d7a6590"
   },
   "outputs": [
    {
     "name": "stdout",
     "output_type": "stream",
     "text": [
      "Toyota\n",
      "Boeing 747\n"
     ]
    }
   ],
   "source": [
    "# assign multiple variables simultaneously\n",
    "car, plane = \"Toyota\", \"Boeing 747\"\n",
    "print(car)\n",
    "print(plane)"
   ]
  },
  {
   "cell_type": "markdown",
   "metadata": {
    "id": "98lGuIFpa0Wp"
   },
   "source": [
    "### Identity Operators\n",
    "1. is\n",
    "1. is not"
   ]
  },
  {
   "cell_type": "code",
   "execution_count": null,
   "metadata": {
    "id": "GUB3CrN0axVB"
   },
   "outputs": [],
   "source": [
    "x = 6\n",
    "y = 5\n",
    "z = 5\n",
    "\n",
    "f1 = 2.5\n",
    "f2 = 2.5"
   ]
  },
  {
   "cell_type": "code",
   "execution_count": null,
   "metadata": {
    "colab": {
     "base_uri": "https://localhost:8080/"
    },
    "id": "JRJrYUroayPa",
    "outputId": "0122bc06-50a1-42f3-f15d-30b6c75671cd"
   },
   "outputs": [
    {
     "data": {
      "text/plain": [
       "True"
      ]
     },
     "execution_count": 58,
     "metadata": {},
     "output_type": "execute_result"
    }
   ],
   "source": [
    "y is z"
   ]
  },
  {
   "cell_type": "code",
   "execution_count": null,
   "metadata": {
    "colab": {
     "base_uri": "https://localhost:8080/"
    },
    "id": "NmSbdBpra8ua",
    "outputId": "80e5bd34-5000-4a90-e067-c099f7e205e3"
   },
   "outputs": [
    {
     "data": {
      "text/plain": [
       "False"
      ]
     },
     "execution_count": 59,
     "metadata": {},
     "output_type": "execute_result"
    }
   ],
   "source": [
    "x is z"
   ]
  },
  {
   "cell_type": "code",
   "execution_count": null,
   "metadata": {
    "colab": {
     "base_uri": "https://localhost:8080/"
    },
    "id": "F2bYWlh-a-dq",
    "outputId": "18acddd2-8ff7-414f-cfea-98b622bd88f3"
   },
   "outputs": [
    {
     "data": {
      "text/plain": [
       "140009657647472"
      ]
     },
     "execution_count": 60,
     "metadata": {},
     "output_type": "execute_result"
    }
   ],
   "source": [
    "id(y)"
   ]
  },
  {
   "cell_type": "code",
   "execution_count": null,
   "metadata": {
    "colab": {
     "base_uri": "https://localhost:8080/"
    },
    "id": "PKpR6J8NbDwX",
    "outputId": "81c57ae8-3851-42cd-dc66-fa132a7fa437"
   },
   "outputs": [
    {
     "data": {
      "text/plain": [
       "140009657647472"
      ]
     },
     "execution_count": 61,
     "metadata": {},
     "output_type": "execute_result"
    }
   ],
   "source": [
    "id(z)"
   ]
  },
  {
   "cell_type": "code",
   "execution_count": null,
   "metadata": {
    "colab": {
     "base_uri": "https://localhost:8080/"
    },
    "id": "LcdPnZwBbFos",
    "outputId": "60282160-9f7f-402b-f3fc-d22328356120"
   },
   "outputs": [
    {
     "data": {
      "text/plain": [
       "140009657647504"
      ]
     },
     "execution_count": 62,
     "metadata": {},
     "output_type": "execute_result"
    }
   ],
   "source": [
    "id(x)"
   ]
  },
  {
   "cell_type": "code",
   "execution_count": null,
   "metadata": {
    "colab": {
     "base_uri": "https://localhost:8080/"
    },
    "id": "zZgPwYJJbHbs",
    "outputId": "28a090a6-ee95-46e6-bd5a-b6fdb868c506"
   },
   "outputs": [
    {
     "data": {
      "text/plain": [
       "False"
      ]
     },
     "execution_count": 63,
     "metadata": {},
     "output_type": "execute_result"
    }
   ],
   "source": [
    "f1 is f2"
   ]
  },
  {
   "cell_type": "code",
   "execution_count": null,
   "metadata": {
    "colab": {
     "base_uri": "https://localhost:8080/"
    },
    "id": "RUkEK7hObJqP",
    "outputId": "2be2566f-503d-468b-c470-cda2082d1840"
   },
   "outputs": [
    {
     "data": {
      "text/plain": [
       "140008405926288"
      ]
     },
     "execution_count": 64,
     "metadata": {},
     "output_type": "execute_result"
    }
   ],
   "source": [
    "id(f1)"
   ]
  },
  {
   "cell_type": "code",
   "execution_count": null,
   "metadata": {
    "colab": {
     "base_uri": "https://localhost:8080/"
    },
    "id": "wN6bu8_ibML4",
    "outputId": "1e430beb-11b9-45f4-a7c8-b3a9cad468ea"
   },
   "outputs": [
    {
     "data": {
      "text/plain": [
       "140008405926448"
      ]
     },
     "execution_count": 65,
     "metadata": {},
     "output_type": "execute_result"
    }
   ],
   "source": [
    "id(f2)"
   ]
  },
  {
   "cell_type": "code",
   "execution_count": null,
   "metadata": {
    "colab": {
     "base_uri": "https://localhost:8080/"
    },
    "id": "yViGOWxbbNss",
    "outputId": "8ef1e78b-9ffe-44e2-c050-0a9fc8b95322"
   },
   "outputs": [
    {
     "data": {
      "text/plain": [
       "True"
      ]
     },
     "execution_count": 66,
     "metadata": {},
     "output_type": "execute_result"
    }
   ],
   "source": [
    "f1 == f2"
   ]
  },
  {
   "cell_type": "code",
   "execution_count": null,
   "metadata": {
    "colab": {
     "base_uri": "https://localhost:8080/"
    },
    "id": "WrmUGB8rbQuU",
    "outputId": "fd52a456-e800-4dec-86a8-0836c215e628"
   },
   "outputs": [
    {
     "name": "stdout",
     "output_type": "stream",
     "text": [
      "140009656848432\n",
      "140009656848432\n"
     ]
    }
   ],
   "source": [
    "g = \"abc\"\n",
    "h = \"abc\"\n",
    "print(id(g))\n",
    "print(id(h))"
   ]
  },
  {
   "cell_type": "code",
   "execution_count": null,
   "metadata": {
    "id": "AWR3ImvcbUc0"
   },
   "outputs": [],
   "source": [
    "s1 = 'abcde'"
   ]
  },
  {
   "cell_type": "code",
   "execution_count": null,
   "metadata": {
    "colab": {
     "base_uri": "https://localhost:8080/"
    },
    "id": "vtPAbTPrbirc",
    "outputId": "1527082a-0089-4815-c3df-43a2a14c0157"
   },
   "outputs": [
    {
     "data": {
      "text/plain": [
       "True"
      ]
     },
     "execution_count": 69,
     "metadata": {},
     "output_type": "execute_result"
    }
   ],
   "source": [
    "'a' and 'c' in s1  # a in s1 and c in s1"
   ]
  },
  {
   "cell_type": "markdown",
   "metadata": {
    "id": "9ghS7Bd1b5_c"
   },
   "source": [
    "## 2. Data Structures - NonPrimitive/Collections\n",
    "* lists\n",
    "* tuples\n",
    "* dictionaries\n",
    "* sets"
   ]
  },
  {
   "cell_type": "markdown",
   "metadata": {
    "id": "cYR1atkOdI3I"
   },
   "source": [
    "![gif](https://media4.giphy.com/media/ibUeeoYTWxINVVAGsr/giphy.gif?cid=ecf05e472dni5blkiimkjclx003l7ngo48c9tbkr312t5lb3&ep=v1_gifs_search&rid=giphy.gif&ct=g)"
   ]
  },
  {
   "cell_type": "markdown",
   "metadata": {
    "id": "ZckoK5sZcqG4"
   },
   "source": [
    "### Lists\n",
    "comma separeted elements enclosed in square brackets '[ ]'\n",
    "Use square brackets [] to create, square brackets [] to index.\n",
    "accepts any data types"
   ]
  },
  {
   "cell_type": "code",
   "execution_count": null,
   "metadata": {
    "colab": {
     "base_uri": "https://localhost:8080/"
    },
    "id": "uaXIx2q4bx0B",
    "outputId": "a74fc0ad-2b27-4f12-b307-7786db379e5c"
   },
   "outputs": [
    {
     "data": {
      "text/plain": [
       "[1, 'two', 3.0, [1, 2, 3, 4], (1, 2)]"
      ]
     },
     "execution_count": 74,
     "metadata": {},
     "output_type": "execute_result"
    }
   ],
   "source": [
    "l = [1,'two',3.0,[1,2,3,4],(1,2)]\n",
    "l"
   ]
  },
  {
   "cell_type": "code",
   "execution_count": null,
   "metadata": {
    "colab": {
     "base_uri": "https://localhost:8080/"
    },
    "id": "y952y0b3ctt_",
    "outputId": "2efade55-b253-4ddf-96de-9c84b9fa4a8a"
   },
   "outputs": [
    {
     "name": "stdout",
     "output_type": "stream",
     "text": [
      "['__add__', '__class__', '__class_getitem__', '__contains__', '__delattr__', '__delitem__', '__dir__', '__doc__', '__eq__', '__format__', '__ge__', '__getattribute__', '__getitem__', '__gt__', '__hash__', '__iadd__', '__imul__', '__init__', '__init_subclass__', '__iter__', '__le__', '__len__', '__lt__', '__mul__', '__ne__', '__new__', '__reduce__', '__reduce_ex__', '__repr__', '__reversed__', '__rmul__', '__setattr__', '__setitem__', '__sizeof__', '__str__', '__subclasshook__', 'append', 'clear', 'copy', 'count', 'extend', 'index', 'insert', 'pop', 'remove', 'reverse', 'sort']\n"
     ]
    }
   ],
   "source": [
    "print(dir(l))"
   ]
  },
  {
   "cell_type": "code",
   "execution_count": null,
   "metadata": {
    "colab": {
     "base_uri": "https://localhost:8080/"
    },
    "id": "RV4Y5aHtcva5",
    "outputId": "09c2f709-3c29-48d6-d3ac-b4da11aa9587"
   },
   "outputs": [
    {
     "name": "stdout",
     "output_type": "stream",
     "text": [
      "[6, 7, 8]\n",
      "[1, 'two', 3.0, [1, 2, 3, 4], (1, 2), 6, 7, 8]\n"
     ]
    }
   ],
   "source": [
    "another_list = [6,7,8]\n",
    "\n",
    "l.extend(another_list)\n",
    "print(another_list)\n",
    "print(l)"
   ]
  },
  {
   "cell_type": "code",
   "execution_count": null,
   "metadata": {
    "colab": {
     "base_uri": "https://localhost:8080/"
    },
    "id": "OXKkpoz4cy8p",
    "outputId": "5a590578-f66c-47c9-8253-037a96bbf325"
   },
   "outputs": [
    {
     "name": "stdout",
     "output_type": "stream",
     "text": [
      "[1, 3.0, [1, 2, 3, 4], (1, 2), 6, 7, 8]\n"
     ]
    }
   ],
   "source": [
    "#Here is where the mutable idea comes in!\n",
    "l.remove(l[1])\n",
    "print(l)"
   ]
  },
  {
   "cell_type": "code",
   "execution_count": null,
   "metadata": {
    "colab": {
     "base_uri": "https://localhost:8080/"
    },
    "id": "Scc0T8fsd5eL",
    "outputId": "55cd0635-01f2-437f-9de1-b6dd17582de2"
   },
   "outputs": [
    {
     "data": {
      "text/plain": [
       "[3.0, [1, 2, 3, 4], (1, 2), 6, 7, 8]"
      ]
     },
     "execution_count": 78,
     "metadata": {},
     "output_type": "execute_result"
    }
   ],
   "source": [
    "# use reserverd keyword 'del' to remove items\n",
    "del l[0]\n",
    "l"
   ]
  },
  {
   "cell_type": "markdown",
   "metadata": {
    "id": "6ce9SsR2eLZI"
   },
   "source": [
    "### Tuples\n",
    "immutable, indexed, comma seperated values.\n",
    "Can use parenthesis () to create, square brackets [] to index."
   ]
  },
  {
   "cell_type": "code",
   "execution_count": null,
   "metadata": {
    "colab": {
     "base_uri": "https://localhost:8080/"
    },
    "id": "c8Odxs7xd-yf",
    "outputId": "2bf52ee6-bcf4-4c16-bff5-d8fd5f5c1cb4"
   },
   "outputs": [
    {
     "name": "stdout",
     "output_type": "stream",
     "text": [
      "(1, 2, 3, 4)\n",
      "(1,)\n"
     ]
    }
   ],
   "source": [
    "t1 = (1,2,3,4)\n",
    "t2 = 1,\n",
    "print(t1)\n",
    "print(t2)"
   ]
  },
  {
   "cell_type": "code",
   "execution_count": null,
   "metadata": {
    "colab": {
     "base_uri": "https://localhost:8080/"
    },
    "id": "PK0wmhBQeRm9",
    "outputId": "77701cbb-94ba-4ad8-fb9b-fde4f1c3762e"
   },
   "outputs": [
    {
     "data": {
      "text/plain": [
       "1"
      ]
     },
     "execution_count": 80,
     "metadata": {},
     "output_type": "execute_result"
    }
   ],
   "source": [
    "t1[0] # tuples are immutable"
   ]
  },
  {
   "cell_type": "code",
   "execution_count": null,
   "metadata": {
    "colab": {
     "base_uri": "https://localhost:8080/"
    },
    "id": "MHI0ZgV0eTcQ",
    "outputId": "eee89422-03d5-4acd-a1ad-39b5494e1c44"
   },
   "outputs": [
    {
     "data": {
      "text/plain": [
       "(2, 2, 3)"
      ]
     },
     "execution_count": 81,
     "metadata": {},
     "output_type": "execute_result"
    }
   ],
   "source": [
    "t1 = 2,2,3\n",
    "t1"
   ]
  },
  {
   "cell_type": "code",
   "execution_count": null,
   "metadata": {
    "id": "m25lr_3leVJY"
   },
   "outputs": [],
   "source": [
    "# tuple unpacking\n",
    "t2 = 2,3,4"
   ]
  },
  {
   "cell_type": "code",
   "execution_count": null,
   "metadata": {
    "id": "ti3fh4obeXku"
   },
   "outputs": [],
   "source": [
    "a1, a2, a3 = t2"
   ]
  },
  {
   "cell_type": "code",
   "execution_count": null,
   "metadata": {
    "colab": {
     "base_uri": "https://localhost:8080/"
    },
    "id": "jARt2MxqeZGJ",
    "outputId": "43a1ef31-9b2d-4d74-c995-1e830b4007d8"
   },
   "outputs": [
    {
     "name": "stdout",
     "output_type": "stream",
     "text": [
      "3\n"
     ]
    }
   ],
   "source": [
    "print(a2)"
   ]
  },
  {
   "cell_type": "code",
   "execution_count": null,
   "metadata": {
    "id": "voyBFAbAebfR"
   },
   "outputs": [],
   "source": [
    "x,y,z = 5,6,7"
   ]
  },
  {
   "cell_type": "code",
   "execution_count": null,
   "metadata": {
    "colab": {
     "base_uri": "https://localhost:8080/"
    },
    "id": "eHKYSD9dedmH",
    "outputId": "270d9b5e-fdf6-41ce-982b-61e578967ba7"
   },
   "outputs": [
    {
     "data": {
      "text/plain": [
       "7"
      ]
     },
     "execution_count": 86,
     "metadata": {},
     "output_type": "execute_result"
    }
   ],
   "source": [
    "z"
   ]
  },
  {
   "cell_type": "markdown",
   "metadata": {
    "id": "N9LqYSfFejJK"
   },
   "source": [
    "### Dictionaries\n",
    "A collection of key, value pairs, which is unordered, changeable and indexed.\n",
    "Use curly brackets {} to create."
   ]
  },
  {
   "cell_type": "markdown",
   "metadata": {
    "id": "PojdKziPi4tS"
   },
   "source": []
  },
  {
   "cell_type": "code",
   "execution_count": null,
   "metadata": {
    "colab": {
     "base_uri": "https://localhost:8080/"
    },
    "id": "B1N3ISPgefok",
    "outputId": "cd211573-1f2e-4899-be60-6405f5935a18"
   },
   "outputs": [
    {
     "name": "stdout",
     "output_type": "stream",
     "text": [
      "{'key1': 1, 'key2': 2.0, 'key3': 'value_three'}\n"
     ]
    }
   ],
   "source": [
    "my_dict = {\"key1\" : 1, \"key2\" : 2.0, \"key3\" : 'value_three'}\n",
    "print(my_dict)"
   ]
  },
  {
   "cell_type": "code",
   "execution_count": null,
   "metadata": {
    "colab": {
     "base_uri": "https://localhost:8080/"
    },
    "id": "Lzno5VcdemKx",
    "outputId": "c50126f6-7eef-4a0d-86cf-2b56f6d43828"
   },
   "outputs": [
    {
     "data": {
      "text/plain": [
       "1"
      ]
     },
     "execution_count": 89,
     "metadata": {},
     "output_type": "execute_result"
    }
   ],
   "source": [
    "# get a key's value\n",
    "my_dict[\"key1\"]"
   ]
  },
  {
   "cell_type": "code",
   "execution_count": null,
   "metadata": {
    "colab": {
     "base_uri": "https://localhost:8080/"
    },
    "id": "lXWmkB4nen9d",
    "outputId": "84648f74-d4fc-4774-c459-fd8229a3d832"
   },
   "outputs": [
    {
     "name": "stdout",
     "output_type": "stream",
     "text": [
      "{'key1': 'one', 'key2': 2.0, 'key3': 'value_three', 'key4': 'FOUR', 'key5': 2.0}\n"
     ]
    }
   ],
   "source": [
    "# add a new entry\n",
    "my_dict[\"key4\"] = \"FOUR\"\n",
    "my_dict[\"key5\"] = 2.0\n",
    "my_dict[\"key1\"] = \"one\"\n",
    "print(my_dict) # look at value of Key1\n",
    "# Rule of thumb. Make keys == strings"
   ]
  },
  {
   "cell_type": "code",
   "execution_count": null,
   "metadata": {
    "colab": {
     "base_uri": "https://localhost:8080/"
    },
    "id": "-YeUQQYPeqCD",
    "outputId": "a95e8ba6-4fd2-4b2e-d200-3dbd1c1cf791"
   },
   "outputs": [
    {
     "name": "stdout",
     "output_type": "stream",
     "text": [
      "['__class__', '__class_getitem__', '__contains__', '__delattr__', '__delitem__', '__dir__', '__doc__', '__eq__', '__format__', '__ge__', '__getattribute__', '__getitem__', '__gt__', '__hash__', '__init__', '__init_subclass__', '__ior__', '__iter__', '__le__', '__len__', '__lt__', '__ne__', '__new__', '__or__', '__reduce__', '__reduce_ex__', '__repr__', '__reversed__', '__ror__', '__setattr__', '__setitem__', '__sizeof__', '__str__', '__subclasshook__', 'clear', 'copy', 'fromkeys', 'get', 'items', 'keys', 'pop', 'popitem', 'setdefault', 'update', 'values']\n"
     ]
    }
   ],
   "source": [
    "print(dir(my_dict))"
   ]
  },
  {
   "cell_type": "code",
   "execution_count": null,
   "metadata": {
    "colab": {
     "base_uri": "https://localhost:8080/"
    },
    "id": "fxStup34ers1",
    "outputId": "025dfe45-7260-4e73-873a-b68e2f36113a"
   },
   "outputs": [
    {
     "data": {
      "text/plain": [
       "dict_keys(['key1', 'key2', 'key3', 'key4', 'key5'])"
      ]
     },
     "execution_count": 92,
     "metadata": {},
     "output_type": "execute_result"
    }
   ],
   "source": [
    "# Get the keys\n",
    "my_dict.keys()"
   ]
  },
  {
   "cell_type": "code",
   "execution_count": null,
   "metadata": {
    "colab": {
     "base_uri": "https://localhost:8080/"
    },
    "id": "pb1RMGOHetmb",
    "outputId": "353f5473-c491-416b-fc9e-4af193333ab6"
   },
   "outputs": [
    {
     "data": {
      "text/plain": [
       "dict_values(['one', 2.0, 'value_three', 'FOUR', 2.0])"
      ]
     },
     "execution_count": 93,
     "metadata": {},
     "output_type": "execute_result"
    }
   ],
   "source": [
    "# Get the values\n",
    "my_dict.values()"
   ]
  },
  {
   "cell_type": "code",
   "execution_count": null,
   "metadata": {
    "colab": {
     "base_uri": "https://localhost:8080/"
    },
    "id": "qwBkqFOKeveL",
    "outputId": "044b0e93-b58a-4762-c5a2-2db9ac2744c3"
   },
   "outputs": [
    {
     "data": {
      "text/plain": [
       "dict_items([('key1', 'one'), ('key2', 2.0), ('key3', 'value_three'), ('key4', 'FOUR'), ('key5', 2.0)])"
      ]
     },
     "execution_count": 94,
     "metadata": {},
     "output_type": "execute_result"
    }
   ],
   "source": [
    "# Get the value for a specific key\n",
    "my_dict.items()"
   ]
  },
  {
   "cell_type": "code",
   "execution_count": null,
   "metadata": {
    "colab": {
     "base_uri": "https://localhost:8080/"
    },
    "id": "tzL-mApXeyIX",
    "outputId": "228662d0-ecd0-4652-a1f7-da2c896c1200"
   },
   "outputs": [
    {
     "name": "stdout",
     "output_type": "stream",
     "text": [
      "key1\n",
      "key2\n",
      "key3\n",
      "key4\n",
      "key5\n"
     ]
    }
   ],
   "source": [
    "# Get the key for a specific value. Have to loop\n",
    "for key in my_dict.keys():\n",
    "        print(key)"
   ]
  },
  {
   "cell_type": "code",
   "execution_count": null,
   "metadata": {
    "colab": {
     "base_uri": "https://localhost:8080/"
    },
    "id": "x9vMDH7sez6_",
    "outputId": "eb495793-7ae0-49c3-ad48-dc595ea123c3"
   },
   "outputs": [
    {
     "name": "stdout",
     "output_type": "stream",
     "text": [
      "key1\n",
      "one\n",
      "key2\n",
      "2.0\n",
      "key3\n",
      "value_three\n",
      "key4\n",
      "FOUR\n",
      "key5\n",
      "2.0\n"
     ]
    }
   ],
   "source": [
    "# Get the key for a specific value. Have to loop\n",
    "for key, value in my_dict.items():\n",
    "        print(key), print(value)"
   ]
  },
  {
   "cell_type": "markdown",
   "metadata": {
    "id": "eEBlKEqVe9YD"
   },
   "source": [
    "### Sets\n",
    "Similar to sets found in maths. Focus on unique values\n",
    "Use curly brackets to {} to define.\n",
    "Unorded structure, no indexing."
   ]
  },
  {
   "cell_type": "code",
   "execution_count": null,
   "metadata": {
    "colab": {
     "base_uri": "https://localhost:8080/"
    },
    "id": "nVGuxLkMe2v4",
    "outputId": "3cdecb9d-5e8b-4bc9-e66e-dd3ffcdfae0d"
   },
   "outputs": [
    {
     "data": {
      "text/plain": [
       "{1, 2, 3, 4}"
      ]
     },
     "execution_count": 97,
     "metadata": {},
     "output_type": "execute_result"
    }
   ],
   "source": [
    "set0 = {1,1,1,1,1,1,2,3,3,3,4}\n",
    "set0"
   ]
  },
  {
   "cell_type": "code",
   "execution_count": null,
   "metadata": {
    "colab": {
     "base_uri": "https://localhost:8080/"
    },
    "id": "GKSSZ9BRfAdc",
    "outputId": "98c1df3a-6a85-41ef-d5ac-f04bde799844"
   },
   "outputs": [
    {
     "data": {
      "text/plain": [
       "{2, 3, 5, 6, 7, 8, 'nine'}"
      ]
     },
     "execution_count": 98,
     "metadata": {},
     "output_type": "execute_result"
    }
   ],
   "source": [
    "set2 = [2,2,3,5,6,7,8,8.0,'nine']\n",
    "set3 = set(set2)\n",
    "set3"
   ]
  },
  {
   "cell_type": "code",
   "execution_count": null,
   "metadata": {
    "colab": {
     "base_uri": "https://localhost:8080/"
    },
    "id": "EaYLdZwdfCZv",
    "outputId": "466bcdba-807b-4acc-f1b6-e668fbc33206"
   },
   "outputs": [
    {
     "data": {
      "text/plain": [
       "set[0]"
      ]
     },
     "execution_count": 99,
     "metadata": {},
     "output_type": "execute_result"
    }
   ],
   "source": [
    "set[0] # no indexing"
   ]
  },
  {
   "cell_type": "code",
   "execution_count": null,
   "metadata": {
    "colab": {
     "base_uri": "https://localhost:8080/"
    },
    "id": "zeT-u0RrfIjQ",
    "outputId": "dcbcf431-3949-4c58-99a3-e84eabad2d99"
   },
   "outputs": [
    {
     "name": "stdout",
     "output_type": "stream",
     "text": [
      "['__and__', '__class__', '__class_getitem__', '__contains__', '__delattr__', '__dir__', '__doc__', '__eq__', '__format__', '__ge__', '__getattribute__', '__gt__', '__hash__', '__iand__', '__init__', '__init_subclass__', '__ior__', '__isub__', '__iter__', '__ixor__', '__le__', '__len__', '__lt__', '__ne__', '__new__', '__or__', '__rand__', '__reduce__', '__reduce_ex__', '__repr__', '__ror__', '__rsub__', '__rxor__', '__setattr__', '__sizeof__', '__str__', '__sub__', '__subclasshook__', '__xor__', 'add', 'clear', 'copy', 'difference', 'difference_update', 'discard', 'intersection', 'intersection_update', 'isdisjoint', 'issubset', 'issuperset', 'pop', 'remove', 'symmetric_difference', 'symmetric_difference_update', 'union', 'update']\n"
     ]
    }
   ],
   "source": [
    "print(dir(set0))"
   ]
  },
  {
   "cell_type": "markdown",
   "metadata": {
    "id": "ikaKP2C5fNbI"
   },
   "source": [
    "### Controlled Flow: Lower levels of computation"
   ]
  },
  {
   "cell_type": "markdown",
   "metadata": {
    "id": "LYeWYxyfv28a"
   },
   "source": [
    "![gif](https://media1.giphy.com/media/h8y265b9iKtzKT0pDj/giphy.gif?cid=ecf05e47oe31s8fsul5v367cyquhhwm6jmrcw61velh819io&ep=v1_gifs_search&rid=giphy.gif&ct=g)"
   ]
  },
  {
   "cell_type": "markdown",
   "metadata": {
    "id": "wg4lOrRcvzC7"
   },
   "source": [
    "## If Statement"
   ]
  },
  {
   "cell_type": "markdown",
   "metadata": {
    "id": "JnbFS98CCw_A"
   },
   "source": [
    "![picture](https://encrypted-tbn0.gstatic.com/images?q=tbn:ANd9GcRHzkvy0onhtVN4s_Hczjich7ISCwLp93mzWrICRok4RSSKs8YlRtcr_JI-O2N462TH0Hw&usqp=CAU)"
   ]
  },
  {
   "cell_type": "markdown",
   "metadata": {
    "id": "0NSPHkpZrJLC"
   },
   "source": [
    "![Screenshot%202023-06-13%20at%2011.18.31.png](attachment:Screenshot%202023-06-13%20at%2011.18.31.png)"
   ]
  },
  {
   "cell_type": "code",
   "execution_count": null,
   "metadata": {
    "cellView": "form",
    "colab": {
     "base_uri": "https://localhost:8080/",
     "height": 74
    },
    "id": "-KpjWiMcs4uQ",
    "outputId": "4c7e1bde-6178-47b2-b3ab-9740a43aabb9"
   },
   "outputs": [
    {
     "data": {
      "text/html": [
       "\n",
       "     <input type=\"file\" id=\"files-b544dfce-afd9-4ccc-92a7-416f624074c2\" name=\"files[]\" multiple disabled\n",
       "        style=\"border:none\" />\n",
       "     <output id=\"result-b544dfce-afd9-4ccc-92a7-416f624074c2\">\n",
       "      Upload widget is only available when the cell has been executed in the\n",
       "      current browser session. Please rerun this cell to enable.\n",
       "      </output>\n",
       "      <script>// Copyright 2017 Google LLC\n",
       "//\n",
       "// Licensed under the Apache License, Version 2.0 (the \"License\");\n",
       "// you may not use this file except in compliance with the License.\n",
       "// You may obtain a copy of the License at\n",
       "//\n",
       "//      http://www.apache.org/licenses/LICENSE-2.0\n",
       "//\n",
       "// Unless required by applicable law or agreed to in writing, software\n",
       "// distributed under the License is distributed on an \"AS IS\" BASIS,\n",
       "// WITHOUT WARRANTIES OR CONDITIONS OF ANY KIND, either express or implied.\n",
       "// See the License for the specific language governing permissions and\n",
       "// limitations under the License.\n",
       "\n",
       "/**\n",
       " * @fileoverview Helpers for google.colab Python module.\n",
       " */\n",
       "(function(scope) {\n",
       "function span(text, styleAttributes = {}) {\n",
       "  const element = document.createElement('span');\n",
       "  element.textContent = text;\n",
       "  for (const key of Object.keys(styleAttributes)) {\n",
       "    element.style[key] = styleAttributes[key];\n",
       "  }\n",
       "  return element;\n",
       "}\n",
       "\n",
       "// Max number of bytes which will be uploaded at a time.\n",
       "const MAX_PAYLOAD_SIZE = 100 * 1024;\n",
       "\n",
       "function _uploadFiles(inputId, outputId) {\n",
       "  const steps = uploadFilesStep(inputId, outputId);\n",
       "  const outputElement = document.getElementById(outputId);\n",
       "  // Cache steps on the outputElement to make it available for the next call\n",
       "  // to uploadFilesContinue from Python.\n",
       "  outputElement.steps = steps;\n",
       "\n",
       "  return _uploadFilesContinue(outputId);\n",
       "}\n",
       "\n",
       "// This is roughly an async generator (not supported in the browser yet),\n",
       "// where there are multiple asynchronous steps and the Python side is going\n",
       "// to poll for completion of each step.\n",
       "// This uses a Promise to block the python side on completion of each step,\n",
       "// then passes the result of the previous step as the input to the next step.\n",
       "function _uploadFilesContinue(outputId) {\n",
       "  const outputElement = document.getElementById(outputId);\n",
       "  const steps = outputElement.steps;\n",
       "\n",
       "  const next = steps.next(outputElement.lastPromiseValue);\n",
       "  return Promise.resolve(next.value.promise).then((value) => {\n",
       "    // Cache the last promise value to make it available to the next\n",
       "    // step of the generator.\n",
       "    outputElement.lastPromiseValue = value;\n",
       "    return next.value.response;\n",
       "  });\n",
       "}\n",
       "\n",
       "/**\n",
       " * Generator function which is called between each async step of the upload\n",
       " * process.\n",
       " * @param {string} inputId Element ID of the input file picker element.\n",
       " * @param {string} outputId Element ID of the output display.\n",
       " * @return {!Iterable<!Object>} Iterable of next steps.\n",
       " */\n",
       "function* uploadFilesStep(inputId, outputId) {\n",
       "  const inputElement = document.getElementById(inputId);\n",
       "  inputElement.disabled = false;\n",
       "\n",
       "  const outputElement = document.getElementById(outputId);\n",
       "  outputElement.innerHTML = '';\n",
       "\n",
       "  const pickedPromise = new Promise((resolve) => {\n",
       "    inputElement.addEventListener('change', (e) => {\n",
       "      resolve(e.target.files);\n",
       "    });\n",
       "  });\n",
       "\n",
       "  const cancel = document.createElement('button');\n",
       "  inputElement.parentElement.appendChild(cancel);\n",
       "  cancel.textContent = 'Cancel upload';\n",
       "  const cancelPromise = new Promise((resolve) => {\n",
       "    cancel.onclick = () => {\n",
       "      resolve(null);\n",
       "    };\n",
       "  });\n",
       "\n",
       "  // Wait for the user to pick the files.\n",
       "  const files = yield {\n",
       "    promise: Promise.race([pickedPromise, cancelPromise]),\n",
       "    response: {\n",
       "      action: 'starting',\n",
       "    }\n",
       "  };\n",
       "\n",
       "  cancel.remove();\n",
       "\n",
       "  // Disable the input element since further picks are not allowed.\n",
       "  inputElement.disabled = true;\n",
       "\n",
       "  if (!files) {\n",
       "    return {\n",
       "      response: {\n",
       "        action: 'complete',\n",
       "      }\n",
       "    };\n",
       "  }\n",
       "\n",
       "  for (const file of files) {\n",
       "    const li = document.createElement('li');\n",
       "    li.append(span(file.name, {fontWeight: 'bold'}));\n",
       "    li.append(span(\n",
       "        `(${file.type || 'n/a'}) - ${file.size} bytes, ` +\n",
       "        `last modified: ${\n",
       "            file.lastModifiedDate ? file.lastModifiedDate.toLocaleDateString() :\n",
       "                                    'n/a'} - `));\n",
       "    const percent = span('0% done');\n",
       "    li.appendChild(percent);\n",
       "\n",
       "    outputElement.appendChild(li);\n",
       "\n",
       "    const fileDataPromise = new Promise((resolve) => {\n",
       "      const reader = new FileReader();\n",
       "      reader.onload = (e) => {\n",
       "        resolve(e.target.result);\n",
       "      };\n",
       "      reader.readAsArrayBuffer(file);\n",
       "    });\n",
       "    // Wait for the data to be ready.\n",
       "    let fileData = yield {\n",
       "      promise: fileDataPromise,\n",
       "      response: {\n",
       "        action: 'continue',\n",
       "      }\n",
       "    };\n",
       "\n",
       "    // Use a chunked sending to avoid message size limits. See b/62115660.\n",
       "    let position = 0;\n",
       "    do {\n",
       "      const length = Math.min(fileData.byteLength - position, MAX_PAYLOAD_SIZE);\n",
       "      const chunk = new Uint8Array(fileData, position, length);\n",
       "      position += length;\n",
       "\n",
       "      const base64 = btoa(String.fromCharCode.apply(null, chunk));\n",
       "      yield {\n",
       "        response: {\n",
       "          action: 'append',\n",
       "          file: file.name,\n",
       "          data: base64,\n",
       "        },\n",
       "      };\n",
       "\n",
       "      let percentDone = fileData.byteLength === 0 ?\n",
       "          100 :\n",
       "          Math.round((position / fileData.byteLength) * 100);\n",
       "      percent.textContent = `${percentDone}% done`;\n",
       "\n",
       "    } while (position < fileData.byteLength);\n",
       "  }\n",
       "\n",
       "  // All done.\n",
       "  yield {\n",
       "    response: {\n",
       "      action: 'complete',\n",
       "    }\n",
       "  };\n",
       "}\n",
       "\n",
       "scope.google = scope.google || {};\n",
       "scope.google.colab = scope.google.colab || {};\n",
       "scope.google.colab._files = {\n",
       "  _uploadFiles,\n",
       "  _uploadFilesContinue,\n",
       "};\n",
       "})(self);\n",
       "</script> "
      ],
      "text/plain": [
       "<IPython.core.display.HTML object>"
      ]
     },
     "metadata": {},
     "output_type": "display_data"
    },
    {
     "name": "stdout",
     "output_type": "stream",
     "text": [
      "Saving Screenshot 2023-06-13 at 11.18.31.png to Screenshot 2023-06-13 at 11.18.31.png\n"
     ]
    }
   ],
   "source": [
    "#@title\n",
    "from google.colab import files\n",
    "from IPython.display import Image\n",
    "\n",
    "uploaded = files.upload()"
   ]
  },
  {
   "cell_type": "code",
   "execution_count": null,
   "metadata": {
    "cellView": "form",
    "colab": {
     "base_uri": "https://localhost:8080/",
     "height": 762
    },
    "id": "_gwp4rdMtHjd",
    "outputId": "456061d8-e217-41d0-c1e7-3384af2ed221"
   },
   "outputs": [
    {
     "data": {
      "image/png": "[encoded data removed]",
      "text/plain": [
       "<IPython.core.display.Image object>"
      ]
     },
     "execution_count": 114,
     "metadata": {},
     "output_type": "execute_result"
    }
   ],
   "source": [
    "#@title\n",
    "Image('Screenshot 2023-06-13 at 11.18.31.png')"
   ]
  },
  {
   "cell_type": "code",
   "execution_count": null,
   "metadata": {
    "colab": {
     "base_uri": "https://localhost:8080/"
    },
    "id": "OyWagjDjfKpj",
    "outputId": "af4ef017-0687-4aa7-feb8-314dfbee2b30"
   },
   "outputs": [
    {
     "name": "stdout",
     "output_type": "stream",
     "text": [
      "conditions are not True, jump to else\n"
     ]
    }
   ],
   "source": [
    "# The basics\n",
    "\n",
    "condition = False\n",
    "other_condition = False\n",
    "\n",
    "if condition:\n",
    "    print(\"condition is True\")\n",
    "\n",
    "elif other_condition:\n",
    "    print(\"do this if this other condition is True\")\n",
    "\n",
    "else:\n",
    "    print(\"conditions are not True, jump to else\")\n",
    "#play with conditions"
   ]
  },
  {
   "cell_type": "code",
   "execution_count": null,
   "metadata": {
    "colab": {
     "base_uri": "https://localhost:8080/"
    },
    "id": "9qOwge2QfmrI",
    "outputId": "7954b52e-ad31-4589-87b8-1543b0ecf6a1"
   },
   "outputs": [
    {
     "name": "stdout",
     "output_type": "stream",
     "text": [
      "Third condition is True\n"
     ]
    }
   ],
   "source": [
    "# Guess the output\n",
    "if 1 > 2:\n",
    "    print(\"First condition is True\")\n",
    "\n",
    "elif 2 > 3 or 6 > 6:\n",
    "    print(\"Second condition is True\")\n",
    "\n",
    "elif 3 == 3 and 'five' == 'five':\n",
    "    print(\"Third condition is True\")\n",
    "\n",
    "else:\n",
    "    print(\"all conditions are False\")"
   ]
  },
  {
   "cell_type": "markdown",
   "metadata": {
    "id": "eL5RGOG5fr_W"
   },
   "source": [
    "### For loop\n",
    "Used for iterating over a sequence/collection"
   ]
  },
  {
   "cell_type": "markdown",
   "metadata": {
    "id": "PvcoaJqaH69l"
   },
   "source": [
    "![picture](https://www.programiz.com/sites/tutorial2program/files/python-for-loop.png)"
   ]
  },
  {
   "cell_type": "code",
   "execution_count": null,
   "metadata": {
    "id": "X-8w9El3fo9X"
   },
   "outputs": [],
   "source": [
    "list_1 = [1,2,3]"
   ]
  },
  {
   "cell_type": "code",
   "execution_count": null,
   "metadata": {
    "colab": {
     "base_uri": "https://localhost:8080/"
    },
    "id": "0oWaKcN6fyTo",
    "outputId": "b03e4a2f-6691-438d-c4a8-e59efaa7cbcd"
   },
   "outputs": [
    {
     "name": "stdout",
     "output_type": "stream",
     "text": [
      "1\n",
      "2\n",
      "3\n"
     ]
    }
   ],
   "source": [
    "for x in list_1:\n",
    "    print(x)"
   ]
  },
  {
   "cell_type": "code",
   "execution_count": null,
   "metadata": {
    "colab": {
     "base_uri": "https://localhost:8080/"
    },
    "id": "HsZOvBnGfz1J",
    "outputId": "1e793eab-6cf0-4342-be94-5761cf8e5934"
   },
   "outputs": [
    {
     "name": "stdout",
     "output_type": "stream",
     "text": [
      "python\n",
      "programming\n",
      "basics\n",
      "are\n",
      "easy(ish)\n"
     ]
    }
   ],
   "source": [
    "# Sequence can be created within the loop\n",
    "for word in [\"python\", \"programming\", \"basics\", \"are\", \"easy(ish)\"]:\n",
    "    print(word)"
   ]
  },
  {
   "cell_type": "code",
   "execution_count": null,
   "metadata": {
    "colab": {
     "base_uri": "https://localhost:8080/"
    },
    "id": "7tuHTHt5f1vo",
    "outputId": "60dda6db-2ced-4505-e687-7cfb1ea5a0f5"
   },
   "outputs": [
    {
     "name": "stdout",
     "output_type": "stream",
     "text": [
      "something somthing key1 = somethin oneone\n",
      "something somthing key2 = somethin 4.0\n",
      "something somthing key3 = somethin value_threevalue_three\n",
      "something somthing key4 = somethin FOURFOUR\n",
      "something somthing key5 = somethin 4.0\n"
     ]
    }
   ],
   "source": [
    "# looping through a dictionary\n",
    "for key, value in my_dict.items():\n",
    "#   print(f\"{key} = {value}\")\n",
    "    print(f\"something somthing {key} = somethin {value * 2}\")"
   ]
  },
  {
   "cell_type": "code",
   "execution_count": null,
   "metadata": {
    "colab": {
     "base_uri": "https://localhost:8080/"
    },
    "id": "p8yUNvvDf7LT",
    "outputId": "98bbf062-6169-45b9-cbe8-67f53c30d14a"
   },
   "outputs": [
    {
     "name": "stdout",
     "output_type": "stream",
     "text": [
      "0\n",
      "1\n",
      "2\n",
      "3\n",
      "4\n"
     ]
    }
   ],
   "source": [
    "# Using break\n",
    "for i in range(10):\n",
    "    print(i)\n",
    "    if i == 4:\n",
    "        break"
   ]
  },
  {
   "cell_type": "code",
   "execution_count": null,
   "metadata": {
    "colab": {
     "base_uri": "https://localhost:8080/"
    },
    "id": "7ZIG8D04f9Bf",
    "outputId": "cb1417f2-c3e8-49f2-d310-ca2fdb559e0a"
   },
   "outputs": [
    {
     "name": "stdout",
     "output_type": "stream",
     "text": [
      "0\n",
      "1\n",
      "2\n",
      "3\n",
      "4\n",
      "This will execute\n",
      "5\n",
      "6\n",
      "7\n",
      "We got to seven\n"
     ]
    }
   ],
   "source": [
    "# Using continue\n",
    "for i in range(10):\n",
    "    print(i)\n",
    "    if i == 4:\n",
    "        print(\"This will execute\")\n",
    "        continue\n",
    "        print(\"This won't execute\")\n",
    "    if i == 7:\n",
    "        print(\"We got to seven\")\n",
    "        break"
   ]
  },
  {
   "cell_type": "markdown",
   "metadata": {
    "id": "WuOvcL6sgE6q"
   },
   "source": [
    "### while loop\n",
    "Execute a set of statements as long as a condition is true"
   ]
  },
  {
   "cell_type": "markdown",
   "metadata": {
    "id": "j-oV8d7DIH_N"
   },
   "source": [
    "![gif](https://media1.giphy.com/media/l41lHDSvmwnQGDUD6/giphy.gif?cid=ecf05e476atw7arjo2lqq7otihlym87nj22btyahsc00smbi&ep=v1_gifs_search&rid=giphy.gif&ct=g)"
   ]
  },
  {
   "cell_type": "code",
   "execution_count": null,
   "metadata": {
    "colab": {
     "base_uri": "https://localhost:8080/"
    },
    "id": "bkpToQ0hf_pA",
    "outputId": "10a74513-d518-404d-9703-e71021d35867"
   },
   "outputs": [
    {
     "name": "stdout",
     "output_type": "stream",
     "text": [
      "0\n",
      "1\n",
      "2\n",
      "3\n",
      "4\n",
      "5\n",
      "6\n",
      "7\n",
      "8\n",
      "9\n",
      "done\n"
     ]
    }
   ],
   "source": [
    "# Have something that will break the loop. count up or down/\n",
    "i = 0\n",
    "while i in range(10):\n",
    "    print(i)\n",
    "    i = i + 1\n",
    "print(\"done\")\n",
    "# print(i)\n"
   ]
  },
  {
   "cell_type": "code",
   "execution_count": null,
   "metadata": {
    "colab": {
     "base_uri": "https://localhost:8080/"
    },
    "id": "vGu6KihhgWw2",
    "outputId": "655612a8-57f6-48d1-990d-61e12d7b948d"
   },
   "outputs": [
    {
     "name": "stdout",
     "output_type": "stream",
     "text": [
      "What's the password?pass123\n",
      "Password Correct\n"
     ]
    }
   ],
   "source": [
    "# When you don't want to break the loop\n",
    "password = \"pass123\"\n",
    "secret = \"\"\n",
    "\n",
    "while secret != password:\n",
    "    secret = input(\"What's the password?\")\n",
    "\n",
    "print(\"Password Correct\")"
   ]
  },
  {
   "cell_type": "markdown",
   "metadata": {
    "id": "5QislKzNhT2Z"
   },
   "source": [
    "### Functions\n",
    "#### Bundles of code intended for reuse"
   ]
  },
  {
   "cell_type": "code",
   "execution_count": null,
   "metadata": {
    "id": "g9pkmrqXhLKY"
   },
   "outputs": [],
   "source": [
    "# Basic Structure. Think Input-Process-Output (IPO)\n",
    "def function_name(positional_arg, kword_arg=3):\n",
    "    \"\"\"\n",
    "    Returns the sum of positional_arg with kword_arg\n",
    "    \"\"\"\n",
    "    result = positional_arg + kword_arg\n",
    "    return result\n"
   ]
  },
  {
   "cell_type": "code",
   "execution_count": null,
   "metadata": {
    "id": "c6-gg5d8hZWN"
   },
   "outputs": [],
   "source": [
    "help(function_name)"
   ]
  },
  {
   "cell_type": "code",
   "execution_count": null,
   "metadata": {
    "id": "GSCPy37Phduj"
   },
   "outputs": [],
   "source": [
    "# Call with required arguments\n",
    "function_name(2,4)"
   ]
  },
  {
   "cell_type": "code",
   "execution_count": null,
   "metadata": {
    "id": "C1QcfJfxhfwy"
   },
   "outputs": [],
   "source": [
    "# Call without defualt args\n",
    "function_name(6)"
   ]
  },
  {
   "cell_type": "markdown",
   "metadata": {
    "id": "RpArFdRSiLrx"
   },
   "source": [
    "![picture](data:image/png;base64,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)"
   ]
  },
  {
   "cell_type": "code",
   "execution_count": null,
   "metadata": {
    "id": "KlciphdFhhwy"
   },
   "outputs": [],
   "source": [
    "def BMI(Weight, Height):\n",
    "  bmi = Weight/Height**2\n",
    "  return bmi"
   ]
  },
  {
   "cell_type": "code",
   "execution_count": null,
   "metadata": {
    "id": "rdxuGjuBhop6"
   },
   "outputs": [],
   "source": [
    "BMI(85,1.85)"
   ]
  },
  {
   "cell_type": "markdown",
   "metadata": {
    "id": "P3sVJZhPwoWY"
   },
   "source": [
    "![gif](https://media3.giphy.com/media/i4MAH84pqe2m2aVojc/giphy.gif?cid=ecf05e471ge00srfiqfvup5wizgn2wejpmqhv1oz2g4uytlb&ep=v1_gifs_search&rid=giphy.gif&ct=g)"
   ]
  },
  {
   "cell_type": "markdown",
   "metadata": {
    "id": "d7IVpVZIwmVw"
   },
   "source": [
    "### Now go out there and code!"
   ]
  },
  {
   "cell_type": "markdown",
   "metadata": {
    "id": "2kzl3uVTUPSG"
   },
   "source": [
    "## References"
   ]
  },
  {
   "cell_type": "markdown",
   "metadata": {
    "id": "jZqn96uFU4rH"
   },
   "source": [
    "1. https://pythonbasics.org/\n",
    "2. https://www.geeksforgeeks.org/python-string/\n",
    "3. https://www.geeksforgeeks.org/python-numbers/\n",
    "4. https://www.w3schools.com/python/gloss_python_arithmetic_operators.asp\n",
    "5. https://www.datacamp.com/tutorial/data-structures-python\n",
    "6. https://docs.python.org/3/tutorial/datastructures.html"
   ]
  }
 ],
 "metadata": {
  "colab": {
   "provenance": []
  },
  "kernelspec": {
   "display_name": "Python 3 (ipykernel)",
   "language": "python",
   "name": "python3"
  },
  "language_info": {
   "codemirror_mode": {
    "name": "ipython",
    "version": 3
   },
   "file_extension": ".py",
   "mimetype": "text/x-python",
   "name": "python",
   "nbconvert_exporter": "python",
   "pygments_lexer": "ipython3",
   "version": "3.9.7"
  }
 },
 "nbformat": 4,
 "nbformat_minor": 1
}
