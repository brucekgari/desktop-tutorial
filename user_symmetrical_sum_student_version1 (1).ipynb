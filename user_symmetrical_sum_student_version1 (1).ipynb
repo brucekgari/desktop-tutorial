{
 "cells": [
  {
   "cell_type": "code",
   "execution_count": null,
   "id": "6a3bb57f",
   "metadata": {},
   "outputs": [],
   "source": [
    "# Symmetrical Sum\n",
    "\n",
    "## Instructions to Students\n",
    "- **Do not add or remove cells in this notebook. Do not edit or remove the `### START FUNCTION` or `### END FUNCTION` comments. Do not add any code outside of the functions you are required to edit. Doing any of this will lead to a mark of 0%!**\n",
    "- Answer the questions according to the specifications provided.\n",
    "- Use the given cell in each question to to see if your function matches the expected outputs.\n",
    "- Do not hard-code answers to the questions.\n",
    "- The use of stackoverflow, google, and other online tools are permitted. However, copying fellow student's code is not permissible and is considered a breach of the Honour code below. Doing this will result in a mark of 0%.\n",
    "- Good luck, and may the force be with you!\n",
    "\n",
    "## Honour Code\n",
    "\n",
    "I **Bruce, Kgarimetsa**, confirm - by submitting this document - that the solutions in this notebook are a result of my own work and that I abide by the   <a href=\"https://drive.google.com/open?id=1FXCIf425JLRx3JQi-ltSWppj8BCF3Np1\" target=\"_blank\">EDSA Student Manifesto</a>.\n",
    "\n",
    "Non-compliance with the honour code constitutes a material breach of contract.\n",
    "\n",
    "## Challenge\n",
    "\n",
    "**Finding the Sum of a Symmetrical Sub-List**\n",
    "\n",
    "**Task:** Create a function called symmetrical_sum which takes a Python list of integers as input and searches for a 'symmetrical' inner-portion of the list. Here symmetry is said to occur if the value of the  ith  element from the start of the list is equal to the value of the  ith  value from the end of the list. The inner-portion then consists of all elements between and including these equal values. If found, the function returns both the symmetrical part of the list, as well as the sum of its constituent elements as a tuple.\n",
    "\n",
    "Function arguments: lst - a Python list containing elements of type int. Note: len(lst)  ≥0 \n",
    "Returns: A Python tuple of the form ([symmetrical-portion], sum-of-symmetrical-portion)\n",
    "\n",
    "**Example:** symmetrical_sum([10,8,7,5,9,8,15]) == ([8, 7, 5, 9, 8], 37). Here a symmetrical portion of the list is formed by the elements at the second and second-last index, which share a value of 8. The function returns this symmetrical portion, as well as its sum of 37 within a a single tuple."
   ]
  },
  {
   "cell_type": "code",
   "execution_count": 55,
   "id": "880948b6",
   "metadata": {},
   "outputs": [],
   "source": [
    "### START FUNCTION\n",
    "def symmetrical_sum(a):\n",
    "    #your code here\n",
    "    i = 0\n",
    "    while a[i] != a[-(i+1)]:\n",
    "        i = i+1\n",
    "        continue\n",
    "    new_list = a[i:-i]\n",
    "    return (new_list,sum(new_list))\n",
    "### END FUNCTION"
   ]
  },
  {
   "cell_type": "markdown",
   "id": "683dc7bc",
   "metadata": {},
   "source": [
    "_**Expected Output**_ \n",
    "``` python\n",
    "symmetrical_sum([19,13,22,41,5,18,22,15,46]) == ([22, 41, 5, 18, 22], 108) \n",
    "symmetrical_sum([1,2,3,4,5,6,7,8,9]) == ([5], 5)\n",
    "symmetrical_sum([10,11,12,11,12]) == ([11, 12, 11], 34)\n",
    "symmetrical_sum([9,99,88,8,77,7,77,8,88,10,100]) == ([88, 8, 77, 7, 77, 8, 88], 353)\n",
    "```"
   ]
  },
  {
   "cell_type": "code",
   "execution_count": 56,
   "id": "12a1b103",
   "metadata": {},
   "outputs": [
    {
     "data": {
      "text/plain": [
       "([22, 41, 5, 18, 22], 108)"
      ]
     },
     "execution_count": 56,
     "metadata": {},
     "output_type": "execute_result"
    }
   ],
   "source": [
    "symmetrical_sum([19,13,22,41,5,18,22,15,46])"
   ]
  },
  {
   "cell_type": "code",
   "execution_count": 57,
   "id": "02c848f1",
   "metadata": {},
   "outputs": [
    {
     "data": {
      "text/plain": [
       "True"
      ]
     },
     "execution_count": 57,
     "metadata": {},
     "output_type": "execute_result"
    }
   ],
   "source": [
    "symmetrical_sum([1,2,3,4,5,6,7,8,9]) == ([5], 5)"
   ]
  },
  {
   "cell_type": "code",
   "execution_count": 58,
   "id": "99599266",
   "metadata": {},
   "outputs": [
    {
     "data": {
      "text/plain": [
       "([5], 5)"
      ]
     },
     "execution_count": 58,
     "metadata": {},
     "output_type": "execute_result"
    }
   ],
   "source": [
    "symmetrical_sum([1,2,3,4,5,6,7,8,9])"
   ]
  },
  {
   "cell_type": "code",
   "execution_count": 59,
   "id": "c02cd7bd",
   "metadata": {},
   "outputs": [
    {
     "data": {
      "text/plain": [
       "([11, 12, 11], 34)"
      ]
     },
     "execution_count": 59,
     "metadata": {},
     "output_type": "execute_result"
    }
   ],
   "source": [
    "symmetrical_sum([10,11,12,11,12])"
   ]
  },
  {
   "cell_type": "code",
   "execution_count": 60,
   "id": "bb804922",
   "metadata": {},
   "outputs": [
    {
     "data": {
      "text/plain": [
       "([88, 8, 77, 7, 77, 8, 88], 353)"
      ]
     },
     "execution_count": 60,
     "metadata": {},
     "output_type": "execute_result"
    }
   ],
   "source": [
    "symmetrical_sum([9,99,88,8,77,7,77,8,88,10,100])"
   ]
  },
  {
   "cell_type": "markdown",
   "id": "e1520f0a",
   "metadata": {},
   "source": [
    "## References\n",
    "\n",
    "Parts of this tutorial was created using the wonderful [Google Python Developers](https://developers.google.com/edu/python/) course, and has been modified under the [Creative Common's licence 2.5](https://creativecommons.org/licenses/by/2.5/) \n",
    "\n",
    "Copyright 2010 Google Inc.\n",
    "Licensed under the Apache License, Version 2.0\n",
    "http://www.apache.org/licenses/LICENSE-2.0\n",
    "\n",
    "Google's Python Class\n",
    "http://code.google.com/edu/languages/google-python-class/"
   ]
  },
  {
   "cell_type": "code",
   "execution_count": 25,
   "id": "347b3abd",
   "metadata": {},
   "outputs": [
    {
     "name": "stdout",
     "output_type": "stream",
     "text": [
      "([22, 41, 5, 18, 22], 108)\n"
     ]
    }
   ],
   "source": [
    "symmetrical_sum([19, 13, 22, 41, 5, 18, 22, 15, 46])"
   ]
  },
  {
   "cell_type": "code",
   "execution_count": null,
   "id": "3b8cac14",
   "metadata": {},
   "outputs": [],
   "source": []
  }
 ],
 "metadata": {
  "kernelspec": {
   "display_name": "Python 3 (ipykernel)",
   "language": "python",
   "name": "python3"
  },
  "language_info": {
   "codemirror_mode": {
    "name": "ipython",
    "version": 3
   },
   "file_extension": ".py",
   "mimetype": "text/x-python",
   "name": "python",
   "nbconvert_exporter": "python",
   "pygments_lexer": "ipython3",
   "version": "3.10.9"
  }
 },
 "nbformat": 4,
 "nbformat_minor": 5
}
