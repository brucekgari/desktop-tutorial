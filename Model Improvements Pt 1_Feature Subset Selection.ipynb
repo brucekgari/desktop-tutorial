{
 "cells": [
  {
   "cell_type": "markdown",
   "id": "ce79981b-5f56-4bdd-a247-8cff95c1d789",
   "metadata": {},
   "source": [
    "# Improving Classification Models: Feature Subset Selection"
   ]
  },
  {
   "cell_type": "markdown",
   "id": "3cb4ec04-21b2-4320-9e97-87a17a71bb94",
   "metadata": {},
   "source": [
    "## What to Expect:\n",
    "\n",
    "1. Quick Intro: Iris Dataset\n",
    "2. What is Feature Subset Selection\n",
    "3. Variable Thresholding\n",
    "4. K-Best Features\n",
    "5. Forward and Backward Stepwise Selection (Wine Dataset) "
   ]
  },
  {
   "cell_type": "markdown",
   "id": "d6740e1b-0e3d-4b46-ad36-dcd7929ab5e0",
   "metadata": {},
   "source": [
    "## Objectives:\n",
    "\n",
    "* Do you have a better understanding of Feature Subset Selection?\n",
    "* Attempt Variable Thresholding, K-Best Feature Selection and Foward/Backward Stepwise Selection"
   ]
  },
  {
   "cell_type": "markdown",
   "id": "cbf898da-4f18-4f1b-8a8b-534bbf3dc1b4",
   "metadata": {},
   "source": [
    "---"
   ]
  },
  {
   "cell_type": "code",
   "execution_count": 1,
   "id": "90a701c4-3f5c-42ec-92e4-1f5d78409d33",
   "metadata": {},
   "outputs": [],
   "source": [
    "import numpy as np\n",
    "import pandas as pd\n",
    "import matplotlib.pyplot as plt\n",
    "%matplotlib inline"
   ]
  },
  {
   "cell_type": "markdown",
   "id": "39d1d4f3-5395-482e-ad4d-2146b32fa0a5",
   "metadata": {},
   "source": [
    "## 1. Quick Intro: Iris Dataset"
   ]
  },
  {
   "cell_type": "code",
   "execution_count": 2,
   "id": "4dac72b5-f0f5-4f15-a69c-8f4b1b535d0f",
   "metadata": {},
   "outputs": [],
   "source": [
    "from sklearn.datasets import load_iris"
   ]
  },
  {
   "cell_type": "code",
   "execution_count": 3,
   "id": "69d8f6c1-47b3-4c35-b6fa-5081b93d8042",
   "metadata": {},
   "outputs": [],
   "source": [
    "# Load the Iris dataset\n",
    "iris = load_iris()"
   ]
  },
  {
   "cell_type": "code",
   "execution_count": 4,
   "id": "d96487e2-6662-4294-b46c-3fe6cfbc0478",
   "metadata": {},
   "outputs": [
    {
     "data": {
      "text/html": [
       "<div>\n",
       "<style scoped>\n",
       "    .dataframe tbody tr th:only-of-type {\n",
       "        vertical-align: middle;\n",
       "    }\n",
       "\n",
       "    .dataframe tbody tr th {\n",
       "        vertical-align: top;\n",
       "    }\n",
       "\n",
       "    .dataframe thead th {\n",
       "        text-align: right;\n",
       "    }\n",
       "</style>\n",
       "<table border=\"1\" class=\"dataframe\">\n",
       "  <thead>\n",
       "    <tr style=\"text-align: right;\">\n",
       "      <th></th>\n",
       "      <th>sepal length (cm)</th>\n",
       "      <th>sepal width (cm)</th>\n",
       "      <th>petal length (cm)</th>\n",
       "      <th>petal width (cm)</th>\n",
       "      <th>target</th>\n",
       "    </tr>\n",
       "  </thead>\n",
       "  <tbody>\n",
       "    <tr>\n",
       "      <th>0</th>\n",
       "      <td>5.1</td>\n",
       "      <td>3.5</td>\n",
       "      <td>1.4</td>\n",
       "      <td>0.2</td>\n",
       "      <td>0</td>\n",
       "    </tr>\n",
       "    <tr>\n",
       "      <th>1</th>\n",
       "      <td>4.9</td>\n",
       "      <td>3.0</td>\n",
       "      <td>1.4</td>\n",
       "      <td>0.2</td>\n",
       "      <td>0</td>\n",
       "    </tr>\n",
       "    <tr>\n",
       "      <th>2</th>\n",
       "      <td>4.7</td>\n",
       "      <td>3.2</td>\n",
       "      <td>1.3</td>\n",
       "      <td>0.2</td>\n",
       "      <td>0</td>\n",
       "    </tr>\n",
       "    <tr>\n",
       "      <th>3</th>\n",
       "      <td>4.6</td>\n",
       "      <td>3.1</td>\n",
       "      <td>1.5</td>\n",
       "      <td>0.2</td>\n",
       "      <td>0</td>\n",
       "    </tr>\n",
       "    <tr>\n",
       "      <th>4</th>\n",
       "      <td>5.0</td>\n",
       "      <td>3.6</td>\n",
       "      <td>1.4</td>\n",
       "      <td>0.2</td>\n",
       "      <td>0</td>\n",
       "    </tr>\n",
       "  </tbody>\n",
       "</table>\n",
       "</div>"
      ],
      "text/plain": [
       "   sepal length (cm)  sepal width (cm)  petal length (cm)  petal width (cm)  \\\n",
       "0                5.1               3.5                1.4               0.2   \n",
       "1                4.9               3.0                1.4               0.2   \n",
       "2                4.7               3.2                1.3               0.2   \n",
       "3                4.6               3.1                1.5               0.2   \n",
       "4                5.0               3.6                1.4               0.2   \n",
       "\n",
       "   target  \n",
       "0       0  \n",
       "1       0  \n",
       "2       0  \n",
       "3       0  \n",
       "4       0  "
      ]
     },
     "execution_count": 4,
     "metadata": {},
     "output_type": "execute_result"
    }
   ],
   "source": [
    "# Create a DataFrame from the Iris dataset\n",
    "iris_df = pd.DataFrame(data=iris.data, columns=iris.feature_names)\n",
    "\n",
    "# Add the target column to the DataFrame\n",
    "iris_df['target'] = iris.target\n",
    "\n",
    "# Display the first few rows of the DataFrame\n",
    "iris_df.head()"
   ]
  },
  {
   "cell_type": "code",
   "execution_count": 5,
   "id": "b74ff487-f3c7-47ec-a572-ed97ad2ec5aa",
   "metadata": {},
   "outputs": [],
   "source": [
    "X = iris_df.drop(columns = 'target')\n",
    "y = iris_df['target']"
   ]
  },
  {
   "cell_type": "code",
   "execution_count": 6,
   "id": "3830a424-d323-44fa-96bd-04554e0bfea6",
   "metadata": {},
   "outputs": [],
   "source": [
    "# Import the scaler module\n",
    "from sklearn import preprocessing\n",
    "scaler = preprocessing.MinMaxScaler()\n",
    "\n",
    "# Scale data\n",
    "X_scaled = scaler.fit_transform(X)"
   ]
  },
  {
   "cell_type": "markdown",
   "id": "632c99d1-d0f7-411e-a6c6-1c154c8aa05c",
   "metadata": {},
   "source": [
    "---"
   ]
  },
  {
   "cell_type": "markdown",
   "id": "53078da7-a3ad-428d-abfc-b49b75853d4a",
   "metadata": {},
   "source": [
    "## 2. What is Feature Subset Selection?"
   ]
  },
  {
   "cell_type": "markdown",
   "id": "b18cb51f-fd1a-4e99-ae2e-a3821ad42e45",
   "metadata": {},
   "source": [
    "The success of machine learning algorithms depends on the quality of the data they use to extract knowledge. Machine learning algorithms may produce inaccurate or unintelligible results if data is inadequate or contains irrelevant information. By **removing irrelevant and redundant information** before learning, feature subset selection algorithms aim to **reduce the amount of time** it takes to learn. It reduces *data dimensionality*, improves **algorithm efficiency**, and **enhances performance and interpretability**. "
   ]
  },
  {
   "cell_type": "markdown",
   "id": "b7c3447e-ff1f-4fb0-ba18-4ca44c3aed56",
   "metadata": {},
   "source": [
    "---"
   ]
  },
  {
   "cell_type": "markdown",
   "id": "4a454f64-c61e-4d61-a8d3-ef637559d5f9",
   "metadata": {},
   "source": [
    "## 3. Variable Thresholding"
   ]
  },
  {
   "cell_type": "markdown",
   "id": "243576a8",
   "metadata": {},
   "source": [
    "Variable thresholding in classification involves adjusting the decision threshold for predicted probabilities to achieve a desired balance between precision and recall or to optimize for specific performance metrics."
   ]
  },
  {
   "cell_type": "markdown",
   "id": "de097292-d03c-4d73-a2e2-3fdd341d03ac",
   "metadata": {},
   "source": [
    "```python\n",
    "# Import syntax for the VarianceThreshold\n",
    "from sklearn.feature_selection import VarianceThreshold\n",
    "```"
   ]
  },
  {
   "cell_type": "markdown",
   "id": "fa0dbbef-1d57-44ff-a3f0-01902306570b",
   "metadata": {},
   "source": [
    "But first! lets take a look at the variance of each feature."
   ]
  },
  {
   "cell_type": "code",
   "execution_count": null,
   "id": "7ffebf19-a611-4b35-bf44-e2a6ce48a420",
   "metadata": {},
   "outputs": [],
   "source": [
    "from sklearn.feature_selection import VarianceThreshold\n",
    "\n",
    "# Display the variance of each column\n",
    "column_variances = iris_df.var()\n",
    "\n",
    "print(\"Variance of Each Column:\")\n",
    "print(column_variances)\n"
   ]
  },
  {
   "cell_type": "code",
   "execution_count": null,
   "id": "36e07807-13b2-45a2-996b-e0c0a736e6f1",
   "metadata": {},
   "outputs": [],
   "source": [
    "# Use VarianceThreshold to remove low-variance features\n",
    "\n",
    "#You can adjust this threshold based on your needs\n",
    "variance_threshold = 0.2  \n",
    "\n",
    "selector = VarianceThreshold(threshold=variance_threshold)\n",
    "\n",
    "# Exclude the target column\n",
    "# Careful! not all data are to scale you may need to!\n",
    "selected_features = selector.fit_transform(iris_df.iloc[:, :-1]) \n",
    "\n",
    "# Create a DataFrame for the selected features\n",
    "selected_features_df = pd.DataFrame(data=selected_features)\n",
    "\n",
    "# Get the selected feature indices\n",
    "selected_feature_indices = selector.get_support(indices=True)\n",
    "\n",
    "# Get the names of the selected features from the original DataFrame\n",
    "selected_feature_names = iris_df.columns[selected_feature_indices]\n",
    "\n",
    "# Create a DataFrame for the selected features with their names\n",
    "selected_features_df = pd.DataFrame(data=selected_features,\n",
    "                                    columns=selected_feature_names)\n",
    "\n",
    "selected_features_df.head()"
   ]
  },
  {
   "cell_type": "markdown",
   "id": "8e4a0d75-e4f6-4244-9b59-7b8dfb00836c",
   "metadata": {},
   "source": [
    "How will you apply this to split data above?"
   ]
  },
  {
   "cell_type": "markdown",
   "id": "5652891a-6858-4117-a672-d565c6e834f9",
   "metadata": {},
   "source": [
    "---"
   ]
  },
  {
   "cell_type": "markdown",
   "id": "c40b93f1-c156-4adb-9a53-643d580899e7",
   "metadata": {},
   "source": [
    "## 4. K-Best Features"
   ]
  },
  {
   "cell_type": "markdown",
   "id": "1bbd62ee",
   "metadata": {},
   "source": [
    "K-Best Features in classification involve selecting the top k features based on **statistical measures**, enhancing model performance by focusing on the most informative attributes. This technique aids in dimensionality reduction, mitigates overfitting, and improves computational efficiency."
   ]
  },
  {
   "cell_type": "code",
   "execution_count": null,
   "id": "c6448914-83c3-481b-91e8-5a4992186f22",
   "metadata": {},
   "outputs": [],
   "source": [
    "from sklearn.model_selection import train_test_split\n",
    "\n",
    "# Split into train and test\n",
    "X_train, X_test, y_train,y_test = train_test_split(X_scaled, y, \n",
    "                                                    test_size=0.2,\n",
    "                                                    random_state=10)"
   ]
  },
  {
   "cell_type": "code",
   "execution_count": null,
   "id": "02ba97b3-6d03-4fd5-b675-5a79c6bd6c1b",
   "metadata": {},
   "outputs": [],
   "source": [
    "# Import the feature selector module\n",
    "from sklearn import feature_selection\n",
    "from sklearn.feature_selection import f_classif\n",
    "\n",
    "# Set up selector, choosing score function and number of features\n",
    "selector_kbest = feature_selection.SelectKBest(score_func=f_classif, \n",
    "                                               k= 3)\n",
    "\n",
    "# Transform (i.e.: run selection on) the training data\n",
    "X_train_kbest = selector_kbest.fit_transform(X_train, y_train)"
   ]
  },
  {
   "cell_type": "code",
   "execution_count": null,
   "id": "70617477-c9a3-412a-bcff-ed4cc5874bcc",
   "metadata": {},
   "outputs": [],
   "source": [
    "X_train_kbest.shape"
   ]
  },
  {
   "cell_type": "code",
   "execution_count": null,
   "id": "9549413c-5fdd-4c2e-8907-d4efc0462923",
   "metadata": {},
   "outputs": [],
   "source": [
    "# Get the selected feature indices\n",
    "selected_feature_indices = selector_kbest.get_support(indices=True)\n",
    "\n",
    "# Get the names of the selected features from the original DataFrame\n",
    "selected_feature_names = X.columns[selected_feature_indices]\n",
    "\n",
    "# Create a DataFrame for the selected features with their names\n",
    "selected_features_df = pd.DataFrame(data=X_train_kbest, \n",
    "                                    columns=selected_feature_names)\n",
    "\n",
    "# Print the DataFrame\n",
    "selected_features_df.head()"
   ]
  },
  {
   "cell_type": "markdown",
   "id": "6fde25a0-9849-4e41-b341-b046cd45e8fd",
   "metadata": {},
   "source": [
    "---"
   ]
  },
  {
   "cell_type": "markdown",
   "id": "2818d83e-e37a-4d6a-9de3-002d914a97ac",
   "metadata": {},
   "source": [
    "## 5. Forward and Backward Stepwise Selection"
   ]
  },
  {
   "cell_type": "markdown",
   "id": "501b1bac-2d47-4ccf-a895-14a437607ee7",
   "metadata": {},
   "source": [
    "\n",
    "Forward and Backward Stepwise Selection are feature selection techniques employed in the realm of statistical modeling and machine learning to enhance model efficiency and interpretability. "
   ]
  },
  {
   "cell_type": "markdown",
   "id": "85043430-c894-46fb-9c4e-f5364760abb9",
   "metadata": {},
   "source": [
    "- Forward Stepwise Selection"
   ]
  },
  {
   "cell_type": "markdown",
   "id": "18785339-9e6b-4bfc-a82e-8280bab9443d",
   "metadata": {},
   "source": [
    "Forward Stepwise Selection begins with an empty set of features and iteratively adds the most significant variables, stopping when a predefined criterion is met. This method is particularly beneficial when the dataset contains a large number of potential features."
   ]
  },
  {
   "cell_type": "markdown",
   "id": "3065e1fd-d1d6-4528-b0da-a4f0cf7d2efe",
   "metadata": {},
   "source": [
    "- Backward Stepwise Selection"
   ]
  },
  {
   "cell_type": "markdown",
   "id": "a0cdf591-3752-4879-8048-2c45fa148f8d",
   "metadata": {},
   "source": [
    "On the other hand, Backward Stepwise Selection starts with the entire set of features and removes the least significant ones sequentially until the stopping criterion is satisfied."
   ]
  },
  {
   "cell_type": "markdown",
   "id": "a316f8cc-eaad-4de8-9e9f-e335bd1f5cb4",
   "metadata": {},
   "source": [
    "#### Now onto the code!"
   ]
  },
  {
   "cell_type": "code",
   "execution_count": null,
   "id": "82efd1f6-3c87-4289-8435-70c6613e1960",
   "metadata": {},
   "outputs": [],
   "source": [
    "from sklearn.datasets import load_wine\n",
    "# Wine Dataset that we load\n",
    "wine = load_wine()"
   ]
  },
  {
   "cell_type": "code",
   "execution_count": null,
   "id": "31f65ae2-d54f-42f4-8122-aa453f803bf2",
   "metadata": {},
   "outputs": [],
   "source": [
    "# Create a DataFrame from the Iris dataset\n",
    "wine_df = pd.DataFrame(data=wine.data, columns=wine.feature_names)\n",
    "\n",
    "# Add the target column to the DataFrame\n",
    "wine_df['target'] = wine.target\n",
    "\n",
    "# Display the first few rows of the DataFrame\n",
    "wine_df.head()"
   ]
  },
  {
   "cell_type": "code",
   "execution_count": null,
   "id": "3d5ba7fd-912e-434a-b26b-6cb7281e09bf",
   "metadata": {},
   "outputs": [],
   "source": [
    "# Display the variance of each column\n",
    "column_variances = wine_df.var()\n",
    "\n",
    "print(\"Variance of Each Column:\")\n",
    "print(column_variances)\n"
   ]
  },
  {
   "cell_type": "code",
   "execution_count": null,
   "id": "444ff2c2",
   "metadata": {},
   "outputs": [],
   "source": [
    "data = load_wine()\n",
    "mask = data.target != 0  # Binary classification: Class 1 vs Others\n",
    "X1, y1 = data.data[mask], data.target[mask]"
   ]
  },
  {
   "cell_type": "code",
   "execution_count": null,
   "id": "2ec9ff75-d191-4a61-83d7-8c69a9d3fdb8",
   "metadata": {},
   "outputs": [],
   "source": [
    "# Import the scaler module\n",
    "from sklearn import preprocessing\n",
    "scaler = preprocessing.MinMaxScaler()\n",
    "\n",
    "# Scale data\n",
    "X_scaled1 = scaler.fit_transform(X1)"
   ]
  },
  {
   "cell_type": "code",
   "execution_count": null,
   "id": "4fc70d1a-ce83-41cf-8560-ae2e47c0d768",
   "metadata": {},
   "outputs": [],
   "source": [
    "from sklearn.model_selection import train_test_split\n",
    "\n",
    "# Split into train and test\n",
    "X_train1, X_test1, y_train1, y_test1 = train_test_split(X_scaled1, y1, \n",
    "                                                            test_size=0.2, \n",
    "                                                            random_state=10)"
   ]
  },
  {
   "cell_type": "code",
   "execution_count": null,
   "id": "f29e7a80-1500-42d3-ba9e-7e517b96a958",
   "metadata": {},
   "outputs": [],
   "source": [
    "from sklearn.linear_model import LogisticRegression"
   ]
  },
  {
   "cell_type": "code",
   "execution_count": null,
   "id": "b8d61b83-6928-4b64-bf0d-4f0bbfcc7a2e",
   "metadata": {},
   "outputs": [],
   "source": [
    "# lm instance for stepwise\n",
    "lm_sfs = LogisticRegression()"
   ]
  },
  {
   "cell_type": "code",
   "execution_count": null,
   "id": "867ba198",
   "metadata": {},
   "outputs": [],
   "source": [
    "!pip install mlxtend"
   ]
  },
  {
   "cell_type": "code",
   "execution_count": null,
   "id": "c1a85b22-5c05-4d4b-aa61-30985552bed8",
   "metadata": {},
   "outputs": [],
   "source": [
    "# Import the selector module, and the accuracy_score module to computer performance\n",
    "from sklearn.metrics import f1_score\n",
    "from mlxtend.feature_selection import SequentialFeatureSelector as sfs"
   ]
  },
  {
   "cell_type": "code",
   "execution_count": null,
   "id": "e45d6d94-3a6b-4908-85f6-227666198ff9",
   "metadata": {},
   "outputs": [],
   "source": [
    "# We then build our forward feature selector\n",
    "sfs = sfs(lm_sfs, k_features= 4, forward=True, \n",
    "          scoring='f1', cv = 5)"
   ]
  },
  {
   "cell_type": "code",
   "execution_count": null,
   "id": "1fb71e12-14b2-4ead-96c8-884b31c311d2",
   "metadata": {
    "scrolled": true
   },
   "outputs": [],
   "source": [
    "new_selected_sfs_data = sfs.fit(X_train1, y_train1)"
   ]
  },
  {
   "cell_type": "code",
   "execution_count": null,
   "id": "6bcd0ac1-8f2a-4105-83b0-16594bb4fc9f",
   "metadata": {},
   "outputs": [],
   "source": [
    "# Plot the results\n",
    "from mlxtend.plotting import plot_sequential_feature_selection as plot_sfs\n",
    "\n",
    "fig1 = plot_sfs(new_selected_sfs_data.get_metric_dict(), \n",
    "                kind='std_dev')\n",
    "\n",
    "plt.ylim([0.9, 1.1])\n",
    "plt.title('Sequential Forward Selection (w. StdDev)')\n",
    "plt.grid()\n",
    "plt.show()"
   ]
  },
  {
   "cell_type": "markdown",
   "id": "9b3f315d",
   "metadata": {},
   "source": [
    "---"
   ]
  },
  {
   "cell_type": "markdown",
   "id": "0e0126e0",
   "metadata": {},
   "source": [
    "## Objectives:\n",
    "\n",
    "* Do you have a better understanding of Feature Subset Selection?\n",
    "* Attempt Variable Thresholding, K-Best Feature Selection and Foward/Backward Stepwise Selection"
   ]
  }
 ],
 "metadata": {
  "kernelspec": {
   "display_name": "Python 3 (ipykernel)",
   "language": "python",
   "name": "python3"
  },
  "language_info": {
   "codemirror_mode": {
    "name": "ipython",
    "version": 3
   },
   "file_extension": ".py",
   "mimetype": "text/x-python",
   "name": "python",
   "nbconvert_exporter": "python",
   "pygments_lexer": "ipython3",
   "version": "3.9.7"
  }
 },
 "nbformat": 4,
 "nbformat_minor": 5
}
