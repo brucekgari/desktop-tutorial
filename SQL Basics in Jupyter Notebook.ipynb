{
 "cells": [
  {
   "cell_type": "markdown",
   "id": "eb3c7e3a",
   "metadata": {},
   "source": [
    "# Structure Querry Language (SQL) Basic Queries in Jupyter"
   ]
  },
  {
   "cell_type": "markdown",
   "id": "5a299ec8",
   "metadata": {},
   "source": [
    "## What to Expect:\n",
    "#### 1. Databases\n",
    "\n",
    "#### 2. Loading SQL into your notebook and preparing the environment\n",
    "\n",
    "#### 3. Basic SQL Querries\n",
    "___"
   ]
  },
  {
   "cell_type": "markdown",
   "id": "72d1a98d",
   "metadata": {},
   "source": [
    "![picture](https://www.simplilearn.com/ice9/free_resources_article_thumb/difference_between_sql_and_mysql.jpg)\n",
    "\n",
    "---"
   ]
  },
  {
   "cell_type": "markdown",
   "id": "f99b4a65",
   "metadata": {},
   "source": [
    "## 1. Databases\n"
   ]
  },
  {
   "cell_type": "markdown",
   "id": "b86369dd",
   "metadata": {},
   "source": [
    "### What is a Database?\n",
    "\n",
    "- SQL database or relational database is a collection of highly structured tables, wherein each row reflects a data entity, and every column defines a specific information field. Relational databases are built using the structured query language (SQL) to create, store, update, and retrieve data. "
   ]
  },
  {
   "cell_type": "markdown",
   "id": "08209ffd",
   "metadata": {},
   "source": [
    "![picture](https://paper-attachments.dropboxusercontent.com/s_DADB35C92DE96459B45F8A24F2BA20C1018B5BA020F47C0EB9D92470905886E0_1673510517663_Untitled1.drawio+2.png)"
   ]
  },
  {
   "cell_type": "markdown",
   "id": "57df92f0",
   "metadata": {},
   "source": [
    "### Database Architecture"
   ]
  },
  {
   "attachments": {},
   "cell_type": "markdown",
   "id": "af8f622b",
   "metadata": {},
   "source": [
    "![SQL Architectures](https://raw.githubusercontent.com/Explore-AI/Pictures/master/sql-architectures.png)\n",
    "\n",
    "----"
   ]
  },
  {
   "cell_type": "markdown",
   "id": "936889a9",
   "metadata": {},
   "source": [
    "### Database Diagram (*'chinook.db'*)"
   ]
  },
  {
   "cell_type": "markdown",
   "id": "0bd2d86e",
   "metadata": {},
   "source": [
    " This is a *\"map\"* that looks at the structure of the database and the connected tables in the database."
   ]
  },
  {
   "cell_type": "markdown",
   "id": "9394070d",
   "metadata": {},
   "source": [
    "![picture](https://www.sqlitetutorial.net/wp-content/uploads/2015/11/sqlite-sample-database-color.jpg)\n",
    "___"
   ]
  },
  {
   "cell_type": "markdown",
   "id": "dfeb160a",
   "metadata": {},
   "source": [
    "## 2. Loading SQL into your notebook and preparing the environment"
   ]
  },
  {
   "cell_type": "markdown",
   "id": "7d419255",
   "metadata": {},
   "source": [
    "`pip install sqlalchemy`\n",
    "\n",
    "`pip install ipython-sql` \n",
    "\n",
    "`pip install pymysql`"
   ]
  },
  {
   "cell_type": "code",
   "execution_count": null,
   "id": "5fe2f7b8",
   "metadata": {},
   "outputs": [],
   "source": [
    "pip install sqlalchemy"
   ]
  },
  {
   "cell_type": "code",
   "execution_count": null,
   "id": "39985b9a",
   "metadata": {},
   "outputs": [],
   "source": [
    "pip install ipython-sql"
   ]
  },
  {
   "cell_type": "code",
   "execution_count": null,
   "id": "39731bf3",
   "metadata": {},
   "outputs": [],
   "source": [
    "pip install pymysql"
   ]
  },
  {
   "cell_type": "code",
   "execution_count": null,
   "id": "95cdc4ec",
   "metadata": {},
   "outputs": [],
   "source": [
    "#Load the SQL extension into your notebook \n",
    "%load_ext sql"
   ]
  },
  {
   "cell_type": "code",
   "execution_count": 24,
   "id": "b57d576e",
   "metadata": {},
   "outputs": [],
   "source": [
    "%%sql\n",
    "sqlite:///chinook.db"
   ]
  },
  {
   "cell_type": "markdown",
   "id": "4dad889f",
   "metadata": {},
   "source": [
    "---\n",
    "## 3. Basic SQL Querries"
   ]
  },
  {
   "cell_type": "markdown",
   "id": "6a9a5989",
   "metadata": {},
   "source": [
    "- ## Quick intro to the three most popular SQL commands"
   ]
  },
  {
   "cell_type": "markdown",
   "id": "77fe0a92",
   "metadata": {},
   "source": [
    "*   `SELECT` Is a querry that allows for selection of columns, \"*\" represents ALL columns.\n",
    "\n",
    "\n",
    "*   `FROM` This is a standard querry that directs to the specific table you are working with.\n",
    "\n",
    "\n",
    "*  `LIMIT` The number of rows you would like to see.\n",
    "\n",
    "---"
   ]
  },
  {
   "cell_type": "markdown",
   "id": "7f97c123",
   "metadata": {},
   "source": [
    "### 3.1 Lets take a look at a few of the tables in the Database"
   ]
  },
  {
   "cell_type": "code",
   "execution_count": 25,
   "id": "b9b73b17",
   "metadata": {},
   "outputs": [
    {
     "name": "stdout",
     "output_type": "stream",
     "text": [
      " * sqlite:///chinook.db\n",
      "Done.\n"
     ]
    },
    {
     "data": {
      "text/html": [
       "<table>\n",
       "    <thead>\n",
       "        <tr>\n",
       "            <th>CustomerId</th>\n",
       "            <th>FirstName</th>\n",
       "            <th>LastName</th>\n",
       "            <th>Company</th>\n",
       "            <th>Address</th>\n",
       "            <th>City</th>\n",
       "            <th>State</th>\n",
       "            <th>Country</th>\n",
       "            <th>PostalCode</th>\n",
       "            <th>Phone</th>\n",
       "            <th>Fax</th>\n",
       "            <th>Email</th>\n",
       "            <th>SupportRepId</th>\n",
       "        </tr>\n",
       "    </thead>\n",
       "    <tbody>\n",
       "        <tr>\n",
       "            <td>1</td>\n",
       "            <td>Luís</td>\n",
       "            <td>Gonçalves</td>\n",
       "            <td>Embraer - Empresa Brasileira de Aeronáutica S.A.</td>\n",
       "            <td>Av. Brigadeiro Faria Lima, 2170</td>\n",
       "            <td>São José dos Campos</td>\n",
       "            <td>SP</td>\n",
       "            <td>Brazil</td>\n",
       "            <td>12227-000</td>\n",
       "            <td>+55 (12) 3923-5555</td>\n",
       "            <td>+55 (12) 3923-5566</td>\n",
       "            <td>luisg@embraer.com.br</td>\n",
       "            <td>3</td>\n",
       "        </tr>\n",
       "        <tr>\n",
       "            <td>2</td>\n",
       "            <td>Leonie</td>\n",
       "            <td>Köhler</td>\n",
       "            <td>None</td>\n",
       "            <td>Theodor-Heuss-Straße 34</td>\n",
       "            <td>Stuttgart</td>\n",
       "            <td>None</td>\n",
       "            <td>Germany</td>\n",
       "            <td>70174</td>\n",
       "            <td>+49 0711 2842222</td>\n",
       "            <td>None</td>\n",
       "            <td>leonekohler@surfeu.de</td>\n",
       "            <td>5</td>\n",
       "        </tr>\n",
       "        <tr>\n",
       "            <td>3</td>\n",
       "            <td>François</td>\n",
       "            <td>Tremblay</td>\n",
       "            <td>None</td>\n",
       "            <td>1498 rue Bélanger</td>\n",
       "            <td>Montréal</td>\n",
       "            <td>QC</td>\n",
       "            <td>Canada</td>\n",
       "            <td>H2G 1A7</td>\n",
       "            <td>+1 (514) 721-4711</td>\n",
       "            <td>None</td>\n",
       "            <td>ftremblay@gmail.com</td>\n",
       "            <td>3</td>\n",
       "        </tr>\n",
       "        <tr>\n",
       "            <td>4</td>\n",
       "            <td>Bjørn</td>\n",
       "            <td>Hansen</td>\n",
       "            <td>None</td>\n",
       "            <td>Ullevålsveien 14</td>\n",
       "            <td>Oslo</td>\n",
       "            <td>None</td>\n",
       "            <td>Norway</td>\n",
       "            <td>0171</td>\n",
       "            <td>+47 22 44 22 22</td>\n",
       "            <td>None</td>\n",
       "            <td>bjorn.hansen@yahoo.no</td>\n",
       "            <td>4</td>\n",
       "        </tr>\n",
       "        <tr>\n",
       "            <td>5</td>\n",
       "            <td>František</td>\n",
       "            <td>Wichterlová</td>\n",
       "            <td>JetBrains s.r.o.</td>\n",
       "            <td>Klanova 9/506</td>\n",
       "            <td>Prague</td>\n",
       "            <td>None</td>\n",
       "            <td>Czech Republic</td>\n",
       "            <td>14700</td>\n",
       "            <td>+420 2 4172 5555</td>\n",
       "            <td>+420 2 4172 5555</td>\n",
       "            <td>frantisekw@jetbrains.com</td>\n",
       "            <td>4</td>\n",
       "        </tr>\n",
       "        <tr>\n",
       "            <td>6</td>\n",
       "            <td>Helena</td>\n",
       "            <td>Holý</td>\n",
       "            <td>None</td>\n",
       "            <td>Rilská 3174/6</td>\n",
       "            <td>Prague</td>\n",
       "            <td>None</td>\n",
       "            <td>Czech Republic</td>\n",
       "            <td>14300</td>\n",
       "            <td>+420 2 4177 0449</td>\n",
       "            <td>None</td>\n",
       "            <td>hholy@gmail.com</td>\n",
       "            <td>5</td>\n",
       "        </tr>\n",
       "        <tr>\n",
       "            <td>7</td>\n",
       "            <td>Astrid</td>\n",
       "            <td>Gruber</td>\n",
       "            <td>None</td>\n",
       "            <td>Rotenturmstraße 4, 1010 Innere Stadt</td>\n",
       "            <td>Vienne</td>\n",
       "            <td>None</td>\n",
       "            <td>Austria</td>\n",
       "            <td>1010</td>\n",
       "            <td>+43 01 5134505</td>\n",
       "            <td>None</td>\n",
       "            <td>astrid.gruber@apple.at</td>\n",
       "            <td>5</td>\n",
       "        </tr>\n",
       "        <tr>\n",
       "            <td>8</td>\n",
       "            <td>Daan</td>\n",
       "            <td>Peeters</td>\n",
       "            <td>None</td>\n",
       "            <td>Grétrystraat 63</td>\n",
       "            <td>Brussels</td>\n",
       "            <td>None</td>\n",
       "            <td>Belgium</td>\n",
       "            <td>1000</td>\n",
       "            <td>+32 02 219 03 03</td>\n",
       "            <td>None</td>\n",
       "            <td>daan_peeters@apple.be</td>\n",
       "            <td>4</td>\n",
       "        </tr>\n",
       "        <tr>\n",
       "            <td>9</td>\n",
       "            <td>Kara</td>\n",
       "            <td>Nielsen</td>\n",
       "            <td>None</td>\n",
       "            <td>Sønder Boulevard 51</td>\n",
       "            <td>Copenhagen</td>\n",
       "            <td>None</td>\n",
       "            <td>Denmark</td>\n",
       "            <td>1720</td>\n",
       "            <td>+453 3331 9991</td>\n",
       "            <td>None</td>\n",
       "            <td>kara.nielsen@jubii.dk</td>\n",
       "            <td>4</td>\n",
       "        </tr>\n",
       "        <tr>\n",
       "            <td>10</td>\n",
       "            <td>Eduardo</td>\n",
       "            <td>Martins</td>\n",
       "            <td>Woodstock Discos</td>\n",
       "            <td>Rua Dr. Falcão Filho, 155</td>\n",
       "            <td>São Paulo</td>\n",
       "            <td>SP</td>\n",
       "            <td>Brazil</td>\n",
       "            <td>01007-010</td>\n",
       "            <td>+55 (11) 3033-5446</td>\n",
       "            <td>+55 (11) 3033-4564</td>\n",
       "            <td>eduardo@woodstock.com.br</td>\n",
       "            <td>4</td>\n",
       "        </tr>\n",
       "    </tbody>\n",
       "</table>"
      ],
      "text/plain": [
       "[(1, 'Luís', 'Gonçalves', 'Embraer - Empresa Brasileira de Aeronáutica S.A.', 'Av. Brigadeiro Faria Lima, 2170', 'São José dos Campos', 'SP', 'Brazil', '12227-000', '+55 (12) 3923-5555', '+55 (12) 3923-5566', 'luisg@embraer.com.br', 3),\n",
       " (2, 'Leonie', 'Köhler', None, 'Theodor-Heuss-Straße 34', 'Stuttgart', None, 'Germany', '70174', '+49 0711 2842222', None, 'leonekohler@surfeu.de', 5),\n",
       " (3, 'François', 'Tremblay', None, '1498 rue Bélanger', 'Montréal', 'QC', 'Canada', 'H2G 1A7', '+1 (514) 721-4711', None, 'ftremblay@gmail.com', 3),\n",
       " (4, 'Bjørn', 'Hansen', None, 'Ullevålsveien 14', 'Oslo', None, 'Norway', '0171', '+47 22 44 22 22', None, 'bjorn.hansen@yahoo.no', 4),\n",
       " (5, 'František', 'Wichterlová', 'JetBrains s.r.o.', 'Klanova 9/506', 'Prague', None, 'Czech Republic', '14700', '+420 2 4172 5555', '+420 2 4172 5555', 'frantisekw@jetbrains.com', 4),\n",
       " (6, 'Helena', 'Holý', None, 'Rilská 3174/6', 'Prague', None, 'Czech Republic', '14300', '+420 2 4177 0449', None, 'hholy@gmail.com', 5),\n",
       " (7, 'Astrid', 'Gruber', None, 'Rotenturmstraße 4, 1010 Innere Stadt', 'Vienne', None, 'Austria', '1010', '+43 01 5134505', None, 'astrid.gruber@apple.at', 5),\n",
       " (8, 'Daan', 'Peeters', None, 'Grétrystraat 63', 'Brussels', None, 'Belgium', '1000', '+32 02 219 03 03', None, 'daan_peeters@apple.be', 4),\n",
       " (9, 'Kara', 'Nielsen', None, 'Sønder Boulevard 51', 'Copenhagen', None, 'Denmark', '1720', '+453 3331 9991', None, 'kara.nielsen@jubii.dk', 4),\n",
       " (10, 'Eduardo', 'Martins', 'Woodstock Discos', 'Rua Dr. Falcão Filho, 155', 'São Paulo', 'SP', 'Brazil', '01007-010', '+55 (11) 3033-5446', '+55 (11) 3033-4564', 'eduardo@woodstock.com.br', 4)]"
      ]
     },
     "execution_count": 25,
     "metadata": {},
     "output_type": "execute_result"
    }
   ],
   "source": [
    "%%sql\n",
    "SELECT *\n",
    "FROM Customers\n",
    "LIMIT 10;"
   ]
  },
  {
   "cell_type": "code",
   "execution_count": 26,
   "id": "d9e888a0",
   "metadata": {},
   "outputs": [
    {
     "name": "stdout",
     "output_type": "stream",
     "text": [
      " * sqlite:///chinook.db\n",
      "Done.\n"
     ]
    },
    {
     "data": {
      "text/html": [
       "<table>\n",
       "    <thead>\n",
       "        <tr>\n",
       "            <th>EmployeeId</th>\n",
       "            <th>LastName</th>\n",
       "            <th>FirstName</th>\n",
       "            <th>Title</th>\n",
       "            <th>ReportsTo</th>\n",
       "            <th>BirthDate</th>\n",
       "            <th>HireDate</th>\n",
       "            <th>Address</th>\n",
       "            <th>City</th>\n",
       "            <th>State</th>\n",
       "            <th>Country</th>\n",
       "            <th>PostalCode</th>\n",
       "            <th>Phone</th>\n",
       "            <th>Fax</th>\n",
       "            <th>Email</th>\n",
       "        </tr>\n",
       "    </thead>\n",
       "    <tbody>\n",
       "        <tr>\n",
       "            <td>1</td>\n",
       "            <td>Adams</td>\n",
       "            <td>Andrew</td>\n",
       "            <td>General Manager</td>\n",
       "            <td>None</td>\n",
       "            <td>1962-02-18 00:00:00</td>\n",
       "            <td>2002-08-14 00:00:00</td>\n",
       "            <td>11120 Jasper Ave NW</td>\n",
       "            <td>Edmonton</td>\n",
       "            <td>AB</td>\n",
       "            <td>Canada</td>\n",
       "            <td>T5K 2N1</td>\n",
       "            <td>+1 (780) 428-9482</td>\n",
       "            <td>+1 (780) 428-3457</td>\n",
       "            <td>andrew@chinookcorp.com</td>\n",
       "        </tr>\n",
       "        <tr>\n",
       "            <td>2</td>\n",
       "            <td>Edwards</td>\n",
       "            <td>Nancy</td>\n",
       "            <td>Sales Manager</td>\n",
       "            <td>1</td>\n",
       "            <td>1958-12-08 00:00:00</td>\n",
       "            <td>2002-05-01 00:00:00</td>\n",
       "            <td>825 8 Ave SW</td>\n",
       "            <td>Calgary</td>\n",
       "            <td>AB</td>\n",
       "            <td>Canada</td>\n",
       "            <td>T2P 2T3</td>\n",
       "            <td>+1 (403) 262-3443</td>\n",
       "            <td>+1 (403) 262-3322</td>\n",
       "            <td>nancy@chinookcorp.com</td>\n",
       "        </tr>\n",
       "        <tr>\n",
       "            <td>3</td>\n",
       "            <td>Peacock</td>\n",
       "            <td>Jane</td>\n",
       "            <td>Sales Support Agent</td>\n",
       "            <td>2</td>\n",
       "            <td>1973-08-29 00:00:00</td>\n",
       "            <td>2002-04-01 00:00:00</td>\n",
       "            <td>1111 6 Ave SW</td>\n",
       "            <td>Calgary</td>\n",
       "            <td>AB</td>\n",
       "            <td>Canada</td>\n",
       "            <td>T2P 5M5</td>\n",
       "            <td>+1 (403) 262-3443</td>\n",
       "            <td>+1 (403) 262-6712</td>\n",
       "            <td>jane@chinookcorp.com</td>\n",
       "        </tr>\n",
       "        <tr>\n",
       "            <td>4</td>\n",
       "            <td>Park</td>\n",
       "            <td>Margaret</td>\n",
       "            <td>Sales Support Agent</td>\n",
       "            <td>2</td>\n",
       "            <td>1947-09-19 00:00:00</td>\n",
       "            <td>2003-05-03 00:00:00</td>\n",
       "            <td>683 10 Street SW</td>\n",
       "            <td>Calgary</td>\n",
       "            <td>AB</td>\n",
       "            <td>Canada</td>\n",
       "            <td>T2P 5G3</td>\n",
       "            <td>+1 (403) 263-4423</td>\n",
       "            <td>+1 (403) 263-4289</td>\n",
       "            <td>margaret@chinookcorp.com</td>\n",
       "        </tr>\n",
       "        <tr>\n",
       "            <td>5</td>\n",
       "            <td>Johnson</td>\n",
       "            <td>Steve</td>\n",
       "            <td>Sales Support Agent</td>\n",
       "            <td>2</td>\n",
       "            <td>1965-03-03 00:00:00</td>\n",
       "            <td>2003-10-17 00:00:00</td>\n",
       "            <td>7727B 41 Ave</td>\n",
       "            <td>Calgary</td>\n",
       "            <td>AB</td>\n",
       "            <td>Canada</td>\n",
       "            <td>T3B 1Y7</td>\n",
       "            <td>1 (780) 836-9987</td>\n",
       "            <td>1 (780) 836-9543</td>\n",
       "            <td>steve@chinookcorp.com</td>\n",
       "        </tr>\n",
       "        <tr>\n",
       "            <td>6</td>\n",
       "            <td>Mitchell</td>\n",
       "            <td>Michael</td>\n",
       "            <td>IT Manager</td>\n",
       "            <td>1</td>\n",
       "            <td>1973-07-01 00:00:00</td>\n",
       "            <td>2003-10-17 00:00:00</td>\n",
       "            <td>5827 Bowness Road NW</td>\n",
       "            <td>Calgary</td>\n",
       "            <td>AB</td>\n",
       "            <td>Canada</td>\n",
       "            <td>T3B 0C5</td>\n",
       "            <td>+1 (403) 246-9887</td>\n",
       "            <td>+1 (403) 246-9899</td>\n",
       "            <td>michael@chinookcorp.com</td>\n",
       "        </tr>\n",
       "        <tr>\n",
       "            <td>7</td>\n",
       "            <td>King</td>\n",
       "            <td>Robert</td>\n",
       "            <td>IT Staff</td>\n",
       "            <td>6</td>\n",
       "            <td>1970-05-29 00:00:00</td>\n",
       "            <td>2004-01-02 00:00:00</td>\n",
       "            <td>590 Columbia Boulevard West</td>\n",
       "            <td>Lethbridge</td>\n",
       "            <td>AB</td>\n",
       "            <td>Canada</td>\n",
       "            <td>T1K 5N8</td>\n",
       "            <td>+1 (403) 456-9986</td>\n",
       "            <td>+1 (403) 456-8485</td>\n",
       "            <td>robert@chinookcorp.com</td>\n",
       "        </tr>\n",
       "        <tr>\n",
       "            <td>8</td>\n",
       "            <td>Callahan</td>\n",
       "            <td>Laura</td>\n",
       "            <td>IT Staff</td>\n",
       "            <td>6</td>\n",
       "            <td>1968-01-09 00:00:00</td>\n",
       "            <td>2004-03-04 00:00:00</td>\n",
       "            <td>923 7 ST NW</td>\n",
       "            <td>Lethbridge</td>\n",
       "            <td>AB</td>\n",
       "            <td>Canada</td>\n",
       "            <td>T1H 1Y8</td>\n",
       "            <td>+1 (403) 467-3351</td>\n",
       "            <td>+1 (403) 467-8772</td>\n",
       "            <td>laura@chinookcorp.com</td>\n",
       "        </tr>\n",
       "    </tbody>\n",
       "</table>"
      ],
      "text/plain": [
       "[(1, 'Adams', 'Andrew', 'General Manager', None, '1962-02-18 00:00:00', '2002-08-14 00:00:00', '11120 Jasper Ave NW', 'Edmonton', 'AB', 'Canada', 'T5K 2N1', '+1 (780) 428-9482', '+1 (780) 428-3457', 'andrew@chinookcorp.com'),\n",
       " (2, 'Edwards', 'Nancy', 'Sales Manager', 1, '1958-12-08 00:00:00', '2002-05-01 00:00:00', '825 8 Ave SW', 'Calgary', 'AB', 'Canada', 'T2P 2T3', '+1 (403) 262-3443', '+1 (403) 262-3322', 'nancy@chinookcorp.com'),\n",
       " (3, 'Peacock', 'Jane', 'Sales Support Agent', 2, '1973-08-29 00:00:00', '2002-04-01 00:00:00', '1111 6 Ave SW', 'Calgary', 'AB', 'Canada', 'T2P 5M5', '+1 (403) 262-3443', '+1 (403) 262-6712', 'jane@chinookcorp.com'),\n",
       " (4, 'Park', 'Margaret', 'Sales Support Agent', 2, '1947-09-19 00:00:00', '2003-05-03 00:00:00', '683 10 Street SW', 'Calgary', 'AB', 'Canada', 'T2P 5G3', '+1 (403) 263-4423', '+1 (403) 263-4289', 'margaret@chinookcorp.com'),\n",
       " (5, 'Johnson', 'Steve', 'Sales Support Agent', 2, '1965-03-03 00:00:00', '2003-10-17 00:00:00', '7727B 41 Ave', 'Calgary', 'AB', 'Canada', 'T3B 1Y7', '1 (780) 836-9987', '1 (780) 836-9543', 'steve@chinookcorp.com'),\n",
       " (6, 'Mitchell', 'Michael', 'IT Manager', 1, '1973-07-01 00:00:00', '2003-10-17 00:00:00', '5827 Bowness Road NW', 'Calgary', 'AB', 'Canada', 'T3B 0C5', '+1 (403) 246-9887', '+1 (403) 246-9899', 'michael@chinookcorp.com'),\n",
       " (7, 'King', 'Robert', 'IT Staff', 6, '1970-05-29 00:00:00', '2004-01-02 00:00:00', '590 Columbia Boulevard West', 'Lethbridge', 'AB', 'Canada', 'T1K 5N8', '+1 (403) 456-9986', '+1 (403) 456-8485', 'robert@chinookcorp.com'),\n",
       " (8, 'Callahan', 'Laura', 'IT Staff', 6, '1968-01-09 00:00:00', '2004-03-04 00:00:00', '923 7 ST NW', 'Lethbridge', 'AB', 'Canada', 'T1H 1Y8', '+1 (403) 467-3351', '+1 (403) 467-8772', 'laura@chinookcorp.com')]"
      ]
     },
     "execution_count": 26,
     "metadata": {},
     "output_type": "execute_result"
    }
   ],
   "source": [
    "%%sql\n",
    "SELECT *\n",
    "FROM employees\n",
    "LIMIT 10;"
   ]
  },
  {
   "cell_type": "code",
   "execution_count": 27,
   "id": "083af5ef",
   "metadata": {},
   "outputs": [
    {
     "name": "stdout",
     "output_type": "stream",
     "text": [
      " * sqlite:///chinook.db\n",
      "Done.\n"
     ]
    },
    {
     "data": {
      "text/html": [
       "<table>\n",
       "    <thead>\n",
       "        <tr>\n",
       "            <th>MediaTypeId</th>\n",
       "            <th>Name</th>\n",
       "        </tr>\n",
       "    </thead>\n",
       "    <tbody>\n",
       "        <tr>\n",
       "            <td>1</td>\n",
       "            <td>MPEG audio file</td>\n",
       "        </tr>\n",
       "        <tr>\n",
       "            <td>2</td>\n",
       "            <td>Protected AAC audio file</td>\n",
       "        </tr>\n",
       "        <tr>\n",
       "            <td>3</td>\n",
       "            <td>Protected MPEG-4 video file</td>\n",
       "        </tr>\n",
       "        <tr>\n",
       "            <td>4</td>\n",
       "            <td>Purchased AAC audio file</td>\n",
       "        </tr>\n",
       "        <tr>\n",
       "            <td>5</td>\n",
       "            <td>AAC audio file</td>\n",
       "        </tr>\n",
       "    </tbody>\n",
       "</table>"
      ],
      "text/plain": [
       "[(1, 'MPEG audio file'),\n",
       " (2, 'Protected AAC audio file'),\n",
       " (3, 'Protected MPEG-4 video file'),\n",
       " (4, 'Purchased AAC audio file'),\n",
       " (5, 'AAC audio file')]"
      ]
     },
     "execution_count": 27,
     "metadata": {},
     "output_type": "execute_result"
    }
   ],
   "source": [
    "%%sql\n",
    "SELECT *\n",
    "FROM media_types\n",
    "LIMIT 10"
   ]
  },
  {
   "cell_type": "code",
   "execution_count": 28,
   "id": "1120df4c",
   "metadata": {
    "scrolled": true
   },
   "outputs": [
    {
     "name": "stdout",
     "output_type": "stream",
     "text": [
      " * sqlite:///chinook.db\n",
      "Done.\n"
     ]
    },
    {
     "data": {
      "text/html": [
       "<table>\n",
       "    <thead>\n",
       "        <tr>\n",
       "            <th>PlaylistId</th>\n",
       "            <th>Name</th>\n",
       "        </tr>\n",
       "    </thead>\n",
       "    <tbody>\n",
       "        <tr>\n",
       "            <td>1</td>\n",
       "            <td>Music</td>\n",
       "        </tr>\n",
       "        <tr>\n",
       "            <td>2</td>\n",
       "            <td>Movies</td>\n",
       "        </tr>\n",
       "        <tr>\n",
       "            <td>3</td>\n",
       "            <td>TV Shows</td>\n",
       "        </tr>\n",
       "        <tr>\n",
       "            <td>4</td>\n",
       "            <td>Audiobooks</td>\n",
       "        </tr>\n",
       "        <tr>\n",
       "            <td>5</td>\n",
       "            <td>90’s Music</td>\n",
       "        </tr>\n",
       "        <tr>\n",
       "            <td>6</td>\n",
       "            <td>Audiobooks</td>\n",
       "        </tr>\n",
       "        <tr>\n",
       "            <td>7</td>\n",
       "            <td>Movies</td>\n",
       "        </tr>\n",
       "        <tr>\n",
       "            <td>8</td>\n",
       "            <td>Music</td>\n",
       "        </tr>\n",
       "        <tr>\n",
       "            <td>9</td>\n",
       "            <td>Music Videos</td>\n",
       "        </tr>\n",
       "        <tr>\n",
       "            <td>10</td>\n",
       "            <td>TV Shows</td>\n",
       "        </tr>\n",
       "    </tbody>\n",
       "</table>"
      ],
      "text/plain": [
       "[(1, 'Music'),\n",
       " (2, 'Movies'),\n",
       " (3, 'TV Shows'),\n",
       " (4, 'Audiobooks'),\n",
       " (5, '90’s Music'),\n",
       " (6, 'Audiobooks'),\n",
       " (7, 'Movies'),\n",
       " (8, 'Music'),\n",
       " (9, 'Music Videos'),\n",
       " (10, 'TV Shows')]"
      ]
     },
     "execution_count": 28,
     "metadata": {},
     "output_type": "execute_result"
    }
   ],
   "source": [
    "%%sql\n",
    "SELECT *\n",
    "FROM playlists\n",
    "LIMIT 10"
   ]
  },
  {
   "cell_type": "code",
   "execution_count": 29,
   "id": "637bbd6c",
   "metadata": {},
   "outputs": [
    {
     "name": "stdout",
     "output_type": "stream",
     "text": [
      " * sqlite:///chinook.db\n",
      "Done.\n"
     ]
    },
    {
     "data": {
      "text/html": [
       "<table>\n",
       "    <thead>\n",
       "        <tr>\n",
       "            <th>AlbumId</th>\n",
       "            <th>Title</th>\n",
       "            <th>ArtistId</th>\n",
       "        </tr>\n",
       "    </thead>\n",
       "    <tbody>\n",
       "        <tr>\n",
       "            <td>1</td>\n",
       "            <td>For Those About To Rock We Salute You</td>\n",
       "            <td>1</td>\n",
       "        </tr>\n",
       "        <tr>\n",
       "            <td>2</td>\n",
       "            <td>Balls to the Wall</td>\n",
       "            <td>2</td>\n",
       "        </tr>\n",
       "        <tr>\n",
       "            <td>3</td>\n",
       "            <td>Restless and Wild</td>\n",
       "            <td>2</td>\n",
       "        </tr>\n",
       "        <tr>\n",
       "            <td>4</td>\n",
       "            <td>Let There Be Rock</td>\n",
       "            <td>1</td>\n",
       "        </tr>\n",
       "        <tr>\n",
       "            <td>5</td>\n",
       "            <td>Big Ones</td>\n",
       "            <td>3</td>\n",
       "        </tr>\n",
       "        <tr>\n",
       "            <td>6</td>\n",
       "            <td>Jagged Little Pill</td>\n",
       "            <td>4</td>\n",
       "        </tr>\n",
       "        <tr>\n",
       "            <td>7</td>\n",
       "            <td>Facelift</td>\n",
       "            <td>5</td>\n",
       "        </tr>\n",
       "        <tr>\n",
       "            <td>8</td>\n",
       "            <td>Warner 25 Anos</td>\n",
       "            <td>6</td>\n",
       "        </tr>\n",
       "        <tr>\n",
       "            <td>9</td>\n",
       "            <td>Plays Metallica By Four Cellos</td>\n",
       "            <td>7</td>\n",
       "        </tr>\n",
       "        <tr>\n",
       "            <td>10</td>\n",
       "            <td>Audioslave</td>\n",
       "            <td>8</td>\n",
       "        </tr>\n",
       "    </tbody>\n",
       "</table>"
      ],
      "text/plain": [
       "[(1, 'For Those About To Rock We Salute You', 1),\n",
       " (2, 'Balls to the Wall', 2),\n",
       " (3, 'Restless and Wild', 2),\n",
       " (4, 'Let There Be Rock', 1),\n",
       " (5, 'Big Ones', 3),\n",
       " (6, 'Jagged Little Pill', 4),\n",
       " (7, 'Facelift', 5),\n",
       " (8, 'Warner 25 Anos', 6),\n",
       " (9, 'Plays Metallica By Four Cellos', 7),\n",
       " (10, 'Audioslave', 8)]"
      ]
     },
     "execution_count": 29,
     "metadata": {},
     "output_type": "execute_result"
    }
   ],
   "source": [
    "%%sql\n",
    "SELECT *\n",
    "FROM albums\n",
    "LIMIT 10;"
   ]
  },
  {
   "cell_type": "code",
   "execution_count": 30,
   "id": "4d70f412",
   "metadata": {},
   "outputs": [
    {
     "name": "stdout",
     "output_type": "stream",
     "text": [
      " * sqlite:///chinook.db\n",
      "Done.\n"
     ]
    },
    {
     "data": {
      "text/html": [
       "<table>\n",
       "    <thead>\n",
       "        <tr>\n",
       "            <th>ArtistId</th>\n",
       "            <th>Name</th>\n",
       "        </tr>\n",
       "    </thead>\n",
       "    <tbody>\n",
       "        <tr>\n",
       "            <td>1</td>\n",
       "            <td>AC/DC</td>\n",
       "        </tr>\n",
       "        <tr>\n",
       "            <td>2</td>\n",
       "            <td>Accept</td>\n",
       "        </tr>\n",
       "        <tr>\n",
       "            <td>3</td>\n",
       "            <td>Aerosmith</td>\n",
       "        </tr>\n",
       "        <tr>\n",
       "            <td>4</td>\n",
       "            <td>Alanis Morissette</td>\n",
       "        </tr>\n",
       "        <tr>\n",
       "            <td>5</td>\n",
       "            <td>Alice In Chains</td>\n",
       "        </tr>\n",
       "        <tr>\n",
       "            <td>6</td>\n",
       "            <td>Antônio Carlos Jobim</td>\n",
       "        </tr>\n",
       "        <tr>\n",
       "            <td>7</td>\n",
       "            <td>Apocalyptica</td>\n",
       "        </tr>\n",
       "        <tr>\n",
       "            <td>8</td>\n",
       "            <td>Audioslave</td>\n",
       "        </tr>\n",
       "        <tr>\n",
       "            <td>9</td>\n",
       "            <td>BackBeat</td>\n",
       "        </tr>\n",
       "        <tr>\n",
       "            <td>10</td>\n",
       "            <td>Billy Cobham</td>\n",
       "        </tr>\n",
       "    </tbody>\n",
       "</table>"
      ],
      "text/plain": [
       "[(1, 'AC/DC'),\n",
       " (2, 'Accept'),\n",
       " (3, 'Aerosmith'),\n",
       " (4, 'Alanis Morissette'),\n",
       " (5, 'Alice In Chains'),\n",
       " (6, 'Antônio Carlos Jobim'),\n",
       " (7, 'Apocalyptica'),\n",
       " (8, 'Audioslave'),\n",
       " (9, 'BackBeat'),\n",
       " (10, 'Billy Cobham')]"
      ]
     },
     "execution_count": 30,
     "metadata": {},
     "output_type": "execute_result"
    }
   ],
   "source": [
    "%%sql\n",
    "SELECT *\n",
    "FROM artists\n",
    "LIMIT 10;"
   ]
  },
  {
   "cell_type": "markdown",
   "id": "d5300f93",
   "metadata": {},
   "source": [
    "### What if I want specific columns in my table?"
   ]
  },
  {
   "cell_type": "code",
   "execution_count": 31,
   "id": "b2932f8f",
   "metadata": {},
   "outputs": [
    {
     "name": "stdout",
     "output_type": "stream",
     "text": [
      " * sqlite:///chinook.db\n",
      "Done.\n"
     ]
    },
    {
     "data": {
      "text/html": [
       "<table>\n",
       "    <thead>\n",
       "        <tr>\n",
       "            <th>FirstName</th>\n",
       "            <th>LastName</th>\n",
       "            <th>Company</th>\n",
       "            <th>Country</th>\n",
       "            <th>Phone</th>\n",
       "        </tr>\n",
       "    </thead>\n",
       "    <tbody>\n",
       "        <tr>\n",
       "            <td>Luís</td>\n",
       "            <td>Gonçalves</td>\n",
       "            <td>Embraer - Empresa Brasileira de Aeronáutica S.A.</td>\n",
       "            <td>Brazil</td>\n",
       "            <td>+55 (12) 3923-5555</td>\n",
       "        </tr>\n",
       "        <tr>\n",
       "            <td>Leonie</td>\n",
       "            <td>Köhler</td>\n",
       "            <td>None</td>\n",
       "            <td>Germany</td>\n",
       "            <td>+49 0711 2842222</td>\n",
       "        </tr>\n",
       "        <tr>\n",
       "            <td>François</td>\n",
       "            <td>Tremblay</td>\n",
       "            <td>None</td>\n",
       "            <td>Canada</td>\n",
       "            <td>+1 (514) 721-4711</td>\n",
       "        </tr>\n",
       "        <tr>\n",
       "            <td>Bjørn</td>\n",
       "            <td>Hansen</td>\n",
       "            <td>None</td>\n",
       "            <td>Norway</td>\n",
       "            <td>+47 22 44 22 22</td>\n",
       "        </tr>\n",
       "        <tr>\n",
       "            <td>František</td>\n",
       "            <td>Wichterlová</td>\n",
       "            <td>JetBrains s.r.o.</td>\n",
       "            <td>Czech Republic</td>\n",
       "            <td>+420 2 4172 5555</td>\n",
       "        </tr>\n",
       "        <tr>\n",
       "            <td>Helena</td>\n",
       "            <td>Holý</td>\n",
       "            <td>None</td>\n",
       "            <td>Czech Republic</td>\n",
       "            <td>+420 2 4177 0449</td>\n",
       "        </tr>\n",
       "        <tr>\n",
       "            <td>Astrid</td>\n",
       "            <td>Gruber</td>\n",
       "            <td>None</td>\n",
       "            <td>Austria</td>\n",
       "            <td>+43 01 5134505</td>\n",
       "        </tr>\n",
       "        <tr>\n",
       "            <td>Daan</td>\n",
       "            <td>Peeters</td>\n",
       "            <td>None</td>\n",
       "            <td>Belgium</td>\n",
       "            <td>+32 02 219 03 03</td>\n",
       "        </tr>\n",
       "        <tr>\n",
       "            <td>Kara</td>\n",
       "            <td>Nielsen</td>\n",
       "            <td>None</td>\n",
       "            <td>Denmark</td>\n",
       "            <td>+453 3331 9991</td>\n",
       "        </tr>\n",
       "        <tr>\n",
       "            <td>Eduardo</td>\n",
       "            <td>Martins</td>\n",
       "            <td>Woodstock Discos</td>\n",
       "            <td>Brazil</td>\n",
       "            <td>+55 (11) 3033-5446</td>\n",
       "        </tr>\n",
       "    </tbody>\n",
       "</table>"
      ],
      "text/plain": [
       "[('Luís', 'Gonçalves', 'Embraer - Empresa Brasileira de Aeronáutica S.A.', 'Brazil', '+55 (12) 3923-5555'),\n",
       " ('Leonie', 'Köhler', None, 'Germany', '+49 0711 2842222'),\n",
       " ('François', 'Tremblay', None, 'Canada', '+1 (514) 721-4711'),\n",
       " ('Bjørn', 'Hansen', None, 'Norway', '+47 22 44 22 22'),\n",
       " ('František', 'Wichterlová', 'JetBrains s.r.o.', 'Czech Republic', '+420 2 4172 5555'),\n",
       " ('Helena', 'Holý', None, 'Czech Republic', '+420 2 4177 0449'),\n",
       " ('Astrid', 'Gruber', None, 'Austria', '+43 01 5134505'),\n",
       " ('Daan', 'Peeters', None, 'Belgium', '+32 02 219 03 03'),\n",
       " ('Kara', 'Nielsen', None, 'Denmark', '+453 3331 9991'),\n",
       " ('Eduardo', 'Martins', 'Woodstock Discos', 'Brazil', '+55 (11) 3033-5446')]"
      ]
     },
     "execution_count": 31,
     "metadata": {},
     "output_type": "execute_result"
    }
   ],
   "source": [
    "%%sql\n",
    "SELECT FirstName, LastName, Company, Country, Phone\n",
    "FROM Customers \n",
    "LIMIT 10;"
   ]
  },
  {
   "cell_type": "markdown",
   "id": "a018c83c",
   "metadata": {},
   "source": [
    "---\n",
    "### 3.2. The WHERE clause"
   ]
  },
  {
   "attachments": {
    "laughing%20wolves.jpeg": {
     "image/jpeg": "[encoded data removed]"
    }
   },
   "cell_type": "markdown",
   "id": "d2a1d22c",
   "metadata": {},
   "source": [
    "![laughing%20wolves.jpeg](attachment:laughing%20wolves.jpeg)"
   ]
  },
  {
   "cell_type": "markdown",
   "id": "cab1ed35",
   "metadata": {},
   "source": [
    "- The `WHERE` clause is used to **filter** records.\n",
    "\n",
    "- It is used to extract only those records that fulfill a specified condition.\n",
    "\n",
    "- It will return only the rows of data for which the **boolean expression** evaluates to true. Boolean expressions can be created using standard boolean operators:\n",
    "\n",
    "- `=`  - equal to\n",
    "\n",
    "- `!=`  - not equal to (also `<>`)\n",
    "\n",
    "- `<`  - less than\n",
    "\n",
    "- `<=`  - less than or equal to\n",
    "\n",
    "- `>`  - greater than\n",
    "\n",
    "- `>=` - greater than or equal to"
   ]
  },
  {
   "cell_type": "markdown",
   "id": "bd8d8e97",
   "metadata": {},
   "source": [
    "Multiple boolean expressions can be combined using the keywords `AND`, `OR`, and `NOT`."
   ]
  },
  {
   "cell_type": "markdown",
   "id": "9df4609e",
   "metadata": {},
   "source": [
    "```python\n",
    "%%sql\n",
    "SELECT Title, FirstName, LastName\n",
    "FROM employees\n",
    "**WHERE [condition]** \n",
    "LIMIT 5;\n",
    "```"
   ]
  },
  {
   "cell_type": "code",
   "execution_count": 32,
   "id": "489995ea",
   "metadata": {},
   "outputs": [
    {
     "name": "stdout",
     "output_type": "stream",
     "text": [
      " * sqlite:///chinook.db\n",
      "Done.\n"
     ]
    },
    {
     "data": {
      "text/html": [
       "<table>\n",
       "    <thead>\n",
       "        <tr>\n",
       "            <th>Title</th>\n",
       "            <th>FirstName</th>\n",
       "            <th>LastName</th>\n",
       "        </tr>\n",
       "    </thead>\n",
       "    <tbody>\n",
       "        <tr>\n",
       "            <td>General Manager</td>\n",
       "            <td>Andrew</td>\n",
       "            <td>Adams</td>\n",
       "        </tr>\n",
       "        <tr>\n",
       "            <td>Sales Manager</td>\n",
       "            <td>Nancy</td>\n",
       "            <td>Edwards</td>\n",
       "        </tr>\n",
       "        <tr>\n",
       "            <td>Sales Support Agent</td>\n",
       "            <td>Jane</td>\n",
       "            <td>Peacock</td>\n",
       "        </tr>\n",
       "        <tr>\n",
       "            <td>Sales Support Agent</td>\n",
       "            <td>Margaret</td>\n",
       "            <td>Park</td>\n",
       "        </tr>\n",
       "        <tr>\n",
       "            <td>Sales Support Agent</td>\n",
       "            <td>Steve</td>\n",
       "            <td>Johnson</td>\n",
       "        </tr>\n",
       "        <tr>\n",
       "            <td>IT Manager</td>\n",
       "            <td>Michael</td>\n",
       "            <td>Mitchell</td>\n",
       "        </tr>\n",
       "        <tr>\n",
       "            <td>IT Staff</td>\n",
       "            <td>Robert</td>\n",
       "            <td>King</td>\n",
       "        </tr>\n",
       "        <tr>\n",
       "            <td>IT Staff</td>\n",
       "            <td>Laura</td>\n",
       "            <td>Callahan</td>\n",
       "        </tr>\n",
       "    </tbody>\n",
       "</table>"
      ],
      "text/plain": [
       "[('General Manager', 'Andrew', 'Adams'),\n",
       " ('Sales Manager', 'Nancy', 'Edwards'),\n",
       " ('Sales Support Agent', 'Jane', 'Peacock'),\n",
       " ('Sales Support Agent', 'Margaret', 'Park'),\n",
       " ('Sales Support Agent', 'Steve', 'Johnson'),\n",
       " ('IT Manager', 'Michael', 'Mitchell'),\n",
       " ('IT Staff', 'Robert', 'King'),\n",
       " ('IT Staff', 'Laura', 'Callahan')]"
      ]
     },
     "execution_count": 32,
     "metadata": {},
     "output_type": "execute_result"
    }
   ],
   "source": [
    "%%sql\n",
    "SELECT Title, FirstName, LastName\n",
    "FROM employees"
   ]
  },
  {
   "cell_type": "code",
   "execution_count": 33,
   "id": "8a2fc27f",
   "metadata": {},
   "outputs": [
    {
     "name": "stdout",
     "output_type": "stream",
     "text": [
      " * sqlite:///chinook.db\n",
      "Done.\n"
     ]
    },
    {
     "data": {
      "text/html": [
       "<table>\n",
       "    <thead>\n",
       "        <tr>\n",
       "            <th>Title</th>\n",
       "            <th>FirstName</th>\n",
       "            <th>LastName</th>\n",
       "        </tr>\n",
       "    </thead>\n",
       "    <tbody>\n",
       "        <tr>\n",
       "            <td>General Manager</td>\n",
       "            <td>Andrew</td>\n",
       "            <td>Adams</td>\n",
       "        </tr>\n",
       "    </tbody>\n",
       "</table>"
      ],
      "text/plain": [
       "[('General Manager', 'Andrew', 'Adams')]"
      ]
     },
     "execution_count": 33,
     "metadata": {},
     "output_type": "execute_result"
    }
   ],
   "source": [
    "%%sql\n",
    "SELECT Title, FirstName, LastName\n",
    "FROM employees\n",
    "WHERE Title = 'General Manager'\n",
    "LIMIT 5;"
   ]
  },
  {
   "cell_type": "markdown",
   "id": "0a26152b",
   "metadata": {},
   "source": [
    "---\n",
    "### 3.4. Filtering data using multiple conditions"
   ]
  },
  {
   "cell_type": "code",
   "execution_count": 34,
   "id": "1b7e0d12",
   "metadata": {},
   "outputs": [
    {
     "name": "stdout",
     "output_type": "stream",
     "text": [
      " * sqlite:///chinook.db\n",
      "Done.\n"
     ]
    },
    {
     "data": {
      "text/html": [
       "<table>\n",
       "    <thead>\n",
       "        <tr>\n",
       "            <th>Title</th>\n",
       "            <th>FirstName</th>\n",
       "            <th>LastName</th>\n",
       "        </tr>\n",
       "    </thead>\n",
       "    <tbody>\n",
       "        <tr>\n",
       "            <td>Sales Support Agent</td>\n",
       "            <td>Margaret</td>\n",
       "            <td>Park</td>\n",
       "        </tr>\n",
       "    </tbody>\n",
       "</table>"
      ],
      "text/plain": [
       "[('Sales Support Agent', 'Margaret', 'Park')]"
      ]
     },
     "execution_count": 34,
     "metadata": {},
     "output_type": "execute_result"
    }
   ],
   "source": [
    "%%sql\n",
    "SELECT Title, FirstName, LastName\n",
    "FROM employees\n",
    "WHERE Title = 'Sales Support Agent'\n",
    "AND FirstName = 'Margaret'\n",
    "LIMIT 5;"
   ]
  },
  {
   "cell_type": "code",
   "execution_count": 35,
   "id": "6ac6103f",
   "metadata": {},
   "outputs": [
    {
     "name": "stdout",
     "output_type": "stream",
     "text": [
      " * sqlite:///chinook.db\n",
      "Done.\n"
     ]
    },
    {
     "data": {
      "text/html": [
       "<table>\n",
       "    <thead>\n",
       "        <tr>\n",
       "            <th>Title</th>\n",
       "            <th>FirstName</th>\n",
       "            <th>LastName</th>\n",
       "        </tr>\n",
       "    </thead>\n",
       "    <tbody>\n",
       "        <tr>\n",
       "            <td>General Manager</td>\n",
       "            <td>Andrew</td>\n",
       "            <td>Adams</td>\n",
       "        </tr>\n",
       "        <tr>\n",
       "            <td>Sales Manager</td>\n",
       "            <td>Nancy</td>\n",
       "            <td>Edwards</td>\n",
       "        </tr>\n",
       "    </tbody>\n",
       "</table>"
      ],
      "text/plain": [
       "[('General Manager', 'Andrew', 'Adams'), ('Sales Manager', 'Nancy', 'Edwards')]"
      ]
     },
     "execution_count": 35,
     "metadata": {},
     "output_type": "execute_result"
    }
   ],
   "source": [
    "%%sql\n",
    "SELECT Title, FirstName, LastName\n",
    "FROM employees\n",
    "WHERE Title = 'General Manager' \n",
    "OR Title = 'Sales Manager'\n",
    "LIMIT 5;"
   ]
  },
  {
   "cell_type": "markdown",
   "id": "3571f2fe",
   "metadata": {},
   "source": [
    "![picture](https://ak.picdn.net/shutterstock/videos/1299178/thumb/1.jpg?i10c=img.resize(height:240))"
   ]
  },
  {
   "cell_type": "markdown",
   "id": "67413c0a",
   "metadata": {},
   "source": [
    "---"
   ]
  }
 ],
 "metadata": {
  "kernelspec": {
   "display_name": "Python 3 (ipykernel)",
   "language": "python",
   "name": "python3"
  },
  "language_info": {
   "codemirror_mode": {
    "name": "ipython",
    "version": 3
   },
   "file_extension": ".py",
   "mimetype": "text/x-python",
   "name": "python",
   "nbconvert_exporter": "python",
   "pygments_lexer": "ipython3",
   "version": "3.9.7"
  }
 },
 "nbformat": 4,
 "nbformat_minor": 5
}
