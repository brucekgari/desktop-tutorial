{
 "cells": [
  {
   "cell_type": "markdown",
   "id": "5e85e44f",
   "metadata": {},
   "source": [
    "# Views & Introduction to Normalisation\n",
    "\n",
    "### In today's webinar:\n",
    "\n",
    "- Views - what are they and why do we use them?\n",
    "- Views vs CTEs\n",
    "- View types and examples\n",
    "- What is normalisation?\n",
    "- Normal forms and examples"
   ]
  },
  {
   "cell_type": "markdown",
   "id": "b2b686b2",
   "metadata": {},
   "source": [
    "---"
   ]
  },
  {
   "cell_type": "markdown",
   "id": "f36a1b03",
   "metadata": {},
   "source": [
    "# Views\n",
    "### What are they?\n",
    "\n",
    "Views are a kind of 'virtual table'. Imagine you have a huge database, with many, many tables in it that hold all kinds of different information. Maybe this data even ranges over several decades. This is a lot of information, a lot of which may not even be important to us or the task we are trying to complete, and sometimes querying it can be complicated.\n",
    "\n",
    "Views allow us to create a sort of 'snapshot' of the data, just the parts that we need, giving us something reusable and easier to use. \n",
    "\n",
    "Views do not take up any physical storage - the resulting table from our view is not what is stored, but rather the query that is used to create the view is what is stored. The view is stored in memory (takes up memory space, not storage space)\n",
    "\n",
    "\n",
    "### Why do we use them?\n",
    "- Reduce complexity\n",
    "- Security reasons\n",
    "\n",
    "### Views vs CTEs\n",
    "- We looked last webinar at CTEs. They seem pretty similar...but what's the difference?\n",
    "- Both CTEs and views can be used to optimise our queries\n",
    "- CTEs are **temporary results** - we create them in a query, and they are valid for that query only. We can't reuse them in the next query.\n",
    "- Views, on the other hand, **can** be reused in subsequent queries. The view query (not the resulting table) is stored in memory.\n",
    "\n",
    "### Basic view query structure\n",
    "\n",
    "``` sql\n",
    "CREATE VIEW ViewName AS\n",
    "SELECT columnnames\n",
    "FROM tablename;\n",
    "```\n",
    "\n",
    "### Types of view\n",
    "\n",
    "#### 1. Look Up View\n",
    "- Used to select certain columns from a single table. \n",
    "    - but we can always do this with a simple SELECT-FROM query, what's the point?\n",
    "    - You might have a table that has tens of columns, and you need a subset of, say, 15 - typing out all 15 columns every single time is inefficient, and a lookup view makes this process a lot easier\n",
    "\n",
    "\n",
    "#### 2. Join View\n",
    "- Used to display selected columns from multiple tables at once, using JOIN statements\n",
    "\n",
    "#### 3. Aggregating View\n",
    "- Used to select certain columns from a table, but also makes use of summary metrics (average, sum, max/min, etc.) to create an additional column/columns in the resulting table that aggregates the data as needed.\n",
    "\n",
    "\n",
    "### I made a view, but I made it wrong! What do I do?\n",
    "- Not to worry! If you made your view incorrectly, you can use the `DROP` statement to drop a view\n",
    "- If you need to edit your view, make sure to DROP it before re-running it's creation, or you'll run into an error\n",
    "\n",
    "```sql\n",
    "DROP VIEW viewname\n",
    "```"
   ]
  },
  {
   "cell_type": "code",
   "execution_count": 16,
   "id": "1d6a34a1",
   "metadata": {},
   "outputs": [
    {
     "name": "stdout",
     "output_type": "stream",
     "text": [
      "The sql extension is already loaded. To reload it, use:\n",
      "  %reload_ext sql\n"
     ]
    }
   ],
   "source": [
    "#Load the SQL extension to use magic commands.\n",
    "%load_ext sql"
   ]
  },
  {
   "cell_type": "code",
   "execution_count": 17,
   "id": "05675684",
   "metadata": {},
   "outputs": [],
   "source": [
    "# Load SQLite database\n",
    "%sql sqlite:///chinook.db"
   ]
  },
  {
   "cell_type": "code",
   "execution_count": 19,
   "id": "400efc2a",
   "metadata": {},
   "outputs": [
    {
     "name": "stdout",
     "output_type": "stream",
     "text": [
      " * sqlite:///chinook.db\n",
      "Done.\n"
     ]
    },
    {
     "data": {
      "text/html": [
       "<table>\n",
       "    <tr>\n",
       "        <th>name</th>\n",
       "    </tr>\n",
       "    <tr>\n",
       "        <td>albums</td>\n",
       "    </tr>\n",
       "    <tr>\n",
       "        <td>artists</td>\n",
       "    </tr>\n",
       "    <tr>\n",
       "        <td>customers</td>\n",
       "    </tr>\n",
       "    <tr>\n",
       "        <td>employees</td>\n",
       "    </tr>\n",
       "    <tr>\n",
       "        <td>genres</td>\n",
       "    </tr>\n",
       "    <tr>\n",
       "        <td>invoice_items</td>\n",
       "    </tr>\n",
       "    <tr>\n",
       "        <td>invoices</td>\n",
       "    </tr>\n",
       "    <tr>\n",
       "        <td>media_types</td>\n",
       "    </tr>\n",
       "    <tr>\n",
       "        <td>playlist_track</td>\n",
       "    </tr>\n",
       "    <tr>\n",
       "        <td>playlists</td>\n",
       "    </tr>\n",
       "    <tr>\n",
       "        <td>tracks</td>\n",
       "    </tr>\n",
       "</table>"
      ],
      "text/plain": [
       "[('albums',),\n",
       " ('artists',),\n",
       " ('customers',),\n",
       " ('employees',),\n",
       " ('genres',),\n",
       " ('invoice_items',),\n",
       " ('invoices',),\n",
       " ('media_types',),\n",
       " ('playlist_track',),\n",
       " ('playlists',),\n",
       " ('tracks',)]"
      ]
     },
     "execution_count": 19,
     "metadata": {},
     "output_type": "execute_result"
    }
   ],
   "source": [
    "%%sql\n",
    "\n",
    "SELECT name FROM sqlite_master WHERE type IN ('table','view') AND name NOT LIKE 'sqlite_%' ORDER BY 1"
   ]
  },
  {
   "cell_type": "code",
   "execution_count": 24,
   "id": "f9e52b67",
   "metadata": {},
   "outputs": [
    {
     "name": "stdout",
     "output_type": "stream",
     "text": [
      " * sqlite:///chinook.db\n",
      "Done.\n"
     ]
    },
    {
     "data": {
      "text/plain": [
       "[]"
      ]
     },
     "execution_count": 24,
     "metadata": {},
     "output_type": "execute_result"
    }
   ],
   "source": [
    "%%sql\n",
    "CREATE VIEW Albums_View AS\n",
    "SELECT Title AS Album_Title, Name AS Artist\n",
    "FROM Albums\n",
    "INNER JOIN Artists\n",
    "    ON Albums.ArtistId = Artists.ArtistId"
   ]
  },
  {
   "cell_type": "code",
   "execution_count": 25,
   "id": "65c05aab",
   "metadata": {},
   "outputs": [
    {
     "name": "stdout",
     "output_type": "stream",
     "text": [
      " * sqlite:///chinook.db\n",
      "Done.\n"
     ]
    },
    {
     "data": {
      "text/html": [
       "<table>\n",
       "    <tr>\n",
       "        <th>Album_Title</th>\n",
       "        <th>Artist</th>\n",
       "    </tr>\n",
       "    <tr>\n",
       "        <td>For Those About To Rock We Salute You</td>\n",
       "        <td>AC/DC</td>\n",
       "    </tr>\n",
       "    <tr>\n",
       "        <td>Balls to the Wall</td>\n",
       "        <td>Accept</td>\n",
       "    </tr>\n",
       "    <tr>\n",
       "        <td>Restless and Wild</td>\n",
       "        <td>Accept</td>\n",
       "    </tr>\n",
       "    <tr>\n",
       "        <td>Let There Be Rock</td>\n",
       "        <td>AC/DC</td>\n",
       "    </tr>\n",
       "    <tr>\n",
       "        <td>Big Ones</td>\n",
       "        <td>Aerosmith</td>\n",
       "    </tr>\n",
       "</table>"
      ],
      "text/plain": [
       "[('For Those About To Rock We Salute You', 'AC/DC'),\n",
       " ('Balls to the Wall', 'Accept'),\n",
       " ('Restless and Wild', 'Accept'),\n",
       " ('Let There Be Rock', 'AC/DC'),\n",
       " ('Big Ones', 'Aerosmith')]"
      ]
     },
     "execution_count": 25,
     "metadata": {},
     "output_type": "execute_result"
    }
   ],
   "source": [
    "%%sql\n",
    "SELECT *\n",
    "FROM Albums_View\n",
    "LIMIT 5;"
   ]
  },
  {
   "cell_type": "code",
   "execution_count": 23,
   "id": "368116ff",
   "metadata": {},
   "outputs": [
    {
     "name": "stdout",
     "output_type": "stream",
     "text": [
      " * sqlite:///chinook.db\n",
      "Done.\n"
     ]
    },
    {
     "data": {
      "text/plain": [
       "[]"
      ]
     },
     "execution_count": 23,
     "metadata": {},
     "output_type": "execute_result"
    }
   ],
   "source": [
    "%%sql\n",
    "DROP VIEW Albums_View"
   ]
  },
  {
   "cell_type": "code",
   "execution_count": 27,
   "id": "c9aeaba9",
   "metadata": {},
   "outputs": [
    {
     "name": "stdout",
     "output_type": "stream",
     "text": [
      " * sqlite:///chinook.db\n",
      "Done.\n"
     ]
    },
    {
     "data": {
      "text/html": [
       "<table>\n",
       "    <tr>\n",
       "        <th>name</th>\n",
       "        <th>type</th>\n",
       "    </tr>\n",
       "    <tr>\n",
       "        <td>Albums_View</td>\n",
       "        <td>view</td>\n",
       "    </tr>\n",
       "    <tr>\n",
       "        <td>albums</td>\n",
       "        <td>table</td>\n",
       "    </tr>\n",
       "    <tr>\n",
       "        <td>artists</td>\n",
       "        <td>table</td>\n",
       "    </tr>\n",
       "    <tr>\n",
       "        <td>customers</td>\n",
       "        <td>table</td>\n",
       "    </tr>\n",
       "    <tr>\n",
       "        <td>employees</td>\n",
       "        <td>table</td>\n",
       "    </tr>\n",
       "    <tr>\n",
       "        <td>genres</td>\n",
       "        <td>table</td>\n",
       "    </tr>\n",
       "    <tr>\n",
       "        <td>invoice_items</td>\n",
       "        <td>table</td>\n",
       "    </tr>\n",
       "    <tr>\n",
       "        <td>invoices</td>\n",
       "        <td>table</td>\n",
       "    </tr>\n",
       "    <tr>\n",
       "        <td>media_types</td>\n",
       "        <td>table</td>\n",
       "    </tr>\n",
       "    <tr>\n",
       "        <td>playlist_track</td>\n",
       "        <td>table</td>\n",
       "    </tr>\n",
       "    <tr>\n",
       "        <td>playlists</td>\n",
       "        <td>table</td>\n",
       "    </tr>\n",
       "    <tr>\n",
       "        <td>tracks</td>\n",
       "        <td>table</td>\n",
       "    </tr>\n",
       "</table>"
      ],
      "text/plain": [
       "[('Albums_View', 'view'),\n",
       " ('albums', 'table'),\n",
       " ('artists', 'table'),\n",
       " ('customers', 'table'),\n",
       " ('employees', 'table'),\n",
       " ('genres', 'table'),\n",
       " ('invoice_items', 'table'),\n",
       " ('invoices', 'table'),\n",
       " ('media_types', 'table'),\n",
       " ('playlist_track', 'table'),\n",
       " ('playlists', 'table'),\n",
       " ('tracks', 'table')]"
      ]
     },
     "execution_count": 27,
     "metadata": {},
     "output_type": "execute_result"
    }
   ],
   "source": [
    "%%sql\n",
    "\n",
    "SELECT name, type FROM sqlite_master WHERE type IN ('table','view') AND name NOT LIKE 'sqlite_%' ORDER BY 1"
   ]
  },
  {
   "cell_type": "markdown",
   "id": "de3ae876",
   "metadata": {},
   "source": [
    "---"
   ]
  },
  {
   "cell_type": "markdown",
   "id": "00a65294",
   "metadata": {},
   "source": [
    "# Normalisation\n",
    "\n",
    "- If you were working with a very large database, with many tables and an extensive amount of data, you'd want it to be organised in some way, right?\n",
    "   - Normalisation is the process of doing this.\n",
    "   - Normalisation is a technique used to reduce redundancies, improve data integrity, improve storage efficiency, and reduce the need to re-design the database if new data is introduced\n",
    "   - It removes inconsistencies, and removes unnecessary duplication of data that takes up storage space\n",
    "- Normalisation works up from Unnormalised > 1NF > 2NF > 3NF > 4NF onwards\n",
    "    - You have to meet the requirements of a particular normal form before moving up a level!\n",
    "\n",
    "# Normal forms\n",
    "\n",
    "[Example source](https://www.freecodecamp.org/news/database-normalization-1nf-2nf-3nf-table-examples/)\n",
    "\n",
    "### Unnormalised database\n",
    "This is the most basic form of a database. You might have a database that meets some requirements of the normal forms, but not all/not consistently. From an unnormalised database, we can work towards getting it into First Normal Form (1NF):\n",
    "\n",
    "### 1NF\n",
    "For a table to be in 1NF, it needs to have **no repeating groups**. Cells should not hold more than one piece of information. For example:\n",
    "\n",
    "|EMPLOYEE_ID | NAME|\tJOB_CODE|\tJOB\t|PROVINCE_CODE|\tHOME_PROVINCE |\n",
    "| --- | --- | --- | --- | --- | --- |\n",
    "|E001|\tAlice|\tJ01, J02\t|Chef, Waiter|\t26\t|Gauteng|\n",
    "|E002|\tBob\t|J02, J03|\tWaiter, Bartender|\t56\t|Western Cape|\n",
    "|E003|\tAlice|\tJ01|\tChef\t|56|\tWestern Cape|\n",
    "\n",
    "\n",
    "\n",
    "A table like the above has more than one piece of information in cells in the 'Job Code' and 'Job' column. In order to resolve this, we ensure that each cell has only one value:\n",
    "\n",
    "| EMPLOYEE_ID|\tNAME|\tJOB_CODE|\tJOB|\tPROVINCE_CODE|\tHOME_PROVINCE|\n",
    "| --- | --- | --- | --- | --- | --- |\n",
    "|E001|\tAlice|\tJ01|\tChef|\t26\t|Gauteng|\n",
    "|E001|\tAlice|\tJ02|\tWaiter|\t26\t|Gauteng|\n",
    "|E002|\tBob|\tJ02|\tWaiter|\t56\t|Western Cape|\n",
    "|E002|\tBob|\tJ03|\tBartender|\t56|\tWestern Cape|\n",
    "|E003|\tAlice|\tJ01|\tChef\t|56|\tWestern Cape|\n",
    "\n",
    "\n",
    "### 2NF\n",
    "\n",
    "A table is in 2NF if it contains no repeating groups (**i.e. is already in 1NF**) and no *partial functional dependencies*.\n",
    "\n",
    "To understand partial functional dependencies, let's have a look at the following example:\n",
    "\n",
    "| EMPLOYEE_ID|\tNAME|\tJOB_CODE|\tJOB|\tPROVINCE_CODE|\tHOME_PROVINCE|\n",
    "| --- | --- | --- | --- | --- | --- |\n",
    "|E001|\tAlice|\tJ01|\tChef|\t26\t|Gauteng|\n",
    "|E001|\tAlice|\tJ02|\tWaiter|\t26\t|Gauteng|\n",
    "|E002|\tBob|\tJ02|\tWaiter|\t56\t|Western Cape|\n",
    "|E002|\tBob|\tJ03|\tBartender|\t56|\tWestern Cape|\n",
    "|E003|\tAlice|\tJ01|\tChef\t|56|\tWestern Cape|\n",
    "\n",
    "\n",
    "Here, both Employee_ID and Job_Code are 'candidate keys' - meaning they both have potential to become a primary key/unique identifier for the table (or, together they could for a composite primary key!) \n",
    "\n",
    "Columns like Name, Province_Code and Home_Province depend on the Employee_ID, but not the Job_Code. Similarly, Job depends on Job_Code, but not Employee_ID. This is a partial functional dependency. We can solve this by again, decomposing into smaller tables to eliminate any partial functional dependencies:\n",
    "\n",
    "**Employees table**\n",
    "\n",
    "|EMPLOYEE_ID|\tNAME|\tPROVINCE_CODE|\tHOME_PROVINCE|\n",
    "| --- | --- | --- | --- |\n",
    "|E001\t|Alice\t|26|\tGauteng|\n",
    "|E002\t|Bob\t|56|\tWestern Cape|\n",
    "|E003\t|Alice\t|56|\tWestern Cape|\n",
    "\n",
    "\n",
    "**Jobs table**\n",
    "\n",
    "|JOB_CODE\t|JOB|\n",
    "| --- | --- |\n",
    "|J01\t|Chef|\n",
    "|J02\t|Waiter|\n",
    "|J03\t|Bartender|\n",
    "\n",
    "\n",
    "**Employee_roles table**\n",
    "\n",
    "|EMPLOYEE_ID\t|JOB_CODE|\n",
    "| --- | --- |\n",
    "|E001\t|J01|\n",
    "|E001\t|J02|\n",
    "|E002\t|J02|\n",
    "|E002\t|J03|\n",
    "|E003\t|J01|\n",
    "\n",
    "\n",
    "2NF aims to reduce data redundancies - multiple employees may be working the same role. If we had a large company with 100 sales reps, we'd have to list the job title with every occurrence of the job code, which could take up unnecessary space.\n",
    "\n",
    "\n",
    "### 3NF\n",
    "\n",
    "In order to get data into 3NF, it needs to already be in 2NF, and we need to ensure that there are no *transitive functional dependencies* - this means that all columns should be **directly** dependent on the primary key ONLY. Let's have a look at the below table:\n",
    "\n",
    "**Employees table**\n",
    "\n",
    "|EMPLOYEE_ID|\tNAME|\tPROVINCE_CODE\t|HOME_PROVINCE|\n",
    "| --- | --- | --- | --- |\n",
    "|E001|\tAlice|\t26\t|Gauteng|\n",
    "|E002|\tBob|\t56\t|Western Cape|\n",
    "|E003|\tAlice|\t56\t|Western Cape|\n",
    "\n",
    "Here, the primary key is Employee_ID. The column Home_Province is *transitively dependent* on the primary key. This is because the employee's home province is related to the Employee_ID column *through* the Province_Code column. \n",
    "\n",
    "In order to get this into 3NF we can decompose the table into smaller tables:\n",
    "\n",
    "**Employees table**\n",
    "\n",
    "|EMPLOYEE_ID\t|NAME|\tPROVINCE_CODE|\n",
    "| --- | --- | --- | \n",
    "|E001|\tAlice|\t26|\n",
    "|E002|\tBob\t|56|\n",
    "|E003|\tAlice\t|56|\n",
    "\n",
    "\n",
    "**Provinces table**\n",
    "\n",
    "|PROVINCE_CODE\t|HOME_PROVINCE|\n",
    "| --- | --- |\n",
    "|26\t|Gauteng|\n",
    "|56\t|Western Cape|\n",
    "\n",
    "3NF helps to improve data integrity by ensuring all non-key columns are dependent on ONLY the primary key, and also helps to reduce data redundancy further. \n",
    "\n",
    "### BCNF, 4NF and further... [out of scope for this course!]\n",
    "\n",
    "We can take our database further than 3NF, but 3NF is a generally accepted state for solving normalisation problems and getting our data in a state that is efficient to work with. Anything further than 3NF is out of scope for this course, but if you're curious, you can read up on [BCNF](https://www.geeksforgeeks.org/boyce-codd-normal-form-bcnf/) and [4NF](https://www.geeksforgeeks.org/introduction-of-4th-and-5th-normal-form-in-dbms/)."
   ]
  },
  {
   "cell_type": "markdown",
   "id": "31b29926",
   "metadata": {},
   "source": [
    "## Next time:\n",
    "- Normalisation continued: looking at some code!\n",
    "- Predict introduction and explanation"
   ]
  },
  {
   "cell_type": "code",
   "execution_count": null,
   "id": "d8af7b4e",
   "metadata": {},
   "outputs": [],
   "source": []
  }
 ],
 "metadata": {
  "kernelspec": {
   "display_name": "Python 3 (ipykernel)",
   "language": "python",
   "name": "python3"
  },
  "language_info": {
   "codemirror_mode": {
    "name": "ipython",
    "version": 3
   },
   "file_extension": ".py",
   "mimetype": "text/x-python",
   "name": "python",
   "nbconvert_exporter": "python",
   "pygments_lexer": "ipython3",
   "version": "3.9.7"
  }
 },
 "nbformat": 4,
 "nbformat_minor": 5
}
