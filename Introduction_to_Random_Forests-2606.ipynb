{
 "cells": [
  {
   "cell_type": "markdown",
   "metadata": {},
   "source": [
    "# Introduction to Random Forests\n",
    "© Explore Data Science Academy"
   ]
  },
  {
   "cell_type": "markdown",
   "metadata": {},
   "source": [
    "## Learning Objectives\n",
    "In this train we learn how to:\n",
    "\n",
    "- Understand how random forests work;\n",
    "- Understand how random forests differ from decision trees; and\n",
    "- Understand how to use random forests to assess predictive variable importance.\n",
    "\n",
    "## Outline\n",
    "\n",
    "This train is structured as follows:\n",
    "\n",
    "- Introduce random forests;\n",
    "- Compare decision trees and random forests;\n",
    "- Tune random forest hyperparameters; and\n",
    "- Discuss predictive variable importance."
   ]
  },
  {
   "cell_type": "markdown",
   "metadata": {},
   "source": [
    "## Overfitting in Decision Trees\n",
    "\n",
    "Overfitting turns out to be a general property of decision trees: it is very easy to go too deep in the tree, and thus fit details of the individual data points rather than the overall properties of the distributions they are drawn from. This issue can be addressed by using **Random Forests**."
   ]
  },
  {
   "cell_type": "markdown",
   "metadata": {
    "colab_type": "text",
    "id": "xAZSY65Itu6q"
   },
   "source": [
    "## What is Ensemble Learning?\n",
    "\n",
    "Ensemble learning in machine learning is the practice of combining multiple models to try and achieve higher overall model performance. In general, ensembles consist of multiple **heterogeneous or homogeneous** models trained on the same dataset. Each of these models is used to make predictions on the same input, then these predictions are aggregated across all models in some way (e.g. by taking the mean) to produce the final output. A commonly used example of an ensemble model is a `Random Forest`.\n",
    "\n",
    "## What is a Random Forest?\n",
    "A random forest is a powerful non-parametric algorithm and as mentioned is an example of an **ensemble** method built on decision trees, meaning that it relies on aggregating the results of an ensemble of decision trees. The ensembled trees are randomized and the output is mean prediction of the individual trees*.\n",
    "\n",
    "*For a regression problem. As we will see in the next sprint, classification problems use the mode of the ensembled trees as opposed to the mean."
   ]
  },
  {
   "cell_type": "markdown",
   "metadata": {},
   "source": [
    "## How do Random Forests Work?\n",
    "\n",
    "### 1. Fitting data:\n",
    "\n",
    "Keep in mind that _N_ refers to the number of observations (rows) in the training dataset, and _p_ the number of predictor variables (columns). The following is the typical algorithm for a Random Forest:\n",
    "\n",
    "1. **Bootstrapping**: Drawing with replacement from the training dataset, randomly sample _N_ observations.\n",
    "2. Use the _N_ observations to grow a random forest tree as follows:<br>\n",
    "_<br>\n",
    "At each node:<br>\n",
    "i. Select a random subset, $m$, of predictor variables, where $m<\\sqrt{p}$.<br>\n",
    "ii. Pick the best variable/split-point among the selected predictor variables.<br>\n",
    "iii. Divide data into two subsets based on the selected split.<br>\n",
    "iv. Repeat until stopping criteria satisfied (e.g. minimum node sample size reached)._\n",
    "<br>\n",
    "3. Repeat until desired number of random forest trees is reached.\n",
    "\n",
    "Since we draw randomly, with replacement, from the training data during the bootstrapping step it is possible that:\n",
    "- Some data samples get resampled and thus reused when fitting different trees in the random forest;\n",
    "- Some data samples don't get sampled at all and thus do not get used in fitting the random forest.\n",
    "\n",
    "This means that the dataset each tree is grown on is slightly different, so random forests are less likely to overfit than decision trees.\n",
    "\n",
    "### 2. Making Predictions:\n",
    "\n"
   ]
  },
  {
   "cell_type": "markdown",
   "metadata": {
    "colab_type": "text",
    "id": "x0eZg6yxtu6t"
   },
   "source": [
    "Random forests combine multiple trees to make a prediction as follows:\n",
    "<img src=\"https://raw.githubusercontent.com/Explore-AI/Pictures/master/random_forest.png\">"
   ]
  },
  {
   "cell_type": "markdown",
   "metadata": {},
   "source": [
    "The somewhat surprising result with such ensemble methods is that the sum can be greater than the parts: that is, a majority vote among a number of estimators can end up being better than any of the individual estimators doing the voting! (An estimator is a tree.)"
   ]
  },
  {
   "cell_type": "markdown",
   "metadata": {},
   "source": [
    "## Building a Random Forest Regression Model\n",
    "Now that we have an understanding of how random forests work, let's implement one using scikit-learn.   "
   ]
  },
  {
   "cell_type": "code",
   "execution_count": 1,
   "metadata": {},
   "outputs": [],
   "source": [
    "import pandas as pd\n",
    "import numpy as np\n",
    "import matplotlib.pyplot as plt"
   ]
  },
  {
   "cell_type": "code",
   "execution_count": 2,
   "metadata": {},
   "outputs": [
    {
     "data": {
      "image/png": "[encoded data removed]",
      "text/plain": [
       "<Figure size 432x288 with 1 Axes>"
      ]
     },
     "metadata": {
      "needs_background": "light"
     },
     "output_type": "display_data"
    }
   ],
   "source": [
    "df = pd.read_csv(\"https://raw.githubusercontent.com/Explore-AI/Public-Data/master/house_price_by_area.csv\")\n",
    "\n",
    "X = df[\"LotArea\"] # independent variable \n",
    "y = df[\"SalePrice\"] # dependent variable \n",
    "\n",
    "plt.scatter(X,y) # create scatter plot\n",
    "plt.title(\"House Price vs Area\")\n",
    "plt.xlabel(\"Lot Area\")\n",
    "plt.ylabel(\"Sale Price\")\n",
    "plt.show()"
   ]
  },
  {
   "cell_type": "markdown",
   "metadata": {},
   "source": [
    "### Preprocessing"
   ]
  },
  {
   "cell_type": "code",
   "execution_count": 3,
   "metadata": {},
   "outputs": [],
   "source": [
    "from sklearn.preprocessing import StandardScaler \n",
    "from sklearn.model_selection import train_test_split\n",
    "\n",
    "# standardize features\n",
    "scaler = StandardScaler()\n",
    "X_scaled = scaler.fit_transform(X[:,np.newaxis])\n",
    "\n",
    "# Train test split\n",
    "x_train, x_test, y_train,y_test = train_test_split(X_scaled,y,test_size=0.2,random_state=6)"
   ]
  },
  {
   "cell_type": "markdown",
   "metadata": {
    "colab_type": "text",
    "id": "_MxzR9oatu7d"
   },
   "source": [
    "### Training"
   ]
  },
  {
   "cell_type": "markdown",
   "metadata": {
    "colab_type": "text",
    "id": "32kMQl_ktu7e"
   },
   "source": [
    "This process of fitting a decision tree to our data can be done in Scikit-Learn with the ``RandomForestRegressor`` estimator:\n",
    "\n",
    "As with decision trees, random forests also have hyperparameters, some of the more important ones include:\n",
    "\n",
    "- **n_estimators**: The number of trees to include in forest\n",
    "- **min_samples_leaf**: The minimum number of samples required to be at a leaf node\n",
    "- **max_depth**: The maximum depth of each forest tree (i.e. the number of nodes between root and leaf node).\n",
    "- **random_state**: A number used to seed the random number generator. Ensures that we get the same tree each time we call model.fit() - _this particular hyperparameter is important in random forests since their training procedure is inherently random._\n",
    "- **criterion**: The function to measure the quality of a split. The model uses the Mean Square Error (mse) by default.\n",
    "\n",
    "To learn more about other RandomForestRegressor hyperparameters, run `help(RandomForestRegressor)` in a new cell."
   ]
  },
  {
   "cell_type": "code",
   "execution_count": 11,
   "metadata": {},
   "outputs": [
    {
     "data": {
      "text/plain": [
       "RandomForestRegressor(bootstrap=True, ccp_alpha=0.0, criterion='mse',\n",
       "                      max_depth=5, max_features='auto', max_leaf_nodes=None,\n",
       "                      max_samples=None, min_impurity_decrease=0.0,\n",
       "                      min_impurity_split=None, min_samples_leaf=1,\n",
       "                      min_samples_split=2, min_weight_fraction_leaf=0.0,\n",
       "                      n_estimators=100, n_jobs=None, oob_score=False,\n",
       "                      random_state=None, verbose=0, warm_start=False)"
      ]
     },
     "execution_count": 11,
     "metadata": {},
     "output_type": "execute_result"
    }
   ],
   "source": [
    "from sklearn.ensemble import RandomForestRegressor\n",
    "\n",
    "# Our forest consists of 100 trees with a max depth of 5 in this example\n",
    "RF = RandomForestRegressor(n_estimators=100, max_depth=5)\n",
    "RF.fit(x_train,y_train)"
   ]
  },
  {
   "cell_type": "markdown",
   "metadata": {},
   "source": [
    "### Testing\n",
    "To evaluate the performance of our model, we can report the mean square error or plot predicted output vs expected output."
   ]
  },
  {
   "cell_type": "code",
   "execution_count": 12,
   "metadata": {},
   "outputs": [],
   "source": [
    "from sklearn.metrics import mean_squared_error"
   ]
  },
  {
   "cell_type": "code",
   "execution_count": 13,
   "metadata": {},
   "outputs": [
    {
     "name": "stdout",
     "output_type": "stream",
     "text": [
      "RMSE: 596644.9742378085\n"
     ]
    }
   ],
   "source": [
    "# Get predictions\n",
    "y_pred = RF.predict(x_test)\n",
    "\n",
    "# Compute RMSE\n",
    "print(\"RMSE:\",np.sqrt(mean_squared_error(y_test,y_pred)))"
   ]
  },
  {
   "cell_type": "markdown",
   "metadata": {},
   "source": [
    "Actual vs Expected"
   ]
  },
  {
   "cell_type": "code",
   "execution_count": 14,
   "metadata": {},
   "outputs": [
    {
     "data": {
      "image/png": "[encoded data removed]",
      "text/plain": [
       "<Figure size 360x360 with 1 Axes>"
      ]
     },
     "metadata": {
      "needs_background": "light"
     },
     "output_type": "display_data"
    }
   ],
   "source": [
    "# Create figure and axes\n",
    "f, ax = plt.subplots(figsize=(5,5))\n",
    "\n",
    "# Plot on axes\n",
    "ax.set_title('Actual vs Predicted')\n",
    "ax.set_xlabel('Actual')\n",
    "ax.set_ylabel('Predicted')\n",
    "ax.scatter(y_test,y_pred)\n",
    "ax.plot(y_test,y_test,'r')\n",
    "plt.show()"
   ]
  },
  {
   "cell_type": "markdown",
   "metadata": {},
   "source": [
    "### Random forests vs. Other Models"
   ]
  },
  {
   "cell_type": "code",
   "execution_count": 23,
   "metadata": {},
   "outputs": [
    {
     "data": {
      "text/plain": [
       "DecisionTreeRegressor(ccp_alpha=0.0, criterion='mse', max_depth=5,\n",
       "                      max_features=None, max_leaf_nodes=None,\n",
       "                      min_impurity_decrease=0.0, min_impurity_split=None,\n",
       "                      min_samples_leaf=1, min_samples_split=2,\n",
       "                      min_weight_fraction_leaf=0.0, presort='deprecated',\n",
       "                      random_state=None, splitter='best')"
      ]
     },
     "execution_count": 23,
     "metadata": {},
     "output_type": "execute_result"
    }
   ],
   "source": [
    "# Fit regression decision tree model\n",
    "from sklearn.tree import DecisionTreeRegressor\n",
    "DT = DecisionTreeRegressor(max_depth=5)\n",
    "DT.fit(x_train,y_train)"
   ]
  },
  {
   "cell_type": "code",
   "execution_count": 24,
   "metadata": {},
   "outputs": [
    {
     "data": {
      "text/plain": [
       "LinearRegression(copy_X=True, fit_intercept=True, n_jobs=None, normalize=False)"
      ]
     },
     "execution_count": 24,
     "metadata": {},
     "output_type": "execute_result"
    }
   ],
   "source": [
    "# Fit linear regression model\n",
    "from sklearn.linear_model import LinearRegression\n",
    "LR = LinearRegression(fit_intercept=True)\n",
    "LR.fit(x_train,y_train)"
   ]
  },
  {
   "cell_type": "code",
   "execution_count": 21,
   "metadata": {},
   "outputs": [
    {
     "data": {
      "image/png": "[encoded data removed]",
      "text/plain": [
       "<Figure size 1080x360 with 3 Axes>"
      ]
     },
     "metadata": {
      "needs_background": "light"
     },
     "output_type": "display_data"
    }
   ],
   "source": [
    "# Create figure and axes\n",
    "f, ax = plt.subplots(figsize=(15,5), nrows=1, ncols=3, sharey=True)\n",
    "\n",
    "# Create list of titles and predictions to use in for loop\n",
    "pred = [LR.predict(x_test), DT.predict(x_test), RF.predict(x_test)]\n",
    "title = ['Linear Regression','Decision tree', 'Random Forest']\n",
    "\n",
    "# Loop through all axes to plot each model's results \n",
    "for i in range(3):\n",
    "    rmse = round(np.sqrt(mean_squared_error(pred[i],y_test)))\n",
    "    ax[i].set_title(title[i]+\"  (RMSE: \"+str(rmse)+ \")\")\n",
    "    ax[i].set_xlabel('Actual')\n",
    "    ax[i].set_ylabel('Predicted')\n",
    "    ax[i].plot(y_test,y_test,'r')\n",
    "    ax[i].scatter(y_test,pred[i]) "
   ]
  },
  {
   "cell_type": "markdown",
   "metadata": {},
   "source": [
    "### Tuning Model Hyperparameters \n",
    "\n",
    "In most cases, the default hyperpameter values do not offer the best model performance. In such cases, we have to tune model hyperparameters to yield the the best performing model.\n",
    "\n",
    "Let's make some changes to the `n_estimators` parameter and compare the results:"
   ]
  },
  {
   "cell_type": "markdown",
   "metadata": {
    "colab_type": "text",
    "id": "K4qOhtnYtu8L"
   },
   "source": [
    "#### Model Training"
   ]
  },
  {
   "cell_type": "code",
   "execution_count": 65,
   "metadata": {
    "colab": {},
    "colab_type": "code",
    "id": "0OvjNb7Xtu8M"
   },
   "outputs": [],
   "source": [
    "# 2 trees in forest\n",
    "forest_1 = RandomForestRegressor(n_estimators=2, max_depth=5, random_state=23)\n",
    "\n",
    "# 20 trees in forest\n",
    "forest_2 = RandomForestRegressor(n_estimators=20, max_depth=5, random_state=23)\n",
    "\n",
    "# 100 trees in forest\n",
    "forest_3 = RandomForestRegressor(n_estimators=100, max_depth=5, random_state=23)"
   ]
  },
  {
   "cell_type": "code",
   "execution_count": 66,
   "metadata": {
    "colab": {},
    "colab_type": "code",
    "id": "8TO47N_otu8S",
    "outputId": "ae71f107-14f7-468e-ae79-fee220a2f9bf"
   },
   "outputs": [
    {
     "data": {
      "text/plain": [
       "RandomForestRegressor(bootstrap=True, ccp_alpha=0.0, criterion='mse',\n",
       "                      max_depth=5, max_features='auto', max_leaf_nodes=None,\n",
       "                      max_samples=None, min_impurity_decrease=0.0,\n",
       "                      min_impurity_split=None, min_samples_leaf=1,\n",
       "                      min_samples_split=2, min_weight_fraction_leaf=0.0,\n",
       "                      n_estimators=2, n_jobs=None, oob_score=False,\n",
       "                      random_state=23, verbose=0, warm_start=False)"
      ]
     },
     "execution_count": 66,
     "metadata": {},
     "output_type": "execute_result"
    }
   ],
   "source": [
    "forest_1.fit(x_train, y_train)"
   ]
  },
  {
   "cell_type": "code",
   "execution_count": 67,
   "metadata": {
    "colab": {},
    "colab_type": "code",
    "id": "Nj75hy8Dtu8V",
    "outputId": "d2a972f8-588f-4391-9672-2ca57016582d"
   },
   "outputs": [
    {
     "data": {
      "text/plain": [
       "RandomForestRegressor(bootstrap=True, ccp_alpha=0.0, criterion='mse',\n",
       "                      max_depth=5, max_features='auto', max_leaf_nodes=None,\n",
       "                      max_samples=None, min_impurity_decrease=0.0,\n",
       "                      min_impurity_split=None, min_samples_leaf=1,\n",
       "                      min_samples_split=2, min_weight_fraction_leaf=0.0,\n",
       "                      n_estimators=20, n_jobs=None, oob_score=False,\n",
       "                      random_state=23, verbose=0, warm_start=False)"
      ]
     },
     "execution_count": 67,
     "metadata": {},
     "output_type": "execute_result"
    }
   ],
   "source": [
    "forest_2.fit(x_train, y_train)"
   ]
  },
  {
   "cell_type": "code",
   "execution_count": 68,
   "metadata": {
    "colab": {},
    "colab_type": "code",
    "id": "xOE-L1fltu8Z",
    "outputId": "dc40b137-be6e-406f-c881-27708c37d4de"
   },
   "outputs": [
    {
     "data": {
      "text/plain": [
       "RandomForestRegressor(bootstrap=True, ccp_alpha=0.0, criterion='mse',\n",
       "                      max_depth=5, max_features='auto', max_leaf_nodes=None,\n",
       "                      max_samples=None, min_impurity_decrease=0.0,\n",
       "                      min_impurity_split=None, min_samples_leaf=1,\n",
       "                      min_samples_split=2, min_weight_fraction_leaf=0.0,\n",
       "                      n_estimators=100, n_jobs=None, oob_score=False,\n",
       "                      random_state=23, verbose=0, warm_start=False)"
      ]
     },
     "execution_count": 68,
     "metadata": {},
     "output_type": "execute_result"
    }
   ],
   "source": [
    "forest_3.fit(x_train, y_train)"
   ]
  },
  {
   "cell_type": "markdown",
   "metadata": {
    "colab_type": "text",
    "id": "mSswdvf8tu8h"
   },
   "source": [
    "#### Model Evaluation"
   ]
  },
  {
   "cell_type": "markdown",
   "metadata": {
    "colab_type": "text",
    "id": "jShwPOIZtu8j"
   },
   "source": [
    "Actual vs Expected"
   ]
  },
  {
   "cell_type": "code",
   "execution_count": 70,
   "metadata": {
    "colab": {},
    "colab_type": "code",
    "id": "5cqKYoEVtu8j",
    "outputId": "3d4aefa5-ca1e-43b6-b2cf-eb8a22c56f35"
   },
   "outputs": [
    {
     "data": {
      "image/png": "[encoded data removed]",
      "text/plain": [
       "<Figure size 1080x360 with 3 Axes>"
      ]
     },
     "metadata": {
      "needs_background": "light"
     },
     "output_type": "display_data"
    }
   ],
   "source": [
    "# Create figure and axes\n",
    "f, ax = plt.subplots(figsize=(15,5), nrows=1, ncols=3,sharey=True)\n",
    "\n",
    "# Create list of titles and predictions to use in for loop\n",
    "pred = [forest_1.predict(x_test), forest_2.predict(x_test), forest_3.predict(x_test)]\n",
    "title = ['trees = 2', 'trees = 20', 'trees = 100']\n",
    "\n",
    "# Loop through all axes to plot each model's results \n",
    "for i in range(3):\n",
    "    rmse = round(np.sqrt(mean_squared_error(pred[i],y_test)))\n",
    "    ax[i].set_title(title[i]+\"  (RMSE: \"+str(rmse)+ \")\")\n",
    "    ax[i].set_xlabel('Actual')\n",
    "    ax[i].set_ylabel('Predicted')\n",
    "    ax[i].plot(y_test,y_test,'r')\n",
    "    ax[i].scatter(y_test,pred[i]) "
   ]
  },
  {
   "cell_type": "markdown",
   "metadata": {},
   "source": [
    "Looking at the RMSEs, the forest with 20 trees performed the best. Can you find the optimal parameters (including `max_depth` and `min_samples_leaf`)?"
   ]
  },
  {
   "cell_type": "markdown",
   "metadata": {},
   "source": [
    "## Assessing Variable Importance\n",
    "\n",
    "Knowing the **predictive power** (how different predictive variables affect the model's performance) can prove useful in cases where the dataset is large and high-dimensional since it allows us to establish which predictive variables we can discard without significantly affecting the model's performance. Additionally, models that are presented with fewer predictor variables tend to train faster.  \n",
    "\n",
    "Unlike decision trees, random forests can be used to calculate a measure of predictor variable importance. One way to compute this measure in the regression setting is to use the training data that was left out when constructing the random forest. Then the variable importance for a given variable can be calculated by:\n",
    "\n",
    "1. Keeping other variables the same;\n",
    "2. Shuffling the value of the variable in question;\n",
    "3. Calculating the percentage increase in MSE.  \n",
    "\n",
    "This way, more important variables will have higher percentage increases in the MSE.\n",
    "\n",
    "In Sklearn's `RandomForestRegressor`, we can easily obtain variable importances using:\n",
    "    `model.feature_importances_`"
   ]
  },
  {
   "cell_type": "markdown",
   "metadata": {
    "colab_type": "text",
    "id": "yVf5dAxItu8t"
   },
   "source": [
    "## Advantages & Disadvantages of Random Forests"
   ]
  },
  {
   "cell_type": "markdown",
   "metadata": {
    "colab_type": "text",
    "id": "VmQBs8yVtu8w"
   },
   "source": [
    "**Advantages**\n",
    "\n",
    "* Less overfitting compared to a single tree (i.e. generalizes much better);\n",
    "* Requires little data preparation - e.g. no real need to standardize features;\n",
    "* Extremely flexible and usually have high prediction accuracy.\n",
    "\n",
    "**Disadvantages**\n",
    "\n",
    "* Complex and not very intuitive;\n",
    "* Computation cost can be high if many trees used."
   ]
  },
  {
   "cell_type": "markdown",
   "metadata": {
    "colab_type": "text",
    "collapsed": true,
    "id": "FA91P4PCtu8y"
   },
   "source": [
    "## Conclusion\n",
    "\n",
    "That's the end of this train, you should now be familiar with:\n",
    "- Random forests and how they compare to decision trees;\n",
    "- Tuning Random forest hyperparameters;\n",
    "- Assessing predictive variable importance."
   ]
  },
  {
   "cell_type": "markdown",
   "metadata": {},
   "source": [
    "## Appendix \n",
    "Links to additional resources to help with the understanding of concepts presented in the train: \n",
    "\n",
    "- [An indepth look into Random forests](https://towardsdatascience.com/an-implementation-and-explanation-of-the-random-forest-in-python-77bf308a9b76)"
   ]
  }
 ],
 "metadata": {
  "kernelspec": {
   "display_name": "Python 3",
   "language": "python",
   "name": "python3"
  },
  "language_info": {
   "codemirror_mode": {
    "name": "ipython",
    "version": 3
   },
   "file_extension": ".py",
   "mimetype": "text/x-python",
   "name": "python",
   "nbconvert_exporter": "python",
   "pygments_lexer": "ipython3",
   "version": "3.7.4"
  }
 },
 "nbformat": 4,
 "nbformat_minor": 4
}
